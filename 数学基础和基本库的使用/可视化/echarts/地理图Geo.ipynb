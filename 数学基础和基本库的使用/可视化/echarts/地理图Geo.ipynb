{
 "metadata": {
  "language_info": {
   "codemirror_mode": {
    "name": "ipython",
    "version": 3
   },
   "file_extension": ".py",
   "mimetype": "text/x-python",
   "name": "python",
   "nbconvert_exporter": "python",
   "pygments_lexer": "ipython3",
   "version": "3.7.6-final"
  },
  "orig_nbformat": 2,
  "kernelspec": {
   "name": "python_defaultSpec_1598362042778",
   "display_name": "Python 3.7.6 64-bit ('anaconda3': virtualenv)"
  }
 },
 "nbformat": 4,
 "nbformat_minor": 2,
 "cells": [
  {
   "cell_type": "code",
   "execution_count": 13,
   "metadata": {
    "tags": []
   },
   "outputs": [
    {
     "output_type": "stream",
     "name": "stderr",
     "text": "/home/ulysses/anaconda3/lib/python3.7/site-packages/pyecharts/charts/chart.py:14: PendingDeprecationWarning: pyecharts 所有图表类型将在 v1.9.0 版本开始强制使用 ChartItem 进行数据项配置 :)\n  super().__init__(init_opts=init_opts)\n"
    },
    {
     "output_type": "execute_result",
     "data": {
      "text/plain": "<pyecharts.render.display.HTML at 0x7f4b16466fd0>",
      "text/html": "\n<script>\n    require.config({\n        paths: {\n            'echarts':'https://assets.pyecharts.org/assets/echarts.min', 'china':'https://assets.pyecharts.org/assets/maps/china'\n        }\n    });\n</script>\n\n        <div id=\"3d3e0a51f5334157918ad22e5ce0b4c2\" style=\"width:900px; height:500px;\"></div>\n\n<script>\n        require(['echarts', 'china'], function(echarts) {\n                var chart_3d3e0a51f5334157918ad22e5ce0b4c2 = echarts.init(\n                    document.getElementById('3d3e0a51f5334157918ad22e5ce0b4c2'), 'white', {renderer: 'canvas'});\n                var option_3d3e0a51f5334157918ad22e5ce0b4c2 = {\n    \"animation\": true,\n    \"animationThreshold\": 2000,\n    \"animationDuration\": 1000,\n    \"animationEasing\": \"cubicOut\",\n    \"animationDelay\": 0,\n    \"animationDurationUpdate\": 300,\n    \"animationEasingUpdate\": \"cubicOut\",\n    \"animationDelayUpdate\": 0,\n    \"color\": [\n        \"#c23531\",\n        \"#2f4554\",\n        \"#61a0a8\",\n        \"#d48265\",\n        \"#749f83\",\n        \"#ca8622\",\n        \"#bda29a\",\n        \"#6e7074\",\n        \"#546570\",\n        \"#c4ccd3\",\n        \"#f05b72\",\n        \"#ef5b9c\",\n        \"#f47920\",\n        \"#905a3d\",\n        \"#fab27b\",\n        \"#2a5caa\",\n        \"#444693\",\n        \"#726930\",\n        \"#b2d235\",\n        \"#6d8346\",\n        \"#ac6767\",\n        \"#1d953f\",\n        \"#6950a1\",\n        \"#918597\"\n    ],\n    \"series\": [\n        {\n            \"type\": \"effectScatter\",\n            \"name\": \"geo\",\n            \"coordinateSystem\": \"geo\",\n            \"showEffectOn\": \"render\",\n            \"rippleEffect\": {\n                \"show\": true,\n                \"brushType\": \"stroke\",\n                \"scale\": 2.5,\n                \"period\": 4\n            },\n            \"symbolSize\": 12,\n            \"data\": [\n                {\n                    \"name\": \"\\u5e7f\\u4e1c\",\n                    \"value\": [\n                        113.26653,\n                        23.132191,\n                        99\n                    ]\n                },\n                {\n                    \"name\": \"\\u5317\\u4eac\",\n                    \"value\": [\n                        116.407526,\n                        39.90403,\n                        125\n                    ]\n                },\n                {\n                    \"name\": \"\\u4e0a\\u6d77\",\n                    \"value\": [\n                        121.473701,\n                        31.230416,\n                        98\n                    ]\n                },\n                {\n                    \"name\": \"\\u6c5f\\u897f\",\n                    \"value\": [\n                        115.909228,\n                        28.675696,\n                        98\n                    ]\n                },\n                {\n                    \"name\": \"\\u6e56\\u5357\",\n                    \"value\": [\n                        112.98381,\n                        28.112444,\n                        71\n                    ]\n                },\n                {\n                    \"name\": \"\\u6d59\\u6c5f\",\n                    \"value\": [\n                        120.152791,\n                        30.267446,\n                        112\n                    ]\n                },\n                {\n                    \"name\": \"\\u6c5f\\u82cf\",\n                    \"value\": [\n                        118.763232,\n                        32.061707,\n                        34\n                    ]\n                }\n            ],\n            \"label\": {\n                \"show\": false,\n                \"position\": \"top\",\n                \"margin\": 8\n            }\n        }\n    ],\n    \"legend\": [\n        {\n            \"data\": [\n                \"geo\"\n            ],\n            \"selected\": {\n                \"geo\": true\n            },\n            \"show\": true,\n            \"padding\": 5,\n            \"itemGap\": 10,\n            \"itemWidth\": 25,\n            \"itemHeight\": 14\n        }\n    ],\n    \"tooltip\": {\n        \"show\": true,\n        \"trigger\": \"item\",\n        \"triggerOn\": \"mousemove|click\",\n        \"axisPointer\": {\n            \"type\": \"line\"\n        },\n        \"showContent\": true,\n        \"alwaysShowContent\": false,\n        \"showDelay\": 0,\n        \"hideDelay\": 100,\n        \"formatter\": function (params) {        return params.name + ' : ' + params.value[2];    },\n        \"textStyle\": {\n            \"fontSize\": 14\n        },\n        \"borderWidth\": 0,\n        \"padding\": 5\n    },\n    \"title\": [\n        {\n            \"text\": \"Geo-\\u57fa\\u672c\\u793a\\u4f8b\",\n            \"padding\": 5,\n            \"itemGap\": 10\n        }\n    ],\n    \"visualMap\": {\n        \"show\": true,\n        \"type\": \"piecewise\",\n        \"min\": 0,\n        \"max\": 100,\n        \"inRange\": {\n            \"color\": [\n                \"#50a3ba\",\n                \"#eac763\",\n                \"#d94e5d\"\n            ]\n        },\n        \"calculable\": true,\n        \"inverse\": false,\n        \"splitNumber\": 5,\n        \"orient\": \"vertical\",\n        \"showLabel\": true,\n        \"itemWidth\": 20,\n        \"itemHeight\": 14,\n        \"borderWidth\": 0\n    },\n    \"geo\": {\n        \"map\": \"china\",\n        \"roam\": true,\n        \"emphasis\": {}\n    }\n};\n                chart_3d3e0a51f5334157918ad22e5ce0b4c2.setOption(option_3d3e0a51f5334157918ad22e5ce0b4c2);\n        });\n    </script>\n"
     },
     "metadata": {},
     "execution_count": 13
    }
   ],
   "source": [
    "from pyecharts import options as opts\n",
    "from pyecharts.charts import Geo\n",
    "from pyecharts.faker import Faker\n",
    "\n",
    "c = Geo() \\\n",
    "    .add_schema(maptype='china') \\\n",
    "    .add(\n",
    "        'geo', \n",
    "        [list(z) for z in zip(Faker.provinces, Faker.values())],\n",
    "        type_=ChartType.EFFECT_SCATTER\n",
    "        ) \\\n",
    "    .set_series_opts(label_opts=opts.LabelOpts(is_show=False)) \\\n",
    "    .set_global_opts(\n",
    "        visualmap_opts=opts.VisualMapOpts(is_piecewise=True),\n",
    "        title_opts=opts.TitleOpts(title='Geo-基本示例')\n",
    "        )\n",
    "c.render_notebook()"
   ]
  },
  {
   "cell_type": "code",
   "execution_count": 3,
   "metadata": {
    "tags": []
   },
   "outputs": [
    {
     "output_type": "stream",
     "name": "stderr",
     "text": "/home/ulysses/anaconda3/lib/python3.7/site-packages/pyecharts/charts/chart.py:14: PendingDeprecationWarning: pyecharts 所有图表类型将在 v1.9.0 版本开始强制使用 ChartItem 进行数据项配置 :)\n  super().__init__(init_opts=init_opts)\n"
    },
    {
     "output_type": "execute_result",
     "data": {
      "text/plain": "<pyecharts.render.display.HTML at 0x7f4b175afb90>",
      "text/html": "\n<script>\n    require.config({\n        paths: {\n            'echarts':'https://assets.pyecharts.org/assets/echarts.min', 'china':'https://assets.pyecharts.org/assets/maps/china'\n        }\n    });\n</script>\n\n        <div id=\"b35f8bbc35ef454f9853c3f0ba34ee90\" style=\"width:900px; height:500px;\"></div>\n\n<script>\n        require(['echarts', 'china'], function(echarts) {\n                var chart_b35f8bbc35ef454f9853c3f0ba34ee90 = echarts.init(\n                    document.getElementById('b35f8bbc35ef454f9853c3f0ba34ee90'), 'white', {renderer: 'canvas'});\n                var option_b35f8bbc35ef454f9853c3f0ba34ee90 = {\n    \"animation\": true,\n    \"animationThreshold\": 2000,\n    \"animationDuration\": 1000,\n    \"animationEasing\": \"cubicOut\",\n    \"animationDelay\": 0,\n    \"animationDurationUpdate\": 300,\n    \"animationEasingUpdate\": \"cubicOut\",\n    \"animationDelayUpdate\": 0,\n    \"color\": [\n        \"white\",\n        \"#c23531\",\n        \"#2f4554\",\n        \"#61a0a8\",\n        \"#d48265\",\n        \"#749f83\",\n        \"#ca8622\",\n        \"#bda29a\",\n        \"#6e7074\",\n        \"#546570\",\n        \"#c4ccd3\",\n        \"#f05b72\",\n        \"#ef5b9c\",\n        \"#f47920\",\n        \"#905a3d\",\n        \"#fab27b\",\n        \"#2a5caa\",\n        \"#444693\",\n        \"#726930\",\n        \"#b2d235\",\n        \"#6d8346\",\n        \"#ac6767\",\n        \"#1d953f\",\n        \"#6950a1\",\n        \"#918597\"\n    ],\n    \"series\": [\n        {\n            \"type\": \"effectScatter\",\n            \"coordinateSystem\": \"geo\",\n            \"showEffectOn\": \"render\",\n            \"rippleEffect\": {\n                \"show\": true,\n                \"brushType\": \"stroke\",\n                \"scale\": 2.5,\n                \"period\": 4\n            },\n            \"symbolSize\": 12,\n            \"data\": [\n                {\n                    \"name\": \"\\u5e7f\\u5dde\",\n                    \"value\": [\n                        113.23,\n                        23.16,\n                        55\n                    ]\n                },\n                {\n                    \"name\": \"\\u5317\\u4eac\",\n                    \"value\": [\n                        116.407526,\n                        39.90403,\n                        66\n                    ]\n                },\n                {\n                    \"name\": \"\\u676d\\u5dde\",\n                    \"value\": [\n                        120.19,\n                        30.26,\n                        77\n                    ]\n                },\n                {\n                    \"name\": \"\\u91cd\\u5e86\",\n                    \"value\": [\n                        106.551556,\n                        29.563009,\n                        88\n                    ]\n                }\n            ],\n            \"label\": {\n                \"show\": false,\n                \"position\": \"top\",\n                \"margin\": 8\n            }\n        },\n        {\n            \"type\": \"lines\",\n            \"name\": \"geo\",\n            \"coordinateSystem\": \"geo\",\n            \"zlevel\": 3,\n            \"progressive\": 400,\n            \"progressiveThreshold\": 3000,\n            \"effect\": {\n                \"show\": true,\n                \"brushType\": \"stroke\",\n                \"scale\": 2.5,\n                \"period\": 4,\n                \"color\": \"blue\",\n                \"symbol\": \"arrow\",\n                \"symbolSize\": 6\n            },\n            \"symbol\": [\n                \"none\",\n                \"arrow\"\n            ],\n            \"polyline\": false,\n            \"large\": false,\n            \"largeThreshold\": 2000,\n            \"symbolSize\": 12,\n            \"data\": [\n                {\n                    \"name\": \"\\u5e7f\\u5dde->\\u4e0a\\u6d77\",\n                    \"coords\": [\n                        [\n                            113.23,\n                            23.16\n                        ],\n                        [\n                            121.473701,\n                            31.230416\n                        ]\n                    ]\n                },\n                {\n                    \"name\": \"\\u5e7f\\u5dde->\\u5317\\u4eac\",\n                    \"coords\": [\n                        [\n                            113.23,\n                            23.16\n                        ],\n                        [\n                            116.407526,\n                            39.90403\n                        ]\n                    ]\n                },\n                {\n                    \"name\": \"\\u5e7f\\u5dde->\\u676d\\u5dde\",\n                    \"coords\": [\n                        [\n                            113.23,\n                            23.16\n                        ],\n                        [\n                            120.19,\n                            30.26\n                        ]\n                    ]\n                },\n                {\n                    \"name\": \"\\u5e7f\\u5dde->\\u91cd\\u5e86\",\n                    \"coords\": [\n                        [\n                            113.23,\n                            23.16\n                        ],\n                        [\n                            106.551556,\n                            29.563009\n                        ]\n                    ]\n                }\n            ],\n            \"lineStyle\": {\n                \"show\": true,\n                \"width\": 1,\n                \"opacity\": 1,\n                \"curveness\": 0.2,\n                \"type\": \"solid\"\n            },\n            \"label\": {\n                \"show\": false,\n                \"position\": \"top\",\n                \"margin\": 8\n            },\n            \"rippleEffect\": {\n                \"show\": true,\n                \"brushType\": \"stroke\",\n                \"scale\": 2.5,\n                \"period\": 4\n            }\n        }\n    ],\n    \"legend\": [\n        {\n            \"data\": [\n                \"\",\n                \"geo\"\n            ],\n            \"selected\": {\n                \"\": true,\n                \"geo\": true\n            },\n            \"show\": true,\n            \"padding\": 5,\n            \"itemGap\": 10,\n            \"itemWidth\": 25,\n            \"itemHeight\": 14\n        }\n    ],\n    \"tooltip\": {\n        \"show\": true,\n        \"trigger\": \"item\",\n        \"triggerOn\": \"mousemove|click\",\n        \"axisPointer\": {\n            \"type\": \"line\"\n        },\n        \"showContent\": true,\n        \"alwaysShowContent\": false,\n        \"showDelay\": 0,\n        \"hideDelay\": 100,\n        \"formatter\": function (params) {        return params.name + ' : ' + params.value[2];    },\n        \"textStyle\": {\n            \"fontSize\": 14\n        },\n        \"borderWidth\": 0,\n        \"padding\": 5\n    },\n    \"title\": [\n        {\n            \"text\": \"Geo-Lines\",\n            \"padding\": 5,\n            \"itemGap\": 10\n        }\n    ],\n    \"geo\": {\n        \"map\": \"china\",\n        \"roam\": true,\n        \"itemStyle\": {\n            \"color\": \"#323c48\",\n            \"borderColor\": \"#111\"\n        },\n        \"emphasis\": {}\n    }\n};\n                chart_b35f8bbc35ef454f9853c3f0ba34ee90.setOption(option_b35f8bbc35ef454f9853c3f0ba34ee90);\n        });\n    </script>\n"
     },
     "metadata": {},
     "execution_count": 3
    }
   ],
   "source": [
    "from pyecharts import options as opts\n",
    "from pyecharts.charts import Geo\n",
    "from pyecharts.globals import ChartType, SymbolType\n",
    "\n",
    "c = Geo() \\\n",
    "    .add_schema(\n",
    "        maptype='china',\n",
    "        # 设置background\n",
    "        itemstyle_opts=opts.ItemStyleOpts(color='#323c48', border_color='#111')\n",
    "        ) \\\n",
    "    .add(\n",
    "        \"\",\n",
    "        [(\"广州\", 55), (\"北京\", 66), (\"杭州\", 77), (\"重庆\", 88)],  # 数据项 (坐标点名称，坐标点值)\n",
    "        type_=ChartType.EFFECT_SCATTER,\n",
    "        color='white'\n",
    "    ) \\\n",
    "    .add(\n",
    "        \"geo\",\n",
    "        [(\"广州\", \"上海\"), (\"广州\", \"北京\"), (\"广州\", \"杭州\"), (\"广州\", \"重庆\")],\n",
    "        type_=ChartType.LINES,\n",
    "        effect_opts=opts.EffectOpts(   # 涟漪特效配置项\n",
    "            symbol=SymbolType.ARROW, symbol_size=6, color='blue'\n",
    "        ),\n",
    "        linestyle_opts=opts.LineStyleOpts(curve=0.2)\n",
    "    ) \\\n",
    "    .set_series_opts(label_opts=opts.LabelOpts(is_show=False)) \\\n",
    "    .set_global_opts(title_opts=opts.TitleOpts(title='Geo-Lines'))\n",
    "c.render_notebook()"
   ]
  },
  {
   "cell_type": "code",
   "execution_count": 4,
   "metadata": {
    "tags": []
   },
   "outputs": [
    {
     "output_type": "stream",
     "name": "stderr",
     "text": "/home/ulysses/anaconda3/lib/python3.7/site-packages/pyecharts/charts/chart.py:14: PendingDeprecationWarning: pyecharts 所有图表类型将在 v1.9.0 版本开始强制使用 ChartItem 进行数据项配置 :)\n  super().__init__(init_opts=init_opts)\n"
    },
    {
     "output_type": "execute_result",
     "data": {
      "text/plain": "<pyecharts.render.display.HTML at 0x7f4b16c94e10>",
      "text/html": "\n<script>\n    require.config({\n        paths: {\n            'echarts':'https://assets.pyecharts.org/assets/echarts.min', '美国':'https://assets.pyecharts.org/assets/maps/USA'\n        }\n    });\n</script>\n\n        <div id=\"be03bc30e2214229b7034678a74430ca\" style=\"width:900px; height:500px;\"></div>\n\n<script>\n        require(['echarts', '美国'], function(echarts) {\n                var chart_be03bc30e2214229b7034678a74430ca = echarts.init(\n                    document.getElementById('be03bc30e2214229b7034678a74430ca'), 'white', {renderer: 'canvas'});\n                var option_be03bc30e2214229b7034678a74430ca = {\n    \"animation\": true,\n    \"animationThreshold\": 2000,\n    \"animationDuration\": 1000,\n    \"animationEasing\": \"cubicOut\",\n    \"animationDelay\": 0,\n    \"animationDurationUpdate\": 300,\n    \"animationEasingUpdate\": \"cubicOut\",\n    \"animationDelayUpdate\": 0,\n    \"color\": [\n        \"#c23531\",\n        \"#2f4554\",\n        \"#61a0a8\",\n        \"#d48265\",\n        \"#749f83\",\n        \"#ca8622\",\n        \"#bda29a\",\n        \"#6e7074\",\n        \"#546570\",\n        \"#c4ccd3\",\n        \"#f05b72\",\n        \"#ef5b9c\",\n        \"#f47920\",\n        \"#905a3d\",\n        \"#fab27b\",\n        \"#2a5caa\",\n        \"#444693\",\n        \"#726930\",\n        \"#b2d235\",\n        \"#6d8346\",\n        \"#ac6767\",\n        \"#1d953f\",\n        \"#6950a1\",\n        \"#918597\"\n    ],\n    \"series\": [],\n    \"legend\": [\n        {\n            \"data\": [],\n            \"selected\": {},\n            \"show\": true,\n            \"padding\": 5,\n            \"itemGap\": 10,\n            \"itemWidth\": 25,\n            \"itemHeight\": 14\n        }\n    ],\n    \"tooltip\": {\n        \"show\": true,\n        \"trigger\": \"item\",\n        \"triggerOn\": \"mousemove|click\",\n        \"axisPointer\": {\n            \"type\": \"line\"\n        },\n        \"showContent\": true,\n        \"alwaysShowContent\": false,\n        \"showDelay\": 0,\n        \"hideDelay\": 100,\n        \"formatter\": function (params) {        return params.name + ' : ' + params.value[2];    },\n        \"textStyle\": {\n            \"fontSize\": 14\n        },\n        \"borderWidth\": 0,\n        \"padding\": 5\n    },\n    \"title\": [\n        {\n            \"text\": \"\\u7f8e\\u56fd\",\n            \"padding\": 5,\n            \"itemGap\": 10\n        }\n    ],\n    \"geo\": {\n        \"map\": \"\\u7f8e\\u56fd\",\n        \"roam\": true,\n        \"emphasis\": {}\n    }\n};\n                chart_be03bc30e2214229b7034678a74430ca.setOption(option_be03bc30e2214229b7034678a74430ca);\n        });\n    </script>\n"
     },
     "metadata": {},
     "execution_count": 4
    }
   ],
   "source": [
    "from pyecharts import options as opts\n",
    "from pyecharts.charts import Geo\n",
    "from pyecharts.datasets import register_url\n",
    "\n",
    "try:\n",
    "    register_url('https://echarts-maps.github.io/echarts-countries-js/')\n",
    "except Exception:\n",
    "    import ssl\n",
    "    ssl._create_default_https_context = ssl._create_unverified_context\n",
    "    register_url(\"https://echarts-maps.github.io/echarts-countries-js/\")\n",
    "\n",
    "geo = Geo() \\\n",
    "    .add_schema(maptype='美国') \\\n",
    "    .set_global_opts(title_opts=opts.TitleOpts(title='美国'))\n",
    "geo.render_notebook()"
   ]
  },
  {
   "cell_type": "code",
   "execution_count": 12,
   "metadata": {
    "tags": []
   },
   "outputs": [
    {
     "output_type": "stream",
     "name": "stderr",
     "text": "/home/ulysses/anaconda3/lib/python3.7/site-packages/pyecharts/charts/chart.py:14: PendingDeprecationWarning: pyecharts 所有图表类型将在 v1.9.0 版本开始强制使用 ChartItem 进行数据项配置 :)\n  super().__init__(init_opts=init_opts)\n"
    },
    {
     "output_type": "execute_result",
     "data": {
      "text/plain": "<pyecharts.render.display.HTML at 0x7f4b164c4090>",
      "text/html": "\n<script>\n    require.config({\n        paths: {\n            'echarts':'https://assets.pyecharts.org/assets/echarts.min', '广东':'https://assets.pyecharts.org/assets/maps/guangdong'\n        }\n    });\n</script>\n\n        <div id=\"9949a0dc9c1c41ab8ed0a14fd80ca6ce\" style=\"width:900px; height:500px;\"></div>\n\n<script>\n        require(['echarts', '广东'], function(echarts) {\n                var chart_9949a0dc9c1c41ab8ed0a14fd80ca6ce = echarts.init(\n                    document.getElementById('9949a0dc9c1c41ab8ed0a14fd80ca6ce'), 'white', {renderer: 'canvas'});\n                var option_9949a0dc9c1c41ab8ed0a14fd80ca6ce = {\n    \"animation\": true,\n    \"animationThreshold\": 2000,\n    \"animationDuration\": 1000,\n    \"animationEasing\": \"cubicOut\",\n    \"animationDelay\": 0,\n    \"animationDurationUpdate\": 300,\n    \"animationEasingUpdate\": \"cubicOut\",\n    \"animationDelayUpdate\": 0,\n    \"color\": [\n        \"#c23531\",\n        \"#2f4554\",\n        \"#61a0a8\",\n        \"#d48265\",\n        \"#749f83\",\n        \"#ca8622\",\n        \"#bda29a\",\n        \"#6e7074\",\n        \"#546570\",\n        \"#c4ccd3\",\n        \"#f05b72\",\n        \"#ef5b9c\",\n        \"#f47920\",\n        \"#905a3d\",\n        \"#fab27b\",\n        \"#2a5caa\",\n        \"#444693\",\n        \"#726930\",\n        \"#b2d235\",\n        \"#6d8346\",\n        \"#ac6767\",\n        \"#1d953f\",\n        \"#6950a1\",\n        \"#918597\"\n    ],\n    \"series\": [\n        {\n            \"type\": \"heatmap\",\n            \"name\": \"geo\",\n            \"coordinateSystem\": \"geo\",\n            \"data\": [\n                {\n                    \"name\": \"\\u6c55\\u5934\\u5e02\",\n                    \"value\": [\n                        116.68,\n                        23.35,\n                        36\n                    ]\n                },\n                {\n                    \"name\": \"\\u6c55\\u5c3e\\u5e02\",\n                    \"value\": [\n                        115.37,\n                        22.78,\n                        67\n                    ]\n                },\n                {\n                    \"name\": \"\\u63ed\\u9633\\u5e02\",\n                    \"value\": [\n                        116.37,\n                        23.55,\n                        66\n                    ]\n                },\n                {\n                    \"name\": \"\\u9633\\u6c5f\\u5e02\",\n                    \"value\": [\n                        111.98,\n                        21.87,\n                        91\n                    ]\n                },\n                {\n                    \"name\": \"\\u8087\\u5e86\\u5e02\",\n                    \"value\": [\n                        112.47,\n                        23.05,\n                        40\n                    ]\n                },\n                {\n                    \"name\": \"\\u5e7f\\u5dde\\u5e02\",\n                    \"value\": [\n                        113.27,\n                        23.13,\n                        66\n                    ]\n                },\n                {\n                    \"name\": \"\\u60e0\\u5dde\\u5e02\",\n                    \"value\": [\n                        114.42,\n                        23.12,\n                        42\n                    ]\n                }\n            ],\n            \"pointSize\": 20,\n            \"blurSize\": 20,\n            \"label\": {\n                \"show\": false,\n                \"position\": \"top\",\n                \"margin\": 8\n            },\n            \"rippleEffect\": {\n                \"show\": true,\n                \"brushType\": \"stroke\",\n                \"scale\": 2.5,\n                \"period\": 4\n            }\n        }\n    ],\n    \"legend\": [\n        {\n            \"data\": [\n                \"geo\"\n            ],\n            \"selected\": {\n                \"geo\": true\n            },\n            \"show\": true,\n            \"padding\": 5,\n            \"itemGap\": 10,\n            \"itemWidth\": 25,\n            \"itemHeight\": 14\n        }\n    ],\n    \"tooltip\": {\n        \"show\": true,\n        \"trigger\": \"item\",\n        \"triggerOn\": \"mousemove|click\",\n        \"axisPointer\": {\n            \"type\": \"line\"\n        },\n        \"showContent\": true,\n        \"alwaysShowContent\": false,\n        \"showDelay\": 0,\n        \"hideDelay\": 100,\n        \"formatter\": function (params) {        return params.name + ' : ' + params.value[2];    },\n        \"textStyle\": {\n            \"fontSize\": 14\n        },\n        \"borderWidth\": 0,\n        \"padding\": 5\n    },\n    \"title\": [\n        {\n            \"text\": \"Geo-\\u5e7f\\u4e1c\",\n            \"padding\": 5,\n            \"itemGap\": 10\n        }\n    ],\n    \"visualMap\": {\n        \"show\": true,\n        \"type\": \"continuous\",\n        \"min\": 0,\n        \"max\": 100,\n        \"inRange\": {\n            \"color\": [\n                \"#50a3ba\",\n                \"#eac763\",\n                \"#d94e5d\"\n            ]\n        },\n        \"calculable\": true,\n        \"inverse\": false,\n        \"splitNumber\": 5,\n        \"orient\": \"vertical\",\n        \"showLabel\": true,\n        \"itemWidth\": 20,\n        \"itemHeight\": 140,\n        \"borderWidth\": 0\n    },\n    \"geo\": {\n        \"map\": \"\\u5e7f\\u4e1c\",\n        \"roam\": true,\n        \"emphasis\": {}\n    }\n};\n                chart_9949a0dc9c1c41ab8ed0a14fd80ca6ce.setOption(option_9949a0dc9c1c41ab8ed0a14fd80ca6ce);\n        });\n    </script>\n"
     },
     "metadata": {},
     "execution_count": 12
    }
   ],
   "source": [
    "from pyecharts import options as opts\n",
    "from pyecharts.charts import Geo\n",
    "from pyecharts.faker import Faker\n",
    "from pyecharts.globals import ChartType\n",
    "\n",
    "c = Geo() \\\n",
    "    .add_schema(maptype=\"广东\") \\\n",
    "    .add(\n",
    "        'geo',\n",
    "        [list(z) for z in zip(Faker.guangdong_city, Faker.values())],\n",
    "        type_=ChartType.HEATMAP,\n",
    "    ) \\\n",
    "    .set_series_opts(label_opts=opts.LabelOpts(is_show=False)) \\\n",
    "    .set_global_opts(\n",
    "        visualmap_opts=opts.VisualMapOpts(),\n",
    "        title_opts=opts.TitleOpts(title='Geo-广东')\n",
    "        )\n",
    "c.render_notebook()\n",
    "    "
   ]
  },
  {
   "cell_type": "code",
   "execution_count": 19,
   "metadata": {
    "tags": []
   },
   "outputs": [
    {
     "output_type": "stream",
     "name": "stderr",
     "text": "/home/ulysses/anaconda3/lib/python3.7/site-packages/pyecharts/charts/chart.py:14: PendingDeprecationWarning: pyecharts 所有图表类型将在 v1.9.0 版本开始强制使用 ChartItem 进行数据项配置 :)\n  super().__init__(init_opts=init_opts)\n"
    },
    {
     "output_type": "execute_result",
     "data": {
      "text/plain": "<pyecharts.render.display.HTML at 0x7f4b16432110>",
      "text/html": "\n<script>\n    require.config({\n        paths: {\n            'echarts':'https://assets.pyecharts.org/assets/echarts.min', '浙江':'https://assets.pyecharts.org/assets/maps/zhejiang'\n        }\n    });\n</script>\n\n        <div id=\"39802d352bb44ba2a0ae378333078462\" style=\"width:900px; height:500px;\"></div>\n\n<script>\n        require(['echarts', '浙江'], function(echarts) {\n                var chart_39802d352bb44ba2a0ae378333078462 = echarts.init(\n                    document.getElementById('39802d352bb44ba2a0ae378333078462'), 'white', {renderer: 'canvas'});\n                var option_39802d352bb44ba2a0ae378333078462 = {\n    \"animation\": true,\n    \"animationThreshold\": 2000,\n    \"animationDuration\": 1000,\n    \"animationEasing\": \"cubicOut\",\n    \"animationDelay\": 0,\n    \"animationDurationUpdate\": 300,\n    \"animationEasingUpdate\": \"cubicOut\",\n    \"animationDelayUpdate\": 0,\n    \"color\": [\n        \"#c23531\",\n        \"#2f4554\",\n        \"#61a0a8\",\n        \"#d48265\",\n        \"#749f83\",\n        \"#ca8622\",\n        \"#bda29a\",\n        \"#6e7074\",\n        \"#546570\",\n        \"#c4ccd3\",\n        \"#f05b72\",\n        \"#ef5b9c\",\n        \"#f47920\",\n        \"#905a3d\",\n        \"#fab27b\",\n        \"#2a5caa\",\n        \"#444693\",\n        \"#726930\",\n        \"#b2d235\",\n        \"#6d8346\",\n        \"#ac6767\",\n        \"#1d953f\",\n        \"#6950a1\",\n        \"#918597\"\n    ],\n    \"series\": [],\n    \"legend\": [\n        {\n            \"data\": [],\n            \"selected\": {},\n            \"show\": true,\n            \"padding\": 5,\n            \"itemGap\": 10,\n            \"itemWidth\": 25,\n            \"itemHeight\": 14\n        }\n    ],\n    \"tooltip\": {\n        \"show\": true,\n        \"trigger\": \"item\",\n        \"triggerOn\": \"mousemove|click\",\n        \"axisPointer\": {\n            \"type\": \"line\"\n        },\n        \"showContent\": true,\n        \"alwaysShowContent\": false,\n        \"showDelay\": 0,\n        \"hideDelay\": 100,\n        \"formatter\": function (params) {        return params.name + ' : ' + params.value[2];    },\n        \"textStyle\": {\n            \"fontSize\": 14\n        },\n        \"borderWidth\": 0,\n        \"padding\": 5\n    },\n    \"title\": [\n        {\n            \"text\": \"\\u676d\\u5dde\\u5e02\",\n            \"padding\": 5,\n            \"itemGap\": 10\n        }\n    ],\n    \"geo\": {\n        \"map\": \"\\u6d59\\u6c5f\",\n        \"roam\": true,\n        \"emphasis\": {}\n    }\n};\n                chart_39802d352bb44ba2a0ae378333078462.setOption(option_39802d352bb44ba2a0ae378333078462);\n        });\n    </script>\n"
     },
     "metadata": {},
     "execution_count": 19
    }
   ],
   "source": [
    "from pyecharts import options as opts\n",
    "from pyecharts.charts import Geo\n",
    "from pyecharts.datasets import register_url\n",
    "\n",
    "try:\n",
    "    register_url(\"https://echarts-maps.github.io/echarts-china-counties-js/\")\n",
    "except Exception:\n",
    "    import ssl\n",
    "\n",
    "    ssl._create_default_https_context = ssl._create_unverified_context\n",
    "    register_url(\"https://echarts-maps.github.io/echarts-china-counties-js/\")\n",
    "\n",
    "geo = Geo() \\\n",
    "    .add_schema(maptype='浙江') \\\n",
    "    .set_global_opts(title_opts=opts.TitleOpts(title='杭州市'))\n",
    "geo.render_notebook()"
   ]
  },
  {
   "cell_type": "code",
   "execution_count": 20,
   "metadata": {},
   "outputs": [
    {
     "output_type": "stream",
     "text": "\u001b[0;31mSignature:\u001b[0m \u001b[0mregister_url\u001b[0m\u001b[0;34m(\u001b[0m\u001b[0masset_url\u001b[0m\u001b[0;34m:\u001b[0m \u001b[0mstr\u001b[0m\u001b[0;34m)\u001b[0m\u001b[0;34m\u001b[0m\u001b[0;34m\u001b[0m\u001b[0m\n\u001b[0;31mDocstring:\u001b[0m <no docstring>\n\u001b[0;31mFile:\u001b[0m      ~/anaconda3/lib/python3.7/site-packages/pyecharts/datasets/__init__.py\n\u001b[0;31mType:\u001b[0m      function\n"
    }
   ],
   "source": []
  },
  {
   "cell_type": "code",
   "execution_count": null,
   "metadata": {},
   "outputs": [],
   "source": []
  }
 ]
}