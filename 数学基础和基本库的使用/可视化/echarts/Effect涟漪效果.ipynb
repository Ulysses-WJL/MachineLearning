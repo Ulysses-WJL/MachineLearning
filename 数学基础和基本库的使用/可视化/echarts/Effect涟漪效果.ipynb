{
 "metadata": {
  "language_info": {
   "codemirror_mode": {
    "name": "ipython",
    "version": 3
   },
   "file_extension": ".py",
   "mimetype": "text/x-python",
   "name": "python",
   "nbconvert_exporter": "python",
   "pygments_lexer": "ipython3",
   "version": "3.7.6-final"
  },
  "orig_nbformat": 2,
  "kernelspec": {
   "name": "python_defaultSpec_1598785895900",
   "display_name": "Python 3.7.6 64-bit ('base': conda)"
  }
 },
 "nbformat": 4,
 "nbformat_minor": 2,
 "cells": [
  {
   "cell_type": "code",
   "execution_count": 4,
   "metadata": {
    "tags": []
   },
   "outputs": [
    {
     "output_type": "stream",
     "name": "stderr",
     "text": "/home/ulysses/anaconda3/lib/python3.7/site-packages/pyecharts/charts/chart.py:14: PendingDeprecationWarning: pyecharts 所有图表类型将在 v1.9.0 版本开始强制使用 ChartItem 进行数据项配置 :)\n  super().__init__(init_opts=init_opts)\n"
    },
    {
     "output_type": "execute_result",
     "data": {
      "text/plain": "<pyecharts.render.display.HTML at 0x7ff2aed3ff10>",
      "text/html": "\n<script>\n    require.config({\n        paths: {\n            'echarts':'https://assets.pyecharts.org/assets/echarts.min'\n        }\n    });\n</script>\n\n        <div id=\"f28fa864de304eedbd4be673b182af34\" style=\"width:900px; height:500px;\"></div>\n\n<script>\n        require(['echarts'], function(echarts) {\n                var chart_f28fa864de304eedbd4be673b182af34 = echarts.init(\n                    document.getElementById('f28fa864de304eedbd4be673b182af34'), 'white', {renderer: 'canvas'});\n                var option_f28fa864de304eedbd4be673b182af34 = {\n    \"animation\": true,\n    \"animationThreshold\": 2000,\n    \"animationDuration\": 1000,\n    \"animationEasing\": \"cubicOut\",\n    \"animationDelay\": 0,\n    \"animationDurationUpdate\": 300,\n    \"animationEasingUpdate\": \"cubicOut\",\n    \"animationDelayUpdate\": 0,\n    \"color\": [\n        \"#c23531\",\n        \"#2f4554\",\n        \"#61a0a8\",\n        \"#d48265\",\n        \"#749f83\",\n        \"#ca8622\",\n        \"#bda29a\",\n        \"#6e7074\",\n        \"#546570\",\n        \"#c4ccd3\",\n        \"#f05b72\",\n        \"#ef5b9c\",\n        \"#f47920\",\n        \"#905a3d\",\n        \"#fab27b\",\n        \"#2a5caa\",\n        \"#444693\",\n        \"#726930\",\n        \"#b2d235\",\n        \"#6d8346\",\n        \"#ac6767\",\n        \"#1d953f\",\n        \"#6950a1\",\n        \"#918597\"\n    ],\n    \"series\": [\n        {\n            \"type\": \"effectScatter\",\n            \"showEffectOn\": \"render\",\n            \"rippleEffect\": {\n                \"show\": true,\n                \"brushType\": \"stroke\",\n                \"scale\": 2.5,\n                \"period\": 4\n            },\n            \"symbol\": \"arrow\",\n            \"symbolSize\": 10,\n            \"data\": [\n                [\n                    \"\\u6cb3\\u9a6c\",\n                    132\n                ],\n                [\n                    \"\\u87d2\\u86c7\",\n                    89\n                ],\n                [\n                    \"\\u8001\\u864e\",\n                    62\n                ],\n                [\n                    \"\\u5927\\u8c61\",\n                    106\n                ],\n                [\n                    \"\\u5154\\u5b50\",\n                    143\n                ],\n                [\n                    \"\\u718a\\u732b\",\n                    45\n                ],\n                [\n                    \"\\u72ee\\u5b50\",\n                    139\n                ]\n            ],\n            \"label\": {\n                \"show\": true,\n                \"position\": \"top\",\n                \"margin\": 8\n            }\n        }\n    ],\n    \"legend\": [\n        {\n            \"data\": [\n                \"\"\n            ],\n            \"selected\": {\n                \"\": true\n            },\n            \"show\": true,\n            \"padding\": 5,\n            \"itemGap\": 10,\n            \"itemWidth\": 25,\n            \"itemHeight\": 14\n        }\n    ],\n    \"tooltip\": {\n        \"show\": true,\n        \"trigger\": \"item\",\n        \"triggerOn\": \"mousemove|click\",\n        \"axisPointer\": {\n            \"type\": \"line\"\n        },\n        \"showContent\": true,\n        \"alwaysShowContent\": false,\n        \"showDelay\": 0,\n        \"hideDelay\": 100,\n        \"textStyle\": {\n            \"fontSize\": 14\n        },\n        \"borderWidth\": 0,\n        \"padding\": 5\n    },\n    \"xAxis\": [\n        {\n            \"show\": true,\n            \"scale\": false,\n            \"nameLocation\": \"end\",\n            \"nameGap\": 15,\n            \"gridIndex\": 0,\n            \"inverse\": false,\n            \"offset\": 0,\n            \"splitNumber\": 5,\n            \"minInterval\": 0,\n            \"splitLine\": {\n                \"show\": true,\n                \"lineStyle\": {\n                    \"show\": true,\n                    \"width\": 1,\n                    \"opacity\": 1,\n                    \"curveness\": 0,\n                    \"type\": \"solid\"\n                }\n            },\n            \"data\": [\n                \"\\u6cb3\\u9a6c\",\n                \"\\u87d2\\u86c7\",\n                \"\\u8001\\u864e\",\n                \"\\u5927\\u8c61\",\n                \"\\u5154\\u5b50\",\n                \"\\u718a\\u732b\",\n                \"\\u72ee\\u5b50\"\n            ]\n        }\n    ],\n    \"yAxis\": [\n        {\n            \"show\": true,\n            \"scale\": false,\n            \"nameLocation\": \"end\",\n            \"nameGap\": 15,\n            \"gridIndex\": 0,\n            \"inverse\": false,\n            \"offset\": 0,\n            \"splitNumber\": 5,\n            \"minInterval\": 0,\n            \"splitLine\": {\n                \"show\": true,\n                \"lineStyle\": {\n                    \"show\": true,\n                    \"width\": 1,\n                    \"opacity\": 1,\n                    \"curveness\": 0,\n                    \"type\": \"solid\"\n                }\n            }\n        }\n    ],\n    \"title\": [\n        {\n            \"text\": \"\\u6d9f\\u6f2a\\u6548\\u679c\",\n            \"padding\": 5,\n            \"itemGap\": 10\n        }\n    ]\n};\n                chart_f28fa864de304eedbd4be673b182af34.setOption(option_f28fa864de304eedbd4be673b182af34);\n        });\n    </script>\n"
     },
     "metadata": {},
     "execution_count": 4
    }
   ],
   "source": [
    "from pyecharts import options as opts\n",
    "from pyecharts.charts import EffectScatter\n",
    "from pyecharts.faker import Faker\n",
    "from pyecharts.globals import SymbolType\n",
    "\n",
    "c = EffectScatter() \\\n",
    "    .add_xaxis(Faker.choose()) \\\n",
    "    .add_yaxis(\"\", Faker.values(), symbol=SymbolType.ARROW) \\\n",
    "    .set_global_opts(\n",
    "        title_opts=opts.TitleOpts(title=\"涟漪效果\"),\n",
    "        xaxis_opts=opts.AxisOpts(splitline_opts=opts.SplitLineOpts(is_show=True)),\n",
    "        yaxis_opts=opts.AxisOpts(splitline_opts=opts.SplitLineOpts(is_show=True)),\n",
    "        )\n",
    "c.render_notebook()"
   ]
  },
  {
   "cell_type": "code",
   "execution_count": null,
   "metadata": {},
   "outputs": [],
   "source": []
  }
 ]
}