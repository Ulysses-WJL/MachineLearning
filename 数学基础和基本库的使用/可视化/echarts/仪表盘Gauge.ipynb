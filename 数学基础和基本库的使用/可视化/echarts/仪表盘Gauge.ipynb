{
 "metadata": {
  "language_info": {
   "codemirror_mode": {
    "name": "ipython",
    "version": 3
   },
   "file_extension": ".py",
   "mimetype": "text/x-python",
   "name": "python",
   "nbconvert_exporter": "python",
   "pygments_lexer": "ipython3",
   "version": "3.7.6-final"
  },
  "orig_nbformat": 2,
  "kernelspec": {
   "name": "python_defaultSpec_1598360654058",
   "display_name": "Python 3.7.6 64-bit ('anaconda3': virtualenv)"
  }
 },
 "nbformat": 4,
 "nbformat_minor": 2,
 "cells": [
  {
   "cell_type": "code",
   "execution_count": 16,
   "metadata": {
    "tags": []
   },
   "outputs": [
    {
     "output_type": "stream",
     "name": "stderr",
     "text": "/home/ulysses/anaconda3/lib/python3.7/site-packages/pyecharts/charts/chart.py:14: PendingDeprecationWarning: pyecharts 所有图表类型将在 v1.9.0 版本开始强制使用 ChartItem 进行数据项配置 :)\n  super().__init__(init_opts=init_opts)\n"
    },
    {
     "output_type": "execute_result",
     "data": {
      "text/plain": "<pyecharts.render.display.HTML at 0x7fb5f61c5b50>",
      "text/html": "\n<script>\n    require.config({\n        paths: {\n            'echarts':'https://assets.pyecharts.org/assets/echarts.min'\n        }\n    });\n</script>\n\n        <div id=\"e877ce9a55154dc9b6f96ec48dee1984\" style=\"width:1200px; height:600px;\"></div>\n\n<script>\n        require(['echarts'], function(echarts) {\n                var chart_e877ce9a55154dc9b6f96ec48dee1984 = echarts.init(\n                    document.getElementById('e877ce9a55154dc9b6f96ec48dee1984'), 'white', {renderer: 'canvas'});\n                var option_e877ce9a55154dc9b6f96ec48dee1984 = {\n    \"animation\": true,\n    \"animationThreshold\": 2000,\n    \"animationDuration\": 1000,\n    \"animationEasing\": \"cubicOut\",\n    \"animationDelay\": 0,\n    \"animationDurationUpdate\": 300,\n    \"animationEasingUpdate\": \"cubicOut\",\n    \"animationDelayUpdate\": 0,\n    \"color\": [\n        \"#c23531\",\n        \"#2f4554\",\n        \"#61a0a8\",\n        \"#d48265\",\n        \"#749f83\",\n        \"#ca8622\",\n        \"#bda29a\",\n        \"#6e7074\",\n        \"#546570\",\n        \"#c4ccd3\",\n        \"#f05b72\",\n        \"#ef5b9c\",\n        \"#f47920\",\n        \"#905a3d\",\n        \"#fab27b\",\n        \"#2a5caa\",\n        \"#444693\",\n        \"#726930\",\n        \"#b2d235\",\n        \"#6d8346\",\n        \"#ac6767\",\n        \"#1d953f\",\n        \"#6950a1\",\n        \"#918597\"\n    ],\n    \"series\": [\n        {\n            \"type\": \"gauge\",\n            \"title\": {\n                \"show\": true,\n                \"offsetCenter\": [\n                    0,\n                    \"-40%\"\n                ],\n                \"color\": \"#333\",\n                \"fontStyle\": \"normal\",\n                \"fontWeight\": \"normal\",\n                \"fontFamily\": \"sans-serif\",\n                \"fontSize\": 15,\n                \"backgroundColor\": \"transparent\",\n                \"borderColor\": \"transparent\",\n                \"borderWidth\": 0,\n                \"borderRadius\": 0,\n                \"padding\": 0,\n                \"shadowColor\": \"transparent\",\n                \"shadowBlur\": 0,\n                \"shadowOffsetX\": 0,\n                \"shadowOffsetY\": 0\n            },\n            \"detail\": {\n                \"show\": true,\n                \"backgroundColor\": \"transparent\",\n                \"borderWidth\": 0,\n                \"borderColor\": \"transparent\",\n                \"offsetCenter\": [\n                    0,\n                    \"-40%\"\n                ],\n                \"formatter\": \"{value}%\",\n                \"color\": \"auto\",\n                \"fontStyle\": \"normal\",\n                \"fontWeight\": \"normal\",\n                \"fontFamily\": \"sans-serif\",\n                \"fontSize\": 15,\n                \"borderRadius\": 0,\n                \"padding\": 0,\n                \"shadowColor\": \"transparent\",\n                \"shadowBlur\": 0,\n                \"shadowOffsetX\": 0,\n                \"shadowOffsetY\": 0\n            },\n            \"name\": \"\\u4e1a\\u52a1\\u6307\\u6807\",\n            \"min\": 0,\n            \"max\": 100,\n            \"splitNumber\": 10,\n            \"radius\": \"50%\",\n            \"startAngle\": 225,\n            \"endAngle\": -45,\n            \"clockwise\": true,\n            \"data\": [\n                {\n                    \"name\": \"\\u5b8c\\u6210\\u7387\",\n                    \"value\": 55.5\n                }\n            ],\n            \"pointer\": {\n                \"show\": true,\n                \"length\": \"80%\",\n                \"width\": 8\n            }\n        }\n    ],\n    \"legend\": [\n        {\n            \"data\": [\n                \"\\u4e1a\\u52a1\\u6307\\u6807\"\n            ],\n            \"selected\": {\n                \"\\u4e1a\\u52a1\\u6307\\u6807\": true\n            },\n            \"show\": false,\n            \"padding\": 5,\n            \"itemGap\": 10,\n            \"itemWidth\": 25,\n            \"itemHeight\": 14\n        }\n    ],\n    \"tooltip\": {\n        \"show\": true,\n        \"trigger\": \"item\",\n        \"triggerOn\": \"mousemove|click\",\n        \"axisPointer\": {\n            \"type\": \"line\"\n        },\n        \"showContent\": true,\n        \"alwaysShowContent\": false,\n        \"showDelay\": 0,\n        \"hideDelay\": 100,\n        \"formatter\": \"{a} <br/>{b}: {c}%\",\n        \"textStyle\": {\n            \"fontSize\": 14\n        },\n        \"borderWidth\": 0,\n        \"padding\": 5\n    },\n    \"title\": [\n        {\n            \"text\": \"Gauge-\\u57fa\\u672c\\u793a\\u4f8b\",\n            \"padding\": 5,\n            \"itemGap\": 10\n        }\n    ]\n};\n                chart_e877ce9a55154dc9b6f96ec48dee1984.setOption(option_e877ce9a55154dc9b6f96ec48dee1984);\n        });\n    </script>\n"
     },
     "metadata": {},
     "execution_count": 16
    }
   ],
   "source": [
    "import pyecharts.options as opts\n",
    "from pyecharts.charts import Gauge\n",
    "\n",
    "# {a}：系列名。\n",
    "# {b}：数据名。\n",
    "# {c}：数据值。\n",
    "c = Gauge(init_opts=opts.InitOpts(width='1200px', height='600px')) \\\n",
    "    .add(series_name='业务指标', data_pair=[('完成率', 55.5)], radius=\"50%\") \\\n",
    "    .set_global_opts(\n",
    "        title_opts=opts.TitleOpts(title=\"Gauge-基本示例\"),\n",
    "        legend_opts=opts.LegendOpts(is_show=False),\n",
    "        tooltip_opts=opts.TooltipOpts(is_show=True, formatter=\"{a} <br/>{b}: {c}%\")\n",
    "    )\n",
    "c.render_notebook()"
   ]
  },
  {
   "cell_type": "code",
   "execution_count": 19,
   "metadata": {
    "tags": []
   },
   "outputs": [
    {
     "output_type": "stream",
     "name": "stderr",
     "text": "/home/ulysses/anaconda3/lib/python3.7/site-packages/pyecharts/charts/chart.py:14: PendingDeprecationWarning: pyecharts 所有图表类型将在 v1.9.0 版本开始强制使用 ChartItem 进行数据项配置 :)\n  super().__init__(init_opts=init_opts)\n"
    },
    {
     "output_type": "execute_result",
     "data": {
      "text/plain": "<pyecharts.render.display.HTML at 0x7fb5f56dd250>",
      "text/html": "\n<script>\n    require.config({\n        paths: {\n            'echarts':'https://assets.pyecharts.org/assets/echarts.min'\n        }\n    });\n</script>\n\n        <div id=\"340a700879b145bc9b5deab4c790c843\" style=\"width:900px; height:500px;\"></div>\n\n<script>\n        require(['echarts'], function(echarts) {\n                var chart_340a700879b145bc9b5deab4c790c843 = echarts.init(\n                    document.getElementById('340a700879b145bc9b5deab4c790c843'), 'white', {renderer: 'canvas'});\n                var option_340a700879b145bc9b5deab4c790c843 = {\n    \"animation\": true,\n    \"animationThreshold\": 2000,\n    \"animationDuration\": 1000,\n    \"animationEasing\": \"cubicOut\",\n    \"animationDelay\": 0,\n    \"animationDurationUpdate\": 300,\n    \"animationEasingUpdate\": \"cubicOut\",\n    \"animationDelayUpdate\": 0,\n    \"color\": [\n        \"#c23531\",\n        \"#2f4554\",\n        \"#61a0a8\",\n        \"#d48265\",\n        \"#749f83\",\n        \"#ca8622\",\n        \"#bda29a\",\n        \"#6e7074\",\n        \"#546570\",\n        \"#c4ccd3\",\n        \"#f05b72\",\n        \"#ef5b9c\",\n        \"#f47920\",\n        \"#905a3d\",\n        \"#fab27b\",\n        \"#2a5caa\",\n        \"#444693\",\n        \"#726930\",\n        \"#b2d235\",\n        \"#6d8346\",\n        \"#ac6767\",\n        \"#1d953f\",\n        \"#6950a1\",\n        \"#918597\"\n    ],\n    \"series\": [\n        {\n            \"type\": \"gauge\",\n            \"title\": {\n                \"show\": true,\n                \"offsetCenter\": [\n                    0,\n                    \"-40%\"\n                ],\n                \"color\": \"#333\",\n                \"fontStyle\": \"normal\",\n                \"fontWeight\": \"normal\",\n                \"fontFamily\": \"sans-serif\",\n                \"fontSize\": 15,\n                \"backgroundColor\": \"transparent\",\n                \"borderColor\": \"transparent\",\n                \"borderWidth\": 0,\n                \"borderRadius\": 0,\n                \"padding\": 0,\n                \"shadowColor\": \"transparent\",\n                \"shadowBlur\": 0,\n                \"shadowOffsetX\": 0,\n                \"shadowOffsetY\": 0\n            },\n            \"detail\": {\n                \"show\": true,\n                \"backgroundColor\": \"transparent\",\n                \"borderWidth\": 0,\n                \"borderColor\": \"transparent\",\n                \"offsetCenter\": [\n                    0,\n                    \"-40%\"\n                ],\n                \"formatter\": \"{value}%\",\n                \"color\": \"auto\",\n                \"fontStyle\": \"normal\",\n                \"fontWeight\": \"normal\",\n                \"fontFamily\": \"sans-serif\",\n                \"fontSize\": 15,\n                \"borderRadius\": 0,\n                \"padding\": 0,\n                \"shadowColor\": \"transparent\",\n                \"shadowBlur\": 0,\n                \"shadowOffsetX\": 0,\n                \"shadowOffsetY\": 0\n            },\n            \"min\": 0,\n            \"max\": 100,\n            \"splitNumber\": 10,\n            \"radius\": \"75%\",\n            \"startAngle\": 225,\n            \"endAngle\": -45,\n            \"clockwise\": true,\n            \"data\": [\n                {\n                    \"name\": \"\\u5b8c\\u6210\\u7387\",\n                    \"value\": 66.6\n                }\n            ],\n            \"pointer\": {\n                \"show\": true,\n                \"length\": \"80%\",\n                \"width\": 8\n            }\n        }\n    ],\n    \"legend\": [\n        {\n            \"data\": [\n                \"\"\n            ],\n            \"selected\": {\n                \"\": true\n            },\n            \"show\": true,\n            \"padding\": 5,\n            \"itemGap\": 10,\n            \"itemWidth\": 25,\n            \"itemHeight\": 14\n        }\n    ],\n    \"tooltip\": {\n        \"show\": true,\n        \"trigger\": \"item\",\n        \"triggerOn\": \"mousemove|click\",\n        \"axisPointer\": {\n            \"type\": \"line\"\n        },\n        \"showContent\": true,\n        \"alwaysShowContent\": false,\n        \"showDelay\": 0,\n        \"hideDelay\": 100,\n        \"textStyle\": {\n            \"fontSize\": 14\n        },\n        \"borderWidth\": 0,\n        \"padding\": 5\n    },\n    \"title\": [\n        {\n            \"text\": \"Gauge-\\u57fa\\u672c\\u793a\\u4f8b\",\n            \"padding\": 5,\n            \"itemGap\": 10\n        }\n    ]\n};\n                chart_340a700879b145bc9b5deab4c790c843.setOption(option_340a700879b145bc9b5deab4c790c843);\n        });\n    </script>\n"
     },
     "metadata": {},
     "execution_count": 19
    }
   ],
   "source": [
    "gauge=(\n",
    "      Gauge()\n",
    "      .add(\"\", [(\"完成率\", 66.6)])\n",
    "      .set_global_opts(title_opts=opts.TitleOpts(title=\"Gauge-基本示例\"))\n",
    "      )\n",
    "\n",
    "gauge.render_notebook()"
   ]
  },
  {
   "cell_type": "code",
   "execution_count": null,
   "metadata": {},
   "outputs": [],
   "source": []
  }
 ]
}