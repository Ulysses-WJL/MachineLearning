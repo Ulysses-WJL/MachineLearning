{
 "metadata": {
  "language_info": {
   "codemirror_mode": {
    "name": "ipython",
    "version": 3
   },
   "file_extension": ".py",
   "mimetype": "text/x-python",
   "name": "python",
   "nbconvert_exporter": "python",
   "pygments_lexer": "ipython3",
   "version": "3.7.6-final"
  },
  "orig_nbformat": 2,
  "kernelspec": {
   "name": "python_defaultSpec_1598786539813",
   "display_name": "Python 3.7.6 64-bit ('base': conda)"
  }
 },
 "nbformat": 4,
 "nbformat_minor": 2,
 "cells": [
  {
   "cell_type": "code",
   "execution_count": 1,
   "metadata": {
    "tags": []
   },
   "outputs": [
    {
     "output_type": "stream",
     "name": "stderr",
     "text": "/home/ulysses/anaconda3/lib/python3.7/site-packages/pyecharts/charts/chart.py:14: PendingDeprecationWarning: pyecharts 所有图表类型将在 v1.9.0 版本开始强制使用 ChartItem 进行数据项配置 :)\n  super().__init__(init_opts=init_opts)\n"
    },
    {
     "output_type": "execute_result",
     "data": {
      "text/plain": "<pyecharts.render.display.HTML at 0x7f317e554bd0>",
      "text/html": "\n<script>\n    require.config({\n        paths: {\n            'echarts':'https://assets.pyecharts.org/assets/echarts.min'\n        }\n    });\n</script>\n\n        <div id=\"0d1d9f4a0c664a55a1af1c6f5d90b2e7\" style=\"width:900px; height:500px;\"></div>\n\n<script>\n        require(['echarts'], function(echarts) {\n                var chart_0d1d9f4a0c664a55a1af1c6f5d90b2e7 = echarts.init(\n                    document.getElementById('0d1d9f4a0c664a55a1af1c6f5d90b2e7'), 'white', {renderer: 'canvas'});\n                var option_0d1d9f4a0c664a55a1af1c6f5d90b2e7 = {\n    \"animation\": true,\n    \"animationThreshold\": 2000,\n    \"animationDuration\": 1000,\n    \"animationEasing\": \"cubicOut\",\n    \"animationDelay\": 0,\n    \"animationDurationUpdate\": 300,\n    \"animationEasingUpdate\": \"cubicOut\",\n    \"animationDelayUpdate\": 0,\n    \"color\": [\n        \"#c23531\",\n        \"#2f4554\",\n        \"#61a0a8\",\n        \"#d48265\",\n        \"#749f83\",\n        \"#ca8622\",\n        \"#bda29a\",\n        \"#6e7074\",\n        \"#546570\",\n        \"#c4ccd3\",\n        \"#f05b72\",\n        \"#ef5b9c\",\n        \"#f47920\",\n        \"#905a3d\",\n        \"#fab27b\",\n        \"#2a5caa\",\n        \"#444693\",\n        \"#726930\",\n        \"#b2d235\",\n        \"#6d8346\",\n        \"#ac6767\",\n        \"#1d953f\",\n        \"#6950a1\",\n        \"#918597\"\n    ],\n    \"series\": [\n        {\n            \"type\": \"graph\",\n            \"layout\": \"force\",\n            \"symbolSize\": 10,\n            \"circular\": {\n                \"rotateLabel\": false\n            },\n            \"force\": {\n                \"repulsion\": 8000,\n                \"edgeLength\": 50,\n                \"gravity\": 0.2\n            },\n            \"label\": {\n                \"show\": true,\n                \"position\": \"top\",\n                \"margin\": 8\n            },\n            \"lineStyle\": {\n                \"show\": true,\n                \"width\": 1,\n                \"opacity\": 1,\n                \"curveness\": 0,\n                \"type\": \"solid\"\n            },\n            \"roam\": true,\n            \"draggable\": false,\n            \"focusNodeAdjacency\": true,\n            \"data\": [\n                {\n                    \"name\": \"\\u7ed3\\u70b91\",\n                    \"symbolSize\": 10\n                },\n                {\n                    \"name\": \"\\u7ed3\\u70b92\",\n                    \"symbolSize\": 20\n                },\n                {\n                    \"name\": \"\\u7ed3\\u70b93\",\n                    \"symbolSize\": 30\n                },\n                {\n                    \"name\": \"\\u7ed3\\u70b94\",\n                    \"symbolSize\": 40\n                },\n                {\n                    \"name\": \"\\u7ed3\\u70b95\",\n                    \"symbolSize\": 50\n                },\n                {\n                    \"name\": \"\\u7ed3\\u70b96\",\n                    \"symbolSize\": 40\n                },\n                {\n                    \"name\": \"\\u7ed3\\u70b97\",\n                    \"symbolSize\": 30\n                },\n                {\n                    \"name\": \"\\u7ed3\\u70b98\",\n                    \"symbolSize\": 20\n                }\n            ],\n            \"edgeLabel\": {\n                \"show\": false,\n                \"position\": \"top\",\n                \"margin\": 8\n            },\n            \"edgeSymbol\": [\n                null,\n                null\n            ],\n            \"edgeSymbolSize\": 10,\n            \"links\": [\n                {\n                    \"source\": \"\\u7ed3\\u70b91\",\n                    \"target\": \"\\u7ed3\\u70b91\"\n                },\n                {\n                    \"source\": \"\\u7ed3\\u70b91\",\n                    \"target\": \"\\u7ed3\\u70b92\"\n                },\n                {\n                    \"source\": \"\\u7ed3\\u70b91\",\n                    \"target\": \"\\u7ed3\\u70b93\"\n                },\n                {\n                    \"source\": \"\\u7ed3\\u70b91\",\n                    \"target\": \"\\u7ed3\\u70b94\"\n                },\n                {\n                    \"source\": \"\\u7ed3\\u70b91\",\n                    \"target\": \"\\u7ed3\\u70b95\"\n                },\n                {\n                    \"source\": \"\\u7ed3\\u70b91\",\n                    \"target\": \"\\u7ed3\\u70b96\"\n                },\n                {\n                    \"source\": \"\\u7ed3\\u70b91\",\n                    \"target\": \"\\u7ed3\\u70b97\"\n                },\n                {\n                    \"source\": \"\\u7ed3\\u70b91\",\n                    \"target\": \"\\u7ed3\\u70b98\"\n                },\n                {\n                    \"source\": \"\\u7ed3\\u70b92\",\n                    \"target\": \"\\u7ed3\\u70b91\"\n                },\n                {\n                    \"source\": \"\\u7ed3\\u70b92\",\n                    \"target\": \"\\u7ed3\\u70b92\"\n                },\n                {\n                    \"source\": \"\\u7ed3\\u70b92\",\n                    \"target\": \"\\u7ed3\\u70b93\"\n                },\n                {\n                    \"source\": \"\\u7ed3\\u70b92\",\n                    \"target\": \"\\u7ed3\\u70b94\"\n                },\n                {\n                    \"source\": \"\\u7ed3\\u70b92\",\n                    \"target\": \"\\u7ed3\\u70b95\"\n                },\n                {\n                    \"source\": \"\\u7ed3\\u70b92\",\n                    \"target\": \"\\u7ed3\\u70b96\"\n                },\n                {\n                    \"source\": \"\\u7ed3\\u70b92\",\n                    \"target\": \"\\u7ed3\\u70b97\"\n                },\n                {\n                    \"source\": \"\\u7ed3\\u70b92\",\n                    \"target\": \"\\u7ed3\\u70b98\"\n                },\n                {\n                    \"source\": \"\\u7ed3\\u70b93\",\n                    \"target\": \"\\u7ed3\\u70b91\"\n                },\n                {\n                    \"source\": \"\\u7ed3\\u70b93\",\n                    \"target\": \"\\u7ed3\\u70b92\"\n                },\n                {\n                    \"source\": \"\\u7ed3\\u70b93\",\n                    \"target\": \"\\u7ed3\\u70b93\"\n                },\n                {\n                    \"source\": \"\\u7ed3\\u70b93\",\n                    \"target\": \"\\u7ed3\\u70b94\"\n                },\n                {\n                    \"source\": \"\\u7ed3\\u70b93\",\n                    \"target\": \"\\u7ed3\\u70b95\"\n                },\n                {\n                    \"source\": \"\\u7ed3\\u70b93\",\n                    \"target\": \"\\u7ed3\\u70b96\"\n                },\n                {\n                    \"source\": \"\\u7ed3\\u70b93\",\n                    \"target\": \"\\u7ed3\\u70b97\"\n                },\n                {\n                    \"source\": \"\\u7ed3\\u70b93\",\n                    \"target\": \"\\u7ed3\\u70b98\"\n                },\n                {\n                    \"source\": \"\\u7ed3\\u70b94\",\n                    \"target\": \"\\u7ed3\\u70b91\"\n                },\n                {\n                    \"source\": \"\\u7ed3\\u70b94\",\n                    \"target\": \"\\u7ed3\\u70b92\"\n                },\n                {\n                    \"source\": \"\\u7ed3\\u70b94\",\n                    \"target\": \"\\u7ed3\\u70b93\"\n                },\n                {\n                    \"source\": \"\\u7ed3\\u70b94\",\n                    \"target\": \"\\u7ed3\\u70b94\"\n                },\n                {\n                    \"source\": \"\\u7ed3\\u70b94\",\n                    \"target\": \"\\u7ed3\\u70b95\"\n                },\n                {\n                    \"source\": \"\\u7ed3\\u70b94\",\n                    \"target\": \"\\u7ed3\\u70b96\"\n                },\n                {\n                    \"source\": \"\\u7ed3\\u70b94\",\n                    \"target\": \"\\u7ed3\\u70b97\"\n                },\n                {\n                    \"source\": \"\\u7ed3\\u70b94\",\n                    \"target\": \"\\u7ed3\\u70b98\"\n                },\n                {\n                    \"source\": \"\\u7ed3\\u70b95\",\n                    \"target\": \"\\u7ed3\\u70b91\"\n                },\n                {\n                    \"source\": \"\\u7ed3\\u70b95\",\n                    \"target\": \"\\u7ed3\\u70b92\"\n                },\n                {\n                    \"source\": \"\\u7ed3\\u70b95\",\n                    \"target\": \"\\u7ed3\\u70b93\"\n                },\n                {\n                    \"source\": \"\\u7ed3\\u70b95\",\n                    \"target\": \"\\u7ed3\\u70b94\"\n                },\n                {\n                    \"source\": \"\\u7ed3\\u70b95\",\n                    \"target\": \"\\u7ed3\\u70b95\"\n                },\n                {\n                    \"source\": \"\\u7ed3\\u70b95\",\n                    \"target\": \"\\u7ed3\\u70b96\"\n                },\n                {\n                    \"source\": \"\\u7ed3\\u70b95\",\n                    \"target\": \"\\u7ed3\\u70b97\"\n                },\n                {\n                    \"source\": \"\\u7ed3\\u70b95\",\n                    \"target\": \"\\u7ed3\\u70b98\"\n                },\n                {\n                    \"source\": \"\\u7ed3\\u70b96\",\n                    \"target\": \"\\u7ed3\\u70b91\"\n                },\n                {\n                    \"source\": \"\\u7ed3\\u70b96\",\n                    \"target\": \"\\u7ed3\\u70b92\"\n                },\n                {\n                    \"source\": \"\\u7ed3\\u70b96\",\n                    \"target\": \"\\u7ed3\\u70b93\"\n                },\n                {\n                    \"source\": \"\\u7ed3\\u70b96\",\n                    \"target\": \"\\u7ed3\\u70b94\"\n                },\n                {\n                    \"source\": \"\\u7ed3\\u70b96\",\n                    \"target\": \"\\u7ed3\\u70b95\"\n                },\n                {\n                    \"source\": \"\\u7ed3\\u70b96\",\n                    \"target\": \"\\u7ed3\\u70b96\"\n                },\n                {\n                    \"source\": \"\\u7ed3\\u70b96\",\n                    \"target\": \"\\u7ed3\\u70b97\"\n                },\n                {\n                    \"source\": \"\\u7ed3\\u70b96\",\n                    \"target\": \"\\u7ed3\\u70b98\"\n                },\n                {\n                    \"source\": \"\\u7ed3\\u70b97\",\n                    \"target\": \"\\u7ed3\\u70b91\"\n                },\n                {\n                    \"source\": \"\\u7ed3\\u70b97\",\n                    \"target\": \"\\u7ed3\\u70b92\"\n                },\n                {\n                    \"source\": \"\\u7ed3\\u70b97\",\n                    \"target\": \"\\u7ed3\\u70b93\"\n                },\n                {\n                    \"source\": \"\\u7ed3\\u70b97\",\n                    \"target\": \"\\u7ed3\\u70b94\"\n                },\n                {\n                    \"source\": \"\\u7ed3\\u70b97\",\n                    \"target\": \"\\u7ed3\\u70b95\"\n                },\n                {\n                    \"source\": \"\\u7ed3\\u70b97\",\n                    \"target\": \"\\u7ed3\\u70b96\"\n                },\n                {\n                    \"source\": \"\\u7ed3\\u70b97\",\n                    \"target\": \"\\u7ed3\\u70b97\"\n                },\n                {\n                    \"source\": \"\\u7ed3\\u70b97\",\n                    \"target\": \"\\u7ed3\\u70b98\"\n                },\n                {\n                    \"source\": \"\\u7ed3\\u70b98\",\n                    \"target\": \"\\u7ed3\\u70b91\"\n                },\n                {\n                    \"source\": \"\\u7ed3\\u70b98\",\n                    \"target\": \"\\u7ed3\\u70b92\"\n                },\n                {\n                    \"source\": \"\\u7ed3\\u70b98\",\n                    \"target\": \"\\u7ed3\\u70b93\"\n                },\n                {\n                    \"source\": \"\\u7ed3\\u70b98\",\n                    \"target\": \"\\u7ed3\\u70b94\"\n                },\n                {\n                    \"source\": \"\\u7ed3\\u70b98\",\n                    \"target\": \"\\u7ed3\\u70b95\"\n                },\n                {\n                    \"source\": \"\\u7ed3\\u70b98\",\n                    \"target\": \"\\u7ed3\\u70b96\"\n                },\n                {\n                    \"source\": \"\\u7ed3\\u70b98\",\n                    \"target\": \"\\u7ed3\\u70b97\"\n                },\n                {\n                    \"source\": \"\\u7ed3\\u70b98\",\n                    \"target\": \"\\u7ed3\\u70b98\"\n                }\n            ]\n        }\n    ],\n    \"legend\": [\n        {\n            \"data\": [],\n            \"selected\": {},\n            \"show\": true,\n            \"padding\": 5,\n            \"itemGap\": 10,\n            \"itemWidth\": 25,\n            \"itemHeight\": 14\n        }\n    ],\n    \"tooltip\": {\n        \"show\": true,\n        \"trigger\": \"item\",\n        \"triggerOn\": \"mousemove|click\",\n        \"axisPointer\": {\n            \"type\": \"line\"\n        },\n        \"showContent\": true,\n        \"alwaysShowContent\": false,\n        \"showDelay\": 0,\n        \"hideDelay\": 100,\n        \"textStyle\": {\n            \"fontSize\": 14\n        },\n        \"borderWidth\": 0,\n        \"padding\": 5\n    },\n    \"title\": [\n        {\n            \"text\": \"Graph\",\n            \"padding\": 5,\n            \"itemGap\": 10\n        }\n    ]\n};\n                chart_0d1d9f4a0c664a55a1af1c6f5d90b2e7.setOption(option_0d1d9f4a0c664a55a1af1c6f5d90b2e7);\n        });\n    </script>\n"
     },
     "metadata": {},
     "execution_count": 1
    }
   ],
   "source": [
    "from pyecharts import options as opts\n",
    "from pyecharts.charts import Graph\n",
    "\n",
    "nodes = [\n",
    "    {\"name\": \"结点1\", \"symbolSize\": 10},\n",
    "    {\"name\": \"结点2\", \"symbolSize\": 20},\n",
    "    {\"name\": \"结点3\", \"symbolSize\": 30},\n",
    "    {\"name\": \"结点4\", \"symbolSize\": 40},\n",
    "    {\"name\": \"结点5\", \"symbolSize\": 50},\n",
    "    {\"name\": \"结点6\", \"symbolSize\": 40},\n",
    "    {\"name\": \"结点7\", \"symbolSize\": 30},\n",
    "    {\"name\": \"结点8\", \"symbolSize\": 20},\n",
    "]\n",
    "links = []\n",
    "for i in nodes:\n",
    "    for j in nodes:\n",
    "        links.append({'source':i.get('name'), 'target':j.get(\"name\")})\n",
    "\n",
    "c = Graph() \\\n",
    "    .add(\"\", nodes, links, repulsion=8000) \\\n",
    "    .set_global_opts(title_opts=opts.TitleOpts(title=\"Graph\"))\n",
    "c.render_notebook()"
   ]
  },
  {
   "cell_type": "code",
   "execution_count": 2,
   "metadata": {
    "tags": []
   },
   "outputs": [
    {
     "output_type": "stream",
     "name": "stderr",
     "text": "/home/ulysses/anaconda3/lib/python3.7/site-packages/pyecharts/charts/chart.py:14: PendingDeprecationWarning: pyecharts 所有图表类型将在 v1.9.0 版本开始强制使用 ChartItem 进行数据项配置 :)\n  super().__init__(init_opts=init_opts)\n"
    },
    {
     "output_type": "execute_result",
     "data": {
      "text/plain": "<pyecharts.render.display.HTML at 0x7f317e8b6850>",
      "text/html": "\n<script>\n    require.config({\n        paths: {\n            'echarts':'https://assets.pyecharts.org/assets/echarts.min'\n        }\n    });\n</script>\n\n        <div id=\"19ad1748f80b4eaf90ef681ed08fda23\" style=\"width:900px; height:500px;\"></div>\n\n<script>\n        require(['echarts'], function(echarts) {\n                var chart_19ad1748f80b4eaf90ef681ed08fda23 = echarts.init(\n                    document.getElementById('19ad1748f80b4eaf90ef681ed08fda23'), 'white', {renderer: 'canvas'});\n                var option_19ad1748f80b4eaf90ef681ed08fda23 = {\n    \"animation\": true,\n    \"animationThreshold\": 2000,\n    \"animationDuration\": 1000,\n    \"animationEasing\": \"cubicOut\",\n    \"animationDelay\": 0,\n    \"animationDurationUpdate\": 300,\n    \"animationEasingUpdate\": \"cubicOut\",\n    \"animationDelayUpdate\": 0,\n    \"color\": [\n        \"#c23531\",\n        \"#2f4554\",\n        \"#61a0a8\",\n        \"#d48265\",\n        \"#749f83\",\n        \"#ca8622\",\n        \"#bda29a\",\n        \"#6e7074\",\n        \"#546570\",\n        \"#c4ccd3\",\n        \"#f05b72\",\n        \"#ef5b9c\",\n        \"#f47920\",\n        \"#905a3d\",\n        \"#fab27b\",\n        \"#2a5caa\",\n        \"#444693\",\n        \"#726930\",\n        \"#b2d235\",\n        \"#6d8346\",\n        \"#ac6767\",\n        \"#1d953f\",\n        \"#6950a1\",\n        \"#918597\"\n    ],\n    \"series\": [\n        {\n            \"type\": \"graph\",\n            \"layout\": \"force\",\n            \"symbolSize\": 10,\n            \"circular\": {\n                \"rotateLabel\": false\n            },\n            \"force\": {\n                \"repulsion\": 4000,\n                \"edgeLength\": 50,\n                \"gravity\": 0.2\n            },\n            \"label\": {\n                \"show\": true,\n                \"position\": \"top\",\n                \"margin\": 8\n            },\n            \"lineStyle\": {\n                \"show\": true,\n                \"width\": 1,\n                \"opacity\": 1,\n                \"curveness\": 0,\n                \"type\": \"solid\"\n            },\n            \"roam\": true,\n            \"draggable\": false,\n            \"focusNodeAdjacency\": true,\n            \"data\": [\n                {\n                    \"name\": \"\\u7ed3\\u70b91\",\n                    \"fixed\": false,\n                    \"symbolSize\": 10\n                },\n                {\n                    \"name\": \"\\u7ed3\\u70b92\",\n                    \"fixed\": false,\n                    \"symbolSize\": 20\n                },\n                {\n                    \"name\": \"\\u7ed3\\u70b93\",\n                    \"fixed\": false,\n                    \"symbolSize\": 30\n                },\n                {\n                    \"name\": \"\\u7ed3\\u70b94\",\n                    \"fixed\": false,\n                    \"symbolSize\": 40\n                },\n                {\n                    \"name\": \"\\u7ed3\\u70b95\",\n                    \"fixed\": false,\n                    \"symbolSize\": 50\n                },\n                {\n                    \"name\": \"\\u7ed3\\u70b96\",\n                    \"fixed\": false,\n                    \"symbolSize\": 60\n                }\n            ],\n            \"edgeLabel\": {\n                \"show\": true,\n                \"position\": \"middle\",\n                \"margin\": 8,\n                \"formatter\": \"{b}\\u7684\\u6570\\u636e{c}\"\n            },\n            \"edgeSymbol\": [\n                null,\n                null\n            ],\n            \"edgeSymbolSize\": 10,\n            \"links\": [\n                {\n                    \"source\": \"\\u7ed3\\u70b91\",\n                    \"target\": \"\\u7ed3\\u70b92\",\n                    \"value\": 2\n                },\n                {\n                    \"source\": \"\\u7ed3\\u70b92\",\n                    \"target\": \"\\u7ed3\\u70b93\",\n                    \"value\": 3\n                },\n                {\n                    \"source\": \"\\u7ed3\\u70b93\",\n                    \"target\": \"\\u7ed3\\u70b94\",\n                    \"value\": 4\n                },\n                {\n                    \"source\": \"\\u7ed3\\u70b94\",\n                    \"target\": \"\\u7ed3\\u70b95\",\n                    \"value\": 5\n                },\n                {\n                    \"source\": \"\\u7ed3\\u70b95\",\n                    \"target\": \"\\u7ed3\\u70b96\",\n                    \"value\": 6\n                },\n                {\n                    \"source\": \"\\u7ed3\\u70b96\",\n                    \"target\": \"\\u7ed3\\u70b91\",\n                    \"value\": 7\n                }\n            ]\n        }\n    ],\n    \"legend\": [\n        {\n            \"data\": [],\n            \"selected\": {},\n            \"show\": true,\n            \"padding\": 5,\n            \"itemGap\": 10,\n            \"itemWidth\": 25,\n            \"itemHeight\": 14\n        }\n    ],\n    \"tooltip\": {\n        \"show\": true,\n        \"trigger\": \"item\",\n        \"triggerOn\": \"mousemove|click\",\n        \"axisPointer\": {\n            \"type\": \"line\"\n        },\n        \"showContent\": true,\n        \"alwaysShowContent\": false,\n        \"showDelay\": 0,\n        \"hideDelay\": 100,\n        \"textStyle\": {\n            \"fontSize\": 14\n        },\n        \"borderWidth\": 0,\n        \"padding\": 5\n    },\n    \"title\": [\n        {\n            \"text\": \"Graph-GraphNode-GraphLink-WithEdgeLabel\",\n            \"padding\": 5,\n            \"itemGap\": 10\n        }\n    ]\n};\n                chart_19ad1748f80b4eaf90ef681ed08fda23.setOption(option_19ad1748f80b4eaf90ef681ed08fda23);\n        });\n    </script>\n"
     },
     "metadata": {},
     "execution_count": 2
    }
   ],
   "source": [
    "nodes_data = [\n",
    "    opts.GraphNode(name=\"结点1\", symbol_size=10),\n",
    "    opts.GraphNode(name=\"结点2\", symbol_size=20),\n",
    "    opts.GraphNode(name=\"结点3\", symbol_size=30),\n",
    "    opts.GraphNode(name=\"结点4\", symbol_size=40),\n",
    "    opts.GraphNode(name=\"结点5\", symbol_size=50),\n",
    "    opts.GraphNode(name=\"结点6\", symbol_size=60),\n",
    "]\n",
    "links_data = [\n",
    "    opts.GraphLink(source=\"结点1\", target=\"结点2\", value=2),\n",
    "    opts.GraphLink(source=\"结点2\", target=\"结点3\", value=3),\n",
    "    opts.GraphLink(source=\"结点3\", target=\"结点4\", value=4),\n",
    "    opts.GraphLink(source=\"结点4\", target=\"结点5\", value=5),\n",
    "    opts.GraphLink(source=\"结点5\", target=\"结点6\", value=6),\n",
    "    opts.GraphLink(source=\"结点6\", target=\"结点1\", value=7),\n",
    "]\n",
    "\n",
    "c = Graph() \\\n",
    "    .add(\n",
    "        \"\",\n",
    "        nodes_data,\n",
    "        links_data,\n",
    "        repulsion=4000,\n",
    "        edge_label=opts.LabelOpts(\n",
    "            is_show=True, position='middle',\n",
    "            formatter=\"{b}的数据{c}\")\n",
    "    ) \\\n",
    "    .set_global_opts(title_opts=opts.TitleOpts(title=\"Graph-GraphNode-GraphLink-WithEdgeLabel\"))\n",
    "\n",
    "c.render_notebook()"
   ]
  },
  {
   "cell_type": "code",
   "execution_count": null,
   "metadata": {},
   "outputs": [],
   "source": []
  }
 ]
}