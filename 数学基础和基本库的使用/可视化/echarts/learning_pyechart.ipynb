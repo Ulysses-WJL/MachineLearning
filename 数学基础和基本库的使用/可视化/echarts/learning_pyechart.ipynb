{
 "metadata": {
  "language_info": {
   "codemirror_mode": {
    "name": "ipython",
    "version": 3
   },
   "file_extension": ".py",
   "mimetype": "text/x-python",
   "name": "python",
   "nbconvert_exporter": "python",
   "pygments_lexer": "ipython3",
   "version": "3.7.6-final"
  },
  "orig_nbformat": 2,
  "kernelspec": {
   "name": "python_defaultSpec_1598340171096",
   "display_name": "Python 3.7.6 64-bit ('base': conda)"
  }
 },
 "nbformat": 4,
 "nbformat_minor": 2,
 "cells": [
  {
   "cell_type": "code",
   "execution_count": 1,
   "metadata": {},
   "outputs": [],
   "source": [
    "# from pyecharts.globals import CurrentConfig, NotebookType\n",
    "# CurrentConfig.NOTEBOOK_TYPE = NotebookType.JUPYTER_LAB"
   ]
  },
  {
   "cell_type": "code",
   "execution_count": 2,
   "metadata": {
    "tags": []
   },
   "outputs": [
    {
     "output_type": "stream",
     "name": "stderr",
     "text": "/home/ulysses/anaconda3/lib/python3.7/site-packages/pyecharts/charts/chart.py:14: PendingDeprecationWarning: pyecharts 所有图表类型将在 v1.9.0 版本开始强制使用 ChartItem 进行数据项配置 :)\n  super().__init__(init_opts=init_opts)\n"
    },
    {
     "output_type": "execute_result",
     "data": {
      "text/plain": "'/mnt/data1/workspace/AI/MachineLearning/数学基础和基本库的使用/echarts/mycharts.html'"
     },
     "metadata": {},
     "execution_count": 2
    }
   ],
   "source": [
    "from  pyecharts.charts import Bar\n",
    "\n",
    "bar = Bar()\n",
    "bar.add_xaxis([\"衬衫\", \"羊毛衫\", \"雪纺衫\", \"裤子\", \"高跟鞋\", \"袜子\"])\n",
    "bar.add_yaxis(\"商家A\", [5, 20, 36, 10, 75, 90])\n",
    "\n",
    "bar.render('mycharts.html')\n",
    "# bar.render_notebook()"
   ]
  },
  {
   "cell_type": "code",
   "execution_count": 3,
   "metadata": {
    "tags": []
   },
   "outputs": [
    {
     "output_type": "stream",
     "name": "stderr",
     "text": "/home/ulysses/anaconda3/lib/python3.7/site-packages/pyecharts/charts/chart.py:14: PendingDeprecationWarning: pyecharts 所有图表类型将在 v1.9.0 版本开始强制使用 ChartItem 进行数据项配置 :)\n  super().__init__(init_opts=init_opts)\n"
    },
    {
     "output_type": "execute_result",
     "data": {
      "text/plain": "<pyecharts.render.display.HTML at 0x7fa1d4329b10>",
      "text/html": "\n<script>\n    require.config({\n        paths: {\n            'echarts':'https://assets.pyecharts.org/assets/echarts.min'\n        }\n    });\n</script>\n\n        <div id=\"6764ea13f9724af69121d9d7b527616f\" style=\"width:900px; height:500px;\"></div>\n\n<script>\n        require(['echarts'], function(echarts) {\n                var chart_6764ea13f9724af69121d9d7b527616f = echarts.init(\n                    document.getElementById('6764ea13f9724af69121d9d7b527616f'), 'white', {renderer: 'canvas'});\n                var option_6764ea13f9724af69121d9d7b527616f = {\n    \"animation\": true,\n    \"animationThreshold\": 2000,\n    \"animationDuration\": 1000,\n    \"animationEasing\": \"cubicOut\",\n    \"animationDelay\": 0,\n    \"animationDurationUpdate\": 300,\n    \"animationEasingUpdate\": \"cubicOut\",\n    \"animationDelayUpdate\": 0,\n    \"color\": [\n        \"#c23531\",\n        \"#2f4554\",\n        \"#61a0a8\",\n        \"#d48265\",\n        \"#749f83\",\n        \"#ca8622\",\n        \"#bda29a\",\n        \"#6e7074\",\n        \"#546570\",\n        \"#c4ccd3\",\n        \"#f05b72\",\n        \"#ef5b9c\",\n        \"#f47920\",\n        \"#905a3d\",\n        \"#fab27b\",\n        \"#2a5caa\",\n        \"#444693\",\n        \"#726930\",\n        \"#b2d235\",\n        \"#6d8346\",\n        \"#ac6767\",\n        \"#1d953f\",\n        \"#6950a1\",\n        \"#918597\"\n    ],\n    \"series\": [\n        {\n            \"type\": \"bar\",\n            \"name\": \"\\u5546\\u5bb6A\",\n            \"legendHoverLink\": true,\n            \"data\": [\n                5,\n                20,\n                36,\n                10,\n                75,\n                90\n            ],\n            \"showBackground\": false,\n            \"barMinHeight\": 0,\n            \"barCategoryGap\": \"20%\",\n            \"barGap\": \"30%\",\n            \"large\": false,\n            \"largeThreshold\": 400,\n            \"seriesLayoutBy\": \"column\",\n            \"datasetIndex\": 0,\n            \"clip\": true,\n            \"zlevel\": 0,\n            \"z\": 2,\n            \"label\": {\n                \"show\": true,\n                \"position\": \"top\",\n                \"margin\": 8\n            }\n        }\n    ],\n    \"legend\": [\n        {\n            \"data\": [\n                \"\\u5546\\u5bb6A\"\n            ],\n            \"selected\": {\n                \"\\u5546\\u5bb6A\": true\n            }\n        }\n    ],\n    \"tooltip\": {\n        \"show\": true,\n        \"trigger\": \"item\",\n        \"triggerOn\": \"mousemove|click\",\n        \"axisPointer\": {\n            \"type\": \"line\"\n        },\n        \"showContent\": true,\n        \"alwaysShowContent\": false,\n        \"showDelay\": 0,\n        \"hideDelay\": 100,\n        \"textStyle\": {\n            \"fontSize\": 14\n        },\n        \"borderWidth\": 0,\n        \"padding\": 5\n    },\n    \"xAxis\": [\n        {\n            \"show\": true,\n            \"scale\": false,\n            \"nameLocation\": \"end\",\n            \"nameGap\": 15,\n            \"gridIndex\": 0,\n            \"inverse\": false,\n            \"offset\": 0,\n            \"splitNumber\": 5,\n            \"minInterval\": 0,\n            \"splitLine\": {\n                \"show\": false,\n                \"lineStyle\": {\n                    \"show\": true,\n                    \"width\": 1,\n                    \"opacity\": 1,\n                    \"curveness\": 0,\n                    \"type\": \"solid\"\n                }\n            },\n            \"data\": [\n                \"\\u886c\\u886b\",\n                \"\\u7f8a\\u6bdb\\u886b\",\n                \"\\u96ea\\u7eba\\u886b\",\n                \"\\u88e4\\u5b50\",\n                \"\\u9ad8\\u8ddf\\u978b\",\n                \"\\u889c\\u5b50\"\n            ]\n        }\n    ],\n    \"yAxis\": [\n        {\n            \"show\": true,\n            \"scale\": false,\n            \"nameLocation\": \"end\",\n            \"nameGap\": 15,\n            \"gridIndex\": 0,\n            \"inverse\": false,\n            \"offset\": 0,\n            \"splitNumber\": 5,\n            \"minInterval\": 0,\n            \"splitLine\": {\n                \"show\": false,\n                \"lineStyle\": {\n                    \"show\": true,\n                    \"width\": 1,\n                    \"opacity\": 1,\n                    \"curveness\": 0,\n                    \"type\": \"solid\"\n                }\n            }\n        }\n    ]\n};\n                chart_6764ea13f9724af69121d9d7b527616f.setOption(option_6764ea13f9724af69121d9d7b527616f);\n        });\n    </script>\n"
     },
     "metadata": {},
     "execution_count": 3
    }
   ],
   "source": [
    "# 链式调用\n",
    "bar = Bar() \\\n",
    "    .add_xaxis([\"衬衫\", \"羊毛衫\", \"雪纺衫\", \"裤子\", \"高跟鞋\", \"袜子\"]) \\\n",
    "    .add_yaxis(\"商家A\", [5, 20, 36, 10, 75, 90])\n",
    "bar.render_notebook()"
   ]
  },
  {
   "cell_type": "code",
   "execution_count": 4,
   "metadata": {
    "tags": []
   },
   "outputs": [
    {
     "output_type": "stream",
     "name": "stderr",
     "text": "/home/ulysses/anaconda3/lib/python3.7/site-packages/pyecharts/charts/chart.py:14: PendingDeprecationWarning: pyecharts 所有图表类型将在 v1.9.0 版本开始强制使用 ChartItem 进行数据项配置 :)\n  super().__init__(init_opts=init_opts)\n"
    },
    {
     "output_type": "execute_result",
     "data": {
      "text/plain": "<pyecharts.render.display.HTML at 0x7fa1c65ba1d0>",
      "text/html": "\n<script>\n    require.config({\n        paths: {\n            'echarts':'https://assets.pyecharts.org/assets/echarts.min'\n        }\n    });\n</script>\n\n        <div id=\"f32a503f263b4686a2c6399a80c844f7\" style=\"width:900px; height:500px;\"></div>\n\n<script>\n        require(['echarts'], function(echarts) {\n                var chart_f32a503f263b4686a2c6399a80c844f7 = echarts.init(\n                    document.getElementById('f32a503f263b4686a2c6399a80c844f7'), 'white', {renderer: 'canvas'});\n                var option_f32a503f263b4686a2c6399a80c844f7 = {\n    \"animation\": true,\n    \"animationThreshold\": 2000,\n    \"animationDuration\": 1000,\n    \"animationEasing\": \"cubicOut\",\n    \"animationDelay\": 0,\n    \"animationDurationUpdate\": 300,\n    \"animationEasingUpdate\": \"cubicOut\",\n    \"animationDelayUpdate\": 0,\n    \"color\": [\n        \"#c23531\",\n        \"#2f4554\",\n        \"#61a0a8\",\n        \"#d48265\",\n        \"#749f83\",\n        \"#ca8622\",\n        \"#bda29a\",\n        \"#6e7074\",\n        \"#546570\",\n        \"#c4ccd3\",\n        \"#f05b72\",\n        \"#ef5b9c\",\n        \"#f47920\",\n        \"#905a3d\",\n        \"#fab27b\",\n        \"#2a5caa\",\n        \"#444693\",\n        \"#726930\",\n        \"#b2d235\",\n        \"#6d8346\",\n        \"#ac6767\",\n        \"#1d953f\",\n        \"#6950a1\",\n        \"#918597\"\n    ],\n    \"series\": [\n        {\n            \"type\": \"bar\",\n            \"name\": \"\\u5546\\u5bb6A\",\n            \"legendHoverLink\": true,\n            \"data\": [\n                5,\n                20,\n                36,\n                10,\n                75,\n                90\n            ],\n            \"showBackground\": false,\n            \"barMinHeight\": 0,\n            \"barCategoryGap\": \"20%\",\n            \"barGap\": \"30%\",\n            \"large\": false,\n            \"largeThreshold\": 400,\n            \"seriesLayoutBy\": \"column\",\n            \"datasetIndex\": 0,\n            \"clip\": true,\n            \"zlevel\": 0,\n            \"z\": 2,\n            \"label\": {\n                \"show\": true,\n                \"position\": \"top\",\n                \"margin\": 8\n            }\n        }\n    ],\n    \"legend\": [\n        {\n            \"data\": [\n                \"\\u5546\\u5bb6A\"\n            ],\n            \"selected\": {\n                \"\\u5546\\u5bb6A\": true\n            },\n            \"show\": true,\n            \"padding\": 5,\n            \"itemGap\": 10,\n            \"itemWidth\": 25,\n            \"itemHeight\": 14\n        }\n    ],\n    \"tooltip\": {\n        \"show\": true,\n        \"trigger\": \"item\",\n        \"triggerOn\": \"mousemove|click\",\n        \"axisPointer\": {\n            \"type\": \"line\"\n        },\n        \"showContent\": true,\n        \"alwaysShowContent\": false,\n        \"showDelay\": 0,\n        \"hideDelay\": 100,\n        \"textStyle\": {\n            \"fontSize\": 14\n        },\n        \"borderWidth\": 0,\n        \"padding\": 5\n    },\n    \"xAxis\": [\n        {\n            \"show\": true,\n            \"scale\": false,\n            \"nameLocation\": \"end\",\n            \"nameGap\": 15,\n            \"gridIndex\": 0,\n            \"inverse\": false,\n            \"offset\": 0,\n            \"splitNumber\": 5,\n            \"minInterval\": 0,\n            \"splitLine\": {\n                \"show\": false,\n                \"lineStyle\": {\n                    \"show\": true,\n                    \"width\": 1,\n                    \"opacity\": 1,\n                    \"curveness\": 0,\n                    \"type\": \"solid\"\n                }\n            },\n            \"data\": [\n                \"\\u886c\\u886b\",\n                \"\\u7f8a\\u6bdb\\u886b\",\n                \"\\u96ea\\u7eba\\u886b\",\n                \"\\u88e4\\u5b50\",\n                \"\\u9ad8\\u8ddf\\u978b\",\n                \"\\u889c\\u5b50\"\n            ]\n        }\n    ],\n    \"yAxis\": [\n        {\n            \"show\": true,\n            \"scale\": false,\n            \"nameLocation\": \"end\",\n            \"nameGap\": 15,\n            \"gridIndex\": 0,\n            \"inverse\": false,\n            \"offset\": 0,\n            \"splitNumber\": 5,\n            \"minInterval\": 0,\n            \"splitLine\": {\n                \"show\": false,\n                \"lineStyle\": {\n                    \"show\": true,\n                    \"width\": 1,\n                    \"opacity\": 1,\n                    \"curveness\": 0,\n                    \"type\": \"solid\"\n                }\n            }\n        }\n    ],\n    \"title\": {\n        \"text\": \"\\u4e3b\\u6807\\u9898\",\n        \"subtext\": \"\\u526f\\u6807\\u9898\"\n    }\n};\n                chart_f32a503f263b4686a2c6399a80c844f7.setOption(option_f32a503f263b4686a2c6399a80c844f7);\n        });\n    </script>\n"
     },
     "metadata": {},
     "execution_count": 4
    }
   ],
   "source": [
    "# 使用 options 配置项，在 pyecharts 中，一切皆 Options\n",
    "bar = Bar() \\\n",
    "    .add_xaxis([\"衬衫\", \"羊毛衫\", \"雪纺衫\", \"裤子\", \"高跟鞋\", \"袜子\"]) \\\n",
    "    .add_yaxis(\"商家A\", [5, 20, 36, 10, 75, 90]) \\\n",
    "    .set_global_opts(title_opts={'text':\"主标题\", 'subtext':\"副标题\"})\n",
    "bar.render_notebook()"
   ]
  },
  {
   "cell_type": "code",
   "execution_count": 5,
   "metadata": {
    "tags": []
   },
   "outputs": [
    {
     "output_type": "stream",
     "name": "stderr",
     "text": "/home/ulysses/anaconda3/lib/python3.7/site-packages/pyecharts/charts/chart.py:14: PendingDeprecationWarning: pyecharts 所有图表类型将在 v1.9.0 版本开始强制使用 ChartItem 进行数据项配置 :)\n  super().__init__(init_opts=init_opts)\n"
    }
   ],
   "source": [
    "# 渲染成图片文件\n",
    "from pyecharts.charts import Bar\n",
    "from pyecharts.render import make_snapshot\n",
    "from snapshot_selenium import snapshot\n",
    "\n",
    "bar = Bar() \\\n",
    "    .add_xaxis([\"衬衫\", \"羊毛衫\", \"雪纺衫\", \"裤子\", \"高跟鞋\", \"袜子\"]) \\\n",
    "    .add_yaxis('商品', [5, 20, 36, 10, 75, 90])\n",
    "make_snapshot(snapshot, bar.render(), 'bar.png')"
   ]
  },
  {
   "cell_type": "code",
   "execution_count": 6,
   "metadata": {},
   "outputs": [],
   "source": [
    "# 使用主题\n",
    "import pyecharts\n",
    "from pyecharts.charts import Bar\n",
    "from pyecharts import options as opts\n",
    "from pyecharts.globals import ThemeType\n"
   ]
  },
  {
   "cell_type": "code",
   "execution_count": 7,
   "metadata": {},
   "outputs": [
    {
     "output_type": "execute_result",
     "data": {
      "text/plain": "<pyecharts.globals._ThemeType at 0x7fa1c67fc690>"
     },
     "metadata": {},
     "execution_count": 7
    }
   ],
   "source": [
    "pyecharts.globals.ThemeType"
   ]
  },
  {
   "cell_type": "code",
   "execution_count": 8,
   "metadata": {
    "tags": []
   },
   "outputs": [
    {
     "output_type": "stream",
     "name": "stdout",
     "text": "Object `set_global_opts` not found.\n"
    }
   ],
   "source": [
    "Bar().set_global_opts?"
   ]
  },
  {
   "cell_type": "code",
   "execution_count": 9,
   "metadata": {
    "tags": []
   },
   "outputs": [
    {
     "output_type": "stream",
     "name": "stderr",
     "text": "/home/ulysses/anaconda3/lib/python3.7/site-packages/pyecharts/charts/chart.py:14: PendingDeprecationWarning: pyecharts 所有图表类型将在 v1.9.0 版本开始强制使用 ChartItem 进行数据项配置 :)\n  super().__init__(init_opts=init_opts)\n"
    },
    {
     "output_type": "execute_result",
     "data": {
      "text/plain": "<pyecharts.render.display.HTML at 0x7fa1c6549990>",
      "text/html": "\n<script>\n    require.config({\n        paths: {\n            'echarts':'https://assets.pyecharts.org/assets/echarts.min'\n        }\n    });\n</script>\n\n        <div id=\"81300c9053af446680382fd4ada0719d\" style=\"width:900px; height:500px;\"></div>\n\n<script>\n        require(['echarts'], function(echarts) {\n                var chart_81300c9053af446680382fd4ada0719d = echarts.init(\n                    document.getElementById('81300c9053af446680382fd4ada0719d'), 'light', {renderer: 'canvas'});\n                var option_81300c9053af446680382fd4ada0719d = {\n    \"animation\": true,\n    \"animationThreshold\": 2000,\n    \"animationDuration\": 1000,\n    \"animationEasing\": \"cubicOut\",\n    \"animationDelay\": 0,\n    \"animationDurationUpdate\": 300,\n    \"animationEasingUpdate\": \"cubicOut\",\n    \"animationDelayUpdate\": 0,\n    \"series\": [\n        {\n            \"type\": \"bar\",\n            \"name\": \"\\u5546\\u5bb6A\",\n            \"legendHoverLink\": true,\n            \"data\": [\n                5,\n                20,\n                36,\n                10,\n                75,\n                90\n            ],\n            \"showBackground\": false,\n            \"barMinHeight\": 0,\n            \"barCategoryGap\": \"20%\",\n            \"barGap\": \"30%\",\n            \"large\": false,\n            \"largeThreshold\": 400,\n            \"seriesLayoutBy\": \"column\",\n            \"datasetIndex\": 0,\n            \"clip\": true,\n            \"zlevel\": 0,\n            \"z\": 2,\n            \"label\": {\n                \"show\": true,\n                \"position\": \"top\",\n                \"margin\": 8\n            }\n        },\n        {\n            \"type\": \"bar\",\n            \"name\": \"\\u5546\\u5bb6B\",\n            \"legendHoverLink\": true,\n            \"data\": [\n                15,\n                6,\n                45,\n                20,\n                35,\n                66\n            ],\n            \"showBackground\": false,\n            \"barMinHeight\": 0,\n            \"barCategoryGap\": \"20%\",\n            \"barGap\": \"30%\",\n            \"large\": false,\n            \"largeThreshold\": 400,\n            \"seriesLayoutBy\": \"column\",\n            \"datasetIndex\": 0,\n            \"clip\": true,\n            \"zlevel\": 0,\n            \"z\": 2,\n            \"label\": {\n                \"show\": true,\n                \"position\": \"top\",\n                \"margin\": 8\n            }\n        }\n    ],\n    \"legend\": [\n        {\n            \"data\": [\n                \"\\u5546\\u5bb6A\",\n                \"\\u5546\\u5bb6B\"\n            ],\n            \"selected\": {\n                \"\\u5546\\u5bb6A\": true,\n                \"\\u5546\\u5bb6B\": true\n            },\n            \"show\": true,\n            \"padding\": 5,\n            \"itemGap\": 10,\n            \"itemWidth\": 25,\n            \"itemHeight\": 14\n        }\n    ],\n    \"tooltip\": {\n        \"show\": true,\n        \"trigger\": \"item\",\n        \"triggerOn\": \"mousemove|click\",\n        \"axisPointer\": {\n            \"type\": \"line\"\n        },\n        \"showContent\": true,\n        \"alwaysShowContent\": false,\n        \"showDelay\": 0,\n        \"hideDelay\": 100,\n        \"textStyle\": {\n            \"fontSize\": 14\n        },\n        \"borderWidth\": 0,\n        \"padding\": 5\n    },\n    \"xAxis\": [\n        {\n            \"show\": true,\n            \"scale\": false,\n            \"nameLocation\": \"end\",\n            \"nameGap\": 15,\n            \"gridIndex\": 0,\n            \"inverse\": false,\n            \"offset\": 0,\n            \"splitNumber\": 5,\n            \"minInterval\": 0,\n            \"splitLine\": {\n                \"show\": false,\n                \"lineStyle\": {\n                    \"show\": true,\n                    \"width\": 1,\n                    \"opacity\": 1,\n                    \"curveness\": 0,\n                    \"type\": \"solid\"\n                }\n            },\n            \"data\": [\n                \"\\u886c\\u886b\",\n                \"\\u7f8a\\u6bdb\\u886b\",\n                \"\\u96ea\\u7eba\\u886b\",\n                \"\\u88e4\\u5b50\",\n                \"\\u9ad8\\u8ddf\\u978b\",\n                \"\\u889c\\u5b50\"\n            ]\n        }\n    ],\n    \"yAxis\": [\n        {\n            \"show\": true,\n            \"scale\": false,\n            \"nameLocation\": \"end\",\n            \"nameGap\": 15,\n            \"gridIndex\": 0,\n            \"inverse\": false,\n            \"offset\": 0,\n            \"splitNumber\": 5,\n            \"minInterval\": 0,\n            \"splitLine\": {\n                \"show\": false,\n                \"lineStyle\": {\n                    \"show\": true,\n                    \"width\": 1,\n                    \"opacity\": 1,\n                    \"curveness\": 0,\n                    \"type\": \"solid\"\n                }\n            }\n        }\n    ],\n    \"title\": [\n        {\n            \"text\": \"\\u4e3b\\u6807\\u9898\",\n            \"subtext\": \"\\u526f\\u6807\\u9898\",\n            \"padding\": 5,\n            \"itemGap\": 10\n        }\n    ]\n};\n                chart_81300c9053af446680382fd4ada0719d.setOption(option_81300c9053af446680382fd4ada0719d);\n        });\n    </script>\n"
     },
     "metadata": {},
     "execution_count": 9
    }
   ],
   "source": [
    "bar = Bar(init_opts=opts.InitOpts(theme=ThemeType.LIGHT)) \\\n",
    "    .add_xaxis([\"衬衫\", \"羊毛衫\", \"雪纺衫\", \"裤子\", \"高跟鞋\", \"袜子\"]) \\\n",
    "    .add_yaxis(\"商家A\", [5, 20, 36, 10, 75, 90]) \\\n",
    "    .add_yaxis(\"商家B\", [15, 6, 45, 20, 35, 66]) \\\n",
    "    .set_global_opts(title_opts=opts.TitleOpts(title=\"主标题\", subtitle=\"副标题\"), )\n",
    "bar.render_notebook()"
   ]
  },
  {
   "cell_type": "code",
   "execution_count": 10,
   "metadata": {
    "tags": []
   },
   "outputs": [
    {
     "output_type": "stream",
     "name": "stderr",
     "text": "/home/ulysses/anaconda3/lib/python3.7/site-packages/pyecharts/charts/chart.py:14: PendingDeprecationWarning: pyecharts 所有图表类型将在 v1.9.0 版本开始强制使用 ChartItem 进行数据项配置 :)\n  super().__init__(init_opts=init_opts)\n"
    },
    {
     "output_type": "execute_result",
     "data": {
      "text/plain": "<pyecharts.render.display.HTML at 0x7fa1d42f5bd0>",
      "text/html": "\n<script>\n    require.config({\n        paths: {\n            'echarts':'https://assets.pyecharts.org/assets/echarts.min'\n        }\n    });\n</script>\n\n        <div id=\"63cd38057eb343cc8fa00e94dc5ae6ef\" style=\"width:900px; height:500px;\"></div>\n\n<script>\n        require(['echarts'], function(echarts) {\n                var chart_63cd38057eb343cc8fa00e94dc5ae6ef = echarts.init(\n                    document.getElementById('63cd38057eb343cc8fa00e94dc5ae6ef'), 'white', {renderer: 'canvas'});\n                var option_63cd38057eb343cc8fa00e94dc5ae6ef = {\n    \"animation\": true,\n    \"animationThreshold\": 2000,\n    \"animationDuration\": 1000,\n    \"animationEasing\": \"cubicOut\",\n    \"animationDelay\": 0,\n    \"animationDurationUpdate\": 300,\n    \"animationEasingUpdate\": \"cubicOut\",\n    \"animationDelayUpdate\": 0,\n    \"color\": [\n        \"#c23531\",\n        \"#2f4554\",\n        \"#61a0a8\",\n        \"#d48265\",\n        \"#749f83\",\n        \"#ca8622\",\n        \"#bda29a\",\n        \"#6e7074\",\n        \"#546570\",\n        \"#c4ccd3\",\n        \"#f05b72\",\n        \"#ef5b9c\",\n        \"#f47920\",\n        \"#905a3d\",\n        \"#fab27b\",\n        \"#2a5caa\",\n        \"#444693\",\n        \"#726930\",\n        \"#b2d235\",\n        \"#6d8346\",\n        \"#ac6767\",\n        \"#1d953f\",\n        \"#6950a1\",\n        \"#918597\"\n    ],\n    \"series\": [\n        {\n            \"type\": \"pie\",\n            \"name\": \"\\u5546\\u54c1\",\n            \"clockwise\": true,\n            \"data\": [\n                {\n                    \"name\": \"\\u886c\\u886b\",\n                    \"value\": 11\n                },\n                {\n                    \"name\": \"\\u7f8a\\u6bdb\\u886b\",\n                    \"value\": 12\n                },\n                {\n                    \"name\": \"\\u96ea\\u7eba\\u886b\",\n                    \"value\": 13\n                },\n                {\n                    \"name\": \"\\u88e4\\u5b50\",\n                    \"value\": 10\n                },\n                {\n                    \"name\": \"\\u9ad8\\u8ddf\\u978b\",\n                    \"value\": 10\n                },\n                {\n                    \"name\": \"\\u889c\\u5b50\",\n                    \"value\": 10\n                }\n            ],\n            \"radius\": [\n                \"0%\",\n                \"75%\"\n            ],\n            \"center\": [\n                \"50%\",\n                \"50%\"\n            ],\n            \"label\": {\n                \"show\": true,\n                \"position\": \"top\",\n                \"margin\": 8,\n                \"formatter\": \"{b}: {c}\"\n            },\n            \"rippleEffect\": {\n                \"show\": true,\n                \"brushType\": \"stroke\",\n                \"scale\": 2.5,\n                \"period\": 4\n            }\n        }\n    ],\n    \"legend\": [\n        {\n            \"data\": [\n                \"\\u886c\\u886b\",\n                \"\\u7f8a\\u6bdb\\u886b\",\n                \"\\u96ea\\u7eba\\u886b\",\n                \"\\u88e4\\u5b50\",\n                \"\\u9ad8\\u8ddf\\u978b\",\n                \"\\u889c\\u5b50\"\n            ],\n            \"selected\": {},\n            \"show\": true,\n            \"padding\": 5,\n            \"itemGap\": 10,\n            \"itemWidth\": 25,\n            \"itemHeight\": 14\n        }\n    ],\n    \"tooltip\": {\n        \"show\": true,\n        \"trigger\": \"item\",\n        \"triggerOn\": \"mousemove|click\",\n        \"axisPointer\": {\n            \"type\": \"line\"\n        },\n        \"showContent\": true,\n        \"alwaysShowContent\": false,\n        \"showDelay\": 0,\n        \"hideDelay\": 100,\n        \"textStyle\": {\n            \"fontSize\": 14\n        },\n        \"borderWidth\": 0,\n        \"padding\": 5\n    },\n    \"title\": [\n        {\n            \"text\": \"Pie-\\u57fa\\u672c\",\n            \"padding\": 5,\n            \"itemGap\": 10\n        }\n    ]\n};\n                chart_63cd38057eb343cc8fa00e94dc5ae6ef.setOption(option_63cd38057eb343cc8fa00e94dc5ae6ef);\n        });\n    </script>\n"
     },
     "metadata": {},
     "execution_count": 10
    }
   ],
   "source": [
    "from pyecharts.charts import Pie\n",
    "attr =[\"衬衫\", \"羊毛衫\", \"雪纺衫\", \"裤子\", \"高跟鞋\", \"袜子\"]\n",
    "v1 =[11, 12, 13, 10, 10, 10]\n",
    "pie = Pie() \\\n",
    "    .add(\"商品\", [list(z) for z in zip(attr, v1)], is_clockwise=True) \\\n",
    "    .set_global_opts(title_opts=opts.TitleOpts(title=\"Pie-基本\")) \\\n",
    "    .set_series_opts(label_opts=opts.LabelOpts(formatter=\"{b}: {c}\"))\n",
    "\n",
    "pie.render_notebook()\n"
   ]
  },
  {
   "cell_type": "code",
   "execution_count": 11,
   "metadata": {
    "tags": []
   },
   "outputs": [
    {
     "output_type": "stream",
     "name": "stderr",
     "text": "namedtuple_TokenInfo:1: ResourceWarning: unclosed <socket.socket fd=58, family=AddressFamily.AF_INET, type=SocketKind.SOCK_STREAM, proto=6, laddr=('127.0.0.1', 56692), raddr=('127.0.0.1', 50101)>\nResourceWarning: Enable tracemalloc to get the object allocation traceback\n/home/ulysses/anaconda3/lib/python3.7/site-packages/pyecharts/charts/chart.py:14: PendingDeprecationWarning: pyecharts 所有图表类型将在 v1.9.0 版本开始强制使用 ChartItem 进行数据项配置 :)\n  super().__init__(init_opts=init_opts)\n"
    },
    {
     "output_type": "execute_result",
     "data": {
      "text/plain": "<pyecharts.render.display.HTML at 0x7fa1c63bef10>",
      "text/html": "\n<script>\n    require.config({\n        paths: {\n            'echarts':'https://assets.pyecharts.org/assets/echarts.min', 'echarts-wordcloud':'https://assets.pyecharts.org/assets/echarts-wordcloud.min'\n        }\n    });\n</script>\n\n        <div id=\"63135e1685c541c8ae9e2a9682fb835d\" style=\"width:900px; height:500px;\"></div>\n\n<script>\n        require(['echarts', 'echarts-wordcloud'], function(echarts) {\n                var chart_63135e1685c541c8ae9e2a9682fb835d = echarts.init(\n                    document.getElementById('63135e1685c541c8ae9e2a9682fb835d'), 'white', {renderer: 'canvas'});\n                var option_63135e1685c541c8ae9e2a9682fb835d = {\n    \"animation\": true,\n    \"animationThreshold\": 2000,\n    \"animationDuration\": 1000,\n    \"animationEasing\": \"cubicOut\",\n    \"animationDelay\": 0,\n    \"animationDurationUpdate\": 300,\n    \"animationEasingUpdate\": \"cubicOut\",\n    \"animationDelayUpdate\": 0,\n    \"color\": [\n        \"#c23531\",\n        \"#2f4554\",\n        \"#61a0a8\",\n        \"#d48265\",\n        \"#749f83\",\n        \"#ca8622\",\n        \"#bda29a\",\n        \"#6e7074\",\n        \"#546570\",\n        \"#c4ccd3\",\n        \"#f05b72\",\n        \"#ef5b9c\",\n        \"#f47920\",\n        \"#905a3d\",\n        \"#fab27b\",\n        \"#2a5caa\",\n        \"#444693\",\n        \"#726930\",\n        \"#b2d235\",\n        \"#6d8346\",\n        \"#ac6767\",\n        \"#1d953f\",\n        \"#6950a1\",\n        \"#918597\"\n    ],\n    \"series\": [\n        {\n            \"type\": \"wordCloud\",\n            \"name\": \"\\u70ed\\u70b9\\u5206\\u6790\",\n            \"shape\": \"circle\",\n            \"rotationRange\": [\n                -90,\n                90\n            ],\n            \"rotationStep\": 45,\n            \"girdSize\": 20,\n            \"sizeRange\": [\n                6,\n                66\n            ],\n            \"data\": [\n                {\n                    \"name\": \"\\u751f\\u6d3b\\u8d44\\u6e90\",\n                    \"value\": \"999\",\n                    \"textStyle\": {\n                        \"normal\": {\n                            \"color\": \"rgb(159,91,44)\"\n                        }\n                    }\n                },\n                {\n                    \"name\": \"\\u4f9b\\u70ed\\u7ba1\\u7406\",\n                    \"value\": \"888\",\n                    \"textStyle\": {\n                        \"normal\": {\n                            \"color\": \"rgb(121,91,24)\"\n                        }\n                    }\n                },\n                {\n                    \"name\": \"\\u4f9b\\u6c14\\u8d28\\u91cf\",\n                    \"value\": \"777\",\n                    \"textStyle\": {\n                        \"normal\": {\n                            \"color\": \"rgb(70,55,136)\"\n                        }\n                    }\n                },\n                {\n                    \"name\": \"\\u751f\\u6d3b\\u7528\\u6c34\\u7ba1\\u7406\",\n                    \"value\": \"688\",\n                    \"textStyle\": {\n                        \"normal\": {\n                            \"color\": \"rgb(21,85,76)\"\n                        }\n                    }\n                },\n                {\n                    \"name\": \"\\u4e00\\u6b21\\u4f9b\\u6c34\\u95ee\\u9898\",\n                    \"value\": \"588\",\n                    \"textStyle\": {\n                        \"normal\": {\n                            \"color\": \"rgb(79,108,82)\"\n                        }\n                    }\n                },\n                {\n                    \"name\": \"\\u4ea4\\u901a\\u8fd0\\u8f93\",\n                    \"value\": \"516\",\n                    \"textStyle\": {\n                        \"normal\": {\n                            \"color\": \"rgb(131,55,110)\"\n                        }\n                    }\n                },\n                {\n                    \"name\": \"\\u57ce\\u5e02\\u4ea4\\u901a\",\n                    \"value\": \"515\",\n                    \"textStyle\": {\n                        \"normal\": {\n                            \"color\": \"rgb(63,145,154)\"\n                        }\n                    }\n                },\n                {\n                    \"name\": \"\\u73af\\u5883\\u4fdd\\u62a4\",\n                    \"value\": \"483\",\n                    \"textStyle\": {\n                        \"normal\": {\n                            \"color\": \"rgb(152,82,21)\"\n                        }\n                    }\n                },\n                {\n                    \"name\": \"\\u623f\\u5730\\u4ea7\\u7ba1\\u7406\",\n                    \"value\": \"462\",\n                    \"textStyle\": {\n                        \"normal\": {\n                            \"color\": \"rgb(1,73,122)\"\n                        }\n                    }\n                },\n                {\n                    \"name\": \"\\u57ce\\u4e61\\u5efa\\u8bbe\",\n                    \"value\": \"449\",\n                    \"textStyle\": {\n                        \"normal\": {\n                            \"color\": \"rgb(21,68,26)\"\n                        }\n                    }\n                },\n                {\n                    \"name\": \"\\u793e\\u4f1a\\u4fdd\\u969c\\u4e0e\\u798f\\u5229\",\n                    \"value\": \"429\",\n                    \"textStyle\": {\n                        \"normal\": {\n                            \"color\": \"rgb(75,127,36)\"\n                        }\n                    }\n                },\n                {\n                    \"name\": \"\\u793e\\u4f1a\\u4fdd\\u969c\",\n                    \"value\": \"407\",\n                    \"textStyle\": {\n                        \"normal\": {\n                            \"color\": \"rgb(130,129,95)\"\n                        }\n                    }\n                },\n                {\n                    \"name\": \"\\u6587\\u4f53\\u4e0e\\u6559\\u80b2\\u7ba1\\u7406\",\n                    \"value\": \"406\",\n                    \"textStyle\": {\n                        \"normal\": {\n                            \"color\": \"rgb(57,5,69)\"\n                        }\n                    }\n                },\n                {\n                    \"name\": \"\\u516c\\u5171\\u5b89\\u5168\",\n                    \"value\": \"406\",\n                    \"textStyle\": {\n                        \"normal\": {\n                            \"color\": \"rgb(9,105,50)\"\n                        }\n                    }\n                },\n                {\n                    \"name\": \"\\u516c\\u4ea4\\u8fd0\\u8f93\\u7ba1\\u7406\",\n                    \"value\": \"386\",\n                    \"textStyle\": {\n                        \"normal\": {\n                            \"color\": \"rgb(99,131,109)\"\n                        }\n                    }\n                },\n                {\n                    \"name\": \"\\u51fa\\u79df\\u8f66\\u8fd0\\u8425\\u7ba1\\u7406\",\n                    \"value\": \"385\",\n                    \"textStyle\": {\n                        \"normal\": {\n                            \"color\": \"rgb(64,34,138)\"\n                        }\n                    }\n                },\n                {\n                    \"name\": \"\\u4f9b\\u70ed\\u7ba1\\u7406\",\n                    \"value\": \"375\",\n                    \"textStyle\": {\n                        \"normal\": {\n                            \"color\": \"rgb(151,28,31)\"\n                        }\n                    }\n                },\n                {\n                    \"name\": \"\\u5e02\\u5bb9\\u73af\\u536b\",\n                    \"value\": \"355\",\n                    \"textStyle\": {\n                        \"normal\": {\n                            \"color\": \"rgb(8,70,111)\"\n                        }\n                    }\n                },\n                {\n                    \"name\": \"\\u81ea\\u7136\\u8d44\\u6e90\\u7ba1\\u7406\",\n                    \"value\": \"355\",\n                    \"textStyle\": {\n                        \"normal\": {\n                            \"color\": \"rgb(128,35,9)\"\n                        }\n                    }\n                },\n                {\n                    \"name\": \"\\u7c89\\u5c18\\u6c61\\u67d3\",\n                    \"value\": \"335\",\n                    \"textStyle\": {\n                        \"normal\": {\n                            \"color\": \"rgb(38,96,18)\"\n                        }\n                    }\n                },\n                {\n                    \"name\": \"\\u566a\\u58f0\\u6c61\\u67d3\",\n                    \"value\": \"324\",\n                    \"textStyle\": {\n                        \"normal\": {\n                            \"color\": \"rgb(71,0,76)\"\n                        }\n                    }\n                },\n                {\n                    \"name\": \"\\u571f\\u5730\\u8d44\\u6e90\\u7ba1\\u7406\",\n                    \"value\": \"304\",\n                    \"textStyle\": {\n                        \"normal\": {\n                            \"color\": \"rgb(93,105,125)\"\n                        }\n                    }\n                },\n                {\n                    \"name\": \"\\u7269\\u4e1a\\u670d\\u52a1\\u4e0e\\u7ba1\\u7406\",\n                    \"value\": \"304\",\n                    \"textStyle\": {\n                        \"normal\": {\n                            \"color\": \"rgb(128,48,126)\"\n                        }\n                    }\n                },\n                {\n                    \"name\": \"\\u533b\\u7597\\u536b\\u751f\",\n                    \"value\": \"284\",\n                    \"textStyle\": {\n                        \"normal\": {\n                            \"color\": \"rgb(95,138,9)\"\n                        }\n                    }\n                },\n                {\n                    \"name\": \"\\u7c89\\u7164\\u7070\\u6c61\\u67d3\",\n                    \"value\": \"284\",\n                    \"textStyle\": {\n                        \"normal\": {\n                            \"color\": \"rgb(69,104,94)\"\n                        }\n                    }\n                },\n                {\n                    \"name\": \"\\u5360\\u9053\",\n                    \"value\": \"284\",\n                    \"textStyle\": {\n                        \"normal\": {\n                            \"color\": \"rgb(145,20,153)\"\n                        }\n                    }\n                },\n                {\n                    \"name\": \"\\u4f9b\\u70ed\\u53d1\\u5c55\",\n                    \"value\": \"254\",\n                    \"textStyle\": {\n                        \"normal\": {\n                            \"color\": \"rgb(150,28,35)\"\n                        }\n                    }\n                },\n                {\n                    \"name\": \"\\u519c\\u6751\\u571f\\u5730\\u89c4\\u5212\\u7ba1\\u7406\",\n                    \"value\": \"254\",\n                    \"textStyle\": {\n                        \"normal\": {\n                            \"color\": \"rgb(78,20,20)\"\n                        }\n                    }\n                },\n                {\n                    \"name\": \"\\u751f\\u6d3b\\u566a\\u97f3\",\n                    \"value\": \"253\",\n                    \"textStyle\": {\n                        \"normal\": {\n                            \"color\": \"rgb(73,90,60)\"\n                        }\n                    }\n                },\n                {\n                    \"name\": \"\\u4f9b\\u70ed\\u5355\\u4f4d\\u5f71\\u54cd\",\n                    \"value\": \"253\",\n                    \"textStyle\": {\n                        \"normal\": {\n                            \"color\": \"rgb(128,37,38)\"\n                        }\n                    }\n                },\n                {\n                    \"name\": \"\\u57ce\\u5e02\\u4f9b\\u7535\",\n                    \"value\": \"223\",\n                    \"textStyle\": {\n                        \"normal\": {\n                            \"color\": \"rgb(74,118,27)\"\n                        }\n                    }\n                },\n                {\n                    \"name\": \"\\u623f\\u5c4b\\u8d28\\u91cf\\u4e0e\\u5b89\\u5168\",\n                    \"value\": \"223\",\n                    \"textStyle\": {\n                        \"normal\": {\n                            \"color\": \"rgb(156,63,41)\"\n                        }\n                    }\n                },\n                {\n                    \"name\": \"\\u5927\\u6c14\\u6c61\\u67d3\",\n                    \"value\": \"223\",\n                    \"textStyle\": {\n                        \"normal\": {\n                            \"color\": \"rgb(92,76,155)\"\n                        }\n                    }\n                },\n                {\n                    \"name\": \"\\u623f\\u5c4b\\u5b89\\u5168\",\n                    \"value\": \"223\",\n                    \"textStyle\": {\n                        \"normal\": {\n                            \"color\": \"rgb(17,104,144)\"\n                        }\n                    }\n                },\n                {\n                    \"name\": \"\\u6587\\u5316\\u6d3b\\u52a8\",\n                    \"value\": \"223\",\n                    \"textStyle\": {\n                        \"normal\": {\n                            \"color\": \"rgb(108,39,50)\"\n                        }\n                    }\n                },\n                {\n                    \"name\": \"\\u62c6\\u8fc1\\u7ba1\\u7406\",\n                    \"value\": \"223\",\n                    \"textStyle\": {\n                        \"normal\": {\n                            \"color\": \"rgb(36,151,103)\"\n                        }\n                    }\n                },\n                {\n                    \"name\": \"\\u516c\\u5171\\u8bbe\\u65bd\",\n                    \"value\": \"223\",\n                    \"textStyle\": {\n                        \"normal\": {\n                            \"color\": \"rgb(34,69,149)\"\n                        }\n                    }\n                },\n                {\n                    \"name\": \"\\u4f9b\\u6c14\\u8d28\\u91cf\",\n                    \"value\": \"223\",\n                    \"textStyle\": {\n                        \"normal\": {\n                            \"color\": \"rgb(93,9,42)\"\n                        }\n                    }\n                },\n                {\n                    \"name\": \"\\u4f9b\\u7535\\u7ba1\\u7406\",\n                    \"value\": \"223\",\n                    \"textStyle\": {\n                        \"normal\": {\n                            \"color\": \"rgb(132,8,118)\"\n                        }\n                    }\n                },\n                {\n                    \"name\": \"\\u71c3\\u6c14\\u7ba1\\u7406\",\n                    \"value\": \"152\",\n                    \"textStyle\": {\n                        \"normal\": {\n                            \"color\": \"rgb(103,52,154)\"\n                        }\n                    }\n                },\n                {\n                    \"name\": \"\\u6559\\u80b2\\u7ba1\\u7406\",\n                    \"value\": \"152\",\n                    \"textStyle\": {\n                        \"normal\": {\n                            \"color\": \"rgb(135,147,13)\"\n                        }\n                    }\n                },\n                {\n                    \"name\": \"\\u533b\\u7597\\u7ea0\\u7eb7\",\n                    \"value\": \"152\",\n                    \"textStyle\": {\n                        \"normal\": {\n                            \"color\": \"rgb(26,126,91)\"\n                        }\n                    }\n                },\n                {\n                    \"name\": \"\\u6267\\u6cd5\\u76d1\\u7763\",\n                    \"value\": \"152\",\n                    \"textStyle\": {\n                        \"normal\": {\n                            \"color\": \"rgb(69,73,29)\"\n                        }\n                    }\n                },\n                {\n                    \"name\": \"\\u8bbe\\u5907\\u5b89\\u5168\",\n                    \"value\": \"152\",\n                    \"textStyle\": {\n                        \"normal\": {\n                            \"color\": \"rgb(124,136,126)\"\n                        }\n                    }\n                },\n                {\n                    \"name\": \"\\u653f\\u52a1\\u5efa\\u8bbe\",\n                    \"value\": \"152\",\n                    \"textStyle\": {\n                        \"normal\": {\n                            \"color\": \"rgb(21,101,37)\"\n                        }\n                    }\n                },\n                {\n                    \"name\": \"\\u53bf\\u533a\\u3001\\u5f00\\u53d1\\u533a\",\n                    \"value\": \"152\",\n                    \"textStyle\": {\n                        \"normal\": {\n                            \"color\": \"rgb(52,93,76)\"\n                        }\n                    }\n                },\n                {\n                    \"name\": \"\\u5b8f\\u89c2\\u7ecf\\u6d4e\",\n                    \"value\": \"152\",\n                    \"textStyle\": {\n                        \"normal\": {\n                            \"color\": \"rgb(12,65,61)\"\n                        }\n                    }\n                },\n                {\n                    \"name\": \"\\u6559\\u80b2\\u7ba1\\u7406\",\n                    \"value\": \"112\",\n                    \"textStyle\": {\n                        \"normal\": {\n                            \"color\": \"rgb(62,93,122)\"\n                        }\n                    }\n                },\n                {\n                    \"name\": \"\\u793e\\u4f1a\\u4fdd\\u969c\",\n                    \"value\": \"112\",\n                    \"textStyle\": {\n                        \"normal\": {\n                            \"color\": \"rgb(126,143,50)\"\n                        }\n                    }\n                },\n                {\n                    \"name\": \"\\u751f\\u6d3b\\u7528\\u6c34\\u7ba1\\u7406\",\n                    \"value\": \"112\",\n                    \"textStyle\": {\n                        \"normal\": {\n                            \"color\": \"rgb(30,67,148)\"\n                        }\n                    }\n                },\n                {\n                    \"name\": \"\\u7269\\u4e1a\\u670d\\u52a1\\u4e0e\\u7ba1\\u7406\",\n                    \"value\": \"112\",\n                    \"textStyle\": {\n                        \"normal\": {\n                            \"color\": \"rgb(96,63,15)\"\n                        }\n                    }\n                },\n                {\n                    \"name\": \"\\u5206\\u7c7b\\u5217\\u8868\",\n                    \"value\": \"112\",\n                    \"textStyle\": {\n                        \"normal\": {\n                            \"color\": \"rgb(0,139,138)\"\n                        }\n                    }\n                },\n                {\n                    \"name\": \"\\u519c\\u4e1a\\u751f\\u4ea7\",\n                    \"value\": \"112\",\n                    \"textStyle\": {\n                        \"normal\": {\n                            \"color\": \"rgb(124,61,93)\"\n                        }\n                    }\n                },\n                {\n                    \"name\": \"\\u4e8c\\u6b21\\u4f9b\\u6c34\\u95ee\\u9898\",\n                    \"value\": \"112\",\n                    \"textStyle\": {\n                        \"normal\": {\n                            \"color\": \"rgb(128,159,76)\"\n                        }\n                    }\n                },\n                {\n                    \"name\": \"\\u57ce\\u5e02\\u516c\\u5171\\u8bbe\\u65bd\",\n                    \"value\": \"92\",\n                    \"textStyle\": {\n                        \"normal\": {\n                            \"color\": \"rgb(95,45,63)\"\n                        }\n                    }\n                },\n                {\n                    \"name\": \"\\u62c6\\u8fc1\\u653f\\u7b56\\u54a8\\u8be2\",\n                    \"value\": \"92\",\n                    \"textStyle\": {\n                        \"normal\": {\n                            \"color\": \"rgb(12,87,59)\"\n                        }\n                    }\n                },\n                {\n                    \"name\": \"\\u7269\\u4e1a\\u670d\\u52a1\",\n                    \"value\": \"92\",\n                    \"textStyle\": {\n                        \"normal\": {\n                            \"color\": \"rgb(154,133,135)\"\n                        }\n                    }\n                },\n                {\n                    \"name\": \"\\u7269\\u4e1a\\u7ba1\\u7406\",\n                    \"value\": \"92\",\n                    \"textStyle\": {\n                        \"normal\": {\n                            \"color\": \"rgb(144,120,36)\"\n                        }\n                    }\n                },\n                {\n                    \"name\": \"\\u793e\\u4f1a\\u4fdd\\u969c\\u4fdd\\u9669\\u7ba1\\u7406\",\n                    \"value\": \"92\",\n                    \"textStyle\": {\n                        \"normal\": {\n                            \"color\": \"rgb(119,30,21)\"\n                        }\n                    }\n                },\n                {\n                    \"name\": \"\\u4f4e\\u4fdd\\u7ba1\\u7406\",\n                    \"value\": \"92\",\n                    \"textStyle\": {\n                        \"normal\": {\n                            \"color\": \"rgb(81,6,138)\"\n                        }\n                    }\n                },\n                {\n                    \"name\": \"\\u6587\\u5a31\\u5e02\\u573a\\u7ba1\\u7406\",\n                    \"value\": \"72\",\n                    \"textStyle\": {\n                        \"normal\": {\n                            \"color\": \"rgb(24,54,5)\"\n                        }\n                    }\n                },\n                {\n                    \"name\": \"\\u57ce\\u5e02\\u4ea4\\u901a\\u79e9\\u5e8f\\u7ba1\\u7406\",\n                    \"value\": \"72\",\n                    \"textStyle\": {\n                        \"normal\": {\n                            \"color\": \"rgb(10,73,17)\"\n                        }\n                    }\n                },\n                {\n                    \"name\": \"\\u6267\\u6cd5\\u4e89\\u8bae\",\n                    \"value\": \"72\",\n                    \"textStyle\": {\n                        \"normal\": {\n                            \"color\": \"rgb(90,114,160)\"\n                        }\n                    }\n                },\n                {\n                    \"name\": \"\\u5546\\u4e1a\\u70df\\u5c18\\u6c61\\u67d3\",\n                    \"value\": \"72\",\n                    \"textStyle\": {\n                        \"normal\": {\n                            \"color\": \"rgb(139,1,136)\"\n                        }\n                    }\n                },\n                {\n                    \"name\": \"\\u5360\\u9053\\u5806\\u653e\",\n                    \"value\": \"71\",\n                    \"textStyle\": {\n                        \"normal\": {\n                            \"color\": \"rgb(81,31,41)\"\n                        }\n                    }\n                },\n                {\n                    \"name\": \"\\u5730\\u4e0a\\u8bbe\\u65bd\",\n                    \"value\": \"71\",\n                    \"textStyle\": {\n                        \"normal\": {\n                            \"color\": \"rgb(149,53,32)\"\n                        }\n                    }\n                },\n                {\n                    \"name\": \"\\u6c34\\u8d28\",\n                    \"value\": \"71\",\n                    \"textStyle\": {\n                        \"normal\": {\n                            \"color\": \"rgb(115,38,150)\"\n                        }\n                    }\n                },\n                {\n                    \"name\": \"\\u65e0\\u6c34\",\n                    \"value\": \"71\",\n                    \"textStyle\": {\n                        \"normal\": {\n                            \"color\": \"rgb(122,105,4)\"\n                        }\n                    }\n                },\n                {\n                    \"name\": \"\\u4f9b\\u70ed\\u5355\\u4f4d\\u5f71\\u54cd\",\n                    \"value\": \"71\",\n                    \"textStyle\": {\n                        \"normal\": {\n                            \"color\": \"rgb(39,98,14)\"\n                        }\n                    }\n                },\n                {\n                    \"name\": \"\\u4eba\\u884c\\u9053\\u7ba1\\u7406\",\n                    \"value\": \"71\",\n                    \"textStyle\": {\n                        \"normal\": {\n                            \"color\": \"rgb(79,81,0)\"\n                        }\n                    }\n                },\n                {\n                    \"name\": \"\\u4e3b\\u7f51\\u539f\\u56e0\",\n                    \"value\": \"71\",\n                    \"textStyle\": {\n                        \"normal\": {\n                            \"color\": \"rgb(135,85,6)\"\n                        }\n                    }\n                },\n                {\n                    \"name\": \"\\u96c6\\u4e2d\\u4f9b\\u70ed\",\n                    \"value\": \"71\",\n                    \"textStyle\": {\n                        \"normal\": {\n                            \"color\": \"rgb(73,53,145)\"\n                        }\n                    }\n                },\n                {\n                    \"name\": \"\\u5ba2\\u8fd0\\u7ba1\\u7406\",\n                    \"value\": \"71\",\n                    \"textStyle\": {\n                        \"normal\": {\n                            \"color\": \"rgb(127,74,126)\"\n                        }\n                    }\n                },\n                {\n                    \"name\": \"\\u56fd\\u6709\\u516c\\u4ea4\\uff08\\u5927\\u5df4\\uff09\\u7ba1\\u7406\",\n                    \"value\": \"71\",\n                    \"textStyle\": {\n                        \"normal\": {\n                            \"color\": \"rgb(27,55,36)\"\n                        }\n                    }\n                },\n                {\n                    \"name\": \"\\u5de5\\u4e1a\\u7c89\\u5c18\\u6c61\\u67d3\",\n                    \"value\": \"71\",\n                    \"textStyle\": {\n                        \"normal\": {\n                            \"color\": \"rgb(105,20,142)\"\n                        }\n                    }\n                },\n                {\n                    \"name\": \"\\u6cbb\\u5b89\\u6848\\u4ef6\",\n                    \"value\": \"71\",\n                    \"textStyle\": {\n                        \"normal\": {\n                            \"color\": \"rgb(10,69,9)\"\n                        }\n                    }\n                },\n                {\n                    \"name\": \"\\u538b\\u529b\\u5bb9\\u5668\\u5b89\\u5168\",\n                    \"value\": \"71\",\n                    \"textStyle\": {\n                        \"normal\": {\n                            \"color\": \"rgb(142,134,22)\"\n                        }\n                    }\n                },\n                {\n                    \"name\": \"\\u8eab\\u4efd\\u8bc1\\u7ba1\\u7406\",\n                    \"value\": \"71\",\n                    \"textStyle\": {\n                        \"normal\": {\n                            \"color\": \"rgb(54,159,135)\"\n                        }\n                    }\n                },\n                {\n                    \"name\": \"\\u7fa4\\u4f17\\u5065\\u8eab\",\n                    \"value\": \"41\",\n                    \"textStyle\": {\n                        \"normal\": {\n                            \"color\": \"rgb(55,24,67)\"\n                        }\n                    }\n                },\n                {\n                    \"name\": \"\\u5de5\\u4e1a\\u6392\\u653e\\u6c61\\u67d3\",\n                    \"value\": \"41\",\n                    \"textStyle\": {\n                        \"normal\": {\n                            \"color\": \"rgb(92,141,115)\"\n                        }\n                    }\n                },\n                {\n                    \"name\": \"\\u7834\\u574f\\u68ee\\u6797\\u8d44\\u6e90\",\n                    \"value\": \"41\",\n                    \"textStyle\": {\n                        \"normal\": {\n                            \"color\": \"rgb(133,109,130)\"\n                        }\n                    }\n                },\n                {\n                    \"name\": \"\\u5e02\\u573a\\u6536\\u8d39\",\n                    \"value\": \"41\",\n                    \"textStyle\": {\n                        \"normal\": {\n                            \"color\": \"rgb(99,28,122)\"\n                        }\n                    }\n                },\n                {\n                    \"name\": \"\\u751f\\u4ea7\\u8d44\\u91d1\",\n                    \"value\": \"41\",\n                    \"textStyle\": {\n                        \"normal\": {\n                            \"color\": \"rgb(128,118,138)\"\n                        }\n                    }\n                },\n                {\n                    \"name\": \"\\u751f\\u4ea7\\u566a\\u58f0\",\n                    \"value\": \"41\",\n                    \"textStyle\": {\n                        \"normal\": {\n                            \"color\": \"rgb(78,4,28)\"\n                        }\n                    }\n                },\n                {\n                    \"name\": \"\\u519c\\u6751\\u4f4e\\u4fdd\",\n                    \"value\": \"41\",\n                    \"textStyle\": {\n                        \"normal\": {\n                            \"color\": \"rgb(63,11,106)\"\n                        }\n                    }\n                },\n                {\n                    \"name\": \"\\u52b3\\u52a8\\u4e89\\u8bae\",\n                    \"value\": \"41\",\n                    \"textStyle\": {\n                        \"normal\": {\n                            \"color\": \"rgb(52,1,20)\"\n                        }\n                    }\n                },\n                {\n                    \"name\": \"\\u52b3\\u52a8\\u5408\\u540c\\u4e89\\u8bae\",\n                    \"value\": \"41\",\n                    \"textStyle\": {\n                        \"normal\": {\n                            \"color\": \"rgb(87,73,36)\"\n                        }\n                    }\n                },\n                {\n                    \"name\": \"\\u52b3\\u52a8\\u62a5\\u916c\\u4e0e\\u798f\\u5229\",\n                    \"value\": \"41\",\n                    \"textStyle\": {\n                        \"normal\": {\n                            \"color\": \"rgb(82,14,130)\"\n                        }\n                    }\n                },\n                {\n                    \"name\": \"\\u533b\\u7597\\u4e8b\\u6545\",\n                    \"value\": \"21\",\n                    \"textStyle\": {\n                        \"normal\": {\n                            \"color\": \"rgb(153,70,124)\"\n                        }\n                    }\n                },\n                {\n                    \"name\": \"\\u505c\\u4f9b\",\n                    \"value\": \"21\",\n                    \"textStyle\": {\n                        \"normal\": {\n                            \"color\": \"rgb(39,65,148)\"\n                        }\n                    }\n                },\n                {\n                    \"name\": \"\\u57fa\\u7840\\u6559\\u80b2\",\n                    \"value\": \"21\",\n                    \"textStyle\": {\n                        \"normal\": {\n                            \"color\": \"rgb(86,128,136)\"\n                        }\n                    }\n                },\n                {\n                    \"name\": \"\\u804c\\u4e1a\\u6559\\u80b2\",\n                    \"value\": \"21\",\n                    \"textStyle\": {\n                        \"normal\": {\n                            \"color\": \"rgb(21,68,102)\"\n                        }\n                    }\n                },\n                {\n                    \"name\": \"\\u7269\\u4e1a\\u8d44\\u8d28\\u7ba1\\u7406\",\n                    \"value\": \"21\",\n                    \"textStyle\": {\n                        \"normal\": {\n                            \"color\": \"rgb(96,136,93)\"\n                        }\n                    }\n                },\n                {\n                    \"name\": \"\\u62c6\\u8fc1\\u8865\\u507f\",\n                    \"value\": \"21\",\n                    \"textStyle\": {\n                        \"normal\": {\n                            \"color\": \"rgb(82,124,98)\"\n                        }\n                    }\n                },\n                {\n                    \"name\": \"\\u8bbe\\u65bd\\u7ef4\\u62a4\",\n                    \"value\": \"21\",\n                    \"textStyle\": {\n                        \"normal\": {\n                            \"color\": \"rgb(33,0,142)\"\n                        }\n                    }\n                },\n                {\n                    \"name\": \"\\u5e02\\u573a\\u5916\\u6ea2\",\n                    \"value\": \"11\",\n                    \"textStyle\": {\n                        \"normal\": {\n                            \"color\": \"rgb(113,66,149)\"\n                        }\n                    }\n                },\n                {\n                    \"name\": \"\\u5360\\u9053\\u7ecf\\u8425\",\n                    \"value\": \"11\",\n                    \"textStyle\": {\n                        \"normal\": {\n                            \"color\": \"rgb(111,108,102)\"\n                        }\n                    }\n                },\n                {\n                    \"name\": \"\\u6811\\u6728\\u7ba1\\u7406\",\n                    \"value\": \"11\",\n                    \"textStyle\": {\n                        \"normal\": {\n                            \"color\": \"rgb(131,41,89)\"\n                        }\n                    }\n                },\n                {\n                    \"name\": \"\\u519c\\u6751\\u57fa\\u7840\\u8bbe\\u65bd\",\n                    \"value\": \"11\",\n                    \"textStyle\": {\n                        \"normal\": {\n                            \"color\": \"rgb(22,146,5)\"\n                        }\n                    }\n                },\n                {\n                    \"name\": \"\\u65e0\\u6c34\",\n                    \"value\": \"11\",\n                    \"textStyle\": {\n                        \"normal\": {\n                            \"color\": \"rgb(58,125,148)\"\n                        }\n                    }\n                },\n                {\n                    \"name\": \"\\u4f9b\\u6c14\\u8d28\\u91cf\",\n                    \"value\": \"11\",\n                    \"textStyle\": {\n                        \"normal\": {\n                            \"color\": \"rgb(120,79,66)\"\n                        }\n                    }\n                },\n                {\n                    \"name\": \"\\u505c\\u6c14\",\n                    \"value\": \"11\",\n                    \"textStyle\": {\n                        \"normal\": {\n                            \"color\": \"rgb(157,117,17)\"\n                        }\n                    }\n                },\n                {\n                    \"name\": \"\\u5e02\\u653f\\u5e9c\\u5de5\\u4f5c\\u90e8\\u95e8\\uff08\\u542b\\u90e8\\u95e8\\u7ba1\\u7406\\u673a\\u6784\\u3001\\u76f4\\u5c5e\\u5355\\u4f4d\\uff09\",\n                    \"value\": \"11\",\n                    \"textStyle\": {\n                        \"normal\": {\n                            \"color\": \"rgb(15,122,84)\"\n                        }\n                    }\n                },\n                {\n                    \"name\": \"\\u71c3\\u6c14\\u7ba1\\u7406\",\n                    \"value\": \"11\",\n                    \"textStyle\": {\n                        \"normal\": {\n                            \"color\": \"rgb(23,86,88)\"\n                        }\n                    }\n                },\n                {\n                    \"name\": \"\\u5e02\\u5bb9\\u73af\\u536b\",\n                    \"value\": \"11\",\n                    \"textStyle\": {\n                        \"normal\": {\n                            \"color\": \"rgb(63,109,101)\"\n                        }\n                    }\n                },\n                {\n                    \"name\": \"\\u65b0\\u95fb\\u4f20\\u5a92\",\n                    \"value\": \"11\",\n                    \"textStyle\": {\n                        \"normal\": {\n                            \"color\": \"rgb(130,42,21)\"\n                        }\n                    }\n                },\n                {\n                    \"name\": \"\\u4eba\\u624d\\u62db\\u8058\",\n                    \"value\": \"11\",\n                    \"textStyle\": {\n                        \"normal\": {\n                            \"color\": \"rgb(148,133,134)\"\n                        }\n                    }\n                },\n                {\n                    \"name\": \"\\u5e02\\u573a\\u73af\\u5883\",\n                    \"value\": \"11\",\n                    \"textStyle\": {\n                        \"normal\": {\n                            \"color\": \"rgb(52,93,146)\"\n                        }\n                    }\n                },\n                {\n                    \"name\": \"\\u884c\\u653f\\u4e8b\\u4e1a\\u6536\\u8d39\",\n                    \"value\": \"11\",\n                    \"textStyle\": {\n                        \"normal\": {\n                            \"color\": \"rgb(98,37,68)\"\n                        }\n                    }\n                },\n                {\n                    \"name\": \"\\u98df\\u54c1\\u5b89\\u5168\\u4e0e\\u536b\\u751f\",\n                    \"value\": \"11\",\n                    \"textStyle\": {\n                        \"normal\": {\n                            \"color\": \"rgb(83,66,64)\"\n                        }\n                    }\n                },\n                {\n                    \"name\": \"\\u57ce\\u5e02\\u4ea4\\u901a\",\n                    \"value\": \"11\",\n                    \"textStyle\": {\n                        \"normal\": {\n                            \"color\": \"rgb(147,59,133)\"\n                        }\n                    }\n                },\n                {\n                    \"name\": \"\\u623f\\u5730\\u4ea7\\u5f00\\u53d1\",\n                    \"value\": \"11\",\n                    \"textStyle\": {\n                        \"normal\": {\n                            \"color\": \"rgb(121,145,149)\"\n                        }\n                    }\n                },\n                {\n                    \"name\": \"\\u623f\\u5c4b\\u914d\\u5957\\u95ee\\u9898\",\n                    \"value\": \"11\",\n                    \"textStyle\": {\n                        \"normal\": {\n                            \"color\": \"rgb(0,53,40)\"\n                        }\n                    }\n                },\n                {\n                    \"name\": \"\\u7269\\u4e1a\\u670d\\u52a1\",\n                    \"value\": \"11\",\n                    \"textStyle\": {\n                        \"normal\": {\n                            \"color\": \"rgb(60,61,52)\"\n                        }\n                    }\n                },\n                {\n                    \"name\": \"\\u7269\\u4e1a\\u7ba1\\u7406\",\n                    \"value\": \"11\",\n                    \"textStyle\": {\n                        \"normal\": {\n                            \"color\": \"rgb(77,56,23)\"\n                        }\n                    }\n                },\n                {\n                    \"name\": \"\\u5360\\u9053\",\n                    \"value\": \"11\",\n                    \"textStyle\": {\n                        \"normal\": {\n                            \"color\": \"rgb(14,13,78)\"\n                        }\n                    }\n                },\n                {\n                    \"name\": \"\\u56ed\\u6797\\u7eff\\u5316\",\n                    \"value\": \"11\",\n                    \"textStyle\": {\n                        \"normal\": {\n                            \"color\": \"rgb(118,102,149)\"\n                        }\n                    }\n                },\n                {\n                    \"name\": \"\\u6237\\u7c4d\\u7ba1\\u7406\\u53ca\\u8eab\\u4efd\\u8bc1\",\n                    \"value\": \"11\",\n                    \"textStyle\": {\n                        \"normal\": {\n                            \"color\": \"rgb(17,31,104)\"\n                        }\n                    }\n                },\n                {\n                    \"name\": \"\\u516c\\u4ea4\\u8fd0\\u8f93\\u7ba1\\u7406\",\n                    \"value\": \"11\",\n                    \"textStyle\": {\n                        \"normal\": {\n                            \"color\": \"rgb(29,1,83)\"\n                        }\n                    }\n                },\n                {\n                    \"name\": \"\\u516c\\u8def\\uff08\\u6c34\\u8def\\uff09\\u4ea4\\u901a\",\n                    \"value\": \"11\",\n                    \"textStyle\": {\n                        \"normal\": {\n                            \"color\": \"rgb(97,135,114)\"\n                        }\n                    }\n                },\n                {\n                    \"name\": \"\\u623f\\u5c4b\\u4e0e\\u56fe\\u7eb8\\u4e0d\\u7b26\",\n                    \"value\": \"11\",\n                    \"textStyle\": {\n                        \"normal\": {\n                            \"color\": \"rgb(79,53,51)\"\n                        }\n                    }\n                },\n                {\n                    \"name\": \"\\u6709\\u7ebf\\u7535\\u89c6\",\n                    \"value\": \"11\",\n                    \"textStyle\": {\n                        \"normal\": {\n                            \"color\": \"rgb(62,113,50)\"\n                        }\n                    }\n                },\n                {\n                    \"name\": \"\\u793e\\u4f1a\\u6cbb\\u5b89\",\n                    \"value\": \"11\",\n                    \"textStyle\": {\n                        \"normal\": {\n                            \"color\": \"rgb(123,18,140)\"\n                        }\n                    }\n                },\n                {\n                    \"name\": \"\\u6797\\u4e1a\\u8d44\\u6e90\",\n                    \"value\": \"11\",\n                    \"textStyle\": {\n                        \"normal\": {\n                            \"color\": \"rgb(108,82,48)\"\n                        }\n                    }\n                },\n                {\n                    \"name\": \"\\u5176\\u4ed6\\u884c\\u653f\\u4e8b\\u4e1a\\u6536\\u8d39\",\n                    \"value\": \"11\",\n                    \"textStyle\": {\n                        \"normal\": {\n                            \"color\": \"rgb(48,2,89)\"\n                        }\n                    }\n                },\n                {\n                    \"name\": \"\\u7ecf\\u8425\\u6027\\u6536\\u8d39\",\n                    \"value\": \"11\",\n                    \"textStyle\": {\n                        \"normal\": {\n                            \"color\": \"rgb(85,17,136)\"\n                        }\n                    }\n                },\n                {\n                    \"name\": \"\\u98df\\u54c1\\u5b89\\u5168\\u4e0e\\u536b\\u751f\",\n                    \"value\": \"11\",\n                    \"textStyle\": {\n                        \"normal\": {\n                            \"color\": \"rgb(55,103,108)\"\n                        }\n                    }\n                },\n                {\n                    \"name\": \"\\u4f53\\u80b2\\u6d3b\\u52a8\",\n                    \"value\": \"11\",\n                    \"textStyle\": {\n                        \"normal\": {\n                            \"color\": \"rgb(11,73,157)\"\n                        }\n                    }\n                },\n                {\n                    \"name\": \"\\u6709\\u7ebf\\u7535\\u89c6\\u5b89\\u88c5\\u53ca\\u8c03\\u8bd5\\u7ef4\\u62a4\",\n                    \"value\": \"11\",\n                    \"textStyle\": {\n                        \"normal\": {\n                            \"color\": \"rgb(152,61,125)\"\n                        }\n                    }\n                },\n                {\n                    \"name\": \"\\u4f4e\\u4fdd\\u7ba1\\u7406\",\n                    \"value\": \"11\",\n                    \"textStyle\": {\n                        \"normal\": {\n                            \"color\": \"rgb(99,17,15)\"\n                        }\n                    }\n                },\n                {\n                    \"name\": \"\\u52b3\\u52a8\\u4e89\\u8bae\",\n                    \"value\": \"11\",\n                    \"textStyle\": {\n                        \"normal\": {\n                            \"color\": \"rgb(129,89,98)\"\n                        }\n                    }\n                },\n                {\n                    \"name\": \"\\u793e\\u4f1a\\u798f\\u5229\\u53ca\\u4e8b\\u52a1\",\n                    \"value\": \"11\",\n                    \"textStyle\": {\n                        \"normal\": {\n                            \"color\": \"rgb(68,22,12)\"\n                        }\n                    }\n                },\n                {\n                    \"name\": \"\\u4e00\\u6b21\\u4f9b\\u6c34\\u95ee\\u9898\",\n                    \"value\": \"11\",\n                    \"textStyle\": {\n                        \"normal\": {\n                            \"color\": \"rgb(116,125,103)\"\n                        }\n                    }\n                }\n            ],\n            \"drawOutOfBound\": false,\n            \"textStyle\": {\n                \"emphasis\": {}\n            }\n        }\n    ],\n    \"legend\": [\n        {\n            \"data\": [],\n            \"selected\": {},\n            \"show\": true,\n            \"padding\": 5,\n            \"itemGap\": 10,\n            \"itemWidth\": 25,\n            \"itemHeight\": 14\n        }\n    ],\n    \"tooltip\": {\n        \"show\": true,\n        \"trigger\": \"item\",\n        \"triggerOn\": \"mousemove|click\",\n        \"axisPointer\": {\n            \"type\": \"line\"\n        },\n        \"showContent\": true,\n        \"alwaysShowContent\": false,\n        \"showDelay\": 0,\n        \"hideDelay\": 100,\n        \"textStyle\": {\n            \"fontSize\": 14\n        },\n        \"borderWidth\": 0,\n        \"padding\": 5\n    },\n    \"title\": [\n        {\n            \"text\": \"\\u70ed\\u70b9\\u5206\\u6790\",\n            \"padding\": 5,\n            \"itemGap\": 10,\n            \"textStyle\": {\n                \"fontSize\": 23\n            }\n        }\n    ]\n};\n                chart_63135e1685c541c8ae9e2a9682fb835d.setOption(option_63135e1685c541c8ae9e2a9682fb835d);\n        });\n    </script>\n"
     },
     "metadata": {},
     "execution_count": 11
    }
   ],
   "source": [
    "# WordCloud（词云图\n",
    "from pyecharts.charts import WordCloud\n",
    "data = [\n",
    "    (\"生活资源\", \"999\"),\n",
    "    (\"供热管理\", \"888\"),\n",
    "    (\"供气质量\", \"777\"),\n",
    "    (\"生活用水管理\", \"688\"),\n",
    "    (\"一次供水问题\", \"588\"),\n",
    "    (\"交通运输\", \"516\"),\n",
    "    (\"城市交通\", \"515\"),\n",
    "    (\"环境保护\", \"483\"),\n",
    "    (\"房地产管理\", \"462\"),\n",
    "    (\"城乡建设\", \"449\"),\n",
    "    (\"社会保障与福利\", \"429\"),\n",
    "    (\"社会保障\", \"407\"),\n",
    "    (\"文体与教育管理\", \"406\"),\n",
    "    (\"公共安全\", \"406\"),\n",
    "    (\"公交运输管理\", \"386\"),\n",
    "    (\"出租车运营管理\", \"385\"),\n",
    "    (\"供热管理\", \"375\"),\n",
    "    (\"市容环卫\", \"355\"),\n",
    "    (\"自然资源管理\", \"355\"),\n",
    "    (\"粉尘污染\", \"335\"),\n",
    "    (\"噪声污染\", \"324\"),\n",
    "    (\"土地资源管理\", \"304\"),\n",
    "    (\"物业服务与管理\", \"304\"),\n",
    "    (\"医疗卫生\", \"284\"),\n",
    "    (\"粉煤灰污染\", \"284\"),\n",
    "    (\"占道\", \"284\"),\n",
    "    (\"供热发展\", \"254\"),\n",
    "    (\"农村土地规划管理\", \"254\"),\n",
    "    (\"生活噪音\", \"253\"),\n",
    "    (\"供热单位影响\", \"253\"),\n",
    "    (\"城市供电\", \"223\"),\n",
    "    (\"房屋质量与安全\", \"223\"),\n",
    "    (\"大气污染\", \"223\"),\n",
    "    (\"房屋安全\", \"223\"),\n",
    "    (\"文化活动\", \"223\"),\n",
    "    (\"拆迁管理\", \"223\"),\n",
    "    (\"公共设施\", \"223\"),\n",
    "    (\"供气质量\", \"223\"),\n",
    "    (\"供电管理\", \"223\"),\n",
    "    (\"燃气管理\", \"152\"),\n",
    "    (\"教育管理\", \"152\"),\n",
    "    (\"医疗纠纷\", \"152\"),\n",
    "    (\"执法监督\", \"152\"),\n",
    "    (\"设备安全\", \"152\"),\n",
    "    (\"政务建设\", \"152\"),\n",
    "    (\"县区、开发区\", \"152\"),\n",
    "    (\"宏观经济\", \"152\"),\n",
    "    (\"教育管理\", \"112\"),\n",
    "    (\"社会保障\", \"112\"),\n",
    "    (\"生活用水管理\", \"112\"),\n",
    "    (\"物业服务与管理\", \"112\"),\n",
    "    (\"分类列表\", \"112\"),\n",
    "    (\"农业生产\", \"112\"),\n",
    "    (\"二次供水问题\", \"112\"),\n",
    "    (\"城市公共设施\", \"92\"),\n",
    "    (\"拆迁政策咨询\", \"92\"),\n",
    "    (\"物业服务\", \"92\"),\n",
    "    (\"物业管理\", \"92\"),\n",
    "    (\"社会保障保险管理\", \"92\"),\n",
    "    (\"低保管理\", \"92\"),\n",
    "    (\"文娱市场管理\", \"72\"),\n",
    "    (\"城市交通秩序管理\", \"72\"),\n",
    "    (\"执法争议\", \"72\"),\n",
    "    (\"商业烟尘污染\", \"72\"),\n",
    "    (\"占道堆放\", \"71\"),\n",
    "    (\"地上设施\", \"71\"),\n",
    "    (\"水质\", \"71\"),\n",
    "    (\"无水\", \"71\"),\n",
    "    (\"供热单位影响\", \"71\"),\n",
    "    (\"人行道管理\", \"71\"),\n",
    "    (\"主网原因\", \"71\"),\n",
    "    (\"集中供热\", \"71\"),\n",
    "    (\"客运管理\", \"71\"),\n",
    "    (\"国有公交（大巴）管理\", \"71\"),\n",
    "    (\"工业粉尘污染\", \"71\"),\n",
    "    (\"治安案件\", \"71\"),\n",
    "    (\"压力容器安全\", \"71\"),\n",
    "    (\"身份证管理\", \"71\"),\n",
    "    (\"群众健身\", \"41\"),\n",
    "    (\"工业排放污染\", \"41\"),\n",
    "    (\"破坏森林资源\", \"41\"),\n",
    "    (\"市场收费\", \"41\"),\n",
    "    (\"生产资金\", \"41\"),\n",
    "    (\"生产噪声\", \"41\"),\n",
    "    (\"农村低保\", \"41\"),\n",
    "    (\"劳动争议\", \"41\"),\n",
    "    (\"劳动合同争议\", \"41\"),\n",
    "    (\"劳动报酬与福利\", \"41\"),\n",
    "    (\"医疗事故\", \"21\"),\n",
    "    (\"停供\", \"21\"),\n",
    "    (\"基础教育\", \"21\"),\n",
    "    (\"职业教育\", \"21\"),\n",
    "    (\"物业资质管理\", \"21\"),\n",
    "    (\"拆迁补偿\", \"21\"),\n",
    "    (\"设施维护\", \"21\"),\n",
    "    (\"市场外溢\", \"11\"),\n",
    "    (\"占道经营\", \"11\"),\n",
    "    (\"树木管理\", \"11\"),\n",
    "    (\"农村基础设施\", \"11\"),\n",
    "    (\"无水\", \"11\"),\n",
    "    (\"供气质量\", \"11\"),\n",
    "    (\"停气\", \"11\"),\n",
    "    (\"市政府工作部门（含部门管理机构、直属单位）\", \"11\"),\n",
    "    (\"燃气管理\", \"11\"),\n",
    "    (\"市容环卫\", \"11\"),\n",
    "    (\"新闻传媒\", \"11\"),\n",
    "    (\"人才招聘\", \"11\"),\n",
    "    (\"市场环境\", \"11\"),\n",
    "    (\"行政事业收费\", \"11\"),\n",
    "    (\"食品安全与卫生\", \"11\"),\n",
    "    (\"城市交通\", \"11\"),\n",
    "    (\"房地产开发\", \"11\"),\n",
    "    (\"房屋配套问题\", \"11\"),\n",
    "    (\"物业服务\", \"11\"),\n",
    "    (\"物业管理\", \"11\"),\n",
    "    (\"占道\", \"11\"),\n",
    "    (\"园林绿化\", \"11\"),\n",
    "    (\"户籍管理及身份证\", \"11\"),\n",
    "    (\"公交运输管理\", \"11\"),\n",
    "    (\"公路（水路）交通\", \"11\"),\n",
    "    (\"房屋与图纸不符\", \"11\"),\n",
    "    (\"有线电视\", \"11\"),\n",
    "    (\"社会治安\", \"11\"),\n",
    "    (\"林业资源\", \"11\"),\n",
    "    (\"其他行政事业收费\", \"11\"),\n",
    "    (\"经营性收费\", \"11\"),\n",
    "    (\"食品安全与卫生\", \"11\"),\n",
    "    (\"体育活动\", \"11\"),\n",
    "    (\"有线电视安装及调试维护\", \"11\"),\n",
    "    (\"低保管理\", \"11\"),\n",
    "    (\"劳动争议\", \"11\"),\n",
    "    (\"社会福利及事务\", \"11\"),\n",
    "    (\"一次供水问题\", \"11\"),\n",
    "]\n",
    "\n",
    "wordcloud = WordCloud() \\\n",
    "    .add(series_name='热点分析', data_pair=data, word_size_range=[6, 66]) \\\n",
    "    .set_global_opts(\n",
    "        title_opts=opts.TitleOpts(\n",
    "            title='热点分析', title_textstyle_opts=opts.TextStyleOpts(font_size=23)\n",
    "        ),\n",
    "        tooltip_opts=opts.TooltipOpts(is_show=True)\n",
    "    )\n",
    "wordcloud.render_notebook()"
   ]
  },
  {
   "cell_type": "code",
   "execution_count": 12,
   "metadata": {
    "tags": []
   },
   "outputs": [
    {
     "output_type": "stream",
     "name": "stderr",
     "text": "/home/ulysses/anaconda3/lib/python3.7/site-packages/pyecharts/charts/chart.py:14: PendingDeprecationWarning: pyecharts 所有图表类型将在 v1.9.0 版本开始强制使用 ChartItem 进行数据项配置 :)\n  super().__init__(init_opts=init_opts)\n"
    },
    {
     "output_type": "execute_result",
     "data": {
      "text/plain": "<pyecharts.render.display.HTML at 0x7fa1c65f2510>",
      "text/html": "\n<script>\n    require.config({\n        paths: {\n            'echarts':'https://assets.pyecharts.org/assets/echarts.min', 'china':'https://assets.pyecharts.org/assets/maps/china'\n        }\n    });\n</script>\n\n        <div id=\"d8d1fb7d66a345129d47fb772a5182a4\" style=\"width:900px; height:500px;\"></div>\n\n<script>\n        require(['echarts', 'china'], function(echarts) {\n                var chart_d8d1fb7d66a345129d47fb772a5182a4 = echarts.init(\n                    document.getElementById('d8d1fb7d66a345129d47fb772a5182a4'), 'white', {renderer: 'canvas'});\n                var option_d8d1fb7d66a345129d47fb772a5182a4 = {\n    \"animation\": true,\n    \"animationThreshold\": 2000,\n    \"animationDuration\": 1000,\n    \"animationEasing\": \"cubicOut\",\n    \"animationDelay\": 0,\n    \"animationDurationUpdate\": 300,\n    \"animationEasingUpdate\": \"cubicOut\",\n    \"animationDelayUpdate\": 0,\n    \"color\": [\n        \"#c23531\",\n        \"#2f4554\",\n        \"#61a0a8\",\n        \"#d48265\",\n        \"#749f83\",\n        \"#ca8622\",\n        \"#bda29a\",\n        \"#6e7074\",\n        \"#546570\",\n        \"#c4ccd3\",\n        \"#f05b72\",\n        \"#ef5b9c\",\n        \"#f47920\",\n        \"#905a3d\",\n        \"#fab27b\",\n        \"#2a5caa\",\n        \"#444693\",\n        \"#726930\",\n        \"#b2d235\",\n        \"#6d8346\",\n        \"#ac6767\",\n        \"#1d953f\",\n        \"#6950a1\",\n        \"#918597\"\n    ],\n    \"series\": [\n        {\n            \"type\": \"scatter\",\n            \"name\": \"china\",\n            \"coordinateSystem\": \"geo\",\n            \"symbolSize\": 12,\n            \"data\": [\n                {\n                    \"name\": \"\\u5e7f\\u4e1c\",\n                    \"value\": [\n                        113.26653,\n                        23.132191,\n                        49\n                    ]\n                },\n                {\n                    \"name\": \"\\u5317\\u4eac\",\n                    \"value\": [\n                        116.407526,\n                        39.90403,\n                        36\n                    ]\n                },\n                {\n                    \"name\": \"\\u4e0a\\u6d77\",\n                    \"value\": [\n                        121.473701,\n                        31.230416,\n                        126\n                    ]\n                },\n                {\n                    \"name\": \"\\u6c5f\\u897f\",\n                    \"value\": [\n                        115.909228,\n                        28.675696,\n                        136\n                    ]\n                },\n                {\n                    \"name\": \"\\u6e56\\u5357\",\n                    \"value\": [\n                        112.98381,\n                        28.112444,\n                        63\n                    ]\n                },\n                {\n                    \"name\": \"\\u6d59\\u6c5f\",\n                    \"value\": [\n                        120.152791,\n                        30.267446,\n                        70\n                    ]\n                },\n                {\n                    \"name\": \"\\u6c5f\\u82cf\",\n                    \"value\": [\n                        118.763232,\n                        32.061707,\n                        104\n                    ]\n                }\n            ],\n            \"label\": {\n                \"show\": false,\n                \"position\": \"top\",\n                \"margin\": 8\n            },\n            \"rippleEffect\": {\n                \"show\": true,\n                \"brushType\": \"stroke\",\n                \"scale\": 2.5,\n                \"period\": 4\n            }\n        }\n    ],\n    \"legend\": [\n        {\n            \"data\": [\n                \"china\"\n            ],\n            \"selected\": {\n                \"china\": true\n            },\n            \"show\": true,\n            \"padding\": 5,\n            \"itemGap\": 10,\n            \"itemWidth\": 25,\n            \"itemHeight\": 14\n        }\n    ],\n    \"tooltip\": {\n        \"show\": true,\n        \"trigger\": \"item\",\n        \"triggerOn\": \"mousemove|click\",\n        \"axisPointer\": {\n            \"type\": \"line\"\n        },\n        \"showContent\": true,\n        \"alwaysShowContent\": false,\n        \"showDelay\": 0,\n        \"hideDelay\": 100,\n        \"formatter\": function (params) {        return params.name + ' : ' + params.value[2];    },\n        \"textStyle\": {\n            \"fontSize\": 14\n        },\n        \"borderWidth\": 0,\n        \"padding\": 5\n    },\n    \"title\": [\n        {\n            \"text\": \"Geo-\\u57fa\\u672c\\u793a\\u4f8b\",\n            \"padding\": 5,\n            \"itemGap\": 10\n        }\n    ],\n    \"visualMap\": {\n        \"show\": true,\n        \"type\": \"continuous\",\n        \"min\": 0,\n        \"max\": 100,\n        \"inRange\": {\n            \"color\": [\n                \"#50a3ba\",\n                \"#eac763\",\n                \"#d94e5d\"\n            ]\n        },\n        \"calculable\": true,\n        \"inverse\": false,\n        \"splitNumber\": 5,\n        \"orient\": \"vertical\",\n        \"showLabel\": true,\n        \"itemWidth\": 20,\n        \"itemHeight\": 140,\n        \"borderWidth\": 0\n    },\n    \"geo\": {\n        \"map\": \"china\",\n        \"roam\": true,\n        \"emphasis\": {}\n    }\n};\n                chart_d8d1fb7d66a345129d47fb772a5182a4.setOption(option_d8d1fb7d66a345129d47fb772a5182a4);\n        });\n    </script>\n"
     },
     "metadata": {},
     "execution_count": 12
    }
   ],
   "source": [
    "# Geo_base\n",
    "from pyecharts import options as opts\n",
    "from pyecharts.charts import Geo\n",
    "from pyecharts.faker import Faker\n",
    "\n",
    "geo = Geo() \\\n",
    "    .add_schema(maptype='china') \\\n",
    "    .add('china', [list(z) for z in zip(Faker.provinces, Faker.values())]) \\\n",
    "    .set_series_opts(label_opts=opts.LabelOpts(is_show=False)) \\\n",
    "    .set_global_opts(\n",
    "        visualmap_opts=opts.VisualMapOpts(),\n",
    "        title_opts=opts.TitleOpts(title='Geo-基本示例')\n",
    "    )\n",
    "geo.render_notebook()"
   ]
  },
  {
   "cell_type": "code",
   "execution_count": 31,
   "metadata": {},
   "outputs": [
    {
     "output_type": "stream",
     "text": "\u001b[0;31mType:\u001b[0m        _Faker\n\u001b[0;31mString form:\u001b[0m <pyecharts.faker._Faker object at 0x7fb5a6616090>\n\u001b[0;31mFile:\u001b[0m        ~/anaconda3/lib/python3.7/site-packages/pyecharts/faker.py\n\u001b[0;31mDocstring:\u001b[0m   <no docstring>\n"
    }
   ],
   "source": []
  },
  {
   "cell_type": "code",
   "execution_count": 13,
   "metadata": {
    "tags": []
   },
   "outputs": [
    {
     "output_type": "stream",
     "name": "stderr",
     "text": "/home/ulysses/anaconda3/lib/python3.7/site-packages/pyecharts/charts/chart.py:14: PendingDeprecationWarning: pyecharts 所有图表类型将在 v1.9.0 版本开始强制使用 ChartItem 进行数据项配置 :)\n  super().__init__(init_opts=init_opts)\n"
    },
    {
     "output_type": "execute_result",
     "data": {
      "text/plain": "<pyecharts.render.display.HTML at 0x7fa1c65ba490>",
      "text/html": "\n<script>\n    require.config({\n        paths: {\n            'echarts':'https://assets.pyecharts.org/assets/echarts.min'\n        }\n    });\n</script>\n\n        <div id=\"c6dbba90a8034133b5d3d4f21dd6991e\" style=\"width:900px; height:500px;\"></div>\n\n<script>\n        require(['echarts'], function(echarts) {\n                var chart_c6dbba90a8034133b5d3d4f21dd6991e = echarts.init(\n                    document.getElementById('c6dbba90a8034133b5d3d4f21dd6991e'), 'white', {renderer: 'canvas'});\n                var option_c6dbba90a8034133b5d3d4f21dd6991e = {\n    \"animation\": true,\n    \"animationThreshold\": 2000,\n    \"animationDuration\": 1000,\n    \"animationEasing\": \"cubicOut\",\n    \"animationDelay\": 0,\n    \"animationDurationUpdate\": 300,\n    \"animationEasingUpdate\": \"cubicOut\",\n    \"animationDelayUpdate\": 0,\n    \"color\": [\n        \"#c23531\",\n        \"#2f4554\",\n        \"#61a0a8\",\n        \"#d48265\",\n        \"#749f83\",\n        \"#ca8622\",\n        \"#bda29a\",\n        \"#6e7074\",\n        \"#546570\",\n        \"#c4ccd3\",\n        \"#f05b72\",\n        \"#ef5b9c\",\n        \"#f47920\",\n        \"#905a3d\",\n        \"#fab27b\",\n        \"#2a5caa\",\n        \"#444693\",\n        \"#726930\",\n        \"#b2d235\",\n        \"#6d8346\",\n        \"#ac6767\",\n        \"#1d953f\",\n        \"#6950a1\",\n        \"#918597\"\n    ],\n    \"series\": [\n        {\n            \"type\": \"line\",\n            \"name\": \"\\u5546\\u5bb6A\",\n            \"connectNulls\": false,\n            \"symbolSize\": 4,\n            \"showSymbol\": true,\n            \"smooth\": false,\n            \"clip\": true,\n            \"step\": false,\n            \"data\": [\n                [\n                    \"\\u886c\\u886b\",\n                    80\n                ],\n                [\n                    \"\\u6bdb\\u8863\",\n                    93\n                ],\n                [\n                    \"\\u9886\\u5e26\",\n                    129\n                ],\n                [\n                    \"\\u88e4\\u5b50\",\n                    44\n                ],\n                [\n                    \"\\u98ce\\u8863\",\n                    118\n                ],\n                [\n                    \"\\u9ad8\\u8ddf\\u978b\",\n                    124\n                ],\n                [\n                    \"\\u889c\\u5b50\",\n                    71\n                ]\n            ],\n            \"hoverAnimation\": true,\n            \"label\": {\n                \"show\": true,\n                \"position\": \"top\",\n                \"margin\": 8\n            },\n            \"lineStyle\": {\n                \"show\": true,\n                \"width\": 1,\n                \"opacity\": 1,\n                \"curveness\": 0,\n                \"type\": \"solid\"\n            },\n            \"areaStyle\": {\n                \"opacity\": 0\n            },\n            \"zlevel\": 0,\n            \"z\": 0\n        },\n        {\n            \"type\": \"line\",\n            \"name\": \"\\u5546\\u5bb6B\",\n            \"connectNulls\": false,\n            \"symbolSize\": 4,\n            \"showSymbol\": true,\n            \"smooth\": false,\n            \"clip\": true,\n            \"step\": false,\n            \"data\": [\n                [\n                    \"\\u886c\\u886b\",\n                    38\n                ],\n                [\n                    \"\\u6bdb\\u8863\",\n                    148\n                ],\n                [\n                    \"\\u9886\\u5e26\",\n                    69\n                ],\n                [\n                    \"\\u88e4\\u5b50\",\n                    34\n                ],\n                [\n                    \"\\u98ce\\u8863\",\n                    134\n                ],\n                [\n                    \"\\u9ad8\\u8ddf\\u978b\",\n                    140\n                ],\n                [\n                    \"\\u889c\\u5b50\",\n                    29\n                ]\n            ],\n            \"hoverAnimation\": true,\n            \"label\": {\n                \"show\": true,\n                \"position\": \"top\",\n                \"margin\": 8\n            },\n            \"lineStyle\": {\n                \"show\": true,\n                \"width\": 1,\n                \"opacity\": 1,\n                \"curveness\": 0,\n                \"type\": \"solid\"\n            },\n            \"areaStyle\": {\n                \"opacity\": 0\n            },\n            \"zlevel\": 0,\n            \"z\": 0\n        }\n    ],\n    \"legend\": [\n        {\n            \"data\": [\n                \"\\u5546\\u5bb6A\",\n                \"\\u5546\\u5bb6B\"\n            ],\n            \"selected\": {\n                \"\\u5546\\u5bb6A\": true,\n                \"\\u5546\\u5bb6B\": true\n            },\n            \"show\": true,\n            \"padding\": 5,\n            \"itemGap\": 10,\n            \"itemWidth\": 25,\n            \"itemHeight\": 14\n        }\n    ],\n    \"tooltip\": {\n        \"show\": true,\n        \"trigger\": \"item\",\n        \"triggerOn\": \"mousemove|click\",\n        \"axisPointer\": {\n            \"type\": \"line\"\n        },\n        \"showContent\": true,\n        \"alwaysShowContent\": false,\n        \"showDelay\": 0,\n        \"hideDelay\": 100,\n        \"textStyle\": {\n            \"fontSize\": 14\n        },\n        \"borderWidth\": 0,\n        \"padding\": 5\n    },\n    \"xAxis\": [\n        {\n            \"show\": true,\n            \"scale\": false,\n            \"nameLocation\": \"end\",\n            \"nameGap\": 15,\n            \"gridIndex\": 0,\n            \"inverse\": false,\n            \"offset\": 0,\n            \"splitNumber\": 5,\n            \"minInterval\": 0,\n            \"splitLine\": {\n                \"show\": false,\n                \"lineStyle\": {\n                    \"show\": true,\n                    \"width\": 1,\n                    \"opacity\": 1,\n                    \"curveness\": 0,\n                    \"type\": \"solid\"\n                }\n            },\n            \"data\": [\n                \"\\u886c\\u886b\",\n                \"\\u6bdb\\u8863\",\n                \"\\u9886\\u5e26\",\n                \"\\u88e4\\u5b50\",\n                \"\\u98ce\\u8863\",\n                \"\\u9ad8\\u8ddf\\u978b\",\n                \"\\u889c\\u5b50\"\n            ]\n        }\n    ],\n    \"yAxis\": [\n        {\n            \"show\": true,\n            \"scale\": false,\n            \"nameLocation\": \"end\",\n            \"nameGap\": 15,\n            \"gridIndex\": 0,\n            \"inverse\": false,\n            \"offset\": 0,\n            \"splitNumber\": 5,\n            \"minInterval\": 0,\n            \"splitLine\": {\n                \"show\": false,\n                \"lineStyle\": {\n                    \"show\": true,\n                    \"width\": 1,\n                    \"opacity\": 1,\n                    \"curveness\": 0,\n                    \"type\": \"solid\"\n                }\n            }\n        }\n    ],\n    \"title\": [\n        {\n            \"text\": \"Line-\\u57fa\\u672c\",\n            \"padding\": 5,\n            \"itemGap\": 10\n        }\n    ]\n};\n                chart_c6dbba90a8034133b5d3d4f21dd6991e.setOption(option_c6dbba90a8034133b5d3d4f21dd6991e);\n        });\n    </script>\n"
     },
     "metadata": {},
     "execution_count": 13
    }
   ],
   "source": [
    "import pyecharts.options as opts\n",
    "from pyecharts.charts import Line\n",
    "from pyecharts.faker import Faker\n",
    "\n",
    "line = Line() \\\n",
    "    .add_xaxis(Faker.choose()) \\\n",
    "    .add_yaxis(\"商家A\", Faker.values()) \\\n",
    "    .add_yaxis(\"商家B\", Faker.values()) \\\n",
    "    .set_global_opts(\n",
    "        title_opts=opts.TitleOpts(title='Line-基本'))\n",
    "line.render_notebook()"
   ]
  },
  {
   "cell_type": "code",
   "execution_count": null,
   "metadata": {},
   "outputs": [],
   "source": []
  }
 ]
}