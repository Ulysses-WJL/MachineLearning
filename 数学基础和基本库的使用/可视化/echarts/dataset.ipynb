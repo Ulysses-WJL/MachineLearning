{
 "metadata": {
  "language_info": {
   "codemirror_mode": {
    "name": "ipython",
    "version": 3
   },
   "file_extension": ".py",
   "mimetype": "text/x-python",
   "name": "python",
   "nbconvert_exporter": "python",
   "pygments_lexer": "ipython3",
   "version": "3.7.6-final"
  },
  "orig_nbformat": 2,
  "kernelspec": {
   "name": "python_defaultSpec_1598356152257",
   "display_name": "Python 3.7.6 64-bit ('anaconda3': virtualenv)"
  }
 },
 "nbformat": 4,
 "nbformat_minor": 2,
 "cells": [
  {
   "cell_type": "code",
   "execution_count": 2,
   "metadata": {},
   "outputs": [],
   "source": [
    "from pyecharts import options as opts\n",
    "from pyecharts.charts import Pie, Bar\n",
    "import pandas as pd "
   ]
  },
  {
   "cell_type": "code",
   "execution_count": 8,
   "metadata": {},
   "outputs": [
    {
     "output_type": "execute_result",
     "data": {
      "text/plain": "  product  Matcha Latte  Milk Tea  Cheese Cocoa  Walnut Brownie\n0    2012          41.1      86.5          24.1            55.2\n1    2013          30.4      92.1          67.2            67.1\n2    2014          65.1      85.7          79.5            69.2\n3    2015          53.3      83.1          86.4            72.4\n4    2016          83.8      73.4          65.2            53.9\n5    2017          98.7      55.1          82.5            39.1",
      "text/html": "<div>\n<style scoped>\n    .dataframe tbody tr th:only-of-type {\n        vertical-align: middle;\n    }\n\n    .dataframe tbody tr th {\n        vertical-align: top;\n    }\n\n    .dataframe thead th {\n        text-align: right;\n    }\n</style>\n<table border=\"1\" class=\"dataframe\">\n  <thead>\n    <tr style=\"text-align: right;\">\n      <th></th>\n      <th>product</th>\n      <th>Matcha Latte</th>\n      <th>Milk Tea</th>\n      <th>Cheese Cocoa</th>\n      <th>Walnut Brownie</th>\n    </tr>\n  </thead>\n  <tbody>\n    <tr>\n      <th>0</th>\n      <td>2012</td>\n      <td>41.1</td>\n      <td>86.5</td>\n      <td>24.1</td>\n      <td>55.2</td>\n    </tr>\n    <tr>\n      <th>1</th>\n      <td>2013</td>\n      <td>30.4</td>\n      <td>92.1</td>\n      <td>67.2</td>\n      <td>67.1</td>\n    </tr>\n    <tr>\n      <th>2</th>\n      <td>2014</td>\n      <td>65.1</td>\n      <td>85.7</td>\n      <td>79.5</td>\n      <td>69.2</td>\n    </tr>\n    <tr>\n      <th>3</th>\n      <td>2015</td>\n      <td>53.3</td>\n      <td>83.1</td>\n      <td>86.4</td>\n      <td>72.4</td>\n    </tr>\n    <tr>\n      <th>4</th>\n      <td>2016</td>\n      <td>83.8</td>\n      <td>73.4</td>\n      <td>65.2</td>\n      <td>53.9</td>\n    </tr>\n    <tr>\n      <th>5</th>\n      <td>2017</td>\n      <td>98.7</td>\n      <td>55.1</td>\n      <td>82.5</td>\n      <td>39.1</td>\n    </tr>\n  </tbody>\n</table>\n</div>"
     },
     "metadata": {},
     "execution_count": 8
    }
   ],
   "source": [
    "df = pd.DataFrame(\n",
    "    {\n",
    "    \"product\":[\"2012\", \"2013\", \"2014\", \"2015\", \"2016\", \"2017\"],\n",
    "    'Matcha Latte':[41.1, 30.4, 65.1, 53.3, 83.8, 98.7],\n",
    "    'Milk Tea': [86.5, 92.1, 85.7, 83.1, 73.4, 55.1],\n",
    "    'Cheese Cocoa': [24.1, 67.2, 79.5, 86.4, 65.2, 82.5],\n",
    "    'Walnut Brownie': [55.2, 67.1, 69.2, 72.4, 53.9, 39.1]\n",
    "    })\n",
    "df"
   ]
  },
  {
   "cell_type": "code",
   "execution_count": 4,
   "metadata": {
    "tags": []
   },
   "outputs": [
    {
     "output_type": "stream",
     "name": "stderr",
     "text": "/home/ulysses/anaconda3/lib/python3.7/site-packages/pyecharts/charts/chart.py:14: PendingDeprecationWarning: pyecharts 所有图表类型将在 v1.9.0 版本开始强制使用 ChartItem 进行数据项配置 :)\n  super().__init__(init_opts=init_opts)\n"
    },
    {
     "output_type": "execute_result",
     "data": {
      "text/plain": "<pyecharts.render.display.HTML at 0x7fd512f6fb50>",
      "text/html": "\n<script>\n    require.config({\n        paths: {\n            'echarts':'https://assets.pyecharts.org/assets/echarts.min'\n        }\n    });\n</script>\n\n        <div id=\"728598cbd78d4eeda1fca2a4f0f4a5b2\" style=\"width:900px; height:500px;\"></div>\n\n<script>\n        require(['echarts'], function(echarts) {\n                var chart_728598cbd78d4eeda1fca2a4f0f4a5b2 = echarts.init(\n                    document.getElementById('728598cbd78d4eeda1fca2a4f0f4a5b2'), 'white', {renderer: 'canvas'});\n                var option_728598cbd78d4eeda1fca2a4f0f4a5b2 = {\n    \"animation\": true,\n    \"animationThreshold\": 2000,\n    \"animationDuration\": 1000,\n    \"animationEasing\": \"cubicOut\",\n    \"animationDelay\": 0,\n    \"animationDurationUpdate\": 300,\n    \"animationEasingUpdate\": \"cubicOut\",\n    \"animationDelayUpdate\": 0,\n    \"color\": [\n        \"#c23531\",\n        \"#2f4554\",\n        \"#61a0a8\",\n        \"#d48265\",\n        \"#749f83\",\n        \"#ca8622\",\n        \"#bda29a\",\n        \"#6e7074\",\n        \"#546570\",\n        \"#c4ccd3\",\n        \"#f05b72\",\n        \"#ef5b9c\",\n        \"#f47920\",\n        \"#905a3d\",\n        \"#fab27b\",\n        \"#2a5caa\",\n        \"#444693\",\n        \"#726930\",\n        \"#b2d235\",\n        \"#6d8346\",\n        \"#ac6767\",\n        \"#1d953f\",\n        \"#6950a1\",\n        \"#918597\"\n    ],\n    \"series\": [\n        {\n            \"type\": \"pie\",\n            \"name\": \"Matcha Latte\",\n            \"clockwise\": true,\n            \"radius\": 60,\n            \"center\": [\n                \"25%\",\n                \"30%\"\n            ],\n            \"label\": {\n                \"show\": true,\n                \"position\": \"top\",\n                \"margin\": 8\n            },\n            \"encode\": {\n                \"itemName\": \"product\",\n                \"value\": \"2012\"\n            }\n        },\n        {\n            \"type\": \"pie\",\n            \"name\": \"Milk Tea\",\n            \"clockwise\": true,\n            \"radius\": 60,\n            \"center\": [\n                \"75%\",\n                \"30%\"\n            ],\n            \"label\": {\n                \"show\": true,\n                \"position\": \"top\",\n                \"margin\": 8\n            },\n            \"encode\": {\n                \"itemName\": \"product\",\n                \"value\": \"2013\"\n            }\n        },\n        {\n            \"type\": \"pie\",\n            \"name\": \"Cheese Cocoa\",\n            \"clockwise\": true,\n            \"radius\": 60,\n            \"center\": [\n                \"25%\",\n                \"75%\"\n            ],\n            \"label\": {\n                \"show\": true,\n                \"position\": \"top\",\n                \"margin\": 8\n            },\n            \"encode\": {\n                \"itemName\": \"product\",\n                \"value\": \"2014\"\n            }\n        },\n        {\n            \"type\": \"pie\",\n            \"name\": \"Walnut Brownie\",\n            \"clockwise\": true,\n            \"radius\": 60,\n            \"center\": [\n                \"75%\",\n                \"75%\"\n            ],\n            \"label\": {\n                \"show\": true,\n                \"position\": \"top\",\n                \"margin\": 8\n            },\n            \"encode\": {\n                \"itemName\": \"product\",\n                \"value\": \"2015\"\n            }\n        }\n    ],\n    \"legend\": [\n        {\n            \"data\": [\n                \"Matcha Latte\",\n                \"Milk Tea\",\n                \"Cheese Cocoa\",\n                \"Walnut Brownie\"\n            ],\n            \"selected\": {},\n            \"show\": true,\n            \"left\": \"30%\",\n            \"top\": \"2%\",\n            \"padding\": 5,\n            \"itemGap\": 10,\n            \"itemWidth\": 25,\n            \"itemHeight\": 14\n        }\n    ],\n    \"tooltip\": {\n        \"show\": true,\n        \"trigger\": \"item\",\n        \"triggerOn\": \"mousemove|click\",\n        \"axisPointer\": {\n            \"type\": \"line\"\n        },\n        \"showContent\": true,\n        \"alwaysShowContent\": false,\n        \"showDelay\": 0,\n        \"hideDelay\": 100,\n        \"textStyle\": {\n            \"fontSize\": 14\n        },\n        \"borderWidth\": 0,\n        \"padding\": 5\n    },\n    \"dataset\": {\n        \"source\": [\n            [\n                \"product\",\n                \"2012\",\n                \"2013\",\n                \"2014\",\n                \"2015\",\n                \"2016\",\n                \"2017\"\n            ],\n            [\n                \"Matcha Latte\",\n                41.1,\n                30.4,\n                65.1,\n                53.3,\n                83.8,\n                98.7\n            ],\n            [\n                \"Milk Tea\",\n                86.5,\n                92.1,\n                85.7,\n                83.1,\n                73.4,\n                55.1\n            ],\n            [\n                \"Cheese Cocoa\",\n                24.1,\n                67.2,\n                79.5,\n                86.4,\n                65.2,\n                82.5\n            ],\n            [\n                \"Walnut Brownie\",\n                55.2,\n                67.1,\n                69.2,\n                72.4,\n                53.9,\n                39.1\n            ]\n        ]\n    },\n    \"title\": [\n        {\n            \"text\": \"Dataset simple pie example\",\n            \"padding\": 5,\n            \"itemGap\": 10\n        }\n    ]\n};\n                chart_728598cbd78d4eeda1fca2a4f0f4a5b2.setOption(option_728598cbd78d4eeda1fca2a4f0f4a5b2);\n        });\n    </script>\n"
     },
     "metadata": {},
     "execution_count": 4
    }
   ],
   "source": [
    "c = Pie() \\\n",
    "    .add_dataset(\n",
    "        source=[\n",
    "            [\"product\", \"2012\", \"2013\", \"2014\", \"2015\", \"2016\", \"2017\"],\n",
    "            [\"Matcha Latte\", 41.1, 30.4, 65.1, 53.3, 83.8, 98.7],\n",
    "            [\"Milk Tea\", 86.5, 92.1, 85.7, 83.1, 73.4, 55.1],\n",
    "            [\"Cheese Cocoa\", 24.1, 67.2, 79.5, 86.4, 65.2, 82.5],\n",
    "            [\"Walnut Brownie\", 55.2, 67.1, 69.2, 72.4, 53.9, 39.1],\n",
    "        ]\n",
    "    ) \\\n",
    "    .add(\n",
    "        series_name='Matcha Latte',\n",
    "        data_pair=[],\n",
    "        radius=60,\n",
    "        center=['25%', '30%'],\n",
    "        encode={\"itemName\": \"product\", \"value\": \"2012\"},\n",
    "    ) \\\n",
    "    .add(\n",
    "        series_name='Milk Tea',\n",
    "        data_pair=[],\n",
    "        radius=60,\n",
    "        center=['75%', '30%'],\n",
    "        encode={\"itemName\": \"product\", \"value\": \"2013\"},\n",
    "    ) \\\n",
    "    .add(\n",
    "        series_name='Cheese Cocoa',\n",
    "        data_pair=[],\n",
    "        radius=60,\n",
    "        center=['25%', '75%'],\n",
    "        encode={\"itemName\": \"product\", \"value\": \"2014\"},\n",
    "    ) \\\n",
    "    .add(\n",
    "        series_name='Walnut Brownie',\n",
    "        data_pair=[],\n",
    "        radius=60,\n",
    "        center=['75%', '75%'],\n",
    "        encode={\"itemName\": \"product\", \"value\": \"2015\"},\n",
    "    ) \\\n",
    "    .set_global_opts(\n",
    "        title_opts=opts.TitleOpts(title=\"Dataset simple pie example\"),\n",
    "        legend_opts=opts.LegendOpts(pos_left=\"30%\", pos_top=\"2%\"),\n",
    "    )\n",
    "c.render_notebook()"
   ]
  },
  {
   "cell_type": "code",
   "execution_count": 12,
   "metadata": {
    "tags": []
   },
   "outputs": [
    {
     "output_type": "stream",
     "name": "stderr",
     "text": "/home/ulysses/anaconda3/lib/python3.7/site-packages/pyecharts/charts/chart.py:14: PendingDeprecationWarning: pyecharts 所有图表类型将在 v1.9.0 版本开始强制使用 ChartItem 进行数据项配置 :)\n  super().__init__(init_opts=init_opts)\n"
    },
    {
     "output_type": "execute_result",
     "data": {
      "text/plain": "<pyecharts.render.display.HTML at 0x7fd4dc7f0690>",
      "text/html": "\n<script>\n    require.config({\n        paths: {\n            'echarts':'https://assets.pyecharts.org/assets/echarts.min'\n        }\n    });\n</script>\n\n        <div id=\"b756933d3d254b76a728bce75fa27b9d\" style=\"width:900px; height:500px;\"></div>\n\n<script>\n        require(['echarts'], function(echarts) {\n                var chart_b756933d3d254b76a728bce75fa27b9d = echarts.init(\n                    document.getElementById('b756933d3d254b76a728bce75fa27b9d'), 'white', {renderer: 'canvas'});\n                var option_b756933d3d254b76a728bce75fa27b9d = {\n    \"animation\": true,\n    \"animationThreshold\": 2000,\n    \"animationDuration\": 1000,\n    \"animationEasing\": \"cubicOut\",\n    \"animationDelay\": 0,\n    \"animationDurationUpdate\": 300,\n    \"animationEasingUpdate\": \"cubicOut\",\n    \"animationDelayUpdate\": 0,\n    \"color\": [\n        \"#c23531\",\n        \"#2f4554\",\n        \"#61a0a8\",\n        \"#d48265\",\n        \"#749f83\",\n        \"#ca8622\",\n        \"#bda29a\",\n        \"#6e7074\",\n        \"#546570\",\n        \"#c4ccd3\",\n        \"#f05b72\",\n        \"#ef5b9c\",\n        \"#f47920\",\n        \"#905a3d\",\n        \"#fab27b\",\n        \"#2a5caa\",\n        \"#444693\",\n        \"#726930\",\n        \"#b2d235\",\n        \"#6d8346\",\n        \"#ac6767\",\n        \"#1d953f\",\n        \"#6950a1\",\n        \"#918597\"\n    ],\n    \"series\": [\n        {\n            \"type\": \"bar\",\n            \"name\": \"2012\",\n            \"legendHoverLink\": true,\n            \"showBackground\": false,\n            \"barMinHeight\": 0,\n            \"barCategoryGap\": \"20%\",\n            \"barGap\": \"30%\",\n            \"large\": false,\n            \"largeThreshold\": 400,\n            \"seriesLayoutBy\": \"column\",\n            \"datasetIndex\": 0,\n            \"clip\": true,\n            \"zlevel\": 0,\n            \"z\": 2,\n            \"label\": {\n                \"show\": true,\n                \"position\": \"top\",\n                \"margin\": 8\n            }\n        },\n        {\n            \"type\": \"bar\",\n            \"name\": \"2013\",\n            \"legendHoverLink\": true,\n            \"showBackground\": false,\n            \"barMinHeight\": 0,\n            \"barCategoryGap\": \"20%\",\n            \"barGap\": \"30%\",\n            \"large\": false,\n            \"largeThreshold\": 400,\n            \"seriesLayoutBy\": \"column\",\n            \"datasetIndex\": 0,\n            \"clip\": true,\n            \"zlevel\": 0,\n            \"z\": 2,\n            \"label\": {\n                \"show\": true,\n                \"position\": \"top\",\n                \"margin\": 8\n            }\n        },\n        {\n            \"type\": \"bar\",\n            \"name\": \"2014\",\n            \"legendHoverLink\": true,\n            \"showBackground\": false,\n            \"barMinHeight\": 0,\n            \"barCategoryGap\": \"20%\",\n            \"barGap\": \"30%\",\n            \"large\": false,\n            \"largeThreshold\": 400,\n            \"seriesLayoutBy\": \"column\",\n            \"datasetIndex\": 0,\n            \"clip\": true,\n            \"zlevel\": 0,\n            \"z\": 2,\n            \"label\": {\n                \"show\": true,\n                \"position\": \"top\",\n                \"margin\": 8\n            }\n        },\n        {\n            \"type\": \"bar\",\n            \"name\": \"2015\",\n            \"legendHoverLink\": true,\n            \"showBackground\": false,\n            \"barMinHeight\": 0,\n            \"barCategoryGap\": \"20%\",\n            \"barGap\": \"30%\",\n            \"large\": false,\n            \"largeThreshold\": 400,\n            \"seriesLayoutBy\": \"column\",\n            \"datasetIndex\": 0,\n            \"clip\": true,\n            \"zlevel\": 0,\n            \"z\": 2,\n            \"label\": {\n                \"show\": true,\n                \"position\": \"top\",\n                \"margin\": 8\n            }\n        },\n        {\n            \"type\": \"bar\",\n            \"name\": \"2016\",\n            \"legendHoverLink\": true,\n            \"showBackground\": false,\n            \"barMinHeight\": 0,\n            \"barCategoryGap\": \"20%\",\n            \"barGap\": \"30%\",\n            \"large\": false,\n            \"largeThreshold\": 400,\n            \"seriesLayoutBy\": \"column\",\n            \"datasetIndex\": 0,\n            \"clip\": true,\n            \"zlevel\": 0,\n            \"z\": 2,\n            \"label\": {\n                \"show\": true,\n                \"position\": \"top\",\n                \"margin\": 8\n            }\n        },\n        {\n            \"type\": \"bar\",\n            \"name\": \"2017\",\n            \"legendHoverLink\": true,\n            \"showBackground\": false,\n            \"barMinHeight\": 0,\n            \"barCategoryGap\": \"20%\",\n            \"barGap\": \"30%\",\n            \"large\": false,\n            \"largeThreshold\": 400,\n            \"seriesLayoutBy\": \"column\",\n            \"datasetIndex\": 0,\n            \"clip\": true,\n            \"zlevel\": 0,\n            \"z\": 2,\n            \"label\": {\n                \"show\": true,\n                \"position\": \"top\",\n                \"margin\": 8\n            }\n        }\n    ],\n    \"legend\": [\n        {\n            \"data\": [\n                \"2012\",\n                \"2013\",\n                \"2014\",\n                \"2015\",\n                \"2016\",\n                \"2017\"\n            ],\n            \"selected\": {\n                \"2012\": true,\n                \"2013\": true,\n                \"2014\": true,\n                \"2015\": true,\n                \"2016\": true,\n                \"2017\": true\n            },\n            \"show\": true,\n            \"padding\": 5,\n            \"itemGap\": 10,\n            \"itemWidth\": 25,\n            \"itemHeight\": 14\n        }\n    ],\n    \"tooltip\": {\n        \"show\": true,\n        \"trigger\": \"item\",\n        \"triggerOn\": \"mousemove|click\",\n        \"axisPointer\": {\n            \"type\": \"line\"\n        },\n        \"showContent\": true,\n        \"alwaysShowContent\": false,\n        \"showDelay\": 0,\n        \"hideDelay\": 100,\n        \"textStyle\": {\n            \"fontSize\": 14\n        },\n        \"borderWidth\": 0,\n        \"padding\": 5\n    },\n    \"xAxis\": [\n        {\n            \"type\": \"category\",\n            \"show\": true,\n            \"scale\": false,\n            \"nameLocation\": \"end\",\n            \"nameGap\": 15,\n            \"gridIndex\": 0,\n            \"inverse\": false,\n            \"offset\": 0,\n            \"splitNumber\": 5,\n            \"minInterval\": 0,\n            \"splitLine\": {\n                \"show\": false,\n                \"lineStyle\": {\n                    \"show\": true,\n                    \"width\": 1,\n                    \"opacity\": 1,\n                    \"curveness\": 0,\n                    \"type\": \"solid\"\n                }\n            }\n        }\n    ],\n    \"yAxis\": [\n        {\n            \"show\": true,\n            \"scale\": false,\n            \"nameLocation\": \"end\",\n            \"nameGap\": 15,\n            \"gridIndex\": 0,\n            \"inverse\": false,\n            \"offset\": 0,\n            \"splitNumber\": 5,\n            \"minInterval\": 0,\n            \"splitLine\": {\n                \"show\": false,\n                \"lineStyle\": {\n                    \"show\": true,\n                    \"width\": 1,\n                    \"opacity\": 1,\n                    \"curveness\": 0,\n                    \"type\": \"solid\"\n                }\n            }\n        }\n    ],\n    \"dataset\": {\n        \"source\": [\n            [\n                \"product\",\n                \"2012\",\n                \"2013\",\n                \"2014\",\n                \"2015\",\n                \"2016\",\n                \"2017\"\n            ],\n            [\n                \"Matcha Latte\",\n                41.1,\n                30.4,\n                65.1,\n                53.3,\n                83.8,\n                98.7\n            ],\n            [\n                \"Milk Tea\",\n                86.5,\n                92.1,\n                85.7,\n                83.1,\n                73.4,\n                55.1\n            ],\n            [\n                \"Cheese Cocoa\",\n                24.1,\n                67.2,\n                79.5,\n                86.4,\n                65.2,\n                82.5\n            ],\n            [\n                \"Walnut Brownie\",\n                55.2,\n                67.1,\n                69.2,\n                72.4,\n                53.9,\n                39.1\n            ]\n        ]\n    },\n    \"title\": [\n        {\n            \"text\": \"Dataset simple bar example\",\n            \"padding\": 5,\n            \"itemGap\": 10\n        }\n    ]\n};\n                chart_b756933d3d254b76a728bce75fa27b9d.setOption(option_b756933d3d254b76a728bce75fa27b9d);\n        });\n    </script>\n"
     },
     "metadata": {},
     "execution_count": 12
    }
   ],
   "source": [
    "c = Bar() \\\n",
    "    .add_dataset(\n",
    "        source=[\n",
    "            [\"product\", \"2012\", \"2013\", \"2014\", \"2015\", \"2016\", \"2017\"],\n",
    "            [\"Matcha Latte\", 41.1, 30.4, 65.1, 53.3, 83.8, 98.7],\n",
    "            [\"Milk Tea\", 86.5, 92.1, 85.7, 83.1, 73.4, 55.1],\n",
    "            [\"Cheese Cocoa\", 24.1, 67.2, 79.5, 86.4, 65.2, 82.5],\n",
    "            [\"Walnut Brownie\", 55.2, 67.1, 69.2, 72.4, 53.9, 39.1],\n",
    "        ]\n",
    "    ) \\\n",
    "    .add_yaxis(series_name='2012', y_axis=[]) \\\n",
    "    .add_yaxis(series_name='2013', y_axis=[]) \\\n",
    "    .add_yaxis(series_name='2014', y_axis=[]) \\\n",
    "    .add_yaxis(series_name='2015', y_axis=[]) \\\n",
    "    .add_yaxis(series_name='2016', y_axis=[]) \\\n",
    "    .add_yaxis(series_name='2017', y_axis=[]) \\\n",
    "    .set_global_opts(\n",
    "        title_opts=opts.TitleOpts(title='Dataset simple bar example'),\n",
    "        xaxis_opts=opts.AxisOpts(type_='category'),\n",
    "    )\n",
    "\n",
    "c.render_notebook()"
   ]
  },
  {
   "cell_type": "code",
   "execution_count": null,
   "metadata": {},
   "outputs": [],
   "source": []
  }
 ]
}