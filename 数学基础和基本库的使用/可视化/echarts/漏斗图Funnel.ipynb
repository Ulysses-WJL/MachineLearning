{
 "metadata": {
  "language_info": {
   "codemirror_mode": {
    "name": "ipython",
    "version": 3
   },
   "file_extension": ".py",
   "mimetype": "text/x-python",
   "name": "python",
   "nbconvert_exporter": "python",
   "pygments_lexer": "ipython3",
   "version": "3.7.6-final"
  },
  "orig_nbformat": 2,
  "kernelspec": {
   "name": "python_defaultSpec_1598357462043",
   "display_name": "Python 3.7.6 64-bit ('anaconda3': virtualenv)"
  }
 },
 "nbformat": 4,
 "nbformat_minor": 2,
 "cells": [
  {
   "cell_type": "code",
   "execution_count": 4,
   "metadata": {
    "tags": []
   },
   "outputs": [
    {
     "output_type": "stream",
     "name": "stderr",
     "text": "/home/ulysses/anaconda3/lib/python3.7/site-packages/pyecharts/charts/chart.py:14: PendingDeprecationWarning: pyecharts 所有图表类型将在 v1.9.0 版本开始强制使用 ChartItem 进行数据项配置 :)\n  super().__init__(init_opts=init_opts)\n"
    },
    {
     "output_type": "execute_result",
     "data": {
      "text/plain": "<pyecharts.render.display.HTML at 0x7f0319604810>",
      "text/html": "\n<script>\n    require.config({\n        paths: {\n            'echarts':'https://assets.pyecharts.org/assets/echarts.min'\n        }\n    });\n</script>\n\n        <div id=\"2bb01676837f4e3e9b3f5e60b78328ce\" style=\"width:900px; height:500px;\"></div>\n\n<script>\n        require(['echarts'], function(echarts) {\n                var chart_2bb01676837f4e3e9b3f5e60b78328ce = echarts.init(\n                    document.getElementById('2bb01676837f4e3e9b3f5e60b78328ce'), 'white', {renderer: 'canvas'});\n                var option_2bb01676837f4e3e9b3f5e60b78328ce = {\n    \"animation\": true,\n    \"animationThreshold\": 2000,\n    \"animationDuration\": 1000,\n    \"animationEasing\": \"cubicOut\",\n    \"animationDelay\": 0,\n    \"animationDurationUpdate\": 300,\n    \"animationEasingUpdate\": \"cubicOut\",\n    \"animationDelayUpdate\": 0,\n    \"color\": [\n        \"#c23531\",\n        \"#2f4554\",\n        \"#61a0a8\",\n        \"#d48265\",\n        \"#749f83\",\n        \"#ca8622\",\n        \"#bda29a\",\n        \"#6e7074\",\n        \"#546570\",\n        \"#c4ccd3\",\n        \"#f05b72\",\n        \"#ef5b9c\",\n        \"#f47920\",\n        \"#905a3d\",\n        \"#fab27b\",\n        \"#2a5caa\",\n        \"#444693\",\n        \"#726930\",\n        \"#b2d235\",\n        \"#6d8346\",\n        \"#ac6767\",\n        \"#1d953f\",\n        \"#6950a1\",\n        \"#918597\"\n    ],\n    \"series\": [\n        {\n            \"type\": \"funnel\",\n            \"name\": \"\\u5546\\u54c1\",\n            \"data\": [\n                {\n                    \"name\": \"\\u53ef\\u4e50\",\n                    \"value\": 52\n                },\n                {\n                    \"name\": \"\\u96ea\\u78a7\",\n                    \"value\": 133\n                },\n                {\n                    \"name\": \"\\u6a59\\u6c41\",\n                    \"value\": 20\n                },\n                {\n                    \"name\": \"\\u7eff\\u8336\",\n                    \"value\": 86\n                },\n                {\n                    \"name\": \"\\u5976\\u8336\",\n                    \"value\": 102\n                },\n                {\n                    \"name\": \"\\u767e\\u5a01\",\n                    \"value\": 98\n                },\n                {\n                    \"name\": \"\\u9752\\u5c9b\",\n                    \"value\": 121\n                }\n            ],\n            \"sort\": \"ascending\",\n            \"gap\": 0,\n            \"label\": {\n                \"show\": true,\n                \"position\": \"inside\",\n                \"margin\": 8\n            }\n        }\n    ],\n    \"legend\": [\n        {\n            \"data\": [\n                \"\\u9752\\u5c9b\",\n                \"\\u5976\\u8336\",\n                \"\\u6a59\\u6c41\",\n                \"\\u96ea\\u78a7\",\n                \"\\u7eff\\u8336\",\n                \"\\u53ef\\u4e50\",\n                \"\\u767e\\u5a01\"\n            ],\n            \"selected\": {\n                \"\\u53ef\\u4e50\": true,\n                \"\\u96ea\\u78a7\": true,\n                \"\\u6a59\\u6c41\": true,\n                \"\\u7eff\\u8336\": true,\n                \"\\u5976\\u8336\": true,\n                \"\\u767e\\u5a01\": true,\n                \"\\u9752\\u5c9b\": true\n            },\n            \"show\": true,\n            \"padding\": 5,\n            \"itemGap\": 10,\n            \"itemWidth\": 25,\n            \"itemHeight\": 14\n        }\n    ],\n    \"tooltip\": {\n        \"show\": true,\n        \"trigger\": \"item\",\n        \"triggerOn\": \"mousemove|click\",\n        \"axisPointer\": {\n            \"type\": \"line\"\n        },\n        \"showContent\": true,\n        \"alwaysShowContent\": false,\n        \"showDelay\": 0,\n        \"hideDelay\": 100,\n        \"textStyle\": {\n            \"fontSize\": 14\n        },\n        \"borderWidth\": 0,\n        \"padding\": 5\n    },\n    \"title\": [\n        {\n            \"text\": \"Funnel-\\u57fa\\u672c\\u793a\\u4f8b\",\n            \"padding\": 5,\n            \"itemGap\": 10\n        }\n    ]\n};\n                chart_2bb01676837f4e3e9b3f5e60b78328ce.setOption(option_2bb01676837f4e3e9b3f5e60b78328ce);\n        });\n    </script>\n"
     },
     "metadata": {},
     "execution_count": 4
    }
   ],
   "source": [
    "from pyecharts import options as opts\n",
    "from pyecharts.charts import Funnel\n",
    "from pyecharts.faker import Faker\n",
    "\n",
    "c = Funnel() \\\n",
    "    .add(\n",
    "        '商品', \n",
    "        [list(z) for z in zip(Faker.choose(), Faker.values())],\n",
    "        sort_='ascending', \n",
    "        label_opts=opts.LabelOpts(position=\"inside\"),  # label 内置\n",
    "        ) \\\n",
    "    .set_global_opts(title_opts=opts.TitleOpts(title=\"Funnel-基本示例\"))\n",
    "c.render_notebook()"
   ]
  },
  {
   "cell_type": "code",
   "execution_count": 6,
   "metadata": {},
   "outputs": [
    {
     "output_type": "execute_result",
     "data": {
      "text/plain": "[('展现', 100), ('点击', 80), ('访问', 60), ('咨询', 40), ('订单', 20)]"
     },
     "metadata": {},
     "execution_count": 6
    }
   ],
   "source": [
    "x_data = [\"展现\", \"点击\", \"访问\", \"咨询\", \"订单\"]\n",
    "y_data = [100, 80, 60, 40, 20]\n",
    "\n",
    "data_pair = [z for z in zip(x_data, y_data)]\n",
    "data_pair"
   ]
  },
  {
   "cell_type": "code",
   "execution_count": 9,
   "metadata": {
    "tags": []
   },
   "outputs": [
    {
     "output_type": "stream",
     "name": "stderr",
     "text": "/home/ulysses/anaconda3/lib/python3.7/site-packages/pyecharts/charts/chart.py:14: PendingDeprecationWarning: pyecharts 所有图表类型将在 v1.9.0 版本开始强制使用 ChartItem 进行数据项配置 :)\n  super().__init__(init_opts=init_opts)\n"
    },
    {
     "output_type": "execute_result",
     "data": {
      "text/plain": "<pyecharts.render.display.HTML at 0x7f0318996910>",
      "text/html": "\n<script>\n    require.config({\n        paths: {\n            'echarts':'https://assets.pyecharts.org/assets/echarts.min'\n        }\n    });\n</script>\n\n        <div id=\"c722a62fcd084c22a1a67b85279c878d\" style=\"width:900px; height:500px;\"></div>\n\n<script>\n        require(['echarts'], function(echarts) {\n                var chart_c722a62fcd084c22a1a67b85279c878d = echarts.init(\n                    document.getElementById('c722a62fcd084c22a1a67b85279c878d'), 'white', {renderer: 'canvas'});\n                var option_c722a62fcd084c22a1a67b85279c878d = {\n    \"animation\": true,\n    \"animationThreshold\": 2000,\n    \"animationDuration\": 1000,\n    \"animationEasing\": \"cubicOut\",\n    \"animationDelay\": 0,\n    \"animationDurationUpdate\": 300,\n    \"animationEasingUpdate\": \"cubicOut\",\n    \"animationDelayUpdate\": 0,\n    \"color\": [\n        \"#c23531\",\n        \"#2f4554\",\n        \"#61a0a8\",\n        \"#d48265\",\n        \"#749f83\",\n        \"#ca8622\",\n        \"#bda29a\",\n        \"#6e7074\",\n        \"#546570\",\n        \"#c4ccd3\",\n        \"#f05b72\",\n        \"#ef5b9c\",\n        \"#f47920\",\n        \"#905a3d\",\n        \"#fab27b\",\n        \"#2a5caa\",\n        \"#444693\",\n        \"#726930\",\n        \"#b2d235\",\n        \"#6d8346\",\n        \"#ac6767\",\n        \"#1d953f\",\n        \"#6950a1\",\n        \"#918597\"\n    ],\n    \"series\": [\n        {\n            \"type\": \"funnel\",\n            \"data\": [\n                {\n                    \"name\": \"\\u5c55\\u73b0\",\n                    \"value\": 100\n                },\n                {\n                    \"name\": \"\\u70b9\\u51fb\",\n                    \"value\": 80\n                },\n                {\n                    \"name\": \"\\u8bbf\\u95ee\",\n                    \"value\": 60\n                },\n                {\n                    \"name\": \"\\u54a8\\u8be2\",\n                    \"value\": 40\n                },\n                {\n                    \"name\": \"\\u8ba2\\u5355\",\n                    \"value\": 20\n                }\n            ],\n            \"sort\": \"descending\",\n            \"gap\": 2,\n            \"label\": {\n                \"show\": true,\n                \"position\": \"inside\",\n                \"margin\": 8\n            },\n            \"tooltip\": {\n                \"show\": true,\n                \"trigger\": \"item\",\n                \"triggerOn\": \"mousemove|click\",\n                \"axisPointer\": {\n                    \"type\": \"line\"\n                },\n                \"showContent\": true,\n                \"alwaysShowContent\": false,\n                \"showDelay\": 0,\n                \"hideDelay\": 100,\n                \"formatter\": \"{a} <br/>{b} :{c}%\",\n                \"textStyle\": {\n                    \"fontSize\": 14\n                },\n                \"borderWidth\": 0,\n                \"padding\": 5\n            },\n            \"itemStyle\": {\n                \"borderColor\": \"#fff\",\n                \"borderWidth\": 1\n            }\n        }\n    ],\n    \"legend\": [\n        {\n            \"data\": [\n                \"\\u5c55\\u73b0\",\n                \"\\u70b9\\u51fb\",\n                \"\\u8ba2\\u5355\",\n                \"\\u8bbf\\u95ee\",\n                \"\\u54a8\\u8be2\"\n            ],\n            \"selected\": {\n                \"\\u5c55\\u73b0\": true,\n                \"\\u70b9\\u51fb\": true,\n                \"\\u8bbf\\u95ee\": true,\n                \"\\u54a8\\u8be2\": true,\n                \"\\u8ba2\\u5355\": true\n            },\n            \"show\": true,\n            \"padding\": 5,\n            \"itemGap\": 10,\n            \"itemWidth\": 25,\n            \"itemHeight\": 14\n        }\n    ],\n    \"tooltip\": {\n        \"show\": true,\n        \"trigger\": \"item\",\n        \"triggerOn\": \"mousemove|click\",\n        \"axisPointer\": {\n            \"type\": \"line\"\n        },\n        \"showContent\": true,\n        \"alwaysShowContent\": false,\n        \"showDelay\": 0,\n        \"hideDelay\": 100,\n        \"textStyle\": {\n            \"fontSize\": 14\n        },\n        \"borderWidth\": 0,\n        \"padding\": 5\n    },\n    \"title\": [\n        {\n            \"text\": \"\\u6f0f\\u6597\\u56fe\",\n            \"subtext\": \"\\u7eaf\\u5c5e\\u865a\\u6784\",\n            \"padding\": 5,\n            \"itemGap\": 10\n        }\n    ]\n};\n                chart_c722a62fcd084c22a1a67b85279c878d.setOption(option_c722a62fcd084c22a1a67b85279c878d);\n        });\n    </script>\n"
     },
     "metadata": {},
     "execution_count": 9
    }
   ],
   "source": [
    "c = Funnel() \\\n",
    "    .add(\n",
    "        series_name=\"\",\n",
    "        data_pair=data_pair,\n",
    "        gap=2,\n",
    "        tooltip_opts=opts.TooltipOpts(trigger='item', formatter=\"{a} <br/>{b} :{c}%\"),\n",
    "        label_opts=opts.LabelOpts(is_show=True, position='inside'),\n",
    "        itemstyle_opts=opts.ItemStyleOpts(border_color='#fff', border_width=1)\n",
    "    ) \\\n",
    "    .set_global_opts(title_opts=opts.TitleOpts(title=\"漏斗图\", subtitle=\"纯属虚构\"))\n",
    "c.render_notebook()"
   ]
  },
  {
   "cell_type": "code",
   "execution_count": null,
   "metadata": {},
   "outputs": [],
   "source": []
  }
 ]
}