{
 "metadata": {
  "language_info": {
   "codemirror_mode": {
    "name": "ipython",
    "version": 3
   },
   "file_extension": ".py",
   "mimetype": "text/x-python",
   "name": "python",
   "nbconvert_exporter": "python",
   "pygments_lexer": "ipython3",
   "version": "3.7.6-final"
  },
  "orig_nbformat": 2,
  "kernelspec": {
   "name": "python_defaultSpec_1598433432293",
   "display_name": "Python 3.7.6 64-bit ('base': conda)"
  }
 },
 "nbformat": 4,
 "nbformat_minor": 2,
 "cells": [
  {
   "cell_type": "markdown",
   "metadata": {},
   "source": [
    "## Boxplot base\n"
   ]
  },
  {
   "cell_type": "code",
   "execution_count": 2,
   "metadata": {
    "tags": []
   },
   "outputs": [
    {
     "output_type": "stream",
     "name": "stderr",
     "text": "/home/ulysses/anaconda3/lib/python3.7/site-packages/pyecharts/charts/chart.py:14: PendingDeprecationWarning: pyecharts 所有图表类型将在 v1.9.0 版本开始强制使用 ChartItem 进行数据项配置 :)\n  super().__init__(init_opts=init_opts)\n"
    },
    {
     "output_type": "execute_result",
     "data": {
      "text/plain": "<pyecharts.render.display.HTML at 0x7f52a94aea90>",
      "text/html": "\n<script>\n    require.config({\n        paths: {\n            'echarts':'https://assets.pyecharts.org/assets/echarts.min'\n        }\n    });\n</script>\n\n        <div id=\"8445f50db31740c8979b43c07910edd5\" style=\"width:900px; height:500px;\"></div>\n\n<script>\n        require(['echarts'], function(echarts) {\n                var chart_8445f50db31740c8979b43c07910edd5 = echarts.init(\n                    document.getElementById('8445f50db31740c8979b43c07910edd5'), 'white', {renderer: 'canvas'});\n                var option_8445f50db31740c8979b43c07910edd5 = {\n    \"animation\": true,\n    \"animationThreshold\": 2000,\n    \"animationDuration\": 1000,\n    \"animationEasing\": \"cubicOut\",\n    \"animationDelay\": 0,\n    \"animationDurationUpdate\": 300,\n    \"animationEasingUpdate\": \"cubicOut\",\n    \"animationDelayUpdate\": 0,\n    \"color\": [\n        \"#c23531\",\n        \"#2f4554\",\n        \"#61a0a8\",\n        \"#d48265\",\n        \"#749f83\",\n        \"#ca8622\",\n        \"#bda29a\",\n        \"#6e7074\",\n        \"#546570\",\n        \"#c4ccd3\",\n        \"#f05b72\",\n        \"#ef5b9c\",\n        \"#f47920\",\n        \"#905a3d\",\n        \"#fab27b\",\n        \"#2a5caa\",\n        \"#444693\",\n        \"#726930\",\n        \"#b2d235\",\n        \"#6d8346\",\n        \"#ac6767\",\n        \"#1d953f\",\n        \"#6950a1\",\n        \"#918597\"\n    ],\n    \"series\": [\n        {\n            \"type\": \"boxplot\",\n            \"name\": \"A\",\n            \"data\": [\n                [\n                    740,\n                    857.5,\n                    940.0,\n                    980.0,\n                    1070\n                ],\n                [\n                    790,\n                    832.5,\n                    880.0,\n                    940.0,\n                    960\n                ]\n            ],\n            \"label\": {\n                \"show\": true,\n                \"position\": \"top\",\n                \"margin\": 8\n            },\n            \"markPoint\": {\n                \"label\": {\n                    \"show\": true,\n                    \"position\": \"inside\",\n                    \"color\": \"#fff\",\n                    \"margin\": 8\n                }\n            },\n            \"markLine\": {\n                \"silent\": false,\n                \"precision\": 2,\n                \"label\": {\n                    \"show\": true,\n                    \"position\": \"top\",\n                    \"margin\": 8\n                }\n            }\n        },\n        {\n            \"type\": \"boxplot\",\n            \"name\": \"B\",\n            \"data\": [\n                [\n                    740,\n                    760.0,\n                    805.0,\n                    872.5,\n                    920\n                ],\n                [\n                    760,\n                    795.0,\n                    815.0,\n                    865.0,\n                    890\n                ]\n            ],\n            \"label\": {\n                \"show\": true,\n                \"position\": \"top\",\n                \"margin\": 8\n            },\n            \"markPoint\": {\n                \"label\": {\n                    \"show\": true,\n                    \"position\": \"inside\",\n                    \"color\": \"#fff\",\n                    \"margin\": 8\n                }\n            },\n            \"markLine\": {\n                \"silent\": false,\n                \"precision\": 2,\n                \"label\": {\n                    \"show\": true,\n                    \"position\": \"top\",\n                    \"margin\": 8\n                }\n            }\n        }\n    ],\n    \"legend\": [\n        {\n            \"data\": [\n                \"A\",\n                \"B\"\n            ],\n            \"selected\": {\n                \"A\": true,\n                \"B\": true\n            },\n            \"show\": true,\n            \"padding\": 5,\n            \"itemGap\": 10,\n            \"itemWidth\": 25,\n            \"itemHeight\": 14\n        }\n    ],\n    \"tooltip\": {\n        \"show\": true,\n        \"trigger\": \"item\",\n        \"triggerOn\": \"mousemove|click\",\n        \"axisPointer\": {\n            \"type\": \"line\"\n        },\n        \"showContent\": true,\n        \"alwaysShowContent\": false,\n        \"showDelay\": 0,\n        \"hideDelay\": 100,\n        \"textStyle\": {\n            \"fontSize\": 14\n        },\n        \"borderWidth\": 0,\n        \"padding\": 5\n    },\n    \"xAxis\": [\n        {\n            \"show\": true,\n            \"scale\": false,\n            \"nameLocation\": \"end\",\n            \"nameGap\": 15,\n            \"gridIndex\": 0,\n            \"inverse\": false,\n            \"offset\": 0,\n            \"splitNumber\": 5,\n            \"minInterval\": 0,\n            \"splitLine\": {\n                \"show\": false,\n                \"lineStyle\": {\n                    \"show\": true,\n                    \"width\": 1,\n                    \"opacity\": 1,\n                    \"curveness\": 0,\n                    \"type\": \"solid\"\n                }\n            },\n            \"data\": [\n                \"expr1\",\n                \"expr2\"\n            ]\n        }\n    ],\n    \"yAxis\": [\n        {\n            \"show\": true,\n            \"scale\": false,\n            \"nameLocation\": \"end\",\n            \"nameGap\": 15,\n            \"gridIndex\": 0,\n            \"inverse\": false,\n            \"offset\": 0,\n            \"splitNumber\": 5,\n            \"minInterval\": 0,\n            \"splitLine\": {\n                \"show\": false,\n                \"lineStyle\": {\n                    \"show\": true,\n                    \"width\": 1,\n                    \"opacity\": 1,\n                    \"curveness\": 0,\n                    \"type\": \"solid\"\n                }\n            }\n        }\n    ],\n    \"title\": [\n        {\n            \"text\": \"BoxPlot-\\u57fa\\u672c\\u793a\\u4f8b\",\n            \"padding\": 5,\n            \"itemGap\": 10\n        }\n    ]\n};\n                chart_8445f50db31740c8979b43c07910edd5.setOption(option_8445f50db31740c8979b43c07910edd5);\n        });\n    </script>\n"
     },
     "metadata": {},
     "execution_count": 2
    }
   ],
   "source": [
    "from pyecharts.charts import Boxplot\n",
    "from pyecharts import options as opts\n",
    "\n",
    "v1 = [\n",
    "    [850, 740, 900, 1070, 930, 850, 950, 980, 980, 880, 1000, 980],\n",
    "    [960, 940, 960, 940, 880, 800, 850, 880, 900, 840, 830, 790],\n",
    "]\n",
    "v2 = [\n",
    "    [890, 810, 810, 820, 800, 770, 760, 740, 750, 760, 910, 920],\n",
    "    [890, 840, 780, 810, 760, 810, 790, 810, 820, 850, 870, 870],\n",
    "]\n",
    "c = Boxplot()\n",
    "c.add_xaxis(['expr1', 'expr2'])\n",
    "c.add_yaxis('A', c.prepare_data(v1))\n",
    "c.add_yaxis('B', c.prepare_data(v2))\n",
    "c.set_global_opts(title_opts=opts.TitleOpts(title=\"BoxPlot-基本示例\"))\n",
    "c.render_notebook()"
   ]
  },
  {
   "cell_type": "markdown",
   "metadata": {},
   "source": [
    "## Boxplot_light_velocity"
   ]
  },
  {
   "cell_type": "code",
   "execution_count": 14,
   "metadata": {
    "tags": []
   },
   "outputs": [
    {
     "output_type": "stream",
     "name": "stderr",
     "text": "/home/ulysses/anaconda3/lib/python3.7/site-packages/pyecharts/charts/chart.py:14: PendingDeprecationWarning: pyecharts 所有图表类型将在 v1.9.0 版本开始强制使用 ChartItem 进行数据项配置 :)\n  super().__init__(init_opts=init_opts)\n/home/ulysses/anaconda3/lib/python3.7/site-packages/pyecharts/charts/chart.py:14: PendingDeprecationWarning: pyecharts 所有图表类型将在 v1.9.0 版本开始强制使用 ChartItem 进行数据项配置 :)\n  super().__init__(init_opts=init_opts)\n/home/ulysses/anaconda3/lib/python3.7/site-packages/pyecharts/charts/composite_charts/grid.py:17: PendingDeprecationWarning: pyecharts 所有图表类型将在 v1.9.0 版本开始强制使用 ChartItem 进行数据项配置 :)\n  super().__init__(init_opts=init_opts)\n"
    },
    {
     "output_type": "execute_result",
     "data": {
      "text/plain": "<pyecharts.render.display.HTML at 0x7f77d6e31090>",
      "text/html": "\n<script>\n    require.config({\n        paths: {\n            'echarts':'https://assets.pyecharts.org/assets/echarts.min'\n        }\n    });\n</script>\n\n        <div id=\"169d529ad3e14a5780608fc85d0e83e7\" style=\"width:1600px; height:1000px;\"></div>\n\n<script>\n        require(['echarts'], function(echarts) {\n                var chart_169d529ad3e14a5780608fc85d0e83e7 = echarts.init(\n                    document.getElementById('169d529ad3e14a5780608fc85d0e83e7'), 'white', {renderer: 'canvas'});\n                var option_169d529ad3e14a5780608fc85d0e83e7 = {\n    \"animation\": true,\n    \"animationThreshold\": 2000,\n    \"animationDuration\": 1000,\n    \"animationEasing\": \"cubicOut\",\n    \"animationDelay\": 0,\n    \"animationDurationUpdate\": 300,\n    \"animationEasingUpdate\": \"cubicOut\",\n    \"animationDelayUpdate\": 0,\n    \"color\": [\n        \"#c23531\",\n        \"#2f4554\",\n        \"#61a0a8\",\n        \"#d48265\",\n        \"#749f83\",\n        \"#ca8622\",\n        \"#bda29a\",\n        \"#6e7074\",\n        \"#546570\",\n        \"#c4ccd3\",\n        \"#f05b72\",\n        \"#ef5b9c\",\n        \"#f47920\",\n        \"#905a3d\",\n        \"#fab27b\",\n        \"#2a5caa\",\n        \"#444693\",\n        \"#726930\",\n        \"#b2d235\",\n        \"#6d8346\",\n        \"#ac6767\",\n        \"#1d953f\",\n        \"#6950a1\",\n        \"#918597\"\n    ],\n    \"series\": [\n        {\n            \"type\": \"boxplot\",\n            \"xAxisIndex\": 0,\n            \"yAxisIndex\": 0,\n            \"data\": [\n                [\n                    740,\n                    857.5,\n                    940.0,\n                    980.0,\n                    1070\n                ],\n                [\n                    790,\n                    832.5,\n                    880.0,\n                    940.0,\n                    960\n                ],\n                [\n                    740,\n                    760.0,\n                    805.0,\n                    872.5,\n                    920\n                ],\n                [\n                    760,\n                    795.0,\n                    815.0,\n                    865.0,\n                    890\n                ]\n            ],\n            \"label\": {\n                \"show\": true,\n                \"position\": \"top\",\n                \"margin\": 8\n            },\n            \"markPoint\": {\n                \"label\": {\n                    \"show\": true,\n                    \"position\": \"inside\",\n                    \"color\": \"#fff\",\n                    \"margin\": 8\n                }\n            },\n            \"markLine\": {\n                \"silent\": false,\n                \"precision\": 2,\n                \"label\": {\n                    \"show\": true,\n                    \"position\": \"top\",\n                    \"margin\": 8\n                }\n            },\n            \"tooltip\": {\n                \"show\": true,\n                \"trigger\": \"item\",\n                \"triggerOn\": \"mousemove|click\",\n                \"axisPointer\": {\n                    \"type\": \"line\"\n                },\n                \"showContent\": true,\n                \"alwaysShowContent\": false,\n                \"showDelay\": 0,\n                \"hideDelay\": 100,\n                \"formatter\": \"{b}: {c}\",\n                \"textStyle\": {\n                    \"fontSize\": 14\n                },\n                \"borderWidth\": 0,\n                \"padding\": 5\n            },\n            \"rippleEffect\": {\n                \"show\": true,\n                \"brushType\": \"stroke\",\n                \"scale\": 2.5,\n                \"period\": 4\n            }\n        },\n        {\n            \"type\": \"scatter\",\n            \"xAxisIndex\": 1,\n            \"yAxisIndex\": 1,\n            \"symbolSize\": 10,\n            \"data\": [\n                [\n                    \"expr 0\",\n                    650\n                ],\n                [\n                    \"expr 1\",\n                    620\n                ],\n                [\n                    \"expr 2\",\n                    720\n                ],\n                [\n                    \"expr 3\",\n                    950\n                ]\n            ],\n            \"label\": {\n                \"show\": true,\n                \"position\": \"right\",\n                \"margin\": 8\n            }\n        }\n    ],\n    \"legend\": [\n        {\n            \"data\": [\n                \"\"\n            ],\n            \"selected\": {\n                \"\": true\n            },\n            \"show\": true,\n            \"padding\": 5,\n            \"itemGap\": 10,\n            \"itemWidth\": 25,\n            \"itemHeight\": 14\n        },\n        {\n            \"data\": [\n                \"\"\n            ],\n            \"selected\": {\n                \"\": true\n            },\n            \"show\": true,\n            \"padding\": 5,\n            \"itemGap\": 10,\n            \"itemWidth\": 25,\n            \"itemHeight\": 14\n        }\n    ],\n    \"tooltip\": {\n        \"show\": true,\n        \"trigger\": \"item\",\n        \"triggerOn\": \"mousemove|click\",\n        \"axisPointer\": {\n            \"type\": \"shadow\"\n        },\n        \"showContent\": true,\n        \"alwaysShowContent\": false,\n        \"showDelay\": 0,\n        \"hideDelay\": 100,\n        \"textStyle\": {\n            \"fontSize\": 14\n        },\n        \"borderWidth\": 0,\n        \"padding\": 5\n    },\n    \"xAxis\": [\n        {\n            \"type\": \"category\",\n            \"show\": true,\n            \"scale\": false,\n            \"nameLocation\": \"end\",\n            \"nameGap\": 15,\n            \"gridIndex\": 0,\n            \"axisLabel\": {\n                \"show\": true,\n                \"position\": \"top\",\n                \"margin\": 8,\n                \"formatter\": \"expr {value}\"\n            },\n            \"inverse\": false,\n            \"offset\": 0,\n            \"splitNumber\": 5,\n            \"boundaryGap\": true,\n            \"minInterval\": 0,\n            \"splitLine\": {\n                \"show\": false,\n                \"lineStyle\": {\n                    \"show\": true,\n                    \"width\": 1,\n                    \"opacity\": 1,\n                    \"curveness\": 0,\n                    \"type\": \"solid\"\n                }\n            },\n            \"splitArea\": {\n                \"show\": false,\n                \"areaStyle\": {\n                    \"opacity\": 0\n                }\n            },\n            \"data\": [\n                \"expr 0\",\n                \"expr 1\",\n                \"expr 2\",\n                \"expr 3\"\n            ]\n        },\n        {\n            \"show\": true,\n            \"scale\": false,\n            \"nameLocation\": \"end\",\n            \"nameGap\": 15,\n            \"gridIndex\": 1,\n            \"inverse\": false,\n            \"offset\": 0,\n            \"splitNumber\": 5,\n            \"minInterval\": 0,\n            \"splitLine\": {\n                \"show\": false,\n                \"lineStyle\": {\n                    \"show\": true,\n                    \"width\": 1,\n                    \"opacity\": 1,\n                    \"curveness\": 0,\n                    \"type\": \"solid\"\n                }\n            },\n            \"data\": [\n                \"expr 0\",\n                \"expr 1\",\n                \"expr 2\",\n                \"expr 3\"\n            ]\n        }\n    ],\n    \"yAxis\": [\n        {\n            \"type\": \"value\",\n            \"name\": \"km/s minus 299,000\",\n            \"show\": true,\n            \"scale\": false,\n            \"nameLocation\": \"end\",\n            \"nameGap\": 15,\n            \"gridIndex\": 0,\n            \"inverse\": false,\n            \"offset\": 0,\n            \"splitNumber\": 5,\n            \"boundaryGap\": true,\n            \"minInterval\": 0,\n            \"splitLine\": {\n                \"show\": false,\n                \"lineStyle\": {\n                    \"show\": true,\n                    \"width\": 1,\n                    \"opacity\": 1,\n                    \"curveness\": 0,\n                    \"type\": \"solid\"\n                }\n            },\n            \"splitArea\": {\n                \"show\": true,\n                \"areaStyle\": {\n                    \"opacity\": 1\n                }\n            }\n        },\n        {\n            \"show\": true,\n            \"scale\": false,\n            \"nameLocation\": \"end\",\n            \"nameGap\": 15,\n            \"gridIndex\": 1,\n            \"axisTick\": {\n                \"show\": false,\n                \"alignWithLabel\": false,\n                \"inside\": false\n            },\n            \"axisLabel\": {\n                \"show\": false,\n                \"position\": \"top\",\n                \"margin\": 8\n            },\n            \"inverse\": false,\n            \"offset\": 0,\n            \"splitNumber\": 5,\n            \"minInterval\": 0,\n            \"splitLine\": {\n                \"show\": false,\n                \"lineStyle\": {\n                    \"show\": true,\n                    \"width\": 1,\n                    \"opacity\": 1,\n                    \"curveness\": 0,\n                    \"type\": \"solid\"\n                }\n            }\n        }\n    ],\n    \"title\": [\n        {\n            \"text\": \"Michelson-Morley Experiment\",\n            \"left\": \"center\",\n            \"padding\": 5,\n            \"itemGap\": 10\n        },\n        {\n            \"text\": \"upper: Q3 + 1.5 * IQR \\nlower: Q1 - 1.5 * IQR\",\n            \"left\": \"10%\",\n            \"top\": \"90%\",\n            \"padding\": 5,\n            \"itemGap\": 10,\n            \"textStyle\": {\n                \"fontSize\": 14,\n                \"borderColor\": \"#999\",\n                \"borderWidth\": 1\n            }\n        }\n    ],\n    \"grid\": [\n        {\n            \"show\": false,\n            \"zlevel\": 0,\n            \"z\": 2,\n            \"left\": \"10%\",\n            \"right\": \"10%\",\n            \"bottom\": \"15%\",\n            \"containLabel\": false,\n            \"backgroundColor\": \"transparent\",\n            \"borderColor\": \"#ccc\",\n            \"borderWidth\": 1\n        },\n        {\n            \"show\": false,\n            \"zlevel\": 0,\n            \"z\": 2,\n            \"left\": \"10%\",\n            \"right\": \"10%\",\n            \"bottom\": \"15%\",\n            \"containLabel\": false,\n            \"backgroundColor\": \"transparent\",\n            \"borderColor\": \"#ccc\",\n            \"borderWidth\": 1\n        }\n    ]\n};\n                chart_169d529ad3e14a5780608fc85d0e83e7.setOption(option_169d529ad3e14a5780608fc85d0e83e7);\n        });\n    </script>\n"
     },
     "metadata": {},
     "execution_count": 14
    }
   ],
   "source": [
    "import pyecharts.options as opts\n",
    "from pyecharts.charts import Grid, Boxplot, Scatter\n",
    "\n",
    "y_data = [\n",
    "    [850, 740, 900, 1070, 930, 850, 950, 980, 980, 880, 1000, 980],\n",
    "    [960, 940, 960, 940, 880, 800, 850, 880, 900, 840, 830, 790],\n",
    "    [890, 810, 810, 820, 800, 770, 760, 740, 750, 760, 910, 920],\n",
    "    [890, 840, 780, 810, 760, 810, 790, 810, 820, 850, 870, 870],\n",
    "]\n",
    "scatter_data = [650, 620, 720, 950, 970]\n",
    "box_plot = Boxplot()\n",
    "box_plot = box_plot \\\n",
    "    .add_xaxis(xaxis_data=[\"expr 0\", \"expr 1\", \"expr 2\", \"expr 3\"]) \\\n",
    "    .add_yaxis(series_name='', y_axis=box_plot.prepare_data(y_data)) \\\n",
    "    .set_global_opts(\n",
    "        title_opts=opts.TitleOpts(\n",
    "            pos_left=\"center\", title=\"Michelson-Morley Experiment\"\n",
    "        ),\n",
    "        tooltip_opts=opts.TooltipOpts(trigger=\"item\", axis_pointer_type=\"shadow\"),\n",
    "        xaxis_opts=opts.AxisOpts(\n",
    "            type_=\"category\",\n",
    "            boundary_gap=True,\n",
    "            splitarea_opts=opts.SplitAreaOpts(is_show=False),\n",
    "            axislabel_opts=opts.LabelOpts(formatter=\"expr {value}\"),\n",
    "            splitline_opts=opts.SplitLineOpts(is_show=False),\n",
    "        ),\n",
    "        yaxis_opts=opts.AxisOpts(\n",
    "            type_=\"value\",\n",
    "            name=\"km/s minus 299,000\",\n",
    "            boundary_gap=True,\n",
    "            splitarea_opts=opts.SplitAreaOpts(\n",
    "                is_show=True, areastyle_opts=opts.AreaStyleOpts(opacity=1)\n",
    "            ),\n",
    "        )\n",
    "    ) \\\n",
    "    .set_series_opts(tooltip_opts=opts.TooltipOpts(formatter=\"{b}: {c}\"))\n",
    "\n",
    "scatter = (\n",
    "    Scatter()\n",
    "    .add_xaxis(xaxis_data=[\"expr 0\", \"expr 1\", \"expr 2\", \"expr 3\"])\n",
    "    .add_yaxis(series_name=\"\", y_axis=scatter_data)\n",
    "    .set_global_opts(\n",
    "        title_opts=opts.TitleOpts(\n",
    "            pos_left=\"10%\",\n",
    "            pos_top=\"90%\",\n",
    "            title=\"upper: Q3 + 1.5 * IQR \\nlower: Q1 - 1.5 * IQR\",\n",
    "            title_textstyle_opts=opts.TextStyleOpts(\n",
    "                border_color=\"#999\", border_width=1, font_size=14\n",
    "            ),\n",
    "        ),\n",
    "        yaxis_opts=opts.AxisOpts(\n",
    "            axislabel_opts=opts.LabelOpts(is_show=False),\n",
    "            axistick_opts=opts.AxisTickOpts(is_show=False),\n",
    "        ),\n",
    "    )\n",
    ")\n",
    "\n",
    "grid = (\n",
    "    Grid(init_opts=opts.InitOpts(width=\"1600px\", height=\"1000px\"))\n",
    "    .add(\n",
    "        box_plot,\n",
    "        grid_opts=opts.GridOpts(pos_left=\"10%\", pos_right=\"10%\", pos_bottom=\"15%\"),\n",
    "    )\n",
    "    .add(\n",
    "        scatter,\n",
    "        grid_opts=opts.GridOpts(pos_left=\"10%\", pos_right=\"10%\", pos_bottom=\"15%\"),\n",
    "    )\n",
    ")\n",
    "grid.render_notebook()"
   ]
  },
  {
   "cell_type": "code",
   "execution_count": null,
   "metadata": {},
   "outputs": [],
   "source": []
  }
 ]
}