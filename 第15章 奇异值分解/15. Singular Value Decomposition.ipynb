{
 "cells": [
  {
   "cell_type": "markdown",
   "metadata": {},
   "source": [
    "# 第15章 奇异值分解\n",
    "---\n",
    "奇异值分解(singular value decomposition, SVD)是一种矩阵因子分解方法, 是线性代数的概念, 但在统计学中有广泛应用，PCA和LSA中都有应用，在本书中定义为基础学习方法.\n",
    "\n",
    "## 奇异值分解定义与性质\n",
    "\n",
    "### 定义\n",
    "\n",
    "矩阵的奇异值分解是指将任意非零的$m\\times n$实矩阵$A$表示为以下三个实矩阵乘积形式的运算\n",
    "$$\n",
    "A=U\\mit\\Sigma V^\\mathrm T\n",
    "$$\n",
    "其中$U$是m阶正交矩阵, $V$是n阶正交矩阵, $\\Sigma$是由降序排列的非负对角线元素组成的$m\\times n$矩形对角矩阵.\n",
    "> 如果n阶方阵$A$满足:\n",
    "$$U^TU = I\\quad(即U^{-1}=U^T)$$\n",
    "那么称$U$为正交矩阵,简称正交阵\n",
    "\n",
    "满足\n",
    "$$\\Sigma = diag(\\sigma_1, \\sigma_2, \\cdots, \\sigma_p) \\\\\n",
    "\\sigma_1 \\geq \\sigma_2 \\geq  \\cdots \\geq \\sigma_p \\geq 0 \\\\\n",
    "p = min(m, n)\n",
    "$$\n",
    "$U$的列向量$u_i \\in \\mathbb{R}^{m}$称为$A$的**左奇异向量**(left-singular vector), $V$的列向量$v_i \\in \\mathbb{R}^{n}$称为$A$的**右奇异向量**(right-singular vector), $\\sigma_i$称为**奇异值**(singular value). 矩阵$A$的秩就等于非零奇异值的个数"
   ]
  },
  {
   "cell_type": "code",
   "execution_count": 61,
   "metadata": {},
   "outputs": [],
   "source": [
    "import numpy as np\n",
    "\n",
    "np.set_printoptions(suppress=True, precision=4)"
   ]
  },
  {
   "cell_type": "code",
   "execution_count": 30,
   "metadata": {},
   "outputs": [
    {
     "data": {
      "text/plain": [
       "array([[1, 0, 0, 0],\n",
       "       [0, 0, 0, 4],\n",
       "       [0, 3, 0, 0],\n",
       "       [0, 0, 0, 0],\n",
       "       [2, 0, 0, 0]])"
      ]
     },
     "execution_count": 30,
     "metadata": {},
     "output_type": "execute_result"
    }
   ],
   "source": [
    "# 5 X 4\n",
    "A = np.array([[1, 0, 0, 0], [0, 0, 0, 4], [0, 3, 0, 0], [0, 0, 0, 0], [2, 0, 0, 0]])\n",
    "A"
   ]
  },
  {
   "cell_type": "code",
   "execution_count": 31,
   "metadata": {},
   "outputs": [],
   "source": [
    "u, sigma, v = np.linalg.svd(A)"
   ]
  },
  {
   "cell_type": "code",
   "execution_count": 32,
   "metadata": {},
   "outputs": [
    {
     "data": {
      "text/plain": [
       "array([[ 0.        ,  0.        , -0.4472136 ,  0.        , -0.89442719],\n",
       "       [-1.        ,  0.        ,  0.        ,  0.        ,  0.        ],\n",
       "       [ 0.        , -1.        ,  0.        ,  0.        ,  0.        ],\n",
       "       [ 0.        ,  0.        ,  0.        ,  1.        ,  0.        ],\n",
       "       [ 0.        ,  0.        , -0.89442719,  0.        ,  0.4472136 ]])"
      ]
     },
     "execution_count": 32,
     "metadata": {},
     "output_type": "execute_result"
    }
   ],
   "source": [
    "u"
   ]
  },
  {
   "cell_type": "code",
   "execution_count": 33,
   "metadata": {},
   "outputs": [
    {
     "data": {
      "text/plain": [
       "array([[ 4.        ,  0.        ,  0.        ,  0.        ],\n",
       "       [ 0.        ,  3.        ,  0.        ,  0.        ],\n",
       "       [ 0.        ,  0.        ,  2.23606798,  0.        ],\n",
       "       [ 0.        ,  0.        ,  0.        , -0.        ],\n",
       "       [ 0.        ,  0.        ,  0.        ,  0.        ]])"
      ]
     },
     "execution_count": 33,
     "metadata": {},
     "output_type": "execute_result"
    }
   ],
   "source": [
    "s_ = np.vstack((np.diag(sigma), np.zeros(4)))\n",
    "s_"
   ]
  },
  {
   "cell_type": "code",
   "execution_count": 34,
   "metadata": {},
   "outputs": [
    {
     "data": {
      "text/plain": [
       "array([[-0., -0., -0., -1.],\n",
       "       [-0., -1., -0., -0.],\n",
       "       [-1., -0., -0., -0.],\n",
       "       [-0., -0., -1., -0.]])"
      ]
     },
     "execution_count": 34,
     "metadata": {},
     "output_type": "execute_result"
    }
   ],
   "source": [
    "v  # V^T"
   ]
  },
  {
   "cell_type": "code",
   "execution_count": 36,
   "metadata": {},
   "outputs": [
    {
     "data": {
      "text/plain": [
       "array([[1., 0., 0., 0.],\n",
       "       [0., 0., 0., 4.],\n",
       "       [0., 3., 0., 0.],\n",
       "       [0., 0., 0., 0.],\n",
       "       [2., 0., 0., 0.]])"
      ]
     },
     "execution_count": 36,
     "metadata": {},
     "output_type": "execute_result"
    }
   ],
   "source": [
    "np.dot(np.dot(u, s_), v)"
   ]
  },
  {
   "cell_type": "markdown",
   "metadata": {},
   "source": [
    "矩阵的奇异值分解并不是唯一的"
   ]
  },
  {
   "cell_type": "markdown",
   "metadata": {},
   "source": [
    "### 紧奇异值分解与截断奇异值分解\n",
    "\n",
    "**紧奇异值分解**是与原始矩阵等秩的奇异值分解:\n",
    "$$A=U_r\\mit\\Sigma_r V_r^\\mathrm T$$\n",
    "$\\Sigma_r$是矩阵$\\Sigma$前r个对角线元素得到."
   ]
  },
  {
   "cell_type": "code",
   "execution_count": 10,
   "metadata": {},
   "outputs": [],
   "source": [
    "u_r = u[:, :3]\n",
    "sigma_r = s_[:3, :3]\n",
    "v_r = v[:3, :]"
   ]
  },
  {
   "cell_type": "code",
   "execution_count": 11,
   "metadata": {},
   "outputs": [
    {
     "data": {
      "text/plain": [
       "array([[1., 0., 0., 0.],\n",
       "       [0., 0., 0., 4.],\n",
       "       [0., 3., 0., 0.],\n",
       "       [0., 0., 0., 0.],\n",
       "       [2., 0., 0., 0.]])"
      ]
     },
     "execution_count": 11,
     "metadata": {},
     "output_type": "execute_result"
    }
   ],
   "source": [
    "np.dot(np.dot(u_r, sigma_r), v_r)"
   ]
  },
  {
   "cell_type": "markdown",
   "metadata": {},
   "source": [
    "**截断奇异值分解**\n",
    "\n",
    "只取最大的k个奇异值($k < r$)对应的部分:\n",
    "$$A_{m\\times n}\\approx U_{m \\times k}\\sum_{k\\times k}V_{k \\times n}^T$$\n",
    "在很多情况下，前10%甚至1%的奇异值的和就占了全部的奇异值之和的99%以上了.实际应用中提到的矩阵奇异值分解, 通常指截断奇异值分解."
   ]
  },
  {
   "cell_type": "code",
   "execution_count": 12,
   "metadata": {},
   "outputs": [],
   "source": [
    "# k =2\n",
    "u_k = u[:, :2]\n",
    "sigma_k = s_[:2, :2]\n",
    "v_k = v[:2, :]"
   ]
  },
  {
   "cell_type": "code",
   "execution_count": 13,
   "metadata": {},
   "outputs": [
    {
     "data": {
      "text/plain": [
       "array([[0., 0., 0., 0.],\n",
       "       [0., 0., 0., 4.],\n",
       "       [0., 3., 0., 0.],\n",
       "       [0., 0., 0., 0.],\n",
       "       [0., 0., 0., 0.]])"
      ]
     },
     "execution_count": 13,
     "metadata": {},
     "output_type": "execute_result"
    }
   ],
   "source": [
    "np.dot(np.dot(u_k, sigma_k), v_k)"
   ]
  },
  {
   "cell_type": "markdown",
   "metadata": {},
   "source": [
    "### 几何解释\n",
    "从线性变换的角度理解奇异值分解, $A_{m\\times n}$表示了一个从$n$维空间$\\mathbf{R}^n$到$m$维空间$\\mathbf{R}^m$的一个**线性变换**\n",
    "$$\n",
    "T:x\\rightarrow Ax\\\\\n",
    "x\\in\\mathbf{R}^n\\\\\n",
    "Ax\\in \\mathbf{R}^m\n",
    "$$\n",
    "\n",
    "线性变换可以分解为三个简单的变换：\n",
    "1. 坐标系的旋转或反射变换，$V^\\mathrm{T}$\n",
    "1. 坐标轴的缩放变换，$\\mit\\Sigma$\n",
    "1. 坐标系的旋转或反射变换，$U$\n",
    "---\n",
    "#### 例 15.4"
   ]
  },
  {
   "cell_type": "code",
   "execution_count": 42,
   "metadata": {},
   "outputs": [],
   "source": [
    "A = np.mat([[3, 1], [2, 1]])\n",
    "u, s, vt = np.linalg.svd(A)"
   ]
  },
  {
   "cell_type": "code",
   "execution_count": 43,
   "metadata": {},
   "outputs": [
    {
     "data": {
      "text/plain": [
       "matrix([[-0.81741556, -0.57604844],\n",
       "        [-0.57604844,  0.81741556]])"
      ]
     },
     "execution_count": 43,
     "metadata": {},
     "output_type": "execute_result"
    }
   ],
   "source": [
    "u"
   ]
  },
  {
   "cell_type": "code",
   "execution_count": 44,
   "metadata": {},
   "outputs": [
    {
     "data": {
      "text/plain": [
       "matrix([[3.86432845, 0.        ],\n",
       "        [0.        , 0.25877718]])"
      ]
     },
     "execution_count": 44,
     "metadata": {},
     "output_type": "execute_result"
    }
   ],
   "source": [
    "sigma = np.mat(np.diag(s))\n",
    "sigma"
   ]
  },
  {
   "cell_type": "code",
   "execution_count": 45,
   "metadata": {},
   "outputs": [
    {
     "data": {
      "text/plain": [
       "matrix([[-0.93272184, -0.36059668],\n",
       "        [-0.36059668,  0.93272184]])"
      ]
     },
     "execution_count": 45,
     "metadata": {},
     "output_type": "execute_result"
    }
   ],
   "source": [
    "vt"
   ]
  },
  {
   "cell_type": "code",
   "execution_count": 46,
   "metadata": {},
   "outputs": [],
   "source": [
    "# R^2 的标准正交基\n",
    "e1 = np.mat([[1], [0]])\n",
    "e2 = np.mat([[0], [1]])"
   ]
  },
  {
   "cell_type": "code",
   "execution_count": 47,
   "metadata": {},
   "outputs": [
    {
     "data": {
      "text/plain": [
       "matrix([[-0.93272184],\n",
       "        [-0.36059668]])"
      ]
     },
     "execution_count": 47,
     "metadata": {},
     "output_type": "execute_result"
    }
   ],
   "source": [
    "# V^T旋转变换\n",
    "vt_e1 = vt*e1\n",
    "vt_e2 = vt*e2\n",
    "vt_e1"
   ]
  },
  {
   "cell_type": "code",
   "execution_count": 48,
   "metadata": {},
   "outputs": [
    {
     "data": {
      "text/plain": [
       "matrix([[-3.60434355],\n",
       "        [-0.09331419]])"
      ]
     },
     "execution_count": 48,
     "metadata": {},
     "output_type": "execute_result"
    }
   ],
   "source": [
    "#sigma 缩放变换\n",
    "sigma_vt_e1 = sigma * vt_e1\n",
    "sigma_vt_e2 = sigma * vt_e2\n",
    "sigma_vt_e1"
   ]
  },
  {
   "cell_type": "code",
   "execution_count": 49,
   "metadata": {},
   "outputs": [
    {
     "data": {
      "text/plain": [
       "matrix([[3.],\n",
       "        [2.]])"
      ]
     },
     "execution_count": 49,
     "metadata": {},
     "output_type": "execute_result"
    }
   ],
   "source": [
    "# U 旋转变换\n",
    "u_sigma_vt_e1 = u * sigma_vt_e1  # Ae1\n",
    "u_sigma_vt_e1"
   ]
  },
  {
   "cell_type": "code",
   "execution_count": 50,
   "metadata": {},
   "outputs": [
    {
     "data": {
      "text/plain": [
       "matrix([[1.],\n",
       "        [1.]])"
      ]
     },
     "execution_count": 50,
     "metadata": {},
     "output_type": "execute_result"
    }
   ],
   "source": [
    "u_sigma_vt_e2 = u * sigma_vt_e2  # Ae2\n",
    "u_sigma_vt_e2"
   ]
  },
  {
   "cell_type": "markdown",
   "metadata": {},
   "source": [
    "### 主要性质\n",
    "\n",
    "1. $AA^\\mathrm{T}$和$A^\\mathrm{T}A$的特征分解存在，且可由矩阵$A$的奇异值分解的矩阵表示；\n",
    " $$A^TA =(U\\Sigma V^T)^T(U\\Sigma V^T) = V(\\Sigma^T \\Sigma)V^T \\\\\n",
    " AA^T =(U\\Sigma V^T)(U\\Sigma V^T)^T = U(\\Sigma \\Sigma^T)U^T \n",
    " $$\n",
    "1. 奇异值, 左奇异向量, 右奇异向量之间的关系:  \n",
    "  比较$AV = U\\Sigma$两端第j列, 得到:\n",
    "  $$Av_j = \\sigma_j u_j, \\quad j=1, 2, \\cdots, n$$\n",
    "  类似地, 由$A^TU = V\\Sigma^T$得到:\n",
    "  $$A^Tu_j = \\sigma_jv_j, \\quad j=1, 2, \\cdots, n \\\\\n",
    "   A^Tu_j = 0, \\quad j=n+1, n+2, \\cdots, m\n",
    "  $$\n",
    "1. 矩阵$A$的奇异值分解中，奇异值是唯一的，但是矩阵$U$和$V$不是唯一的，所以numpy.linalg.svd中有参数控制是否输出$U$和$V$\n",
    "1. 矩阵A和$\\Sigma$的秩相等, 等于正奇异值$\\sigma_i$的个数r(包含重复的奇异值)"
   ]
  },
  {
   "cell_type": "code",
   "execution_count": 29,
   "metadata": {},
   "outputs": [],
   "source": [
    "np.linalg.svd?"
   ]
  },
  {
   "cell_type": "markdown",
   "metadata": {},
   "source": [
    "## 奇异值分解的计算\n",
    "奇异值分解基本定了证明的过程蕴含了奇异值分解的计算方法.\n",
    "1. 求$W = A^TA$的特征值$\\lambda_i$和特征向量$v_i$\n",
    "1. 求n阶正交矩阵$V = \\begin{bmatrix} v_1 \\ v_2 \\ \\cdots \\ v_n \\end{bmatrix}$ \n",
    "1. 求$m \\times n$对角矩阵$\\Sigma = diag(\\sigma_1, \\sigma_2, \\cdots, \\sigma_n)$ \n",
    "1. 求m阶正交矩阵U\n",
    "  对A的前r个正奇异值,令\n",
    "  $$u_j = \\frac 1 {\\sigma_j} Av_j, \\quad j = 1, 2, \\cdots, r$$\n",
    "  得到\n",
    "  $$U_1 = \\begin{bmatrix} u_1 \\ u_2 \\ \\cdots \\ u_n \\end{bmatrix}$$\n",
    "  求$A^T$的零空间的一组标准正交基$\\{u_{r+1}, u_{r+2}, \\cdots, u_m\\}$, 令 \n",
    "  $$U_2 = \\begin{bmatrix}u_{r+1}\\ u_{r+2}\\ \\cdots \\ u_m \\end{bmatrix}$$\n",
    "  并令\n",
    "  $$U = \\begin{bmatrix} U_1 \\ U_2 \\end{bmatrix}$$\n",
    "1. 得到奇异值分解\n",
    "---\n",
    "### 例 15.5"
   ]
  },
  {
   "cell_type": "code",
   "execution_count": 51,
   "metadata": {},
   "outputs": [],
   "source": [
    "A = np.mat([[1, 1], [2, 2], [0, 0]])"
   ]
  },
  {
   "cell_type": "code",
   "execution_count": 52,
   "metadata": {},
   "outputs": [
    {
     "data": {
      "text/plain": [
       "matrix([[5, 5],\n",
       "        [5, 5]])"
      ]
     },
     "execution_count": 52,
     "metadata": {},
     "output_type": "execute_result"
    }
   ],
   "source": [
    "# 1  W的特征值和特征向量\n",
    "W = A.T * A\n",
    "W"
   ]
  },
  {
   "cell_type": "markdown",
   "metadata": {},
   "source": [
    "## 矩阵奇异值分解与矩阵近似\n",
    "奇异值分解也是一种矩阵近似的方法, 这个近似是定义在Frobenius范数意义下的.\n",
    "\n",
    "### 矩阵的F(Frobenius)范数\n",
    "矩阵$A \\in \\mathbb{R}^{m \\times n}$的Frobenius范数定义为:\n",
    "$$||A||_F = (tr(A^TA))^{1/2} = \\left( \\sum_{i=1}^{m}\\sum_{j=1}^{n}a_{ij}^2\\right)^{\\frac 1 2}$$\n",
    "就是将矩阵张成向量后的$L_2$范数.\n",
    "\n",
    "引理: 设矩阵$A \\in \\mathbf{R}^{m \\times n}$, A的奇异值分解为$U\\Sigma V^T$, 其中$\\Sigma = diag(\\sigma_1, \\sigma_2, \\cdots, \\sigma_n)$, 则\n",
    "$$||A||_F = ||\\Sigma||_F = (\\sigma_1^2 + \\sigma_2^2 + \\cdots + \\sigma_n^2)^{\\frac 1 2}$$\n",
    "\n",
    "### 矩阵的最优近似\n",
    "奇异值分解是在平方损失(F范数)意义下对矩阵的最优近似, 即数据压缩\n",
    "$$\n",
    "\\left\\|A-X\\right\\|_F=\\min_{S\\in \\mathcal M}\\left\\|A-S\\right\\|_F\\\\\n",
    "\\left\\|A-X\\right\\|_F=(\\sigma_{k+1}^2+\\sigma_{k+2}^2+\\cdots+\\sigma_n^2)^\\frac{1}{2}\n",
    "$$\n",
    "特别地, 若$A'=U\\Sigma'V^T$, 其中\n",
    "$$\\Sigma' = \\begin{bmatrix}\\sigma_1 \\\\\n",
    "& \\ddots&  & &  0& \\\\ \n",
    "& & \\sigma_k&  & &  \\\\\n",
    "& & & 0 & &   \\\\\n",
    "& 0&  &  & \\ddots& \\\\\n",
    "& & & &  &  0 \n",
    "\\end{bmatrix} = \\begin{bmatrix} \\Sigma_k & 0 \\\\ 0 & 0 \\end{bmatrix}$$\n",
    "则 $$\\left\\|A-A'\\right\\|_F=(\\sigma_{k+1}^2+\\sigma_{k+2}^2+\\cdots+\\sigma_n^2)^\\frac{1}{2} = \\min_{S\\in \\mathcal M}\\left\\|A-S\\right\\|_F$$\n",
    "$A'$就是达到最优值的一个矩阵."
   ]
  },
  {
   "cell_type": "markdown",
   "metadata": {},
   "source": [
    "### 矩阵的外积展开式\n",
    "用外积展开式对矩阵A的近似, 将A的奇异值分解看做矩阵$U\\Sigma$和$V^T$的乘积\n",
    "$$U\\Sigma = \\begin{bmatrix} \\sigma_1u_1 & \\sigma_2u_2 & \\cdots& \\sigma_nu_n\\end{bmatrix} \\\\\n",
    "V^T = \\begin{bmatrix} v_1^T \\\\ v_2^T \\\\ \\vdots \\\\ v_n^T \\end{bmatrix}\n",
    "$$\n",
    "则\n",
    "$$\n",
    "\\begin{aligned}\n",
    "A&=\\sigma_1u_1v_1^\\mathrm{T}+\\sigma_2u_2v_2^\\mathrm{T}+\\cdots+\\sigma_nu_nv_n^\\mathrm{T}\\\\\n",
    "&=\\sum_{k=1}^nA_k\\\\\n",
    "&=\\sum_{k=1}^n\\sigma_ku_kv_k^\\mathrm{T}\n",
    "\\end{aligned}\n",
    "$$\n",
    "其中，$u_kv_k^\\mathrm{T}$为$m\\times n$矩阵.  \n",
    "设矩阵\n",
    "$$A_k = \\sigma_1u_1v_1^\\mathrm{T}+\\sigma_2u_2v_2^\\mathrm{T}+\\cdots+\\sigma_ku_kv_k^\\mathrm{T}$$\n",
    "则$A_k$的秩为k, 并且$A_k$是秩为k的矩阵在F范数意义下A的最优近似矩阵.矩阵$A_k$是A的截断奇异值分解"
   ]
  },
  {
   "cell_type": "code",
   "execution_count": 65,
   "metadata": {},
   "outputs": [],
   "source": [
    "A = np.mat([[0, 20, 5, 0 ,0], [10, 0, 0, 3, 0], [0, 0, 0, 0, 1], [0, 0, 1, 0, 0]])"
   ]
  },
  {
   "cell_type": "code",
   "execution_count": 66,
   "metadata": {},
   "outputs": [],
   "source": [
    "u, sigma, vt = np.linalg.svd(A)"
   ]
  },
  {
   "cell_type": "code",
   "execution_count": 67,
   "metadata": {},
   "outputs": [
    {
     "data": {
      "text/plain": [
       "matrix([[ 0.9999, -0.    ,  0.    , -0.0118],\n",
       "        [ 0.    ,  1.    ,  0.    , -0.    ],\n",
       "        [ 0.    ,  0.    ,  1.    ,  0.    ],\n",
       "        [ 0.0118,  0.    ,  0.    ,  0.9999]])"
      ]
     },
     "execution_count": 67,
     "metadata": {},
     "output_type": "execute_result"
    }
   ],
   "source": [
    "u"
   ]
  },
  {
   "cell_type": "code",
   "execution_count": 68,
   "metadata": {},
   "outputs": [
    {
     "data": {
      "text/plain": [
       "array([20.617 , 10.4403,  1.    ,  0.9701])"
      ]
     },
     "execution_count": 68,
     "metadata": {},
     "output_type": "execute_result"
    }
   ],
   "source": [
    "sigma"
   ]
  },
  {
   "cell_type": "code",
   "execution_count": 69,
   "metadata": {},
   "outputs": [
    {
     "data": {
      "text/plain": [
       "matrix([[ 0.    ,  0.97  ,  0.2431,  0.    ,  0.    ],\n",
       "        [ 0.9578, -0.    ,  0.    ,  0.2873,  0.    ],\n",
       "        [-0.    , -0.    ,  0.    ,  0.    ,  1.    ],\n",
       "        [-0.    , -0.2431,  0.97  ,  0.    ,  0.    ],\n",
       "        [ 0.2873, -0.    ,  0.    , -0.9578,  0.    ]])"
      ]
     },
     "execution_count": 69,
     "metadata": {},
     "output_type": "execute_result"
    }
   ],
   "source": [
    "vt"
   ]
  }
 ],
 "metadata": {
  "kernelspec": {
   "display_name": "Python 3",
   "language": "python",
   "name": "python3"
  },
  "language_info": {
   "codemirror_mode": {
    "name": "ipython",
    "version": 3
   },
   "file_extension": ".py",
   "mimetype": "text/x-python",
   "name": "python",
   "nbconvert_exporter": "python",
   "pygments_lexer": "ipython3",
   "version": "3.7.6"
  }
 },
 "nbformat": 4,
 "nbformat_minor": 2
}
