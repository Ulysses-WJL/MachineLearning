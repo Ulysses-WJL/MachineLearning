{
 "cells": [
  {
   "cell_type": "markdown",
   "metadata": {},
   "source": [
    "# 第15章 奇异值分解\n",
    "---\n",
    "奇异值分解(singular value decomposition, SVD)是一种矩阵因子分解方法, 是线性代数的概念, 但在统计学中有广泛应用，PCA和LSA中都有应用，在本书中定义为基础学习方法.\n",
    "\n",
    "## 奇异值分解定义与性质\n",
    "\n",
    "### 定义\n",
    "\n",
    "矩阵的奇异值分解是指将任意非零的$m\\times n$实矩阵$A$表示为以下三个实矩阵乘积形式的运算\n",
    "$$\n",
    "A=U\\mit\\Sigma V^\\mathrm T\n",
    "$$\n",
    "其中$U$是m阶正交矩阵, $V$是n阶正交矩阵, $\\Sigma$是由降序排列的非负对角线元素组成的$m\\times n$矩形对角矩阵.\n",
    "> 如果n阶矩阵$A$满足:\n",
    "$$U^TU = I\\quad(即U^{-1}=U^T)$$\n",
    "那么称$U$为正交矩阵,简称正交阵\n",
    "\n",
    "满足\n",
    "$$\\Sigma = diag(\\sigma_1, \\sigma_2, \\cdots, \\sigma_p) \\\\\n",
    "\\sigma_1 \\geq \\sigma_2 \\geq  \\cdots \\geq \\sigma_p \\geq 0 \\\\\n",
    "p = min(m, n)\n",
    "$$\n",
    "$U$的列向量$u_i \\in \\mathbb{R}^{m}$称为$A$的**左奇异向量**(left-singular vector), $V$的列向量$v_i \\in \\mathbb{R}^{n}$称为$A$的**右奇异向量**(right-singular vector), $\\sigma_i$称为**奇异值**(singular value). 矩阵$A$的秩就等于非零奇异值的个数"
   ]
  },
  {
   "cell_type": "code",
   "execution_count": 1,
   "metadata": {},
   "outputs": [],
   "source": [
    "import numpy as np"
   ]
  },
  {
   "cell_type": "code",
   "execution_count": 18,
   "metadata": {},
   "outputs": [
    {
     "data": {
      "text/plain": [
       "array([[1, 0, 0, 0],\n",
       "       [0, 0, 0, 4],\n",
       "       [0, 3, 0, 0],\n",
       "       [0, 0, 0, 0],\n",
       "       [2, 0, 0, 0]])"
      ]
     },
     "execution_count": 18,
     "metadata": {},
     "output_type": "execute_result"
    }
   ],
   "source": [
    "# 5 X 4\n",
    "A = np.array([[1, 0, 0, 0], [0, 0, 0, 4], [0, 3, 0, 0], [0, 0, 0, 0], [2, 0, 0, 0]])\n",
    "A"
   ]
  },
  {
   "cell_type": "code",
   "execution_count": 3,
   "metadata": {},
   "outputs": [],
   "source": [
    "u, sigma, v = np.linalg.svd(A)"
   ]
  },
  {
   "cell_type": "code",
   "execution_count": 4,
   "metadata": {},
   "outputs": [
    {
     "data": {
      "text/plain": [
       "array([[ 0.        ,  0.        , -0.4472136 ,  0.        , -0.89442719],\n",
       "       [-1.        ,  0.        ,  0.        ,  0.        ,  0.        ],\n",
       "       [ 0.        , -1.        ,  0.        ,  0.        ,  0.        ],\n",
       "       [ 0.        ,  0.        ,  0.        ,  1.        ,  0.        ],\n",
       "       [ 0.        ,  0.        , -0.89442719,  0.        ,  0.4472136 ]])"
      ]
     },
     "execution_count": 4,
     "metadata": {},
     "output_type": "execute_result"
    }
   ],
   "source": [
    "u"
   ]
  },
  {
   "cell_type": "code",
   "execution_count": 15,
   "metadata": {},
   "outputs": [
    {
     "data": {
      "text/plain": [
       "array([[ 4.        ,  0.        ,  0.        ,  0.        ],\n",
       "       [ 0.        ,  3.        ,  0.        ,  0.        ],\n",
       "       [ 0.        ,  0.        ,  2.23606798,  0.        ],\n",
       "       [ 0.        ,  0.        ,  0.        , -0.        ],\n",
       "       [ 0.        ,  0.        ,  0.        ,  0.        ]])"
      ]
     },
     "execution_count": 15,
     "metadata": {},
     "output_type": "execute_result"
    }
   ],
   "source": [
    "s_ = np.vstack((np.diag(sigma), np.zeros(4)))\n",
    "s_"
   ]
  },
  {
   "cell_type": "code",
   "execution_count": 8,
   "metadata": {},
   "outputs": [
    {
     "data": {
      "text/plain": [
       "array([[-0., -0., -0., -1.],\n",
       "       [-0., -1., -0., -0.],\n",
       "       [-1., -0., -0., -0.],\n",
       "       [-0., -0., -1., -0.]])"
      ]
     },
     "execution_count": 8,
     "metadata": {},
     "output_type": "execute_result"
    }
   ],
   "source": [
    "v  # V^T"
   ]
  },
  {
   "cell_type": "code",
   "execution_count": 19,
   "metadata": {},
   "outputs": [
    {
     "data": {
      "text/plain": [
       "array([[1., 0., 0., 0.],\n",
       "       [0., 0., 0., 4.],\n",
       "       [0., 3., 0., 0.],\n",
       "       [0., 0., 0., 0.],\n",
       "       [2., 0., 0., 0.]])"
      ]
     },
     "execution_count": 19,
     "metadata": {},
     "output_type": "execute_result"
    }
   ],
   "source": [
    "np.dot(np.dot(u, s_), v)"
   ]
  },
  {
   "cell_type": "markdown",
   "metadata": {},
   "source": [
    "矩阵的奇异值分解并不是唯一的"
   ]
  },
  {
   "cell_type": "markdown",
   "metadata": {},
   "source": [
    "完全奇异值分解：$A=U\\mit\\Sigma V^\\mathrm T$\n",
    "\n",
    "紧奇异值分解：$A=U_r\\mit\\Sigma_r V_r^\\mathrm T$\n",
    "\n",
    "截断奇异值分解：$A=U_k\\mit\\Sigma_k V_k^\\mathrm T$"
   ]
  },
  {
   "cell_type": "code",
   "execution_count": null,
   "metadata": {},
   "outputs": [],
   "source": []
  }
 ],
 "metadata": {
  "kernelspec": {
   "display_name": "Python 3",
   "language": "python",
   "name": "python3"
  },
  "language_info": {
   "codemirror_mode": {
    "name": "ipython",
    "version": 3
   },
   "file_extension": ".py",
   "mimetype": "text/x-python",
   "name": "python",
   "nbconvert_exporter": "python",
   "pygments_lexer": "ipython3",
   "version": "3.8.0"
  }
 },
 "nbformat": 4,
 "nbformat_minor": 2
}
