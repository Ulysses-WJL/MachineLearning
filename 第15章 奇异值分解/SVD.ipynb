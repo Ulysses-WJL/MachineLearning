{
 "cells": [
  {
   "cell_type": "markdown",
   "metadata": {},
   "source": [
    "# 利用SVD简化数据\n",
    "\n",
    "SVD 算法特点:\n",
    "- 优点：简化数据，去除噪声，优化算法的结果\n",
    "- 缺点：数据的转换可能难以理解\n",
    "- 使用的数据类型：数值型数据\n",
    "\n",
    "\n",
    "## 隐性语义索引\n",
    "隐性语义检索（Latent Semantic Indexing, LSI）或 隐形语义分析（Latent Semantic Analysis, LSA）\n",
    "\n",
    "隐性语义索引：矩阵 = 文档 + 词语\n",
    "\n",
    "### 图像压缩\n",
    "例如：32 * 32=1024 => 32 * 2 + 2 * 1+ 32 * 2=130(2 * 1表示去掉了除对角线的0), 几乎获得了10倍的压缩比。\n",
    "\n"
   ]
  },
  {
   "cell_type": "markdown",
   "metadata": {},
   "source": [
    "\n",
    "## 推荐系统\n",
    "\n",
    "### 推荐系统 概述\n",
    "\n",
    "`推荐系统是利用电子商务网站向客户提供商品信息和建议，帮助用户决定应该购买什么产品，模拟销售人员帮助客户完成购买过程。`\n",
    "\n",
    "### 推荐系统 场景\n",
    "\n",
    "1. Amazon 会根据顾客的购买历史向他们推荐物品\n",
    "2. Netflix 会向其用户推荐电影\n",
    "3. 新闻网站会对用户推荐新闻频道\n",
    "\n",
    "### 推荐系统 要点\n",
    "\n",
    "> 基于协同过滤(collaborative filtering) 的推荐引擎\n",
    "\n",
    "* 利用Python 实现 SVD(Numpy 有一个称为 linalg 的线性代数工具箱)\n",
    "* 协同过滤：是通过将用户和其他用户的数据进行对比来实现推荐的。\n",
    "* 当知道了两个用户或两个物品之间的相似度，我们就可以利用已有的数据来预测未知用户的喜好。\n",
    "\n",
    "> 基于物品的相似度和基于用户的相似度：物品比较少则选择物品相似度，用户比较少则选择用户相似度。【矩阵还是小一点好计算】\n",
    "\n",
    "* 基于物品的相似度：计算物品之间的距离。【耗时会随物品数量的增加而增加】\n",
    "* 由于物品A和物品C 相似度(相关度)很高，所以给买A的人推荐C。\n",
    "\n",
    "* 基于用户的相似度：计算用户之间的距离。【耗时会随用户数量的增加而增加】\n",
    "* 由于用户A和用户C 相似度(相关度)很高，所以A和C是兴趣相投的人，对于C买的物品就会推荐给A。\n",
    "\n",
    "> 相似度计算\n",
    "\n",
    "* inA, inB 对应的是 列向量\n",
    "1. 欧氏距离：指在m维空间中两个点之间的真实距离，或者向量的自然长度（即该点到原点的距离）。二维或三维中的欧氏距离就是两点之间的实际距离。\n",
    "    * 相似度= 1/(1+欧式距离)\n",
    "    * `相似度= 1.0/(1.0 + la.norm(inA - inB))`\n",
    "    * 物品对越相似，它们的相似度值就越大。\n",
    "2. 皮尔逊相关系数：度量的是两个向量之间的相似度。\n",
    "    * 相似度= 0.5 + 0.5*corrcoef() 【皮尔逊相关系数的取值范围从 -1 到 +1，通过函数0.5 + 0.5\\*corrcoef()这个函数计算，把值归一化到0到1之间】\n",
    "    * `相似度= 0.5 + 0.5 * corrcoef(inA, inB, rowvar = 0)[0][1]`\n",
    "    * 相对欧氏距离的优势：它对用户评级的量级并不敏感。\n",
    "3. 余弦相似度：计算的是两个向量夹角的余弦值。\n",
    "    * 余弦值 = (A·B)/(||A||·||B||) 【余弦值的取值范围也在-1到+1之间】\n",
    "    * 相似度= 0.5 + 0.5*余弦值\n",
    "    * `相似度= 0.5 + 0.5*( float(inA.T*inB) / la.norm(inA)*la.norm(inB))`\n",
    "    * 如果夹角为90度，则相似度为0；如果两个向量的方向相同，则相似度为1.0。\n",
    "\n",
    "> 推荐系统的评价\n",
    "\n",
    "* 采用交叉测试的方法。【拆分数据为训练集和测试集】\n",
    "* 推荐引擎评价的指标： 最小均方根误差(Root mean squared error, RMSE)，也称标准误差(Standard error)，就是计算均方误差的平均值然后取其平方根。\n",
    "    * 如果RMSE=1, 表示相差1个星级；如果RMSE=2.5, 表示相差2.5个星级。\n",
    "### 推荐系统 原理\n",
    "\n",
    "* 推荐系统的工作过程：给定一个用户，系统会为此用户返回N个最好的推荐菜。\n",
    "* 实现流程大致如下：\n",
    "    1. 寻找用户没有评级的菜肴，即在用户-物品矩阵中的0值。\n",
    "    2. 在用户没有评级的所有物品中，对每个物品预计一个可能的评级分数。这就是说：我们认为用户可能会对物品的打分（这就是相似度计算的初衷）。\n",
    "    3. 对这些物品的评分从高到低进行排序，返回前N个物品。\n",
    "\n",
    "### 项目案例: 餐馆菜肴推荐系统\n",
    "\n",
    "#### 项目概述\n",
    "\n",
    "`假如一个人在家决定外出吃饭，但是他并不知道该到哪儿去吃饭，该点什么菜。推荐系统可以帮他做到这两点。`\n",
    "\n",
    "#### 开发流程\n",
    "\n",
    "> 收集 并 准备数据\n",
    "> 分析数据: 这里不做过多的讨论(当然此处可以对比不同距离之间的差别)\n",
    "> 训练算法: 基于物品相似度 或者是 基于SVD，得到推荐的物品评分\n",
    "> 测试"
   ]
  },
  {
   "cell_type": "code",
   "execution_count": 1,
   "metadata": {},
   "outputs": [],
   "source": [
    "import numpy as np"
   ]
  },
  {
   "cell_type": "code",
   "execution_count": 5,
   "metadata": {},
   "outputs": [
    {
     "data": {
      "text/plain": [
       "array([[ 1.        , -0.48795004],\n",
       "       [-0.48795004,  1.        ]])"
      ]
     },
     "execution_count": 5,
     "metadata": {},
     "output_type": "execute_result"
    }
   ],
   "source": [
    "a = np.arange(6)\n",
    "b = np.array([1, 1, 0, 0, 1, 0])\n",
    "\n",
    "np.corrcoef(a, b)"
   ]
  },
  {
   "cell_type": "code",
   "execution_count": null,
   "metadata": {},
   "outputs": [],
   "source": [
    "class Recommend:\n",
    "    def __init__(self, similarity = 'euclidean'):\n",
    "        # euclidean  cosine pearson\n",
    "        self.similarity = similarity\n",
    "        \n",
    "    def fit(self, X):\n",
    "        pass\n",
    "    def predict(self, user):\n",
    "        pass"
   ]
  }
 ],
 "metadata": {
  "kernelspec": {
   "display_name": "Python 3",
   "language": "python",
   "name": "python3"
  },
  "language_info": {
   "codemirror_mode": {
    "name": "ipython",
    "version": 3
   },
   "file_extension": ".py",
   "mimetype": "text/x-python",
   "name": "python",
   "nbconvert_exporter": "python",
   "pygments_lexer": "ipython3",
   "version": "3.7.2rc1"
  }
 },
 "nbformat": 4,
 "nbformat_minor": 2
}
