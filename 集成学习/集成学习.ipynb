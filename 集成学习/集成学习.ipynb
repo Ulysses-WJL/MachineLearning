{
 "cells": [
  {
   "cell_type": "markdown",
   "metadata": {},
   "source": [
    "随机森林\n",
    "---\n",
    "[例子](https://github.com/apachecn/AiLearning/blob/master/docs/ml/7.%E9%9B%86%E6%88%90%E6%96%B9%E6%B3%95-%E9%9A%8F%E6%9C%BA%E6%A3%AE%E6%9E%97%E5%92%8CAdaBoost.md#%E9%9A%8F%E6%9C%BA%E6%A3%AE%E6%9E%97)"
   ]
  },
  {
   "cell_type": "code",
   "execution_count": null,
   "metadata": {},
   "outputs": [],
   "source": [
    "import numpy as np\n",
    "import matplotlib.pyplot as plt\n",
    "%matplotlib inline\n",
    "np.set_printoptions(suppress=True, precision=4, threshold=16)"
   ]
  },
  {
   "cell_type": "code",
   "execution_count": null,
   "metadata": {},
   "outputs": [],
   "source": [
    "def load_data(file_path):\n",
    "    with open(file_path) as f:\n",
    "        data = []\n",
    "        for line in f.readlines():\n",
    "            if not line:\n",
    "                continue\n",
    "            line_data = []\n",
    "            for str_ in line.split(','):\n",
    "                str_ = str_.strip()\n",
    "                if str_.isdigit():\n",
    "                    line_data.append(float(str_))\n",
    "                else:\n",
    "                    line_data.append(str_)\n",
    "            data.append(line_data)\n",
    "        return data\n",
    "                    "
   ]
  },
  {
   "cell_type": "code",
   "execution_count": null,
   "metadata": {},
   "outputs": [],
   "source": [
    "data = np.array(load_data('sonar-all-data.txt'))\n",
    "X, y = data[:, :-1].astype(float), data[:, -1]"
   ]
  },
  {
   "cell_type": "code",
   "execution_count": null,
   "metadata": {},
   "outputs": [],
   "source": [
    "X"
   ]
  },
  {
   "cell_type": "code",
   "execution_count": null,
   "metadata": {},
   "outputs": [],
   "source": [
    "labels, indices_u = np.unique(y, return_inverse=True)"
   ]
  },
  {
   "cell_type": "code",
   "execution_count": null,
   "metadata": {},
   "outputs": [],
   "source": [
    "indices_u.shape"
   ]
  },
  {
   "cell_type": "code",
   "execution_count": null,
   "metadata": {},
   "outputs": [],
   "source": [
    "# 定义节点类 二叉树\n",
    "class Node:\n",
    "    def __init__(self, root=True, label=None, feature_name=None, feature=None):\n",
    "        self.root = root  # 当前节点是叶节点了\n",
    "        self.label = label  # 节点的分类\n",
    "        # self.feature_name = feature_name  # 节点划分子集使用的特征名\n",
    "        self.feature = feature   # 当前节点 划分子集使用的特征编号\n",
    "        self.tree = {}  # 子节点\n",
    "\n",
    "    def __repr__(self): \n",
    "        result = {\n",
    "            'label': self.label,\n",
    "            'feature': self.feature,\n",
    "            'tree': self.tree\n",
    "        }\n",
    "        if not self.label:\n",
    "            result.pop('label')\n",
    "        if not self.tree:\n",
    "            result.pop('tree')\n",
    "        if not self.feature:\n",
    "            result.pop('feature')\n",
    "        return '{}'.format(result)\n",
    "\n",
    "    def add_node(self, val, node):\n",
    "        self.tree[val] = node\n",
    "\n",
    "    def predict(self, features):\n",
    "        if self.root is True:\n",
    "            return self.label\n",
    "        return self.tree[features[self.feature]].predict(features)"
   ]
  },
  {
   "cell_type": "code",
   "execution_count": null,
   "metadata": {},
   "outputs": [],
   "source": [
    "class CART:\n",
    "    def __init__(self, epsilon=0.1, sample_least=5):\n",
    "        self.epsilon = epsilon  # 基尼指数阈值\n",
    "        self.sample_least = sample_least\n",
    "        self._tree = {}\n",
    "    \n",
    "    @staticmethod\n",
    "    def gini_(y1, y2):\n",
    "        # 获取当前样本集 的gini指数\n",
    "        ginis = []\n",
    "        A = np.array([y1, y2])\n",
    "        for y in A:\n",
    "            # Gini(D) = 1- \\sum (|C_k|/|D|)^2\n",
    "            labels, counts = np.unique(y, return_counts=True)\n",
    "            gini = 1- np.sum((counts / np.sum(counts)) ** 2)\n",
    "            ginis.append(gini)\n",
    "        # Gini(D, A) = |D1| / |D| * gini(D1) + |D2| / |D| * gini(D2)\n",
    "        gini_A = (ginis * (A / A.sum())).sum()\n",
    "        return gini_A\n",
    "    \n",
    "    @staticmethod\n",
    "    def data_splt(X, feature, value):\n",
    "        # 根据特征和value 分割数据 返回序号\n",
    "        data_set = X[:, feature]\n",
    "        left , right = [], []\n",
    "        for i in range(len(data_set)):\n",
    "            if data_set[i] >= value:\n",
    "                left.append(i)\n",
    "            else:\n",
    "                right.append(i)\n",
    "        return left, right\n",
    "    \n",
    "    def chose_best_value(self, data, y, feature):\n",
    "        # 返回最佳分割点和相应的gini指数\n",
    "        # 选定特征A, A的不同划分取值a 下的gini指数\n",
    "        data_set = np.sort(X[:, feature])\n",
    "        value_split = (data_set[1:] + data_set[:-1]) / 2\n",
    "        gini_one_feature = []\n",
    "        \n",
    "        for value in value_split:\n",
    "            # 每个划分点计算 基尼指数\n",
    "            left, right = self.data_split(X, feature, value)\n",
    "            gini = self.gini_(y[left], y[right])\n",
    "            gini_one_feature.append(gini)\n",
    "        # 得到最小的gini\n",
    "        min_index = np.argmin(gini_one_feature)\n",
    "        return value_split[min_index], gini_one_feature[min_index] \n",
    "\n",
    "    def chose_best_feature(self, X, y, features):\n",
    "        # 寻找最好的 分割特征和分割值\n",
    "        temp = np.zeros((len(features), 3))\n",
    "        for i, feature in enumerate(features):\n",
    "            value, gini = self.chose_best_value(X, y, feature)\n",
    "            temp[i] = [gini, feature, value]\n",
    "        best = np.argmin(temp[:0])\n",
    "        return temp[best]\n",
    "    \n",
    "    def build_tree(self, X, y, features):\n",
    "        \n",
    "        # 1, 样本个数小于预订阈值, 多数表决\n",
    "        if len(X) < self.sample_least:\n",
    "            u, counts = np.unique(y, return_counts=True)\n",
    "            return Node(root=True, label=u[counts.argmax()])\n",
    "        \n",
    "        # 2, 若A为空，没有特征继续进行划分了, 则T为单节点树，将D中实例树最大的类Ck作为该节点的类标记，返回T\n",
    "        if len(features) == 0:\n",
    "            u, counts = np.unique(y, return_counts=True)\n",
    "            return Node(root=True, label=u[counts.argmax()])\n",
    "        \n",
    "        # 3. 计算 最佳的特征 分割点 gini\n",
    "        gini, feature, value = chose_best_feature(X, y, features)\n",
    "        \n",
    "        # gini指数小于同一值\n",
    "        \n",
    "        features_copy = features.copy()  # 纯数字list的copy\n",
    "        \n",
    "        features_copy.remove(feature)\n",
    "        # 左>=  右<\n",
    "        left, right = self.data_splt(X, feature, value)\n",
    "        node = {'left': self.build_tree(X[left], y[left], features_copy),\n",
    "                'right': self.build_tree(X[right], y[right], features_copy), \n",
    "                'feature': feature,\n",
    "                'value': value,\n",
    "                'label': \n",
    "               }\n",
    "        \n",
    "        \n",
    "        \n",
    "    def fit(self, X, y, features):\n",
    "        features = features \n",
    "        for feature in features:\n",
    "            # 每个特征 选择合适的划分点\n",
    "            \n",
    "            gini_one_feature = []\n",
    "            index, gini = self.chose_best_value(X, feature)\n",
    "            \n",
    "        \n",
    "    def predict(self, X, y):\n",
    "        # 使用features 里指定序号的特征构建树\n",
    "        "
   ]
  },
  {
   "cell_type": "code",
   "execution_count": null,
   "metadata": {},
   "outputs": [],
   "source": [
    "class RamdomForest:\n",
    "    def __init__(self, T=20, random_state=0, feature_nums=6):\n",
    "        self.T = T  #  Bagging 方法生成T棵 DT\n",
    "        np.random.seed(random_state)\n",
    "        self.feature_nums = feature_nums  # 选定多少个特征构建决策树\n",
    "        \n",
    "    @staticmethod\n",
    "    def bagging(n_sample, tree_num, random_state):\n",
    "        # 样本数据随机化\n",
    "        indices = np.random.randint(0, n_sample, size=(tree_num, n_sample))\n",
    "        oobs = []\n",
    "        for sample in indices:\n",
    "            oobs.append(np.setdiff1d(range(n_sample), sample))\n",
    "        return indices, np.array(oobs)\n",
    "    \n",
    "    @staticmethod\n",
    "    def random_feature(tree_num, n_feature, feature_nums):\n",
    "        # 每棵树都从M个特征中选取m个\n",
    "        feature_array = np.zeros((tree_num, feature_nums))\n",
    "        for i in range(tree_num):\n",
    "            feature_index = np.arange(n_feature)\n",
    "            np.random.shuffle(feature_index)\n",
    "            feature_selected = feature_index[:feature_nums]\n",
    "            feature_array[i,:] = feature_selected\n",
    "        return feature_array\n",
    "        \n",
    "    def fit(self, X, y):\n",
    "        n_sample, n_feature = X.shape\n",
    "        indices, oobs = self.bagging(n_sample, self.T, self.random_state)\n",
    "        features = self.random_feature(self.T, n_feature, )\n",
    "        X_samples, X_oobs = X[indices, :], X[oobs, :]\n",
    "        y_samples, y_oobs = y[indices], y[oobs]\n",
    "        trees = []\n",
    "        for i in range(self.T):\n",
    "            tree = RandomTreeCART()\n",
    "            tree.fit(X_sample[i, :], y_sample[i], features[i])\n",
    "        \n",
    "        \n",
    "    \n",
    "    def self_validation(self):\n",
    "        # OOB 验证\n",
    "        pass\n",
    "        \n",
    "    def score(self, X, y):\n",
    "        pass"
   ]
  },
  {
   "cell_type": "code",
   "execution_count": null,
   "metadata": {},
   "outputs": [],
   "source": [
    "a = np.arange(12).reshape(4, 3)\n",
    "b = np.random.randint(a.shape[0], size=(2, a.shape[0]))\n",
    "b"
   ]
  },
  {
   "cell_type": "code",
   "execution_count": null,
   "metadata": {},
   "outputs": [],
   "source": [
    "a[b]"
   ]
  },
  {
   "cell_type": "code",
   "execution_count": null,
   "metadata": {},
   "outputs": [],
   "source": [
    "np.setdiff1d(range(10), [1, 3, 5, 7, 9])"
   ]
  },
  {
   "cell_type": "code",
   "execution_count": null,
   "metadata": {},
   "outputs": [],
   "source": [
    "import random\n",
    "a = list(range(10))\n",
    "np.random.shuffle(a)\n",
    "a"
   ]
  },
  {
   "cell_type": "code",
   "execution_count": null,
   "metadata": {},
   "outputs": [],
   "source": [
    "a = list(range(10))\n",
    "np.random.shuffle(a)\n",
    "a"
   ]
  },
  {
   "cell_type": "code",
   "execution_count": null,
   "metadata": {},
   "outputs": [],
   "source": [
    "y = [1, 0, 1, 0, 1, 0, 1, 1]\n",
    "u, counts = np.unique(y, return_counts=True)\n",
    "u[counts.argmax()]"
   ]
  },
  {
   "cell_type": "code",
   "execution_count": null,
   "metadata": {},
   "outputs": [],
   "source": [
    "a = np.arange(10)\n",
    "b = a[1:]\n",
    "(a[:-1] + b) /2"
   ]
  },
  {
   "cell_type": "code",
   "execution_count": null,
   "metadata": {},
   "outputs": [],
   "source": [
    "np.argmin([1, 2,3,9, 0, 4])"
   ]
  },
  {
   "cell_type": "code",
   "execution_count": null,
   "metadata": {},
   "outputs": [],
   "source": [
    "a = np.array([4, 6])"
   ]
  },
  {
   "cell_type": "code",
   "execution_count": null,
   "metadata": {},
   "outputs": [],
   "source": [
    "[1, 2] * (a/a.sum())"
   ]
  },
  {
   "cell_type": "code",
   "execution_count": null,
   "metadata": {},
   "outputs": [],
   "source": [
    "a = [1 ,2, 3, 4, 8]\n",
    "b =a.copy()\n",
    "b[1] = 111\n",
    "a.remove(8)"
   ]
  },
  {
   "cell_type": "code",
   "execution_count": null,
   "metadata": {},
   "outputs": [],
   "source": [
    "a"
   ]
  },
  {
   "cell_type": "code",
   "execution_count": null,
   "metadata": {},
   "outputs": [],
   "source": []
  }
 ],
 "metadata": {
  "kernelspec": {
   "display_name": "Python 3",
   "language": "python",
   "name": "python3"
  },
  "language_info": {
   "codemirror_mode": {
    "name": "ipython",
    "version": 3
   },
   "file_extension": ".py",
   "mimetype": "text/x-python",
   "name": "python",
   "nbconvert_exporter": "python",
   "pygments_lexer": "ipython3",
   "version": "3.7.2rc1"
  }
 },
 "nbformat": 4,
 "nbformat_minor": 2
}
