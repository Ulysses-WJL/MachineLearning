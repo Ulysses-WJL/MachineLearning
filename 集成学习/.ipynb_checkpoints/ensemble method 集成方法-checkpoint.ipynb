{
 "cells": [
  {
   "cell_type": "markdown",
   "metadata": {},
   "source": [
    "# 集成方法 ensemble method\n",
    "---\n",
    "\n",
    "* 概念：是对其他算法进行组合的一种形式。\n",
    "* 通俗来说： 当做重要决定时，大家可能都会考虑吸取多个专家而不只是一个人的意见。\n",
    "    机器学习处理问题时又何尝不是如此？ 这就是集成方法背后的思想。\n",
    "\n",
    "* 集成方法：  \n",
    "    1. blending: 将已存在的所有的模型结合起来  \n",
    "    2. 投票选举(bagging: 自举汇聚法 bootstrap aggregating): 是基于数据随机重抽样分类器构造的方法\n",
    "    3. 再学习(boosting): 是基于所有分类器的加权求和的方法"
   ]
  },
  {
   "cell_type": "code",
   "execution_count": null,
   "metadata": {},
   "outputs": [],
   "source": []
  },
  {
   "cell_type": "markdown",
   "metadata": {},
   "source": [
    "参考:\n",
    "- [集成方法-随机森林和AdaBoost](https://github.com/apachecn/AiLearning/blob/master/docs/ml/7.%E9%9B%86%E6%88%90%E6%96%B9%E6%B3%95-%E9%9A%8F%E6%9C%BA%E6%A3%AE%E6%9E%97%E5%92%8CAdaBoost.md)\n",
    "- [Blending and Bagging](https://github.com/apachecn/ntu-hsuantienlin-ml/blob/master/25.md)"
   ]
  }
 ],
 "metadata": {
  "kernelspec": {
   "display_name": "Python 3",
   "language": "python",
   "name": "python3"
  },
  "language_info": {
   "codemirror_mode": {
    "name": "ipython",
    "version": 3
   },
   "file_extension": ".py",
   "mimetype": "text/x-python",
   "name": "python",
   "nbconvert_exporter": "python",
   "pygments_lexer": "ipython3",
   "version": "3.8.0"
  }
 },
 "nbformat": 4,
 "nbformat_minor": 2
}
