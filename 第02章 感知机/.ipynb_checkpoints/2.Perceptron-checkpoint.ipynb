{
 "cells": [
  {
   "cell_type": "markdown",
   "metadata": {},
   "source": [
    "# 第2章 感知机 Perceptron"
   ]
  },
  {
   "cell_type": "markdown",
   "metadata": {},
   "source": [
    "1．感知机是根据输入实例的特征向量$x$对其进行二类分类的**线性分类模型**：\n",
    "\n",
    "$$\n",
    "f(x)=\\operatorname{sign}(w \\cdot x+b)\n",
    "$$\n",
    "\n",
    "感知机模型对应于输入空间（特征空间）中的分离超平面$w \\cdot x+b=0$。\n",
    "\n",
    "2．感知机学习的策略是极小化损失函数：\n",
    "\n",
    "$$\n",
    "\\min _{w, b} L(w, b)=-\\sum_{x_{i} \\in M} y_{i}\\left(w \\cdot x_{i}+b\\right)\n",
    "$$\n",
    "M为误分类点的集合， 即$-y_i(w\\cdot x_i+b) > 0$的点  \n",
    "损失函数对应于误分类点到分离超平面的总距离。\n",
    "\n",
    "3．感知机学习算法是基于随机梯度下降法的对损失函数的最优化算法，有原始形式和对偶形式。算法简单且易于实现。原始形式中，首先任意选取一个超平面，然后用梯度下降法不断极小化目标函数。在这个过程中一次随机选取一个误分类点使其梯度下降。\n",
    " \n",
    "4．当训练数据集线性可分时，感知机学习算法是收敛的。感知机算法在训练数据集上的误分类次数$k$满足不等式：\n",
    "\n",
    "$$\n",
    "k \\leqslant\\left(\\frac{R}{\\gamma}\\right)^{2}\n",
    "$$\n",
    "\n",
    "当训练数据集线性可分时，感知机学习算法存在无穷多个解，其解由于不同的初值或不同的迭代顺序而可能有所不同。\n"
   ]
  },
  {
   "cell_type": "markdown",
   "metadata": {},
   "source": [
    "### 数据集的线性可分性\n",
    "存在某个超平面$S$能够将数据集$T$的正实例和负实例完全正确地划分开来，就称数据集$T$为线性可分数据集（linearly separable data set）; 否则称数据集$T$为线性不可分"
   ]
  },
  {
   "cell_type": "markdown",
   "metadata": {},
   "source": [
    "### 二分类模型\n",
    "$f(x) = sign(w\\cdot x + b)$\n",
    "\n",
    "$\\operatorname{sign}(x)=\\left\\{\\begin{array}{ll}{+1,} & {x \\geqslant 0} \\\\ {-1,} & {x<0}\\end{array}\\right.$\n",
    "\n",
    "给定训练集：\n",
    "\n",
    "$T=\\left\\{\\left(x_{1}, y_{1}\\right),\\left(x_{2}, y_{2}\\right), \\cdots,\\left(x_{N}, y_{N}\\right)\\right\\}$\n",
    "\n",
    "定义感知机的损失函数 \n",
    "\n",
    "$L(w, b)=-\\sum_{x_{i} \\in M} y_{i}\\left(w \\cdot x_{i}+b\\right)$\n",
    "\n",
    "---\n",
    "#### 算法\n",
    "\n",
    "随即梯度下降法 Stochastic Gradient Descent\n",
    "\n",
    "随机抽取一个误分类点使其梯度下降。\n",
    "\n",
    "$w = w + \\eta y_{i}x_{i}$\n",
    "\n",
    "$b = b + \\eta y_{i}$\n",
    "\n",
    "当实例点被误分类，即位于分离超平面的错误侧，则调整$w$, $b$的值，使分离超平面向该无分类点的一侧移动，直至误分类点被正确分类"
   ]
  },
  {
   "cell_type": "markdown",
   "metadata": {},
   "source": [
    "拿出iris数据集中两个分类的数据和[sepal length，sepal width]作为特征"
   ]
  },
  {
   "cell_type": "code",
   "execution_count": 29,
   "metadata": {},
   "outputs": [],
   "source": [
    "import pandas as pd\n",
    "import numpy as np\n",
    "from sklearn.datasets import load_iris\n",
    "import matplotlib.pyplot as plt\n",
    "from matplotlib import font_manager\n",
    "font = font_manager.FontProperties(fname='/usr/share/fonts/truetype/unifont/unifont.ttf')\n",
    "np.random.seed(12345)\n",
    "PREVIOUS_MAX_ROWS = pd.options.display.max_rows\n",
    "pd.options.display.max_rows = 20\n",
    "np.set_printoptions(precision=4, threshold=15,suppress=True)\n",
    "plt.rcParams['font.sans-serif'] = 'Noto Sans CJK JP'\n",
    "plt.rcParams['axes.unicode_minus'] = False\n",
    "%matplotlib inline"
   ]
  },
  {
   "cell_type": "code",
   "execution_count": 2,
   "metadata": {},
   "outputs": [
    {
     "data": {
      "text/plain": [
       "{'data': array([[5.1, 3.5, 1.4, 0.2],\n",
       "        [4.9, 3. , 1.4, 0.2],\n",
       "        [4.7, 3.2, 1.3, 0.2],\n",
       "        ...,\n",
       "        [6.5, 3. , 5.2, 2. ],\n",
       "        [6.2, 3.4, 5.4, 2.3],\n",
       "        [5.9, 3. , 5.1, 1.8]]),\n",
       " 'target': array([0, 0, 0, ..., 2, 2, 2]),\n",
       " 'frame': None,\n",
       " 'target_names': array(['setosa', 'versicolor', 'virginica'], dtype='<U10'),\n",
       " 'DESCR': '.. _iris_dataset:\\n\\nIris plants dataset\\n--------------------\\n\\n**Data Set Characteristics:**\\n\\n    :Number of Instances: 150 (50 in each of three classes)\\n    :Number of Attributes: 4 numeric, predictive attributes and the class\\n    :Attribute Information:\\n        - sepal length in cm\\n        - sepal width in cm\\n        - petal length in cm\\n        - petal width in cm\\n        - class:\\n                - Iris-Setosa\\n                - Iris-Versicolour\\n                - Iris-Virginica\\n                \\n    :Summary Statistics:\\n\\n    ============== ==== ==== ======= ===== ====================\\n                    Min  Max   Mean    SD   Class Correlation\\n    ============== ==== ==== ======= ===== ====================\\n    sepal length:   4.3  7.9   5.84   0.83    0.7826\\n    sepal width:    2.0  4.4   3.05   0.43   -0.4194\\n    petal length:   1.0  6.9   3.76   1.76    0.9490  (high!)\\n    petal width:    0.1  2.5   1.20   0.76    0.9565  (high!)\\n    ============== ==== ==== ======= ===== ====================\\n\\n    :Missing Attribute Values: None\\n    :Class Distribution: 33.3% for each of 3 classes.\\n    :Creator: R.A. Fisher\\n    :Donor: Michael Marshall (MARSHALL%PLU@io.arc.nasa.gov)\\n    :Date: July, 1988\\n\\nThe famous Iris database, first used by Sir R.A. Fisher. The dataset is taken\\nfrom Fisher\\'s paper. Note that it\\'s the same as in R, but not as in the UCI\\nMachine Learning Repository, which has two wrong data points.\\n\\nThis is perhaps the best known database to be found in the\\npattern recognition literature.  Fisher\\'s paper is a classic in the field and\\nis referenced frequently to this day.  (See Duda & Hart, for example.)  The\\ndata set contains 3 classes of 50 instances each, where each class refers to a\\ntype of iris plant.  One class is linearly separable from the other 2; the\\nlatter are NOT linearly separable from each other.\\n\\n.. topic:: References\\n\\n   - Fisher, R.A. \"The use of multiple measurements in taxonomic problems\"\\n     Annual Eugenics, 7, Part II, 179-188 (1936); also in \"Contributions to\\n     Mathematical Statistics\" (John Wiley, NY, 1950).\\n   - Duda, R.O., & Hart, P.E. (1973) Pattern Classification and Scene Analysis.\\n     (Q327.D83) John Wiley & Sons.  ISBN 0-471-22361-1.  See page 218.\\n   - Dasarathy, B.V. (1980) \"Nosing Around the Neighborhood: A New System\\n     Structure and Classification Rule for Recognition in Partially Exposed\\n     Environments\".  IEEE Transactions on Pattern Analysis and Machine\\n     Intelligence, Vol. PAMI-2, No. 1, 67-71.\\n   - Gates, G.W. (1972) \"The Reduced Nearest Neighbor Rule\".  IEEE Transactions\\n     on Information Theory, May 1972, 431-433.\\n   - See also: 1988 MLC Proceedings, 54-64.  Cheeseman et al\"s AUTOCLASS II\\n     conceptual clustering system finds 3 classes in the data.\\n   - Many, many more ...',\n",
       " 'feature_names': ['sepal length (cm)',\n",
       "  'sepal width (cm)',\n",
       "  'petal length (cm)',\n",
       "  'petal width (cm)'],\n",
       " 'filename': '/home/ulysses/.local/lib/python3.7/site-packages/sklearn/datasets/data/iris.csv'}"
      ]
     },
     "execution_count": 2,
     "metadata": {},
     "output_type": "execute_result"
    }
   ],
   "source": [
    "iris = load_iris()\n",
    "# load_iris?\n",
    "# Load and return the iris dataset (classification).\n",
    "\n",
    "# The iris dataset is a classic and very easy multi-class classification\n",
    "# dataset.\n",
    "\n",
    "# =================   ==============\n",
    "# Classes                          3\n",
    "# Samples per class               50\n",
    "# Samples total                  150\n",
    "# Dimensionality                   4\n",
    "# Features            real, positive\n",
    "# =================   ==============\n",
    "iris # 鸢尾花数据集 一组数据：花萼长、宽 花瓣 长、 宽； 共3类每类50组数据"
   ]
  },
  {
   "cell_type": "code",
   "execution_count": 4,
   "metadata": {},
   "outputs": [
    {
     "data": {
      "text/plain": [
       "array([50, 50, 50])"
      ]
     },
     "execution_count": 4,
     "metadata": {},
     "output_type": "execute_result"
    }
   ],
   "source": [
    "df = pd.DataFrame(iris.data, columns=iris.feature_names)\n",
    "df['label'] = iris.target \n",
    "np.bincount(df['label'])"
   ]
  },
  {
   "cell_type": "code",
   "execution_count": 5,
   "metadata": {},
   "outputs": [
    {
     "data": {
      "text/html": [
       "<div>\n",
       "<style scoped>\n",
       "    .dataframe tbody tr th:only-of-type {\n",
       "        vertical-align: middle;\n",
       "    }\n",
       "\n",
       "    .dataframe tbody tr th {\n",
       "        vertical-align: top;\n",
       "    }\n",
       "\n",
       "    .dataframe thead th {\n",
       "        text-align: right;\n",
       "    }\n",
       "</style>\n",
       "<table border=\"1\" class=\"dataframe\">\n",
       "  <thead>\n",
       "    <tr style=\"text-align: right;\">\n",
       "      <th></th>\n",
       "      <th>sepal length</th>\n",
       "      <th>sepal width</th>\n",
       "      <th>petal length</th>\n",
       "      <th>petal width</th>\n",
       "      <th>label</th>\n",
       "    </tr>\n",
       "  </thead>\n",
       "  <tbody>\n",
       "    <tr>\n",
       "      <th>0</th>\n",
       "      <td>5.1</td>\n",
       "      <td>3.5</td>\n",
       "      <td>1.4</td>\n",
       "      <td>0.2</td>\n",
       "      <td>0</td>\n",
       "    </tr>\n",
       "    <tr>\n",
       "      <th>1</th>\n",
       "      <td>4.9</td>\n",
       "      <td>3.0</td>\n",
       "      <td>1.4</td>\n",
       "      <td>0.2</td>\n",
       "      <td>0</td>\n",
       "    </tr>\n",
       "    <tr>\n",
       "      <th>2</th>\n",
       "      <td>4.7</td>\n",
       "      <td>3.2</td>\n",
       "      <td>1.3</td>\n",
       "      <td>0.2</td>\n",
       "      <td>0</td>\n",
       "    </tr>\n",
       "    <tr>\n",
       "      <th>3</th>\n",
       "      <td>4.6</td>\n",
       "      <td>3.1</td>\n",
       "      <td>1.5</td>\n",
       "      <td>0.2</td>\n",
       "      <td>0</td>\n",
       "    </tr>\n",
       "    <tr>\n",
       "      <th>4</th>\n",
       "      <td>5.0</td>\n",
       "      <td>3.6</td>\n",
       "      <td>1.4</td>\n",
       "      <td>0.2</td>\n",
       "      <td>0</td>\n",
       "    </tr>\n",
       "    <tr>\n",
       "      <th>...</th>\n",
       "      <td>...</td>\n",
       "      <td>...</td>\n",
       "      <td>...</td>\n",
       "      <td>...</td>\n",
       "      <td>...</td>\n",
       "    </tr>\n",
       "    <tr>\n",
       "      <th>145</th>\n",
       "      <td>6.7</td>\n",
       "      <td>3.0</td>\n",
       "      <td>5.2</td>\n",
       "      <td>2.3</td>\n",
       "      <td>2</td>\n",
       "    </tr>\n",
       "    <tr>\n",
       "      <th>146</th>\n",
       "      <td>6.3</td>\n",
       "      <td>2.5</td>\n",
       "      <td>5.0</td>\n",
       "      <td>1.9</td>\n",
       "      <td>2</td>\n",
       "    </tr>\n",
       "    <tr>\n",
       "      <th>147</th>\n",
       "      <td>6.5</td>\n",
       "      <td>3.0</td>\n",
       "      <td>5.2</td>\n",
       "      <td>2.0</td>\n",
       "      <td>2</td>\n",
       "    </tr>\n",
       "    <tr>\n",
       "      <th>148</th>\n",
       "      <td>6.2</td>\n",
       "      <td>3.4</td>\n",
       "      <td>5.4</td>\n",
       "      <td>2.3</td>\n",
       "      <td>2</td>\n",
       "    </tr>\n",
       "    <tr>\n",
       "      <th>149</th>\n",
       "      <td>5.9</td>\n",
       "      <td>3.0</td>\n",
       "      <td>5.1</td>\n",
       "      <td>1.8</td>\n",
       "      <td>2</td>\n",
       "    </tr>\n",
       "  </tbody>\n",
       "</table>\n",
       "<p>150 rows × 5 columns</p>\n",
       "</div>"
      ],
      "text/plain": [
       "     sepal length  sepal width  petal length  petal width  label\n",
       "0             5.1          3.5           1.4          0.2      0\n",
       "1             4.9          3.0           1.4          0.2      0\n",
       "2             4.7          3.2           1.3          0.2      0\n",
       "3             4.6          3.1           1.5          0.2      0\n",
       "4             5.0          3.6           1.4          0.2      0\n",
       "..            ...          ...           ...          ...    ...\n",
       "145           6.7          3.0           5.2          2.3      2\n",
       "146           6.3          2.5           5.0          1.9      2\n",
       "147           6.5          3.0           5.2          2.0      2\n",
       "148           6.2          3.4           5.4          2.3      2\n",
       "149           5.9          3.0           5.1          1.8      2\n",
       "\n",
       "[150 rows x 5 columns]"
      ]
     },
     "execution_count": 5,
     "metadata": {},
     "output_type": "execute_result"
    }
   ],
   "source": [
    "df.columns = [\n",
    "    'sepal length', 'sepal width', 'petal length', 'petal width', 'label'\n",
    "]\n",
    "df"
   ]
  },
  {
   "cell_type": "code",
   "execution_count": 6,
   "metadata": {},
   "outputs": [
    {
     "data": {
      "text/plain": [
       "<matplotlib.legend.Legend at 0x7f9d6e1d2940>"
      ]
     },
     "execution_count": 6,
     "metadata": {},
     "output_type": "execute_result"
    },
    {
     "data": {
      "image/png": "[encoded data removed]",
      "text/plain": [
       "<Figure size 432x288 with 1 Axes>"
      ]
     },
     "metadata": {
      "needs_background": "light"
     },
     "output_type": "display_data"
    }
   ],
   "source": [
    "# 取第一类和第二类的sepal数据\n",
    "plt.scatter(df[:50]['sepal length'], df[:50]['sepal width'], label='0')\n",
    "plt.scatter(df[50:100]['sepal length'], df[50:100]['sepal width'], label='1')\n",
    "plt.xlabel('sepal length')\n",
    "plt.ylabel('sepal width')\n",
    "plt.legend()"
   ]
  },
  {
   "cell_type": "code",
   "execution_count": 7,
   "metadata": {},
   "outputs": [],
   "source": [
    "data = np.array(df.iloc[:100, [0, 1, -1]]) "
   ]
  },
  {
   "cell_type": "code",
   "execution_count": 8,
   "metadata": {},
   "outputs": [
    {
     "data": {
      "text/plain": [
       "array([[5.1, 3.5],\n",
       "       [4.9, 3. ],\n",
       "       [4.7, 3.2],\n",
       "       ...,\n",
       "       [6.2, 2.9],\n",
       "       [5.1, 2.5],\n",
       "       [5.7, 2.8]])"
      ]
     },
     "execution_count": 8,
     "metadata": {},
     "output_type": "execute_result"
    }
   ],
   "source": [
    "X, y = data[:,:-1], data[:,-1]  #　Ｘ (length, width) 即 (x_1, x_2)； y :label (0 1)\n",
    "X"
   ]
  },
  {
   "cell_type": "code",
   "execution_count": 9,
   "metadata": {},
   "outputs": [
    {
     "data": {
      "text/plain": [
       "array([-1, -1, -1, ...,  1,  1,  1])"
      ]
     },
     "execution_count": 9,
     "metadata": {},
     "output_type": "execute_result"
    }
   ],
   "source": [
    "y = np.array([1 if i == 1 else -1 for i in y])  # 转为　１ -1的形式\n",
    "y"
   ]
  },
  {
   "cell_type": "markdown",
   "metadata": {},
   "source": [
    "## Perceptron"
   ]
  },
  {
   "cell_type": "code",
   "execution_count": 13,
   "metadata": {},
   "outputs": [],
   "source": [
    "# 数据线性可分，二分类数据\n",
    "# 此处为一元一次线性方程\n",
    "class Perceptron:\n",
    "    def __init__(self):\n",
    "        # w 系数初始化为1\n",
    "        self.w = np.ones(len(data[0]) - 1, dtype=np.float32)\n",
    "        # 偏置初始化为 0 \n",
    "        self.b = 0\n",
    "        # 学习率 0.1\n",
    "        self.l_rate = 0.1\n",
    "        # self.data = data\n",
    "\n",
    "    def sign(self, x, w, b):\n",
    "        y = np.dot(x, w) + b\n",
    "        return y\n",
    "\n",
    "    # 随机梯度下降法\n",
    "    def fit(self, X_train, y_train):\n",
    "        m = len(X_train)\n",
    "        is_wrong = False\n",
    "        while not is_wrong:  # 数据集线性可分，可以一直进行\n",
    "            wrong_count = 0\n",
    "            data_index = list(range(m))  # [0 ,1 , 2, ... m-1]\n",
    "            for _ in range(m):\n",
    "                rand_index = int(np.random.uniform(0, len(data_index)))  #  随机取一个样本\n",
    "                X = X_train[data_index[rand_index]]  # data_index[rand_index]对应 样本数据编号\n",
    "                y = y_train[data_index[rand_index]]\n",
    "                if y * self.sign(X, self.w, self.b) <= 0:\n",
    "                    self.w = self.w + self.l_rate * np.dot(y, X)  # 1*1  1*2\n",
    "                    self.b = self.b + self.l_rate * y\n",
    "                    wrong_count += 1\n",
    "                del(data_index[rand_index])  # 一个样本数据使用后，不会在使用它\n",
    "            if wrong_count == 0:\n",
    "                is_wrong = True\n",
    "        return 'Perceptron Model!'\n",
    "\n",
    "    def score(self):\n",
    "        pass"
   ]
  },
  {
   "cell_type": "code",
   "execution_count": 14,
   "metadata": {},
   "outputs": [
    {
     "data": {
      "text/plain": [
       "array([ 6.59, -8.46])"
      ]
     },
     "execution_count": 14,
     "metadata": {},
     "output_type": "execute_result"
    }
   ],
   "source": [
    "perceptron = Perceptron()\n",
    "perceptron.fit(X, y)\n",
    "perceptron.w"
   ]
  },
  {
   "cell_type": "markdown",
   "metadata": {},
   "source": [
    "### 感知机学习算法的对偶形式\n",
    "对偶形式的基本思想: 将$w$和$b$表示为实例$x_i$和标记$y_i$的线性组合的形式, 通过求解其系数而求得$w$和$b$.\n",
    "使用梯度下降法, 对误分类点$(x_i, y_i)$通过\n",
    "$$w := w + \\eta y_{i}x_{i}$$\n",
    "\n",
    "$$b := b + \\eta y_{i}$$\n",
    "逐步修改w 和b的值.  \n",
    "设某一点$(x_i, y_i)$上修改了$n_i$次(即更新参数w和b的次数, 越是靠近分离超平面就容易误判, 在该点时更新参数的次数就越多), 则在该点w和b的增量分别是$n_i\\eta y_ix_i$和$n_i\\eta y_i$ 这样, 最后获得的w和b可表示为:\n",
    "$$w = w_0 + \\sum_{i=1}^N n_i\\eta y_ix_i$$\n",
    "$$b = b_0 + \\sum_{i=1}^N n_i\\eta y_i$$\n",
    "可以令初始$w_0$和$b_0$都为零"
   ]
  },
  {
   "cell_type": "markdown",
   "metadata": {},
   "source": [
    "这样的话, 感知机模型:\n",
    "$$f(x) = sign(w\\cdot x +b) = sign(\\sum_{j=1}^N n_j\\eta y_jx_j\\cdot x + \\sum_{j=1}^N n_j\\eta y_j)$$\n",
    "学习的目标由w和b变为$n_j$\n",
    "训练过程:\n",
    "\n",
    "1. 初始时 $\\forall n_i = 0$\n",
    "1. 选取$(x_i, y_i)$\n",
    "1. 如果$y_i\\left(\\sum_{j=1}^N n_j\\eta y_jx_j\\cdot x_i + \\sum_{j=1}^N n_j\\eta y_j\\right) \\leq 0$, 更新 $n_i = n_i + 1$\n",
    "1. 转至2 直到没有误分类的点\n",
    "\n",
    "从3中看出, 训练实例仅以内积的形式出现.可以预先将训练集中实例间的内积计算出来并以矩阵的形式存储, 也就是Gram矩阵.\n",
    "$$G = [x_i \\cdot x_j ]_{N \\times N}$$\n",
    "判别式可以写成:\n",
    "$y_i\\left(\\sum_{j=1}^N n_jy_jG[i]+ \\eta\\sum_{j=1}^N n_jy_j \\right) \\leq 0$"
   ]
  },
  {
   "cell_type": "code",
   "execution_count": 15,
   "metadata": {},
   "outputs": [],
   "source": [
    "class Model_Dual():\n",
    "    def __init__(self, X, y):\n",
    "        self.l_rate = 0.1\n",
    "        self.w = np.zeros(len(data[0] -1))\n",
    "        self.b = 0\n",
    "        self.X = X\n",
    "        self.y = y\n",
    "        self.n = [0] * len(X)\n",
    "        self.gram = np.inner(self.X, self.X)\n",
    "    \n",
    "    def sign(self, i):\n",
    "        return np.sum(self.y * self.n * self.gram[i]) + np.sum(self.y * self.n)\n",
    "    \n",
    "    def fit(self):\n",
    "        no_error = False      \n",
    "        while not no_error:\n",
    "            wrong_count = 0\n",
    "            for i in range(len(self.X)):\n",
    "                x = self.X[i]\n",
    "                y = self.y[i]\n",
    "                if y * self.sign(i) <= 0:\n",
    "                    self.n[i] += 1\n",
    "                    wrong_count += 1\n",
    "            if wrong_count == 0:\n",
    "                no_error = True\n",
    "        self.b = np.sum(self.n * self.y) * self.l_rate\n",
    "        self.w = np.sum((self.n * self.y)[:, np.newaxis] * self.X, axis=0) * self.l_rate"
   ]
  },
  {
   "cell_type": "code",
   "execution_count": 16,
   "metadata": {},
   "outputs": [
    {
     "data": {
      "text/plain": [
       "array([  7.9 , -10.07])"
      ]
     },
     "execution_count": 16,
     "metadata": {},
     "output_type": "execute_result"
    }
   ],
   "source": [
    "perceptron = Model_Dual(X, y)\n",
    "perceptron.fit()\n",
    "perceptron.w"
   ]
  },
  {
   "cell_type": "code",
   "execution_count": 17,
   "metadata": {},
   "outputs": [
    {
     "data": {
      "text/plain": [
       "-12.4"
      ]
     },
     "execution_count": 17,
     "metadata": {},
     "output_type": "execute_result"
    }
   ],
   "source": [
    "perceptron.b"
   ]
  },
  {
   "cell_type": "code",
   "execution_count": 18,
   "metadata": {},
   "outputs": [
    {
     "data": {
      "text/plain": [
       "<matplotlib.legend.Legend at 0x7f9d6b96dc50>"
      ]
     },
     "execution_count": 18,
     "metadata": {},
     "output_type": "execute_result"
    },
    {
     "data": {
      "image/png": "[encoded data removed]",
      "text/plain": [
       "<Figure size 432x288 with 1 Axes>"
      ]
     },
     "metadata": {
      "needs_background": "light"
     },
     "output_type": "display_data"
    }
   ],
   "source": [
    "x_points = np.linspace(4, 7, 10)\n",
    "y_ = -(perceptron.w[0] * x_points + perceptron.b) / perceptron.w[1]\n",
    "plt.plot(x_points, y_)\n",
    "\n",
    "plt.plot(data[:50, 0], data[:50, 1], 'o', color='blue', label='0')\n",
    "plt.plot(data[50:100, 0], data[50:100, 1], 'o', color='orange', label='1')\n",
    "plt.xlabel('sepal length')\n",
    "plt.ylabel('sepal width')\n",
    "plt.legend()"
   ]
  },
  {
   "cell_type": "markdown",
   "metadata": {},
   "source": [
    "### scikit-learn实例"
   ]
  },
  {
   "cell_type": "markdown",
   "metadata": {},
   "source": [
    "**Perceptron（感知器）** 是一种分类算法，与SGDClassifier共享相同的基础实现\n",
    " *   不需要设置学习率（learning rate）。\n",
    " *   不需要正则化处理。\n",
    " *   仅使用错误样本更新模型。\n",
    "\n",
    "最后一点表明使用合页损失（hinge loss）的感知机比 SGD 略快，所得模型更稀疏。  \n",
    "Perceptron()就等价于   \n",
    "SGDClassifier(loss=\"perceptron\", eta0=1, learning_rate=\"constant\", penalty=None)\n",
    "\n",
    "\n",
    "参数列表\n",
    "----------\n",
    "\n",
    "- penalty : None, 'l2' or 'l1' or 'elasticnet'\n",
    "    The penalty (aka regularization term) to be used. Defaults to None.  \n",
    "    罚项,即正则化项, 默认无\n",
    "\n",
    "\n",
    "- alpha : float\n",
    "    Constant that multiplies the regularization term if regularization is\n",
    "    used. Defaults to 0.0001  \n",
    "    带有罚项penalty term时的调整系数(默认0.0001). 经验风险+调整系数 * 正则化项\n",
    "\n",
    "\n",
    "- fit_intercept : bool\n",
    "    Whether the intercept should be estimated or not. If False, the\n",
    "    data is assumed to be already centered. Defaults to True.\n",
    "    是否估计截距.如果为False，则假定数据已经居中。默认为True。\n",
    "    \n",
    "\n",
    "- max_iter : int, optional (default=1000)\n",
    "    The maximum number of passes over the training data (aka epochs).\n",
    "    It only impacts the behavior in the ``fit`` method, and not the\n",
    "    `partial_fit`.   \n",
    "    计算时的最大迭代次数(默认1000), 会影响`fit`方法, 不会影响`partial_fit`方法  \n",
    "    .. versionadded:: 0.19\n",
    "\n",
    "\n",
    "- tol : float or None, optional (default=1e-3)\n",
    "    The stopping criterion. If it is not None, the iterations will stop\n",
    "    when (loss > previous_loss - tol).  \n",
    "    规定了如果本次迭代的损失和上次迭代的损失之差小于一个特定值时，停止迭代(默认1e-3)  \n",
    "    .. versionadded:: 0.19\n",
    "\n",
    "\n",
    "- shuffle : bool, optional, default True\n",
    "    Whether or not the training data should be shuffled after each epoch.  \n",
    "    每次迭代数据时是否重新整理数据集\n",
    "\n",
    "\n",
    "- verbose : integer, optional\n",
    "    The verbosity level  \n",
    "    详细程度\n",
    "\n",
    "\n",
    "- eta0 : double\n",
    "    Constant by which the updates are multiplied. Defaults to 1.  \n",
    "    更新乘以的常数。默认为1。\n",
    "\n",
    "\n",
    "- n_jobs : int or None, optional (default=None)\n",
    "    The number of CPUs to use to do the OVA (One Versus All, for\n",
    "    multi-class problems) computation.\n",
    "    ``None`` means 1 unless in a :obj:`joblib.parallel_backend` context.\n",
    "    ``-1`` means using all processors. See :term:`Glossary <n_jobs>`\n",
    "    for more details.\n",
    "    用于执行OVA（对于多类问题而言，是一个对所有）的CPU数量。 \n",
    "\n",
    "\n",
    "- random_state : int, RandomState instance or None, optional, default None\n",
    "    The seed of the pseudo random number generator to use when shuffling\n",
    "    the data.  If int, random_state is the seed used by the random number\n",
    "    generator; If RandomState instance, random_state is the random number\n",
    "    generator; If None, the random number generator is the RandomState\n",
    "    instance used by `np.random`.  \n",
    "    `shuffle`选项使用时, 伪随机数生成器的种子 默认`np.random`\n",
    "\n",
    "\n",
    "- early_stopping : bool, default=False\n",
    "    Whether to use early stopping to terminate training when validation.\n",
    "    score is not improving. If set to True, it will automatically set aside\n",
    "    a stratified fraction of training data as validation and terminate\n",
    "    training when validation score is not improving by at least tol for\n",
    "    n_iter_no_change consecutive epochs.  \n",
    "    验证时是否使用`early_stopping`终止训练。设置True时, 自动将数据集分为训练集和验证集, 并在连续`n_iter_no_change`次迭代的验证分数提高少于`tol`时终止训练  \n",
    "    .. versionadded:: 0.20\n",
    "\n",
    "\n",
    "- validation_fraction : float, default=0.1\n",
    "    The proportion of training data to set aside as validation set for\n",
    "    early stopping. Must be between 0 and 1.\n",
    "    Only used if early_stopping is True.  \n",
    "    验证集的比例(默认0.1, 即10%), 启用`early_stopping`才有效  \n",
    "    .. versionadded:: 0.20\n",
    "\n",
    "- n_iter_no_change : int, default=5\n",
    "    Number of iterations with no improvement to wait before early stopping.  \n",
    "    迭代`n_iter_no_change`(默认5)次后, 模型没有提高就终止  \n",
    "    .. versionadded:: 0.20\n",
    "\n",
    "\n",
    "- class_weight : dict, {class_label: weight} or \"balanced\" or None, optional\n",
    "    Preset for the class_weight fit parameter.  \n",
    "    使用class_weight fit方式时的每个类别的权重设置\n",
    "\n",
    "        Weights associated with classes. If not given, all classes\n",
    "        are supposed to have weight one.\n",
    "\n",
    "        The \"balanced\" mode uses the values of y to automatically adjust\n",
    "        weights inversely proportional to class frequencies in the input data\n",
    "        as ``n_samples / (n_classes * np.bincount(y))``\n",
    "\n",
    "\n",
    "- warm_start : bool, optional\n",
    "    When set to True, reuse the solution of the previous call to fit as\n",
    "    initialization, otherwise, just erase the previous solution. See\n",
    "    :term:`the Glossary <warm_start>`.  \n",
    "    当将估计量重复拟合到同一数据集上时，但对于多个参数值（例如在网格搜索中找到使性能最大化的值），可以重用从先前参数值中学到的模型内容，从而节省时间。当warm_start为true时，现有的拟合模型属性用于在随后的拟合调用中初始化新模型。 \n",
    "    \n",
    "\n",
    "Attributes\n",
    "----------\n",
    "- coef_ : array, shape = [1, n_features] if n_classes == 2 else [n_classes, n_features]\n",
    "    Weights assigned to the features.  \n",
    "    变量X的weights, 即系数(二类分类时维度:1*特征数)\n",
    "\n",
    "- intercept_ : array, shape = [1] if n_classes == 2 else [n_classes]\n",
    "    Constants in decision function.  \n",
    "    决策函数中的常数项\n",
    "\n",
    "- n_iter_ : int\n",
    "    The actual number of iterations to reach the stopping criterion. For multiclass fits, it is the maximum over every binary fit. \n",
    "    达到停止标准的实际迭代次数。对于多类拟合，它是每个二进制拟合的最大值。\n",
    "\n",
    "\n",
    "Methods\n",
    "--------\n",
    "\n",
    "- decision_function(self, X)\tPredict confidence scores for samples.\n",
    "\n",
    "\n",
    "- densify(self)\t Convert coefficient matrix to dense array format.\n",
    "\n",
    "\n",
    "- fit(self, X, y[, coef_init, intercept_init, …])\tFit linear model with Stochastic Gradient Descent.\n",
    "\n",
    "\n",
    "- get_params(self[, deep])\tGet parameters for this estimator.\n",
    "\n",
    "\n",
    "- partial_fit(self, X, y[, classes, sample_weight])\tPerform one epoch of stochastic gradient descent on given samples.\n",
    "\n",
    "\n",
    "- predict(self, X)\tPredict class labels for samples in X.\n",
    "\n",
    "\n",
    "- score(self, X, y[, sample_weight])\tReturns the mean accuracy on the given test data and labels.\n",
    "\n",
    "\n",
    "- set_params(self, \\*args, \\*\\*kwargs)\t\n",
    "\n",
    "\n",
    "- sparsify(self)\tConvert coefficient matrix to sparse format.\n",
    "\n",
    "\n",
    "Examples\n",
    "--------\n",
    "```\n",
    "from sklearn.datasets import load_digits\n",
    "from sklearn.linear_model import Perceptron\n",
    "X, y = load_digits(return_X_y=True)\n",
    "clf = Perceptron(tol=1e-3, random_state=0)\n",
    "clf.fit(X, y)  # doctest: +NORMALIZE_WHITESPACE\n",
    "    Perceptron(alpha=0.0001, class_weight=None, early_stopping=False, eta0=1.0,\n",
    "          fit_intercept=True, max_iter=1000, n_iter_no_change=5, n_jobs=None,\n",
    "          penalty=None, random_state=0, shuffle=True, tol=0.001,\n",
    "          validation_fraction=0.1, verbose=0, warm_start=False)\n",
    "clf.score(X, y) # doctest: +ELLIPSIS\n",
    "0.939...\n",
    "```"
   ]
  },
  {
   "cell_type": "code",
   "execution_count": 21,
   "metadata": {},
   "outputs": [],
   "source": [
    "import sklearn\n",
    "from sklearn.linear_model import Perceptron"
   ]
  },
  {
   "cell_type": "code",
   "execution_count": 20,
   "metadata": {},
   "outputs": [
    {
     "data": {
      "text/plain": [
       "'0.23.1'"
      ]
     },
     "execution_count": 20,
     "metadata": {},
     "output_type": "execute_result"
    }
   ],
   "source": [
    "sklearn.__version__"
   ]
  },
  {
   "cell_type": "code",
   "execution_count": 23,
   "metadata": {},
   "outputs": [
    {
     "data": {
      "text/plain": [
       "Perceptron()"
      ]
     },
     "execution_count": 23,
     "metadata": {},
     "output_type": "execute_result"
    }
   ],
   "source": [
    "clf = Perceptron(fit_intercept=True,  # 没有归一化处理\n",
    "                 max_iter=1000,\n",
    "                 shuffle=True\n",
    "                )\n",
    "clf.fit(X, y)"
   ]
  },
  {
   "cell_type": "code",
   "execution_count": 25,
   "metadata": {},
   "outputs": [
    {
     "data": {
      "text/plain": [
       "array([[ 23.2, -38.7]])"
      ]
     },
     "execution_count": 25,
     "metadata": {},
     "output_type": "execute_result"
    }
   ],
   "source": [
    "# Weights assigned to the features.\n",
    "clf.coef_ # coefficients  系数"
   ]
  },
  {
   "cell_type": "code",
   "execution_count": 26,
   "metadata": {},
   "outputs": [
    {
     "name": "stdout",
     "output_type": "stream",
     "text": [
      "[-5.]\n"
     ]
    }
   ],
   "source": [
    "# 截距 Constants in decision function.\n",
    "print(clf.intercept_)"
   ]
  },
  {
   "cell_type": "code",
   "execution_count": 27,
   "metadata": {},
   "outputs": [
    {
     "data": {
      "text/plain": [
       "8"
      ]
     },
     "execution_count": 27,
     "metadata": {},
     "output_type": "execute_result"
    }
   ],
   "source": [
    "clf.n_iter_"
   ]
  },
  {
   "cell_type": "code",
   "execution_count": 33,
   "metadata": {},
   "outputs": [
    {
     "data": {
      "text/plain": [
       "<matplotlib.legend.Legend at 0x7f9d69876fd0>"
      ]
     },
     "execution_count": 33,
     "metadata": {},
     "output_type": "execute_result"
    },
    {
     "data": {
      "image/png": "[encoded data removed]",
      "text/plain": [
       "<Figure size 720x720 with 1 Axes>"
      ]
     },
     "metadata": {
      "needs_background": "light"
     },
     "output_type": "display_data"
    }
   ],
   "source": [
    "# 画布大小\n",
    "plt.figure(figsize=(10,10))\n",
    "\n",
    "# 中文标题\n",
    "plt.rcParams['font.sans-serif']=['DejaVu Sans']\n",
    "plt.rcParams['axes.unicode_minus'] = False\n",
    "plt.title('鸢尾花线性数据示例', fontproperties=font) # fontproperties=font\n",
    "\n",
    "plt.scatter(data[:50, 0], data[:50, 1], c='b', label='Iris-setosa',)\n",
    "plt.scatter(data[50:100, 0], data[50:100, 1], c='orange', label='Iris-versicolor')\n",
    "\n",
    "# 画感知机的线\n",
    "x_ponits = np.arange(4, 8)\n",
    "y_ = -(clf.coef_[0][0]*x_ponits + clf.intercept_)/clf.coef_[0][1]\n",
    "plt.plot(x_ponits, y_)\n",
    "\n",
    "# 其他部分\n",
    "plt.legend()  # 显示图例\n",
    "plt.grid(False)  # 不显示网格\n",
    "plt.xlabel('sepal length')\n",
    "plt.ylabel('sepal width')\n",
    "plt.legend()"
   ]
  },
  {
   "cell_type": "markdown",
   "metadata": {},
   "source": [
    "**注意 !**\n",
    "\n",
    "在上图中，有一个位于左下角的蓝点没有被正确分类，这是因为 SKlearn 的 Perceptron 实例中有一个`tol`参数。\n",
    "\n",
    "`tol` 参数规定了如果本次迭代的损失和上次迭代的损失之差小于一个特定值时，停止迭代。所以我们需要设置 `tol=None` 使之可以继续迭代："
   ]
  },
  {
   "cell_type": "code",
   "execution_count": 34,
   "metadata": {},
   "outputs": [
    {
     "data": {
      "text/plain": [
       "<matplotlib.legend.Legend at 0x7f9d697efb70>"
      ]
     },
     "execution_count": 34,
     "metadata": {},
     "output_type": "execute_result"
    },
    {
     "data": {
      "image/png": "[encoded data removed]",
      "text/plain": [
       "<Figure size 720x720 with 1 Axes>"
      ]
     },
     "metadata": {
      "needs_background": "light"
     },
     "output_type": "display_data"
    }
   ],
   "source": [
    "clf = Perceptron(fit_intercept=True, \n",
    "                 max_iter=1000,\n",
    "                 tol=None,\n",
    "                 shuffle=True)  # 不使用迭代差进行判断结束\n",
    "clf.fit(X, y)\n",
    "\n",
    "# 画布大小\n",
    "plt.figure(figsize=(10,10))\n",
    "\n",
    "# 中文标题\n",
    "# plt.rcParams['font.sans-serif']=['Noto Sans CJK SC']\n",
    "# plt.rcParams['axes.unicode_minus'] = False\n",
    "plt.title('鸢尾花线性数据示例', fontproperties=font)\n",
    "\n",
    "plt.scatter(data[:50, 0], data[:50, 1], c='b', label='Iris-setosa',)\n",
    "plt.scatter(data[50:100, 0], data[50:100, 1], c='orange', label='Iris-versicolor')\n",
    "\n",
    "# 画感知机的线\n",
    "x_ponits = np.arange(4, 8)\n",
    "y_ = -(clf.coef_[0][0]*x_ponits + clf.intercept_)/clf.coef_[0][1]\n",
    "plt.plot(x_ponits, y_)\n",
    "\n",
    "# 其他部分\n",
    "plt.legend()  # 显示图例\n",
    "plt.grid(False)  # 不显示网格\n",
    "plt.xlabel('sepal length')\n",
    "plt.ylabel('sepal width')\n",
    "plt.legend()"
   ]
  },
  {
   "cell_type": "markdown",
   "metadata": {},
   "source": [
    "现在可以看到，所有的两种鸢尾花都被正确分类了。\n",
    "\n",
    "----\n",
    "参考代码：https://github.com/wzyonggege/statistical-learning-method\n",
    "\n",
    "中文注释制作：机器学习初学者\n",
    "\n",
    "微信公众号：ID:ai-start-com\n",
    "\n",
    "配置环境：python 3.5+\n",
    "\n",
    "代码全部测试通过。\n",
    "![gongzhong](../gongzhong.jpg)"
   ]
  }
 ],
 "metadata": {
  "kernelspec": {
   "display_name": "Python 3",
   "language": "python",
   "name": "python3"
  },
  "language_info": {
   "codemirror_mode": {
    "name": "ipython",
    "version": 3
   },
   "file_extension": ".py",
   "mimetype": "text/x-python",
   "name": "python",
   "nbconvert_exporter": "python",
   "pygments_lexer": "ipython3",
   "version": "3.7.3"
  }
 },
 "nbformat": 4,
 "nbformat_minor": 2
}
