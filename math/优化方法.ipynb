{
 "cells": [
  {
   "cell_type": "code",
   "execution_count": null,
   "metadata": {},
   "outputs": [],
   "source": [
    "import numpy as np\n",
    "import matplotlib.pyplot as plt\n",
    "np.random.seed(12345)\n",
    "plt.rc('figure', figsize=(10, 10))\n",
    "np.set_printoptions(precision=4, threshold=15,suppress=True)"
   ]
  },
  {
   "cell_type": "markdown",
   "metadata": {},
   "source": [
    "# 拉格朗日乘子法"
   ]
  },
  {
   "cell_type": "code",
   "execution_count": null,
   "metadata": {},
   "outputs": [],
   "source": [
    "fig = plt.figure()\n",
    "x = np.linspace(-3, 3, 256)\n",
    "y = 1 / x**2\n",
    "plt.ylim((0, 3))\n",
    "ax = plt.gca()\n",
    "ax.spines['right'].set_color('none')\n",
    "ax.spines['top'].set_color('none')\n",
    "ax.xaxis.set_ticks_position('bottom')\n",
    "ax.spines['bottom'].set_position(('data', 0))\n",
    "ax.yaxis.set_ticks_position('left')\n",
    "ax.spines['left'].set_position(('data', 0))\n",
    "ax.set_aspect(1)\n",
    "plt.plot(x, y)\n",
    "theta = np.linspace(0, np.pi,800)\n",
    "x,y = np.cos(theta)*1.3, np.sin(theta)*1.3\n",
    "plt.plot(x, y)\n",
    "x,y = np.cos(theta)*1.5, np.sin(theta)*1.5\n",
    "plt.plot(x, y)"
   ]
  },
  {
   "cell_type": "markdown",
   "metadata": {},
   "source": [
    "例如 上图的方程$f(x, y)=x^2y$, 想要得到其上的点与原点的最短距离, 一种方法是,以原点为圆形向外画圆,第一次与曲线相交的点就是距离原点最近的点.可以得到一个规划问题:$$\\begin{align} & \\mathop{min}_{x,y} f(x,y)= x^2 + y^2 \\\\ & s.t. g(x,y)=x^2y -3=0,\\end{align} $$\n",
    "分析得知:\n",
    "- 在极值点, 圆与曲线相切\n",
    "- 梯度与等高线的切线垂直\n",
    "\n",
    "综合可知，在相切点，圆的梯度向量和曲线的**梯度向量平行**, 可以表示为:\n",
    "$$\\nabla f = \\lambda \\nabla g \\tag 9$$\n",
    "故而上述问题的可表示为:$$\\begin{cases}\n",
    "\\begin{pmatrix} 2x \\\\2y \\end{pmatrix} = \\lambda \\begin{pmatrix} 2xy \\\\x^2 \\end{pmatrix}\\\\\n",
    "x^2y=3\\end{cases}$$\n",
    "这就是拉格朗日乘子法"
   ]
  },
  {
   "cell_type": "markdown",
   "metadata": {},
   "source": [
    "##  定义\n",
    "拉格朗日乘子法(Lagrange multipliers)是一种寻找多元函数在一组约束下的极值的方法.通过引入**拉格朗日乘子**(如上述的$\\lambda$),可将有d个变量与k个约束条件的最优化问题转为具有d+k个变量的无约束优化问题求解.假定x为d维向量,要寻找x的某个取值$x^*$,使目标函数f(x)最小且同时满足g(x) = 0的约束,从几何角度看,该问题的目标是在由方程\n",
    "g(x)=0确定的d-1维曲面上寻找能使目标函数f(x)最小化的点,得出以下结论:\n",
    "- 对于约束曲面上的任意点x, 该点的梯度$\\nabla g(x)$正交(内积为0)于约束曲面;\n",
    "- 对于最优点$x^*$, 目标函数在该点的梯度$\\nabla f(x^*)$正交于约束曲面.\n",
    "\n",
    "在最优点$x^*$, 梯度$\\nabla g(x^*)$与$\\nabla f(x^*)$的方向必定相同或相反, 即:\n",
    "$$\\nabla f(x^*) + \\lambda \\nabla g(x^*) = 0 \\tag {10}$$\n",
    "\n",
    "定义**拉格朗日函数**, $\\lambda$称为拉格朗日乘子:\n",
    "$$L(x,\\lambda)= f(x) + \\lambda g(x) \\tag {11}$$\n",
    "### 无约束优化问题\n",
    "考虑无约束优化问题：$$\\mathop{min}_xf(x)$$根据 Fermat 定理，直接找到使目标函数得 0 的点即可 即 $\\nabla_xf(x)=0$ ，如果没有解析解的话，可以使用梯度下降或牛顿方法等迭代的手段来使 x 沿负梯度方向逐步逼近极小值点\n",
    "### 等式约束优化\n",
    "要求函数f 在g 约束下的极值这种问题可以表示为:\n",
    "$$\\begin{align} & \\mathop {min}_x f(x) \\\\ & s.t. g_i(x)=0, \\quad i=1,2,\\dots,m\\end{align} \\tag {12}$$\n",
    "可以列出方程组求解\n",
    "$$\\begin{cases} \\nabla_x L(x, \\lambda) = 0\\\\ \\nabla_{\\lambda} L(x, \\lambda) = 0 \\end{cases} \\tag {13}$$\n",
    "<img src='../img/等式约束和不等式约束.png'></img>\n",
    "### 不等式约束\n",
    "当约束条件为$g(x)\\leq0$,此时最优点$x^*$或在g(x)<0的区域中,或在边间g(x)=0上.\n",
    "- 对于g(x)<0的情形,约束$g(x)  \\leq 0$不起作用,可以直接通过条件$\\nabla f(x) = 0$来获得最优点;这等价于将$\\lambda$置零后对$\\nabla_x L(x, \\lambda)$置零得到最优点, 即 $\\nabla_x L(x, 0) = \\nabla f(x) = 0$.\n",
    "- 对于g(x)=0的情形,类似等式约束的分析,此时$\\nabla f(x^*)$与$\\nabla g(x^*)$的方向必相反(相同的话最优点不可能在g(x)=0形成曲面内部), 即$\\lambda > 0$\n",
    "\n",
    "综合起来，必须满足$\\lambda g(x)=0$, 这时候转化为：\n",
    "$$\\begin{cases}g(x) \\leq 0; \\\\ \\lambda \\geq 0;\\\\ u_jg_j(x)=0\\end{cases} \\tag{14}$$\n",
    "(14)式被称为**KKT条件**(Karush-Kuhn-Tucker).  \n",
    "将其推广到具有m个等式约束和n个不等式约束的情形:\n",
    "$$\\begin{align} &\\mathop {min}_x f(x)\\\\\n",
    "&s.t. &h_i(x)=0, \\quad i=1,2,\\dots,m\\\\\n",
    "&& g_j(x) \\leq 0,\\quad j=1,2,\\dots,n\\end{align} \\tag {15}$$\n",
    "$$$$\n",
    "定义**广义拉格朗日函数**:\n",
    "$$L(x, \\lambda, \\mu) = f(x) + \\sum_{i=1}^{m}\\lambda_ih_i(x) + \\sum_{j=1}^{n}\\mu_jg_j(x) \\tag {16}$$\n",
    "它的KKT条件($j=1,2,\\dots,n$)为:\n",
    "$$\\begin{cases}g_j(x) \\leq 0; \\\\ u_j \\geq 0; \\\\ u_jg_j(x)=0.\\end{cases} \\tag {17}$$"
   ]
  },
  {
   "cell_type": "markdown",
   "metadata": {},
   "source": [
    "##  对偶问题\n",
    "一个优化问题可以从两个角度进行考虑,\"主问题\"(primal problem)和\"对偶问题\"(dual problem).对主问题(15),其拉格朗日\"**对偶函数**\"(dual function)$\\Gamma:\\mathbb{R}^{m} \\times \\mathbb{R}^{n}$定义为:\n",
    "$$\\begin{align}d^*=\\Gamma(\\lambda, \\mu) &= \\mathop{inf}_{x \\in \\mathbb{D}}L(x, \\lambda, \\mu) \\\\\n",
    "& = \\mathop{inf}_{x \\in \\mathbb{D}} \\left(f(x) + \\sum_{i=1}^{m}\\lambda_ih_i(x) + \\sum_{j=1}^{n}\\mu_jg_j(x) \\right).\n",
    "\\end{align} \\tag {18}$$\n",
    "> 将拉格朗日函数$L(x, \\lambda, \\mu)对原变量x求导并令导数为0, 来获得对偶函数的表达形式$\n",
    "\n",
    "若令$\\hat{x} \\in \\mathbb{D}$为满足式(15)的**可行域**中的点, 则对任意的$\\mu \\geq$(任意分量都为非负)和$\\lambda$有\n",
    "$$\\sum_{i=1}^{m}\\lambda_ih_i(x) + \\sum_{j=1}^{n}\\mu_jg_j(x) \\leq 0 \\tag{19}$$\n",
    "进而有 $$d^*=\\Gamma(\\lambda, \\mu) = \\mathop{inf}_{x \\in \\mathbb{D}}L(x, \\lambda, \\mu) \\leq\n",
    "L(\\hat{x}, \\lambda, \\mu) \\leq f(\\hat{x}) \\tag {20}\n",
    "$$\n",
    "若主问题(15)取到的最优值为$p^*$,则对任意$\\mu \\geq 0$和$\\lambda$都有:\n",
    "$$d^*=\\Gamma(\\lambda, \\mu) \\leq p^* \\tag{21}$$\n",
    "对偶函数给出了主问题最优值的下界(不能比$\\Gamma(\\lambda, \\mu)$小),**基于对偶函数能获得的最好下界**这个问题,提出优化问题:\n",
    "$$d^*=\\mathop{max}_{\\lambda, \\mu}\\Gamma(\\lambda, \\mu)=\\mathop{max}_{\\lambda, \\mu}\\mathop{min}_xL(x, \\lambda, \\mu)\n",
    "\\quad s.t. u_j \\geq 0\\quad  j=\\{1,2,\\dots,n\\} \\tag{22}$$\n",
    "式(22)就是式(15)的**对偶问题**, $\\lambda$和$\\mu$称为\"对偶变量\"(dual variable).无论主问题(15)的凸性如何, 对偶问题(22)始终是**凸优化问题**.  \n",
    "\n",
    "$d^* \\leq p^*$这称为\"弱对偶\"(**weak duality**), 若$d^* = p^*$, 则称为\"强对偶\"(**strong duality**)\n",
    "它的kkt为:\n",
    "$$\\begin{cases}\\nabla_xL(x,\\lambda, \\mu)=0 \\\\g_j(x) \\leq 0; \\\\ u_j \\geq 0; \\\\ u_jg_j(x)=0.\\end{cases} \\tag {23}$$\n",
    "当满足KKT条件时，原始问题的最优化可以等价转化为对偶问题的最优化，而一般对偶问题要比原问题更好解决.  \n",
    "\n",
    "对于一般的优化问题, 强对偶性通常不成立. 但是, 当主问题为凸优化问题, 即(15)式的f(x)和$g_j(x)$均为凸函数, $h_i(x)$为仿射函数, 且其可行域中至少有一点使不等式约数严格成立, 则此时强对偶性成立.  \n",
    "强对偶性成立时, 拉格朗日函数分别对原变量(x)和对偶变量($\\lambda, \\mu$)求导, 再令导数等于零, 即可得到原变量与对偶变量的数值关系,由此解决对偶问题和主问题. \n",
    "> 仿射函数: 即由由1阶多项式构成的函数，一般形式为f(x) = Ax + b这里，A是一个m×k矩阵，x 是一个k向量，b是一个m向量，实际上反映了一种从k维到m维的空间映射关系\n",
    "\n",
    "> 函数的凸性 :称函数f(x)(a<x<b)为下凸(或上凸)函数.若对任意的$x_1,x_2 \\in (a, b)$:\n",
    "$$f(\\frac {x_1+x_2}{2}) \\leq (或 \\geq) \\frac {f(x_1) + f(x_2)}{2}$$二阶导数是正数  \n",
    "\n",
    ">凸集:  \n",
    "若可行域X是一个**凸集**：即对于任给的$x,y \\in X$总有实数$\\lambda \\in \\mathbb{R}$$$\\alpha x+(1−\\alpha)y \\in X,对于任意的\\alpha \\in(0,1) \\tag{24}$$效果上，如果任何两点$x,y \\in X$用直线相连，x,y之间线上的每个点都在X中，那么X是凸的。如果存在点不在X中，那么该集合是非凸的.\n",
    "\n",
    ">凸函数:\n",
    "若目标函数是一个凸函数：即$$f(\\alpha x+(1−\\alpha)y))\\leq\\alpha f(x)+(1−\\alpha)f(y) \\tag{25}$$\n",
    "如果$x \\ne y$,满足$$f(\\alpha x+(1−\\alpha)y)) < \\alpha f(x)+(1−\\alpha)f(y)$$ 那么称f(x)是**严格凸**的<br></br>\n",
    "我们称这样的优化问题为凸优化问题。更加直观的去刻画该定义, 如果一个函数是一个凸函数，那么该函数两点的连线必然在该函数图形的上方."
   ]
  },
  {
   "cell_type": "markdown",
   "metadata": {},
   "source": [
    "# 梯度下降法\n",
    "梯度下降法(gradient descent)是一种常用的一阶(first-order)优化方法,是求解无约束问题最简单, 最经典的方法之一"
   ]
  }
 ],
 "metadata": {
  "kernelspec": {
   "display_name": "Python 3",
   "language": "python",
   "name": "python3"
  },
  "language_info": {
   "codemirror_mode": {
    "name": "ipython",
    "version": 3
   },
   "file_extension": ".py",
   "mimetype": "text/x-python",
   "name": "python",
   "nbconvert_exporter": "python",
   "pygments_lexer": "ipython3",
   "version": "3.7.2rc1"
  }
 },
 "nbformat": 4,
 "nbformat_minor": 2
}
