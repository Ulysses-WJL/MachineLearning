{
 "cells": [
  {
   "cell_type": "markdown",
   "metadata": {},
   "source": [
    "# 正态分布的推导\n",
    "\n",
    "正态分布的密度函数:\n",
    "\n",
    "若$X$服从正态分布$N(\\mu, \\sigma^2)$, 则:\n",
    "$$f(x) = \\frac {1}{\\sqrt{2\\pi}\\sigma} e^{-\\frac {(x-u)^2}{2\\sigma^2}}$$\n",
    "其中, $\\mu表示均值, \\sigma^2表示方差$"
   ]
  },
  {
   "cell_type": "markdown",
   "metadata": {},
   "source": [
    "**推导过程\n",
    "\n",
    "https://zhuanlan.zhihu.com/p/52808762\n",
    "\n",
    "https://blog.csdn.net/STcyclone/article/details/85239630"
   ]
  }
 ],
 "metadata": {
  "kernelspec": {
   "display_name": "Python 3",
   "language": "python",
   "name": "python3"
  },
  "language_info": {
   "codemirror_mode": {
    "name": "ipython",
    "version": 3
   },
   "file_extension": ".py",
   "mimetype": "text/x-python",
   "name": "python",
   "nbconvert_exporter": "python",
   "pygments_lexer": "ipython3",
   "version": "3.7.2rc1"
  }
 },
 "nbformat": 4,
 "nbformat_minor": 2
}
