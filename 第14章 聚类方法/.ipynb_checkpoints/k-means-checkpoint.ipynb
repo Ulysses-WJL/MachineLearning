{
 "cells": [
  {
   "cell_type": "markdown",
   "metadata": {},
   "source": [
    "# K均值聚类"
   ]
  },
  {
   "cell_type": "code",
   "execution_count": 1,
   "metadata": {},
   "outputs": [],
   "source": [
    "import numpy as np\n",
    "import matplotlib.pyplot as plt\n",
    "\n",
    "np.set_printoptions(precision=4, suppress=True, threshold=16)\n",
    "%matplotlib inline"
   ]
  },
  {
   "cell_type": "markdown",
   "metadata": {},
   "source": [
    "## 机器学习实战"
   ]
  },
  {
   "cell_type": "code",
   "execution_count": 42,
   "metadata": {},
   "outputs": [
    {
     "data": {
      "text/plain": [
       "array([[ 1.659 ,  4.2851],\n",
       "       [-3.4537,  3.4243],\n",
       "       [ 4.8381, -1.1515],\n",
       "       ...,\n",
       "       [-2.9676,  2.8487],\n",
       "       [ 4.4793, -1.7648],\n",
       "       [-4.9056, -2.9111]])"
      ]
     },
     "execution_count": 42,
     "metadata": {},
     "output_type": "execute_result"
    }
   ],
   "source": [
    "data = np.loadtxt('testSet.txt')\n",
    "data"
   ]
  },
  {
   "cell_type": "code",
   "execution_count": 6,
   "metadata": {},
   "outputs": [
    {
     "data": {
      "text/plain": [
       "<matplotlib.collections.PathCollection at 0x7fa778e16f10>"
      ]
     },
     "execution_count": 6,
     "metadata": {},
     "output_type": "execute_result"
    },
    {
     "data": {
      "image/png": "[encoded data removed]",
      "text/plain": [
       "<Figure size 432x288 with 1 Axes>"
      ]
     },
     "metadata": {
      "needs_background": "light"
     },
     "output_type": "display_data"
    }
   ],
   "source": [
    "plt.scatter(data[:, 0], data[:, 1])"
   ]
  },
  {
   "cell_type": "code",
   "execution_count": 7,
   "metadata": {},
   "outputs": [],
   "source": [
    "class KMeans:\n",
    "    def __init__(self, k):\n",
    "        self.k = k  # 质心数目\n",
    "    \n",
    "    def init_(self, X):\n",
    "        X_max = np.max(X, axis=0)\n",
    "        X_min = np.min(X, axis=0)\n",
    "        m0 = np.zeros((self.k, X.shape[1]))\n",
    "        for i in range(self.k):\n",
    "            m_ = np.random.rand(X.shape[1]) * (X_max - X_min) + X_min\n",
    "            m0[i] = m_\n",
    "        return m0\n",
    "      \n",
    "    def fit(self, X):\n",
    "        n_samples, n_features = X.shape\n",
    "        # 保存聚类的结果, (所属类编号, 样本到所属类中心距离)\n",
    "        cluster = np.zeros((n_samples, 2)) \n",
    "        # 初始化 中心\n",
    "        m = self.init_(X)\n",
    "\n",
    "        while True:\n",
    "            cluster_last = cluster.copy()\n",
    "            # 计算样本到各中心点距离, 指派到最近的点\n",
    "            for i in range(n_samples):\n",
    "                distance = np.sum(np.square(X[i] - m), axis=1)\n",
    "                min_index = np.argmin(distance)\n",
    "                cluster[i] = (min_index, distance[min_index])\n",
    "            \n",
    "            # 计算新的中心\n",
    "            # print(m)\n",
    "            for l in range(self.k):\n",
    "                m[l] = np.mean(X[cluster[:, 0] == l,:], axis=0)\n",
    "            if np.all(cluster[:, 0] == cluster_last[:, 0]):\n",
    "                break\n",
    "        return m, cluster"
   ]
  },
  {
   "cell_type": "code",
   "execution_count": 8,
   "metadata": {},
   "outputs": [],
   "source": [
    "clf = KMeans(4)\n",
    "m, cluster = clf.fit(data)"
   ]
  },
  {
   "cell_type": "code",
   "execution_count": 9,
   "metadata": {},
   "outputs": [
    {
     "data": {
      "text/plain": [
       "<matplotlib.collections.PathCollection at 0x7fa778cd2940>"
      ]
     },
     "execution_count": 9,
     "metadata": {},
     "output_type": "execute_result"
    },
    {
     "data": {
      "image/png": "[encoded data removed]",
      "text/plain": [
       "<Figure size 432x288 with 1 Axes>"
      ]
     },
     "metadata": {
      "needs_background": "light"
     },
     "output_type": "display_data"
    }
   ],
   "source": [
    "plt.scatter(data[cluster[:, 0]==0, 0], data[cluster[:, 0]== 0, 1], marker='o')\n",
    "plt.scatter(data[cluster[:, 0]==1, 0], data[cluster[:, 0]== 1, 1], marker='v')\n",
    "plt.scatter(data[cluster[:, 0]==2, 0], data[cluster[:, 0]== 2, 1], marker='+')\n",
    "plt.scatter(data[cluster[:, 0]==3, 0], data[cluster[:, 0]== 3, 1], marker='x')\n",
    "plt.scatter(m[:, 0], m[:, 1], marker='s', s=80)"
   ]
  },
  {
   "cell_type": "code",
   "execution_count": 10,
   "metadata": {},
   "outputs": [
    {
     "data": {
      "text/plain": [
       "150.62604907269227"
      ]
     },
     "execution_count": 10,
     "metadata": {},
     "output_type": "execute_result"
    }
   ],
   "source": [
    "SSE = np.sum(cluster[:, 1])\n",
    "SSE"
   ]
  },
  {
   "cell_type": "markdown",
   "metadata": {},
   "source": [
    "### 二分k-means算法\n",
    "二分k-means算法是为了克服k-means算法收敛于局部最小值的问题,二分k-kmeans算法首先将所有点作为一个簇,然后将该簇一分为二.之后选择其中一个簇继续进行划分,选择哪一个簇进行划分取决于对其划分是否可以最大程度降低SSE值.上述基于SSE的划分过程不断重复,直到得到用户指定的簇数目为止\n",
    "\n",
    "二分k-means的伪代码形式如下:\n",
    "* 将所有点看成一个簇\n",
    "* 当簇数目小于 k 时\n",
    "* 对于每一个簇\n",
    "    * 计算总误差\n",
    "    * 在给定的簇上面进行 KMeans 聚类（k=2）\n",
    "    * 计算将该簇一分为二之后的总误差\n",
    "* 选择使得误差最小的那个簇进行划分操作\n",
    "\n",
    "另一种做法是选择 SSE 最大的簇进行划分，直到簇数目达到用户指定的数目位置。"
   ]
  },
  {
   "cell_type": "code",
   "execution_count": 140,
   "metadata": {},
   "outputs": [],
   "source": [
    "# 二分 K-Means 聚类算法\n",
    "class BinMeans:\n",
    "    def __init__(self, k):\n",
    "        self.k = k\n",
    "          \n",
    "    def choose_best_cluster(self, X, cluster, m):\n",
    "        # 选择最优的簇进行分类, \n",
    "        max_diff = 0\n",
    "        # 当前所有类别\n",
    "        m_index = np.unique(cluster[:, 0]).astype(int).tolist()\n",
    "        cluster_m = []\n",
    "        for l in m_index:\n",
    "            data = X[cluster[:, 0]==l, :]\n",
    "            # 聚类之前的SSE\n",
    "            sse_before = np.sum(cluster[cluster[:, 0]==l, 1])\n",
    "            clf = KMeans(2)\n",
    "            new_m, new_cluster = clf.fit(data)\n",
    "            # 新的类的编号\n",
    "            new_cluster[:, 0] += len(m)\n",
    "            cluster_m.append((new_cluster, new_m))\n",
    "            # 最大程度降低SSE的值\n",
    "            diff = sse_before - np.sum(new_cluster[:, 1]) \n",
    "            if diff > max_diff:\n",
    "                best_index = l\n",
    "                max_diff = diff\n",
    "        # 添加新的中心点\n",
    "        m.extend(cluster_m[m_index.index(best_index)][1])\n",
    "        j = 0\n",
    "        # 更新每个样本的类别编号和距离中心的距离\n",
    "        for i in range(len(cluster)):\n",
    "            if cluster[i, 0] == best_index:\n",
    "                cluster[i] = cluster_m[m_index.index(best_index)][0][j]\n",
    "                j += 1\n",
    "        return cluster, m\n",
    "            \n",
    "            \n",
    "    def fit(self, X):\n",
    "        n_samples, n_features = X.shape\n",
    "        # 所有样本分到一个簇中\n",
    "        m_ = np.mean(X, axis=0)\n",
    "        m = [m_]\n",
    "        cluster = np.zeros((n_samples, 2))\n",
    "        cluster[:, 1] = np.sum(np.square(X - m[0]), axis=1)\n",
    "        \n",
    "        while len(np.unique(cluster[:, 0])) < self.k:\n",
    "            cluster, m = self.choose_best_cluster(X, cluster, m)\n",
    "            # 对sse最大的簇进行 K-Means聚类(k=2)\n",
    "        return np.array(m), cluster"
   ]
  },
  {
   "cell_type": "code",
   "execution_count": 141,
   "metadata": {},
   "outputs": [],
   "source": [
    "clf = BinMeans(4)\n",
    "m, cluster = clf.fit(data)"
   ]
  },
  {
   "cell_type": "code",
   "execution_count": 142,
   "metadata": {},
   "outputs": [
    {
     "data": {
      "text/plain": [
       "array([[-0.1036,  0.0543],\n",
       "       [ 0.0825,  2.948 ],\n",
       "       [-0.2897, -2.8394],\n",
       "       [ 2.6508, -2.7902],\n",
       "       [-3.5397, -2.8938],\n",
       "       [ 2.6265,  3.1087],\n",
       "       [-2.4615,  2.7874]])"
      ]
     },
     "execution_count": 142,
     "metadata": {},
     "output_type": "execute_result"
    }
   ],
   "source": [
    "m"
   ]
  },
  {
   "cell_type": "code",
   "execution_count": 143,
   "metadata": {},
   "outputs": [
    {
     "data": {
      "text/plain": [
       "150.62604907269227"
      ]
     },
     "execution_count": 143,
     "metadata": {},
     "output_type": "execute_result"
    }
   ],
   "source": [
    "SSE = np.sum(cluster[:, 1])\n",
    "SSE"
   ]
  },
  {
   "cell_type": "code",
   "execution_count": 144,
   "metadata": {},
   "outputs": [
    {
     "data": {
      "text/plain": [
       "array([3., 4., 5., 6.])"
      ]
     },
     "execution_count": 144,
     "metadata": {},
     "output_type": "execute_result"
    }
   ],
   "source": [
    "np.unique(cluster[:, 0])"
   ]
  },
  {
   "cell_type": "code",
   "execution_count": 146,
   "metadata": {},
   "outputs": [
    {
     "data": {
      "text/plain": [
       "<matplotlib.collections.PathCollection at 0x7fa775d61ee0>"
      ]
     },
     "execution_count": 146,
     "metadata": {},
     "output_type": "execute_result"
    },
    {
     "data": {
      "image/png": "[encoded data removed]",
      "text/plain": [
       "<Figure size 432x288 with 1 Axes>"
      ]
     },
     "metadata": {
      "needs_background": "light"
     },
     "output_type": "display_data"
    }
   ],
   "source": [
    "plt.scatter(data[cluster[:, 0]==3, 0], data[cluster[:, 0]== 3, 1], marker='o')\n",
    "plt.scatter(data[cluster[:, 0]==4, 0], data[cluster[:, 0]== 4, 1], marker='v')\n",
    "plt.scatter(data[cluster[:, 0]==5, 0], data[cluster[:, 0]== 5, 1], marker='+')\n",
    "plt.scatter(data[cluster[:, 0]==6, 0], data[cluster[:, 0]== 6, 1], marker='x')\n",
    "plt.scatter(m[3:, 0], m[3:, 1], marker='s', s=80)"
   ]
  }
 ],
 "metadata": {
  "kernelspec": {
   "display_name": "Python 3",
   "language": "python",
   "name": "python3"
  },
  "language_info": {
   "codemirror_mode": {
    "name": "ipython",
    "version": 3
   },
   "file_extension": ".py",
   "mimetype": "text/x-python",
   "name": "python",
   "nbconvert_exporter": "python",
   "pygments_lexer": "ipython3",
   "version": "3.8.0"
  }
 },
 "nbformat": 4,
 "nbformat_minor": 2
}
