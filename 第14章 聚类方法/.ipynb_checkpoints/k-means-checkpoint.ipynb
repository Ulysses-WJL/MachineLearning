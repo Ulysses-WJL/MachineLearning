{
 "cells": [
  {
   "cell_type": "markdown",
   "metadata": {},
   "source": [
    "# K均值聚类"
   ]
  },
  {
   "cell_type": "code",
   "execution_count": 1,
   "metadata": {},
   "outputs": [],
   "source": [
    "import numpy as np\n",
    "import matplotlib.pyplot as plt\n",
    "\n",
    "np.set_printoptions(precision=4, suppress=True, threshold=16)\n",
    "%matplotlib inline"
   ]
  },
  {
   "cell_type": "markdown",
   "metadata": {},
   "source": [
    "## 机器学习实战"
   ]
  },
  {
   "cell_type": "code",
   "execution_count": 42,
   "metadata": {},
   "outputs": [
    {
     "data": {
      "text/plain": [
       "array([[ 1.659 ,  4.2851],\n",
       "       [-3.4537,  3.4243],\n",
       "       [ 4.8381, -1.1515],\n",
       "       ...,\n",
       "       [-2.9676,  2.8487],\n",
       "       [ 4.4793, -1.7648],\n",
       "       [-4.9056, -2.9111]])"
      ]
     },
     "execution_count": 42,
     "metadata": {},
     "output_type": "execute_result"
    }
   ],
   "source": [
    "data = np.loadtxt('testSet.txt')\n",
    "data"
   ]
  },
  {
   "cell_type": "code",
   "execution_count": 6,
   "metadata": {},
   "outputs": [
    {
     "data": {
      "text/plain": [
       "<matplotlib.collections.PathCollection at 0x7fa778e16f10>"
      ]
     },
     "execution_count": 6,
     "metadata": {},
     "output_type": "execute_result"
    },
    {
     "data": {
      "image/png": "[encoded data removed]",
      "text/plain": [
       "<Figure size 432x288 with 1 Axes>"
      ]
     },
     "metadata": {
      "needs_background": "light"
     },
     "output_type": "display_data"
    }
   ],
   "source": [
    "plt.scatter(data[:, 0], data[:, 1])"
   ]
  },
  {
   "cell_type": "code",
   "execution_count": 5,
   "metadata": {},
   "outputs": [],
   "source": [
    "class KMeans:\n",
    "    def __init__(self, k):\n",
    "        self.k = k  # 质心数目\n",
    "    \n",
    "    def init_(self, X):\n",
    "        X_max = np.max(X, axis=0)\n",
    "        X_min = np.min(X, axis=0)\n",
    "        m0 = np.zeros((self.k, X.shape[1]))\n",
    "        for i in range(self.k):\n",
    "            m_ = np.random.rand(X.shape[1]) * (X_max - X_min) + X_min\n",
    "            m0[i] = m_\n",
    "        return m0\n",
    "      \n",
    "    def fit(self, X):\n",
    "        n_samples, n_features = X.shape\n",
    "        # 保存聚类的结果, (所属类编号, 样本到所属类中心距离)\n",
    "        cluster = np.zeros((n_samples, 2)) \n",
    "        # 初始化 中心\n",
    "        m = self.init_(X)\n",
    "\n",
    "        while True:\n",
    "            cluster_last = cluster.copy()\n",
    "            # 计算样本到各中心点距离, 指派到最近的点\n",
    "            for i in range(n_samples):\n",
    "                distance = np.sum(np.square(X[i] - m), axis=1)\n",
    "                min_index = np.argmin(distance)\n",
    "                cluster[i] = (min_index, distance[min_index])\n",
    "            \n",
    "            # 计算新的中心\n",
    "            # print(m)\n",
    "            for l in range(self.k):\n",
    "                m[l] = np.mean(X[cluster[:, 0] == l,:], axis=0)\n",
    "            if np.all(cluster[:, 0] == cluster_last[:, 0]):\n",
    "                break\n",
    "        return m, cluster"
   ]
  },
  {
   "cell_type": "code",
   "execution_count": 8,
   "metadata": {},
   "outputs": [],
   "source": [
    "clf = KMeans(4)\n",
    "m, cluster = clf.fit(data)"
   ]
  },
  {
   "cell_type": "code",
   "execution_count": 9,
   "metadata": {},
   "outputs": [
    {
     "data": {
      "text/plain": [
       "<matplotlib.collections.PathCollection at 0x7fa778cd2940>"
      ]
     },
     "execution_count": 9,
     "metadata": {},
     "output_type": "execute_result"
    },
    {
     "data": {
      "image/png": "[encoded data removed]",
      "text/plain": [
       "<Figure size 432x288 with 1 Axes>"
      ]
     },
     "metadata": {
      "needs_background": "light"
     },
     "output_type": "display_data"
    }
   ],
   "source": [
    "plt.scatter(data[cluster[:, 0]==0, 0], data[cluster[:, 0]== 0, 1], marker='o')\n",
    "plt.scatter(data[cluster[:, 0]==1, 0], data[cluster[:, 0]== 1, 1], marker='v')\n",
    "plt.scatter(data[cluster[:, 0]==2, 0], data[cluster[:, 0]== 2, 1], marker='+')\n",
    "plt.scatter(data[cluster[:, 0]==3, 0], data[cluster[:, 0]== 3, 1], marker='x')\n",
    "plt.scatter(m[:, 0], m[:, 1], marker='s', s=80)"
   ]
  },
  {
   "cell_type": "code",
   "execution_count": 10,
   "metadata": {},
   "outputs": [
    {
     "data": {
      "text/plain": [
       "150.62604907269227"
      ]
     },
     "execution_count": 10,
     "metadata": {},
     "output_type": "execute_result"
    }
   ],
   "source": [
    "SSE = np.sum(cluster[:, 1])\n",
    "SSE"
   ]
  },
  {
   "cell_type": "markdown",
   "metadata": {},
   "source": [
    "### 二分k-means算法\n",
    "二分k-means算法是为了克服k-means算法收敛于局部最小值的问题,二分k-kmeans算法首先将所有点作为一个簇,然后将该簇一分为二.之后选择其中一个簇继续进行划分,选择哪一个簇进行划分取决于对其划分是否可以最大程度降低SSE值.上述基于SSE的划分过程不断重复,直到得到用户指定的簇数目为止\n",
    "\n",
    "二分k-means的伪代码形式如下:\n",
    "* 将所有点看成一个簇\n",
    "* 当簇数目小于 k 时\n",
    "* 对于每一个簇\n",
    "    * 计算总误差\n",
    "    * 在给定的簇上面进行 KMeans 聚类（k=2）\n",
    "    * 计算将该簇一分为二之后的总误差\n",
    "* 选择使得误差最小的那个簇进行划分操作\n",
    "\n",
    "另一种做法是选择 SSE 最大的簇进行划分，直到簇数目达到用户指定的数目位置。"
   ]
  },
  {
   "cell_type": "code",
   "execution_count": 6,
   "metadata": {},
   "outputs": [],
   "source": [
    "# 二分 K-Means 聚类算法\n",
    "class BinMeans:\n",
    "    def __init__(self, k):\n",
    "        self.k = k\n",
    "          \n",
    "    def choose_best_cluster(self, X, cluster, m):\n",
    "        # 选择最优的簇进行分类, \n",
    "        max_diff = 0\n",
    "        # 当前所有类别\n",
    "        m_index = np.unique(cluster[:, 0]).astype(int).tolist()\n",
    "        cluster_m = []\n",
    "        for l in m_index:\n",
    "            data = X[cluster[:, 0]==l, :]\n",
    "            # 聚类之前的SSE\n",
    "            sse_before = np.sum(cluster[cluster[:, 0]==l, 1])\n",
    "            clf = KMeans(2)\n",
    "            new_m, new_cluster = clf.fit(data)\n",
    "            # 新的类的编号\n",
    "            new_cluster[:, 0] += len(m)\n",
    "            cluster_m.append((new_cluster, new_m))\n",
    "            # 最大程度降低SSE的值\n",
    "            diff = sse_before - np.sum(new_cluster[:, 1]) \n",
    "            if diff > max_diff:\n",
    "                best_index = l\n",
    "                max_diff = diff\n",
    "        # 添加新的中心点\n",
    "        m.extend(cluster_m[m_index.index(best_index)][1])\n",
    "        j = 0\n",
    "        # 更新每个样本的类别编号和距离中心的距离\n",
    "        for i in range(len(cluster)):\n",
    "            if cluster[i, 0] == best_index:\n",
    "                cluster[i] = cluster_m[m_index.index(best_index)][0][j]\n",
    "                j += 1\n",
    "        return cluster, m\n",
    "            \n",
    "            \n",
    "    def fit(self, X):\n",
    "        n_samples, n_features = X.shape\n",
    "        # 所有样本分到一个簇中\n",
    "        m_ = np.mean(X, axis=0)\n",
    "        m = [m_]\n",
    "        cluster = np.zeros((n_samples, 2))\n",
    "        cluster[:, 1] = np.sum(np.square(X - m[0]), axis=1)\n",
    "        \n",
    "        while len(np.unique(cluster[:, 0])) < self.k:\n",
    "            cluster, m = self.choose_best_cluster(X, cluster, m)\n",
    "            # 对sse最大的簇进行 K-Means聚类(k=2)\n",
    "        return np.array(m), cluster"
   ]
  },
  {
   "cell_type": "code",
   "execution_count": 141,
   "metadata": {},
   "outputs": [],
   "source": [
    "clf = BinMeans(4)\n",
    "m, cluster = clf.fit(data)"
   ]
  },
  {
   "cell_type": "code",
   "execution_count": 142,
   "metadata": {},
   "outputs": [
    {
     "data": {
      "text/plain": [
       "array([[-0.1036,  0.0543],\n",
       "       [ 0.0825,  2.948 ],\n",
       "       [-0.2897, -2.8394],\n",
       "       [ 2.6508, -2.7902],\n",
       "       [-3.5397, -2.8938],\n",
       "       [ 2.6265,  3.1087],\n",
       "       [-2.4615,  2.7874]])"
      ]
     },
     "execution_count": 142,
     "metadata": {},
     "output_type": "execute_result"
    }
   ],
   "source": [
    "m"
   ]
  },
  {
   "cell_type": "code",
   "execution_count": 143,
   "metadata": {},
   "outputs": [
    {
     "data": {
      "text/plain": [
       "150.62604907269227"
      ]
     },
     "execution_count": 143,
     "metadata": {},
     "output_type": "execute_result"
    }
   ],
   "source": [
    "SSE = np.sum(cluster[:, 1])\n",
    "SSE"
   ]
  },
  {
   "cell_type": "code",
   "execution_count": 144,
   "metadata": {},
   "outputs": [
    {
     "data": {
      "text/plain": [
       "array([3., 4., 5., 6.])"
      ]
     },
     "execution_count": 144,
     "metadata": {},
     "output_type": "execute_result"
    }
   ],
   "source": [
    "np.unique(cluster[:, 0])"
   ]
  },
  {
   "cell_type": "code",
   "execution_count": 146,
   "metadata": {},
   "outputs": [
    {
     "data": {
      "text/plain": [
       "<matplotlib.collections.PathCollection at 0x7fa775d61ee0>"
      ]
     },
     "execution_count": 146,
     "metadata": {},
     "output_type": "execute_result"
    },
    {
     "data": {
      "image/png": "[encoded data removed]",
      "text/plain": [
       "<Figure size 432x288 with 1 Axes>"
      ]
     },
     "metadata": {
      "needs_background": "light"
     },
     "output_type": "display_data"
    }
   ],
   "source": [
    "plt.scatter(data[cluster[:, 0]==3, 0], data[cluster[:, 0]== 3, 1], marker='o')\n",
    "plt.scatter(data[cluster[:, 0]==4, 0], data[cluster[:, 0]== 4, 1], marker='v')\n",
    "plt.scatter(data[cluster[:, 0]==5, 0], data[cluster[:, 0]== 5, 1], marker='+')\n",
    "plt.scatter(data[cluster[:, 0]==6, 0], data[cluster[:, 0]== 6, 1], marker='x')\n",
    "plt.scatter(m[3:, 0], m[3:, 1], marker='s', s=80)"
   ]
  },
  {
   "cell_type": "code",
   "execution_count": 4,
   "metadata": {},
   "outputs": [
    {
     "data": {
      "text/plain": [
       "<matplotlib.collections.PathCollection at 0x7f6d6687a0d0>"
      ]
     },
     "execution_count": 4,
     "metadata": {},
     "output_type": "execute_result"
    },
    {
     "data": {
      "image/png": "[encoded data removed]",
      "text/plain": [
       "<Figure size 432x288 with 1 Axes>"
      ]
     },
     "metadata": {
      "needs_background": "light"
     },
     "output_type": "display_data"
    }
   ],
   "source": [
    "data = np.loadtxt('./testSet2.txt')\n",
    "plt.scatter(data[:, 0], data[:, 1])"
   ]
  },
  {
   "cell_type": "code",
   "execution_count": 29,
   "metadata": {},
   "outputs": [],
   "source": [
    "clf_k = KMeans(k=3)\n",
    "m, cluster = clf_k.fit(data)"
   ]
  },
  {
   "cell_type": "code",
   "execution_count": 30,
   "metadata": {},
   "outputs": [
    {
     "data": {
      "text/plain": [
       "<matplotlib.collections.PathCollection at 0x7f6d66152c10>"
      ]
     },
     "execution_count": 30,
     "metadata": {},
     "output_type": "execute_result"
    },
    {
     "data": {
      "image/png": "[encoded data removed]",
      "text/plain": [
       "<Figure size 432x288 with 1 Axes>"
      ]
     },
     "metadata": {
      "needs_background": "light"
     },
     "output_type": "display_data"
    }
   ],
   "source": [
    "\n",
    "plt.scatter(data[cluster[:, 0]==0, 0], data[cluster[:, 0]== 0, 1], marker='o')\n",
    "plt.scatter(data[cluster[:, 0]==1, 0], data[cluster[:, 0]== 1, 1], marker='v')\n",
    "plt.scatter(data[cluster[:, 0]==2, 0], data[cluster[:, 0]== 2, 1], marker='s')\n",
    "# plt.scatter(data[cluster[:, 0]==3, 0], data[cluster[:, 0]== 3, 1], marker='x')\n",
    "plt.scatter(m[:, 0], m[:, 1], marker='+', s=100, c='k')"
   ]
  },
  {
   "cell_type": "code",
   "execution_count": 31,
   "metadata": {},
   "outputs": [],
   "source": [
    "clf_k = BinMeans(k=3)\n",
    "m, cluster = clf_k.fit(data)"
   ]
  },
  {
   "cell_type": "code",
   "execution_count": 32,
   "metadata": {},
   "outputs": [
    {
     "data": {
      "text/plain": [
       "array([2., 3., 4.])"
      ]
     },
     "execution_count": 32,
     "metadata": {},
     "output_type": "execute_result"
    }
   ],
   "source": [
    "np.unique(cluster[:, 0])"
   ]
  },
  {
   "cell_type": "code",
   "execution_count": 33,
   "metadata": {},
   "outputs": [
    {
     "data": {
      "text/plain": [
       "<matplotlib.collections.PathCollection at 0x7f6d660c3130>"
      ]
     },
     "execution_count": 33,
     "metadata": {},
     "output_type": "execute_result"
    },
    {
     "data": {
      "image/png": "[encoded data removed]",
      "text/plain": [
       "<Figure size 432x288 with 1 Axes>"
      ]
     },
     "metadata": {
      "needs_background": "light"
     },
     "output_type": "display_data"
    }
   ],
   "source": [
    "plt.scatter(data[cluster[:, 0]==2, 0], data[cluster[:, 0]== 2, 1], marker='o')\n",
    "plt.scatter(data[cluster[:, 0]==3, 0], data[cluster[:, 0]== 3, 1], marker='v')\n",
    "plt.scatter(data[cluster[:, 0]==4, 0], data[cluster[:, 0]== 4, 1], marker='s')\n",
    "# plt.scatter(data[cluster[:, 0]==3, 0], data[cluster[:, 0]== 3, 1], marker='x')\n",
    "plt.scatter(m[2:, 0], m[2:, 1], marker='+', s=100, c='k')"
   ]
  },
  {
   "cell_type": "markdown",
   "metadata": {},
   "source": [
    "## sklearn  KMeans"
   ]
  },
  {
   "cell_type": "markdown",
   "metadata": {},
   "source": [
    "```\n",
    "Signature:\n",
    "make_blobs(\n",
    "    n_samples=100,\n",
    "    n_features=2,\n",
    "    centers=None,\n",
    "    cluster_std=1.0,\n",
    "    center_box=(-10.0, 10.0),\n",
    "    shuffle=True,\n",
    "    random_state=None,\n",
    ")\n",
    "Docstring:\n",
    "Generate isotropic Gaussian blobs for clustering.\n",
    "\n",
    "Read more in the :ref:`User Guide <sample_generators>`.\n",
    "```"
   ]
  },
  {
   "cell_type": "code",
   "execution_count": 43,
   "metadata": {},
   "outputs": [],
   "source": [
    "from sklearn.datasets import make_blobs\n",
    "from sklearn.cluster import KMeans\n",
    "\n",
    "blobs, classes = make_blobs(500, centers=3)"
   ]
  },
  {
   "cell_type": "code",
   "execution_count": 44,
   "metadata": {},
   "outputs": [
    {
     "data": {
      "text/plain": [
       "<matplotlib.collections.PathCollection at 0x7f6d42aad940>"
      ]
     },
     "execution_count": 44,
     "metadata": {},
     "output_type": "execute_result"
    },
    {
     "data": {
      "image/png": "[encoded data removed]",
      "text/plain": [
       "<Figure size 432x288 with 1 Axes>"
      ]
     },
     "metadata": {
      "needs_background": "light"
     },
     "output_type": "display_data"
    }
   ],
   "source": [
    "color_map = np.array(['r', 'g', 'b']) \n",
    "plt.scatter(blobs[:, 0], blobs[:, 1], color=color_map[classes])"
   ]
  },
  {
   "cell_type": "markdown",
   "metadata": {},
   "source": [
    "```\n",
    "class sklearn.cluster.KMeans(n_clusters=8, init=’k-means++’, n_init=10,\n",
    "                            max_iter=300, tol=0.0001, precompute_distances=’auto’,\n",
    "                            verbose=0, random_state=None, copy_x=True, n_jobs=None, algorithm=’auto’)\n",
    "```\n"
   ]
  },
  {
   "cell_type": "code",
   "execution_count": 45,
   "metadata": {},
   "outputs": [
    {
     "data": {
      "text/plain": [
       "KMeans(algorithm='auto', copy_x=True, init='k-means++', max_iter=300,\n",
       "       n_clusters=3, n_init=10, n_jobs=None, precompute_distances='auto',\n",
       "       random_state=None, tol=0.0001, verbose=0)"
      ]
     },
     "execution_count": 45,
     "metadata": {},
     "output_type": "execute_result"
    }
   ],
   "source": [
    "# 假设已知有3个中心\n",
    "kmean = KMeans(n_clusters=3)\n",
    "kmean.fit(blobs)"
   ]
  },
  {
   "cell_type": "code",
   "execution_count": 51,
   "metadata": {},
   "outputs": [
    {
     "data": {
      "text/plain": [
       "array([1, 1, 2, ..., 1, 1, 0])"
      ]
     },
     "execution_count": 51,
     "metadata": {},
     "output_type": "execute_result"
    }
   ],
   "source": [
    "classes"
   ]
  },
  {
   "cell_type": "code",
   "execution_count": 47,
   "metadata": {},
   "outputs": [
    {
     "data": {
      "text/plain": [
       "array([0, 0, 1, ..., 0, 0, 2], dtype=int32)"
      ]
     },
     "execution_count": 47,
     "metadata": {},
     "output_type": "execute_result"
    }
   ],
   "source": [
    "# 每个样本点的预期标签, 由于 KMeans 不知道类别是什么, 与classes会不一致\n",
    "kmean.labels_"
   ]
  },
  {
   "cell_type": "code",
   "execution_count": 50,
   "metadata": {},
   "outputs": [
    {
     "data": {
      "text/plain": [
       "<matplotlib.collections.PathCollection at 0x7f6d432a6a30>"
      ]
     },
     "execution_count": 50,
     "metadata": {},
     "output_type": "execute_result"
    },
    {
     "data": {
      "image/png": "[encoded data removed]",
      "text/plain": [
       "<Figure size 432x288 with 1 Axes>"
      ]
     },
     "metadata": {
      "needs_background": "light"
     },
     "output_type": "display_data"
    }
   ],
   "source": [
    "color_map = np.array(['r', 'g', 'b']) \n",
    "plt.scatter(blobs[:, 0], blobs[:, 1], color=color_map[classes])\n",
    "# cluster 中心点坐标\n",
    "plt.scatter(kmean.cluster_centers_[:, 0], kmean.cluster_centers_[:, 1], marker='*', s=250, color='k')"
   ]
  },
  {
   "cell_type": "code",
   "execution_count": 52,
   "metadata": {},
   "outputs": [
    {
     "data": {
      "text/plain": [
       "array([0, 1, 2], dtype=int32)"
      ]
     },
     "execution_count": 52,
     "metadata": {},
     "output_type": "execute_result"
    }
   ],
   "source": [
    "kmean.predict([[5, -1], [-8, 3], [5, 5]])"
   ]
  },
  {
   "cell_type": "code",
   "execution_count": 53,
   "metadata": {},
   "outputs": [
    {
     "data": {
      "text/plain": [
       "array([[ 0.3053, 12.5557,  6.3917],\n",
       "       [ 1.4602, 12.7494,  8.0562],\n",
       "       [13.4741,  1.1305, 16.2234],\n",
       "       [ 5.8907, 13.4112,  1.7897],\n",
       "       [13.4756,  0.7669, 15.9545]])"
      ]
     },
     "execution_count": 53,
     "metadata": {},
     "output_type": "execute_result"
    }
   ],
   "source": [
    "# 输出每个点到形心的距离\n",
    "kmean.transform(blobs[:5])"
   ]
  },
  {
   "cell_type": "markdown",
   "metadata": {},
   "source": [
    "## 优化形心数量\n",
    "---\n",
    "形心难以解释，并且也难以判断是否数量正确。理解你的数据是否是未分类的十分重要，因为这会直接影响我们可用的评估手段。"
   ]
  },
  {
   "cell_type": "code",
   "execution_count": 54,
   "metadata": {},
   "outputs": [
    {
     "data": {
      "text/plain": [
       "KMeans(algorithm='auto', copy_x=True, init='k-means++', max_iter=300,\n",
       "       n_clusters=3, n_init=10, n_jobs=None, precompute_distances='auto',\n",
       "       random_state=None, tol=0.0001, verbose=0)"
      ]
     },
     "execution_count": 54,
     "metadata": {},
     "output_type": "execute_result"
    }
   ],
   "source": [
    "blobs, classes = make_blobs(500, centers=3)\n",
    "kmean = KMeans(n_clusters=3)\n",
    "kmean.fit(blobs)"
   ]
  },
  {
   "cell_type": "code",
   "execution_count": 62,
   "metadata": {},
   "outputs": [
    {
     "data": {
      "text/plain": [
       "<matplotlib.collections.PathCollection at 0x7f6d4274fc10>"
      ]
     },
     "execution_count": 62,
     "metadata": {},
     "output_type": "execute_result"
    },
    {
     "data": {
      "image/png": "[encoded data removed]",
      "text/plain": [
       "<Figure size 432x288 with 1 Axes>"
      ]
     },
     "metadata": {
      "needs_background": "light"
     },
     "output_type": "display_data"
    }
   ],
   "source": [
    "color_map = np.array(['r', 'g', 'b']) \n",
    "plt.scatter(blobs[:, 0], blobs[:, 1], color=color_map[classes])"
   ]
  },
  {
   "cell_type": "code",
   "execution_count": 66,
   "metadata": {},
   "outputs": [
    {
     "data": {
      "text/plain": [
       "<matplotlib.collections.PathCollection at 0x7f6d41d62e50>"
      ]
     },
     "execution_count": 66,
     "metadata": {},
     "output_type": "execute_result"
    },
    {
     "data": {
      "image/png": "[encoded data removed]",
      "text/plain": [
       "<Figure size 432x288 with 1 Axes>"
      ]
     },
     "metadata": {
      "needs_background": "light"
     },
     "output_type": "display_data"
    }
   ],
   "source": [
    "cluster_labels = kmean.labels_\n",
    "blobs[cluster_labels==2]\n",
    "plt.scatter(blobs[cluster_labels==2][:, 0], blobs[cluster_labels==2][:, 1])\n",
    "plt.scatter(blobs[cluster_labels==1][:, 0], blobs[cluster_labels==1][:, 1])\n",
    "plt.scatter(blobs[cluster_labels==0][:, 0], blobs[cluster_labels==0][:, 1])"
   ]
  },
  {
   "cell_type": "markdown",
   "metadata": {},
   "source": [
    "首先，我们查看轮廓（Silhouette）距离。轮廓距离是簇内不相似性、最近的簇间不相似性、以及这两个值最大值的比值。它可以看做簇间分离程度的度量。\n",
    "评估它的相似性\n",
    "$$s_i = \\frac {b_i - a_i}{max(a_i, b_i)}$$\n",
    "是观测样本$i$的轮廓系数, $a_i是i和同类的所有观测值之间的平均距离, 而b_i是i和不同类的所有观测的平均距离的最小值$"
   ]
  },
  {
   "cell_type": "code",
   "execution_count": 60,
   "metadata": {},
   "outputs": [
    {
     "data": {
      "text/plain": [
       "array([0.7616, 0.6251, 0.7339, ..., 0.5636, 0.8617, 0.6798])"
      ]
     },
     "execution_count": 60,
     "metadata": {},
     "output_type": "execute_result"
    }
   ],
   "source": [
    "from sklearn import metrics\n",
    "silhouette_samples = metrics.silhouette_samples(blobs, kmean.labels_)\n",
    "silhouette_samples"
   ]
  },
  {
   "cell_type": "code",
   "execution_count": 58,
   "metadata": {},
   "outputs": [
    {
     "data": {
      "text/plain": [
       "array([[0.    , 0.7616],\n",
       "       [1.    , 0.6251],\n",
       "       [1.    , 0.7339],\n",
       "       [2.    , 0.8169],\n",
       "       [0.    , 0.7582]])"
      ]
     },
     "execution_count": 58,
     "metadata": {},
     "output_type": "execute_result"
    }
   ],
   "source": [
    "np.column_stack((classes[:5], silhouette_samples[:5]))"
   ]
  },
  {
   "cell_type": "code",
   "execution_count": 59,
   "metadata": {},
   "outputs": [
    {
     "data": {
      "text/plain": [
       "(array([  5.,   2.,   5.,   3.,   8.,  19.,  68., 140.,  99., 151.]),\n",
       " array([0.0186, 0.1073, 0.196 , 0.2847, 0.3734, 0.4621, 0.5508, 0.6394,\n",
       "        0.7281, 0.8168, 0.9055]),\n",
       " <a list of 10 Patch objects>)"
      ]
     },
     "execution_count": 59,
     "metadata": {},
     "output_type": "execute_result"
    },
    {
     "data": {
      "image/png": "[encoded data removed]",
      "text/plain": [
       "<Figure size 432x288 with 1 Axes>"
      ]
     },
     "metadata": {
      "needs_background": "light"
     },
     "output_type": "display_data"
    }
   ],
   "source": [
    "# 数据点到形心的距离分布\n",
    "plt.hist(silhouette_samples)\n",
    "# 通常接近 1 的系数越高，分数就越高"
   ]
  },
  {
   "cell_type": "code",
   "execution_count": 61,
   "metadata": {},
   "outputs": [
    {
     "data": {
      "text/plain": [
       "0.719168958265358"
      ]
     },
     "execution_count": 61,
     "metadata": {},
     "output_type": "execute_result"
    }
   ],
   "source": [
    "# 轮廓系数的均值通常用于描述整个模型的拟合度\n",
    "silhouette_samples.mean()"
   ]
  },
  {
   "cell_type": "code",
   "execution_count": 67,
   "metadata": {},
   "outputs": [
    {
     "data": {
      "text/plain": [
       "0.719168958265358"
      ]
     },
     "execution_count": 67,
     "metadata": {},
     "output_type": "execute_result"
    }
   ],
   "source": [
    "# 直接获取 轮廓系数的均值\n",
    "metrics.silhouette_score(blobs, kmean.labels_)"
   ]
  },
  {
   "cell_type": "code",
   "execution_count": 69,
   "metadata": {},
   "outputs": [
    {
     "data": {
      "text/plain": [
       "[<matplotlib.lines.Line2D at 0x7f6d41deaca0>]"
      ]
     },
     "execution_count": 69,
     "metadata": {},
     "output_type": "execute_result"
    },
    {
     "data": {
      "image/png": "[encoded data removed]",
      "text/plain": [
       "<Figure size 432x288 with 1 Axes>"
      ]
     },
     "metadata": {
      "needs_background": "light"
     },
     "output_type": "display_data"
    }
   ],
   "source": [
    "blobs, classes = make_blobs(500, centers=10)\n",
    "sillhouette_avgs = []\n",
    "for k in range(2, 60):\n",
    "    kmean = KMeans(n_clusters=k).fit(blobs)\n",
    "    sillhouette_avgs.append(metrics.silhouette_score(blobs, kmean.labels_))\n",
    "plt.plot(sillhouette_avgs)"
   ]
  },
  {
   "cell_type": "markdown",
   "metadata": {},
   "source": [
    "轮廓均值随着形心数量的变化情况. 最优的数量和实际的数量不一致, 这就是聚类的实际情况，十分普遍，我们不能获得正确的簇数量，我们只能估计簇数量的近似值"
   ]
  },
  {
   "cell_type": "markdown",
   "metadata": {},
   "source": [
    "## 评估聚类的正确性\n",
    "---\n",
    "簇已知条件下的 KMeans 评估"
   ]
  },
  {
   "cell_type": "code",
   "execution_count": 85,
   "metadata": {},
   "outputs": [],
   "source": [
    "blobs, classes = make_blobs(500, centers=3)\n",
    "kmean = KMeans(n_clusters=3).fit(blobs)"
   ]
  },
  {
   "cell_type": "code",
   "execution_count": 86,
   "metadata": {},
   "outputs": [
    {
     "data": {
      "image/png": "[encoded data removed]",
      "text/plain": [
       "<Figure size 432x288 with 1 Axes>"
      ]
     },
     "metadata": {
      "needs_background": "light"
     },
     "output_type": "display_data"
    }
   ],
   "source": [
    "colors = ['r', 'g', 'b']\n",
    "for i in range(3):\n",
    "    p = blobs[classes==i]\n",
    "    plt.scatter(p[:, 0], p[:, 1], label=f'Cluster {i}', color=colors[i])\n",
    "plt.legend()\n",
    "plt.scatter(kmean.cluster_centers_[:, 0],\n",
    "               kmean.cluster_centers_[:, 1], s=100,\n",
    "               color='black',\n",
    "               label='Centers') \n",
    "plt.title(\"Cluster With Ground Truth\") \n",
    "plt.savefig('2020-1-11_1')"
   ]
  },
  {
   "cell_type": "code",
   "execution_count": 87,
   "metadata": {},
   "outputs": [
    {
     "data": {
      "text/plain": [
       "array([0, 0, 0, ..., 0, 1, 1], dtype=int32)"
      ]
     },
     "execution_count": 87,
     "metadata": {},
     "output_type": "execute_result"
    }
   ],
   "source": [
    "kmean.labels_"
   ]
  },
  {
   "cell_type": "code",
   "execution_count": 88,
   "metadata": {},
   "outputs": [
    {
     "data": {
      "text/plain": [
       "array([2, 2, 2, ..., 2, 0, 0])"
      ]
     },
     "execution_count": 88,
     "metadata": {},
     "output_type": "execute_result"
    }
   ],
   "source": [
    "classes"
   ]
  },
  {
   "cell_type": "code",
   "execution_count": 101,
   "metadata": {},
   "outputs": [
    {
     "data": {
      "text/plain": [
       "array([2, 2, 2, ..., 2, 0, 0], dtype=int32)"
      ]
     },
     "execution_count": 101,
     "metadata": {},
     "output_type": "execute_result"
    }
   ],
   "source": [
    "# 原始classes 变换类别编号\n",
    "labels = kmean.labels_.copy()\n",
    "labels[kmean.labels_==2] = 1  # 2->0\n",
    "labels[kmean.labels_==0] = 2  # 0->1\n",
    "labels[kmean.labels_==1] = 0  # 1->2\n",
    "labels"
   ]
  },
  {
   "cell_type": "code",
   "execution_count": 102,
   "metadata": {},
   "outputs": [
    {
     "data": {
      "image/png": "[encoded data removed]",
      "text/plain": [
       "<Figure size 432x288 with 1 Axes>"
      ]
     },
     "metadata": {
      "needs_background": "light"
     },
     "output_type": "display_data"
    }
   ],
   "source": [
    "# 聚类的结果\n",
    "for i in range(3):\n",
    "    p = blobs[labels==i]\n",
    "    plt.scatter(p[:, 0], p[:, 1], label=f'Cluster {i}', color=colors[i])"
   ]
  },
  {
   "cell_type": "markdown",
   "metadata": {},
   "source": [
    "**准确度**"
   ]
  },
  {
   "cell_type": "code",
   "execution_count": 103,
   "metadata": {},
   "outputs": [
    {
     "name": "stdout",
     "output_type": "stream",
     "text": [
      "1.0\n",
      "0.8263473053892215\n",
      "0.8674698795180723\n"
     ]
    }
   ],
   "source": [
    "# 各类别的准确度\n",
    "for i in range(3):\n",
    "    print((classes == labels)[classes==i].astype(int).mean())"
   ]
  },
  {
   "cell_type": "markdown",
   "metadata": {},
   "source": [
    "第二个相似性度量是**互信息**（ mutual information score）得分。\n",
    "\n",
    "分数靠近 0，就说明标签的分配可能不是按照相似过程生成的。但是分数靠近 1，就说明两个标签有很强的一致性。"
   ]
  },
  {
   "cell_type": "code",
   "execution_count": 105,
   "metadata": {},
   "outputs": [
    {
     "name": "stderr",
     "output_type": "stream",
     "text": [
      "/home/ulysses/.local/lib/python3.8/site-packages/sklearn/metrics/cluster/supervised.py:856: FutureWarning: The behavior of NMI will change in version 0.22. To match the behavior of 'v_measure_score', NMI will use average_method='arithmetic' by default.\n",
      "  warnings.warn(\"The behavior of NMI will change in version 0.22. \"\n"
     ]
    },
    {
     "data": {
      "text/plain": [
       "0.7411541350543571"
      ]
     },
     "execution_count": 105,
     "metadata": {},
     "output_type": "execute_result"
    }
   ],
   "source": [
    "metrics.normalized_mutual_info_score(classes, kmean.labels_)"
   ]
  },
  {
   "cell_type": "markdown",
   "metadata": {},
   "source": [
    "**惯性**（inertia）度量. \n",
    "惯性是每个数据点和它所分配的簇的平方差之和"
   ]
  },
  {
   "cell_type": "code",
   "execution_count": 106,
   "metadata": {},
   "outputs": [
    {
     "data": {
      "text/plain": [
       "883.3046531502307"
      ]
     },
     "execution_count": 106,
     "metadata": {},
     "output_type": "execute_result"
    }
   ],
   "source": [
    "kmean.inertia_"
   ]
  }
 ],
 "metadata": {
  "kernelspec": {
   "display_name": "Python 3",
   "language": "python",
   "name": "python3"
  },
  "language_info": {
   "codemirror_mode": {
    "name": "ipython",
    "version": 3
   },
   "file_extension": ".py",
   "mimetype": "text/x-python",
   "name": "python",
   "nbconvert_exporter": "python",
   "pygments_lexer": "ipython3",
   "version": "3.8.0"
  }
 },
 "nbformat": 4,
 "nbformat_minor": 2
}
