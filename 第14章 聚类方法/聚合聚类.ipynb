{
 "cells": [
  {
   "cell_type": "markdown",
   "metadata": {},
   "source": [
    "# 层次聚类-聚合聚类"
   ]
  },
  {
   "cell_type": "code",
   "execution_count": 1,
   "metadata": {},
   "outputs": [],
   "source": [
    "import numpy as np\n",
    "import matplotlib.pyplot as plt\n",
    "\n",
    "%matplotlib inline\n",
    "np.set_printoptions(precision=4, suppress=True, threshold=16)"
   ]
  },
  {
   "cell_type": "code",
   "execution_count": 2,
   "metadata": {},
   "outputs": [
    {
     "data": {
      "text/plain": [
       "array([[ 3.2752,  2.9576],\n",
       "       [-3.3445,  2.6035],\n",
       "       [ 0.3551, -3.3766],\n",
       "       ...,\n",
       "       [ 2.9608,  3.0796],\n",
       "       [-3.2755,  1.5771],\n",
       "       [ 0.6393, -3.4128]])"
      ]
     },
     "execution_count": 2,
     "metadata": {},
     "output_type": "execute_result"
    }
   ],
   "source": [
    "data = np.loadtxt('testSet2.txt')\n",
    "data"
   ]
  },
  {
   "cell_type": "code",
   "execution_count": 3,
   "metadata": {},
   "outputs": [
    {
     "data": {
      "text/plain": [
       "<matplotlib.collections.PathCollection at 0x13137f98>"
      ]
     },
     "execution_count": 3,
     "metadata": {},
     "output_type": "execute_result"
    },
    {
     "data": {
      "image/png": "[encoded data removed]",
      "text/plain": [
       "<Figure size 432x288 with 1 Axes>"
      ]
     },
     "metadata": {
      "needs_background": "light"
     },
     "output_type": "display_data"
    }
   ],
   "source": [
    "plt.scatter(data[:, 0], data[:, 1])"
   ]
  },
  {
   "cell_type": "code",
   "execution_count": 11,
   "metadata": {},
   "outputs": [
    {
     "data": {
      "text/plain": [
       "[[0], [1], [2], [3], [4], [5], [6], [7], [8], [9]]"
      ]
     },
     "execution_count": 11,
     "metadata": {},
     "output_type": "execute_result"
    }
   ],
   "source": [
    "a = np.arange(10).reshape(10, 1).tolist()\n",
    "a"
   ]
  },
  {
   "cell_type": "code",
   "execution_count": 100,
   "metadata": {},
   "outputs": [],
   "source": [
    "from itertools import combinations\n",
    "\n",
    "class AgglomerativeCluster:\n",
    "    def __init__(self, n_clusters=3, linkage_type='average'):\n",
    "        self.n_clusters = n_clusters\n",
    "        self.linkage_type = linkage_type\n",
    "    \n",
    "    def get_linkage(self, cluster_1, cluster_2):\n",
    "        if self.linkage_type == 'single':  # 最短\n",
    "            linkage = np.inf\n",
    "            for sample_1 in cluster_1:\n",
    "                for sample_2 in cluster_2:\n",
    "                    distance = self.distances[sample_1, sample_2]\n",
    "                    if distance < linkage:\n",
    "                        linkage = distance\n",
    "        elif self.linkage_type == 'complete':  # 最长\n",
    "            linkage = 0\n",
    "            for sample_1 in cluster_1:\n",
    "                for sample_2 in cluster_2:\n",
    "                    distance = self.distances[sample_1, sample_2]\n",
    "                    if distance > linkage:\n",
    "                        linkage = distance\n",
    "        elif self.linkage_type == 'average':  # 平均距离\n",
    "            distances = []\n",
    "            for sample_1 in cluster_1:\n",
    "                for sample_2 in cluster_2:\n",
    "                    distance = self.distances[sample_1, sample_2]\n",
    "                    distances.append(distance)\n",
    "            linkage = np.mean(distances)\n",
    "        else:  # 方差最小化\n",
    "            pass\n",
    "        return linkage\n",
    "    \n",
    "    \n",
    "    def clustering(self, clusters):\n",
    "        while True:\n",
    "            combins = [c for c in combinations(range(len(clusters)), 2)]\n",
    "            linkages = [self.get_linkage(clusters[c[0]], clusters[c[1]]) for c in combins]\n",
    "            # 类间距最小的2个类\n",
    "            min_arg = combins[np.argmin(linkages)]\n",
    "            # 合并距离最短的2个簇\n",
    "            clusters.append(clusters[min_arg[0]] + clusters[min_arg[1]])\n",
    "            \n",
    "            # 注意list pop的顺序 先后再前\n",
    "            clusters.pop(max(min_arg))\n",
    "            clusters.pop(min(min_arg))\n",
    "            if len(clusters) == self.n_clusters:\n",
    "                break\n",
    "        return clusters\n",
    "    \n",
    "    def fit(self, X):\n",
    "        n_samples, n_features = X.shape\n",
    "        # 相同簇的样本放在同一个子list中\n",
    "        clusters = np.arange(n_samples).reshape(n_samples, 1).tolist()\n",
    "        self.labels_ = np.zeros(n_samples, dtype=int)\n",
    "        \n",
    "        # d_{ij} 样本X_i 与 X_j 间距\n",
    "        self.distances = np.zeros((n_samples, n_samples))\n",
    "        for i in range(n_samples):\n",
    "            self.distances[i, :] = np.sqrt(np.sum(np.square(X[i] - X[:]), axis=1))\n",
    "        # 聚合聚类   \n",
    "        self.clusters = self.clustering(clusters)\n",
    "        \n",
    "        # 聚类结果转成labels的形式\n",
    "        for c in range(len(self.clusters)):\n",
    "            for i in clusters[c]:\n",
    "                self.labels_[i] = c\n",
    "    \n",
    "    def predict(self, X):\n",
    "        pass"
   ]
  },
  {
   "cell_type": "code",
   "execution_count": 105,
   "metadata": {},
   "outputs": [],
   "source": [
    "clf = AgglomerativeCluster(3, linkage_type='average')\n",
    "clf.fit(data)"
   ]
  },
  {
   "cell_type": "code",
   "execution_count": 106,
   "metadata": {},
   "outputs": [
    {
     "data": {
      "image/png": "[encoded data removed]",
      "text/plain": [
       "<Figure size 432x288 with 1 Axes>"
      ]
     },
     "metadata": {
      "needs_background": "light"
     },
     "output_type": "display_data"
    }
   ],
   "source": [
    "colors = ['r', 'g', 'b']\n",
    "for i in range(3):\n",
    "    plt.scatter(data[clf.labels_==i, 0], data[clf.labels_==i, 1], color=colors[i])"
   ]
  },
  {
   "cell_type": "markdown",
   "metadata": {},
   "source": [
    "## AgglomerativeClustering"
   ]
  },
  {
   "cell_type": "code",
   "execution_count": 108,
   "metadata": {},
   "outputs": [],
   "source": [
    "from sklearn.datasets import load_iris\n",
    "from sklearn.preprocessing import scale\n",
    "from sklearn.cluster import AgglomerativeClustering"
   ]
  },
  {
   "cell_type": "code",
   "execution_count": 109,
   "metadata": {},
   "outputs": [],
   "source": [
    "iris = load_iris()\n",
    "X = iris.data\n",
    "X_std = scale(X)"
   ]
  },
  {
   "cell_type": "code",
   "execution_count": 110,
   "metadata": {},
   "outputs": [
    {
     "name": "stderr",
     "output_type": "stream",
     "text": [
      "d:\\python3.7\\lib\\importlib\\_bootstrap.py:219: RuntimeWarning: numpy.ufunc size changed, may indicate binary incompatibility. Expected 192 from C header, got 216 from PyObject\n",
      "  return f(*args, **kwds)\n"
     ]
    },
    {
     "data": {
      "text/plain": [
       "AgglomerativeClustering(affinity='euclidean', compute_full_tree='auto',\n",
       "                        connectivity=None, distance_threshold=None,\n",
       "                        linkage='complete', memory=None, n_clusters=3,\n",
       "                        pooling_func='deprecated')"
      ]
     },
     "execution_count": 110,
     "metadata": {},
     "output_type": "execute_result"
    }
   ],
   "source": [
    "clf = AgglomerativeClustering(linkage='complete', affinity='euclidean', n_clusters=3)\n",
    "clf.fit(X_std)"
   ]
  },
  {
   "cell_type": "markdown",
   "metadata": {},
   "source": [
    "需要注意的参数:\n",
    "- affinity: Metric used to compute the linkage. Can be “euclidean”, “l1”, “l2”, “manhattan”, “cosine”, or “precomputed”. default: “euclidean”\n",
    "- linkage: Which linkage criterion to use. [{“ward”, “complete”, “average”, “single”}, optional (default=”ward”)]"
   ]
  },
  {
   "cell_type": "code",
   "execution_count": 112,
   "metadata": {},
   "outputs": [
    {
     "data": {
      "text/plain": [
       "array([1, 1, 1, ..., 0, 0, 0], dtype=int64)"
      ]
     },
     "execution_count": 112,
     "metadata": {},
     "output_type": "execute_result"
    }
   ],
   "source": [
    "clf.labels_"
   ]
  }
 ],
 "metadata": {
  "kernelspec": {
   "display_name": "Python 3",
   "language": "python",
   "name": "python3"
  },
  "language_info": {
   "codemirror_mode": {
    "name": "ipython",
    "version": 3
   },
   "file_extension": ".py",
   "mimetype": "text/x-python",
   "name": "python",
   "nbconvert_exporter": "python",
   "pygments_lexer": "ipython3",
   "version": "3.7.2rc1"
  }
 },
 "nbformat": 4,
 "nbformat_minor": 2
}
