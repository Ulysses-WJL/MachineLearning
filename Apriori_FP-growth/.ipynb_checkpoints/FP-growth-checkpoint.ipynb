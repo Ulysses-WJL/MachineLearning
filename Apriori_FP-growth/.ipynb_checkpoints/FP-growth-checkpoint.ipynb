{
 "cells": [
  {
   "cell_type": "markdown",
   "metadata": {},
   "source": [
    "# 使用FP-growth算法来发现频繁项集\n",
    "---\n",
    "使用 FP-growth算法更有效的挖掘`频繁项集`, 它只需要对数据库进行两次扫描, 而Apriori算法对于每个潜在的频繁项集都会扫描数据集判定给定模式是否频繁.\n",
    "FP-growth算法将数据存储在一种称为FP树的紧凑数据结构中.FP代表频繁模式(Frequent Pattern)\n",
    "\n",
    "使用实例: 搜索引擎自动补全查询词项.\n",
    "\n",
    "基本过程:\n",
    "- 构建FP树\n",
    "- 从FP树中挖掘频繁项集"
   ]
  },
  {
   "cell_type": "code",
   "execution_count": 1,
   "metadata": {},
   "outputs": [],
   "source": [
    "class TreeNode:\n",
    "    def __init__(self, name, counts, parent):\n",
    "        self.name = name  # 节点名称\n",
    "        self.counts = counts  # 节点出现次数\n",
    "        self.parent = parent  # 父节点\n",
    "        self.children = {}  # 子节点\n",
    "        # 节点链接\n",
    "        self.node_link = None  # 用于连接 不同项集 的 相同的项\n",
    "    \n",
    "    def inc(self, counts):\n",
    "        \"\"\"\n",
    "        增加项出现的次数\n",
    "        \"\"\"\n",
    "        self.counts += counts\n",
    "    \n",
    "    def disp(self, index=1):\n",
    "        \"\"\"\n",
    "        文本方式显示树\n",
    "        \"\"\"\n",
    "        print(' ' * index, self.name, ' ', self.counts)"
   ]
  },
  {
   "cell_type": "markdown",
   "metadata": {},
   "source": [
    "## FP-growth 原理\n",
    "[构建FP树](https://github.com/apachecn/AiLearning/blob/master/docs/ml/12.%E4%BD%BF%E7%94%A8FP-growth%E7%AE%97%E6%B3%95%E6%9D%A5%E9%AB%98%E6%95%88%E5%8F%91%E7%8E%B0%E9%A2%91%E7%B9%81%E9%A1%B9%E9%9B%86.md#fp-growth-%E5%8E%9F%E7%90%86)"
   ]
  },
  {
   "cell_type": "code",
   "execution_count": null,
   "metadata": {},
   "outputs": [],
   "source": [
    "class FPTree:\n",
    "    def __init__(self, )"
   ]
  }
 ],
 "metadata": {
  "kernelspec": {
   "display_name": "Python 3",
   "language": "python",
   "name": "python3"
  },
  "language_info": {
   "codemirror_mode": {
    "name": "ipython",
    "version": 3
   },
   "file_extension": ".py",
   "mimetype": "text/x-python",
   "name": "python",
   "nbconvert_exporter": "python",
   "pygments_lexer": "ipython3",
   "version": "3.8.0"
  }
 },
 "nbformat": 4,
 "nbformat_minor": 2
}
