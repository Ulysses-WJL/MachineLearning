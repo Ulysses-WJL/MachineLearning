{
 "cells": [
  {
   "cell_type": "markdown",
   "metadata": {},
   "source": [
    "# Apriori算法\n",
    "--- \n",
    "## 关联分析Association Analysis\n",
    "\n",
    "关联分析是一种在大规模数据集中寻找有趣关系的任务。 这些关系可以有两种形式:\n",
    "\n",
    "- 频繁项集（frequent item sets）: 经常出现在一块的物品的集合。\n",
    "- 关联规则（associational rules）: 暗示两种物品之间可能存在很强的关系。\n",
    "\n",
    "支持度与可信度\n",
    "- 支持度(support): 数据集中包含该项集(子集合)的记录所占的比例\n",
    "- 可信度或置信度(confidence): 一条规则 A -> B 的可信度定义为 support(A | B) / support(A)。\n",
    "\n",
    "`支持度`和 `可信度` 是用来量化` 关联分析 `是否成功的一个方法. 。 假设想找到支持度大于 0.8 的所有项集，应该如何去做呢？ 一个办法是生成一个物品所有可能组合的清单，然后对每一种组合统计它出现的频繁程度，但是当物品成千上万时，上述做法就非常非常慢了."
   ]
  },
  {
   "cell_type": "markdown",
   "metadata": {},
   "source": [
    "## Apriori算法原理\n",
    "假设有4个商品{0, 1, 2, 3}的所有可能的项集合 2^4 - 1 = 15个.随着物品的增加，计算的次数呈指数的形式增长.\n",
    "\n",
    "为了降低计算次数和时间，研究人员发现了一种所谓的 `Apriori `原理，即某个项集是频繁的，那么它的所有子集也是频繁的。 例如，如果 {0, 1} 是频繁的，那么 {0}, {1} 也是频繁的。 该原理直观上没有什么帮助，但是如果反过来看就有用了，也就是说如果一个项集是 `非频繁项集`，那么它的所有`超集`也是非频繁项集.\n",
    "![Apriori](../img/Apriori.png)"
   ]
  },
  {
   "cell_type": "code",
   "execution_count": 1,
   "metadata": {},
   "outputs": [],
   "source": [
    "from itertools import combinations\n",
    "from functools import reduce"
   ]
  },
  {
   "cell_type": "markdown",
   "metadata": {},
   "source": [
    "Apriori 算法优缺点\n",
    "\n",
    "* 优点：易编码实现\n",
    "* 缺点：在大数据集上可能较慢\n",
    "* 适用数据类型：数值型 或者 标称型数据。"
   ]
  },
  {
   "cell_type": "code",
   "execution_count": 4,
   "metadata": {},
   "outputs": [],
   "source": [
    "def create_c1(data_set):\n",
    "    # 生成含单个元素的集合的列表\n",
    "    C1 = []\n",
    "    for transaction in data_set:\n",
    "        for item in transaction:\n",
    "            if not [item] in C1:\n",
    "                C1.append([item])\n",
    "    C1.sort()\n",
    "    # frozenset 不可变集合\n",
    "    return list(map(set, C1))"
   ]
  },
  {
   "cell_type": "code",
   "execution_count": 6,
   "metadata": {},
   "outputs": [],
   "source": [
    "# 加载数据集\n",
    "def loadDataSet():\n",
    "    return [[1, 3, 4], [2, 3, 5], [1, 2, 3, 5], [2, 5]]"
   ]
  },
  {
   "cell_type": "code",
   "execution_count": 7,
   "metadata": {},
   "outputs": [
    {
     "output_type": "execute_result",
     "data": {
      "text/plain": "[{1}, {2}, {3}, {4}, {5}]"
     },
     "metadata": {},
     "execution_count": 7
    }
   ],
   "source": [
    "data = loadDataSet()\n",
    "c1 = create_c1(data)\n",
    "c1"
   ]
  },
  {
   "cell_type": "code",
   "execution_count": 8,
   "metadata": {},
   "outputs": [
    {
     "output_type": "execute_result",
     "data": {
      "text/plain": "{1, 2, 3, 4, 5}"
     },
     "metadata": {},
     "execution_count": 8
    }
   ],
   "source": [
    "reduce(set.union, c1)"
   ]
  },
  {
   "cell_type": "code",
   "execution_count": 9,
   "metadata": {
    "tags": []
   },
   "outputs": [
    {
     "output_type": "stream",
     "name": "stdout",
     "text": "i=0, j=1:  [] []\nunion_set: {1, 2}\ni=0, j=2:  [] []\nunion_set: {1, 3}\ni=0, j=3:  [] []\nunion_set: {1, 4}\ni=0, j=4:  [] []\nunion_set: {1, 5}\ni=1, j=2:  [] []\nunion_set: {2, 3}\ni=1, j=3:  [] []\nunion_set: {2, 4}\ni=1, j=4:  [] []\nunion_set: {2, 5}\ni=2, j=3:  [] []\nunion_set: {3, 4}\ni=2, j=4:  [] []\nunion_set: {3, 5}\ni=3, j=4:  [] []\nunion_set: {4, 5}\n"
    },
    {
     "output_type": "execute_result",
     "data": {
      "text/plain": "[{1, 2},\n {1, 3},\n {1, 4},\n {1, 5},\n {2, 3},\n {2, 4},\n {2, 5},\n {3, 4},\n {3, 5},\n {4, 5}]"
     },
     "metadata": {},
     "execution_count": 9
    }
   ],
   "source": [
    "def apriori_gen(Lk, k):\n",
    "    # 输入频繁项集列表 Lk 与返回的元素个数 k，然后输出所有可能的候选项集 Ck\n",
    "    # ck = [{1, 2}, {0, 1}, {2, 3}] k=3 -> [{0, 1,2 }, {1, 2, 3}, {0, 2, 3}]\n",
    "#         union_set = reduce(set.union, map(set, Lk))\n",
    "#         return list(map(frozenset, combinations(union_set, k)))\n",
    "    retList = []\n",
    "    lenLk = len(Lk)\n",
    "    for i in range(lenLk):\n",
    "        for j in range(i+1, lenLk):\n",
    "            L1 = list(Lk[i])[: k-2]\n",
    "            L2 = list(Lk[j])[: k-2]\n",
    "            # print '-----i=', i, k-2, Lk, Lk[i], list(Lk[i])[: k-2]\n",
    "            # print '-----j=', j, k-2, Lk, Lk[j], list(Lk[j])[: k-2]\n",
    "            L1.sort()\n",
    "            L2.sort()\n",
    "            print(f\"i={i}, j={j}: \", L1, L2)\n",
    "            # 第一次 L1,L2 为空，元素直接进行合并，返回元素两两合并的数据集\n",
    "            # if first k-2 elements are equal\n",
    "            # {1, 2} {1, 3} [1] == [1] -> {1, 2, 3}\n",
    "            # {2, 3} {2, 4} [2] == [2] -> {2, 3, 4}\n",
    "            if L1 == L2:\n",
    "                # set union\n",
    "                # print 'union=', Lk[i] | Lk[j], Lk[i], Lk[j]\n",
    "                union_set = Lk[i] | Lk[j]\n",
    "                print(f\"union_set: {union_set}\")\n",
    "                retList.append(union_set)\n",
    "    return retList\n",
    "\n",
    "# ck = [[{0}, {1}, {2}, {3}]]\n",
    "l = apriori_gen(c1, 2)\n",
    "l"
   ]
  },
  {
   "cell_type": "code",
   "execution_count": 10,
   "metadata": {
    "tags": []
   },
   "outputs": [
    {
     "output_type": "stream",
     "name": "stdout",
     "text": "i=0, j=1:  [1] [1]\nunion_set: {1, 2, 3}\ni=0, j=2:  [1] [1]\nunion_set: {1, 2, 4}\ni=0, j=3:  [1] [1]\nunion_set: {1, 2, 5}\ni=0, j=4:  [1] [2]\ni=0, j=5:  [1] [2]\ni=0, j=6:  [1] [2]\ni=0, j=7:  [1] [3]\ni=0, j=8:  [1] [3]\ni=0, j=9:  [1] [4]\ni=1, j=2:  [1] [1]\nunion_set: {1, 3, 4}\ni=1, j=3:  [1] [1]\nunion_set: {1, 3, 5}\ni=1, j=4:  [1] [2]\ni=1, j=5:  [1] [2]\ni=1, j=6:  [1] [2]\ni=1, j=7:  [1] [3]\ni=1, j=8:  [1] [3]\ni=1, j=9:  [1] [4]\ni=2, j=3:  [1] [1]\nunion_set: {1, 4, 5}\ni=2, j=4:  [1] [2]\ni=2, j=5:  [1] [2]\ni=2, j=6:  [1] [2]\ni=2, j=7:  [1] [3]\ni=2, j=8:  [1] [3]\ni=2, j=9:  [1] [4]\ni=3, j=4:  [1] [2]\ni=3, j=5:  [1] [2]\ni=3, j=6:  [1] [2]\ni=3, j=7:  [1] [3]\ni=3, j=8:  [1] [3]\ni=3, j=9:  [1] [4]\ni=4, j=5:  [2] [2]\nunion_set: {2, 3, 4}\ni=4, j=6:  [2] [2]\nunion_set: {2, 3, 5}\ni=4, j=7:  [2] [3]\ni=4, j=8:  [2] [3]\ni=4, j=9:  [2] [4]\ni=5, j=6:  [2] [2]\nunion_set: {2, 4, 5}\ni=5, j=7:  [2] [3]\ni=5, j=8:  [2] [3]\ni=5, j=9:  [2] [4]\ni=6, j=7:  [2] [3]\ni=6, j=8:  [2] [3]\ni=6, j=9:  [2] [4]\ni=7, j=8:  [3] [3]\nunion_set: {3, 4, 5}\ni=7, j=9:  [3] [4]\ni=8, j=9:  [3] [4]\n"
    },
    {
     "output_type": "execute_result",
     "data": {
      "text/plain": "[{1, 2, 3},\n {1, 2, 4},\n {1, 2, 5},\n {1, 3, 4},\n {1, 3, 5},\n {1, 4, 5},\n {2, 3, 4},\n {2, 3, 5},\n {2, 4, 5},\n {3, 4, 5}]"
     },
     "metadata": {},
     "execution_count": 10
    }
   ],
   "source": [
    "apriori_gen(l, 3)"
   ]
  },
  {
   "cell_type": "code",
   "execution_count": 13,
   "metadata": {},
   "outputs": [],
   "source": [
    "class Apriori:\n",
    "    def __init__(self, min_support=0.5):\n",
    "        # 支持度 >= 最小支持度的候选项集以及它们的支持度。即我们的频繁项集。\n",
    "        self.min_support = min_support\n",
    "    @staticmethod\n",
    "    def create_c1(data_set):\n",
    "        # 生成含单个元素的集合的列表\n",
    "        C_1 = []\n",
    "        for transaction in data_set:\n",
    "            for item in transaction:\n",
    "                if not [item] in C_1:\n",
    "                    C_1.append([item])\n",
    "        C_1.sort()\n",
    "        # frozenset 不可变集合  hashable\n",
    "        return list(map(frozenset, C_1))\n",
    "    \n",
    "    @staticmethod\n",
    "    def apriori_gen(Lk, k):\n",
    "        # 输入频繁项集列表 Lk 与返回的元素个数 k，然后输出所有可能的候选项集 Ck\n",
    "        # ck = [{1, 2}, {0, 1}, {2, 3}] k=3 -> [{0, 1,2 }, {1, 2, 3}, {0, 2, 3}]\n",
    "#         union_set = reduce(set.union, map(set, Lk))\n",
    "#         return list(map(frozenset, combinations(union_set, k)))\n",
    "        retList = []\n",
    "        lenLk = len(Lk)\n",
    "        for i in range(lenLk):\n",
    "            for j in range(i+1, lenLk):\n",
    "                L1 = list(Lk[i])[: k-2]\n",
    "                L2 = list(Lk[j])[: k-2]\n",
    "                # print '-----i=', i, k-2, Lk, Lk[i], list(Lk[i])[: k-2]\n",
    "                # print '-----j=', j, k-2, Lk, Lk[j], list(Lk[j])[: k-2]\n",
    "                L1.sort()\n",
    "                L2.sort()\n",
    "                # 第一次 L1,L2 为空，元素直接进行合并，返回元素两两合并的数据集\n",
    "                # if first k-2 elements are equal\n",
    "                if L1 == L2:\n",
    "                    # set union\n",
    "                    # print 'union=', Lk[i] | Lk[j], Lk[i], Lk[j]\n",
    "                    retList.append(Lk[i] | Lk[j])\n",
    "        return retList\n",
    "    \n",
    "    def fit(self, data):\n",
    "        c_1 = self.create_c1(data)\n",
    "        D = list(map(set, data))\n",
    "        \n",
    "        # 按子集元素个数排列 [[含1个元素的子集,], [2个], [3个]]\n",
    "        support_list = []\n",
    "        l, support_dict = self.scan(D, c_1)\n",
    "        support_list.append(l)\n",
    "        k = 2\n",
    "        while True: \n",
    "            # 由满足支持度条件的ck 生成的含2, 3 ..个元素组成的集合列表\n",
    "            c_k = self.apriori_gen(support_list[k-2], k)\n",
    "            list_, dict_ = self.scan(D, c_k)\n",
    "            support_dict.update(dict_)\n",
    "            \n",
    "            # 子集含元素数目增加过程中 若不满足支持度 超集也不满足\n",
    "            if not list_:\n",
    "                break\n",
    "            support_list.append(list_)\n",
    "            k += 1\n",
    "        return support_dict, support_list\n",
    "            \n",
    "    def scan(self, D, C_k):\n",
    "        \"\"\"scan（计算候选数据集 CK 在数据集 D 中的支持度，并返回支持度大于最小支持度 minSupport 的数据）\n",
    "        Args:\n",
    "            D 数据集\n",
    "            Ck 候选项集列表\n",
    "            minSupport 最小支持度\n",
    "        Returns:\n",
    "            retList 支持度大于 minSupport 的集合\n",
    "            supportData 候选项集支持度数据\n",
    "        \"\"\"\n",
    "        # 数据集ck在数据集D中的支持度, \n",
    "        # 并返回支持度大于最小支持度（minSupport）的数据\n",
    "        \n",
    "        # 计算每个集合的频数\n",
    "        cnt = {}\n",
    "        for set_ in D:\n",
    "            for C in C_k:\n",
    "                # 若C为D中数据集的子集, C频数+1\n",
    "                if C.issubset(set_):\n",
    "                    cnt[C] = cnt.get(C, 0) + 1\n",
    "        num = len(D)\n",
    "        ret_C = {}\n",
    "        retList = []\n",
    "        for key in cnt:\n",
    "            support = cnt[key] / num\n",
    "            if support >= self.min_support:\n",
    "                retList.insert(0, key)\n",
    "            ret_C.update({key: support})\n",
    "                \n",
    "        return retList, ret_C"
   ]
  },
  {
   "cell_type": "code",
   "execution_count": 14,
   "metadata": {},
   "outputs": [],
   "source": [
    "apriori = Apriori(0.5)\n",
    "dict_, l1 = apriori.fit(data)"
   ]
  },
  {
   "cell_type": "code",
   "execution_count": 16,
   "metadata": {},
   "outputs": [
    {
     "output_type": "execute_result",
     "data": {
      "text/plain": "{frozenset({1}): 0.5,\n frozenset({3}): 0.75,\n frozenset({4}): 0.25,\n frozenset({2}): 0.75,\n frozenset({5}): 0.75,\n frozenset({1, 3}): 0.5,\n frozenset({2, 5}): 0.75,\n frozenset({3, 5}): 0.5,\n frozenset({2, 3}): 0.5,\n frozenset({1, 5}): 0.25,\n frozenset({1, 2}): 0.25,\n frozenset({2, 3, 5}): 0.5}"
     },
     "metadata": {},
     "execution_count": 16
    }
   ],
   "source": [
    "dict_"
   ]
  },
  {
   "cell_type": "code",
   "execution_count": 17,
   "metadata": {},
   "outputs": [
    {
     "output_type": "execute_result",
     "data": {
      "text/plain": "[[frozenset({5}), frozenset({2}), frozenset({3}), frozenset({1})],\n [frozenset({2, 3}), frozenset({3, 5}), frozenset({2, 5}), frozenset({1, 3})],\n [frozenset({2, 3, 5})]]"
     },
     "metadata": {},
     "execution_count": 17
    }
   ],
   "source": [
    "l1"
   ]
  },
  {
   "cell_type": "markdown",
   "metadata": {},
   "source": [
    "## 从频繁项集中挖掘关联规则\n",
    "如下图所示，给出的是项集 {0,1,2,3} 产生的所有关联规则:\n",
    "![2](../img/Apriori2.png)\n",
    "\n",
    "通过观察，我们可以知道，如果某条规则并不满足 `最小可信度` 要求，那么该规则的所有子集也不会满足 最小可信度 的要求。\n",
    "如上图所示，假设` 123 -> 3 `并不满足最小可信度要求，那么就知道任何左部为{0,1,2} 子集的规则也不会满足 最小可信度 的要求。 即` 12 -> 03 , 02 -> 13 , 01 -> 23 , 2 -> 013, 1 -> 023, 0 -> 123 `都不满足 最小可信度 要求。"
   ]
  },
  {
   "cell_type": "code",
   "execution_count": 24,
   "metadata": {},
   "outputs": [],
   "source": [
    "class ApriorRules(Apriori):\n",
    "    def __init__(self, min_support=0.5, min_confidence=0.5):\n",
    "        super().__init__(min_support)\n",
    "        self.min_confidence = min_confidence\n",
    "    \n",
    "    def calc_confidence(self, sub_sets, freq_set):\n",
    "        # 递归计算频繁项集的规则\n",
    "        # freq_set: 频繁项集中的元素 {1, 2, 3}\n",
    "        # sub_sets: freq_set子集 组成的list [{1}, {2}, {3}]\n",
    "        # 规则 freq_set - set_ -> set_ 的置信度\n",
    "        subs = []  # freq_set的子集\n",
    "        for set_ in sub_sets:\n",
    "            # (A U B) / (A U B - B)\n",
    "            conf = self.support_dict[freq_set] / self.support_dict[freq_set - set_]\n",
    "            # A --> B\n",
    "            # print(freq_set - set_, set_, conf)\n",
    "            if conf > self.min_confidence:\n",
    "                # {1, 2} ---> {3}, \n",
    "                self.rules.append((freq_set - set_, set_, conf))\n",
    "                subs.append(set_)             \n",
    "        return subs\n",
    "   \n",
    "    def rules_from_conseq(self, freq_set, sub_sets):\n",
    "        # freq_set 频繁集 {1, 2, 3}\n",
    "        # 子元素集合 [{1}, {2}, {3}]  [{1, 2}, {2, 3}, {1, 3}]\n",
    "        sub_len = len(sub_sets[0])  # 每次sub_sets元素长度一致\n",
    "        if len(freq_set) > sub_len:\n",
    "            # 计算 置信度, 返回满足条件的\n",
    "            subs = self.calc_confidence(sub_sets, freq_set)\n",
    "            # 生成元素数量+1的子集\n",
    "            subs = self.apriori_gen(subs, sub_len + 1)\n",
    "\n",
    "            # 例如{0, 1, 2} -> {3} 不符合要求,就不会检查 {0, 2}->{1 , 3} , {0}->{1, 2, 3}了\n",
    "            if len(subs) > 1:\n",
    "                self.rules_from_conseq(freq_set, subs)\n",
    "    \n",
    "    def fit(self, data):\n",
    "        self.support_dict, support_list = super().fit(data)\n",
    "        self.rules = []\n",
    "        for i in range(1, len(support_list)):\n",
    "            for freq_set in support_list[i]:\n",
    "                # {1, 2, 3} -> [{1}, {2}, {3}]\n",
    "                subs = [frozenset([item]) for item in freq_set]\n",
    "                if i > 1: \n",
    "                    self.rules_from_conseq(freq_set, subs)  # {1, 2, 3} -> [{1}, {2}, {3}]\n",
    "                else:\n",
    "                    # 只含2个元素 A -> B, B->A\n",
    "                    self.calc_confidence(subs, freq_set)  # {2, 3}  [{2}, {3}]\n",
    "        return self.rules"
   ]
  },
  {
   "cell_type": "code",
   "execution_count": 25,
   "metadata": {},
   "outputs": [
    {
     "output_type": "execute_result",
     "data": {
      "text/plain": "[(frozenset({3}), frozenset({2}), 0.6666666666666666),\n (frozenset({2}), frozenset({3}), 0.6666666666666666),\n (frozenset({5}), frozenset({3}), 0.6666666666666666),\n (frozenset({3}), frozenset({5}), 0.6666666666666666),\n (frozenset({5}), frozenset({2}), 1.0),\n (frozenset({2}), frozenset({5}), 1.0),\n (frozenset({3}), frozenset({1}), 0.6666666666666666),\n (frozenset({1}), frozenset({3}), 1.0),\n (frozenset({3, 5}), frozenset({2}), 1.0),\n (frozenset({2, 5}), frozenset({3}), 0.6666666666666666),\n (frozenset({2, 3}), frozenset({5}), 1.0),\n (frozenset({5}), frozenset({2, 3}), 0.6666666666666666),\n (frozenset({3}), frozenset({2, 5}), 0.6666666666666666),\n (frozenset({2}), frozenset({3, 5}), 0.6666666666666666)]"
     },
     "metadata": {},
     "execution_count": 25
    }
   ],
   "source": [
    "apriori_rules = ApriorRules()\n",
    "apriori_rules.fit(data)"
   ]
  },
  {
   "cell_type": "markdown",
   "metadata": {},
   "source": [
    "\n",
    "[(frozenset({3}), frozenset({2}), 0.6666666666666666),\n",
    " (frozenset({2}), frozenset({3}), 0.6666666666666666),\n",
    " (frozenset({5}), frozenset({3}), 0.6666666666666666),\n",
    " (frozenset({3}), frozenset({5}), 0.6666666666666666),\n",
    " (frozenset({5}), frozenset({2}), 1.0),\n",
    " (frozenset({2}), frozenset({5}), 1.0),\n",
    " (frozenset({3}), frozenset({1}), 0.6666666666666666),\n",
    " (frozenset({1}), frozenset({3}), 1.0),\n",
    " (frozenset({3, 5}), frozenset({2}), 1.0),\n",
    " (frozenset({2, 5}), frozenset({3}), 0.6666666666666666),\n",
    " (frozenset({2, 3}), frozenset({5}), 1.0),\n",
    " (frozenset({5}), frozenset({2, 3}), 0.6666666666666666),\n",
    " (frozenset({3}), frozenset({2, 5}), 0.6666666666666666),\n",
    " (frozenset({2}), frozenset({3, 5}), 0.6666666666666666)]"
   ]
  },
  {
   "cell_type": "markdown",
   "metadata": {},
   "source": [
    "## 项目案例: 发现毒菇的相似特性"
   ]
  },
  {
   "cell_type": "code",
   "execution_count": 27,
   "metadata": {},
   "outputs": [
    {
     "output_type": "execute_result",
     "data": {
      "text/plain": "array([[  1.,   3.,   9.,  13.,  23.,  25.,  34.,  36.,  38.,  40.,  52.,\n         54.,  59.,  63.,  67.,  76.,  85.,  86.,  90.,  93.,  98., 107.,\n        113.],\n       [  2.,   3.,   9.,  14.,  23.,  26.,  34.,  36.,  39.,  40.,  52.,\n         55.,  59.,  63.,  67.,  76.,  85.,  86.,  90.,  93.,  99., 108.,\n        114.]])"
     },
     "metadata": {},
     "execution_count": 27
    }
   ],
   "source": [
    "import numpy as np\n",
    "\n",
    "mushroom = np.loadtxt('./mushroom.dat')\n",
    "mushroom[:2, :]"
   ]
  },
  {
   "cell_type": "markdown",
   "metadata": {},
   "source": [
    "第一个特征表示有毒或可食用. 有毒为2, 可食用为1. 第二个为蘑菇伞的形状, 有六种可能的值3-8.\n",
    "\n",
    "为了寻找毒蘑菇中存在的公共特征, 寻找包含特征值2的频繁集"
   ]
  },
  {
   "cell_type": "code",
   "execution_count": 28,
   "metadata": {},
   "outputs": [
    {
     "output_type": "execute_result",
     "data": {
      "text/plain": "(8124, 23)"
     },
     "metadata": {},
     "execution_count": 28
    }
   ],
   "source": [
    "mushroom.shape"
   ]
  },
  {
   "cell_type": "code",
   "execution_count": 29,
   "metadata": {},
   "outputs": [],
   "source": [
    "mushroom_apriori= Apriori(min_support=.3)\n",
    "support_dict, support_list = mushroom_apriori.fit(mushroom)"
   ]
  },
  {
   "cell_type": "code",
   "execution_count": 30,
   "metadata": {},
   "outputs": [
    {
     "output_type": "execute_result",
     "data": {
      "text/plain": "({3.0, 85.0, 86.0}): 0.4441161989167898,\n frozenset({23.0, 38.0, 85.0}): 0.04431314623338257,\n frozenset({23.0, 63.0, 85.0}): 0.3741999015263417,\n frozenset({23.0, 85.0, 86.0}): 0.4155588380108321,\n frozenset({23.0, 85.0, 93.0}): 0.39192516001969474,\n frozenset({34.0, 85.0, 86.0}): 0.9731659281142294,\n frozenset({34.0, 85.0, 93.0}): 0.464795667159035,\n frozenset({36.0, 85.0, 86.0}): 0.8148695224027572,\n frozenset({36.0, 85.0, 93.0}): 0.42836041358936483,\n frozenset({38.0, 63.0, 85.0}): 0.18906942392909898,\n frozenset({38.0, 85.0, 86.0}): 0.3082225504677499,\n frozenset({38.0, 85.0, 93.0}): 0.07976366322008863,\n frozenset({52.0, 85.0, 86.0}): 0.40817331363860165,\n frozenset({59.0, 85.0, 86.0}): 0.6134908911866076,\n frozenset({59.0, 85.0, 93.0}): 0.45100935499753814,\n frozenset({63.0, 85.0, 86.0}): 0.5839487936976858,\n frozenset({63.0, 85.0, 93.0}): 0.4273756770064008,\n frozenset({67.0, 85.0, 86.0}): 0.5494830132939439,\n frozenset({67.0, 85.0, 93.0}): 0.3210241260462826,\n frozenset({76.0, 85.0, 86.0}): 0.5396356474643033,\n frozenset({76.0, 85.0, 93.0}): 0.3210241260462826,\n frozenset({1.0, 86.0, 90.0}): 0.46774987690792713,\n frozenset({23.0, 63.0, 86.0}): 0.3741999015263417,\n frozenset({34.0, 86.0, 93.0}): 0.464795667159035,\n frozenset({36.0, 86.0, 93.0}): 0.40472673559822747,\n frozenset({59.0, 86.0, 93.0}): 0.4273756770064008,\n frozenset({67.0, 86.0, 93.0}): 0.3210241260462826,\n frozenset({76.0, 86.0, 93.0}): 0.3210241260462826,\n frozenset({85.0, 86.0, 93.0}): 0.464795667159035,\n frozenset({3.0, 23.0, 90.0}): 0.18906942392909898,\n frozenset({3.0, 34.0, 90.0}): 0.4204825209256524,\n frozenset({3.0, 36.0, 90.0}): 0.35942885278188086,\n frozenset({3.0, 38.0, 90.0}): 0.12604628261939932,\n frozenset({3.0, 52.0, 90.0}): 0.17823732151649435,\n frozenset({3.0, 59.0, 90.0}): 0.27671097981290005,\n frozenset({3.0, 63.0, 90.0}): 0.2619399310684392,\n frozenset({3.0, 67.0, 90.0}): 0.2343673067454456,\n frozenset({3.0, 76.0, 90.0}): 0.23141309699655344,\n frozenset({3.0, 85.0, 90.0}): 0.4263909404234367,\n frozenset({3.0, 86.0, 90.0}): 0.4204825209256524,\n frozenset({3.0, 90.0, 93.0}): 0.2225504677498769,\n frozenset({23.0, 34.0, 90.0}): 0.379123584441162,\n frozenset({23.0, 36.0, 90.0}): 0.3663220088626292,\n frozenset({23.0, 38.0, 90.0}): 0.04431314623338257,\n frozenset({23.0, 52.0, 90.0}): 0.11915312653865091,\n frozenset({23.0, 59.0, 90.0}): 0.36139832594780896,\n frozenset({23.0, 63.0, 90.0}): 0.3377646479566716,\n frozenset({23.0, 67.0, 90.0}): 0.23732151649433778,\n frozenset({23.0, 76.0, 90.0}): 0.23732151649433778,\n frozenset({23.0, 85.0, 90.0}): 0.379123584441162,\n frozenset({23.0, 86.0, 90.0}): 0.379123584441162,\n frozenset({23.0, 90.0, 93.0}): 0.379123584441162,\n frozenset({34.0, 36.0, 90.0}): 0.7720334810438207,\n frozenset({34.0, 38.0, 90.0}): 0.30920728705071393,\n frozenset({34.0, 52.0, 90.0}): 0.3308714918759232,\n frozenset({34.0, 59.0, 90.0}): 0.5593303791235844,\n frozenset({34.0, 63.0, 90.0}): 0.5297882816346627,\n frozenset({34.0, 67.0, 90.0}): 0.4894140817331364,\n frozenset({34.0, 76.0, 90.0}): 0.4795667159034958,\n frozenset({34.0, 85.0, 90.0}): 0.8980797636632201,\n frozenset({34.0, 86.0, 90.0}): 0.897095027080256,\n frozenset({34.0, 90.0, 93.0}): 0.41457410142786805,\n frozenset({36.0, 38.0, 90.0}): 0.2776957163958641,\n frozenset({36.0, 52.0, 90.0}): 0.3348104382077794,\n frozenset({36.0, 59.0, 90.0}): 0.5081240768094535,\n frozenset({36.0, 63.0, 90.0}): 0.47858197932053176,\n frozenset({36.0, 67.0, 90.0}): 0.3643525356967011,\n frozenset({36.0, 76.0, 90.0}): 0.3604135893648449,\n frozenset({36.0, 85.0, 90.0}): 0.7956671590349581,\n frozenset({36.0, 86.0, 90.0}): 0.7720334810438207,\n frozenset({36.0, 90.0, 93.0}): 0.413589364844904,\n frozenset({38.0, 52.0, 90.0}): 0.08468734613490891,\n frozenset({38.0, 59.0, 90.0}): 0.19497784342688332,\n frozenset({38.0, 63.0, 90.0}): 0.18906942392909898,\n frozenset({38.0, 67.0, 90.0}): 0.2018709995076317,\n frozenset({38.0, 76.0, 90.0}): 0.19202363367799113,\n frozenset({38.0, 85.0, 90.0}): 0.30920728705071393,\n frozenset({38.0, 86.0, 90.0}): 0.3082225504677499,\n frozenset({38.0, 90.0, 93.0}): 0.07976366322008863,\n frozenset({52.0, 59.0, 90.0}): 0.18709995076317085,\n frozenset({52.0, 63.0, 90.0}): 0.15755785327424915,\n frozenset({52.0, 67.0, 90.0}): 0.17035942885278188,\n frozenset({52.0, 76.0, 90.0}): 0.1605120630231413,\n frozenset({52.0, 85.0, 90.0}): 0.35450516986706054,\n frozenset({52.0, 86.0, 90.0}): 0.32988675529295913,\n frozenset({52.0, 90.0, 93.0}): 0.17823732151649435,\n frozenset({59.0, 63.0, 90.0}): 0.46627277203348105,\n frozenset({59.0, 67.0, 90.0}): 0.3643525356967011,\n frozenset({59.0, 76.0, 90.0}): 0.36139832594780896,\n frozenset({59.0, 85.0, 90.0}): 0.5829640571147218,\n frozenset({59.0, 86.0, 90.0}): 0.5593303791235844,\n frozenset({59.0, 90.0, 93.0}): 0.4204825209256524,\n frozenset({63.0, 67.0, 90.0}): 0.3348104382077794,\n frozenset({63.0, 76.0, 90.0}): 0.33185622845888724,\n frozenset({63.0, 85.0, 90.0}): 0.5534219596258001,\n frozenset({63.0, 86.0, 90.0}): 0.5297882816346627,\n frozenset({63.0, 90.0, 93.0}): 0.396848842934515,\n frozenset({67.0, 76.0, 90.0}): 0.379123584441162,\n frozenset({67.0, 85.0, 90.0}): 0.4894140817331364,\n frozenset({67.0, 86.0, 90.0}): 0.4894140817331364,\n frozenset({67.0, 90.0, 93.0}): 0.27277203348104384,\n frozenset({76.0, 85.0, 90.0}): 0.4795667159034958,\n frozenset({76.0, 86.0, 90.0}): 0.4795667159034958,\n frozenset({76.0, 90.0, 93.0}): 0.27277203348104384,\n frozenset({85.0, 86.0, 90.0}): 0.897095027080256,\n frozenset({85.0, 90.0, 93.0}): 0.4382077794190054,\n frozenset({86.0, 90.0, 93.0}): 0.41457410142786805,\n frozenset({23.0, 63.0, 93.0}): 0.35056622353520434,\n frozenset({23.0, 86.0, 93.0}): 0.39192516001969474,\n frozenset({63.0, 86.0, 93.0}): 0.4037419990152634,\n frozenset({2.0, 23.0, 34.0}): 0.33874938453963566,\n frozenset({2.0, 23.0, 36.0}): 0.326932545544067,\n frozenset({2.0, 23.0, 59.0}): 0.33874938453963566,\n frozenset({2.0, 23.0, 63.0}): 0.3151157065484983,\n frozenset({2.0, 23.0, 67.0}): 0.18513047759724274,\n frozenset({2.0, 23.0, 76.0}): 0.18513047759724274,\n frozenset({2.0, 23.0, 85.0}): 0.33874938453963566,\n frozenset({2.0, 23.0, 86.0}): 0.33874938453963566,\n frozenset({2.0, 23.0, 90.0}): 0.31117676021664203,\n frozenset({2.0, 23.0, 93.0}): 0.3151157065484983,\n frozenset({2.0, 23.0, 39.0}): 0.326932545544067,\n frozenset({2.0, 34.0, 36.0}): 0.3466272772033481,\n frozenset({2.0, 34.0, 59.0}): 0.4244214672575086,\n frozenset({2.0, 34.0, 63.0}): 0.3948793697685869,\n frozenset({2.0, 34.0, 67.0}): 0.33874938453963566,\n frozenset({2.0, 34.0, 76.0}): 0.3328409650418513,\n frozenset({2.0, 34.0, 85.0}): 0.49433776464795665,\n frozenset({2.0, 34.0, 86.0}): 0.49433776464795665,\n frozenset({2.0, 34.0, 90.0}): 0.4293451501723289,\n frozenset({2.0, 34.0, 93.0}): 0.3643525356967011,\n frozenset({2.0, 34.0, 39.0}): 0.4588872476612506,\n frozenset({2.0, 36.0, 59.0}): 0.3682914820285574,\n frozenset({2.0, 36.0, 63.0}): 0.33874938453963566,\n frozenset({2.0, 36.0, 67.0}): 0.19103889709502708,\n frozenset({2.0, 36.0, 76.0}): 0.19103889709502708,\n frozenset({2.0, 36.0, 85.0}): 0.3702609551944855,\n frozenset({2.0, 36.0, 86.0}): 0.3466272772033481,\n frozenset({2.0, 36.0, 90.0}): 0.34071885770556376,\n frozenset({2.0, 36.0, 93.0}): 0.34071885770556376,\n frozenset({2.0, 36.0, 39.0}): 0.35253569670113244,\n frozenset({2.0, 59.0, 63.0}): 0.3845396356474643,\n frozenset({2.0, 59.0, 67.0}): 0.2708025603151157,\n frozenset({2.0, 59.0, 76.0}): 0.2678483505662235,\n frozenset({2.0, 59.0, 85.0}): 0.448055145248646,\n frozenset({2.0, 59.0, 86.0}): 0.4244214672575086,\n frozenset({2.0, 59.0, 90.0}): 0.40275726243229937,\n frozenset({2.0, 59.0, 93.0}): 0.3682914820285574,\n frozenset({2.0, 39.0, 59.0}): 0.4155588380108321,\n frozenset({2.0, 63.0, 67.0}): 0.24126046282619398,\n frozenset({2.0, 63.0, 76.0}): 0.23830625307730183,\n frozenset({2.0, 63.0, 85.0}): 0.41851304775972425,\n frozenset({2.0, 63.0, 86.0}): 0.3948793697685869,\n frozenset({2.0, 63.0, 90.0}): 0.37321516494337764,\n frozenset({2.0, 63.0, 93.0}): 0.34465780403741997,\n frozenset({2.0, 39.0, 63.0}): 0.39192516001969474,\n frozenset({2.0, 67.0, 76.0}): 0.2796651895617922,\n frozenset({2.0, 67.0, 85.0}): 0.33874938453963566,\n frozenset({2.0, 67.0, 86.0}): 0.33874938453963566,\n frozenset({2.0, 67.0, 90.0}): 0.2875430822255047,\n frozenset({2.0, 67.0, 93.0}): 0.22058099458394878,\n frozenset({2.0, 39.0, 67.0}): 0.3032988675529296,\n frozenset({2.0, 76.0, 85.0}): 0.3328409650418513,\n frozenset({2.0, 76.0, 86.0}): 0.3328409650418513,\n frozenset({2.0, 76.0, 90.0}): 0.2816346627277203,\n frozenset({2.0, 76.0, 93.0}): 0.22058099458394878,\n frozenset({2.0, 39.0, 76.0}): 0.3032988675529296,\n frozenset({2.0, 85.0, 86.0}): 0.49433776464795665,\n frozenset({2.0, 85.0, 90.0}): 0.4529788281634663,\n frozenset({2.0, 85.0, 93.0}): 0.3879862136878385,\n frozenset({2.0, 39.0, 85.0}): 0.48252092565238797,\n frozenset({2.0, 86.0, 90.0}): 0.4293451501723289,\n frozenset({2.0, 86.0, 93.0}): 0.3643525356967011,\n frozenset({2.0, 39.0, 86.0}): 0.4588872476612506,\n frozenset({2.0, 90.0, 93.0}): 0.3466272772033481,\n frozenset({2.0, 39.0, 90.0}): 0.4175283111767602,\n frozenset({2.0, 39.0, 93.0}): 0.3643525356967011,\n frozenset({3.0, 36.0, 39.0}): 0.26489414081733137,\n frozenset({3.0, 39.0, 85.0}): 0.32397833579517477,\n frozenset({3.0, 39.0, 86.0}): 0.31806991629739045,\n frozenset({23.0, 39.0, 63.0}): 0.32988675529295913,\n frozenset({3.0, 34.0, 39.0}): 0.3173313638601674,\n frozenset({23.0, 34.0, 39.0}): 0.37124569177744954,\n frozenset({34.0, 36.0, 39.0}): 0.5349581486952241,\n frozenset({34.0, 39.0, 52.0}): 0.3222550467749877,\n frozenset({34.0, 39.0, 59.0}): 0.41851304775972425,\n frozenset({34.0, 39.0, 63.0}): 0.3948793697685869,\n frozenset({34.0, 39.0, 67.0}): 0.3476120137863122,\n frozenset({34.0, 39.0, 76.0}): 0.3476120137863122,\n frozenset({34.0, 39.0, 85.0}): 0.6649433776464796,\n frozenset({34.0, 39.0, 86.0}): 0.6649433776464796,\n frozenset({34.0, 39.0, 93.0}): 0.3850320039389463,\n frozenset({23.0, 36.0, 39.0}): 0.37124569177744954,\n frozenset({36.0, 39.0, 63.0}): 0.3535204332840965,\n frozenset({36.0, 39.0, 85.0}): 0.5608074839980305,\n frozenset({36.0, 39.0, 86.0}): 0.5371738060068931,\n frozenset({36.0, 39.0, 93.0}): 0.37321516494337764,\n frozenset({36.0, 39.0, 52.0}): 0.3126538650910881,\n frozenset({39.0, 52.0, 85.0}): 0.3481043820777942,\n frozenset({39.0, 52.0, 86.0}): 0.32447070408665685,\n frozenset({23.0, 39.0, 59.0}): 0.3535204332840965,\n frozenset({36.0, 39.0, 59.0}): 0.37715411127523385,\n frozenset({39.0, 59.0, 63.0}): 0.37715411127523385,\n frozenset({39.0, 59.0, 67.0}): 0.26489414081733137,\n frozenset({39.0, 59.0, 76.0}): 0.26489414081733137,\n frozenset({39.0, 59.0, 85.0}): 0.44214672575086167,\n frozenset({39.0, 59.0, 86.0}): 0.41851304775972425,\n frozenset({39.0, 59.0, 93.0}): 0.37124569177744954,\n frozenset({36.0, 39.0, 67.0}): 0.21762678483505662,\n frozenset({39.0, 63.0, 67.0}): 0.24126046282619398,\n frozenset({39.0, 67.0, 76.0}): 0.2944362383062531,\n frozenset({39.0, 67.0, 85.0}): 0.3476120137863122,\n frozenset({39.0, 67.0, 86.0}): 0.3476120137863122,\n frozenset({39.0, 67.0, 93.0}): 0.24126046282619398,\n frozenset({36.0, 39.0, 76.0}): 0.21762678483505662,\n frozenset({39.0, 63.0, 76.0}): 0.24126046282619398,\n frozenset({39.0, 76.0, 85.0}): 0.3476120137863122,\n frozenset({39.0, 76.0, 86.0}): 0.3476120137863122,\n frozenset({39.0, 76.0, 93.0}): 0.24126046282619398,\n frozenset({23.0, 39.0, 85.0}): 0.37124569177744954,\n frozenset({39.0, 63.0, 85.0}): 0.41851304775972425,\n frozenset({39.0, 85.0, 86.0}): 0.6671590349581487,\n frozenset({39.0, 85.0, 93.0}): 0.4086656819300837,\n frozenset({23.0, 39.0, 86.0}): 0.37124569177744954,\n frozenset({39.0, 63.0, 86.0}): 0.3948793697685869,\n frozenset({3.0, 39.0, 90.0}): 0.3003446578040374,\n frozenset({23.0, 39.0, 90.0}): 0.3348104382077794,\n frozenset({34.0, 39.0, 90.0}): 0.5888724766125062,\n frozenset({36.0, 39.0, 90.0}): 0.517971442639094,\n frozenset({39.0, 52.0, 90.0}): 0.26981782373215163,\n frozenset({39.0, 59.0, 90.0}): 0.3879862136878385,\n frozenset({39.0, 63.0, 90.0}): 0.3643525356967011,\n frozenset({39.0, 67.0, 90.0}): 0.2875430822255047,\n frozenset({39.0, 76.0, 90.0}): 0.2875430822255047,\n frozenset({39.0, 85.0, 90.0}): 0.6125061546036435,\n frozenset({39.0, 86.0, 90.0}): 0.5888724766125062,\n frozenset({39.0, 90.0, 93.0}): 0.3584441161989168,\n frozenset({23.0, 39.0, 93.0}): 0.3476120137863122,\n frozenset({39.0, 63.0, 93.0}): 0.3476120137863122,\n frozenset({39.0, 86.0, 93.0}): 0.3850320039389463,\n frozenset({10.0, 34.0, 36.0}): 0.3926637124569178,\n frozenset({10.0, 34.0, 85.0}): 0.397095027080256,\n frozenset({10.0, 34.0, 86.0}): 0.39611029049729196,\n frozenset({10.0, 34.0, 90.0}): 0.37567700640078777,\n frozenset({10.0, 36.0, 85.0}): 0.3948793697685869,\n frozenset({10.0, 36.0, 86.0}): 0.3948793697685869,\n frozenset({10.0, 36.0, 90.0}): 0.37124569177744954,\n frozenset({10.0, 85.0, 86.0}): 0.3983259478089611,\n frozenset({10.0, 85.0, 90.0}): 0.37567700640078777,\n frozenset({10.0, 86.0, 90.0}): 0.3746922698178237,\n frozenset({24.0, 34.0, 85.0}): 0.5585918266863614,\n frozenset({24.0, 34.0, 86.0}): 0.5576070901033974,\n frozenset({24.0, 34.0, 90.0}): 0.5189561792220581,\n frozenset({24.0, 34.0, 39.0}): 0.29369768586903006,\n frozenset({24.0, 34.0, 53.0}): 0.3072378138847858,\n frozenset({24.0, 34.0, 94.0}): 0.31806991629739045,\n frozenset({24.0, 85.0, 86.0}): 0.5598227474150664,\n frozenset({24.0, 85.0, 90.0}): 0.5425898572131955,\n frozenset({24.0, 39.0, 85.0}): 0.31954702117183653,\n frozenset({24.0, 53.0, 85.0}): 0.3072378138847858,\n frozenset({24.0, 85.0, 94.0}): 0.31806991629739045,\n frozenset({24.0, 86.0, 90.0}): 0.517971442639094,\n frozenset({24.0, 39.0, 86.0}): 0.2959133431806992,\n frozenset({24.0, 53.0, 86.0}): 0.3072378138847858,\n frozenset({24.0, 86.0, 94.0}): 0.3170851797144264,\n frozenset({24.0, 39.0, 90.0}): 0.2776957163958641,\n frozenset({24.0, 53.0, 90.0}): 0.3072378138847858,\n frozenset({24.0, 90.0, 94.0}): 0.31806991629739045,\n frozenset({24.0, 39.0, 53.0}): 0.09453471196454949,\n frozenset({24.0, 39.0, 94.0}): 0.09453471196454949,\n frozenset({28.0, 34.0, 53.0}): 0.3072378138847858,\n frozenset({28.0, 34.0, 94.0}): 0.12900049236829148,\n frozenset({28.0, 34.0, 39.0}): 0.3810930576070901,\n frozenset({3.0, 28.0, 34.0}): 0.18562284588872477,\n frozenset({28.0, 34.0, 59.0}): 0.3357951747907435,\n frozenset({28.0, 34.0, 63.0}): 0.32988675529295913,\n frozenset({28.0, 34.0, 67.0}): 0.25406203840472674,\n frozenset({28.0, 34.0, 76.0}): 0.24421467257508617,\n frozenset({28.0, 34.0, 85.0}): 0.41063515509601184,\n frozenset({28.0, 34.0, 86.0}): 0.4096504185130478,\n frozenset({28.0, 53.0, 59.0}): 0.25997045790251105,\n frozenset({28.0, 39.0, 59.0}): 0.3377646479566716,\n frozenset({28.0, 59.0, 63.0}): 0.31954702117183653,\n frozenset({28.0, 59.0, 67.0}): 0.18217626784835056,\n frozenset({28.0, 59.0, 76.0}): 0.1792220580994584,\n frozenset({28.0, 59.0, 85.0}): 0.35942885278188086,\n frozenset({28.0, 59.0, 86.0}): 0.3357951747907435,\n frozenset({28.0, 63.0, 85.0}): 0.3535204332840965,\n frozenset({28.0, 63.0, 86.0}): 0.32988675529295913,\n frozenset({28.0, 39.0, 63.0}): 0.3377646479566716,\n frozenset({28.0, 53.0, 63.0}): 0.25997045790251105,\n frozenset({28.0, 85.0, 86.0}): 0.4096504185130478,\n frozenset({28.0, 39.0, 85.0}): 0.40472673559822747,\n frozenset({28.0, 53.0, 85.0}): 0.3072378138847858,\n frozenset({28.0, 39.0, 86.0}): 0.3810930576070901,\n frozenset({28.0, 53.0, 86.0}): 0.3072378138847858,\n frozenset({28.0, 53.0, 90.0}): 0.3072378138847858,\n frozenset({28.0, 90.0, 94.0}): 0.10536681437715412,\n frozenset({28.0, 39.0, 90.0}): 0.3308714918759232,\n frozenset({3.0, 28.0, 90.0}): 0.16937469226981783,\n frozenset({28.0, 34.0, 90.0}): 0.33677991137370755,\n frozenset({28.0, 59.0, 90.0}): 0.3052683407188577,\n frozenset({28.0, 63.0, 90.0}): 0.29935992122107336,\n frozenset({28.0, 67.0, 90.0}): 0.19399310684391924,\n frozenset({28.0, 76.0, 90.0}): 0.1841457410142787,\n frozenset({28.0, 85.0, 90.0}): 0.3604135893648449,\n frozenset({28.0, 86.0, 90.0}): 0.3357951747907435,\n frozenset({2.0, 28.0, 53.0}): 0.3072378138847858,\n frozenset({2.0, 28.0, 34.0}): 0.39586410635155095,\n frozenset({2.0, 28.0, 59.0}): 0.3495814869522403,\n frozenset({2.0, 28.0, 63.0}): 0.3436730674544559,\n frozenset({2.0, 28.0, 67.0}): 0.24027572624322993,\n frozenset({2.0, 28.0, 76.0}): 0.2343673067454456,\n frozenset({2.0, 28.0, 85.0}): 0.4194977843426883,\n frozenset({2.0, 28.0, 86.0}): 0.39586410635155095,\n frozenset({2.0, 28.0, 90.0}): 0.35450516986706054,\n frozenset({2.0, 28.0, 39.0}): 0.39586410635155095,\n frozenset({28.0, 39.0, 53.0}): 0.3072378138847858,\n frozenset({34.0, 53.0, 94.0}): 0.3072378138847858,\n frozenset({34.0, 39.0, 53.0}): 0.34268833087149186,\n frozenset({3.0, 34.0, 53.0}): 0.2481536189069424,\n frozenset({34.0, 53.0, 59.0}): 0.39586410635155095,\n frozenset({34.0, 53.0, 63.0}): 0.39586410635155095,\n frozenset({34.0, 53.0, 67.0}): 0.3190546528803545,\n frozenset({34.0, 53.0, 76.0}): 0.3190546528803545,\n frozenset({34.0, 53.0, 85.0}): 0.5672082717872969,\n frozenset({34.0, 53.0, 86.0}): 0.5672082717872969,\n frozenset({39.0, 53.0, 59.0}): 0.2776957163958641,\n frozenset({53.0, 59.0, 63.0}): 0.310192023633678,\n frozenset({53.0, 59.0, 67.0}): 0.20088626292466766,\n frozenset({53.0, 59.0, 76.0}): 0.20088626292466766,\n frozenset({53.0, 59.0, 85.0}): 0.39586410635155095,\n frozenset({53.0, 59.0, 86.0}): 0.39586410635155095,\n frozenset({53.0, 63.0, 86.0}): 0.39586410635155095,\n frozenset({39.0, 53.0, 63.0}): 0.2776957163958641,\n frozenset({53.0, 63.0, 94.0}): 0.1536189069423929,\n frozenset({39.0, 53.0, 67.0}): 0.20088626292466766,\n frozenset({53.0, 63.0, 67.0}): 0.20088626292466766,\n frozenset({53.0, 67.0, 76.0}): 0.21861152141802068,\n frozenset({53.0, 67.0, 85.0}): 0.3190546528803545,\n frozenset({53.0, 67.0, 86.0}): 0.3190546528803545,\n frozenset({39.0, 53.0, 76.0}): 0.20088626292466766,\n frozenset({53.0, 63.0, 76.0}): 0.20088626292466766,\n frozenset({53.0, 76.0, 85.0}): 0.3190546528803545,\n frozenset({53.0, 76.0, 86.0}): 0.3190546528803545,\n frozenset({53.0, 85.0, 94.0}): 0.3072378138847858,\n frozenset({39.0, 53.0, 85.0}): 0.34268833087149186,\n frozenset({53.0, 63.0, 85.0}): 0.39586410635155095,\n frozenset({53.0, 85.0, 86.0}): 0.5672082717872969,\n frozenset({39.0, 53.0, 86.0}): 0.34268833087149186,\n frozenset({53.0, 86.0, 94.0}): 0.3072378138847858,\n frozenset({53.0, 90.0, 94.0}): 0.3072378138847858,\n frozenset({39.0, 53.0, 90.0}): 0.34268833087149186,\n frozenset({3.0, 53.0, 90.0}): 0.2481536189069424,\n frozenset({34.0, 53.0, 90.0}): 0.5672082717872969,\n frozenset({53.0, 59.0, 90.0}): 0.39586410635155095,\n frozenset({53.0, 63.0, 90.0}): 0.39586410635155095,\n frozenset({53.0, 67.0, 90.0}): 0.3190546528803545,\n frozenset({53.0, 76.0, 90.0}): 0.3190546528803545,\n frozenset({53.0, 85.0, 90.0}): 0.5672082717872969,\n frozenset({53.0, 86.0, 90.0}): 0.5672082717872969,\n frozenset({2.0, 34.0, 53.0}): 0.3190546528803545,\n frozenset({2.0, 53.0, 59.0}): 0.2717872968980798,\n frozenset({2.0, 53.0, 63.0}): 0.2717872968980798,\n frozenset({2.0, 53.0, 67.0}): 0.17725258493353027,\n frozenset({2.0, 53.0, 76.0}): 0.17725258493353027,\n frozenset({2.0, 53.0, 85.0}): 0.3190546528803545,\n frozenset({2.0, 53.0, 86.0}): 0.3190546528803545,\n frozenset({2.0, 53.0, 90.0}): 0.3190546528803545,\n frozenset({2.0, 39.0, 53.0}): 0.3072378138847858,\n frozenset({39.0, 53.0, 94.0}): 0.09453471196454949,\n frozenset({24.0, 53.0, 94.0}): 0.3072378138847858,\n frozenset({34.0, 39.0, 94.0}): 0.11816838995568685,\n frozenset({3.0, 34.0, 94.0}): 0.12900049236829148,\n frozenset({34.0, 59.0, 94.0}): 0.18020679468242246,\n frozenset({34.0, 63.0, 94.0}): 0.18020679468242246,\n frozenset({34.0, 67.0, 94.0}): 0.2225504677498769,\n frozenset({34.0, 76.0, 94.0}): 0.21270310192023634,\n frozenset({34.0, 85.0, 94.0}): 0.3417035942885278,\n frozenset({34.0, 86.0, 94.0}): 0.34071885770556376,\n frozenset({39.0, 85.0, 94.0}): 0.11816838995568685,\n frozenset({63.0, 85.0, 94.0}): 0.18020679468242246,\n frozenset({85.0, 86.0, 94.0}): 0.34071885770556376,\n frozenset({39.0, 86.0, 94.0}): 0.11816838995568685,\n frozenset({63.0, 86.0, 94.0}): 0.18020679468242246,\n ...}"
     },
     "metadata": {},
     "execution_count": 30
    }
   ],
   "source": [
    "support_dict"
   ]
  },
  {
   "cell_type": "code",
   "execution_count": 31,
   "metadata": {},
   "outputs": [
    {
     "output_type": "execute_result",
     "data": {
      "text/plain": "{23.0, 34.0, 39.0, 63.0, 85.0, 86.0}),\n  frozenset({34.0, 39.0, 59.0, 85.0, 86.0, 93.0}),\n  frozenset({23.0, 34.0, 39.0, 85.0, 86.0, 93.0}),\n  frozenset({34.0, 39.0, 63.0, 85.0, 86.0, 93.0}),\n  frozenset({34.0, 39.0, 59.0, 85.0, 86.0, 90.0}),\n  frozenset({23.0, 34.0, 39.0, 85.0, 86.0, 90.0}),\n  frozenset({34.0, 39.0, 63.0, 85.0, 86.0, 90.0}),\n  frozenset({34.0, 39.0, 85.0, 86.0, 90.0, 93.0}),\n  frozenset({23.0, 34.0, 39.0, 59.0, 63.0, 86.0}),\n  frozenset({23.0, 34.0, 39.0, 59.0, 86.0, 93.0}),\n  frozenset({23.0, 34.0, 39.0, 63.0, 86.0, 93.0}),\n  frozenset({23.0, 34.0, 39.0, 59.0, 86.0, 90.0}),\n  frozenset({23.0, 34.0, 39.0, 86.0, 90.0, 93.0}),\n  frozenset({34.0, 39.0, 59.0, 63.0, 86.0, 90.0}),\n  frozenset({23.0, 34.0, 39.0, 59.0, 90.0, 93.0}),\n  frozenset({34.0, 39.0, 59.0, 85.0, 90.0, 93.0}),\n  frozenset({34.0, 39.0, 59.0, 86.0, 90.0, 93.0}),\n  frozenset({23.0, 36.0, 39.0, 59.0, 63.0, 85.0}),\n  frozenset({23.0, 36.0, 39.0, 59.0, 85.0, 93.0}),\n  frozenset({23.0, 36.0, 39.0, 63.0, 85.0, 93.0}),\n  frozenset({23.0, 36.0, 39.0, 59.0, 85.0, 90.0}),\n  frozenset({23.0, 36.0, 39.0, 85.0, 90.0, 93.0}),\n  frozenset({23.0, 36.0, 39.0, 59.0, 85.0, 86.0}),\n  frozenset({36.0, 39.0, 59.0, 63.0, 85.0, 86.0}),\n  frozenset({23.0, 36.0, 39.0, 63.0, 85.0, 86.0}),\n  frozenset({36.0, 39.0, 59.0, 85.0, 86.0, 93.0}),\n  frozenset({23.0, 36.0, 39.0, 85.0, 86.0, 93.0}),\n  frozenset({36.0, 39.0, 63.0, 85.0, 86.0, 93.0}),\n  frozenset({36.0, 39.0, 59.0, 85.0, 86.0, 90.0}),\n  frozenset({23.0, 36.0, 39.0, 85.0, 86.0, 90.0}),\n  frozenset({36.0, 39.0, 85.0, 86.0, 90.0, 93.0}),\n  frozenset({23.0, 36.0, 39.0, 59.0, 63.0, 86.0}),\n  frozenset({23.0, 36.0, 39.0, 59.0, 86.0, 93.0}),\n  frozenset({23.0, 36.0, 39.0, 63.0, 86.0, 93.0}),\n  frozenset({23.0, 36.0, 39.0, 59.0, 86.0, 90.0}),\n  frozenset({23.0, 36.0, 39.0, 86.0, 90.0, 93.0}),\n  frozenset({36.0, 39.0, 59.0, 63.0, 85.0, 93.0}),\n  frozenset({36.0, 39.0, 63.0, 85.0, 90.0, 93.0}),\n  frozenset({23.0, 36.0, 39.0, 59.0, 90.0, 93.0}),\n  frozenset({36.0, 39.0, 59.0, 63.0, 85.0, 90.0}),\n  frozenset({36.0, 39.0, 59.0, 85.0, 90.0, 93.0}),\n  frozenset({36.0, 39.0, 59.0, 86.0, 90.0, 93.0}),\n  frozenset({39.0, 59.0, 63.0, 85.0, 86.0, 93.0}),\n  frozenset({23.0, 39.0, 59.0, 63.0, 85.0, 86.0}),\n  frozenset({23.0, 39.0, 59.0, 85.0, 86.0, 93.0}),\n  frozenset({23.0, 39.0, 63.0, 85.0, 86.0, 93.0}),\n  frozenset({23.0, 39.0, 59.0, 85.0, 86.0, 90.0}),\n  frozenset({23.0, 39.0, 85.0, 86.0, 90.0, 93.0}),\n  frozenset({39.0, 59.0, 63.0, 85.0, 86.0, 90.0}),\n  frozenset({23.0, 39.0, 59.0, 85.0, 90.0, 93.0}),\n  frozenset({39.0, 59.0, 85.0, 86.0, 90.0, 93.0}),\n  frozenset({36.0, 39.0, 59.0, 63.0, 90.0, 93.0}),\n  frozenset({39.0, 59.0, 63.0, 85.0, 90.0, 93.0}),\n  frozenset({23.0, 39.0, 59.0, 86.0, 90.0, 93.0}),\n  frozenset({1.0, 34.0, 36.0, 85.0, 86.0, 90.0}),\n  frozenset({3.0, 34.0, 36.0, 85.0, 86.0, 90.0}),\n  frozenset({23.0, 34.0, 36.0, 59.0, 63.0, 93.0}),\n  frozenset({23.0, 34.0, 36.0, 59.0, 63.0, 90.0}),\n  frozenset({23.0, 34.0, 36.0, 63.0, 85.0, 93.0}),\n  frozenset({23.0, 34.0, 36.0, 59.0, 63.0, 85.0}),\n  frozenset({23.0, 34.0, 36.0, 59.0, 85.0, 93.0}),\n  frozenset({23.0, 34.0, 36.0, 63.0, 85.0, 90.0}),\n  frozenset({23.0, 34.0, 36.0, 85.0, 90.0, 93.0}),\n  frozenset({23.0, 34.0, 36.0, 59.0, 85.0, 90.0}),\n  frozenset({34.0, 36.0, 52.0, 85.0, 86.0, 90.0}),\n  frozenset({23.0, 34.0, 36.0, 63.0, 85.0, 86.0}),\n  frozenset({34.0, 36.0, 59.0, 76.0, 85.0, 86.0}),\n  frozenset({34.0, 36.0, 76.0, 85.0, 86.0, 90.0}),\n  frozenset({23.0, 34.0, 36.0, 63.0, 86.0, 93.0}),\n  frozenset({23.0, 34.0, 36.0, 59.0, 63.0, 86.0}),\n  frozenset({23.0, 34.0, 36.0, 59.0, 86.0, 93.0}),\n  frozenset({23.0, 34.0, 36.0, 63.0, 86.0, 90.0}),\n  frozenset({23.0, 34.0, 36.0, 86.0, 90.0, 93.0}),\n  frozenset({23.0, 34.0, 36.0, 59.0, 86.0, 90.0}),\n  frozenset({23.0, 34.0, 36.0, 85.0, 86.0, 93.0}),\n  frozenset({34.0, 36.0, 63.0, 85.0, 86.0, 93.0}),\n  frozenset({23.0, 34.0, 36.0, 59.0, 85.0, 86.0}),\n  frozenset({34.0, 36.0, 59.0, 63.0, 85.0, 86.0}),\n  frozenset({34.0, 36.0, 59.0, 85.0, 86.0, 93.0}),\n  frozenset({23.0, 34.0, 36.0, 85.0, 86.0, 90.0}),\n  frozenset({34.0, 36.0, 63.0, 85.0, 86.0, 90.0}),\n  frozenset({34.0, 36.0, 85.0, 86.0, 90.0, 93.0}),\n  frozenset({34.0, 36.0, 59.0, 85.0, 86.0, 90.0}),\n  frozenset({23.0, 34.0, 36.0, 59.0, 90.0, 93.0}),\n  frozenset({23.0, 34.0, 36.0, 63.0, 90.0, 93.0}),\n  frozenset({34.0, 36.0, 59.0, 63.0, 85.0, 93.0}),\n  frozenset({34.0, 36.0, 63.0, 85.0, 90.0, 93.0}),\n  frozenset({34.0, 36.0, 59.0, 63.0, 86.0, 93.0}),\n  frozenset({34.0, 36.0, 63.0, 86.0, 90.0, 93.0}),\n  frozenset({23.0, 34.0, 59.0, 63.0, 85.0, 93.0}),\n  frozenset({34.0, 36.0, 59.0, 63.0, 85.0, 90.0}),\n  frozenset({34.0, 36.0, 59.0, 85.0, 90.0, 93.0}),\n  frozenset({23.0, 34.0, 59.0, 63.0, 86.0, 93.0}),\n  frozenset({34.0, 36.0, 59.0, 63.0, 86.0, 90.0}),\n  frozenset({34.0, 36.0, 59.0, 86.0, 90.0, 93.0}),\n  frozenset({34.0, 59.0, 63.0, 85.0, 86.0, 93.0}),\n  frozenset({23.0, 36.0, 59.0, 63.0, 85.0, 93.0}),\n  frozenset({23.0, 36.0, 59.0, 63.0, 86.0, 93.0}),\n  frozenset({36.0, 59.0, 63.0, 85.0, 86.0, 93.0}),\n  frozenset({23.0, 34.0, 59.0, 63.0, 85.0, 90.0}),\n  frozenset({23.0, 34.0, 59.0, 63.0, 86.0, 90.0}),\n  frozenset({23.0, 36.0, 59.0, 63.0, 85.0, 90.0}),\n  frozenset({23.0, 36.0, 59.0, 63.0, 86.0, 90.0}),\n  frozenset({34.0, 36.0, 59.0, 67.0, 85.0, 86.0}),\n  frozenset({34.0, 36.0, 67.0, 85.0, 86.0, 90.0}),\n  frozenset({34.0, 59.0, 63.0, 67.0, 85.0, 86.0}),\n  frozenset({34.0, 59.0, 67.0, 76.0, 85.0, 86.0}),\n  frozenset({34.0, 67.0, 76.0, 85.0, 86.0, 90.0}),\n  frozenset({34.0, 59.0, 67.0, 85.0, 86.0, 90.0}),\n  frozenset({34.0, 63.0, 67.0, 85.0, 86.0, 90.0}),\n  frozenset({34.0, 59.0, 63.0, 76.0, 85.0, 86.0}),\n  frozenset({34.0, 59.0, 76.0, 85.0, 86.0, 90.0}),\n  frozenset({34.0, 63.0, 76.0, 85.0, 86.0, 90.0}),\n  frozenset({23.0, 34.0, 59.0, 63.0, 85.0, 86.0}),\n  frozenset({23.0, 34.0, 59.0, 85.0, 86.0, 93.0}),\n  frozenset({23.0, 34.0, 63.0, 85.0, 86.0, 93.0}),\n  frozenset({23.0, 34.0, 59.0, 85.0, 86.0, 90.0}),\n  frozenset({23.0, 34.0, 63.0, 85.0, 86.0, 90.0}),\n  frozenset({23.0, 34.0, 85.0, 86.0, 90.0, 93.0}),\n  frozenset({34.0, 59.0, 63.0, 85.0, 86.0, 90.0}),\n  frozenset({23.0, 34.0, 59.0, 85.0, 90.0, 93.0}),\n  frozenset({23.0, 34.0, 63.0, 85.0, 90.0, 93.0}),\n  frozenset({23.0, 36.0, 59.0, 63.0, 85.0, 86.0}),\n  frozenset({23.0, 36.0, 59.0, 85.0, 86.0, 93.0}),\n  frozenset({23.0, 36.0, 63.0, 85.0, 86.0, 93.0}),\n  frozenset({23.0, 36.0, 59.0, 85.0, 86.0, 90.0}),\n  frozenset({23.0, 36.0, 63.0, 85.0, 86.0, 90.0}),\n  frozenset({23.0, 36.0, 85.0, 86.0, 90.0, 93.0}),\n  frozenset({36.0, 59.0, 63.0, 85.0, 86.0, 90.0}),\n  frozenset({23.0, 36.0, 59.0, 85.0, 90.0, 93.0}),\n  frozenset({23.0, 36.0, 63.0, 85.0, 90.0, 93.0}),\n  frozenset({23.0, 59.0, 63.0, 85.0, 86.0, 93.0}),\n  frozenset({23.0, 59.0, 63.0, 85.0, 86.0, 90.0}),\n  frozenset({23.0, 34.0, 59.0, 86.0, 90.0, 93.0}),\n  frozenset({23.0, 34.0, 63.0, 86.0, 90.0, 93.0}),\n  frozenset({34.0, 59.0, 85.0, 86.0, 90.0, 93.0}),\n  frozenset({34.0, 63.0, 85.0, 86.0, 90.0, 93.0}),\n  frozenset({23.0, 36.0, 59.0, 86.0, 90.0, 93.0}),\n  frozenset({23.0, 36.0, 63.0, 86.0, 90.0, 93.0}),\n  frozenset({36.0, 59.0, 85.0, 86.0, 90.0, 93.0}),\n  frozenset({36.0, 63.0, 85.0, 86.0, 90.0, 93.0}),\n  frozenset({23.0, 59.0, 85.0, 86.0, 90.0, 93.0}),\n  frozenset({23.0, 63.0, 85.0, 86.0, 90.0, 93.0}),\n  frozenset({23.0, 34.0, 59.0, 63.0, 90.0, 93.0}),\n  frozenset({34.0, 36.0, 59.0, 63.0, 90.0, 93.0}),\n  frozenset({34.0, 59.0, 63.0, 85.0, 90.0, 93.0}),\n  frozenset({34.0, 59.0, 63.0, 86.0, 90.0, 93.0}),\n  frozenset({23.0, 36.0, 59.0, 63.0, 90.0, 93.0}),\n  frozenset({36.0, 59.0, 63.0, 85.0, 90.0, 93.0}),\n  frozenset({36.0, 59.0, 63.0, 86.0, 90.0, 93.0}),\n  frozenset({23.0, 59.0, 63.0, 85.0, 90.0, 93.0}),\n  frozenset({23.0, 59.0, 63.0, 86.0, 90.0, 93.0}),\n  frozenset({59.0, 63.0, 85.0, 86.0, 90.0, 93.0})],\n [frozenset({1.0, 24.0, 36.0, 85.0, 86.0, 90.0, 110.0}),\n  frozenset({1.0, 24.0, 34.0, 36.0, 86.0, 90.0, 110.0}),\n  frozenset({1.0, 24.0, 34.0, 36.0, 85.0, 90.0, 110.0}),\n  frozenset({1.0, 24.0, 34.0, 36.0, 85.0, 86.0, 110.0}),\n  frozenset({1.0, 24.0, 34.0, 85.0, 86.0, 90.0, 110.0}),\n  frozenset({1.0, 24.0, 34.0, 36.0, 85.0, 86.0, 90.0}),\n  frozenset({34.0, 36.0, 53.0, 85.0, 86.0, 90.0, 110.0}),\n  frozenset({34.0, 36.0, 53.0, 63.0, 85.0, 86.0, 90.0}),\n  frozenset({34.0, 36.0, 53.0, 59.0, 85.0, 86.0, 90.0}),\n  frozenset({34.0, 36.0, 39.0, 56.0, 85.0, 86.0, 90.0}),\n  frozenset({24.0, 34.0, 36.0, 85.0, 86.0, 90.0, 110.0}),\n  frozenset({1.0, 34.0, 36.0, 85.0, 86.0, 90.0, 110.0}),\n  frozenset({2.0, 28.0, 39.0, 53.0, 85.0, 86.0, 90.0}),\n  frozenset({2.0, 28.0, 34.0, 39.0, 53.0, 86.0, 90.0}),\n  frozenset({2.0, 28.0, 34.0, 39.0, 53.0, 85.0, 90.0}),\n  frozenset({2.0, 28.0, 34.0, 39.0, 53.0, 85.0, 86.0}),\n  frozenset({2.0, 34.0, 39.0, 53.0, 85.0, 86.0, 90.0}),\n  frozenset({2.0, 28.0, 34.0, 53.0, 85.0, 86.0, 90.0}),\n  frozenset({34.0, 53.0, 59.0, 63.0, 85.0, 86.0, 90.0}),\n  frozenset({24.0, 34.0, 53.0, 85.0, 86.0, 90.0, 94.0}),\n  frozenset({28.0, 34.0, 39.0, 53.0, 85.0, 86.0, 90.0}),\n  frozenset({2.0, 28.0, 34.0, 39.0, 59.0, 85.0, 86.0}),\n  frozenset({2.0, 28.0, 34.0, 39.0, 85.0, 86.0, 90.0}),\n  frozenset({2.0, 28.0, 34.0, 39.0, 63.0, 85.0, 86.0}),\n  frozenset({23.0, 39.0, 59.0, 85.0, 86.0, 90.0, 93.0}),\n  frozenset({36.0, 39.0, 59.0, 63.0, 85.0, 90.0, 93.0}),\n  frozenset({23.0, 36.0, 39.0, 59.0, 86.0, 90.0, 93.0}),\n  frozenset({36.0, 39.0, 59.0, 85.0, 86.0, 90.0, 93.0}),\n  frozenset({23.0, 36.0, 39.0, 85.0, 86.0, 90.0, 93.0}),\n  frozenset({23.0, 36.0, 39.0, 63.0, 85.0, 86.0, 93.0}),\n  frozenset({23.0, 36.0, 39.0, 59.0, 85.0, 86.0, 90.0}),\n  frozenset({23.0, 36.0, 39.0, 59.0, 85.0, 86.0, 93.0}),\n  frozenset({23.0, 36.0, 39.0, 59.0, 63.0, 85.0, 86.0}),\n  frozenset({23.0, 36.0, 39.0, 59.0, 85.0, 90.0, 93.0}),\n  frozenset({23.0, 34.0, 39.0, 59.0, 86.0, 90.0, 93.0}),\n  frozenset({34.0, 39.0, 59.0, 85.0, 86.0, 90.0, 93.0}),\n  frozenset({34.0, 39.0, 59.0, 63.0, 85.0, 86.0, 90.0}),\n  frozenset({23.0, 34.0, 39.0, 85.0, 86.0, 90.0, 93.0}),\n  frozenset({23.0, 34.0, 39.0, 63.0, 85.0, 86.0, 93.0}),\n  frozenset({34.0, 39.0, 59.0, 63.0, 85.0, 86.0, 93.0}),\n  frozenset({23.0, 34.0, 39.0, 59.0, 85.0, 86.0, 90.0}),\n  frozenset({23.0, 34.0, 39.0, 59.0, 85.0, 86.0, 93.0}),\n  frozenset({23.0, 34.0, 39.0, 59.0, 63.0, 85.0, 86.0}),\n  frozenset({23.0, 34.0, 39.0, 59.0, 85.0, 90.0, 93.0}),\n  frozenset({34.0, 36.0, 39.0, 59.0, 86.0, 90.0, 93.0}),\n  frozenset({23.0, 34.0, 36.0, 39.0, 59.0, 86.0, 90.0}),\n  frozenset({23.0, 34.0, 36.0, 39.0, 86.0, 90.0, 93.0}),\n  frozenset({23.0, 34.0, 36.0, 39.0, 59.0, 86.0, 93.0}),\n  frozenset({23.0, 34.0, 36.0, 39.0, 59.0, 63.0, 86.0}),\n  frozenset({23.0, 34.0, 36.0, 39.0, 63.0, 86.0, 93.0}),\n  frozenset({34.0, 36.0, 39.0, 59.0, 85.0, 90.0, 93.0}),\n  frozenset({34.0, 36.0, 39.0, 59.0, 85.0, 86.0, 90.0}),\n  frozenset({23.0, 34.0, 36.0, 39.0, 59.0, 85.0, 90.0}),\n  frozenset({34.0, 36.0, 39.0, 85.0, 86.0, 90.0, 93.0}),\n  frozenset({34.0, 36.0, 39.0, 59.0, 85.0, 86.0, 93.0}),\n  frozenset({23.0, 34.0, 36.0, 39.0, 85.0, 90.0, 93.0}),\n  frozenset({23.0, 34.0, 36.0, 39.0, 59.0, 85.0, 93.0}),\n  frozenset({34.0, 36.0, 39.0, 59.0, 63.0, 85.0, 86.0}),\n  frozenset({34.0, 36.0, 39.0, 63.0, 85.0, 86.0, 93.0}),\n  frozenset({23.0, 34.0, 36.0, 39.0, 85.0, 86.0, 90.0}),\n  frozenset({23.0, 34.0, 36.0, 39.0, 59.0, 85.0, 86.0}),\n  frozenset({23.0, 34.0, 36.0, 39.0, 85.0, 86.0, 93.0}),\n  frozenset({23.0, 34.0, 36.0, 39.0, 63.0, 85.0, 86.0}),\n  frozenset({23.0, 34.0, 36.0, 39.0, 59.0, 63.0, 85.0}),\n  frozenset({23.0, 34.0, 36.0, 39.0, 63.0, 85.0, 93.0}),\n  frozenset({23.0, 34.0, 36.0, 39.0, 59.0, 90.0, 93.0}),\n  frozenset({2.0, 23.0, 59.0, 85.0, 86.0, 90.0, 93.0}),\n  frozenset({2.0, 23.0, 39.0, 59.0, 85.0, 86.0, 93.0}),\n  frozenset({2.0, 23.0, 39.0, 59.0, 63.0, 85.0, 86.0}),\n  frozenset({2.0, 36.0, 39.0, 59.0, 63.0, 85.0, 93.0}),\n  frozenset({2.0, 23.0, 36.0, 39.0, 59.0, 86.0, 93.0}),\n  frozenset({2.0, 36.0, 39.0, 59.0, 85.0, 90.0, 93.0}),\n  frozenset({2.0, 36.0, 39.0, 59.0, 85.0, 86.0, 93.0}),\n  frozenset({2.0, 23.0, 36.0, 39.0, 59.0, 85.0, 93.0}),\n  frozenset({2.0, 36.0, 59.0, 63.0, 85.0, 90.0, 93.0}),\n  frozenset({2.0, 36.0, 39.0, 59.0, 63.0, 85.0, 86.0}),\n  frozenset({2.0, 23.0, 36.0, 39.0, 59.0, 85.0, 86.0}),\n  frozenset({2.0, 23.0, 36.0, 39.0, 85.0, 86.0, 93.0}),\n  frozenset({2.0, 23.0, 36.0, 39.0, 63.0, 85.0, 86.0}),\n  frozenset({2.0, 36.0, 59.0, 85.0, 86.0, 90.0, 93.0}),\n  frozenset({2.0, 23.0, 36.0, 59.0, 85.0, 86.0, 93.0}),\n  frozenset({2.0, 23.0, 36.0, 39.0, 59.0, 63.0, 86.0}),\n  frozenset({2.0, 23.0, 36.0, 39.0, 59.0, 63.0, 85.0}),\n  frozenset({2.0, 23.0, 36.0, 59.0, 63.0, 85.0, 86.0}),\n  frozenset({2.0, 23.0, 34.0, 39.0, 59.0, 86.0, 93.0}),\n  frozenset({2.0, 34.0, 39.0, 59.0, 85.0, 86.0, 93.0}),\n  frozenset({2.0, 23.0, 34.0, 39.0, 59.0, 85.0, 93.0}),\n  frozenset({2.0, 34.0, 36.0, 39.0, 59.0, 86.0, 93.0}),\n  frozenset({2.0, 34.0, 36.0, 39.0, 59.0, 85.0, 93.0}),\n  frozenset({2.0, 23.0, 34.0, 36.0, 39.0, 59.0, 93.0}),\n  frozenset({2.0, 34.0, 39.0, 59.0, 85.0, 86.0, 90.0}),\n  frozenset({2.0, 34.0, 59.0, 63.0, 85.0, 86.0, 93.0}),\n  frozenset({2.0, 34.0, 39.0, 59.0, 63.0, 85.0, 86.0}),\n  frozenset({2.0, 34.0, 39.0, 63.0, 85.0, 86.0, 90.0}),\n  frozenset({2.0, 23.0, 34.0, 39.0, 59.0, 85.0, 86.0}),\n  frozenset({2.0, 23.0, 34.0, 39.0, 85.0, 86.0, 93.0}),\n  frozenset({2.0, 23.0, 34.0, 39.0, 63.0, 85.0, 86.0}),\n  frozenset({2.0, 34.0, 59.0, 85.0, 86.0, 90.0, 93.0}),\n  frozenset({2.0, 23.0, 34.0, 59.0, 85.0, 86.0, 93.0}),\n  frozenset({2.0, 34.0, 59.0, 63.0, 85.0, 86.0, 90.0}),\n  frozenset({2.0, 23.0, 34.0, 59.0, 85.0, 86.0, 90.0}),\n  frozenset({2.0, 23.0, 34.0, 85.0, 86.0, 90.0, 93.0}),\n  frozenset({2.0, 23.0, 34.0, 39.0, 59.0, 63.0, 86.0}),\n  frozenset({2.0, 34.0, 36.0, 39.0, 59.0, 85.0, 86.0}),\n  frozenset({2.0, 34.0, 36.0, 39.0, 85.0, 86.0, 93.0}),\n  frozenset({2.0, 34.0, 36.0, 39.0, 59.0, 63.0, 86.0}),\n  frozenset({2.0, 23.0, 34.0, 36.0, 39.0, 59.0, 86.0}),\n  frozenset({2.0, 23.0, 34.0, 36.0, 39.0, 86.0, 93.0}),\n  frozenset({2.0, 23.0, 34.0, 36.0, 39.0, 63.0, 86.0}),\n  frozenset({2.0, 34.0, 36.0, 59.0, 86.0, 90.0, 93.0}),\n  frozenset({2.0, 23.0, 34.0, 36.0, 59.0, 86.0, 93.0}),\n  frozenset({2.0, 23.0, 34.0, 59.0, 86.0, 90.0, 93.0}),\n  frozenset({2.0, 23.0, 34.0, 39.0, 59.0, 63.0, 85.0}),\n  frozenset({2.0, 23.0, 34.0, 59.0, 63.0, 85.0, 86.0}),\n  frozenset({2.0, 34.0, 36.0, 39.0, 59.0, 63.0, 85.0}),\n  frozenset({2.0, 34.0, 36.0, 39.0, 63.0, 85.0, 86.0}),\n  frozenset({2.0, 23.0, 34.0, 36.0, 39.0, 59.0, 85.0}),\n  frozenset({2.0, 23.0, 34.0, 36.0, 39.0, 85.0, 93.0}),\n  frozenset({2.0, 23.0, 34.0, 36.0, 39.0, 85.0, 86.0}),\n  frozenset({2.0, 23.0, 34.0, 36.0, 39.0, 63.0, 85.0}),\n  frozenset({2.0, 34.0, 36.0, 59.0, 85.0, 90.0, 93.0}),\n  frozenset({2.0, 34.0, 36.0, 59.0, 85.0, 86.0, 93.0}),\n  frozenset({2.0, 23.0, 34.0, 36.0, 59.0, 85.0, 93.0}),\n  frozenset({2.0, 34.0, 36.0, 59.0, 85.0, 86.0, 90.0}),\n  frozenset({2.0, 34.0, 36.0, 85.0, 86.0, 90.0, 93.0}),\n  frozenset({2.0, 34.0, 36.0, 59.0, 63.0, 85.0, 86.0}),\n  frozenset({2.0, 23.0, 34.0, 36.0, 59.0, 85.0, 86.0}),\n  frozenset({2.0, 23.0, 34.0, 36.0, 85.0, 86.0, 93.0}),\n  frozenset({2.0, 23.0, 34.0, 36.0, 63.0, 85.0, 86.0}),\n  frozenset({2.0, 23.0, 34.0, 59.0, 85.0, 90.0, 93.0}),\n  frozenset({2.0, 23.0, 34.0, 36.0, 39.0, 59.0, 63.0}),\n  frozenset({2.0, 23.0, 34.0, 36.0, 59.0, 63.0, 86.0}),\n  frozenset({2.0, 23.0, 34.0, 36.0, 59.0, 63.0, 85.0}),\n  frozenset({23.0, 59.0, 63.0, 85.0, 86.0, 90.0, 93.0}),\n  frozenset({36.0, 59.0, 63.0, 85.0, 86.0, 90.0, 93.0}),\n  frozenset({23.0, 36.0, 63.0, 85.0, 86.0, 90.0, 93.0}),\n  frozenset({23.0, 36.0, 59.0, 85.0, 86.0, 90.0, 93.0}),\n  frozenset({23.0, 36.0, 59.0, 63.0, 85.0, 86.0, 90.0}),\n  frozenset({23.0, 36.0, 59.0, 63.0, 85.0, 86.0, 93.0}),\n  frozenset({34.0, 59.0, 63.0, 85.0, 86.0, 90.0, 93.0}),\n  frozenset({23.0, 34.0, 63.0, 85.0, 86.0, 90.0, 93.0}),\n  frozenset({23.0, 34.0, 59.0, 85.0, 86.0, 90.0, 93.0}),\n  frozenset({23.0, 34.0, 59.0, 63.0, 85.0, 86.0, 90.0}),\n  frozenset({23.0, 34.0, 59.0, 63.0, 85.0, 86.0, 93.0}),\n  frozenset({23.0, 36.0, 59.0, 63.0, 86.0, 90.0, 93.0}),\n  frozenset({23.0, 36.0, 59.0, 63.0, 85.0, 90.0, 93.0}),\n  frozenset({23.0, 34.0, 59.0, 63.0, 86.0, 90.0, 93.0}),\n  frozenset({23.0, 34.0, 59.0, 63.0, 85.0, 90.0, 93.0}),\n  frozenset({34.0, 36.0, 59.0, 63.0, 86.0, 90.0, 93.0}),\n  frozenset({34.0, 36.0, 59.0, 63.0, 85.0, 90.0, 93.0}),\n  frozenset({34.0, 36.0, 59.0, 85.0, 86.0, 90.0, 93.0}),\n  frozenset({34.0, 36.0, 59.0, 63.0, 85.0, 86.0, 90.0}),\n  frozenset({34.0, 36.0, 63.0, 85.0, 86.0, 90.0, 93.0}),\n  frozenset({34.0, 36.0, 59.0, 63.0, 85.0, 86.0, 93.0}),\n  frozenset({23.0, 34.0, 36.0, 59.0, 85.0, 86.0, 90.0}),\n  frozenset({23.0, 34.0, 36.0, 85.0, 86.0, 90.0, 93.0}),\n  frozenset({23.0, 34.0, 36.0, 59.0, 85.0, 86.0, 93.0}),\n  frozenset({23.0, 34.0, 36.0, 59.0, 86.0, 90.0, 93.0}),\n  frozenset({23.0, 34.0, 36.0, 59.0, 63.0, 86.0, 90.0}),\n  frozenset({23.0, 34.0, 36.0, 63.0, 86.0, 90.0, 93.0}),\n  frozenset({23.0, 34.0, 36.0, 59.0, 63.0, 86.0, 93.0}),\n  frozenset({23.0, 34.0, 36.0, 63.0, 85.0, 86.0, 90.0}),\n  frozenset({23.0, 34.0, 36.0, 59.0, 63.0, 85.0, 86.0}),\n  frozenset({23.0, 34.0, 36.0, 63.0, 85.0, 86.0, 93.0}),\n  frozenset({23.0, 34.0, 36.0, 59.0, 85.0, 90.0, 93.0}),\n  frozenset({23.0, 34.0, 36.0, 59.0, 63.0, 85.0, 90.0}),\n  frozenset({23.0, 34.0, 36.0, 63.0, 85.0, 90.0, 93.0}),\n  frozenset({23.0, 34.0, 36.0, 59.0, 63.0, 85.0, 93.0}),\n  frozenset({23.0, 34.0, 36.0, 59.0, 63.0, 90.0, 93.0})],\n [frozenset({1.0, 24.0, 34.0, 36.0, 85.0, 86.0, 90.0, 110.0}),\n  frozenset({2.0, 28.0, 34.0, 39.0, 53.0, 85.0, 86.0, 90.0}),\n  frozenset({2.0, 23.0, 34.0, 36.0, 59.0, 63.0, 85.0, 86.0}),\n  frozenset({2.0, 23.0, 34.0, 36.0, 59.0, 85.0, 86.0, 93.0}),\n  frozenset({2.0, 34.0, 36.0, 59.0, 85.0, 86.0, 90.0, 93.0}),\n  frozenset({2.0, 23.0, 34.0, 36.0, 39.0, 59.0, 63.0, 85.0}),\n  frozenset({2.0, 23.0, 34.0, 36.0, 39.0, 59.0, 85.0, 93.0}),\n  frozenset({2.0, 23.0, 34.0, 36.0, 39.0, 63.0, 85.0, 86.0}),\n  frozenset({2.0, 23.0, 34.0, 36.0, 39.0, 59.0, 63.0, 86.0}),\n  frozenset({2.0, 23.0, 34.0, 36.0, 39.0, 59.0, 86.0, 93.0}),\n  frozenset({2.0, 23.0, 34.0, 36.0, 39.0, 85.0, 86.0, 93.0}),\n  frozenset({2.0, 23.0, 34.0, 36.0, 39.0, 59.0, 85.0, 86.0}),\n  frozenset({2.0, 34.0, 36.0, 39.0, 59.0, 63.0, 85.0, 86.0}),\n  frozenset({2.0, 34.0, 36.0, 39.0, 59.0, 85.0, 86.0, 93.0}),\n  frozenset({2.0, 23.0, 34.0, 59.0, 85.0, 86.0, 90.0, 93.0}),\n  frozenset({2.0, 23.0, 34.0, 39.0, 59.0, 63.0, 85.0, 86.0}),\n  frozenset({2.0, 23.0, 34.0, 39.0, 59.0, 85.0, 86.0, 93.0}),\n  frozenset({2.0, 23.0, 36.0, 39.0, 59.0, 63.0, 85.0, 86.0}),\n  frozenset({2.0, 23.0, 36.0, 39.0, 59.0, 85.0, 86.0, 93.0}),\n  frozenset({23.0, 34.0, 36.0, 39.0, 63.0, 85.0, 86.0, 93.0}),\n  frozenset({23.0, 34.0, 36.0, 39.0, 59.0, 63.0, 85.0, 86.0}),\n  frozenset({23.0, 34.0, 36.0, 39.0, 59.0, 85.0, 86.0, 93.0}),\n  frozenset({23.0, 34.0, 36.0, 39.0, 85.0, 86.0, 90.0, 93.0}),\n  frozenset({23.0, 34.0, 36.0, 39.0, 59.0, 85.0, 86.0, 90.0}),\n  frozenset({23.0, 34.0, 36.0, 39.0, 59.0, 85.0, 90.0, 93.0}),\n  frozenset({34.0, 36.0, 39.0, 59.0, 85.0, 86.0, 90.0, 93.0}),\n  frozenset({23.0, 34.0, 36.0, 39.0, 59.0, 86.0, 90.0, 93.0}),\n  frozenset({23.0, 34.0, 39.0, 59.0, 85.0, 86.0, 90.0, 93.0}),\n  frozenset({23.0, 36.0, 39.0, 59.0, 85.0, 86.0, 90.0, 93.0}),\n  frozenset({23.0, 34.0, 36.0, 59.0, 63.0, 85.0, 90.0, 93.0}),\n  frozenset({23.0, 34.0, 36.0, 59.0, 63.0, 86.0, 90.0, 93.0}),\n  frozenset({23.0, 34.0, 36.0, 59.0, 63.0, 85.0, 86.0, 93.0}),\n  frozenset({23.0, 34.0, 36.0, 63.0, 85.0, 86.0, 90.0, 93.0}),\n  frozenset({23.0, 34.0, 36.0, 59.0, 63.0, 85.0, 86.0, 90.0}),\n  frozenset({23.0, 34.0, 36.0, 59.0, 85.0, 86.0, 90.0, 93.0}),\n  frozenset({34.0, 36.0, 59.0, 63.0, 85.0, 86.0, 90.0, 93.0}),\n  frozenset({23.0, 34.0, 59.0, 63.0, 85.0, 86.0, 90.0, 93.0}),\n  frozenset({23.0, 36.0, 59.0, 63.0, 85.0, 86.0, 90.0, 93.0})],\n [frozenset({23.0, 34.0, 36.0, 39.0, 59.0, 85.0, 86.0, 90.0, 93.0}),\n  frozenset({2.0, 23.0, 34.0, 36.0, 39.0, 59.0, 85.0, 86.0, 93.0}),\n  frozenset({2.0, 23.0, 34.0, 36.0, 39.0, 59.0, 63.0, 85.0, 86.0}),\n  frozenset({23.0, 34.0, 36.0, 59.0, 63.0, 85.0, 86.0, 90.0, 93.0})]]"
     },
     "metadata": {},
     "execution_count": 31
    }
   ],
   "source": [
    "support_list"
   ]
  },
  {
   "cell_type": "code",
   "execution_count": null,
   "metadata": {},
   "outputs": [],
   "source": []
  }
 ],
 "metadata": {
  "kernelspec": {
   "display_name": "Python 3",
   "language": "python",
   "name": "python3"
  },
  "language_info": {
   "codemirror_mode": {
    "name": "ipython",
    "version": 3
   },
   "file_extension": ".py",
   "mimetype": "text/x-python",
   "name": "python",
   "nbconvert_exporter": "python",
   "pygments_lexer": "ipython3",
   "version": "3.7.6-final"
  }
 },
 "nbformat": 4,
 "nbformat_minor": 2
}