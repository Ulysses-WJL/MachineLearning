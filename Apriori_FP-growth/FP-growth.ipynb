{
 "cells": [
  {
   "cell_type": "markdown",
   "metadata": {},
   "source": [
    "# 使用FP-growth算法来发现频繁项集\n",
    "---\n",
    "使用 FP-growth算法更有效的挖掘`频繁项集`, 它只需要对数据库进行两次扫描, 而Apriori算法对于每个潜在的频繁项集都会扫描数据集判定给定模式是否频繁.\n",
    "FP-growth算法将数据存储在一种称为FP树的紧凑数据结构中.FP代表频繁模式(Frequent Pattern)\n",
    "\n",
    "使用实例: 搜索引擎自动补全查询词项.\n",
    "\n",
    "基本过程:\n",
    "- 构建FP树\n",
    "- 从FP树中挖掘频繁项集"
   ]
  },
  {
   "cell_type": "code",
   "execution_count": 1,
   "metadata": {},
   "outputs": [],
   "source": [
    "class TreeNode:\n",
    "    def __init__(self, name, counts, parent):\n",
    "        self.name = name  # 节点名称\n",
    "        self.counts = counts  # 节点出现次数\n",
    "        self.parent = parent  # 父节点\n",
    "        self.children = {}  # 子节点\n",
    "        # 节点链接\n",
    "        self.node_link = None  # 用于连接 不同项集 的 相同的项\n",
    "    \n",
    "    def inc(self, counts):\n",
    "        \"\"\"\n",
    "        增加项出现的次数\n",
    "        \"\"\"\n",
    "        self.counts += counts\n",
    "    \n",
    "    def disp(self, index=1):\n",
    "        \"\"\"\n",
    "        文本方式显示树\n",
    "        \"\"\"\n",
    "        print(' ' * index, self.name, ' ', self.counts)"
   ]
  },
  {
   "cell_type": "markdown",
   "metadata": {},
   "source": [
    "## FP-growth 原理\n",
    "[构建FP树](https://github.com/apachecn/AiLearning/blob/master/docs/ml/12.%E4%BD%BF%E7%94%A8FP-growth%E7%AE%97%E6%B3%95%E6%9D%A5%E9%AB%98%E6%95%88%E5%8F%91%E7%8E%B0%E9%A2%91%E7%B9%81%E9%A1%B9%E9%9B%86.md#fp-growth-%E5%8E%9F%E7%90%86)"
   ]
  },
  {
   "cell_type": "code",
   "execution_count": 4,
   "metadata": {},
   "outputs": [],
   "source": [
    "def load_data():\n",
    "    sample = [\n",
    "        ['r', 'z', 'h', 'j', 'p'],\n",
    "       ['z', 'y', 'x', 'w', 'v', 'u', 't', 's'],\n",
    "       ['z'],\n",
    "       ['r', 'x', 'n', 'o', 's'],\n",
    "    #    ['r', 'x', 'n', 'o', 's'],\n",
    "       ['y', 'r', 'x', 'z', 'q', 't', 'p'],\n",
    "       ['y', 'z', 'x', 'e', 'q', 's', 't', 'm']\n",
    "    ]\n",
    "    return sample"
   ]
  },
  {
   "cell_type": "code",
   "execution_count": 8,
   "metadata": {},
   "outputs": [],
   "source": [
    "data = load_data()"
   ]
  },
  {
   "cell_type": "code",
   "execution_count": 42,
   "metadata": {},
   "outputs": [],
   "source": [
    "class FPTree:\n",
    "    def __init__(self, min_support = 1):\n",
    "        # 出现的最少次数 低于此值的项会被丢弃\n",
    "        self.min_support = min_support\n",
    "    \n",
    "    def fit(self, data):\n",
    "        data = self.init_data(data)\n",
    "        \n",
    "        head_table = {}\n",
    "        # 1. 遍历所有的数据集合，计算所有项的支持度。\n",
    "        for set_ in data:\n",
    "            for item in set_:\n",
    "                # set_ : frozenset(['z', 'y', 'x', 'w', 'v', 'u', 't', 's'])\n",
    "                # 'z': 1(z累计次数) + 1(当前set出现次数) \n",
    "                head_table[item] = head_table.get(item, 0) + data[set_]\n",
    "       \n",
    "        # 2. 丢弃非频繁的项\n",
    "        for key in list(head_table.keys()):  # 需要创建一个新的list\n",
    "            if head_table[key] < self.min_support:\n",
    "                del head_table[key]\n",
    "#         print(head_table)\n",
    "        if not head_table:\n",
    "            return None, None\n",
    "        freq_sets = set(head_table.keys())\n",
    "        # 3. 基于 支持度 降序排序所有的项。\n",
    "        sorted_list = sorted(head_table.items(), key=lambda item: item[1], reverse=True)\n",
    "        # 4. 所有数据集合按照得到的顺序重新整理\n",
    "        # 5. 重新整理完成后，丢弃每个集合末尾非频繁的项。 \n",
    "        print(sorted_list)\n",
    "        new_data = {}\n",
    "        for set_, freqs in data.items():\n",
    "            \n",
    "            key = frozenset([item[0] for item in sorted_list if item[0] in set_][::-1])\n",
    "            new_data[key] = freqs\n",
    "        print(new_data)\n",
    "    \n",
    "    def init_data(self, data):\n",
    "        ret_dict = {}  # {frozenset() : 次数}\n",
    "        for item in data:\n",
    "            ret_dict[frozenset(item)] = ret_dict.get(frozenset(item), 0) + 1\n",
    "        return ret_dict"
   ]
  },
  {
   "cell_type": "code",
   "execution_count": 43,
   "metadata": {},
   "outputs": [
    {
     "name": "stdout",
     "output_type": "stream",
     "text": [
      "[('z', 5), ('x', 4), ('r', 3), ('t', 3), ('y', 3), ('s', 3)]\n",
      "{frozenset({'r', 'z'}): 1, frozenset({'t', 'y', 'x', 's', 'z'}): 1, frozenset({'z'}): 1, frozenset({'x', 'r', 's'}): 1, frozenset({'t', 'y', 'x', 'r', 'z'}): 1}\n"
     ]
    }
   ],
   "source": [
    "fp = FPTree(min_support=3)\n",
    "fp.fit(data)"
   ]
  },
  {
   "cell_type": "code",
   "execution_count": 27,
   "metadata": {},
   "outputs": [
    {
     "data": {
      "text/plain": [
       "[('z', 5), ('x', 4), ('r', 3), ('t', 3), ('y', 3), ('s', 3)]"
      ]
     },
     "execution_count": 27,
     "metadata": {},
     "output_type": "execute_result"
    }
   ],
   "source": [
    "dict_ = {'r': 3, 'z': 5, 't': 3, 'y': 3, 'x': 4, 's': 3}\n",
    "\n",
    "sorted(dict_.items(), key=lambda item: item[1], reverse=True)"
   ]
  },
  {
   "cell_type": "code",
   "execution_count": 39,
   "metadata": {},
   "outputs": [
    {
     "data": {
      "text/plain": [
       "{'j', 'r', 'z'}"
      ]
     },
     "execution_count": 39,
     "metadata": {},
     "output_type": "execute_result"
    }
   ],
   "source": [
    "{'z', 'r', 'h', 'j', 'p'} & frozenset(['z', 'j', 'x', 'r'])"
   ]
  },
  {
   "cell_type": "code",
   "execution_count": null,
   "metadata": {},
   "outputs": [],
   "source": []
  }
 ],
 "metadata": {
  "kernelspec": {
   "display_name": "Python 3",
   "language": "python",
   "name": "python3"
  },
  "language_info": {
   "codemirror_mode": {
    "name": "ipython",
    "version": 3
   },
   "file_extension": ".py",
   "mimetype": "text/x-python",
   "name": "python",
   "nbconvert_exporter": "python",
   "pygments_lexer": "ipython3",
   "version": "3.8.0"
  }
 },
 "nbformat": 4,
 "nbformat_minor": 2
}
