{
 "cells": [
  {
   "cell_type": "markdown",
   "metadata": {},
   "source": [
    "# 使用FP-growth算法来发现频繁项集\n",
    "---\n",
    "使用 FP-growth算法更有效的挖掘`频繁项集`, 它只需要对数据库进行两次扫描, 而Apriori算法对于每个潜在的频繁项集都会扫描数据集判定给定模式是否频繁.\n",
    "FP-growth算法将数据存储在一种称为FP树的紧凑数据结构中.FP代表频繁模式(Frequent Pattern)\n",
    "\n",
    "使用实例: 搜索引擎自动补全查询词项.\n",
    "\n",
    "基本过程:\n",
    "- 构建FP树\n",
    "- 从FP树中挖掘频繁项集"
   ]
  },
  {
   "cell_type": "markdown",
   "metadata": {},
   "source": [
    "FP-growth 算法优缺点:\n",
    "* 优点:  \n",
    "\n",
    "        1. 因为 FP-growth 算法只需要对数据集遍历两次，所以速度更快。\n",
    "        2. FP树将集合按照支持度降序排序，不同路径如果有相同前缀路径共用存储空间，使得数据得到了压缩。\n",
    "        3. 不需要生成候选集。\n",
    "        4. 比Apriori更快。\n",
    "* 缺点:  \n",
    "\n",
    "        1. FP-Tree第二次遍历会存储很多中间过程的值，会占用很多内存。\n",
    "        2. 构建FP-Tree是比较昂贵的。\n",
    "* 适用数据类型: 标称型数据(离散型数据)。"
   ]
  },
  {
   "cell_type": "code",
   "execution_count": 1,
   "metadata": {},
   "outputs": [],
   "source": [
    "class TreeNode:\n",
    "    def __init__(self, name, counts, parent):\n",
    "        self.name = name  # 节点名称\n",
    "        self.counts = counts  # 节点出现次数\n",
    "        self.parent = parent  # 父节点\n",
    "        self.children = {}  # 子节点\n",
    "        # 节点链接\n",
    "        self.node_link = None  # 用于连接 不同项集 的 相同的项\n",
    "    \n",
    "    def inc(self, counts):\n",
    "        \"\"\"\n",
    "        增加项出现的次数\n",
    "        \"\"\"\n",
    "        self.counts += counts\n",
    "    \n",
    "    def __repr__(self):\n",
    "        return f\"Node({self.name}: {self.counts})\"\n",
    "    \n",
    "    def disp(self, index=1):\n",
    "        \"\"\"\n",
    "        文本方式显示树\n",
    "        \"\"\"\n",
    "        print(' ' * index, self.name, ' ', self.counts)\n",
    "        for child in self.children.values():\n",
    "            child.disp(index+1)"
   ]
  },
  {
   "cell_type": "markdown",
   "metadata": {},
   "source": [
    "## FP-growth 原理\n",
    "[构建FP树](https://github.com/apachecn/AiLearning/blob/master/docs/ml/12.%E4%BD%BF%E7%94%A8FP-growth%E7%AE%97%E6%B3%95%E6%9D%A5%E9%AB%98%E6%95%88%E5%8F%91%E7%8E%B0%E9%A2%91%E7%B9%81%E9%A1%B9%E9%9B%86.md#fp-growth-%E5%8E%9F%E7%90%86)"
   ]
  },
  {
   "cell_type": "code",
   "execution_count": 52,
   "metadata": {},
   "outputs": [],
   "source": [
    "def load_data():\n",
    "    sample = [\n",
    "        ['r', 'z', 'h', 'j', 'p'],\n",
    "       ['z', 'y', 'x', 'w', 'v', 'u', 't', 's'],\n",
    "       ['z'],\n",
    "       ['r', 'x', 'n', 'o', 's'],\n",
    "    #    ['r', 'x', 'n', 'o', 's'],\n",
    "       ['y', 'r', 'x', 'z', 'q', 't', 'p'],\n",
    "       ['y', 'z', 'x', 'e', 'q', 's', 't', 'm']\n",
    "    ]\n",
    "    return sample"
   ]
  },
  {
   "cell_type": "code",
   "execution_count": 53,
   "metadata": {},
   "outputs": [],
   "source": [
    "data = load_data()"
   ]
  },
  {
   "cell_type": "code",
   "execution_count": 54,
   "metadata": {},
   "outputs": [],
   "source": [
    "def init_data(data):\n",
    "    ret_dict = {}  # {frozenset() : 次数}\n",
    "    for item in data:\n",
    "        ret_dict[frozenset(item)] = ret_dict.get(frozenset(item), 0) + 1\n",
    "    return ret_dict"
   ]
  },
  {
   "cell_type": "code",
   "execution_count": 55,
   "metadata": {},
   "outputs": [],
   "source": [
    "class FPTree:\n",
    "    def __init__(self, min_support = 1):\n",
    "        # 出现的最少次数 低于此值的项会被丢弃\n",
    "        self.min_support = min_support\n",
    "        self.root = None\n",
    "    \n",
    "    def fit(self, data):\n",
    "        # data = self.init_data(data)\n",
    "        print(\"data: \\n\", data, \"*\"*30)\n",
    "        self.header_table = {}\n",
    "        # 1. 遍历所有的数据集合，计算所有项的支持度。\n",
    "        for set_ in data:\n",
    "            for item in set_:\n",
    "                # set_ : frozenset(['z', 'y', 'x', 'w', 'v', 'u', 't', 's'])\n",
    "                # 'z': 1(z累计次数) + 1(当前set出现次数) \n",
    "                self.header_table[item] = self.header_table.get(item, 0) + data[set_]\n",
    "       \n",
    "        # 2. 丢弃非频繁的项\n",
    "        for key in list(self.header_table.keys()):  # 需要创建一个新的list\n",
    "            if self.header_table[key] < self.min_support:\n",
    "                del self.header_table[key]\n",
    "#         print(head_table)\n",
    "        if not self.header_table:\n",
    "            return None, None\n",
    "        freq_sets = set(self.header_table.keys())\n",
    "        \n",
    "        # 3. 基于 支持度 降序排序所有的项。\n",
    "        sorted_list = sorted(self.header_table.items(), key=lambda item: item[1], reverse=True)  # [('z', 次数), ()]\n",
    "        \n",
    "        # 4. 所有数据集合按照得到的顺序重新整理\n",
    "        # 5. 重新整理完成后，丢弃每个集合末尾非频繁的项。 \n",
    "        print(sorted_list)\n",
    "        new_keys = []\n",
    "        for set_, freqs in data.items():\n",
    "            new_keys.append([item[0] for item in sorted_list if item[0] in set_])\n",
    "        print(\"new_keys: \\n\", new_keys, \"*\"*30)\n",
    "        # [['z', 'r'], ['z', 'x', 'y', 's', 't'], ['z']]\n",
    "        \n",
    "        for k in self.header_table:\n",
    "            # 格式化： dict{元素key: [元素次数, None]}\n",
    "            self.header_table[k] = [self.header_table[k], None]\n",
    "        \n",
    "        # 6. 读取每个集合插入FP树中，同时用一个头部链表数据结构维护不同集合的相同项\n",
    "        self.root = TreeNode('Null', 1, None)\n",
    "        for key, count, new_key in zip(data.keys(), data.values(), new_keys):\n",
    "            # 原始的frozenset, 项集合出现次数, 整理并舍弃末尾的集合\n",
    "            self.update_tree(self.root, new_key, self.header_table, count)\n",
    "    \n",
    "    def update_header(self, node_to_test, target_node):\n",
    "        \"\"\"updateHeader(更新头指针，建立相同元素之间的关系，例如： 左边的r指向右边的r值，就是后出现的相同元素 指向 已经出现的元素)\n",
    "        从头指针的nodeLink开始，一直沿着nodeLink直到到达链表末尾。这就是链表。\n",
    "        性能：如果链表很长可能会遇到迭代调用的次数限制。\n",
    "        Args:\n",
    "            nodeToTest  满足minSup {所有的元素+(value, treeNode)}\n",
    "            targetNode  Tree对象的子节点\n",
    "        \"\"\"\n",
    "        # 建立相同元素之间的关系，例如： 左边的r指向右边的r值\n",
    "        while (node_to_test.node_link is not None):\n",
    "            node_to_test = node_to_test.node_link\n",
    "        node_to_test.node_link = target_node\n",
    "    \n",
    "    def update_tree(self, root, new_keys, header_table, count):\n",
    "        # 递归形式 完成FP树\n",
    "        # print(root.children)\n",
    "        if new_keys[0] in root.children:  # 取最前面一个(出现次数最多的)\n",
    "            # 如果该元素在 inTree.children 这个字典中，就进行累加\n",
    "            root.children[new_keys[0]].inc(count)\n",
    "        else:\n",
    "            # 如果不存在子节点，我们为该inTree添加子节点\n",
    "            root.children[new_keys[0]] = TreeNode(new_keys[0], count, root)\n",
    "            # 如果满足minSup的dict字典的value值第二位(位置)为null， 我们就设置该元素为 本节点对应的tree节点\n",
    "            # 如果元素第二位不为null，我们就更新header节点, header_table表一项只对应一个节点\n",
    "            # {'z': [5, Node(z: 5)], 'r': [3, None], }\n",
    "            if header_table[new_keys[0]][1] is None:\n",
    "                # headerTable只记录第一次节点出现的位置\n",
    "                header_table[new_keys[0]][1] = root.children[new_keys[0]]\n",
    "            else:\n",
    "                # 本质上是修改headerTable的key对应的Tree，的nodeLink值\n",
    "                self.update_header(header_table[new_keys[0]][1], root.children[new_keys[0]])\n",
    "        if len(new_keys)>1:\n",
    "            self.update_tree(root.children[new_keys[0]], new_keys[1:], header_table, count)\n",
    "    \n"
   ]
  },
  {
   "cell_type": "code",
   "execution_count": 56,
   "metadata": {
    "tags": []
   },
   "outputs": [
    {
     "output_type": "stream",
     "name": "stdout",
     "text": "data: \n {frozenset({'z', 'h', 'r', 'p', 'j'}): 1, frozenset({'s', 'z', 'u', 'y', 'x', 't', 'w', 'v'}): 1, frozenset({'z'}): 1, frozenset({'s', 'x', 'r', 'o', 'n'}): 1, frozenset({'q', 'z', 'y', 'x', 'r', 't', 'p'}): 1, frozenset({'q', 's', 'z', 'y', 'x', 't', 'm', 'e'}): 1} ******************************\n[('z', 5), ('x', 4), ('r', 3), ('s', 3), ('y', 3), ('t', 3)]\nnew_keys: \n [['z', 'r'], ['z', 'x', 's', 'y', 't'], ['z'], ['x', 'r', 's'], ['z', 'x', 'r', 'y', 't'], ['z', 'x', 's', 'y', 't']] ******************************\n"
    }
   ],
   "source": [
    "data_dict = init_data(data)\n",
    "fp = FPTree(min_support=3)\n",
    "fp.fit(data_dict)"
   ]
  },
  {
   "cell_type": "code",
   "execution_count": 57,
   "metadata": {},
   "outputs": [
    {
     "output_type": "execute_result",
     "data": {
      "text/plain": "{'z': [5, Node(z: 5)],\n 'r': [3, Node(r: 1)],\n 's': [3, Node(s: 2)],\n 'y': [3, Node(y: 2)],\n 'x': [4, Node(x: 3)],\n 't': [3, Node(t: 2)]}"
     },
     "metadata": {},
     "execution_count": 57
    }
   ],
   "source": [
    "fp.header_table"
   ]
  },
  {
   "cell_type": "code",
   "execution_count": 58,
   "metadata": {
    "tags": []
   },
   "outputs": [
    {
     "output_type": "stream",
     "name": "stdout",
     "text": "Null   1\n   z   5\n    r   1\n    x   3\n     s   2\n      y   2\n       t   2\n     r   1\n      y   1\n       t   1\n   x   1\n    r   1\n     s   1\n"
    }
   ],
   "source": [
    "fp.root.disp()"
   ]
  },
  {
   "cell_type": "code",
   "execution_count": 59,
   "metadata": {},
   "outputs": [],
   "source": [
    "def ascend_tree(leafNode, prefixPath):\n",
    "    \"\"\"ascendTree(如果存在父节点，就记录当前节点的name值)\n",
    "\n",
    "    Args:\n",
    "        leafNode   查询的节点对于的nodeTree\n",
    "        prefixPath 要查询的节点值\n",
    "    \"\"\"\n",
    "    if leafNode.parent is not None:\n",
    "        prefixPath.append(leafNode.name)\n",
    "        ascend_tree(leafNode.parent, prefixPath)\n",
    "\n",
    "def find_prefix_path(base, tree_node):\n",
    "    \"\"\"findPrefixPath 基础数据集\n",
    "\n",
    "    Args:\n",
    "        basePat  要查询的节点值\n",
    "        treeNode 查询的节点所在的当前nodeTree\n",
    "    Returns:\n",
    "        condPats 对非basePat的倒叙值作为key,赋值为count数\n",
    "    \"\"\"\n",
    "    cond_pats = {}\n",
    "    # 对 treeNode的link进行循环\n",
    "    while tree_node is not None:\n",
    "        prefix_path = []\n",
    "        # 寻找该节点的父节点, 相当于找到了该节点的频繁项集\n",
    "        ascend_tree(tree_node, prefix_path)\n",
    "        # 排除自身这个元素，判断是否存在父元素（所以要>1, 说明存在父元素）\n",
    "        if len(prefix_path) > 1:\n",
    "            # 对非basePat的倒叙值作为key,赋值为count数\n",
    "            # prefixPath[1:] 变frozenset后，字母就变无序了\n",
    "            cond_pats[frozenset(prefix_path[1:])] = tree_node.counts\n",
    "        # 递归，寻找该节点的下一个 相同值的链接节点\n",
    "        tree_node = tree_node.node_link\n",
    "    return cond_pats"
   ]
  },
  {
   "cell_type": "code",
   "execution_count": 60,
   "metadata": {
    "tags": []
   },
   "outputs": [
    {
     "output_type": "stream",
     "name": "stdout",
     "text": "x ---> {frozenset({'z'}): 3}\nz ---> {}\nr ---> {frozenset({'z'}): 1, frozenset({'x'}): 1, frozenset({'z', 'x'}): 1}\n"
    }
   ],
   "source": [
    "print('x --->', find_prefix_path('x', fp.header_table['x'][1]))\n",
    "print('z --->', find_prefix_path('z', fp.header_table['z'][1]))\n",
    "print('r --->', find_prefix_path('r', fp.header_table['r'][1]))"
   ]
  },
  {
   "cell_type": "code",
   "execution_count": 61,
   "metadata": {},
   "outputs": [],
   "source": [
    "def mine_tree(intree, header_table, min_sup, prefix, freq_list):\n",
    "    \"\"\"mineTree(创建条件FP树)\n",
    "\n",
    "    Args:\n",
    "        inTree       myFPtree\n",
    "        headerTable  满足minSup {所有的元素+(value, treeNode)}\n",
    "        minSup       最小支持项集\n",
    "        preFix       preFix为newFreqSet上一次的存储记录，一旦没有myHead，就不会更新\n",
    "        freqItemList 用来存储频繁子项的列表\n",
    "    \"\"\"\n",
    "    # 通过value进行从小到大的排序， 得到频繁项集的key\n",
    "    # 最小支持项集的key的list集合\n",
    "    bigL = [v[0] for v in sorted(header_table.items(), key=lambda x: x[1][0])]\n",
    "    print('-----\\n', sorted(header_table.items(), key=lambda p: p[1][0]))\n",
    "    print('bigL=', bigL)\n",
    "    # 循环遍历 最频繁项集的key，从小到大的递归寻找对应的频繁项集\n",
    "    for base_pat in bigL:\n",
    "        print(\"base_pat = \", base_pat)\n",
    "\n",
    "        new_freq_set = prefix.copy()\n",
    "        new_freq_set.add(base_pat)\n",
    "        print('new_freq_set=', new_freq_set, prefix)\n",
    "\n",
    "        freq_list.append(new_freq_set)\n",
    "        print('freq_list=', freq_list)\n",
    "        \n",
    "        cond_patt_base = find_prefix_path(base_pat, header_table[base_pat][1])\n",
    "        print(\"cond_patt_base=\", base_pat, cond_patt_base)\n",
    "\n",
    "        fp = FPTree(min_sup)\n",
    "        fp.fit(cond_patt_base)\n",
    "        my_cond_tree, my_head = fp.root, fp.header_table\n",
    "        print(\"my head = \", my_head)\n",
    "        if my_head:\n",
    "            my_cond_tree.disp(1)\n",
    "            print('\\n\\n\\n')\n",
    "            # 递归 myHead 找出频繁项集\n",
    "            mine_tree(my_cond_tree, my_head, min_sup, new_freq_set, freq_list)\n",
    "        print(\"\\n\\n\\n\")"
   ]
  },
  {
   "cell_type": "code",
   "execution_count": 62,
   "metadata": {},
   "outputs": [
    {
     "output_type": "execute_result",
     "data": {
      "text/plain": "Node(Null: 1)"
     },
     "metadata": {},
     "execution_count": 62
    }
   ],
   "source": [
    "fp.root"
   ]
  },
  {
   "cell_type": "code",
   "execution_count": 63,
   "metadata": {},
   "outputs": [
    {
     "output_type": "execute_result",
     "data": {
      "text/plain": "{'z': [5, Node(z: 5)],\n 'r': [3, Node(r: 1)],\n 's': [3, Node(s: 2)],\n 'y': [3, Node(y: 2)],\n 'x': [4, Node(x: 3)],\n 't': [3, Node(t: 2)]}"
     },
     "metadata": {},
     "execution_count": 63
    }
   ],
   "source": [
    "fp.header_table"
   ]
  },
  {
   "cell_type": "code",
   "execution_count": 64,
   "metadata": {
    "tags": []
   },
   "outputs": [
    {
     "output_type": "stream",
     "name": "stdout",
     "text": "-----\n [('r', [3, Node(r: 1)]), ('s', [3, Node(s: 2)]), ('y', [3, Node(y: 2)]), ('t', [3, Node(t: 2)]), ('x', [4, Node(x: 3)]), ('z', [5, Node(z: 5)])]\nbigL= ['r', 's', 'y', 't', 'x', 'z']\nbase_pat =  r\nnew_freq_set= {'r'} set()\nfreq_list= [{'r'}]\ncond_patt_base= r {frozenset({'z'}): 1, frozenset({'x'}): 1, frozenset({'z', 'x'}): 1}\ndata: \n {frozenset({'z'}): 1, frozenset({'x'}): 1, frozenset({'z', 'x'}): 1} ******************************\nmy head =  {}\n\n\n\n\nbase_pat =  s\nnew_freq_set= {'s'} set()\nfreq_list= [{'r'}, {'s'}]\ncond_patt_base= s {frozenset({'z', 'x'}): 2, frozenset({'x', 'r'}): 1}\ndata: \n {frozenset({'z', 'x'}): 2, frozenset({'x', 'r'}): 1} ******************************\n[('x', 3)]\nnew_keys: \n [['x'], ['x']] ******************************\nmy head =  {'x': [3, Node(x: 3)]}\n  Null   1\n   x   3\n\n\n\n\n-----\n [('x', [3, Node(x: 3)])]\nbigL= ['x']\nbase_pat =  x\nnew_freq_set= {'x', 's'} {'s'}\nfreq_list= [{'r'}, {'s'}, {'x', 's'}]\ncond_patt_base= x {}\ndata: \n {} ******************************\nmy head =  {}\n\n\n\n\n\n\n\n\nbase_pat =  y\nnew_freq_set= {'y'} set()\nfreq_list= [{'r'}, {'s'}, {'x', 's'}, {'y'}]\ncond_patt_base= y {frozenset({'z', 'x', 's'}): 2, frozenset({'z', 'x', 'r'}): 1}\ndata: \n {frozenset({'z', 'x', 's'}): 2, frozenset({'z', 'x', 'r'}): 1} ******************************\n[('z', 3), ('x', 3)]\nnew_keys: \n [['z', 'x'], ['z', 'x']] ******************************\nmy head =  {'z': [3, Node(z: 3)], 'x': [3, Node(x: 3)]}\n  Null   1\n   z   3\n    x   3\n\n\n\n\n-----\n [('z', [3, Node(z: 3)]), ('x', [3, Node(x: 3)])]\nbigL= ['z', 'x']\nbase_pat =  z\nnew_freq_set= {'z', 'y'} {'y'}\nfreq_list= [{'r'}, {'s'}, {'x', 's'}, {'y'}, {'z', 'y'}]\ncond_patt_base= z {}\ndata: \n {} ******************************\nmy head =  {}\n\n\n\n\nbase_pat =  x\nnew_freq_set= {'y', 'x'} {'y'}\nfreq_list= [{'r'}, {'s'}, {'x', 's'}, {'y'}, {'z', 'y'}, {'y', 'x'}]\ncond_patt_base= x {frozenset({'z'}): 3}\ndata: \n {frozenset({'z'}): 3} ******************************\n[('z', 3)]\nnew_keys: \n [['z']] ******************************\nmy head =  {'z': [3, Node(z: 3)]}\n  Null   1\n   z   3\n\n\n\n\n-----\n [('z', [3, Node(z: 3)])]\nbigL= ['z']\nbase_pat =  z\nnew_freq_set= {'z', 'y', 'x'} {'y', 'x'}\nfreq_list= [{'r'}, {'s'}, {'x', 's'}, {'y'}, {'z', 'y'}, {'y', 'x'}, {'z', 'y', 'x'}]\ncond_patt_base= z {}\ndata: \n {} ******************************\nmy head =  {}\n\n\n\n\n\n\n\n\n\n\n\n\nbase_pat =  t\nnew_freq_set= {'t'} set()\nfreq_list= [{'r'}, {'s'}, {'x', 's'}, {'y'}, {'z', 'y'}, {'y', 'x'}, {'z', 'y', 'x'}, {'t'}]\ncond_patt_base= t {frozenset({'z', 'y', 's', 'x'}): 2, frozenset({'z', 'y', 'r', 'x'}): 1}\ndata: \n {frozenset({'z', 'y', 's', 'x'}): 2, frozenset({'z', 'y', 'r', 'x'}): 1} ******************************\n[('z', 3), ('y', 3), ('x', 3)]\nnew_keys: \n [['z', 'y', 'x'], ['z', 'y', 'x']] ******************************\nmy head =  {'z': [3, Node(z: 3)], 'y': [3, Node(y: 3)], 'x': [3, Node(x: 3)]}\n  Null   1\n   z   3\n    y   3\n     x   3\n\n\n\n\n-----\n [('z', [3, Node(z: 3)]), ('y', [3, Node(y: 3)]), ('x', [3, Node(x: 3)])]\nbigL= ['z', 'y', 'x']\nbase_pat =  z\nnew_freq_set= {'z', 't'} {'t'}\nfreq_list= [{'r'}, {'s'}, {'x', 's'}, {'y'}, {'z', 'y'}, {'y', 'x'}, {'z', 'y', 'x'}, {'t'}, {'z', 't'}]\ncond_patt_base= z {}\ndata: \n {} ******************************\nmy head =  {}\n\n\n\n\nbase_pat =  y\nnew_freq_set= {'y', 't'} {'t'}\nfreq_list= [{'r'}, {'s'}, {'x', 's'}, {'y'}, {'z', 'y'}, {'y', 'x'}, {'z', 'y', 'x'}, {'t'}, {'z', 't'}, {'y', 't'}]\ncond_patt_base= y {frozenset({'z'}): 3}\ndata: \n {frozenset({'z'}): 3} ******************************\n[('z', 3)]\nnew_keys: \n [['z']] ******************************\nmy head =  {'z': [3, Node(z: 3)]}\n  Null   1\n   z   3\n\n\n\n\n-----\n [('z', [3, Node(z: 3)])]\nbigL= ['z']\nbase_pat =  z\nnew_freq_set= {'z', 'y', 't'} {'y', 't'}\nfreq_list= [{'r'}, {'s'}, {'x', 's'}, {'y'}, {'z', 'y'}, {'y', 'x'}, {'z', 'y', 'x'}, {'t'}, {'z', 't'}, {'y', 't'}, {'z', 'y', 't'}]\ncond_patt_base= z {}\ndata: \n {} ******************************\nmy head =  {}\n\n\n\n\n\n\n\n\nbase_pat =  x\nnew_freq_set= {'x', 't'} {'t'}\nfreq_list= [{'r'}, {'s'}, {'x', 's'}, {'y'}, {'z', 'y'}, {'y', 'x'}, {'z', 'y', 'x'}, {'t'}, {'z', 't'}, {'y', 't'}, {'z', 'y', 't'}, {'x', 't'}]\ncond_patt_base= x {frozenset({'z', 'y'}): 3}\ndata: \n {frozenset({'z', 'y'}): 3} ******************************\n[('z', 3), ('y', 3)]\nnew_keys: \n [['z', 'y']] ******************************\nmy head =  {'z': [3, Node(z: 3)], 'y': [3, Node(y: 3)]}\n  Null   1\n   z   3\n    y   3\n\n\n\n\n-----\n [('z', [3, Node(z: 3)]), ('y', [3, Node(y: 3)])]\nbigL= ['z', 'y']\nbase_pat =  z\nnew_freq_set= {'z', 'x', 't'} {'x', 't'}\nfreq_list= [{'r'}, {'s'}, {'x', 's'}, {'y'}, {'z', 'y'}, {'y', 'x'}, {'z', 'y', 'x'}, {'t'}, {'z', 't'}, {'y', 't'}, {'z', 'y', 't'}, {'x', 't'}, {'z', 'x', 't'}]\ncond_patt_base= z {}\ndata: \n {} ******************************\nmy head =  {}\n\n\n\n\nbase_pat =  y\nnew_freq_set= {'x', 't', 'y'} {'x', 't'}\nfreq_list= [{'r'}, {'s'}, {'x', 's'}, {'y'}, {'z', 'y'}, {'y', 'x'}, {'z', 'y', 'x'}, {'t'}, {'z', 't'}, {'y', 't'}, {'z', 'y', 't'}, {'x', 't'}, {'z', 'x', 't'}, {'x', 't', 'y'}]\ncond_patt_base= y {frozenset({'z'}): 3}\ndata: \n {frozenset({'z'}): 3} ******************************\n[('z', 3)]\nnew_keys: \n [['z']] ******************************\nmy head =  {'z': [3, Node(z: 3)]}\n  Null   1\n   z   3\n\n\n\n\n-----\n [('z', [3, Node(z: 3)])]\nbigL= ['z']\nbase_pat =  z\nnew_freq_set= {'z', 'x', 't', 'y'} {'x', 't', 'y'}\nfreq_list= [{'r'}, {'s'}, {'x', 's'}, {'y'}, {'z', 'y'}, {'y', 'x'}, {'z', 'y', 'x'}, {'t'}, {'z', 't'}, {'y', 't'}, {'z', 'y', 't'}, {'x', 't'}, {'z', 'x', 't'}, {'x', 't', 'y'}, {'z', 'x', 't', 'y'}]\ncond_patt_base= z {}\ndata: \n {} ******************************\nmy head =  {}\n\n\n\n\n\n\n\n\n\n\n\n\n\n\n\n\nbase_pat =  x\nnew_freq_set= {'x'} set()\nfreq_list= [{'r'}, {'s'}, {'x', 's'}, {'y'}, {'z', 'y'}, {'y', 'x'}, {'z', 'y', 'x'}, {'t'}, {'z', 't'}, {'y', 't'}, {'z', 'y', 't'}, {'x', 't'}, {'z', 'x', 't'}, {'x', 't', 'y'}, {'z', 'x', 't', 'y'}, {'x'}]\ncond_patt_base= x {frozenset({'z'}): 3}\ndata: \n {frozenset({'z'}): 3} ******************************\n[('z', 3)]\nnew_keys: \n [['z']] ******************************\nmy head =  {'z': [3, Node(z: 3)]}\n  Null   1\n   z   3\n\n\n\n\n-----\n [('z', [3, Node(z: 3)])]\nbigL= ['z']\nbase_pat =  z\nnew_freq_set= {'z', 'x'} {'x'}\nfreq_list= [{'r'}, {'s'}, {'x', 's'}, {'y'}, {'z', 'y'}, {'y', 'x'}, {'z', 'y', 'x'}, {'t'}, {'z', 't'}, {'y', 't'}, {'z', 'y', 't'}, {'x', 't'}, {'z', 'x', 't'}, {'x', 't', 'y'}, {'z', 'x', 't', 'y'}, {'x'}, {'z', 'x'}]\ncond_patt_base= z {}\ndata: \n {} ******************************\nmy head =  {}\n\n\n\n\n\n\n\n\nbase_pat =  z\nnew_freq_set= {'z'} set()\nfreq_list= [{'r'}, {'s'}, {'x', 's'}, {'y'}, {'z', 'y'}, {'y', 'x'}, {'z', 'y', 'x'}, {'t'}, {'z', 't'}, {'y', 't'}, {'z', 'y', 't'}, {'x', 't'}, {'z', 'x', 't'}, {'x', 't', 'y'}, {'z', 'x', 't', 'y'}, {'x'}, {'z', 'x'}, {'z'}]\ncond_patt_base= z {}\ndata: \n {} ******************************\nmy head =  {}\n\n\n\n\n"
    }
   ],
   "source": [
    "freq_list = []\n",
    "mine_tree(fp.root, fp.header_table, 3, set([]), freq_list)"
   ]
  },
  {
   "cell_type": "code",
   "execution_count": 65,
   "metadata": {},
   "outputs": [
    {
     "output_type": "execute_result",
     "data": {
      "text/plain": "[{'r'},\n {'s'},\n {'s', 'x'},\n {'y'},\n {'y', 'z'},\n {'x', 'y'},\n {'x', 'y', 'z'},\n {'t'},\n {'t', 'z'},\n {'t', 'y'},\n {'t', 'y', 'z'},\n {'t', 'x'},\n {'t', 'x', 'z'},\n {'t', 'x', 'y'},\n {'t', 'x', 'y', 'z'},\n {'x'},\n {'x', 'z'},\n {'z'}]"
     },
     "metadata": {},
     "execution_count": 65
    }
   ],
   "source": [
    "freq_list  # 频繁项集"
   ]
  },
  {
   "cell_type": "code",
   "execution_count": null,
   "metadata": {},
   "outputs": [],
   "source": []
  }
 ],
 "metadata": {
  "kernelspec": {
   "display_name": "Python 3",
   "language": "python",
   "name": "python3"
  },
  "language_info": {
   "codemirror_mode": {
    "name": "ipython",
    "version": 3
   },
   "file_extension": ".py",
   "mimetype": "text/x-python",
   "name": "python",
   "nbconvert_exporter": "python",
   "pygments_lexer": "ipython3",
   "version": "3.8.0"
  }
 },
 "nbformat": 4,
 "nbformat_minor": 2
}