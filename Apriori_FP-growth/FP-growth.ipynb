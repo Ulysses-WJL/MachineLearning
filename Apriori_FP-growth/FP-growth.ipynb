{
 "cells": [
  {
   "cell_type": "markdown",
   "metadata": {},
   "source": [
    "# 使用FP-growth算法来发现频繁项集\n",
    "---\n",
    "使用 FP-growth算法更有效的挖掘`频繁项集`, 它只需要对数据库进行两次扫描, 而Apriori算法对于每个潜在的频繁项集都会扫描数据集判定给定模式是否频繁.\n",
    "FP-growth算法将数据存储在一种称为FP树的紧凑数据结构中.FP代表频繁模式(Frequent Pattern)\n",
    "\n",
    "使用实例: 搜索引擎自动补全查询词项.\n",
    "\n",
    "基本过程:\n",
    "- 构建FP树\n",
    "- 从FP树中挖掘频繁项集"
   ]
  },
  {
   "cell_type": "code",
   "execution_count": 56,
   "metadata": {},
   "outputs": [],
   "source": [
    "class TreeNode:\n",
    "    def __init__(self, name, counts, parent):\n",
    "        self.name = name  # 节点名称\n",
    "        self.counts = counts  # 节点出现次数\n",
    "        self.parent = parent  # 父节点\n",
    "        self.children = {}  # 子节点\n",
    "        # 节点链接\n",
    "        self.node_link = None  # 用于连接 不同项集 的 相同的项\n",
    "    \n",
    "    def inc(self, counts):\n",
    "        \"\"\"\n",
    "        增加项出现的次数\n",
    "        \"\"\"\n",
    "        self.counts += counts\n",
    "    \n",
    "    def __repr__(self):\n",
    "        return f\"Node({self.name}: {self.counts})\"\n",
    "    \n",
    "    def disp(self, index=1):\n",
    "        \"\"\"\n",
    "        文本方式显示树\n",
    "        \"\"\"\n",
    "        print(' ' * index, self.name, ' ', self.counts)\n",
    "        for child in self.children.values():\n",
    "            child.disp(index+1)"
   ]
  },
  {
   "cell_type": "markdown",
   "metadata": {},
   "source": [
    "## FP-growth 原理\n",
    "[构建FP树](https://github.com/apachecn/AiLearning/blob/master/docs/ml/12.%E4%BD%BF%E7%94%A8FP-growth%E7%AE%97%E6%B3%95%E6%9D%A5%E9%AB%98%E6%95%88%E5%8F%91%E7%8E%B0%E9%A2%91%E7%B9%81%E9%A1%B9%E9%9B%86.md#fp-growth-%E5%8E%9F%E7%90%86)"
   ]
  },
  {
   "cell_type": "code",
   "execution_count": 40,
   "metadata": {},
   "outputs": [],
   "source": [
    "def load_data():\n",
    "    sample = [\n",
    "        ['r', 'z', 'h', 'j', 'p'],\n",
    "       ['z', 'y', 'x', 'w', 'v', 'u', 't', 's'],\n",
    "       ['z'],\n",
    "       ['r', 'x', 'n', 'o', 's'],\n",
    "    #    ['r', 'x', 'n', 'o', 's'],\n",
    "       ['y', 'r', 'x', 'z', 'q', 't', 'p'],\n",
    "       ['y', 'z', 'x', 'e', 'q', 's', 't', 'm']\n",
    "    ]\n",
    "    return sample"
   ]
  },
  {
   "cell_type": "code",
   "execution_count": 41,
   "metadata": {},
   "outputs": [],
   "source": [
    "data = load_data()"
   ]
  },
  {
   "cell_type": "code",
   "execution_count": 58,
   "metadata": {},
   "outputs": [],
   "source": [
    "class FPTree:\n",
    "    def __init__(self, min_support = 1):\n",
    "        # 出现的最少次数 低于此值的项会被丢弃\n",
    "        self.min_support = min_support\n",
    "        self.root = None\n",
    "    \n",
    "    def fit(self, data):\n",
    "        data = self.init_data(data)\n",
    "        self.header_table = {}\n",
    "        # 1. 遍历所有的数据集合，计算所有项的支持度。\n",
    "        for set_ in data:\n",
    "            for item in set_:\n",
    "                # set_ : frozenset(['z', 'y', 'x', 'w', 'v', 'u', 't', 's'])\n",
    "                # 'z': 1(z累计次数) + 1(当前set出现次数) \n",
    "                self.header_table[item] = self.header_table.get(item, 0) + data[set_]\n",
    "       \n",
    "        # 2. 丢弃非频繁的项\n",
    "        for key in list(self.header_table.keys()):  # 需要创建一个新的list\n",
    "            if self.header_table[key] < self.min_support:\n",
    "                del self.header_table[key]\n",
    "#         print(head_table)\n",
    "        if not self.header_table:\n",
    "            return None, None\n",
    "        freq_sets = set(self.header_table.keys())\n",
    "        \n",
    "        # 3. 基于 支持度 降序排序所有的项。\n",
    "        sorted_list = sorted(self.header_table.items(), key=lambda item: item[1], reverse=True)\n",
    "        \n",
    "        # 4. 所有数据集合按照得到的顺序重新整理\n",
    "        # 5. 重新整理完成后，丢弃每个集合末尾非频繁的项。 \n",
    "        print(sorted_list)\n",
    "        new_keys = []\n",
    "        for set_, freqs in data.items():\n",
    "            new_keys.append([item[0] for item in sorted_list if item[0] in set_])\n",
    "        print(new_keys)  # ['z', 'r'], ['z', 'x', 'y', 's', 't'], ['z']\n",
    "        \n",
    "        for k in self.header_table:\n",
    "            # 格式化： dict{元素key: [元素次数, None]}\n",
    "            self.header_table[k] = [self.header_table[k], None]\n",
    "        \n",
    "        # 6. 读取每个集合插入FP树中，同时用一个头部链表数据结构维护不同集合的相同项\n",
    "        self.root = TreeNode('Null', 1, None)\n",
    "        for key, count, new_key in zip(data.keys(), data.values(), new_keys):\n",
    "            # 原始的frozenset, 项集合出现次数, 整理并舍弃末尾的集合\n",
    "            self.update_tree(self.root, new_key, self.header_table, count)\n",
    "    \n",
    "    def update_header(self, node_to_test, target_node):\n",
    "        \"\"\"updateHeader(更新头指针，建立相同元素之间的关系，例如： 左边的r指向右边的r值，就是后出现的相同元素 指向 已经出现的元素)\n",
    "        从头指针的nodeLink开始，一直沿着nodeLink直到到达链表末尾。这就是链表。\n",
    "        性能：如果链表很长可能会遇到迭代调用的次数限制。\n",
    "        Args:\n",
    "            nodeToTest  满足minSup {所有的元素+(value, treeNode)}\n",
    "            targetNode  Tree对象的子节点\n",
    "        \"\"\"\n",
    "        # 建立相同元素之间的关系，例如： 左边的r指向右边的r值\n",
    "        while (node_to_test.node_link is not None):\n",
    "            node_to_test = node_to_test.node_link\n",
    "        node_to_test.node_link = target_node\n",
    "    \n",
    "    def update_tree(self, root, new_keys, header_table, count):\n",
    "        # 递归形式 完成FP树\n",
    "        # print(root.children)\n",
    "        if new_keys[0] in root.children:  # 取最前面一个(出现次数最多的)\n",
    "            # 如果该元素在 inTree.children 这个字典中，就进行累加\n",
    "            root.children[new_keys[0]].inc(count)\n",
    "        else:\n",
    "            # 如果不存在子节点，我们为该inTree添加子节点\n",
    "            root.children[new_keys[0]] = TreeNode(new_keys[0], count, root)\n",
    "            # 如果满足minSup的dict字典的value值第二位为null， 我们就设置该元素为 本节点对应的tree节点\n",
    "            # 如果元素第二位不为null，我们就更新header节点, header_table表一项只对应一个节点\n",
    "            if header_table[new_keys[0]][1] is None:\n",
    "                header_table[new_keys[0]][1] = root.children[new_keys[0]]\n",
    "            else:\n",
    "                self.update_header(header_table[new_keys[0]][1], root.children[new_keys[0]])\n",
    "        if len(new_keys)>1:\n",
    "            self.update_tree(root.children[new_keys[0]], new_keys[1:], header_table, count)\n",
    "        \n",
    "    \n",
    "    def init_data(self, data):\n",
    "        ret_dict = {}  # {frozenset() : 次数}\n",
    "        for item in data:\n",
    "            ret_dict[frozenset(item)] = ret_dict.get(frozenset(item), 0) + 1\n",
    "        return ret_dict"
   ]
  },
  {
   "cell_type": "code",
   "execution_count": 59,
   "metadata": {},
   "outputs": [
    {
     "name": "stdout",
     "output_type": "stream",
     "text": [
      "[('z', 5), ('x', 4), ('r', 3), ('t', 3), ('s', 3), ('y', 3)]\n",
      "[['z', 'r'], ['z', 'x', 't', 's', 'y'], ['z'], ['x', 'r', 's'], ['z', 'x', 'r', 't', 'y'], ['z', 'x', 't', 's', 'y']]\n"
     ]
    }
   ],
   "source": [
    "fp = FPTree(min_support=3)\n",
    "fp.fit(data)"
   ]
  },
  {
   "cell_type": "code",
   "execution_count": 60,
   "metadata": {},
   "outputs": [
    {
     "data": {
      "text/plain": [
       "{'z': [5, Node(z: 5)],\n",
       " 'r': [3, Node(r: 1)],\n",
       " 'x': [4, Node(x: 3)],\n",
       " 't': [3, Node(t: 2)],\n",
       " 's': [3, Node(s: 2)],\n",
       " 'y': [3, Node(y: 2)]}"
      ]
     },
     "execution_count": 60,
     "metadata": {},
     "output_type": "execute_result"
    }
   ],
   "source": [
    "fp.header_table"
   ]
  },
  {
   "cell_type": "code",
   "execution_count": 61,
   "metadata": {},
   "outputs": [
    {
     "name": "stdout",
     "output_type": "stream",
     "text": [
      "  Null   1\n",
      "   z   5\n",
      "    r   1\n",
      "    x   3\n",
      "     t   2\n",
      "      s   2\n",
      "       y   2\n",
      "     r   1\n",
      "      t   1\n",
      "       y   1\n",
      "   x   1\n",
      "    r   1\n",
      "     s   1\n"
     ]
    }
   ],
   "source": [
    "fp.root.disp()"
   ]
  },
  {
   "cell_type": "code",
   "execution_count": 14,
   "metadata": {},
   "outputs": [
    {
     "name": "stdout",
     "output_type": "stream",
     "text": [
      "a 2 [2]\n",
      "b 2 []\n"
     ]
    }
   ],
   "source": [
    "d1 = {'a':2, 'b':2}\n",
    "l1 = [[2], []]\n",
    "for a, b ,c in zip(d1.keys(), d1.values(), l1):\n",
    "    print(a, b, c)"
   ]
  },
  {
   "cell_type": "code",
   "execution_count": null,
   "metadata": {},
   "outputs": [],
   "source": []
  }
 ],
 "metadata": {
  "kernelspec": {
   "display_name": "Python 3",
   "language": "python",
   "name": "python3"
  },
  "language_info": {
   "codemirror_mode": {
    "name": "ipython",
    "version": 3
   },
   "file_extension": ".py",
   "mimetype": "text/x-python",
   "name": "python",
   "nbconvert_exporter": "python",
   "pygments_lexer": "ipython3",
   "version": "3.8.0"
  }
 },
 "nbformat": 4,
 "nbformat_minor": 2
}
