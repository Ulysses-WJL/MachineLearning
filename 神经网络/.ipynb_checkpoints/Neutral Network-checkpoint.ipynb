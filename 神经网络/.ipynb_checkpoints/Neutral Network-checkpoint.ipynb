{
 "cells": [
  {
   "cell_type": "markdown",
   "metadata": {},
   "source": [
    "# 神经网络"
   ]
  },
  {
   "cell_type": "markdown",
   "metadata": {},
   "source": [
    "## 神经元(neuron)模型\n",
    "\n",
    "![MP](../img/M-P神经元模型.png)\n",
    "在这个模型中, 神经元接收到来自n个其它神经元传递过来的输入信号, 这些输入信号通过带权重的连接(connection)进行传递, 神经元接受到的总输入值将与神经元的阈值进行比较, 然后通过`激活函数`(activation function)或`响应函数`处理以产生神经元的输出.\n",
    "![激活](../img/激活函数.png)\n",
    "把这样多个神经元按一定的层次结构连接起来, 就得到了`神经网络`."
   ]
  },
  {
   "cell_type": "markdown",
   "metadata": {},
   "source": [
    "## 前向传播算法Forward Propagation\n",
    "\n",
    "下图为一个 3 层的神经网络，第一层成为输入层（**Input Layer**），最后一\n",
    "层称为输出层（**Output Layer**），中间一层成为隐藏层（**Hidden Layers**）。我们为每一层都增\n",
    "加一个偏差单位（**bias unit**）：\n",
    "![神经网络模型](../img/神经网络模型.png)"
   ]
  },
  {
   "cell_type": "code",
   "execution_count": null,
   "metadata": {},
   "outputs": [],
   "source": []
  }
 ],
 "metadata": {
  "kernelspec": {
   "display_name": "Python 3",
   "language": "python",
   "name": "python3"
  },
  "language_info": {
   "codemirror_mode": {
    "name": "ipython",
    "version": 3
   },
   "file_extension": ".py",
   "mimetype": "text/x-python",
   "name": "python",
   "nbconvert_exporter": "python",
   "pygments_lexer": "ipython3",
   "version": "3.8.0"
  }
 },
 "nbformat": 4,
 "nbformat_minor": 2
}
