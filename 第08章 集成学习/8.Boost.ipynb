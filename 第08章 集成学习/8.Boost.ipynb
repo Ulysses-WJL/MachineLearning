{
 "cells": [
  {
   "cell_type": "markdown",
   "metadata": {},
   "source": [
    "# 第8章 提升方法"
   ]
  },
  {
   "cell_type": "markdown",
   "metadata": {},
   "source": [
    "1．提升方法是将弱学习算法提升为强学习算法的统计学习方法。在分类学习中，提升方法通过反复修改训练数据的权值分布，构建一系列基本分类器（弱分类器），并将这些基本分类器线性组合，构成一个强分类器。代表性的提升方法是AdaBoost算法。\n",
    "\n",
    "AdaBoost模型是弱分类器的线性组合：\n",
    "\n",
    "$$f(x)=\\sum_{m=1}^{M} \\alpha_{m} G_{m}(x)$$\n",
    "\n",
    "2．AdaBoost算法的特点是通过迭代每次学习一个基本分类器。每次迭代中，提高那些被前一轮分类器错误分类数据的权值，而降低那些被正确分类的数据的权值。最后，AdaBoost将基本分类器的线性组合作为强分类器，其中给分类误差率小的基本分类器以大的权值，给分类误差率大的基本分类器以小的权值。\n",
    "\n",
    "3．AdaBoost的训练误差分析表明，AdaBoost的每次迭代可以减少它在训练数据集上的分类误差率，这说明了它作为提升方法的有效性。\n",
    "\n",
    "4．AdaBoost算法的一个解释是该算法实际是前向分步算法的一个实现。在这个方法里，模型是加法模型，损失函数是指数损失，算法是前向分步算法。\n",
    "每一步中极小化损失函数\n",
    "\n",
    "$$\\left(\\beta_{m}, \\gamma_{m}\\right)=\\arg \\min _{\\beta, \\gamma} \\sum_{i=1}^{N} L\\left(y_{i}, f_{m-1}\\left(x_{i}\\right)+\\beta b\\left(x_{i} ; \\gamma\\right)\\right)$$\n",
    "\n",
    "得 到 参 数$\\beta_{m}, \\gamma_{m}$。\n",
    "\n",
    "5．提升树是以分类树或回归树为基本分类器的提升方法。提升树被认为是统计学习中最有效的方法之一。\n"
   ]
  },
  {
   "cell_type": "markdown",
   "metadata": {
    "collapsed": true
   },
   "source": [
    "# Boost\n",
    "\n",
    "“装袋”（bagging）和“提升”（boost）是构建组合模型的两种最主要的方法，所谓的组合模型是由多个基本模型构成的模型，组合模型的预测效果往往比任意一个基本模型的效果都要好。\n",
    "\n",
    "- 装袋：每个基本模型由从总体样本中随机抽样得到的不同数据集进行训练得到，通过重抽样得到不同训练数据集的过程称为装袋。\n",
    "\n",
    "- 提升：每个基本模型训练时的数据集采用不同权重，针对上一个基本模型分类错误的样本增加权重，使得新的模型重点关注误分类样本\n",
    "\n",
    "### AdaBoost\n",
    "\n",
    "AdaBoost是AdaptiveBoost的缩写，表明该算法是具有适应性的提升算法。\n",
    "\n",
    "算法的步骤如下：\n",
    "\n",
    "1）给每个训练样本（$x_{1},x_{2},….,x_{N}$）分配权重，初始权重$w_{1}$均为1/N。\n",
    "\n",
    "2）针对带有权值的样本进行训练，得到模型$G_m$（初始模型为G1）(评判标准就是加权的错误率最小)。\n",
    "\n",
    "3）计算模型$G_m$的误分率$e_m=\\sum_{i=1}^Nw_iI(y_i\\not= G_m(x_i))$\n",
    "\n",
    "4）计算模型$G_m$的系数$\\alpha_m=0.5\\log[(1-e_m)/e_m]$\n",
    "\n",
    "5）根据误分率e和当前权重向量$w_m$更新权重向量$w_{m+1}$。\n",
    "\n",
    "6）计算组合模型$f(x)=\\sum_{m=1}^M\\alpha_mG_m(x_i)$的误分率。\n",
    "\n",
    "7）当组合模型的误分率或迭代次数低于一定阈值，停止迭代；否则，回到步骤2）"
   ]
  },
  {
   "cell_type": "code",
   "execution_count": 1,
   "metadata": {},
   "outputs": [],
   "source": [
    "import numpy as np\n",
    "import pandas as pd\n",
    "from sklearn.datasets import load_iris\n",
    "from sklearn.model_selection  import train_test_split\n",
    "import matplotlib.pyplot as plt\n",
    "\n",
    "np.set_printoptions(precision=4, suppress=True, threshold=16)\n",
    "%matplotlib inline"
   ]
  },
  {
   "cell_type": "code",
   "execution_count": 2,
   "metadata": {},
   "outputs": [],
   "source": [
    "# data\n",
    "def create_data():\n",
    "    iris = load_iris()\n",
    "    df = pd.DataFrame(iris.data, columns=iris.feature_names)\n",
    "    df['label'] = iris.target\n",
    "    df.columns = ['sepal length', 'sepal width', 'petal length', 'petal width', 'label']\n",
    "    data = np.array(df.iloc[:100, [0, 1, -1]])\n",
    "    for i in range(len(data)):\n",
    "        if data[i,-1] == 0:\n",
    "            data[i,-1] = -1\n",
    "    return data[:,:2], data[:,-1]"
   ]
  },
  {
   "cell_type": "code",
   "execution_count": 3,
   "metadata": {},
   "outputs": [],
   "source": [
    "X, y = create_data()\n",
    "X_train, X_test, y_train, y_test = train_test_split(X, y, test_size=0.2)"
   ]
  },
  {
   "cell_type": "code",
   "execution_count": 4,
   "metadata": {},
   "outputs": [
    {
     "output_type": "execute_result",
     "data": {
      "text/plain": "<matplotlib.legend.Legend at 0x7fc0dadaad50>"
     },
     "metadata": {},
     "execution_count": 4
    },
    {
     "output_type": "display_data",
     "data": {
      "text/plain": "<Figure size 432x288 with 1 Axes>",
      "image/svg+xml": "<?xml version=\"1.0\" encoding=\"utf-8\" standalone=\"no\"?>\n<!DOCTYPE svg PUBLIC \"-//W3C//DTD SVG 1.1//EN\"\n  \"http://www.w3.org/Graphics/SVG/1.1/DTD/svg11.dtd\">\n<!-- Created with matplotlib (https://matplotlib.org/) -->\n<svg height=\"250.670071pt\" version=\"1.1\" viewBox=\"0 0 372.103125 250.670071\" width=\"372.103125pt\" xmlns=\"http://www.w3.org/2000/svg\" xmlns:xlink=\"http://www.w3.org/1999/xlink\">\n <defs>\n  <style type=\"text/css\">\n*{stroke-linecap:butt;stroke-linejoin:round;}\n  </style>\n </defs>\n <g id=\"figure_1\">\n  <g id=\"patch_1\">\n   <path d=\"M 0 250.670071 \nL 372.103125 250.670071 \nL 372.103125 0 \nL 0 0 \nz\n\" style=\"fill:none;\"/>\n  </g>\n  <g id=\"axes_1\">\n   <g id=\"patch_2\">\n    <path d=\"M 30.103125 226.791946 \nL 364.903125 226.791946 \nL 364.903125 9.351946 \nL 30.103125 9.351946 \nz\n\" style=\"fill:#ffffff;\"/>\n   </g>\n   <g id=\"PathCollection_1\">\n    <defs>\n     <path d=\"M 0 3 \nC 0.795609 3 1.55874 2.683901 2.12132 2.12132 \nC 2.683901 1.55874 3 0.795609 3 0 \nC 3 -0.795609 2.683901 -1.55874 2.12132 -2.12132 \nC 1.55874 -2.683901 0.795609 -3 0 -3 \nC -0.795609 -3 -1.55874 -2.683901 -2.12132 -2.12132 \nC -2.683901 -1.55874 -3 -0.795609 -3 0 \nC -3 0.795609 -2.683901 1.55874 -2.12132 2.12132 \nC -1.55874 2.683901 -0.795609 3 0 3 \nz\n\" id=\"m49543c4d40\" style=\"stroke:#1f77b4;\"/>\n    </defs>\n    <g clip-path=\"url(#p9f68727199)\">\n     <use style=\"fill:#1f77b4;stroke:#1f77b4;\" x=\"135.503125\" xlink:href=\"#m49543c4d40\" y=\"93.362855\"/>\n     <use style=\"fill:#1f77b4;stroke:#1f77b4;\" x=\"112.95767\" xlink:href=\"#m49543c4d40\" y=\"134.544673\"/>\n     <use style=\"fill:#1f77b4;stroke:#1f77b4;\" x=\"90.412216\" xlink:href=\"#m49543c4d40\" y=\"118.071946\"/>\n     <use style=\"fill:#1f77b4;stroke:#1f77b4;\" x=\"79.139489\" xlink:href=\"#m49543c4d40\" y=\"126.30831\"/>\n     <use style=\"fill:#1f77b4;stroke:#1f77b4;\" x=\"124.230398\" xlink:href=\"#m49543c4d40\" y=\"85.126491\"/>\n     <use style=\"fill:#1f77b4;stroke:#1f77b4;\" x=\"169.321307\" xlink:href=\"#m49543c4d40\" y=\"60.417401\"/>\n     <use style=\"fill:#1f77b4;stroke:#1f77b4;\" x=\"79.139489\" xlink:href=\"#m49543c4d40\" y=\"101.599219\"/>\n     <use style=\"fill:#1f77b4;stroke:#1f77b4;\" x=\"124.230398\" xlink:href=\"#m49543c4d40\" y=\"101.599219\"/>\n     <use style=\"fill:#1f77b4;stroke:#1f77b4;\" x=\"56.594034\" xlink:href=\"#m49543c4d40\" y=\"142.781037\"/>\n     <use style=\"fill:#1f77b4;stroke:#1f77b4;\" x=\"112.95767\" xlink:href=\"#m49543c4d40\" y=\"126.30831\"/>\n     <use style=\"fill:#1f77b4;stroke:#1f77b4;\" x=\"169.321307\" xlink:href=\"#m49543c4d40\" y=\"76.890128\"/>\n     <use style=\"fill:#1f77b4;stroke:#1f77b4;\" x=\"101.684943\" xlink:href=\"#m49543c4d40\" y=\"101.599219\"/>\n     <use style=\"fill:#1f77b4;stroke:#1f77b4;\" x=\"101.684943\" xlink:href=\"#m49543c4d40\" y=\"134.544673\"/>\n     <use style=\"fill:#1f77b4;stroke:#1f77b4;\" x=\"45.321307\" xlink:href=\"#m49543c4d40\" y=\"134.544673\"/>\n     <use style=\"fill:#1f77b4;stroke:#1f77b4;\" x=\"214.412216\" xlink:href=\"#m49543c4d40\" y=\"52.181037\"/>\n     <use style=\"fill:#1f77b4;stroke:#1f77b4;\" x=\"203.139489\" xlink:href=\"#m49543c4d40\" y=\"19.235582\"/>\n     <use style=\"fill:#1f77b4;stroke:#1f77b4;\" x=\"169.321307\" xlink:href=\"#m49543c4d40\" y=\"60.417401\"/>\n     <use style=\"fill:#1f77b4;stroke:#1f77b4;\" x=\"135.503125\" xlink:href=\"#m49543c4d40\" y=\"93.362855\"/>\n     <use style=\"fill:#1f77b4;stroke:#1f77b4;\" x=\"203.139489\" xlink:href=\"#m49543c4d40\" y=\"68.653764\"/>\n     <use style=\"fill:#1f77b4;stroke:#1f77b4;\" x=\"135.503125\" xlink:href=\"#m49543c4d40\" y=\"68.653764\"/>\n     <use style=\"fill:#1f77b4;stroke:#1f77b4;\" x=\"169.321307\" xlink:href=\"#m49543c4d40\" y=\"101.599219\"/>\n     <use style=\"fill:#1f77b4;stroke:#1f77b4;\" x=\"135.503125\" xlink:href=\"#m49543c4d40\" y=\"76.890128\"/>\n     <use style=\"fill:#1f77b4;stroke:#1f77b4;\" x=\"79.139489\" xlink:href=\"#m49543c4d40\" y=\"85.126491\"/>\n     <use style=\"fill:#1f77b4;stroke:#1f77b4;\" x=\"135.503125\" xlink:href=\"#m49543c4d40\" y=\"109.835582\"/>\n     <use style=\"fill:#1f77b4;stroke:#1f77b4;\" x=\"101.684943\" xlink:href=\"#m49543c4d40\" y=\"101.599219\"/>\n     <use style=\"fill:#1f77b4;stroke:#1f77b4;\" x=\"124.230398\" xlink:href=\"#m49543c4d40\" y=\"134.544673\"/>\n     <use style=\"fill:#1f77b4;stroke:#1f77b4;\" x=\"124.230398\" xlink:href=\"#m49543c4d40\" y=\"101.599219\"/>\n     <use style=\"fill:#1f77b4;stroke:#1f77b4;\" x=\"146.775852\" xlink:href=\"#m49543c4d40\" y=\"93.362855\"/>\n     <use style=\"fill:#1f77b4;stroke:#1f77b4;\" x=\"146.775852\" xlink:href=\"#m49543c4d40\" y=\"101.599219\"/>\n     <use style=\"fill:#1f77b4;stroke:#1f77b4;\" x=\"90.412216\" xlink:href=\"#m49543c4d40\" y=\"118.071946\"/>\n     <use style=\"fill:#1f77b4;stroke:#1f77b4;\" x=\"101.684943\" xlink:href=\"#m49543c4d40\" y=\"126.30831\"/>\n     <use style=\"fill:#1f77b4;stroke:#1f77b4;\" x=\"169.321307\" xlink:href=\"#m49543c4d40\" y=\"101.599219\"/>\n     <use style=\"fill:#1f77b4;stroke:#1f77b4;\" x=\"146.775852\" xlink:href=\"#m49543c4d40\" y=\"43.944673\"/>\n     <use style=\"fill:#1f77b4;stroke:#1f77b4;\" x=\"180.594034\" xlink:href=\"#m49543c4d40\" y=\"35.70831\"/>\n     <use style=\"fill:#1f77b4;stroke:#1f77b4;\" x=\"112.95767\" xlink:href=\"#m49543c4d40\" y=\"126.30831\"/>\n     <use style=\"fill:#1f77b4;stroke:#1f77b4;\" x=\"124.230398\" xlink:href=\"#m49543c4d40\" y=\"118.071946\"/>\n     <use style=\"fill:#1f77b4;stroke:#1f77b4;\" x=\"180.594034\" xlink:href=\"#m49543c4d40\" y=\"93.362855\"/>\n     <use style=\"fill:#1f77b4;stroke:#1f77b4;\" x=\"112.95767\" xlink:href=\"#m49543c4d40\" y=\"85.126491\"/>\n     <use style=\"fill:#1f77b4;stroke:#1f77b4;\" x=\"56.594034\" xlink:href=\"#m49543c4d40\" y=\"134.544673\"/>\n     <use style=\"fill:#1f77b4;stroke:#1f77b4;\" x=\"135.503125\" xlink:href=\"#m49543c4d40\" y=\"101.599219\"/>\n     <use style=\"fill:#1f77b4;stroke:#1f77b4;\" x=\"124.230398\" xlink:href=\"#m49543c4d40\" y=\"93.362855\"/>\n     <use style=\"fill:#1f77b4;stroke:#1f77b4;\" x=\"67.866761\" xlink:href=\"#m49543c4d40\" y=\"192.199219\"/>\n     <use style=\"fill:#1f77b4;stroke:#1f77b4;\" x=\"56.594034\" xlink:href=\"#m49543c4d40\" y=\"118.071946\"/>\n     <use style=\"fill:#1f77b4;stroke:#1f77b4;\" x=\"124.230398\" xlink:href=\"#m49543c4d40\" y=\"93.362855\"/>\n     <use style=\"fill:#1f77b4;stroke:#1f77b4;\" x=\"135.503125\" xlink:href=\"#m49543c4d40\" y=\"68.653764\"/>\n     <use style=\"fill:#1f77b4;stroke:#1f77b4;\" x=\"101.684943\" xlink:href=\"#m49543c4d40\" y=\"134.544673\"/>\n     <use style=\"fill:#1f77b4;stroke:#1f77b4;\" x=\"135.503125\" xlink:href=\"#m49543c4d40\" y=\"68.653764\"/>\n     <use style=\"fill:#1f77b4;stroke:#1f77b4;\" x=\"79.139489\" xlink:href=\"#m49543c4d40\" y=\"118.071946\"/>\n     <use style=\"fill:#1f77b4;stroke:#1f77b4;\" x=\"158.04858\" xlink:href=\"#m49543c4d40\" y=\"76.890128\"/>\n     <use style=\"fill:#1f77b4;stroke:#1f77b4;\" x=\"124.230398\" xlink:href=\"#m49543c4d40\" y=\"109.835582\"/>\n    </g>\n   </g>\n   <g id=\"PathCollection_2\">\n    <defs>\n     <path d=\"M 0 3 \nC 0.795609 3 1.55874 2.683901 2.12132 2.12132 \nC 2.683901 1.55874 3 0.795609 3 0 \nC 3 -0.795609 2.683901 -1.55874 2.12132 -2.12132 \nC 1.55874 -2.683901 0.795609 -3 0 -3 \nC -0.795609 -3 -1.55874 -2.683901 -2.12132 -2.12132 \nC -2.683901 -1.55874 -3 -0.795609 -3 0 \nC -3 0.795609 -2.683901 1.55874 -2.12132 2.12132 \nC -1.55874 2.683901 -0.795609 3 0 3 \nz\n\" id=\"m7b45dda1ea\" style=\"stroke:#ff7f0e;\"/>\n    </defs>\n    <g clip-path=\"url(#p9f68727199)\">\n     <use style=\"fill:#ff7f0e;stroke:#ff7f0e;\" x=\"349.684943\" xlink:href=\"#m7b45dda1ea\" y=\"118.071946\"/>\n     <use style=\"fill:#ff7f0e;stroke:#ff7f0e;\" x=\"282.04858\" xlink:href=\"#m7b45dda1ea\" y=\"118.071946\"/>\n     <use style=\"fill:#ff7f0e;stroke:#ff7f0e;\" x=\"338.412216\" xlink:href=\"#m7b45dda1ea\" y=\"126.30831\"/>\n     <use style=\"fill:#ff7f0e;stroke:#ff7f0e;\" x=\"180.594034\" xlink:href=\"#m7b45dda1ea\" y=\"192.199219\"/>\n     <use style=\"fill:#ff7f0e;stroke:#ff7f0e;\" x=\"293.321307\" xlink:href=\"#m7b45dda1ea\" y=\"151.017401\"/>\n     <use style=\"fill:#ff7f0e;stroke:#ff7f0e;\" x=\"203.139489\" xlink:href=\"#m7b45dda1ea\" y=\"151.017401\"/>\n     <use style=\"fill:#ff7f0e;stroke:#ff7f0e;\" x=\"270.775852\" xlink:href=\"#m7b45dda1ea\" y=\"109.835582\"/>\n     <use style=\"fill:#ff7f0e;stroke:#ff7f0e;\" x=\"112.95767\" xlink:href=\"#m7b45dda1ea\" y=\"183.962855\"/>\n     <use style=\"fill:#ff7f0e;stroke:#ff7f0e;\" x=\"304.594034\" xlink:href=\"#m7b45dda1ea\" y=\"142.781037\"/>\n     <use style=\"fill:#ff7f0e;stroke:#ff7f0e;\" x=\"146.775852\" xlink:href=\"#m7b45dda1ea\" y=\"159.253764\"/>\n     <use style=\"fill:#ff7f0e;stroke:#ff7f0e;\" x=\"124.230398\" xlink:href=\"#m7b45dda1ea\" y=\"216.90831\"/>\n     <use style=\"fill:#ff7f0e;stroke:#ff7f0e;\" x=\"225.684943\" xlink:href=\"#m7b45dda1ea\" y=\"134.544673\"/>\n     <use style=\"fill:#ff7f0e;stroke:#ff7f0e;\" x=\"236.95767\" xlink:href=\"#m7b45dda1ea\" y=\"200.435582\"/>\n     <use style=\"fill:#ff7f0e;stroke:#ff7f0e;\" x=\"248.230398\" xlink:href=\"#m7b45dda1ea\" y=\"142.781037\"/>\n     <use style=\"fill:#ff7f0e;stroke:#ff7f0e;\" x=\"191.866761\" xlink:href=\"#m7b45dda1ea\" y=\"142.781037\"/>\n     <use style=\"fill:#ff7f0e;stroke:#ff7f0e;\" x=\"315.866761\" xlink:href=\"#m7b45dda1ea\" y=\"126.30831\"/>\n     <use style=\"fill:#ff7f0e;stroke:#ff7f0e;\" x=\"191.866761\" xlink:href=\"#m7b45dda1ea\" y=\"134.544673\"/>\n     <use style=\"fill:#ff7f0e;stroke:#ff7f0e;\" x=\"214.412216\" xlink:href=\"#m7b45dda1ea\" y=\"159.253764\"/>\n     <use style=\"fill:#ff7f0e;stroke:#ff7f0e;\" x=\"259.503125\" xlink:href=\"#m7b45dda1ea\" y=\"200.435582\"/>\n     <use style=\"fill:#ff7f0e;stroke:#ff7f0e;\" x=\"191.866761\" xlink:href=\"#m7b45dda1ea\" y=\"175.726491\"/>\n     <use style=\"fill:#ff7f0e;stroke:#ff7f0e;\" x=\"225.684943\" xlink:href=\"#m7b45dda1ea\" y=\"118.071946\"/>\n     <use style=\"fill:#ff7f0e;stroke:#ff7f0e;\" x=\"248.230398\" xlink:href=\"#m7b45dda1ea\" y=\"151.017401\"/>\n     <use style=\"fill:#ff7f0e;stroke:#ff7f0e;\" x=\"270.775852\" xlink:href=\"#m7b45dda1ea\" y=\"175.726491\"/>\n     <use style=\"fill:#ff7f0e;stroke:#ff7f0e;\" x=\"248.230398\" xlink:href=\"#m7b45dda1ea\" y=\"151.017401\"/>\n     <use style=\"fill:#ff7f0e;stroke:#ff7f0e;\" x=\"282.04858\" xlink:href=\"#m7b45dda1ea\" y=\"142.781037\"/>\n     <use style=\"fill:#ff7f0e;stroke:#ff7f0e;\" x=\"304.594034\" xlink:href=\"#m7b45dda1ea\" y=\"134.544673\"/>\n     <use style=\"fill:#ff7f0e;stroke:#ff7f0e;\" x=\"327.139489\" xlink:href=\"#m7b45dda1ea\" y=\"151.017401\"/>\n     <use style=\"fill:#ff7f0e;stroke:#ff7f0e;\" x=\"315.866761\" xlink:href=\"#m7b45dda1ea\" y=\"134.544673\"/>\n     <use style=\"fill:#ff7f0e;stroke:#ff7f0e;\" x=\"236.95767\" xlink:href=\"#m7b45dda1ea\" y=\"142.781037\"/>\n     <use style=\"fill:#ff7f0e;stroke:#ff7f0e;\" x=\"203.139489\" xlink:href=\"#m7b45dda1ea\" y=\"167.490128\"/>\n     <use style=\"fill:#ff7f0e;stroke:#ff7f0e;\" x=\"180.594034\" xlink:href=\"#m7b45dda1ea\" y=\"183.962855\"/>\n     <use style=\"fill:#ff7f0e;stroke:#ff7f0e;\" x=\"180.594034\" xlink:href=\"#m7b45dda1ea\" y=\"183.962855\"/>\n     <use style=\"fill:#ff7f0e;stroke:#ff7f0e;\" x=\"214.412216\" xlink:href=\"#m7b45dda1ea\" y=\"159.253764\"/>\n     <use style=\"fill:#ff7f0e;stroke:#ff7f0e;\" x=\"236.95767\" xlink:href=\"#m7b45dda1ea\" y=\"159.253764\"/>\n     <use style=\"fill:#ff7f0e;stroke:#ff7f0e;\" x=\"169.321307\" xlink:href=\"#m7b45dda1ea\" y=\"134.544673\"/>\n     <use style=\"fill:#ff7f0e;stroke:#ff7f0e;\" x=\"236.95767\" xlink:href=\"#m7b45dda1ea\" y=\"101.599219\"/>\n     <use style=\"fill:#ff7f0e;stroke:#ff7f0e;\" x=\"315.866761\" xlink:href=\"#m7b45dda1ea\" y=\"126.30831\"/>\n     <use style=\"fill:#ff7f0e;stroke:#ff7f0e;\" x=\"270.775852\" xlink:href=\"#m7b45dda1ea\" y=\"192.199219\"/>\n     <use style=\"fill:#ff7f0e;stroke:#ff7f0e;\" x=\"191.866761\" xlink:href=\"#m7b45dda1ea\" y=\"134.544673\"/>\n     <use style=\"fill:#ff7f0e;stroke:#ff7f0e;\" x=\"180.594034\" xlink:href=\"#m7b45dda1ea\" y=\"175.726491\"/>\n     <use style=\"fill:#ff7f0e;stroke:#ff7f0e;\" x=\"180.594034\" xlink:href=\"#m7b45dda1ea\" y=\"167.490128\"/>\n     <use style=\"fill:#ff7f0e;stroke:#ff7f0e;\" x=\"248.230398\" xlink:href=\"#m7b45dda1ea\" y=\"134.544673\"/>\n     <use style=\"fill:#ff7f0e;stroke:#ff7f0e;\" x=\"214.412216\" xlink:href=\"#m7b45dda1ea\" y=\"167.490128\"/>\n     <use style=\"fill:#ff7f0e;stroke:#ff7f0e;\" x=\"124.230398\" xlink:href=\"#m7b45dda1ea\" y=\"192.199219\"/>\n     <use style=\"fill:#ff7f0e;stroke:#ff7f0e;\" x=\"191.866761\" xlink:href=\"#m7b45dda1ea\" y=\"159.253764\"/>\n     <use style=\"fill:#ff7f0e;stroke:#ff7f0e;\" x=\"203.139489\" xlink:href=\"#m7b45dda1ea\" y=\"134.544673\"/>\n     <use style=\"fill:#ff7f0e;stroke:#ff7f0e;\" x=\"203.139489\" xlink:href=\"#m7b45dda1ea\" y=\"142.781037\"/>\n     <use style=\"fill:#ff7f0e;stroke:#ff7f0e;\" x=\"259.503125\" xlink:href=\"#m7b45dda1ea\" y=\"142.781037\"/>\n     <use style=\"fill:#ff7f0e;stroke:#ff7f0e;\" x=\"135.503125\" xlink:href=\"#m7b45dda1ea\" y=\"175.726491\"/>\n     <use style=\"fill:#ff7f0e;stroke:#ff7f0e;\" x=\"203.139489\" xlink:href=\"#m7b45dda1ea\" y=\"151.017401\"/>\n    </g>\n   </g>\n   <g id=\"matplotlib.axis_1\">\n    <g id=\"xtick_1\">\n     <g id=\"line2d_1\">\n      <defs>\n       <path d=\"M 0 0 \nL 0 3.5 \n\" id=\"mb087bb7f1c\" style=\"stroke:#000000;stroke-width:0.8;\"/>\n      </defs>\n      <g>\n       <use style=\"stroke:#000000;stroke-width:0.8;\" x=\"67.866761\" xlink:href=\"#mb087bb7f1c\" y=\"226.791946\"/>\n      </g>\n     </g>\n     <g id=\"text_1\">\n      <!-- 4.5 -->\n      <defs>\n       <path d=\"M 37.796875 64.3125 \nL 12.890625 25.390625 \nL 37.796875 25.390625 \nz\nM 35.203125 72.90625 \nL 47.609375 72.90625 \nL 47.609375 25.390625 \nL 58.015625 25.390625 \nL 58.015625 17.1875 \nL 47.609375 17.1875 \nL 47.609375 0 \nL 37.796875 0 \nL 37.796875 17.1875 \nL 4.890625 17.1875 \nL 4.890625 26.703125 \nz\n\" id=\"DejaVuSans-52\"/>\n       <path d=\"M 10.6875 12.40625 \nL 21 12.40625 \nL 21 0 \nL 10.6875 0 \nz\n\" id=\"DejaVuSans-46\"/>\n       <path d=\"M 10.796875 72.90625 \nL 49.515625 72.90625 \nL 49.515625 64.59375 \nL 19.828125 64.59375 \nL 19.828125 46.734375 \nQ 21.96875 47.46875 24.109375 47.828125 \nQ 26.265625 48.1875 28.421875 48.1875 \nQ 40.625 48.1875 47.75 41.5 \nQ 54.890625 34.8125 54.890625 23.390625 \nQ 54.890625 11.625 47.5625 5.09375 \nQ 40.234375 -1.421875 26.90625 -1.421875 \nQ 22.3125 -1.421875 17.546875 -0.640625 \nQ 12.796875 0.140625 7.71875 1.703125 \nL 7.71875 11.625 \nQ 12.109375 9.234375 16.796875 8.0625 \nQ 21.484375 6.890625 26.703125 6.890625 \nQ 35.15625 6.890625 40.078125 11.328125 \nQ 45.015625 15.765625 45.015625 23.390625 \nQ 45.015625 31 40.078125 35.4375 \nQ 35.15625 39.890625 26.703125 39.890625 \nQ 22.75 39.890625 18.8125 39.015625 \nQ 14.890625 38.140625 10.796875 36.28125 \nz\n\" id=\"DejaVuSans-53\"/>\n      </defs>\n      <g transform=\"translate(59.915199 241.390384)scale(0.1 -0.1)\">\n       <use xlink:href=\"#DejaVuSans-52\"/>\n       <use x=\"63.623047\" xlink:href=\"#DejaVuSans-46\"/>\n       <use x=\"95.410156\" xlink:href=\"#DejaVuSans-53\"/>\n      </g>\n     </g>\n    </g>\n    <g id=\"xtick_2\">\n     <g id=\"line2d_2\">\n      <g>\n       <use style=\"stroke:#000000;stroke-width:0.8;\" x=\"124.230398\" xlink:href=\"#mb087bb7f1c\" y=\"226.791946\"/>\n      </g>\n     </g>\n     <g id=\"text_2\">\n      <!-- 5.0 -->\n      <defs>\n       <path d=\"M 31.78125 66.40625 \nQ 24.171875 66.40625 20.328125 58.90625 \nQ 16.5 51.421875 16.5 36.375 \nQ 16.5 21.390625 20.328125 13.890625 \nQ 24.171875 6.390625 31.78125 6.390625 \nQ 39.453125 6.390625 43.28125 13.890625 \nQ 47.125 21.390625 47.125 36.375 \nQ 47.125 51.421875 43.28125 58.90625 \nQ 39.453125 66.40625 31.78125 66.40625 \nz\nM 31.78125 74.21875 \nQ 44.046875 74.21875 50.515625 64.515625 \nQ 56.984375 54.828125 56.984375 36.375 \nQ 56.984375 17.96875 50.515625 8.265625 \nQ 44.046875 -1.421875 31.78125 -1.421875 \nQ 19.53125 -1.421875 13.0625 8.265625 \nQ 6.59375 17.96875 6.59375 36.375 \nQ 6.59375 54.828125 13.0625 64.515625 \nQ 19.53125 74.21875 31.78125 74.21875 \nz\n\" id=\"DejaVuSans-48\"/>\n      </defs>\n      <g transform=\"translate(116.278835 241.390384)scale(0.1 -0.1)\">\n       <use xlink:href=\"#DejaVuSans-53\"/>\n       <use x=\"63.623047\" xlink:href=\"#DejaVuSans-46\"/>\n       <use x=\"95.410156\" xlink:href=\"#DejaVuSans-48\"/>\n      </g>\n     </g>\n    </g>\n    <g id=\"xtick_3\">\n     <g id=\"line2d_3\">\n      <g>\n       <use style=\"stroke:#000000;stroke-width:0.8;\" x=\"180.594034\" xlink:href=\"#mb087bb7f1c\" y=\"226.791946\"/>\n      </g>\n     </g>\n     <g id=\"text_3\">\n      <!-- 5.5 -->\n      <g transform=\"translate(172.642472 241.390384)scale(0.1 -0.1)\">\n       <use xlink:href=\"#DejaVuSans-53\"/>\n       <use x=\"63.623047\" xlink:href=\"#DejaVuSans-46\"/>\n       <use x=\"95.410156\" xlink:href=\"#DejaVuSans-53\"/>\n      </g>\n     </g>\n    </g>\n    <g id=\"xtick_4\">\n     <g id=\"line2d_4\">\n      <g>\n       <use style=\"stroke:#000000;stroke-width:0.8;\" x=\"236.95767\" xlink:href=\"#mb087bb7f1c\" y=\"226.791946\"/>\n      </g>\n     </g>\n     <g id=\"text_4\">\n      <!-- 6.0 -->\n      <defs>\n       <path d=\"M 33.015625 40.375 \nQ 26.375 40.375 22.484375 35.828125 \nQ 18.609375 31.296875 18.609375 23.390625 \nQ 18.609375 15.53125 22.484375 10.953125 \nQ 26.375 6.390625 33.015625 6.390625 \nQ 39.65625 6.390625 43.53125 10.953125 \nQ 47.40625 15.53125 47.40625 23.390625 \nQ 47.40625 31.296875 43.53125 35.828125 \nQ 39.65625 40.375 33.015625 40.375 \nz\nM 52.59375 71.296875 \nL 52.59375 62.3125 \nQ 48.875 64.0625 45.09375 64.984375 \nQ 41.3125 65.921875 37.59375 65.921875 \nQ 27.828125 65.921875 22.671875 59.328125 \nQ 17.53125 52.734375 16.796875 39.40625 \nQ 19.671875 43.65625 24.015625 45.921875 \nQ 28.375 48.1875 33.59375 48.1875 \nQ 44.578125 48.1875 50.953125 41.515625 \nQ 57.328125 34.859375 57.328125 23.390625 \nQ 57.328125 12.15625 50.6875 5.359375 \nQ 44.046875 -1.421875 33.015625 -1.421875 \nQ 20.359375 -1.421875 13.671875 8.265625 \nQ 6.984375 17.96875 6.984375 36.375 \nQ 6.984375 53.65625 15.1875 63.9375 \nQ 23.390625 74.21875 37.203125 74.21875 \nQ 40.921875 74.21875 44.703125 73.484375 \nQ 48.484375 72.75 52.59375 71.296875 \nz\n\" id=\"DejaVuSans-54\"/>\n      </defs>\n      <g transform=\"translate(229.006108 241.390384)scale(0.1 -0.1)\">\n       <use xlink:href=\"#DejaVuSans-54\"/>\n       <use x=\"63.623047\" xlink:href=\"#DejaVuSans-46\"/>\n       <use x=\"95.410156\" xlink:href=\"#DejaVuSans-48\"/>\n      </g>\n     </g>\n    </g>\n    <g id=\"xtick_5\">\n     <g id=\"line2d_5\">\n      <g>\n       <use style=\"stroke:#000000;stroke-width:0.8;\" x=\"293.321307\" xlink:href=\"#mb087bb7f1c\" y=\"226.791946\"/>\n      </g>\n     </g>\n     <g id=\"text_5\">\n      <!-- 6.5 -->\n      <g transform=\"translate(285.369744 241.390384)scale(0.1 -0.1)\">\n       <use xlink:href=\"#DejaVuSans-54\"/>\n       <use x=\"63.623047\" xlink:href=\"#DejaVuSans-46\"/>\n       <use x=\"95.410156\" xlink:href=\"#DejaVuSans-53\"/>\n      </g>\n     </g>\n    </g>\n    <g id=\"xtick_6\">\n     <g id=\"line2d_6\">\n      <g>\n       <use style=\"stroke:#000000;stroke-width:0.8;\" x=\"349.684943\" xlink:href=\"#mb087bb7f1c\" y=\"226.791946\"/>\n      </g>\n     </g>\n     <g id=\"text_6\">\n      <!-- 7.0 -->\n      <defs>\n       <path d=\"M 8.203125 72.90625 \nL 55.078125 72.90625 \nL 55.078125 68.703125 \nL 28.609375 0 \nL 18.3125 0 \nL 43.21875 64.59375 \nL 8.203125 64.59375 \nz\n\" id=\"DejaVuSans-55\"/>\n      </defs>\n      <g transform=\"translate(341.733381 241.390384)scale(0.1 -0.1)\">\n       <use xlink:href=\"#DejaVuSans-55\"/>\n       <use x=\"63.623047\" xlink:href=\"#DejaVuSans-46\"/>\n       <use x=\"95.410156\" xlink:href=\"#DejaVuSans-48\"/>\n      </g>\n     </g>\n    </g>\n   </g>\n   <g id=\"matplotlib.axis_2\">\n    <g id=\"ytick_1\">\n     <g id=\"line2d_7\">\n      <defs>\n       <path d=\"M 0 0 \nL -3.5 0 \n\" id=\"ma08cc00a59\" style=\"stroke:#000000;stroke-width:0.8;\"/>\n      </defs>\n      <g>\n       <use style=\"stroke:#000000;stroke-width:0.8;\" x=\"30.103125\" xlink:href=\"#ma08cc00a59\" y=\"216.90831\"/>\n      </g>\n     </g>\n     <g id=\"text_7\">\n      <!-- 2.0 -->\n      <defs>\n       <path d=\"M 19.1875 8.296875 \nL 53.609375 8.296875 \nL 53.609375 0 \nL 7.328125 0 \nL 7.328125 8.296875 \nQ 12.9375 14.109375 22.625 23.890625 \nQ 32.328125 33.6875 34.8125 36.53125 \nQ 39.546875 41.84375 41.421875 45.53125 \nQ 43.3125 49.21875 43.3125 52.78125 \nQ 43.3125 58.59375 39.234375 62.25 \nQ 35.15625 65.921875 28.609375 65.921875 \nQ 23.96875 65.921875 18.8125 64.3125 \nQ 13.671875 62.703125 7.8125 59.421875 \nL 7.8125 69.390625 \nQ 13.765625 71.78125 18.9375 73 \nQ 24.125 74.21875 28.421875 74.21875 \nQ 39.75 74.21875 46.484375 68.546875 \nQ 53.21875 62.890625 53.21875 53.421875 \nQ 53.21875 48.921875 51.53125 44.890625 \nQ 49.859375 40.875 45.40625 35.40625 \nQ 44.1875 33.984375 37.640625 27.21875 \nQ 31.109375 20.453125 19.1875 8.296875 \nz\n\" id=\"DejaVuSans-50\"/>\n      </defs>\n      <g transform=\"translate(7.2 220.707528)scale(0.1 -0.1)\">\n       <use xlink:href=\"#DejaVuSans-50\"/>\n       <use x=\"63.623047\" xlink:href=\"#DejaVuSans-46\"/>\n       <use x=\"95.410156\" xlink:href=\"#DejaVuSans-48\"/>\n      </g>\n     </g>\n    </g>\n    <g id=\"ytick_2\">\n     <g id=\"line2d_8\">\n      <g>\n       <use style=\"stroke:#000000;stroke-width:0.8;\" x=\"30.103125\" xlink:href=\"#ma08cc00a59\" y=\"175.726491\"/>\n      </g>\n     </g>\n     <g id=\"text_8\">\n      <!-- 2.5 -->\n      <g transform=\"translate(7.2 179.52571)scale(0.1 -0.1)\">\n       <use xlink:href=\"#DejaVuSans-50\"/>\n       <use x=\"63.623047\" xlink:href=\"#DejaVuSans-46\"/>\n       <use x=\"95.410156\" xlink:href=\"#DejaVuSans-53\"/>\n      </g>\n     </g>\n    </g>\n    <g id=\"ytick_3\">\n     <g id=\"line2d_9\">\n      <g>\n       <use style=\"stroke:#000000;stroke-width:0.8;\" x=\"30.103125\" xlink:href=\"#ma08cc00a59\" y=\"134.544673\"/>\n      </g>\n     </g>\n     <g id=\"text_9\">\n      <!-- 3.0 -->\n      <defs>\n       <path d=\"M 40.578125 39.3125 \nQ 47.65625 37.796875 51.625 33 \nQ 55.609375 28.21875 55.609375 21.1875 \nQ 55.609375 10.40625 48.1875 4.484375 \nQ 40.765625 -1.421875 27.09375 -1.421875 \nQ 22.515625 -1.421875 17.65625 -0.515625 \nQ 12.796875 0.390625 7.625 2.203125 \nL 7.625 11.71875 \nQ 11.71875 9.328125 16.59375 8.109375 \nQ 21.484375 6.890625 26.8125 6.890625 \nQ 36.078125 6.890625 40.9375 10.546875 \nQ 45.796875 14.203125 45.796875 21.1875 \nQ 45.796875 27.640625 41.28125 31.265625 \nQ 36.765625 34.90625 28.71875 34.90625 \nL 20.21875 34.90625 \nL 20.21875 43.015625 \nL 29.109375 43.015625 \nQ 36.375 43.015625 40.234375 45.921875 \nQ 44.09375 48.828125 44.09375 54.296875 \nQ 44.09375 59.90625 40.109375 62.90625 \nQ 36.140625 65.921875 28.71875 65.921875 \nQ 24.65625 65.921875 20.015625 65.03125 \nQ 15.375 64.15625 9.8125 62.3125 \nL 9.8125 71.09375 \nQ 15.4375 72.65625 20.34375 73.4375 \nQ 25.25 74.21875 29.59375 74.21875 \nQ 40.828125 74.21875 47.359375 69.109375 \nQ 53.90625 64.015625 53.90625 55.328125 \nQ 53.90625 49.265625 50.4375 45.09375 \nQ 46.96875 40.921875 40.578125 39.3125 \nz\n\" id=\"DejaVuSans-51\"/>\n      </defs>\n      <g transform=\"translate(7.2 138.343892)scale(0.1 -0.1)\">\n       <use xlink:href=\"#DejaVuSans-51\"/>\n       <use x=\"63.623047\" xlink:href=\"#DejaVuSans-46\"/>\n       <use x=\"95.410156\" xlink:href=\"#DejaVuSans-48\"/>\n      </g>\n     </g>\n    </g>\n    <g id=\"ytick_4\">\n     <g id=\"line2d_10\">\n      <g>\n       <use style=\"stroke:#000000;stroke-width:0.8;\" x=\"30.103125\" xlink:href=\"#ma08cc00a59\" y=\"93.362855\"/>\n      </g>\n     </g>\n     <g id=\"text_10\">\n      <!-- 3.5 -->\n      <g transform=\"translate(7.2 97.162074)scale(0.1 -0.1)\">\n       <use xlink:href=\"#DejaVuSans-51\"/>\n       <use x=\"63.623047\" xlink:href=\"#DejaVuSans-46\"/>\n       <use x=\"95.410156\" xlink:href=\"#DejaVuSans-53\"/>\n      </g>\n     </g>\n    </g>\n    <g id=\"ytick_5\">\n     <g id=\"line2d_11\">\n      <g>\n       <use style=\"stroke:#000000;stroke-width:0.8;\" x=\"30.103125\" xlink:href=\"#ma08cc00a59\" y=\"52.181037\"/>\n      </g>\n     </g>\n     <g id=\"text_11\">\n      <!-- 4.0 -->\n      <g transform=\"translate(7.2 55.980256)scale(0.1 -0.1)\">\n       <use xlink:href=\"#DejaVuSans-52\"/>\n       <use x=\"63.623047\" xlink:href=\"#DejaVuSans-46\"/>\n       <use x=\"95.410156\" xlink:href=\"#DejaVuSans-48\"/>\n      </g>\n     </g>\n    </g>\n    <g id=\"ytick_6\">\n     <g id=\"line2d_12\">\n      <g>\n       <use style=\"stroke:#000000;stroke-width:0.8;\" x=\"30.103125\" xlink:href=\"#ma08cc00a59\" y=\"10.999219\"/>\n      </g>\n     </g>\n     <g id=\"text_12\">\n      <!-- 4.5 -->\n      <g transform=\"translate(7.2 14.798437)scale(0.1 -0.1)\">\n       <use xlink:href=\"#DejaVuSans-52\"/>\n       <use x=\"63.623047\" xlink:href=\"#DejaVuSans-46\"/>\n       <use x=\"95.410156\" xlink:href=\"#DejaVuSans-53\"/>\n      </g>\n     </g>\n    </g>\n   </g>\n   <g id=\"patch_3\">\n    <path d=\"M 30.103125 226.791946 \nL 30.103125 9.351946 \n\" style=\"fill:none;stroke:#000000;stroke-linecap:square;stroke-linejoin:miter;stroke-width:0.8;\"/>\n   </g>\n   <g id=\"patch_4\">\n    <path d=\"M 364.903125 226.791946 \nL 364.903125 9.351946 \n\" style=\"fill:none;stroke:#000000;stroke-linecap:square;stroke-linejoin:miter;stroke-width:0.8;\"/>\n   </g>\n   <g id=\"patch_5\">\n    <path d=\"M 30.103125 226.791946 \nL 364.903125 226.791946 \n\" style=\"fill:none;stroke:#000000;stroke-linecap:square;stroke-linejoin:miter;stroke-width:0.8;\"/>\n   </g>\n   <g id=\"patch_6\">\n    <path d=\"M 30.103125 9.351946 \nL 364.903125 9.351946 \n\" style=\"fill:none;stroke:#000000;stroke-linecap:square;stroke-linejoin:miter;stroke-width:0.8;\"/>\n   </g>\n   <g id=\"legend_1\">\n    <g id=\"patch_7\">\n     <path d=\"M 319.540625 46.708196 \nL 357.903125 46.708196 \nQ 359.903125 46.708196 359.903125 44.708196 \nL 359.903125 16.351946 \nQ 359.903125 14.351946 357.903125 14.351946 \nL 319.540625 14.351946 \nQ 317.540625 14.351946 317.540625 16.351946 \nL 317.540625 44.708196 \nQ 317.540625 46.708196 319.540625 46.708196 \nz\n\" style=\"fill:#ffffff;opacity:0.8;stroke:#cccccc;stroke-linejoin:miter;\"/>\n    </g>\n    <g id=\"PathCollection_3\">\n     <g>\n      <use style=\"fill:#1f77b4;stroke:#1f77b4;\" x=\"331.540625\" xlink:href=\"#m49543c4d40\" y=\"23.325384\"/>\n     </g>\n    </g>\n    <g id=\"text_13\">\n     <!-- 0 -->\n     <g transform=\"translate(349.540625 25.950384)scale(0.1 -0.1)\">\n      <use xlink:href=\"#DejaVuSans-48\"/>\n     </g>\n    </g>\n    <g id=\"PathCollection_4\">\n     <g>\n      <use style=\"fill:#ff7f0e;stroke:#ff7f0e;\" x=\"331.540625\" xlink:href=\"#m7b45dda1ea\" y=\"38.003509\"/>\n     </g>\n    </g>\n    <g id=\"text_14\">\n     <!-- 1 -->\n     <defs>\n      <path d=\"M 12.40625 8.296875 \nL 28.515625 8.296875 \nL 28.515625 63.921875 \nL 10.984375 60.40625 \nL 10.984375 69.390625 \nL 28.421875 72.90625 \nL 38.28125 72.90625 \nL 38.28125 8.296875 \nL 54.390625 8.296875 \nL 54.390625 0 \nL 12.40625 0 \nz\n\" id=\"DejaVuSans-49\"/>\n     </defs>\n     <g transform=\"translate(349.540625 40.628509)scale(0.1 -0.1)\">\n      <use xlink:href=\"#DejaVuSans-49\"/>\n     </g>\n    </g>\n   </g>\n  </g>\n </g>\n <defs>\n  <clipPath id=\"p9f68727199\">\n   <rect height=\"217.44\" width=\"334.8\" x=\"30.103125\" y=\"9.351946\"/>\n  </clipPath>\n </defs>\n</svg>\n",
      "image/png": "[encoded data removed]"
     },
     "metadata": {
      "needs_background": "light"
     }
    }
   ],
   "source": [
    "plt.scatter(X[:50,0],X[:50,1], label='0')\n",
    "plt.scatter(X[50:,0],X[50:,1], label='1')\n",
    "plt.legend()"
   ]
  },
  {
   "cell_type": "markdown",
   "metadata": {},
   "source": [
    "----\n",
    "\n",
    "### AdaBoost in Python"
   ]
  },
  {
   "cell_type": "markdown",
   "metadata": {},
   "source": [
    "#### 分类问题"
   ]
  },
  {
   "cell_type": "code",
   "execution_count": 6,
   "metadata": {},
   "outputs": [],
   "source": [
    "# 二类分类问题的 基学习器 G_m\n",
    "\n",
    "def greater_than(X, feature, value):\n",
    "    return np.where(X[:, feature] > value, 1, -1) \n",
    "\n",
    "def less_than(X, feature, value):\n",
    "    return np.where(X[:, feature] < value, 1, -1)\n",
    "\n",
    "FUNC_LIST = [greater_than, less_than]\n",
    "\n",
    "\n",
    "class BiClassifer:\n",
    "    def __init__(self, funcs=FUNC_LIST):# 样本权值\n",
    "        self.funcs = funcs\n",
    "        self.value_split = None\n",
    "        self.func_i = None\n",
    "        self.feature = None\n",
    "    \n",
    "    @staticmethod\n",
    "    def error_(y_pred, y, weights):\n",
    "        return np.sum(weights * (y_pred != y))\n",
    "        \n",
    "    def choose_best_value(self, X, y, feature):\n",
    "        # 返回 最小的error, 最佳分割点 相应的func \n",
    "        value_split_list = np.sort(X[:, feature])\n",
    "        value_split = (value_split_list[1:] + value_split_list[:-1]) / 2\n",
    "        \n",
    "        error_one_feature = np.zeros((len(value_split), 4))\n",
    "        for i, value in enumerate(value_split):\n",
    "            error_min = np.inf\n",
    "            for j, func in enumerate(self.funcs):\n",
    "                y_pred = func(X, feature, value)\n",
    "                error = self.error_(y_pred, y, self.weights)\n",
    "                if error < error_min:\n",
    "                    error_min = error\n",
    "                    error_one_feature[i,:] = [error, value, j, feature]\n",
    "\n",
    "        min_index = np.argmin(error_one_feature[:, 0])\n",
    "        return error_one_feature[min_index]\n",
    "    \n",
    "    def choose_best_feature(self, X, y):\n",
    "        n_features = X.shape[1]\n",
    "        features = np.arange(n_features)\n",
    "        \n",
    "        error_all_features = np.zeros((n_features, 4))\n",
    "        for i in range(n_features):\n",
    "            error_all_features[i, :] = self.choose_best_value(X, y, i)\n",
    "        best_ = np.argmin(error_all_features[:, 0])\n",
    "        return error_all_features[best_]\n",
    "    \n",
    "    def fit(self, X, y, weights=None):\n",
    "        self.weights = weights\n",
    "        if self.weights is None:\n",
    "            self.weights = np.ones(X.shape[0]) / X.shape[0]\n",
    "        error, value_split, func_i, feature = self.choose_best_feature(X, y)\n",
    "        # print(value_split, func_i)\n",
    "        self.value_split = value_split\n",
    "        self.func_i = int(func_i)\n",
    "        self.feature = int(feature)\n",
    "        return error\n",
    "    \n",
    "    def predict(self, X):\n",
    "        y_pred = self.funcs[self.func_i](X, self.feature, self.value_split)\n",
    "        return y_pred\n",
    "    \n",
    "    def score(self, X, y):\n",
    "        # 无权重\n",
    "        return np.sum(self.predict(X) == y) / len(y)"
   ]
  },
  {
   "cell_type": "markdown",
   "metadata": {},
   "source": [
    "**例8.1**"
   ]
  },
  {
   "cell_type": "code",
   "execution_count": 7,
   "metadata": {},
   "outputs": [
    {
     "output_type": "execute_result",
     "data": {
      "text/plain": "0.30000000000000004"
     },
     "metadata": {},
     "execution_count": 7
    }
   ],
   "source": [
    "X = np.arange(10).reshape(10, 1)\n",
    "y = np.array([1, 1, 1, -1, -1, -1, 1, 1, 1, -1])\n",
    "\n",
    "clf = BiClassifer()\n",
    "clf.fit(X, y)"
   ]
  },
  {
   "cell_type": "code",
   "execution_count": 8,
   "metadata": {},
   "outputs": [
    {
     "output_type": "execute_result",
     "data": {
      "text/plain": "0.7"
     },
     "metadata": {},
     "execution_count": 8
    }
   ],
   "source": [
    "clf.score(X, y)"
   ]
  },
  {
   "cell_type": "code",
   "execution_count": 10,
   "metadata": {},
   "outputs": [
    {
     "output_type": "execute_result",
     "data": {
      "text/plain": "(1, 0, 2.5)"
     },
     "metadata": {},
     "execution_count": 10
    }
   ],
   "source": [
    "clf.func_i, clf.feature, clf.value_split"
   ]
  },
  {
   "cell_type": "code",
   "execution_count": 37,
   "metadata": {},
   "outputs": [],
   "source": [
    "class MyAdaBoostClassifier:\n",
    "    def __init__(self, n_estimators=50, base_classifier=BiClassifer, epsilon=0.05):\n",
    "        self.n_estimators = n_estimators\n",
    "        self.bc_ = base_classifier\n",
    "        self.epsilon = epsilon  # 错误率阈值\n",
    "        self.X = None\n",
    "        self.y =None\n",
    "        self.weights = None\n",
    "        self.func_list = []  # alpha 基分类器 \n",
    "    \n",
    "    def Z_(self, alpha, clf):\n",
    "        # 计算归一化因子 Z_m = \\sum_{i=1}^N w_{mi} exp(-alpha_m y_i G_m(x_i))\n",
    "        z = np.sum(self.weights * np.exp(-alpha * self.y * clf.predict(self.X)))\n",
    "        return z\n",
    "    \n",
    "    def w_(self, alpha, clf, Z):\n",
    "        # 样本权值更新 w_{m+1, i} = w_{mi} / Z exp(-alpha_m y_i G_m(x_i))\n",
    "        self.weights =  self.weights / Z * np.exp(-alpha * self.y * clf.predict(self.X))\n",
    "       \n",
    "    def fit(self, X, y):\n",
    "        self.X = X\n",
    "        self.y = y\n",
    "        n_sample, n_feature = X.shape\n",
    "        self.weights = np.ones(n_sample) / n_sample  # 初始的权重 D1\n",
    "        Z_list = []\n",
    "        for i in range(self.n_estimators):\n",
    "            # 1. 使用当前权值分布的训练数据集学习，得到基本分类器\n",
    "            clf = self.bc_()\n",
    "            # 2. 计算分类误差率\n",
    "            error = clf.fit(X, y, self.weights)\n",
    "            # 3. 计算系数\n",
    "            alpha = 0.5 * np.log((1-error) / error)\n",
    "            # 4. 更新权值\n",
    "            # 归一化因子Z_m\n",
    "            Z_ = self.Z_(alpha, clf)\n",
    "            Z_list.append(Z_)\n",
    "            # 更新w\n",
    "            self.w_(alpha, clf, Z_)\n",
    "            # print('em:', error)\n",
    "            self.func_list.append((alpha, clf))\n",
    "        error_upper_bound = np.prod(Z_list)\n",
    "        print(error_upper_bound)\n",
    "#             if error_upper_bound < self.epsilon:\n",
    "#                 break\n",
    "                \n",
    "    def predict(self, X):\n",
    "        clf_num = len(self.func_list)\n",
    "        y_pred = np.zeros((clf_num, X.shape[0]))\n",
    "        for i, (alpha, clf) in enumerate(self.func_list):\n",
    "            y = alpha * clf.predict(X)\n",
    "            y_pred[i, :] = y\n",
    "        return np.where(np.mean(y_pred, axis=0) > 0, 1, -1)\n",
    "    \n",
    "    def score(self, X, y):\n",
    "        return np.sum(self.predict(X) == y) / len(y) "
   ]
  },
  {
   "cell_type": "markdown",
   "metadata": {},
   "source": [
    "**例8.1**"
   ]
  },
  {
   "cell_type": "code",
   "execution_count": 38,
   "metadata": {
    "tags": []
   },
   "outputs": [
    {
     "output_type": "stream",
     "name": "stdout",
     "text": "0.5801925340982741\n"
    }
   ],
   "source": [
    "X = np.arange(10).reshape(10, 1)\n",
    "y = np.array([1, 1, 1, -1, -1, -1, 1, 1, 1, -1])\n",
    "clf_ada = MyAdaBoostClassifier(n_estimators=3, base_classifier=BiClassifer)\n",
    "clf_ada.fit(X, y)"
   ]
  },
  {
   "cell_type": "code",
   "execution_count": 14,
   "metadata": {},
   "outputs": [
    {
     "output_type": "execute_result",
     "data": {
      "text/plain": "array([ 1,  1,  1, -1, -1, -1,  1,  1,  1, -1])"
     },
     "metadata": {},
     "execution_count": 14
    }
   ],
   "source": [
    "clf_ada.predict(X)"
   ]
  },
  {
   "cell_type": "code",
   "execution_count": 15,
   "metadata": {},
   "outputs": [
    {
     "output_type": "execute_result",
     "data": {
      "text/plain": "1.0"
     },
     "metadata": {},
     "execution_count": 15
    }
   ],
   "source": [
    "clf_ada.score(X, y)"
   ]
  },
  {
   "cell_type": "code",
   "execution_count": 39,
   "metadata": {
    "tags": []
   },
   "outputs": [
    {
     "output_type": "stream",
     "name": "stdout",
     "text": "0.05576701117798486\n"
    },
    {
     "output_type": "execute_result",
     "data": {
      "text/plain": "0.9696969696969697"
     },
     "metadata": {},
     "execution_count": 39
    }
   ],
   "source": [
    "X, y = create_data()\n",
    "X_train, X_test, y_train, y_test = train_test_split(X, y, test_size=0.33, random_state=12345)\n",
    "clf = MyAdaBoostClassifier(n_estimators=10,    \n",
    "                           base_classifier=BiClassifer)\n",
    "clf.fit(X_train, y_train)\n",
    "clf.score(X_test, y_test)"
   ]
  },
  {
   "cell_type": "markdown",
   "metadata": {},
   "source": [
    "**鸢尾花**"
   ]
  },
  {
   "cell_type": "code",
   "execution_count": 40,
   "metadata": {
    "tags": []
   },
   "outputs": [
    {
     "output_type": "stream",
     "name": "stdout",
     "text": "7.45511517982915e-06\n1.0014492644177178e-11\n2.7463996841009373e-05\n6.800755804268854e-12\n9.1770165133783e-12\n2.044146586137567e-05\n1.3371131697888055e-11\n1.738596378871583e-05\n1.1111738123850959e-11\n1.778840947129062e-05\n1.4582248339544879e-05\n9.096897310546618e-06\n1.575348256371242e-11\n1.3561669437847925e-05\n1.274604038021739e-05\n1.2988981496742212e-11\n8.216930940035688e-12\n1.9405518849930967e-05\n1.1171704726333662e-11\n1.026656139731362e-05\n1.213400921377893e-11\n1.5885271792918895e-05\n1.1487202568123142e-11\n1.3747933348267912e-11\n2.7246392050882355e-12\n1.6898555982541126e-11\n7.178619293280062e-12\n5.211444748872207e-12\n4.031122958942624e-06\n1.1586916720062383e-05\n5.351748794072299e-06\n2.0429331804991544e-05\n2.4970259307796897e-05\n9.618278755524437e-12\n8.917990171825997e-12\n1.7588232498626675e-11\n7.578663823593253e-12\n1.7567773318048672e-05\n3.4728182515157167e-12\n1.4743152954295738e-11\n1.231192200931244e-11\n1.8670966844679502e-05\n7.46780300581862e-06\n1.2078102737931018e-11\n5.5572951720475744e-06\n2.2765298210412323e-05\n1.2165990021912466e-11\n1.1191432489993016e-11\n1.1855047319438703e-11\n4.311418270187175e-06\n7.980203893012948e-06\n1.1582108271112577e-05\n2.2231451535511276e-05\n4.8908981662948526e-06\n2.207384981881441e-05\n1.6012059112038077e-11\n1.3730320095168118e-11\n8.213567284808362e-12\n1.5070091157817497e-05\n2.1336883090660416e-05\n6.543542641798696e-06\n5.909935043403542e-06\n1.6406634245246477e-05\n9.7902997638229e-12\n1.0224249601448496e-05\n5.76056942428576e-12\n4.971164902745441e-06\n1.442578836404393e-11\n1.8411608298591142e-05\n1.0177657418047261e-05\n6.410764295251743e-12\n5.057822997986284e-06\n1.7688092315838155e-05\n1.0435055692622366e-05\n6.190372783255307e-12\n1.8815178046555186e-05\n9.412454838517363e-06\n1.3856075189833544e-11\n6.469157757676619e-12\n2.8122466379358365e-12\n6.534310734623255e-06\n6.779018019258594e-12\n9.213482193915526e-12\n5.703458886049557e-06\n1.3223091191356036e-05\n9.094372267340804e-06\n8.203112362522823e-06\n1.3217194739339216e-05\n2.5674450975557383e-05\n2.6063346051633913e-05\n8.09477423769669e-12\n1.2022482973380354e-05\n1.8429754303960106e-05\n9.738410838885448e-12\n1.1985686636052786e-05\n6.37727058321337e-06\n1.6872455063535637e-11\n1.381213796056527e-11\n1.4296224653497548e-11\n5.41216387815993e-06\naverage score:94.394%\n"
    }
   ],
   "source": [
    "# 100次结果\n",
    "result = []\n",
    "for i in range(1, 101):\n",
    "    X, y = create_data()\n",
    "    X_train, X_test, y_train, y_test = train_test_split(X, y, test_size=0.33)\n",
    "    clf = MyAdaBoostClassifier(n_estimators=100, \n",
    "                               base_classifier=BiClassifer)\n",
    "    clf.fit(X_train, y_train)\n",
    "    r = clf.score(X_test, y_test)\n",
    "    # print('{}/100 score：{}'.format(i, r))\n",
    "    result.append(r)\n",
    "\n",
    "print('average score:{:.3f}%'.format(sum(result)))"
   ]
  },
  {
   "cell_type": "markdown",
   "metadata": {},
   "source": [
    "**[马疝病的预测](https://github.com/apachecn/AiLearning/blob/master/docs/ml/7.%E9%9B%86%E6%88%90%E6%96%B9%E6%B3%95-%E9%9A%8F%E6%9C%BA%E6%A3%AE%E6%9E%97%E5%92%8CAdaBoost.md#%E9%A1%B9%E7%9B%AE%E6%A1%88%E4%BE%8B-%E9%A9%AC%E7%96%9D%E7%97%85%E7%9A%84%E9%A2%84%E6%B5%8B)**"
   ]
  },
  {
   "cell_type": "code",
   "execution_count": 41,
   "metadata": {},
   "outputs": [],
   "source": [
    "data_train = np.loadtxt('/mnt/data1/workspace/AI/data/机器学习/7.AdaBoost/horseColicTraining2.txt')\n",
    "data_test = np.loadtxt(\"/mnt/data1/workspace/AI/data/机器学习/7.AdaBoost/horseColicTest2.txt\")"
   ]
  },
  {
   "cell_type": "code",
   "execution_count": 42,
   "metadata": {},
   "outputs": [],
   "source": [
    "X_train, y_train = data_train[:, :-1], data_train[:, -1]\n",
    "X_test, y_test = data_test[:, :-1], data_test[:, -1]"
   ]
  },
  {
   "cell_type": "code",
   "execution_count": 43,
   "metadata": {},
   "outputs": [
    {
     "output_type": "execute_result",
     "data": {
      "text/plain": "(299,)"
     },
     "metadata": {},
     "execution_count": 43
    }
   ],
   "source": [
    "y_train.shape"
   ]
  },
  {
   "cell_type": "code",
   "execution_count": 44,
   "metadata": {},
   "outputs": [
    {
     "output_type": "execute_result",
     "data": {
      "text/plain": "(67, 21)"
     },
     "metadata": {},
     "execution_count": 44
    }
   ],
   "source": [
    "X_test.shape"
   ]
  },
  {
   "cell_type": "code",
   "execution_count": 45,
   "metadata": {},
   "outputs": [
    {
     "output_type": "execute_result",
     "data": {
      "text/plain": "0.28428093645484953"
     },
     "metadata": {},
     "execution_count": 45
    }
   ],
   "source": [
    "clf = BiClassifer()\n",
    "clf.fit(X_train, y_train)"
   ]
  },
  {
   "cell_type": "code",
   "execution_count": 46,
   "metadata": {},
   "outputs": [
    {
     "output_type": "execute_result",
     "data": {
      "text/plain": "(3.5, 1, 9)"
     },
     "metadata": {},
     "execution_count": 46
    }
   ],
   "source": [
    "clf.value_split, clf.func_i, clf.feature"
   ]
  },
  {
   "cell_type": "code",
   "execution_count": 47,
   "metadata": {},
   "outputs": [
    {
     "output_type": "execute_result",
     "data": {
      "text/plain": "0.7313432835820896"
     },
     "metadata": {},
     "execution_count": 47
    }
   ],
   "source": [
    "clf.score(X_test, y_test)"
   ]
  },
  {
   "cell_type": "code",
   "execution_count": 51,
   "metadata": {
    "tags": []
   },
   "outputs": [
    {
     "output_type": "stream",
     "name": "stdout",
     "text": "0.3898917062947822\n"
    }
   ],
   "source": [
    "clf = MyAdaBoostClassifier(n_estimators=300)\n",
    "clf.fit(X_train, y_train)"
   ]
  },
  {
   "cell_type": "code",
   "execution_count": 52,
   "metadata": {},
   "outputs": [
    {
     "output_type": "execute_result",
     "data": {
      "text/plain": "0.8996655518394648"
     },
     "metadata": {},
     "execution_count": 52
    }
   ],
   "source": [
    "clf.score(X_train, y_train)"
   ]
  },
  {
   "cell_type": "code",
   "execution_count": 53,
   "metadata": {},
   "outputs": [
    {
     "output_type": "execute_result",
     "data": {
      "text/plain": "0.7014925373134329"
     },
     "metadata": {},
     "execution_count": 53
    }
   ],
   "source": [
    "clf.score(X_test, y_test)"
   ]
  },
  {
   "cell_type": "markdown",
   "metadata": {},
   "source": [
    "**使用sklearn**"
   ]
  },
  {
   "cell_type": "code",
   "execution_count": 54,
   "metadata": {},
   "outputs": [
    {
     "output_type": "execute_result",
     "data": {
      "text/plain": "AdaBoostClassifier(learning_rate=0.5, n_estimators=100)"
     },
     "metadata": {},
     "execution_count": 54
    }
   ],
   "source": [
    "from sklearn.ensemble import AdaBoostClassifier\n",
    "\n",
    "# If None, then the base estimator is DecisionTreeClassifier(max_depth=1)\n",
    "clf = AdaBoostClassifier(n_estimators=100, learning_rate=0.5)\n",
    "clf.fit(X_train, y_train)"
   ]
  },
  {
   "cell_type": "code",
   "execution_count": 55,
   "metadata": {},
   "outputs": [
    {
     "output_type": "execute_result",
     "data": {
      "text/plain": "0.7611940298507462"
     },
     "metadata": {},
     "execution_count": 55
    }
   ],
   "source": [
    "clf.score(X_test, y_test)"
   ]
  },
  {
   "cell_type": "markdown",
   "metadata": {},
   "source": [
    "---\n",
    "#### 回归问题"
   ]
  },
  {
   "cell_type": "code",
   "execution_count": 57,
   "metadata": {},
   "outputs": [],
   "source": [
    "class Regressor:\n",
    "    def __init__(self):# 样本权值\n",
    "        self.value_split = None\n",
    "        self.feature = None\n",
    "        self.c = []\n",
    "    \n",
    "    @staticmethod\n",
    "    def data_split(X, feature, value):\n",
    "        # 使用feature特征的value取值将X切分开\n",
    "        left, right = [], []\n",
    "        for i in range(X.shape[0]):\n",
    "            if X[i, feature] < value:\n",
    "                left.append(i)\n",
    "            else:\n",
    "                right.append(i)\n",
    "        return left, right\n",
    "        \n",
    "    \n",
    "    def choose_best_value(self, X, y, feature):\n",
    "        # 返回 最小的error, 最佳分割点 相应的func \n",
    "        value_split_list = np.sort(X[:, feature])\n",
    "        value_split = (value_split_list[1:] + value_split_list[:-1]) / 2\n",
    "        \n",
    "        error_one_feature = np.zeros((len(value_split), 5))\n",
    "        for i, value in enumerate(value_split):\n",
    "            error_min = np.inf\n",
    "            left, right = self.data_split(X, feature, value)\n",
    "            c1 = np.mean(y[left])\n",
    "            c2 = np.mean(y[right])\n",
    "            # MSE误差\n",
    "            error = np.sum((y[left] - c1) ** 2) + np.sum((y[right] - c2) ** 2)\n",
    "\n",
    "            error_one_feature[i,:] = [error, feature, value, c1, c2]\n",
    "\n",
    "        min_index = np.argmin(error_one_feature[:, 0])\n",
    "        return error_one_feature[min_index]\n",
    "    \n",
    "    def choose_best_feature(self, X, y):\n",
    "        n_features = X.shape[1]\n",
    "        error_all_features = np.zeros((n_features, 5))\n",
    "        for i in range(n_features):\n",
    "            error_all_features[i, :] = self.choose_best_value(X, y, i)\n",
    "        best_ = np.argmin(error_all_features[:, 0])\n",
    "        return error_all_features[best_]\n",
    "    \n",
    "    def fit(self, X, y):\n",
    "        error, feature, value_split, c1, c2  = self.choose_best_feature(X, y)\n",
    "        # print(value_split, func_i)\n",
    "        self.value_split = value_split\n",
    "        self.feature = int(feature)\n",
    "        self.c = [c1, c2]\n",
    "        return error\n",
    "    \n",
    "    def predict(self, X):\n",
    "        y_pred = np.where(X[:, self.feature] < self.value_split, self.c[0], self.c[1])\n",
    "        return y_pred\n",
    "    "
   ]
  },
  {
   "cell_type": "markdown",
   "metadata": {},
   "source": [
    "**例 8.2**"
   ]
  },
  {
   "cell_type": "code",
   "execution_count": 58,
   "metadata": {},
   "outputs": [
    {
     "output_type": "execute_result",
     "data": {
      "text/plain": "1.9300083333333338"
     },
     "metadata": {},
     "execution_count": 58
    }
   ],
   "source": [
    "X = np.arange(1, 11).reshape(10, 1)\n",
    "y = np.array([5.56, 5.70, 5.91, 6.4, 6.8, 7.05, 8.90, 8.70, 9.00, 9.05])\n",
    "clf = Regressor()\n",
    "clf.fit(X, y)"
   ]
  },
  {
   "cell_type": "code",
   "execution_count": 59,
   "metadata": {},
   "outputs": [
    {
     "output_type": "execute_result",
     "data": {
      "text/plain": "array([6.2367, 6.2367, 6.2367, 6.2367, 6.2367, 6.2367, 8.9125, 8.9125,\n       8.9125, 8.9125])"
     },
     "metadata": {},
     "execution_count": 59
    }
   ],
   "source": [
    "clf.predict(X)"
   ]
  },
  {
   "cell_type": "code",
   "execution_count": 60,
   "metadata": {},
   "outputs": [
    {
     "output_type": "execute_result",
     "data": {
      "text/plain": "(6.5, [6.236666666666667, 8.912500000000001], 0)"
     },
     "metadata": {},
     "execution_count": 60
    }
   ],
   "source": [
    "clf.value_split, clf.c, clf.feature"
   ]
  },
  {
   "cell_type": "code",
   "execution_count": 65,
   "metadata": {},
   "outputs": [],
   "source": [
    "# 回归问题\n",
    "class MyAdaBoostRegressor:\n",
    "    def __init__(self, n_estimators=20, base_learner=Regressor):\n",
    "        self.clf_num = n_estimators\n",
    "        self.func_list = []\n",
    "        self.bl_ = base_learner\n",
    "    \n",
    "    def fit(self, X, y):\n",
    "        self.X, self.y = X, y\n",
    "        r = y\n",
    "        y_pred_list = []\n",
    "        for i in range(self.clf_num):\n",
    "            clf = self.bl_()\n",
    "            # 预测 和 目前残差越近越好\n",
    "            clf.fit(X, r)\n",
    "            self.func_list.append(clf)\n",
    "            y_pred = clf.predict(X)\n",
    "            y_pred_list.append(y_pred)\n",
    "            # 当前残差\n",
    "            r = y - np.sum(y_pred_list, axis=0)\n",
    "        return np.sum(r ** 2)\n",
    "    \n",
    "    def predict(self, X):\n",
    "        y_pred = np.zeros((len(self.func_list), X.shape[0]))\n",
    "        for i, clf in enumerate(self.func_list):\n",
    "            y = clf.predict(X)\n",
    "            y_pred[i, :] = y\n",
    "        return np.sum(y_pred, axis=0)\n",
    "    \n",
    "    # def score(self, X, y):\n",
    "    #     return np.sum(self.predict(X) == y) / len(y)"
   ]
  },
  {
   "cell_type": "code",
   "execution_count": null,
   "metadata": {},
   "outputs": [],
   "source": []
  },
  {
   "cell_type": "code",
   "execution_count": 67,
   "metadata": {},
   "outputs": [
    {
     "output_type": "execute_result",
     "data": {
      "text/plain": "0.17217806498628246"
     },
     "metadata": {},
     "execution_count": 67
    }
   ],
   "source": [
    "clf = MyAdaBoostRegressor(n_estimators=6)\n",
    "clf.fit(X, y)"
   ]
  },
  {
   "cell_type": "code",
   "execution_count": 68,
   "metadata": {},
   "outputs": [
    {
     "output_type": "execute_result",
     "data": {
      "text/plain": "array([5.63  , 5.63  , 5.8183, 6.5516, 6.8197, 6.8197, 8.9502, 8.9502,\n       8.9502, 8.9502])"
     },
     "metadata": {},
     "execution_count": 68
    }
   ],
   "source": [
    "y_pred = clf.predict(X)\n",
    "y_pred"
   ]
  },
  {
   "cell_type": "code",
   "execution_count": 69,
   "metadata": {},
   "outputs": [
    {
     "output_type": "execute_result",
     "data": {
      "text/plain": "<matplotlib.legend.Legend at 0x7fc0d58b11d0>"
     },
     "metadata": {},
     "execution_count": 69
    },
    {
     "output_type": "display_data",
     "data": {
      "text/plain": "<Figure size 432x288 with 1 Axes>",
      "image/svg+xml": "<?xml version=\"1.0\" encoding=\"utf-8\" standalone=\"no\"?>\n<!DOCTYPE svg PUBLIC \"-//W3C//DTD SVG 1.1//EN\"\n  \"http://www.w3.org/Graphics/SVG/1.1/DTD/svg11.dtd\">\n<!-- Created with matplotlib (https://matplotlib.org/) -->\n<svg height=\"248.518125pt\" version=\"1.1\" viewBox=\"0 0 372.103125 248.518125\" width=\"372.103125pt\" xmlns=\"http://www.w3.org/2000/svg\" xmlns:xlink=\"http://www.w3.org/1999/xlink\">\n <defs>\n  <style type=\"text/css\">\n*{stroke-linecap:butt;stroke-linejoin:round;}\n  </style>\n </defs>\n <g id=\"figure_1\">\n  <g id=\"patch_1\">\n   <path d=\"M 0 248.518125 \nL 372.103125 248.518125 \nL 372.103125 0 \nL 0 0 \nz\n\" style=\"fill:none;\"/>\n  </g>\n  <g id=\"axes_1\">\n   <g id=\"patch_2\">\n    <path d=\"M 30.103125 224.64 \nL 364.903125 224.64 \nL 364.903125 7.2 \nL 30.103125 7.2 \nz\n\" style=\"fill:#ffffff;\"/>\n   </g>\n   <g id=\"matplotlib.axis_1\">\n    <g id=\"xtick_1\">\n     <g id=\"line2d_1\">\n      <defs>\n       <path d=\"M 0 0 \nL 0 3.5 \n\" id=\"m317404ffad\" style=\"stroke:#000000;stroke-width:0.8;\"/>\n      </defs>\n      <g>\n       <use style=\"stroke:#000000;stroke-width:0.8;\" x=\"79.139489\" xlink:href=\"#m317404ffad\" y=\"224.64\"/>\n      </g>\n     </g>\n     <g id=\"text_1\">\n      <!-- 2 -->\n      <defs>\n       <path d=\"M 19.1875 8.296875 \nL 53.609375 8.296875 \nL 53.609375 0 \nL 7.328125 0 \nL 7.328125 8.296875 \nQ 12.9375 14.109375 22.625 23.890625 \nQ 32.328125 33.6875 34.8125 36.53125 \nQ 39.546875 41.84375 41.421875 45.53125 \nQ 43.3125 49.21875 43.3125 52.78125 \nQ 43.3125 58.59375 39.234375 62.25 \nQ 35.15625 65.921875 28.609375 65.921875 \nQ 23.96875 65.921875 18.8125 64.3125 \nQ 13.671875 62.703125 7.8125 59.421875 \nL 7.8125 69.390625 \nQ 13.765625 71.78125 18.9375 73 \nQ 24.125 74.21875 28.421875 74.21875 \nQ 39.75 74.21875 46.484375 68.546875 \nQ 53.21875 62.890625 53.21875 53.421875 \nQ 53.21875 48.921875 51.53125 44.890625 \nQ 49.859375 40.875 45.40625 35.40625 \nQ 44.1875 33.984375 37.640625 27.21875 \nQ 31.109375 20.453125 19.1875 8.296875 \nz\n\" id=\"DejaVuSans-50\"/>\n      </defs>\n      <g transform=\"translate(75.958239 239.238438)scale(0.1 -0.1)\">\n       <use xlink:href=\"#DejaVuSans-50\"/>\n      </g>\n     </g>\n    </g>\n    <g id=\"xtick_2\">\n     <g id=\"line2d_2\">\n      <g>\n       <use style=\"stroke:#000000;stroke-width:0.8;\" x=\"146.775852\" xlink:href=\"#m317404ffad\" y=\"224.64\"/>\n      </g>\n     </g>\n     <g id=\"text_2\">\n      <!-- 4 -->\n      <defs>\n       <path d=\"M 37.796875 64.3125 \nL 12.890625 25.390625 \nL 37.796875 25.390625 \nz\nM 35.203125 72.90625 \nL 47.609375 72.90625 \nL 47.609375 25.390625 \nL 58.015625 25.390625 \nL 58.015625 17.1875 \nL 47.609375 17.1875 \nL 47.609375 0 \nL 37.796875 0 \nL 37.796875 17.1875 \nL 4.890625 17.1875 \nL 4.890625 26.703125 \nz\n\" id=\"DejaVuSans-52\"/>\n      </defs>\n      <g transform=\"translate(143.594602 239.238438)scale(0.1 -0.1)\">\n       <use xlink:href=\"#DejaVuSans-52\"/>\n      </g>\n     </g>\n    </g>\n    <g id=\"xtick_3\">\n     <g id=\"line2d_3\">\n      <g>\n       <use style=\"stroke:#000000;stroke-width:0.8;\" x=\"214.412216\" xlink:href=\"#m317404ffad\" y=\"224.64\"/>\n      </g>\n     </g>\n     <g id=\"text_3\">\n      <!-- 6 -->\n      <defs>\n       <path d=\"M 33.015625 40.375 \nQ 26.375 40.375 22.484375 35.828125 \nQ 18.609375 31.296875 18.609375 23.390625 \nQ 18.609375 15.53125 22.484375 10.953125 \nQ 26.375 6.390625 33.015625 6.390625 \nQ 39.65625 6.390625 43.53125 10.953125 \nQ 47.40625 15.53125 47.40625 23.390625 \nQ 47.40625 31.296875 43.53125 35.828125 \nQ 39.65625 40.375 33.015625 40.375 \nz\nM 52.59375 71.296875 \nL 52.59375 62.3125 \nQ 48.875 64.0625 45.09375 64.984375 \nQ 41.3125 65.921875 37.59375 65.921875 \nQ 27.828125 65.921875 22.671875 59.328125 \nQ 17.53125 52.734375 16.796875 39.40625 \nQ 19.671875 43.65625 24.015625 45.921875 \nQ 28.375 48.1875 33.59375 48.1875 \nQ 44.578125 48.1875 50.953125 41.515625 \nQ 57.328125 34.859375 57.328125 23.390625 \nQ 57.328125 12.15625 50.6875 5.359375 \nQ 44.046875 -1.421875 33.015625 -1.421875 \nQ 20.359375 -1.421875 13.671875 8.265625 \nQ 6.984375 17.96875 6.984375 36.375 \nQ 6.984375 53.65625 15.1875 63.9375 \nQ 23.390625 74.21875 37.203125 74.21875 \nQ 40.921875 74.21875 44.703125 73.484375 \nQ 48.484375 72.75 52.59375 71.296875 \nz\n\" id=\"DejaVuSans-54\"/>\n      </defs>\n      <g transform=\"translate(211.230966 239.238438)scale(0.1 -0.1)\">\n       <use xlink:href=\"#DejaVuSans-54\"/>\n      </g>\n     </g>\n    </g>\n    <g id=\"xtick_4\">\n     <g id=\"line2d_4\">\n      <g>\n       <use style=\"stroke:#000000;stroke-width:0.8;\" x=\"282.04858\" xlink:href=\"#m317404ffad\" y=\"224.64\"/>\n      </g>\n     </g>\n     <g id=\"text_4\">\n      <!-- 8 -->\n      <defs>\n       <path d=\"M 31.78125 34.625 \nQ 24.75 34.625 20.71875 30.859375 \nQ 16.703125 27.09375 16.703125 20.515625 \nQ 16.703125 13.921875 20.71875 10.15625 \nQ 24.75 6.390625 31.78125 6.390625 \nQ 38.8125 6.390625 42.859375 10.171875 \nQ 46.921875 13.96875 46.921875 20.515625 \nQ 46.921875 27.09375 42.890625 30.859375 \nQ 38.875 34.625 31.78125 34.625 \nz\nM 21.921875 38.8125 \nQ 15.578125 40.375 12.03125 44.71875 \nQ 8.5 49.078125 8.5 55.328125 \nQ 8.5 64.0625 14.71875 69.140625 \nQ 20.953125 74.21875 31.78125 74.21875 \nQ 42.671875 74.21875 48.875 69.140625 \nQ 55.078125 64.0625 55.078125 55.328125 \nQ 55.078125 49.078125 51.53125 44.71875 \nQ 48 40.375 41.703125 38.8125 \nQ 48.828125 37.15625 52.796875 32.3125 \nQ 56.78125 27.484375 56.78125 20.515625 \nQ 56.78125 9.90625 50.3125 4.234375 \nQ 43.84375 -1.421875 31.78125 -1.421875 \nQ 19.734375 -1.421875 13.25 4.234375 \nQ 6.78125 9.90625 6.78125 20.515625 \nQ 6.78125 27.484375 10.78125 32.3125 \nQ 14.796875 37.15625 21.921875 38.8125 \nz\nM 18.3125 54.390625 \nQ 18.3125 48.734375 21.84375 45.5625 \nQ 25.390625 42.390625 31.78125 42.390625 \nQ 38.140625 42.390625 41.71875 45.5625 \nQ 45.3125 48.734375 45.3125 54.390625 \nQ 45.3125 60.0625 41.71875 63.234375 \nQ 38.140625 66.40625 31.78125 66.40625 \nQ 25.390625 66.40625 21.84375 63.234375 \nQ 18.3125 60.0625 18.3125 54.390625 \nz\n\" id=\"DejaVuSans-56\"/>\n      </defs>\n      <g transform=\"translate(278.86733 239.238438)scale(0.1 -0.1)\">\n       <use xlink:href=\"#DejaVuSans-56\"/>\n      </g>\n     </g>\n    </g>\n    <g id=\"xtick_5\">\n     <g id=\"line2d_5\">\n      <g>\n       <use style=\"stroke:#000000;stroke-width:0.8;\" x=\"349.684943\" xlink:href=\"#m317404ffad\" y=\"224.64\"/>\n      </g>\n     </g>\n     <g id=\"text_5\">\n      <!-- 10 -->\n      <defs>\n       <path d=\"M 12.40625 8.296875 \nL 28.515625 8.296875 \nL 28.515625 63.921875 \nL 10.984375 60.40625 \nL 10.984375 69.390625 \nL 28.421875 72.90625 \nL 38.28125 72.90625 \nL 38.28125 8.296875 \nL 54.390625 8.296875 \nL 54.390625 0 \nL 12.40625 0 \nz\n\" id=\"DejaVuSans-49\"/>\n       <path d=\"M 31.78125 66.40625 \nQ 24.171875 66.40625 20.328125 58.90625 \nQ 16.5 51.421875 16.5 36.375 \nQ 16.5 21.390625 20.328125 13.890625 \nQ 24.171875 6.390625 31.78125 6.390625 \nQ 39.453125 6.390625 43.28125 13.890625 \nQ 47.125 21.390625 47.125 36.375 \nQ 47.125 51.421875 43.28125 58.90625 \nQ 39.453125 66.40625 31.78125 66.40625 \nz\nM 31.78125 74.21875 \nQ 44.046875 74.21875 50.515625 64.515625 \nQ 56.984375 54.828125 56.984375 36.375 \nQ 56.984375 17.96875 50.515625 8.265625 \nQ 44.046875 -1.421875 31.78125 -1.421875 \nQ 19.53125 -1.421875 13.0625 8.265625 \nQ 6.59375 17.96875 6.59375 36.375 \nQ 6.59375 54.828125 13.0625 64.515625 \nQ 19.53125 74.21875 31.78125 74.21875 \nz\n\" id=\"DejaVuSans-48\"/>\n      </defs>\n      <g transform=\"translate(343.322443 239.238438)scale(0.1 -0.1)\">\n       <use xlink:href=\"#DejaVuSans-49\"/>\n       <use x=\"63.623047\" xlink:href=\"#DejaVuSans-48\"/>\n      </g>\n     </g>\n    </g>\n   </g>\n   <g id=\"matplotlib.axis_2\">\n    <g id=\"ytick_1\">\n     <g id=\"line2d_6\">\n      <defs>\n       <path d=\"M 0 0 \nL -3.5 0 \n\" id=\"md2077e22f1\" style=\"stroke:#000000;stroke-width:0.8;\"/>\n      </defs>\n      <g>\n       <use style=\"stroke:#000000;stroke-width:0.8;\" x=\"30.103125\" xlink:href=\"#md2077e22f1\" y=\"218.154749\"/>\n      </g>\n     </g>\n     <g id=\"text_6\">\n      <!-- 5.5 -->\n      <defs>\n       <path d=\"M 10.796875 72.90625 \nL 49.515625 72.90625 \nL 49.515625 64.59375 \nL 19.828125 64.59375 \nL 19.828125 46.734375 \nQ 21.96875 47.46875 24.109375 47.828125 \nQ 26.265625 48.1875 28.421875 48.1875 \nQ 40.625 48.1875 47.75 41.5 \nQ 54.890625 34.8125 54.890625 23.390625 \nQ 54.890625 11.625 47.5625 5.09375 \nQ 40.234375 -1.421875 26.90625 -1.421875 \nQ 22.3125 -1.421875 17.546875 -0.640625 \nQ 12.796875 0.140625 7.71875 1.703125 \nL 7.71875 11.625 \nQ 12.109375 9.234375 16.796875 8.0625 \nQ 21.484375 6.890625 26.703125 6.890625 \nQ 35.15625 6.890625 40.078125 11.328125 \nQ 45.015625 15.765625 45.015625 23.390625 \nQ 45.015625 31 40.078125 35.4375 \nQ 35.15625 39.890625 26.703125 39.890625 \nQ 22.75 39.890625 18.8125 39.015625 \nQ 14.890625 38.140625 10.796875 36.28125 \nz\n\" id=\"DejaVuSans-53\"/>\n       <path d=\"M 10.6875 12.40625 \nL 21 12.40625 \nL 21 0 \nL 10.6875 0 \nz\n\" id=\"DejaVuSans-46\"/>\n      </defs>\n      <g transform=\"translate(7.2 221.953967)scale(0.1 -0.1)\">\n       <use xlink:href=\"#DejaVuSans-53\"/>\n       <use x=\"63.623047\" xlink:href=\"#DejaVuSans-46\"/>\n       <use x=\"95.410156\" xlink:href=\"#DejaVuSans-53\"/>\n      </g>\n     </g>\n    </g>\n    <g id=\"ytick_2\">\n     <g id=\"line2d_7\">\n      <g>\n       <use style=\"stroke:#000000;stroke-width:0.8;\" x=\"30.103125\" xlink:href=\"#md2077e22f1\" y=\"189.834874\"/>\n      </g>\n     </g>\n     <g id=\"text_7\">\n      <!-- 6.0 -->\n      <g transform=\"translate(7.2 193.634092)scale(0.1 -0.1)\">\n       <use xlink:href=\"#DejaVuSans-54\"/>\n       <use x=\"63.623047\" xlink:href=\"#DejaVuSans-46\"/>\n       <use x=\"95.410156\" xlink:href=\"#DejaVuSans-48\"/>\n      </g>\n     </g>\n    </g>\n    <g id=\"ytick_3\">\n     <g id=\"line2d_8\">\n      <g>\n       <use style=\"stroke:#000000;stroke-width:0.8;\" x=\"30.103125\" xlink:href=\"#md2077e22f1\" y=\"161.514999\"/>\n      </g>\n     </g>\n     <g id=\"text_8\">\n      <!-- 6.5 -->\n      <g transform=\"translate(7.2 165.314217)scale(0.1 -0.1)\">\n       <use xlink:href=\"#DejaVuSans-54\"/>\n       <use x=\"63.623047\" xlink:href=\"#DejaVuSans-46\"/>\n       <use x=\"95.410156\" xlink:href=\"#DejaVuSans-53\"/>\n      </g>\n     </g>\n    </g>\n    <g id=\"ytick_4\">\n     <g id=\"line2d_9\">\n      <g>\n       <use style=\"stroke:#000000;stroke-width:0.8;\" x=\"30.103125\" xlink:href=\"#md2077e22f1\" y=\"133.195124\"/>\n      </g>\n     </g>\n     <g id=\"text_9\">\n      <!-- 7.0 -->\n      <defs>\n       <path d=\"M 8.203125 72.90625 \nL 55.078125 72.90625 \nL 55.078125 68.703125 \nL 28.609375 0 \nL 18.3125 0 \nL 43.21875 64.59375 \nL 8.203125 64.59375 \nz\n\" id=\"DejaVuSans-55\"/>\n      </defs>\n      <g transform=\"translate(7.2 136.994342)scale(0.1 -0.1)\">\n       <use xlink:href=\"#DejaVuSans-55\"/>\n       <use x=\"63.623047\" xlink:href=\"#DejaVuSans-46\"/>\n       <use x=\"95.410156\" xlink:href=\"#DejaVuSans-48\"/>\n      </g>\n     </g>\n    </g>\n    <g id=\"ytick_5\">\n     <g id=\"line2d_10\">\n      <g>\n       <use style=\"stroke:#000000;stroke-width:0.8;\" x=\"30.103125\" xlink:href=\"#md2077e22f1\" y=\"104.875249\"/>\n      </g>\n     </g>\n     <g id=\"text_10\">\n      <!-- 7.5 -->\n      <g transform=\"translate(7.2 108.674468)scale(0.1 -0.1)\">\n       <use xlink:href=\"#DejaVuSans-55\"/>\n       <use x=\"63.623047\" xlink:href=\"#DejaVuSans-46\"/>\n       <use x=\"95.410156\" xlink:href=\"#DejaVuSans-53\"/>\n      </g>\n     </g>\n    </g>\n    <g id=\"ytick_6\">\n     <g id=\"line2d_11\">\n      <g>\n       <use style=\"stroke:#000000;stroke-width:0.8;\" x=\"30.103125\" xlink:href=\"#md2077e22f1\" y=\"76.555374\"/>\n      </g>\n     </g>\n     <g id=\"text_11\">\n      <!-- 8.0 -->\n      <g transform=\"translate(7.2 80.354593)scale(0.1 -0.1)\">\n       <use xlink:href=\"#DejaVuSans-56\"/>\n       <use x=\"63.623047\" xlink:href=\"#DejaVuSans-46\"/>\n       <use x=\"95.410156\" xlink:href=\"#DejaVuSans-48\"/>\n      </g>\n     </g>\n    </g>\n    <g id=\"ytick_7\">\n     <g id=\"line2d_12\">\n      <g>\n       <use style=\"stroke:#000000;stroke-width:0.8;\" x=\"30.103125\" xlink:href=\"#md2077e22f1\" y=\"48.235499\"/>\n      </g>\n     </g>\n     <g id=\"text_12\">\n      <!-- 8.5 -->\n      <g transform=\"translate(7.2 52.034718)scale(0.1 -0.1)\">\n       <use xlink:href=\"#DejaVuSans-56\"/>\n       <use x=\"63.623047\" xlink:href=\"#DejaVuSans-46\"/>\n       <use x=\"95.410156\" xlink:href=\"#DejaVuSans-53\"/>\n      </g>\n     </g>\n    </g>\n    <g id=\"ytick_8\">\n     <g id=\"line2d_13\">\n      <g>\n       <use style=\"stroke:#000000;stroke-width:0.8;\" x=\"30.103125\" xlink:href=\"#md2077e22f1\" y=\"19.915624\"/>\n      </g>\n     </g>\n     <g id=\"text_13\">\n      <!-- 9.0 -->\n      <defs>\n       <path d=\"M 10.984375 1.515625 \nL 10.984375 10.5 \nQ 14.703125 8.734375 18.5 7.8125 \nQ 22.3125 6.890625 25.984375 6.890625 \nQ 35.75 6.890625 40.890625 13.453125 \nQ 46.046875 20.015625 46.78125 33.40625 \nQ 43.953125 29.203125 39.59375 26.953125 \nQ 35.25 24.703125 29.984375 24.703125 \nQ 19.046875 24.703125 12.671875 31.3125 \nQ 6.296875 37.9375 6.296875 49.421875 \nQ 6.296875 60.640625 12.9375 67.421875 \nQ 19.578125 74.21875 30.609375 74.21875 \nQ 43.265625 74.21875 49.921875 64.515625 \nQ 56.59375 54.828125 56.59375 36.375 \nQ 56.59375 19.140625 48.40625 8.859375 \nQ 40.234375 -1.421875 26.421875 -1.421875 \nQ 22.703125 -1.421875 18.890625 -0.6875 \nQ 15.09375 0.046875 10.984375 1.515625 \nz\nM 30.609375 32.421875 \nQ 37.25 32.421875 41.125 36.953125 \nQ 45.015625 41.5 45.015625 49.421875 \nQ 45.015625 57.28125 41.125 61.84375 \nQ 37.25 66.40625 30.609375 66.40625 \nQ 23.96875 66.40625 20.09375 61.84375 \nQ 16.21875 57.28125 16.21875 49.421875 \nQ 16.21875 41.5 20.09375 36.953125 \nQ 23.96875 32.421875 30.609375 32.421875 \nz\n\" id=\"DejaVuSans-57\"/>\n      </defs>\n      <g transform=\"translate(7.2 23.714843)scale(0.1 -0.1)\">\n       <use xlink:href=\"#DejaVuSans-57\"/>\n       <use x=\"63.623047\" xlink:href=\"#DejaVuSans-46\"/>\n       <use x=\"95.410156\" xlink:href=\"#DejaVuSans-48\"/>\n      </g>\n     </g>\n    </g>\n   </g>\n   <g id=\"line2d_14\">\n    <path clip-path=\"url(#p2826375703)\" d=\"M 45.321307 214.756364 \nL 79.139489 206.826799 \nL 112.95767 194.932451 \nL 146.775852 167.178974 \nL 180.594034 144.523074 \nL 214.412216 130.363136 \nL 248.230398 25.579599 \nL 282.04858 36.907549 \nL 315.866761 19.915624 \nL 349.684943 17.083636 \n\" style=\"fill:none;stroke:#1f77b4;stroke-linecap:square;stroke-width:1.5;\"/>\n   </g>\n   <g id=\"line2d_15\">\n    <path clip-path=\"url(#p2826375703)\" d=\"M 45.321307 210.791581 \nL 79.139489 210.791581 \nL 112.95767 200.125739 \nL 146.775852 158.589923 \nL 180.594034 143.407323 \nL 214.412216 143.407323 \nL 248.230398 22.738434 \nL 282.04858 22.738434 \nL 315.866761 22.738434 \nL 349.684943 22.738434 \n\" style=\"fill:none;stroke:#ff7f0e;stroke-dasharray:5.55,2.4;stroke-dashoffset:0;stroke-width:1.5;\"/>\n   </g>\n   <g id=\"patch_3\">\n    <path d=\"M 30.103125 224.64 \nL 30.103125 7.2 \n\" style=\"fill:none;stroke:#000000;stroke-linecap:square;stroke-linejoin:miter;stroke-width:0.8;\"/>\n   </g>\n   <g id=\"patch_4\">\n    <path d=\"M 364.903125 224.64 \nL 364.903125 7.2 \n\" style=\"fill:none;stroke:#000000;stroke-linecap:square;stroke-linejoin:miter;stroke-width:0.8;\"/>\n   </g>\n   <g id=\"patch_5\">\n    <path d=\"M 30.103125 224.64 \nL 364.903125 224.64 \n\" style=\"fill:none;stroke:#000000;stroke-linecap:square;stroke-linejoin:miter;stroke-width:0.8;\"/>\n   </g>\n   <g id=\"patch_6\">\n    <path d=\"M 30.103125 7.2 \nL 364.903125 7.2 \n\" style=\"fill:none;stroke:#000000;stroke-linecap:square;stroke-linejoin:miter;stroke-width:0.8;\"/>\n   </g>\n   <g id=\"legend_1\">\n    <g id=\"patch_7\">\n     <path d=\"M 37.103125 44.834375 \nL 102.757812 44.834375 \nQ 104.757812 44.834375 104.757812 42.834375 \nL 104.757812 14.2 \nQ 104.757812 12.2 102.757812 12.2 \nL 37.103125 12.2 \nQ 35.103125 12.2 35.103125 14.2 \nL 35.103125 42.834375 \nQ 35.103125 44.834375 37.103125 44.834375 \nz\n\" style=\"fill:#ffffff;opacity:0.8;stroke:#cccccc;stroke-linejoin:miter;\"/>\n    </g>\n    <g id=\"line2d_16\">\n     <path d=\"M 39.103125 20.298438 \nL 59.103125 20.298438 \n\" style=\"fill:none;stroke:#1f77b4;stroke-linecap:square;stroke-width:1.5;\"/>\n    </g>\n    <g id=\"line2d_17\"/>\n    <g id=\"text_14\">\n     <!-- y -->\n     <defs>\n      <path d=\"M 32.171875 -5.078125 \nQ 28.375 -14.84375 24.75 -17.8125 \nQ 21.140625 -20.796875 15.09375 -20.796875 \nL 7.90625 -20.796875 \nL 7.90625 -13.28125 \nL 13.1875 -13.28125 \nQ 16.890625 -13.28125 18.9375 -11.515625 \nQ 21 -9.765625 23.484375 -3.21875 \nL 25.09375 0.875 \nL 2.984375 54.6875 \nL 12.5 54.6875 \nL 29.59375 11.921875 \nL 46.6875 54.6875 \nL 56.203125 54.6875 \nz\n\" id=\"DejaVuSans-121\"/>\n     </defs>\n     <g transform=\"translate(67.103125 23.798438)scale(0.1 -0.1)\">\n      <use xlink:href=\"#DejaVuSans-121\"/>\n     </g>\n    </g>\n    <g id=\"line2d_18\">\n     <path d=\"M 39.103125 34.976562 \nL 59.103125 34.976562 \n\" style=\"fill:none;stroke:#ff7f0e;stroke-dasharray:5.55,2.4;stroke-dashoffset:0;stroke-width:1.5;\"/>\n    </g>\n    <g id=\"line2d_19\"/>\n    <g id=\"text_15\">\n     <!-- y_pred -->\n     <defs>\n      <path d=\"M 50.984375 -16.609375 \nL 50.984375 -23.578125 \nL -0.984375 -23.578125 \nL -0.984375 -16.609375 \nz\n\" id=\"DejaVuSans-95\"/>\n      <path d=\"M 18.109375 8.203125 \nL 18.109375 -20.796875 \nL 9.078125 -20.796875 \nL 9.078125 54.6875 \nL 18.109375 54.6875 \nL 18.109375 46.390625 \nQ 20.953125 51.265625 25.265625 53.625 \nQ 29.59375 56 35.59375 56 \nQ 45.5625 56 51.78125 48.09375 \nQ 58.015625 40.1875 58.015625 27.296875 \nQ 58.015625 14.40625 51.78125 6.484375 \nQ 45.5625 -1.421875 35.59375 -1.421875 \nQ 29.59375 -1.421875 25.265625 0.953125 \nQ 20.953125 3.328125 18.109375 8.203125 \nz\nM 48.6875 27.296875 \nQ 48.6875 37.203125 44.609375 42.84375 \nQ 40.53125 48.484375 33.40625 48.484375 \nQ 26.265625 48.484375 22.1875 42.84375 \nQ 18.109375 37.203125 18.109375 27.296875 \nQ 18.109375 17.390625 22.1875 11.75 \nQ 26.265625 6.109375 33.40625 6.109375 \nQ 40.53125 6.109375 44.609375 11.75 \nQ 48.6875 17.390625 48.6875 27.296875 \nz\n\" id=\"DejaVuSans-112\"/>\n      <path d=\"M 41.109375 46.296875 \nQ 39.59375 47.171875 37.8125 47.578125 \nQ 36.03125 48 33.890625 48 \nQ 26.265625 48 22.1875 43.046875 \nQ 18.109375 38.09375 18.109375 28.8125 \nL 18.109375 0 \nL 9.078125 0 \nL 9.078125 54.6875 \nL 18.109375 54.6875 \nL 18.109375 46.1875 \nQ 20.953125 51.171875 25.484375 53.578125 \nQ 30.03125 56 36.53125 56 \nQ 37.453125 56 38.578125 55.875 \nQ 39.703125 55.765625 41.0625 55.515625 \nz\n\" id=\"DejaVuSans-114\"/>\n      <path d=\"M 56.203125 29.59375 \nL 56.203125 25.203125 \nL 14.890625 25.203125 \nQ 15.484375 15.921875 20.484375 11.0625 \nQ 25.484375 6.203125 34.421875 6.203125 \nQ 39.59375 6.203125 44.453125 7.46875 \nQ 49.3125 8.734375 54.109375 11.28125 \nL 54.109375 2.78125 \nQ 49.265625 0.734375 44.1875 -0.34375 \nQ 39.109375 -1.421875 33.890625 -1.421875 \nQ 20.796875 -1.421875 13.15625 6.1875 \nQ 5.515625 13.8125 5.515625 26.8125 \nQ 5.515625 40.234375 12.765625 48.109375 \nQ 20.015625 56 32.328125 56 \nQ 43.359375 56 49.78125 48.890625 \nQ 56.203125 41.796875 56.203125 29.59375 \nz\nM 47.21875 32.234375 \nQ 47.125 39.59375 43.09375 43.984375 \nQ 39.0625 48.390625 32.421875 48.390625 \nQ 24.90625 48.390625 20.390625 44.140625 \nQ 15.875 39.890625 15.1875 32.171875 \nz\n\" id=\"DejaVuSans-101\"/>\n      <path d=\"M 45.40625 46.390625 \nL 45.40625 75.984375 \nL 54.390625 75.984375 \nL 54.390625 0 \nL 45.40625 0 \nL 45.40625 8.203125 \nQ 42.578125 3.328125 38.25 0.953125 \nQ 33.9375 -1.421875 27.875 -1.421875 \nQ 17.96875 -1.421875 11.734375 6.484375 \nQ 5.515625 14.40625 5.515625 27.296875 \nQ 5.515625 40.1875 11.734375 48.09375 \nQ 17.96875 56 27.875 56 \nQ 33.9375 56 38.25 53.625 \nQ 42.578125 51.265625 45.40625 46.390625 \nz\nM 14.796875 27.296875 \nQ 14.796875 17.390625 18.875 11.75 \nQ 22.953125 6.109375 30.078125 6.109375 \nQ 37.203125 6.109375 41.296875 11.75 \nQ 45.40625 17.390625 45.40625 27.296875 \nQ 45.40625 37.203125 41.296875 42.84375 \nQ 37.203125 48.484375 30.078125 48.484375 \nQ 22.953125 48.484375 18.875 42.84375 \nQ 14.796875 37.203125 14.796875 27.296875 \nz\n\" id=\"DejaVuSans-100\"/>\n     </defs>\n     <g transform=\"translate(67.103125 38.476562)scale(0.1 -0.1)\">\n      <use xlink:href=\"#DejaVuSans-121\"/>\n      <use x=\"59.179688\" xlink:href=\"#DejaVuSans-95\"/>\n      <use x=\"109.179688\" xlink:href=\"#DejaVuSans-112\"/>\n      <use x=\"172.65625\" xlink:href=\"#DejaVuSans-114\"/>\n      <use x=\"211.519531\" xlink:href=\"#DejaVuSans-101\"/>\n      <use x=\"273.042969\" xlink:href=\"#DejaVuSans-100\"/>\n     </g>\n    </g>\n   </g>\n  </g>\n </g>\n <defs>\n  <clipPath id=\"p2826375703\">\n   <rect height=\"217.44\" width=\"334.8\" x=\"30.103125\" y=\"7.2\"/>\n  </clipPath>\n </defs>\n</svg>\n",
      "image/png": "[encoded data removed]"
     },
     "metadata": {
      "needs_background": "light"
     }
    }
   ],
   "source": [
    "plt.plot(X, y, '-', label='y')\n",
    "plt.plot(X, y_pred, '--', label='y_pred')\n",
    "plt.legend()"
   ]
  },
  {
   "cell_type": "markdown",
   "metadata": {},
   "source": [
    "----\n",
    "参考代码：https://github.com/wzyonggege/statistical-learning-method\n",
    "\n",
    "中文注释制作：机器学习初学者\n",
    "\n",
    "微信公众号：ID:ai-start-com\n",
    "\n",
    "配置环境：python 3.5+\n",
    "\n",
    "代码全部测试通过。\n",
    "![gongzhong](../gongzhong.jpg)"
   ]
  }
 ],
 "metadata": {
  "kernelspec": {
   "display_name": "Python 3",
   "language": "python",
   "name": "python3"
  },
  "language_info": {
   "codemirror_mode": {
    "name": "ipython",
    "version": 3
   },
   "file_extension": ".py",
   "mimetype": "text/x-python",
   "name": "python",
   "nbconvert_exporter": "python",
   "pygments_lexer": "ipython3",
   "version": "3.7.4"
  }
 },
 "nbformat": 4,
 "nbformat_minor": 2
}