{
 "cells": [
  {
   "cell_type": "markdown",
   "metadata": {},
   "source": [
    "# 多决策树 - 随机森林 - 随机决策\n",
    "对决策树的一个常见批评是，一旦在回答问题后对训练集进行划分，就不可能重新考虑这个决策。例如，如果我们将男性和女性分开，那么每个后续问题都只涉及男性或女性，而且该方法不能考虑其他类型的问题（例如，年龄不到一岁，不论性别如何）。**随机森林**尝试在每个步骤中引入一定程度的**随机化**，创建备选树并将它们组合来获得最终预测。考虑几个回答相同问题的分类器的这些类型的算法，被称为**集成方法**.   \n",
    "随机森林建议基于训练实例的子集（**带放回随机选择**）来构建决策树，但是在特征集的每个集合中使用少量随机的特征。这种树生长过程重复几次，产生一组分类器。在预测时，给定一个实例的每个成型的树都会像决策树一样预测其目标类。大多数树所投票的类（即树中预测最多的类）是集成分类器所建议的类。  \n",
    "随机森林只是许多树，建立在数据的不同随机子集（带放回抽样）上，并对于每个分裂，使用特征的不同随机子集（无放回抽样）。 这使得树彼此不同，并使它们过拟合不同的方面。 然后，他们的预测被平均，产生更平稳的估计，更少过拟合。"
   ]
  },
  {
   "cell_type": "markdown",
   "metadata": {},
   "source": [
    "声呐信号分析 [来源](https://github.com/apachecn/AiLearning/blob/master/docs/ml/7.%E9%9B%86%E6%88%90%E6%96%B9%E6%B3%95-%E9%9A%8F%E6%9C%BA%E6%A3%AE%E6%9E%97%E5%92%8CAdaBoost.md#%E9%9A%8F%E6%9C%BA%E6%A3%AE%E6%9E%97)\n",
    "---"
   ]
  },
  {
   "cell_type": "code",
   "execution_count": 29,
   "metadata": {},
   "outputs": [],
   "source": [
    "import numpy as np\n",
    "import matplotlib.pyplot as plt\n",
    "%matplotlib inline\n",
    "np.set_printoptions(suppress=True, precision=4, threshold=16)"
   ]
  },
  {
   "cell_type": "code",
   "execution_count": 30,
   "metadata": {},
   "outputs": [],
   "source": [
    "def load_data(file_path):\n",
    "    with open(file_path) as f:\n",
    "        data = []\n",
    "        for line in f.readlines():\n",
    "            if not line:\n",
    "                continue\n",
    "            line_data = []\n",
    "            for str_ in line.split(','):\n",
    "                str_ = str_.strip()\n",
    "                if str_.isdigit():\n",
    "                    line_data.append(float(str_))\n",
    "                else:\n",
    "                    line_data.append(str_)\n",
    "            data.append(line_data)\n",
    "        return data"
   ]
  },
  {
   "cell_type": "code",
   "execution_count": 31,
   "metadata": {},
   "outputs": [
    {
     "output_type": "execute_result",
     "data": {
      "text/plain": "array([['0.02', '0.0371', '0.0428', ..., '0.009', '0.0032', 'R'],\n       ['0.0453', '0.0523', '0.0843', ..., '0.0052', '0.0044', 'R'],\n       ['0.0262', '0.0582', '0.1099', ..., '0.0095', '0.0078', 'R'],\n       ...,\n       ['0.0522', '0.0437', '0.018', ..., '0.0077', '0.0031', 'M'],\n       ['0.0303', '0.0353', '0.049', ..., '0.0036', '0.0048', 'M'],\n       ['0.026', '0.0363', '0.0136', ..., '0.0061', '0.0115', 'M']],\n      dtype='<U6')"
     },
     "metadata": {},
     "execution_count": 31
    }
   ],
   "source": [
    "data = np.array(load_data('/mnt/data1/workspace/AI/data/机器学习/7.RandomForest/sonar-all-data.txt'))\n",
    "data"
   ]
  },
  {
   "cell_type": "code",
   "execution_count": 74,
   "metadata": {},
   "outputs": [],
   "source": [
    "import re\n",
    "pattern = re.compile(r\"\\d+(\\.\\d+)?\")"
   ]
  },
  {
   "cell_type": "code",
   "execution_count": 4,
   "metadata": {},
   "outputs": [
    {
     "output_type": "execute_result",
     "data": {
      "text/plain": "array([ 1,  1,  1, ..., -1, -1, -1])"
     },
     "metadata": {},
     "execution_count": 4
    }
   ],
   "source": [
    "data = np.array(load_data('/mnt/data1/workspace/AI/data/机器学习/7.RandomForest/sonar-all-data.txt'))\n",
    "X, y = data[:, :-1].astype(float), data[:, -1]\n",
    "labels, indices_u = np.unique(y, return_inverse=True)\n",
    "y_ = np.where(indices_u == 0, -1, indices_u)\n",
    "y_"
   ]
  },
  {
   "cell_type": "code",
   "execution_count": 20,
   "metadata": {},
   "outputs": [
    {
     "output_type": "execute_result",
     "data": {
      "text/plain": "array(['M', 'R'], dtype='<U6')"
     },
     "metadata": {},
     "execution_count": 20
    }
   ],
   "source": [
    "labels"
   ]
  },
  {
   "cell_type": "code",
   "execution_count": 21,
   "metadata": {},
   "outputs": [
    {
     "output_type": "execute_result",
     "data": {
      "text/plain": "(208, 60)"
     },
     "metadata": {},
     "execution_count": 21
    }
   ],
   "source": [
    "X.shape"
   ]
  },
  {
   "cell_type": "code",
   "execution_count": 7,
   "metadata": {},
   "outputs": [],
   "source": [
    "# 定义节点类 CART 二叉树\n",
    "class Node:\n",
    "    def __init__(self, root=True, label=None, feature=None, value=None):\n",
    "        self.root = root  # 当前节点是叶节点了\n",
    "        self.label = label  # 节点的分类\n",
    "        # self.feature_name = feature_name  # 节点划分子集使用的特征名\n",
    "        self.feature = feature   # 当前节点 划分子集使用的特征编号\n",
    "        self.tree = {}  # 子节点\n",
    "        self.value = value  # 分割值\n",
    "\n",
    "    def __repr__(self): \n",
    "        result = {\n",
    "            'label': self.label,\n",
    "            'feature': self.feature,\n",
    "            'value': self.value,\n",
    "            'tree': self.tree\n",
    "        }\n",
    "        if not self.label:\n",
    "            result.pop('label')\n",
    "        if not self.tree:\n",
    "            result.pop('tree')\n",
    "        if not self.feature:\n",
    "            result.pop('feature')\n",
    "        if self.value is None:\n",
    "            result.pop('value')   \n",
    "        return '{}'.format(result)\n",
    "\n",
    "    def add_node(self, val, node):\n",
    "        self.tree[val] = node\n",
    "\n",
    "    def predict(self, X):\n",
    "        # X 单个特征样本\n",
    "        if self.root is True:\n",
    "            return self.label\n",
    "        if X[self.feature] >= self.value :\n",
    "            return self.tree['left'].predict(X)\n",
    "        else:\n",
    "            return self.tree['right'].predict(X)"
   ]
  },
  {
   "cell_type": "code",
   "execution_count": 8,
   "metadata": {},
   "outputs": [],
   "source": [
    "class CART:\n",
    "    def __init__(self, epsilon=0.1, sample_least=5):\n",
    "        self.epsilon = epsilon  # 基尼指数阈值\n",
    "        self.sample_least = sample_least\n",
    "        self._tree = {}\n",
    "    \n",
    "    @staticmethod\n",
    "    def gini_(y1, y2):\n",
    "        # 获取当前样本集 的gini指数\n",
    "        ginis = []\n",
    "        \n",
    "        for y in (y1, y2):\n",
    "            # Gini(D) = 1- \\sum (|C_k|/|D|)^2\n",
    "            labels, counts = np.unique(y, return_counts=True)\n",
    "            gini = 1- np.sum((counts / np.sum(counts)) ** 2)\n",
    "            ginis.append(gini)\n",
    "        # Gini(D, A) = |D1| / |D| * gini(D1) + |D2| / |D| * gini(D2)\n",
    "        A = np.array([len(y1), len(y2)])\n",
    "        # print(ginis, A)\n",
    "        gini_A = (ginis * (A / A.sum())).sum()\n",
    "        return gini_A\n",
    "    \n",
    "    @staticmethod\n",
    "    def data_split(X, feature, value):\n",
    "        # 根据特征和value 分割数据 返回序号\n",
    "        data_set = X[:, feature]\n",
    "        left , right = [], []\n",
    "        for i in range(len(data_set)):\n",
    "            if data_set[i] >= value:\n",
    "                left.append(i)\n",
    "            else:\n",
    "                right.append(i)\n",
    "        return left, right\n",
    "    \n",
    "    def choose_best_value(self, data, y, feature):\n",
    "        # 返回最佳分割点和相应的gini指数\n",
    "        # 选定特征A, A的不同划分取值a 下的gini指数\n",
    "        value_split_list = np.sort(data[:, feature])\n",
    "        value_split = (value_split_list[1:] + value_split_list[:-1]) / 2\n",
    "        gini_one_feature = []\n",
    "        \n",
    "        for value in value_split:\n",
    "            # 每个划分点计算 基尼指数\n",
    "            left, right = self.data_split(data, feature, value)\n",
    "            gini = self.gini_(y[left], y[right])\n",
    "            gini_one_feature.append(gini)\n",
    "        # 得到最小的gini\n",
    "        min_index = np.argmin(gini_one_feature)\n",
    "        return value_split[min_index], gini_one_feature[min_index] \n",
    "\n",
    "    def choose_best_feature(self, X, y, features):\n",
    "        # 寻找最好的 分割特征和分割值\n",
    "        temp = np.zeros((len(features), 3))\n",
    "        for i, feature in enumerate(features):\n",
    "            value, gini = self.choose_best_value(X, y, feature)\n",
    "            temp[i] = [gini, feature, value]\n",
    "        best = np.argmin(temp[:, 0])\n",
    "        return temp[best]\n",
    "    \n",
    "    def build_tree(self, X, y, features):\n",
    "        X = X.copy()\n",
    "        y = y.copy()\n",
    "        u, counts = np.unique(y, return_counts=True)\n",
    "        # 1, 样本个数小于预订阈值, 多数表决\n",
    "        if len(X) < self.sample_least:\n",
    "            return Node(root=True, label=u[counts.argmax()])\n",
    "        \n",
    "        # 2, 若A为空，没有特征继续进行划分了, 则T为单节点树，将D中实例树最大的类Ck作为该节点的类标记，返回T\n",
    "        if len(features) == 0:\n",
    "            return Node(root=True, label=u[counts.argmax()])\n",
    "        \n",
    "        # 3. 计算 最佳的特征 分割点 gini\n",
    "        gini, feature, value = self.choose_best_feature(X, y, features)\n",
    "        # 3个一同存储的, 会变成float类型\n",
    "        feature = int(feature)\n",
    "        \n",
    "        # 4 gini指数小于某一值\n",
    "        if gini < self.epsilon:\n",
    "            return Node(root=True, label=u[counts.argmax()], value=value)\n",
    "        \n",
    "        # 5 构建结点\n",
    "        node_tree = Node(root=False, feature=feature, value=value)\n",
    "        features_copy = features.copy()  # 纯数字list的copy\n",
    "        features_copy.remove(feature)\n",
    "        # 左>=  右<\n",
    "        # 6 递归生成树\n",
    "        left, right = self.data_split(X, feature, value)\n",
    "        # print(len(left), len(right), X.shape, y.shape)\n",
    "        left_tree = self.build_tree(X[left], y[left], features_copy)\n",
    "        node_tree.add_node('left', left_tree)\n",
    "        right_tree = self.build_tree(X[right], y[right], features_copy)\n",
    "        node_tree.add_node('right', right_tree)\n",
    "        \n",
    "        return node_tree\n",
    "        \n",
    "    def fit(self, X, y, features):\n",
    "        print('选择的特征', features)\n",
    "        self._tree = self.build_tree(X, y, features)\n",
    "        return self._tree\n",
    "            \n",
    "    def predict(self, X):\n",
    "        ret = np.zeros(X.shape[0])\n",
    "        for i, sample in enumerate(X):\n",
    "            ret[i] = (self._tree.predict(sample))\n",
    "        return ret\n",
    "    \n",
    "    def score(self, X, y):\n",
    "        y_pred = self.predict(X)\n",
    "        return np.sum(y_pred == y) / len(y)"
   ]
  },
  {
   "cell_type": "code",
   "execution_count": 9,
   "metadata": {
    "tags": []
   },
   "outputs": [
    {
     "output_type": "stream",
     "name": "stdout",
     "text": "选择的特征 [0, 1, 2, 3, 4, 5, 6, 7, 8, 9, 10, 11, 12, 13, 14, 15, 16, 17, 18, 19, 20, 21, 22, 23, 24, 25, 26, 27, 28, 29, 30, 31, 32, 33, 34, 35, 36, 37, 38, 39, 40, 41, 42, 43, 44, 45, 46, 47, 48, 49, 50, 51, 52, 53, 54, 55, 56, 57, 58, 59]\n"
    },
    {
     "output_type": "execute_result",
     "data": {
      "text/plain": "{'feature': 10, 'value': 0.19795000000000001, 'tree': {'left': {'feature': 15, 'value': 0.66655, 'tree': {'left': {'feature': 30, 'value': 0.39980000000000004, 'tree': {'left': {'label': 1, 'value': 0.011300000000000001}, 'right': {'feature': 14, 'value': 0.5222500000000001, 'tree': {'left': {'value': 0.34704999999999997}, 'right': {'label': 1}}}}}, 'right': {'feature': 33, 'value': 0.69215, 'tree': {'left': {'feature': 44, 'value': 0.252, 'tree': {'left': {'value': 0.01005}, 'right': {'label': 1, 'value': 0.009049999999999999}}}, 'right': {'value': 0.0039}}}}}, 'right': {'feature': 3, 'value': 0.051500000000000004, 'tree': {'left': {'feature': 44, 'value': 0.16155, 'tree': {'left': {'value': 0.01405}, 'right': {'label': 1, 'value': 0.05585}}}, 'right': {'value': 0.03925, 'tree': {'left': {}, 'right': {'label': 1, 'value': 0.9907}}}}}}}"
     },
     "metadata": {},
     "execution_count": 9
    }
   ],
   "source": [
    "cart_tree = CART()\n",
    "feature_all = list(range(X.shape[1]))\n",
    "cart_tree.fit(X, indices_u, feature_all)"
   ]
  },
  {
   "cell_type": "code",
   "execution_count": 10,
   "metadata": {},
   "outputs": [
    {
     "output_type": "execute_result",
     "data": {
      "text/plain": "0.9230769230769231"
     },
     "metadata": {},
     "execution_count": 10
    }
   ],
   "source": [
    "cart_tree.score(X, indices_u)  # X 的正确率"
   ]
  },
  {
   "cell_type": "code",
   "execution_count": 12,
   "metadata": {},
   "outputs": [],
   "source": [
    "def bagging(n_sample, tree_num):\n",
    "    # 样本数据随机化 为每棵树生成n_sample个样本\n",
    "    indices = np.random.randint(0, n_sample, size=(tree_num, n_sample))\n",
    "    oobs = []\n",
    "    for sample in indices:\n",
    "        # 为棵树添加oob\n",
    "        oobs.append(np.setdiff1d(range(n_sample), sample))\n",
    "    return indices, oobs"
   ]
  },
  {
   "cell_type": "code",
   "execution_count": 13,
   "metadata": {},
   "outputs": [],
   "source": [
    "indices, oobs = bagging(100, 5)"
   ]
  },
  {
   "cell_type": "code",
   "execution_count": 22,
   "metadata": {},
   "outputs": [
    {
     "output_type": "execute_result",
     "data": {
      "text/plain": "((40,), (32,))"
     },
     "metadata": {},
     "execution_count": 22
    }
   ],
   "source": [
    "oobs[1].shape, oobs[2].shape"
   ]
  },
  {
   "cell_type": "code",
   "execution_count": null,
   "metadata": {},
   "outputs": [],
   "source": []
  },
  {
   "cell_type": "code",
   "execution_count": 102,
   "metadata": {},
   "outputs": [],
   "source": [
    "class CARTRandom(CART):\n",
    "    def __init__(self, epsilon=0.1, sample_least=5, feature_num=10):\n",
    "        super().__init__(epsilon, sample_least)\n",
    "        self.feature_num = feature_num\n",
    "    \n",
    "    def build_tree(self, X, y, features):\n",
    "        X = X.copy()\n",
    "        y = y.copy()\n",
    "        u, counts = np.unique(y, return_counts=True)\n",
    "        # 1, 样本个数小于预订阈值, 多数表决\n",
    "        if len(X) < self.sample_least:\n",
    "            return Node(root=True, label=u[counts.argmax()])\n",
    "        \n",
    "        # 2, 若A为空，没有特征继续进行划分了, 则T为单节点树，将D中实例树最大的类Ck作为该节点的类标记，返回T\n",
    "        if len(features) == 0:\n",
    "            return Node(root=True, label=u[counts.argmax()])\n",
    "        \n",
    "        # 3. 计算 最佳的特征 分割点 gini\n",
    "        # RandomForest从随机选择的特征中选最好的\n",
    "        features_select = np.random.choice(features, self.feature_num, replace=False)\n",
    "        gini, feature, value = self.choose_best_feature(X, y, features_select)\n",
    "        # 3个一同存储的, 会变成float类型\n",
    "        feature = int(feature)\n",
    "        \n",
    "        # 4 gini指数小于某一值\n",
    "        if gini < self.epsilon:\n",
    "            return Node(root=True, label=u[counts.argmax()], value=value)\n",
    "        \n",
    "        # 5 构建结点\n",
    "        node_tree = Node(root=False, feature=feature, value=value)\n",
    "        features_copy = features.copy()  # 纯数字list的copy\n",
    "        features_copy.remove(feature)\n",
    "        # 左>=  右<\n",
    "        # 6 递归生成树\n",
    "        left, right = self.data_split(X, feature, value)\n",
    "        # print(len(left), len(right), X.shape, y.shape)\n",
    "        left_tree = self.build_tree(X[left], y[left], features_copy)\n",
    "        node_tree.add_node('left', left_tree)\n",
    "        right_tree = self.build_tree(X[right], y[right], features_copy)\n",
    "        node_tree.add_node('right', right_tree)\n",
    "        \n",
    "        return node_tree\n",
    "        \n",
    "    def fit(self, X, y, features):\n",
    "        # print('选择的特征', features)\n",
    "        self._tree = self.build_tree(X, y, features)\n",
    "        return self._tree"
   ]
  },
  {
   "cell_type": "code",
   "execution_count": 105,
   "metadata": {},
   "outputs": [],
   "source": [
    "class RamdomForest:\n",
    "    def __init__(self, T=21, random_state=0, feature_nums=6):\n",
    "        self.T = T  #  Bagging 方法生成T棵 DT\n",
    "        np.random.seed(random_state)\n",
    "        self.feature_nums = feature_nums  # 选定多少个特征构建决策树\n",
    "        self.trees = []\n",
    "        self.self_validation = 0.0\n",
    "        \n",
    "    @staticmethod\n",
    "    def bagging(n_sample, tree_num):\n",
    "        # 样本数据随机化 为每棵树生成n_sample个样本\n",
    "        indices = np.random.randint(0, n_sample, size=(tree_num, n_sample))\n",
    "        oobs = []\n",
    "        for sample in indices:\n",
    "            # 为棵树添加oob\n",
    "            oobs.append(np.setdiff1d(range(n_sample), sample))\n",
    "        return indices, oobs\n",
    "    \n",
    "    # @staticmethod\n",
    "    # def random_feature(tree_num, n_feature, feature_nums):\n",
    "    #     # 每棵树都从M个特征中选取m个\n",
    "    #     feature_array = np.zeros((tree_num, feature_nums))\n",
    "    #     for i in range(tree_num):\n",
    "    #         feature_index = np.arange(n_feature)\n",
    "    #         np.random.shuffle(feature_index)\n",
    "    #         feature_selected = feature_index[:feature_nums]\n",
    "    #         feature_array[i,:] = feature_selected\n",
    "    #     return feature_array.astype(int)\n",
    "        \n",
    "    def fit(self, X, y):\n",
    "        n_sample, n_feature = X.shape\n",
    "        indices, oobs = self.bagging(n_sample, self.T)\n",
    "        # features = self.random_feature(self.T, n_feature, self.feature_nums)\n",
    "        features = list(range(X.shape[1]))\n",
    "        X_samples, y_samples = X[indices, :], y[indices]\n",
    "        \n",
    "        \n",
    "        for i in range(self.T):\n",
    "            tree = CARTRandom(epsilon=0.1, sample_least=5, feature_num=self.feature_nums)\n",
    "            tree.fit(X_samples[i, :], y_samples[i], features)  # 转成list 方便操作\n",
    "            self.trees.append(tree)\n",
    "        \n",
    "        y_pred = []\n",
    "        for i in range(n_sample):\n",
    "            y_pred_i = []\n",
    "            for j in range(self.T): \n",
    "                # 如果(X_n, y_n)是某棵树的oob, 则使用这棵树判断此样本\n",
    "                if i in oobs[j]:  # [1, 2 ,5, ...]\n",
    "                    y_pred_i.append(self.trees[j].predict(X[[i]]))\n",
    "            # 取平均 计算当前样本预测值 \n",
    "            y_i = np.mean(y_pred_i) # np.array(y_pred_i).ravel().mean()\n",
    "            y_pred.append(1 if y_i >= 0 else -1)\n",
    "        # 所有样本的平均表现\n",
    "        self.self_validation = np.sum(y_pred == y) / n_sample\n",
    "    \n",
    "    \n",
    "    def predict(self, X):\n",
    "        y_pred = np.zeros((self.T, X.shape[0]))\n",
    "        for i in range(self.T):\n",
    "            y_pred[i] = self.trees[i].predict(X)\n",
    "        y = np.where(np.average(y_pred, axis=0)>0, 1, -1)\n",
    "        return y\n",
    "        \n",
    "    def score(self, X, y):\n",
    "        y_pred = self.predict(X)\n",
    "        return np.sum(y==y_pred)/ len(y)"
   ]
  },
  {
   "cell_type": "code",
   "execution_count": 106,
   "metadata": {
    "tags": []
   },
   "outputs": [],
   "source": [
    "rf = RamdomForest(random_state=12345)\n",
    "rf.fit(X, y_)"
   ]
  },
  {
   "cell_type": "code",
   "execution_count": 107,
   "metadata": {},
   "outputs": [
    {
     "output_type": "execute_result",
     "data": {
      "text/plain": "0.7740384615384616"
     },
     "metadata": {},
     "execution_count": 107
    }
   ],
   "source": [
    "rf.self_validation"
   ]
  },
  {
   "cell_type": "code",
   "execution_count": 108,
   "metadata": {},
   "outputs": [
    {
     "output_type": "execute_result",
     "data": {
      "text/plain": "0.9807692307692307"
     },
     "metadata": {},
     "execution_count": 108
    }
   ],
   "source": [
    "rf.score(X, y_)  # 比单一决策树好"
   ]
  },
  {
   "cell_type": "markdown",
   "metadata": {},
   "source": [
    "**使用sklearn解决**"
   ]
  },
  {
   "cell_type": "code",
   "execution_count": 113,
   "metadata": {},
   "outputs": [
    {
     "output_type": "execute_result",
     "data": {
      "text/plain": "RandomForestClassifier(max_depth=7, n_estimators=21, n_jobs=-1, oob_score=True,\n                       random_state=12345)"
     },
     "metadata": {},
     "execution_count": 113
    }
   ],
   "source": [
    "from sklearn.ensemble import RandomForestClassifier\n",
    "from sklearn.tree import export_graphviz\n",
    "from sklearn.model_selection import cross_val_score\n",
    "\n",
    "# scikit-learn 的实现是取每个分类器预测概率的平均，\n",
    "# 而不是让每个分类器对类别进行投票\n",
    "rf = RandomForestClassifier(n_estimators=21, random_state=12345,                                n_jobs=-1, oob_score=True, max_depth=7)\n",
    "rf.fit(X, y_)"
   ]
  },
  {
   "cell_type": "code",
   "execution_count": 114,
   "metadata": {},
   "outputs": [
    {
     "output_type": "execute_result",
     "data": {
      "text/plain": "1.0"
     },
     "metadata": {},
     "execution_count": 114
    }
   ],
   "source": [
    "rf.score(X, y_)"
   ]
  },
  {
   "cell_type": "code",
   "execution_count": 115,
   "metadata": {},
   "outputs": [
    {
     "output_type": "execute_result",
     "data": {
      "text/plain": "0.8269230769230769"
     },
     "metadata": {},
     "execution_count": 115
    }
   ],
   "source": [
    "# 查看oob得分\n",
    "rf.oob_score_"
   ]
  },
  {
   "cell_type": "markdown",
   "metadata": {},
   "source": [
    "## sk-learn 官方User Guide的例子 "
   ]
  },
  {
   "cell_type": "code",
   "execution_count": 116,
   "metadata": {},
   "outputs": [],
   "source": [
    "from sklearn.ensemble import RandomForestClassifier\n",
    "from sklearn.model_selection import train_test_split, cross_val_score\n",
    "from sklearn.feature_selection import SelectFromModel\n",
    "from sklearn import metrics\n",
    "import matplotlib.pyplot as plt\n",
    "import graphviz\n",
    "from sklearn import datasets\n",
    "import pandas as pd\n",
    "import numpy as np\n",
    "np.set_printoptions(precision=4, suppress=True, threshold=15)\n",
    "pd.options.display.max_rows = 20"
   ]
  },
  {
   "cell_type": "code",
   "execution_count": 117,
   "metadata": {},
   "outputs": [],
   "source": [
    "iris = datasets.load_iris()\n",
    "X, y = iris.data, iris.target"
   ]
  },
  {
   "cell_type": "markdown",
   "metadata": {},
   "source": [
    "[数据科学和人工智能技术笔记 十三、树和森林](https://github.com/apachecn/ds-ai-tech-notes/blob/master/13.md)"
   ]
  },
  {
   "cell_type": "code",
   "execution_count": 118,
   "metadata": {},
   "outputs": [
    {
     "output_type": "execute_result",
     "data": {
      "text/plain": "RandomForestClassifier(n_jobs=-1, random_state=12345)"
     },
     "metadata": {},
     "execution_count": 118
    }
   ],
   "source": [
    "# 使用随机森林\n",
    "clf = RandomForestClassifier(random_state=12345, n_jobs=-1)\n",
    "clf.fit(X, y)"
   ]
  },
  {
   "cell_type": "markdown",
   "metadata": {},
   "source": [
    "**特征的重要性**"
   ]
  },
  {
   "cell_type": "code",
   "execution_count": 119,
   "metadata": {},
   "outputs": [
    {
     "output_type": "execute_result",
     "data": {
      "text/plain": "array([0.087 , 0.0213, 0.4622, 0.4294])"
     },
     "metadata": {},
     "execution_count": 119
    }
   ],
   "source": [
    "# 计算特征重要性  越接近于1 表示越重要\n",
    "importances = clf.feature_importances_  # 所有重要性得分加起来为 100%\n",
    "importances  "
   ]
  },
  {
   "cell_type": "code",
   "execution_count": 120,
   "metadata": {},
   "outputs": [
    {
     "output_type": "execute_result",
     "data": {
      "text/plain": "([<matplotlib.axis.XTick at 0x7f8dda3e7cd0>,\n  <matplotlib.axis.XTick at 0x7f8dda3e7c90>,\n  <matplotlib.axis.XTick at 0x7f8dda38de50>,\n  <matplotlib.axis.XTick at 0x7f8dda3a03d0>],\n [Text(0, 0, 'sepal length (cm)'),\n  Text(0, 0, 'sepal width (cm)'),\n  Text(0, 0, 'petal length (cm)'),\n  Text(0, 0, 'petal width (cm)')])"
     },
     "metadata": {},
     "execution_count": 120
    },
    {
     "output_type": "display_data",
     "data": {
      "text/plain": "<Figure size 432x288 with 1 Axes>",
      "image/svg+xml": "<?xml version=\"1.0\" encoding=\"utf-8\" standalone=\"no\"?>\n<!DOCTYPE svg PUBLIC \"-//W3C//DTD SVG 1.1//EN\"\n  \"http://www.w3.org/Graphics/SVG/1.1/DTD/svg11.dtd\">\n<!-- Created with matplotlib (https://matplotlib.org/) -->\n<svg height=\"341.84875pt\" version=\"1.1\" viewBox=\"0 0 372.103125 341.84875\" width=\"372.103125pt\" xmlns=\"http://www.w3.org/2000/svg\" xmlns:xlink=\"http://www.w3.org/1999/xlink\">\n <defs>\n  <style type=\"text/css\">\n*{stroke-linecap:butt;stroke-linejoin:round;}\n  </style>\n </defs>\n <g id=\"figure_1\">\n  <g id=\"patch_1\">\n   <path d=\"M 0 341.84875 \nL 372.103125 341.84875 \nL 372.103125 0 \nL 0 0 \nz\n\" style=\"fill:none;\"/>\n  </g>\n  <g id=\"axes_1\">\n   <g id=\"patch_2\">\n    <path d=\"M 30.103125 239.758125 \nL 364.903125 239.758125 \nL 364.903125 22.318125 \nL 30.103125 22.318125 \nz\n\" style=\"fill:#ffffff;\"/>\n   </g>\n   <g id=\"patch_3\">\n    <path clip-path=\"url(#p60d759475d)\" d=\"M 45.321307 239.758125 \nL 109.397862 239.758125 \nL 109.397862 200.760461 \nL 45.321307 200.760461 \nz\n\" style=\"fill:#1f77b4;\"/>\n   </g>\n   <g id=\"patch_4\">\n    <path clip-path=\"url(#p60d759475d)\" d=\"M 125.417001 239.758125 \nL 189.493556 239.758125 \nL 189.493556 230.207928 \nL 125.417001 230.207928 \nz\n\" style=\"fill:#1f77b4;\"/>\n   </g>\n   <g id=\"patch_5\">\n    <path clip-path=\"url(#p60d759475d)\" d=\"M 205.512694 239.758125 \nL 269.589249 239.758125 \nL 269.589249 32.672411 \nL 205.512694 32.672411 \nz\n\" style=\"fill:#1f77b4;\"/>\n   </g>\n   <g id=\"patch_6\">\n    <path clip-path=\"url(#p60d759475d)\" d=\"M 285.608388 239.758125 \nL 349.684943 239.758125 \nL 349.684943 47.391585 \nL 285.608388 47.391585 \nz\n\" style=\"fill:#1f77b4;\"/>\n   </g>\n   <g id=\"matplotlib.axis_1\">\n    <g id=\"xtick_1\">\n     <g id=\"line2d_1\">\n      <defs>\n       <path d=\"M 0 0 \nL 0 3.5 \n\" id=\"m471899cced\" style=\"stroke:#000000;stroke-width:0.8;\"/>\n      </defs>\n      <g>\n       <use style=\"stroke:#000000;stroke-width:0.8;\" x=\"77.359584\" xlink:href=\"#m471899cced\" y=\"239.758125\"/>\n      </g>\n     </g>\n     <g id=\"text_1\">\n      <!-- sepal length (cm) -->\n      <defs>\n       <path d=\"M 44.28125 53.078125 \nL 44.28125 44.578125 \nQ 40.484375 46.53125 36.375 47.5 \nQ 32.28125 48.484375 27.875 48.484375 \nQ 21.1875 48.484375 17.84375 46.4375 \nQ 14.5 44.390625 14.5 40.28125 \nQ 14.5 37.15625 16.890625 35.375 \nQ 19.28125 33.59375 26.515625 31.984375 \nL 29.59375 31.296875 \nQ 39.15625 29.25 43.1875 25.515625 \nQ 47.21875 21.78125 47.21875 15.09375 \nQ 47.21875 7.46875 41.1875 3.015625 \nQ 35.15625 -1.421875 24.609375 -1.421875 \nQ 20.21875 -1.421875 15.453125 -0.5625 \nQ 10.6875 0.296875 5.421875 2 \nL 5.421875 11.28125 \nQ 10.40625 8.6875 15.234375 7.390625 \nQ 20.0625 6.109375 24.8125 6.109375 \nQ 31.15625 6.109375 34.5625 8.28125 \nQ 37.984375 10.453125 37.984375 14.40625 \nQ 37.984375 18.0625 35.515625 20.015625 \nQ 33.0625 21.96875 24.703125 23.78125 \nL 21.578125 24.515625 \nQ 13.234375 26.265625 9.515625 29.90625 \nQ 5.8125 33.546875 5.8125 39.890625 \nQ 5.8125 47.609375 11.28125 51.796875 \nQ 16.75 56 26.8125 56 \nQ 31.78125 56 36.171875 55.265625 \nQ 40.578125 54.546875 44.28125 53.078125 \nz\n\" id=\"DejaVuSans-115\"/>\n       <path d=\"M 56.203125 29.59375 \nL 56.203125 25.203125 \nL 14.890625 25.203125 \nQ 15.484375 15.921875 20.484375 11.0625 \nQ 25.484375 6.203125 34.421875 6.203125 \nQ 39.59375 6.203125 44.453125 7.46875 \nQ 49.3125 8.734375 54.109375 11.28125 \nL 54.109375 2.78125 \nQ 49.265625 0.734375 44.1875 -0.34375 \nQ 39.109375 -1.421875 33.890625 -1.421875 \nQ 20.796875 -1.421875 13.15625 6.1875 \nQ 5.515625 13.8125 5.515625 26.8125 \nQ 5.515625 40.234375 12.765625 48.109375 \nQ 20.015625 56 32.328125 56 \nQ 43.359375 56 49.78125 48.890625 \nQ 56.203125 41.796875 56.203125 29.59375 \nz\nM 47.21875 32.234375 \nQ 47.125 39.59375 43.09375 43.984375 \nQ 39.0625 48.390625 32.421875 48.390625 \nQ 24.90625 48.390625 20.390625 44.140625 \nQ 15.875 39.890625 15.1875 32.171875 \nz\n\" id=\"DejaVuSans-101\"/>\n       <path d=\"M 18.109375 8.203125 \nL 18.109375 -20.796875 \nL 9.078125 -20.796875 \nL 9.078125 54.6875 \nL 18.109375 54.6875 \nL 18.109375 46.390625 \nQ 20.953125 51.265625 25.265625 53.625 \nQ 29.59375 56 35.59375 56 \nQ 45.5625 56 51.78125 48.09375 \nQ 58.015625 40.1875 58.015625 27.296875 \nQ 58.015625 14.40625 51.78125 6.484375 \nQ 45.5625 -1.421875 35.59375 -1.421875 \nQ 29.59375 -1.421875 25.265625 0.953125 \nQ 20.953125 3.328125 18.109375 8.203125 \nz\nM 48.6875 27.296875 \nQ 48.6875 37.203125 44.609375 42.84375 \nQ 40.53125 48.484375 33.40625 48.484375 \nQ 26.265625 48.484375 22.1875 42.84375 \nQ 18.109375 37.203125 18.109375 27.296875 \nQ 18.109375 17.390625 22.1875 11.75 \nQ 26.265625 6.109375 33.40625 6.109375 \nQ 40.53125 6.109375 44.609375 11.75 \nQ 48.6875 17.390625 48.6875 27.296875 \nz\n\" id=\"DejaVuSans-112\"/>\n       <path d=\"M 34.28125 27.484375 \nQ 23.390625 27.484375 19.1875 25 \nQ 14.984375 22.515625 14.984375 16.5 \nQ 14.984375 11.71875 18.140625 8.90625 \nQ 21.296875 6.109375 26.703125 6.109375 \nQ 34.1875 6.109375 38.703125 11.40625 \nQ 43.21875 16.703125 43.21875 25.484375 \nL 43.21875 27.484375 \nz\nM 52.203125 31.203125 \nL 52.203125 0 \nL 43.21875 0 \nL 43.21875 8.296875 \nQ 40.140625 3.328125 35.546875 0.953125 \nQ 30.953125 -1.421875 24.3125 -1.421875 \nQ 15.921875 -1.421875 10.953125 3.296875 \nQ 6 8.015625 6 15.921875 \nQ 6 25.140625 12.171875 29.828125 \nQ 18.359375 34.515625 30.609375 34.515625 \nL 43.21875 34.515625 \nL 43.21875 35.40625 \nQ 43.21875 41.609375 39.140625 45 \nQ 35.0625 48.390625 27.6875 48.390625 \nQ 23 48.390625 18.546875 47.265625 \nQ 14.109375 46.140625 10.015625 43.890625 \nL 10.015625 52.203125 \nQ 14.9375 54.109375 19.578125 55.046875 \nQ 24.21875 56 28.609375 56 \nQ 40.484375 56 46.34375 49.84375 \nQ 52.203125 43.703125 52.203125 31.203125 \nz\n\" id=\"DejaVuSans-97\"/>\n       <path d=\"M 9.421875 75.984375 \nL 18.40625 75.984375 \nL 18.40625 0 \nL 9.421875 0 \nz\n\" id=\"DejaVuSans-108\"/>\n       <path id=\"DejaVuSans-32\"/>\n       <path d=\"M 54.890625 33.015625 \nL 54.890625 0 \nL 45.90625 0 \nL 45.90625 32.71875 \nQ 45.90625 40.484375 42.875 44.328125 \nQ 39.84375 48.1875 33.796875 48.1875 \nQ 26.515625 48.1875 22.3125 43.546875 \nQ 18.109375 38.921875 18.109375 30.90625 \nL 18.109375 0 \nL 9.078125 0 \nL 9.078125 54.6875 \nL 18.109375 54.6875 \nL 18.109375 46.1875 \nQ 21.34375 51.125 25.703125 53.5625 \nQ 30.078125 56 35.796875 56 \nQ 45.21875 56 50.046875 50.171875 \nQ 54.890625 44.34375 54.890625 33.015625 \nz\n\" id=\"DejaVuSans-110\"/>\n       <path d=\"M 45.40625 27.984375 \nQ 45.40625 37.75 41.375 43.109375 \nQ 37.359375 48.484375 30.078125 48.484375 \nQ 22.859375 48.484375 18.828125 43.109375 \nQ 14.796875 37.75 14.796875 27.984375 \nQ 14.796875 18.265625 18.828125 12.890625 \nQ 22.859375 7.515625 30.078125 7.515625 \nQ 37.359375 7.515625 41.375 12.890625 \nQ 45.40625 18.265625 45.40625 27.984375 \nz\nM 54.390625 6.78125 \nQ 54.390625 -7.171875 48.1875 -13.984375 \nQ 42 -20.796875 29.203125 -20.796875 \nQ 24.46875 -20.796875 20.265625 -20.09375 \nQ 16.0625 -19.390625 12.109375 -17.921875 \nL 12.109375 -9.1875 \nQ 16.0625 -11.328125 19.921875 -12.34375 \nQ 23.78125 -13.375 27.78125 -13.375 \nQ 36.625 -13.375 41.015625 -8.765625 \nQ 45.40625 -4.15625 45.40625 5.171875 \nL 45.40625 9.625 \nQ 42.625 4.78125 38.28125 2.390625 \nQ 33.9375 0 27.875 0 \nQ 17.828125 0 11.671875 7.65625 \nQ 5.515625 15.328125 5.515625 27.984375 \nQ 5.515625 40.671875 11.671875 48.328125 \nQ 17.828125 56 27.875 56 \nQ 33.9375 56 38.28125 53.609375 \nQ 42.625 51.21875 45.40625 46.390625 \nL 45.40625 54.6875 \nL 54.390625 54.6875 \nz\n\" id=\"DejaVuSans-103\"/>\n       <path d=\"M 18.3125 70.21875 \nL 18.3125 54.6875 \nL 36.8125 54.6875 \nL 36.8125 47.703125 \nL 18.3125 47.703125 \nL 18.3125 18.015625 \nQ 18.3125 11.328125 20.140625 9.421875 \nQ 21.96875 7.515625 27.59375 7.515625 \nL 36.8125 7.515625 \nL 36.8125 0 \nL 27.59375 0 \nQ 17.1875 0 13.234375 3.875 \nQ 9.28125 7.765625 9.28125 18.015625 \nL 9.28125 47.703125 \nL 2.6875 47.703125 \nL 2.6875 54.6875 \nL 9.28125 54.6875 \nL 9.28125 70.21875 \nz\n\" id=\"DejaVuSans-116\"/>\n       <path d=\"M 54.890625 33.015625 \nL 54.890625 0 \nL 45.90625 0 \nL 45.90625 32.71875 \nQ 45.90625 40.484375 42.875 44.328125 \nQ 39.84375 48.1875 33.796875 48.1875 \nQ 26.515625 48.1875 22.3125 43.546875 \nQ 18.109375 38.921875 18.109375 30.90625 \nL 18.109375 0 \nL 9.078125 0 \nL 9.078125 75.984375 \nL 18.109375 75.984375 \nL 18.109375 46.1875 \nQ 21.34375 51.125 25.703125 53.5625 \nQ 30.078125 56 35.796875 56 \nQ 45.21875 56 50.046875 50.171875 \nQ 54.890625 44.34375 54.890625 33.015625 \nz\n\" id=\"DejaVuSans-104\"/>\n       <path d=\"M 31 75.875 \nQ 24.46875 64.65625 21.28125 53.65625 \nQ 18.109375 42.671875 18.109375 31.390625 \nQ 18.109375 20.125 21.3125 9.0625 \nQ 24.515625 -2 31 -13.1875 \nL 23.1875 -13.1875 \nQ 15.875 -1.703125 12.234375 9.375 \nQ 8.59375 20.453125 8.59375 31.390625 \nQ 8.59375 42.28125 12.203125 53.3125 \nQ 15.828125 64.359375 23.1875 75.875 \nz\n\" id=\"DejaVuSans-40\"/>\n       <path d=\"M 48.78125 52.59375 \nL 48.78125 44.1875 \nQ 44.96875 46.296875 41.140625 47.34375 \nQ 37.3125 48.390625 33.40625 48.390625 \nQ 24.65625 48.390625 19.8125 42.84375 \nQ 14.984375 37.3125 14.984375 27.296875 \nQ 14.984375 17.28125 19.8125 11.734375 \nQ 24.65625 6.203125 33.40625 6.203125 \nQ 37.3125 6.203125 41.140625 7.25 \nQ 44.96875 8.296875 48.78125 10.40625 \nL 48.78125 2.09375 \nQ 45.015625 0.34375 40.984375 -0.53125 \nQ 36.96875 -1.421875 32.421875 -1.421875 \nQ 20.0625 -1.421875 12.78125 6.34375 \nQ 5.515625 14.109375 5.515625 27.296875 \nQ 5.515625 40.671875 12.859375 48.328125 \nQ 20.21875 56 33.015625 56 \nQ 37.15625 56 41.109375 55.140625 \nQ 45.0625 54.296875 48.78125 52.59375 \nz\n\" id=\"DejaVuSans-99\"/>\n       <path d=\"M 52 44.1875 \nQ 55.375 50.25 60.0625 53.125 \nQ 64.75 56 71.09375 56 \nQ 79.640625 56 84.28125 50.015625 \nQ 88.921875 44.046875 88.921875 33.015625 \nL 88.921875 0 \nL 79.890625 0 \nL 79.890625 32.71875 \nQ 79.890625 40.578125 77.09375 44.375 \nQ 74.3125 48.1875 68.609375 48.1875 \nQ 61.625 48.1875 57.5625 43.546875 \nQ 53.515625 38.921875 53.515625 30.90625 \nL 53.515625 0 \nL 44.484375 0 \nL 44.484375 32.71875 \nQ 44.484375 40.625 41.703125 44.40625 \nQ 38.921875 48.1875 33.109375 48.1875 \nQ 26.21875 48.1875 22.15625 43.53125 \nQ 18.109375 38.875 18.109375 30.90625 \nL 18.109375 0 \nL 9.078125 0 \nL 9.078125 54.6875 \nL 18.109375 54.6875 \nL 18.109375 46.1875 \nQ 21.1875 51.21875 25.484375 53.609375 \nQ 29.78125 56 35.6875 56 \nQ 41.65625 56 45.828125 52.96875 \nQ 50 49.953125 52 44.1875 \nz\n\" id=\"DejaVuSans-109\"/>\n       <path d=\"M 8.015625 75.875 \nL 15.828125 75.875 \nQ 23.140625 64.359375 26.78125 53.3125 \nQ 30.421875 42.28125 30.421875 31.390625 \nQ 30.421875 20.453125 26.78125 9.375 \nQ 23.140625 -1.703125 15.828125 -13.1875 \nL 8.015625 -13.1875 \nQ 14.5 -2 17.703125 9.0625 \nQ 20.90625 20.125 20.90625 31.390625 \nQ 20.90625 42.671875 17.703125 53.65625 \nQ 14.5 64.65625 8.015625 75.875 \nz\n\" id=\"DejaVuSans-41\"/>\n      </defs>\n      <g transform=\"translate(80.118959 334.64875)rotate(-90)scale(0.1 -0.1)\">\n       <use xlink:href=\"#DejaVuSans-115\"/>\n       <use x=\"52.099609\" xlink:href=\"#DejaVuSans-101\"/>\n       <use x=\"113.623047\" xlink:href=\"#DejaVuSans-112\"/>\n       <use x=\"177.099609\" xlink:href=\"#DejaVuSans-97\"/>\n       <use x=\"238.378906\" xlink:href=\"#DejaVuSans-108\"/>\n       <use x=\"266.162109\" xlink:href=\"#DejaVuSans-32\"/>\n       <use x=\"297.949219\" xlink:href=\"#DejaVuSans-108\"/>\n       <use x=\"325.732422\" xlink:href=\"#DejaVuSans-101\"/>\n       <use x=\"387.255859\" xlink:href=\"#DejaVuSans-110\"/>\n       <use x=\"450.634766\" xlink:href=\"#DejaVuSans-103\"/>\n       <use x=\"514.111328\" xlink:href=\"#DejaVuSans-116\"/>\n       <use x=\"553.320312\" xlink:href=\"#DejaVuSans-104\"/>\n       <use x=\"616.699219\" xlink:href=\"#DejaVuSans-32\"/>\n       <use x=\"648.486328\" xlink:href=\"#DejaVuSans-40\"/>\n       <use x=\"687.5\" xlink:href=\"#DejaVuSans-99\"/>\n       <use x=\"742.480469\" xlink:href=\"#DejaVuSans-109\"/>\n       <use x=\"839.892578\" xlink:href=\"#DejaVuSans-41\"/>\n      </g>\n     </g>\n    </g>\n    <g id=\"xtick_2\">\n     <g id=\"line2d_2\">\n      <g>\n       <use style=\"stroke:#000000;stroke-width:0.8;\" x=\"157.455278\" xlink:href=\"#m471899cced\" y=\"239.758125\"/>\n      </g>\n     </g>\n     <g id=\"text_2\">\n      <!-- sepal width (cm) -->\n      <defs>\n       <path d=\"M 4.203125 54.6875 \nL 13.1875 54.6875 \nL 24.421875 12.015625 \nL 35.59375 54.6875 \nL 46.1875 54.6875 \nL 57.421875 12.015625 \nL 68.609375 54.6875 \nL 77.59375 54.6875 \nL 63.28125 0 \nL 52.6875 0 \nL 40.921875 44.828125 \nL 29.109375 0 \nL 18.5 0 \nz\n\" id=\"DejaVuSans-119\"/>\n       <path d=\"M 9.421875 54.6875 \nL 18.40625 54.6875 \nL 18.40625 0 \nL 9.421875 0 \nz\nM 9.421875 75.984375 \nL 18.40625 75.984375 \nL 18.40625 64.59375 \nL 9.421875 64.59375 \nz\n\" id=\"DejaVuSans-105\"/>\n       <path d=\"M 45.40625 46.390625 \nL 45.40625 75.984375 \nL 54.390625 75.984375 \nL 54.390625 0 \nL 45.40625 0 \nL 45.40625 8.203125 \nQ 42.578125 3.328125 38.25 0.953125 \nQ 33.9375 -1.421875 27.875 -1.421875 \nQ 17.96875 -1.421875 11.734375 6.484375 \nQ 5.515625 14.40625 5.515625 27.296875 \nQ 5.515625 40.1875 11.734375 48.09375 \nQ 17.96875 56 27.875 56 \nQ 33.9375 56 38.25 53.625 \nQ 42.578125 51.265625 45.40625 46.390625 \nz\nM 14.796875 27.296875 \nQ 14.796875 17.390625 18.875 11.75 \nQ 22.953125 6.109375 30.078125 6.109375 \nQ 37.203125 6.109375 41.296875 11.75 \nQ 45.40625 17.390625 45.40625 27.296875 \nQ 45.40625 37.203125 41.296875 42.84375 \nQ 37.203125 48.484375 30.078125 48.484375 \nQ 22.953125 48.484375 18.875 42.84375 \nQ 14.796875 37.203125 14.796875 27.296875 \nz\n\" id=\"DejaVuSans-100\"/>\n      </defs>\n      <g transform=\"translate(160.214653 330.33625)rotate(-90)scale(0.1 -0.1)\">\n       <use xlink:href=\"#DejaVuSans-115\"/>\n       <use x=\"52.099609\" xlink:href=\"#DejaVuSans-101\"/>\n       <use x=\"113.623047\" xlink:href=\"#DejaVuSans-112\"/>\n       <use x=\"177.099609\" xlink:href=\"#DejaVuSans-97\"/>\n       <use x=\"238.378906\" xlink:href=\"#DejaVuSans-108\"/>\n       <use x=\"266.162109\" xlink:href=\"#DejaVuSans-32\"/>\n       <use x=\"297.949219\" xlink:href=\"#DejaVuSans-119\"/>\n       <use x=\"379.736328\" xlink:href=\"#DejaVuSans-105\"/>\n       <use x=\"407.519531\" xlink:href=\"#DejaVuSans-100\"/>\n       <use x=\"470.996094\" xlink:href=\"#DejaVuSans-116\"/>\n       <use x=\"510.205078\" xlink:href=\"#DejaVuSans-104\"/>\n       <use x=\"573.583984\" xlink:href=\"#DejaVuSans-32\"/>\n       <use x=\"605.371094\" xlink:href=\"#DejaVuSans-40\"/>\n       <use x=\"644.384766\" xlink:href=\"#DejaVuSans-99\"/>\n       <use x=\"699.365234\" xlink:href=\"#DejaVuSans-109\"/>\n       <use x=\"796.777344\" xlink:href=\"#DejaVuSans-41\"/>\n      </g>\n     </g>\n    </g>\n    <g id=\"xtick_3\">\n     <g id=\"line2d_3\">\n      <g>\n       <use style=\"stroke:#000000;stroke-width:0.8;\" x=\"237.550972\" xlink:href=\"#m471899cced\" y=\"239.758125\"/>\n      </g>\n     </g>\n     <g id=\"text_3\">\n      <!-- petal length (cm) -->\n      <g transform=\"translate(240.310347 333.359688)rotate(-90)scale(0.1 -0.1)\">\n       <use xlink:href=\"#DejaVuSans-112\"/>\n       <use x=\"63.476562\" xlink:href=\"#DejaVuSans-101\"/>\n       <use x=\"125\" xlink:href=\"#DejaVuSans-116\"/>\n       <use x=\"164.208984\" xlink:href=\"#DejaVuSans-97\"/>\n       <use x=\"225.488281\" xlink:href=\"#DejaVuSans-108\"/>\n       <use x=\"253.271484\" xlink:href=\"#DejaVuSans-32\"/>\n       <use x=\"285.058594\" xlink:href=\"#DejaVuSans-108\"/>\n       <use x=\"312.841797\" xlink:href=\"#DejaVuSans-101\"/>\n       <use x=\"374.365234\" xlink:href=\"#DejaVuSans-110\"/>\n       <use x=\"437.744141\" xlink:href=\"#DejaVuSans-103\"/>\n       <use x=\"501.220703\" xlink:href=\"#DejaVuSans-116\"/>\n       <use x=\"540.429688\" xlink:href=\"#DejaVuSans-104\"/>\n       <use x=\"603.808594\" xlink:href=\"#DejaVuSans-32\"/>\n       <use x=\"635.595703\" xlink:href=\"#DejaVuSans-40\"/>\n       <use x=\"674.609375\" xlink:href=\"#DejaVuSans-99\"/>\n       <use x=\"729.589844\" xlink:href=\"#DejaVuSans-109\"/>\n       <use x=\"827.001953\" xlink:href=\"#DejaVuSans-41\"/>\n      </g>\n     </g>\n    </g>\n    <g id=\"xtick_4\">\n     <g id=\"line2d_4\">\n      <g>\n       <use style=\"stroke:#000000;stroke-width:0.8;\" x=\"317.646666\" xlink:href=\"#m471899cced\" y=\"239.758125\"/>\n      </g>\n     </g>\n     <g id=\"text_4\">\n      <!-- petal width (cm) -->\n      <g transform=\"translate(320.406041 329.047188)rotate(-90)scale(0.1 -0.1)\">\n       <use xlink:href=\"#DejaVuSans-112\"/>\n       <use x=\"63.476562\" xlink:href=\"#DejaVuSans-101\"/>\n       <use x=\"125\" xlink:href=\"#DejaVuSans-116\"/>\n       <use x=\"164.208984\" xlink:href=\"#DejaVuSans-97\"/>\n       <use x=\"225.488281\" xlink:href=\"#DejaVuSans-108\"/>\n       <use x=\"253.271484\" xlink:href=\"#DejaVuSans-32\"/>\n       <use x=\"285.058594\" xlink:href=\"#DejaVuSans-119\"/>\n       <use x=\"366.845703\" xlink:href=\"#DejaVuSans-105\"/>\n       <use x=\"394.628906\" xlink:href=\"#DejaVuSans-100\"/>\n       <use x=\"458.105469\" xlink:href=\"#DejaVuSans-116\"/>\n       <use x=\"497.314453\" xlink:href=\"#DejaVuSans-104\"/>\n       <use x=\"560.693359\" xlink:href=\"#DejaVuSans-32\"/>\n       <use x=\"592.480469\" xlink:href=\"#DejaVuSans-40\"/>\n       <use x=\"631.494141\" xlink:href=\"#DejaVuSans-99\"/>\n       <use x=\"686.474609\" xlink:href=\"#DejaVuSans-109\"/>\n       <use x=\"783.886719\" xlink:href=\"#DejaVuSans-41\"/>\n      </g>\n     </g>\n    </g>\n   </g>\n   <g id=\"matplotlib.axis_2\">\n    <g id=\"ytick_1\">\n     <g id=\"line2d_5\">\n      <defs>\n       <path d=\"M 0 0 \nL -3.5 0 \n\" id=\"m5f44503dd1\" style=\"stroke:#000000;stroke-width:0.8;\"/>\n      </defs>\n      <g>\n       <use style=\"stroke:#000000;stroke-width:0.8;\" x=\"30.103125\" xlink:href=\"#m5f44503dd1\" y=\"239.758125\"/>\n      </g>\n     </g>\n     <g id=\"text_5\">\n      <!-- 0.0 -->\n      <defs>\n       <path d=\"M 31.78125 66.40625 \nQ 24.171875 66.40625 20.328125 58.90625 \nQ 16.5 51.421875 16.5 36.375 \nQ 16.5 21.390625 20.328125 13.890625 \nQ 24.171875 6.390625 31.78125 6.390625 \nQ 39.453125 6.390625 43.28125 13.890625 \nQ 47.125 21.390625 47.125 36.375 \nQ 47.125 51.421875 43.28125 58.90625 \nQ 39.453125 66.40625 31.78125 66.40625 \nz\nM 31.78125 74.21875 \nQ 44.046875 74.21875 50.515625 64.515625 \nQ 56.984375 54.828125 56.984375 36.375 \nQ 56.984375 17.96875 50.515625 8.265625 \nQ 44.046875 -1.421875 31.78125 -1.421875 \nQ 19.53125 -1.421875 13.0625 8.265625 \nQ 6.59375 17.96875 6.59375 36.375 \nQ 6.59375 54.828125 13.0625 64.515625 \nQ 19.53125 74.21875 31.78125 74.21875 \nz\n\" id=\"DejaVuSans-48\"/>\n       <path d=\"M 10.6875 12.40625 \nL 21 12.40625 \nL 21 0 \nL 10.6875 0 \nz\n\" id=\"DejaVuSans-46\"/>\n      </defs>\n      <g transform=\"translate(7.2 243.557344)scale(0.1 -0.1)\">\n       <use xlink:href=\"#DejaVuSans-48\"/>\n       <use x=\"63.623047\" xlink:href=\"#DejaVuSans-46\"/>\n       <use x=\"95.410156\" xlink:href=\"#DejaVuSans-48\"/>\n      </g>\n     </g>\n    </g>\n    <g id=\"ytick_2\">\n     <g id=\"line2d_6\">\n      <g>\n       <use style=\"stroke:#000000;stroke-width:0.8;\" x=\"30.103125\" xlink:href=\"#m5f44503dd1\" y=\"194.958113\"/>\n      </g>\n     </g>\n     <g id=\"text_6\">\n      <!-- 0.1 -->\n      <defs>\n       <path d=\"M 12.40625 8.296875 \nL 28.515625 8.296875 \nL 28.515625 63.921875 \nL 10.984375 60.40625 \nL 10.984375 69.390625 \nL 28.421875 72.90625 \nL 38.28125 72.90625 \nL 38.28125 8.296875 \nL 54.390625 8.296875 \nL 54.390625 0 \nL 12.40625 0 \nz\n\" id=\"DejaVuSans-49\"/>\n      </defs>\n      <g transform=\"translate(7.2 198.757332)scale(0.1 -0.1)\">\n       <use xlink:href=\"#DejaVuSans-48\"/>\n       <use x=\"63.623047\" xlink:href=\"#DejaVuSans-46\"/>\n       <use x=\"95.410156\" xlink:href=\"#DejaVuSans-49\"/>\n      </g>\n     </g>\n    </g>\n    <g id=\"ytick_3\">\n     <g id=\"line2d_7\">\n      <g>\n       <use style=\"stroke:#000000;stroke-width:0.8;\" x=\"30.103125\" xlink:href=\"#m5f44503dd1\" y=\"150.158102\"/>\n      </g>\n     </g>\n     <g id=\"text_7\">\n      <!-- 0.2 -->\n      <defs>\n       <path d=\"M 19.1875 8.296875 \nL 53.609375 8.296875 \nL 53.609375 0 \nL 7.328125 0 \nL 7.328125 8.296875 \nQ 12.9375 14.109375 22.625 23.890625 \nQ 32.328125 33.6875 34.8125 36.53125 \nQ 39.546875 41.84375 41.421875 45.53125 \nQ 43.3125 49.21875 43.3125 52.78125 \nQ 43.3125 58.59375 39.234375 62.25 \nQ 35.15625 65.921875 28.609375 65.921875 \nQ 23.96875 65.921875 18.8125 64.3125 \nQ 13.671875 62.703125 7.8125 59.421875 \nL 7.8125 69.390625 \nQ 13.765625 71.78125 18.9375 73 \nQ 24.125 74.21875 28.421875 74.21875 \nQ 39.75 74.21875 46.484375 68.546875 \nQ 53.21875 62.890625 53.21875 53.421875 \nQ 53.21875 48.921875 51.53125 44.890625 \nQ 49.859375 40.875 45.40625 35.40625 \nQ 44.1875 33.984375 37.640625 27.21875 \nQ 31.109375 20.453125 19.1875 8.296875 \nz\n\" id=\"DejaVuSans-50\"/>\n      </defs>\n      <g transform=\"translate(7.2 153.957321)scale(0.1 -0.1)\">\n       <use xlink:href=\"#DejaVuSans-48\"/>\n       <use x=\"63.623047\" xlink:href=\"#DejaVuSans-46\"/>\n       <use x=\"95.410156\" xlink:href=\"#DejaVuSans-50\"/>\n      </g>\n     </g>\n    </g>\n    <g id=\"ytick_4\">\n     <g id=\"line2d_8\">\n      <g>\n       <use style=\"stroke:#000000;stroke-width:0.8;\" x=\"30.103125\" xlink:href=\"#m5f44503dd1\" y=\"105.35809\"/>\n      </g>\n     </g>\n     <g id=\"text_8\">\n      <!-- 0.3 -->\n      <defs>\n       <path d=\"M 40.578125 39.3125 \nQ 47.65625 37.796875 51.625 33 \nQ 55.609375 28.21875 55.609375 21.1875 \nQ 55.609375 10.40625 48.1875 4.484375 \nQ 40.765625 -1.421875 27.09375 -1.421875 \nQ 22.515625 -1.421875 17.65625 -0.515625 \nQ 12.796875 0.390625 7.625 2.203125 \nL 7.625 11.71875 \nQ 11.71875 9.328125 16.59375 8.109375 \nQ 21.484375 6.890625 26.8125 6.890625 \nQ 36.078125 6.890625 40.9375 10.546875 \nQ 45.796875 14.203125 45.796875 21.1875 \nQ 45.796875 27.640625 41.28125 31.265625 \nQ 36.765625 34.90625 28.71875 34.90625 \nL 20.21875 34.90625 \nL 20.21875 43.015625 \nL 29.109375 43.015625 \nQ 36.375 43.015625 40.234375 45.921875 \nQ 44.09375 48.828125 44.09375 54.296875 \nQ 44.09375 59.90625 40.109375 62.90625 \nQ 36.140625 65.921875 28.71875 65.921875 \nQ 24.65625 65.921875 20.015625 65.03125 \nQ 15.375 64.15625 9.8125 62.3125 \nL 9.8125 71.09375 \nQ 15.4375 72.65625 20.34375 73.4375 \nQ 25.25 74.21875 29.59375 74.21875 \nQ 40.828125 74.21875 47.359375 69.109375 \nQ 53.90625 64.015625 53.90625 55.328125 \nQ 53.90625 49.265625 50.4375 45.09375 \nQ 46.96875 40.921875 40.578125 39.3125 \nz\n\" id=\"DejaVuSans-51\"/>\n      </defs>\n      <g transform=\"translate(7.2 109.157309)scale(0.1 -0.1)\">\n       <use xlink:href=\"#DejaVuSans-48\"/>\n       <use x=\"63.623047\" xlink:href=\"#DejaVuSans-46\"/>\n       <use x=\"95.410156\" xlink:href=\"#DejaVuSans-51\"/>\n      </g>\n     </g>\n    </g>\n    <g id=\"ytick_5\">\n     <g id=\"line2d_9\">\n      <g>\n       <use style=\"stroke:#000000;stroke-width:0.8;\" x=\"30.103125\" xlink:href=\"#m5f44503dd1\" y=\"60.558079\"/>\n      </g>\n     </g>\n     <g id=\"text_9\">\n      <!-- 0.4 -->\n      <defs>\n       <path d=\"M 37.796875 64.3125 \nL 12.890625 25.390625 \nL 37.796875 25.390625 \nz\nM 35.203125 72.90625 \nL 47.609375 72.90625 \nL 47.609375 25.390625 \nL 58.015625 25.390625 \nL 58.015625 17.1875 \nL 47.609375 17.1875 \nL 47.609375 0 \nL 37.796875 0 \nL 37.796875 17.1875 \nL 4.890625 17.1875 \nL 4.890625 26.703125 \nz\n\" id=\"DejaVuSans-52\"/>\n      </defs>\n      <g transform=\"translate(7.2 64.357297)scale(0.1 -0.1)\">\n       <use xlink:href=\"#DejaVuSans-48\"/>\n       <use x=\"63.623047\" xlink:href=\"#DejaVuSans-46\"/>\n       <use x=\"95.410156\" xlink:href=\"#DejaVuSans-52\"/>\n      </g>\n     </g>\n    </g>\n   </g>\n   <g id=\"patch_7\">\n    <path d=\"M 30.103125 239.758125 \nL 30.103125 22.318125 \n\" style=\"fill:none;stroke:#000000;stroke-linecap:square;stroke-linejoin:miter;stroke-width:0.8;\"/>\n   </g>\n   <g id=\"patch_8\">\n    <path d=\"M 364.903125 239.758125 \nL 364.903125 22.318125 \n\" style=\"fill:none;stroke:#000000;stroke-linecap:square;stroke-linejoin:miter;stroke-width:0.8;\"/>\n   </g>\n   <g id=\"patch_9\">\n    <path d=\"M 30.103125 239.758125 \nL 364.903125 239.758125 \n\" style=\"fill:none;stroke:#000000;stroke-linecap:square;stroke-linejoin:miter;stroke-width:0.8;\"/>\n   </g>\n   <g id=\"patch_10\">\n    <path d=\"M 30.103125 22.318125 \nL 364.903125 22.318125 \n\" style=\"fill:none;stroke:#000000;stroke-linecap:square;stroke-linejoin:miter;stroke-width:0.8;\"/>\n   </g>\n   <g id=\"text_10\">\n    <!-- Feature Importamces -->\n    <defs>\n     <path d=\"M 9.8125 72.90625 \nL 51.703125 72.90625 \nL 51.703125 64.59375 \nL 19.671875 64.59375 \nL 19.671875 43.109375 \nL 48.578125 43.109375 \nL 48.578125 34.8125 \nL 19.671875 34.8125 \nL 19.671875 0 \nL 9.8125 0 \nz\n\" id=\"DejaVuSans-70\"/>\n     <path d=\"M 8.5 21.578125 \nL 8.5 54.6875 \nL 17.484375 54.6875 \nL 17.484375 21.921875 \nQ 17.484375 14.15625 20.5 10.265625 \nQ 23.53125 6.390625 29.59375 6.390625 \nQ 36.859375 6.390625 41.078125 11.03125 \nQ 45.3125 15.671875 45.3125 23.6875 \nL 45.3125 54.6875 \nL 54.296875 54.6875 \nL 54.296875 0 \nL 45.3125 0 \nL 45.3125 8.40625 \nQ 42.046875 3.421875 37.71875 1 \nQ 33.40625 -1.421875 27.6875 -1.421875 \nQ 18.265625 -1.421875 13.375 4.4375 \nQ 8.5 10.296875 8.5 21.578125 \nz\nM 31.109375 56 \nz\n\" id=\"DejaVuSans-117\"/>\n     <path d=\"M 41.109375 46.296875 \nQ 39.59375 47.171875 37.8125 47.578125 \nQ 36.03125 48 33.890625 48 \nQ 26.265625 48 22.1875 43.046875 \nQ 18.109375 38.09375 18.109375 28.8125 \nL 18.109375 0 \nL 9.078125 0 \nL 9.078125 54.6875 \nL 18.109375 54.6875 \nL 18.109375 46.1875 \nQ 20.953125 51.171875 25.484375 53.578125 \nQ 30.03125 56 36.53125 56 \nQ 37.453125 56 38.578125 55.875 \nQ 39.703125 55.765625 41.0625 55.515625 \nz\n\" id=\"DejaVuSans-114\"/>\n     <path d=\"M 9.8125 72.90625 \nL 19.671875 72.90625 \nL 19.671875 0 \nL 9.8125 0 \nz\n\" id=\"DejaVuSans-73\"/>\n     <path d=\"M 30.609375 48.390625 \nQ 23.390625 48.390625 19.1875 42.75 \nQ 14.984375 37.109375 14.984375 27.296875 \nQ 14.984375 17.484375 19.15625 11.84375 \nQ 23.34375 6.203125 30.609375 6.203125 \nQ 37.796875 6.203125 41.984375 11.859375 \nQ 46.1875 17.53125 46.1875 27.296875 \nQ 46.1875 37.015625 41.984375 42.703125 \nQ 37.796875 48.390625 30.609375 48.390625 \nz\nM 30.609375 56 \nQ 42.328125 56 49.015625 48.375 \nQ 55.71875 40.765625 55.71875 27.296875 \nQ 55.71875 13.875 49.015625 6.21875 \nQ 42.328125 -1.421875 30.609375 -1.421875 \nQ 18.84375 -1.421875 12.171875 6.21875 \nQ 5.515625 13.875 5.515625 27.296875 \nQ 5.515625 40.765625 12.171875 48.375 \nQ 18.84375 56 30.609375 56 \nz\n\" id=\"DejaVuSans-111\"/>\n    </defs>\n    <g transform=\"translate(133.377188 16.318125)scale(0.12 -0.12)\">\n     <use xlink:href=\"#DejaVuSans-70\"/>\n     <use x=\"52.019531\" xlink:href=\"#DejaVuSans-101\"/>\n     <use x=\"113.542969\" xlink:href=\"#DejaVuSans-97\"/>\n     <use x=\"174.822266\" xlink:href=\"#DejaVuSans-116\"/>\n     <use x=\"214.03125\" xlink:href=\"#DejaVuSans-117\"/>\n     <use x=\"277.410156\" xlink:href=\"#DejaVuSans-114\"/>\n     <use x=\"316.273438\" xlink:href=\"#DejaVuSans-101\"/>\n     <use x=\"377.796875\" xlink:href=\"#DejaVuSans-32\"/>\n     <use x=\"409.583984\" xlink:href=\"#DejaVuSans-73\"/>\n     <use x=\"439.076172\" xlink:href=\"#DejaVuSans-109\"/>\n     <use x=\"536.488281\" xlink:href=\"#DejaVuSans-112\"/>\n     <use x=\"599.964844\" xlink:href=\"#DejaVuSans-111\"/>\n     <use x=\"661.146484\" xlink:href=\"#DejaVuSans-114\"/>\n     <use x=\"702.259766\" xlink:href=\"#DejaVuSans-116\"/>\n     <use x=\"741.46875\" xlink:href=\"#DejaVuSans-97\"/>\n     <use x=\"802.748047\" xlink:href=\"#DejaVuSans-109\"/>\n     <use x=\"900.160156\" xlink:href=\"#DejaVuSans-99\"/>\n     <use x=\"955.140625\" xlink:href=\"#DejaVuSans-101\"/>\n     <use x=\"1016.664062\" xlink:href=\"#DejaVuSans-115\"/>\n    </g>\n   </g>\n  </g>\n </g>\n <defs>\n  <clipPath id=\"p60d759475d\">\n   <rect height=\"217.44\" width=\"334.8\" x=\"30.103125\" y=\"22.318125\"/>\n  </clipPath>\n </defs>\n</svg>\n",
      "image/png": "[encoded data removed]"
     },
     "metadata": {
      "needs_background": "light"
     }
    }
   ],
   "source": [
    "# 整个数据集上的特征重要性分布\n",
    "plt.bar(range(X.shape[1]), importances)\n",
    "plt.title('Feature Importamces')\n",
    "plt.xticks(range(X.shape[1]), iris.feature_names, rotation=90)"
   ]
  },
  {
   "cell_type": "markdown",
   "metadata": {},
   "source": [
    "**使用随机森林的特征选择**"
   ]
  },
  {
   "cell_type": "code",
   "execution_count": 122,
   "metadata": {},
   "outputs": [],
   "source": [
    "X_train, X_test, y_train, y_test = train_test_split(X, y, test_size=0.4, random_state=0)"
   ]
  },
  {
   "cell_type": "code",
   "execution_count": 123,
   "metadata": {},
   "outputs": [
    {
     "output_type": "execute_result",
     "data": {
      "text/plain": "RandomForestClassifier(n_estimators=10000, n_jobs=-1, random_state=0)"
     },
     "metadata": {},
     "execution_count": 123
    }
   ],
   "source": [
    "clf = RandomForestClassifier(n_estimators=10000, random_state=0, n_jobs=-1)\n",
    "clf.fit(X_train, y_train)"
   ]
  },
  {
   "cell_type": "code",
   "execution_count": 124,
   "metadata": {},
   "outputs": [
    {
     "output_type": "execute_result",
     "data": {
      "text/plain": "0.9333333333333333"
     },
     "metadata": {},
     "execution_count": 124
    }
   ],
   "source": [
    "# 使用4个特征进行分类的 准确率\n",
    "y_pred = clf.predict(X_test)\n",
    "metrics.accuracy_score(y_test, y_pred)"
   ]
  },
  {
   "cell_type": "code",
   "execution_count": 125,
   "metadata": {},
   "outputs": [
    {
     "output_type": "execute_result",
     "data": {
      "text/plain": "0.9333333333333333"
     },
     "metadata": {},
     "execution_count": 125
    }
   ],
   "source": [
    "clf.score(X_test, y_test)"
   ]
  },
  {
   "cell_type": "code",
   "execution_count": 126,
   "metadata": {},
   "outputs": [
    {
     "output_type": "stream",
     "text": "\u001b[0;31mInit signature:\u001b[0m\n\u001b[0mSelectFromModel\u001b[0m\u001b[0;34m(\u001b[0m\u001b[0;34m\u001b[0m\n\u001b[0;34m\u001b[0m    \u001b[0mestimator\u001b[0m\u001b[0;34m,\u001b[0m\u001b[0;34m\u001b[0m\n\u001b[0;34m\u001b[0m    \u001b[0;34m*\u001b[0m\u001b[0;34m,\u001b[0m\u001b[0;34m\u001b[0m\n\u001b[0;34m\u001b[0m    \u001b[0mthreshold\u001b[0m\u001b[0;34m=\u001b[0m\u001b[0;32mNone\u001b[0m\u001b[0;34m,\u001b[0m\u001b[0;34m\u001b[0m\n\u001b[0;34m\u001b[0m    \u001b[0mprefit\u001b[0m\u001b[0;34m=\u001b[0m\u001b[0;32mFalse\u001b[0m\u001b[0;34m,\u001b[0m\u001b[0;34m\u001b[0m\n\u001b[0;34m\u001b[0m    \u001b[0mnorm_order\u001b[0m\u001b[0;34m=\u001b[0m\u001b[0;36m1\u001b[0m\u001b[0;34m,\u001b[0m\u001b[0;34m\u001b[0m\n\u001b[0;34m\u001b[0m    \u001b[0mmax_features\u001b[0m\u001b[0;34m=\u001b[0m\u001b[0;32mNone\u001b[0m\u001b[0;34m,\u001b[0m\u001b[0;34m\u001b[0m\n\u001b[0;34m\u001b[0m\u001b[0;34m)\u001b[0m\u001b[0;34m\u001b[0m\u001b[0;34m\u001b[0m\u001b[0m\n\u001b[0;31mDocstring:\u001b[0m     \nMeta-transformer for selecting features based on importance weights.\n\n.. versionadded:: 0.17\n\nParameters\n----------\nestimator : object\n    The base estimator from which the transformer is built.\n    This can be both a fitted (if ``prefit`` is set to True)\n    or a non-fitted estimator. The estimator must have either a\n    ``feature_importances_`` or ``coef_`` attribute after fitting.\n\nthreshold : string, float, optional default None\n    The threshold value to use for feature selection. Features whose\n    importance is greater or equal are kept while the others are\n    discarded. If \"median\" (resp. \"mean\"), then the ``threshold`` value is\n    the median (resp. the mean) of the feature importances. A scaling\n    factor (e.g., \"1.25*mean\") may also be used. If None and if the\n    estimator has a parameter penalty set to l1, either explicitly\n    or implicitly (e.g, Lasso), the threshold used is 1e-5.\n    Otherwise, \"mean\" is used by default.\n\nprefit : bool, default False\n    Whether a prefit model is expected to be passed into the constructor\n    directly or not. If True, ``transform`` must be called directly\n    and SelectFromModel cannot be used with ``cross_val_score``,\n    ``GridSearchCV`` and similar utilities that clone the estimator.\n    Otherwise train the model using ``fit`` and then ``transform`` to do\n    feature selection.\n\nnorm_order : non-zero int, inf, -inf, default 1\n    Order of the norm used to filter the vectors of coefficients below\n    ``threshold`` in the case where the ``coef_`` attribute of the\n    estimator is of dimension 2.\n\nmax_features : int or None, optional\n    The maximum number of features to select.\n    To only select based on ``max_features``, set ``threshold=-np.inf``.\n\n    .. versionadded:: 0.20\n\nAttributes\n----------\nestimator_ : an estimator\n    The base estimator from which the transformer is built.\n    This is stored only when a non-fitted estimator is passed to the\n    ``SelectFromModel``, i.e when prefit is False.\n\nthreshold_ : float\n    The threshold value used for feature selection.\n\nNotes\n-----\nAllows NaN/Inf in the input if the underlying estimator does as well.\n\nExamples\n--------\n>>> from sklearn.feature_selection import SelectFromModel\n>>> from sklearn.linear_model import LogisticRegression\n>>> X = [[ 0.87, -1.34,  0.31 ],\n...      [-2.79, -0.02, -0.85 ],\n...      [-1.34, -0.48, -2.55 ],\n...      [ 1.92,  1.48,  0.65 ]]\n>>> y = [0, 1, 0, 1]\n>>> selector = SelectFromModel(estimator=LogisticRegression()).fit(X, y)\n>>> selector.estimator_.coef_\narray([[-0.3252302 ,  0.83462377,  0.49750423]])\n>>> selector.threshold_\n0.55245...\n>>> selector.get_support()\narray([False,  True, False])\n>>> selector.transform(X)\narray([[-1.34],\n       [-0.02],\n       [-0.48],\n       [ 1.48]])\n\u001b[0;31mFile:\u001b[0m           ~/.local/lib/python3.7/site-packages/sklearn/feature_selection/_from_model.py\n\u001b[0;31mType:\u001b[0m           ABCMeta\n\u001b[0;31mSubclasses:\u001b[0m     \n"
    }
   ],
   "source": [
    "SelectFromModel?"
   ]
  },
  {
   "cell_type": "code",
   "execution_count": 127,
   "metadata": {},
   "outputs": [
    {
     "output_type": "execute_result",
     "data": {
      "text/plain": "array([[4.5, 1.6],\n       [1.6, 0.2],\n       [5.1, 1.9],\n       ...,\n       [4.1, 1. ],\n       [6.7, 2.2],\n       [1.4, 0.2]])"
     },
     "metadata": {},
     "execution_count": 127
    }
   ],
   "source": [
    "# 创建一个选择器对象，\n",
    "# 该对象将使用随机森林分类器来标识重要性大于 0.15的特征\n",
    "sfm = SelectFromModel(clf, threshold=0.15)\n",
    "sfm.fit(X_train, y_train)\n",
    "X_important_train = sfm.transform(X_train)\n",
    "X_important_test = sfm.transform(X_test)\n",
    "X_important_train"
   ]
  },
  {
   "cell_type": "code",
   "execution_count": 128,
   "metadata": {},
   "outputs": [
    {
     "output_type": "execute_result",
     "data": {
      "text/plain": "array([2, 3])"
     },
     "metadata": {},
     "execution_count": 128
    }
   ],
   "source": [
    "sfm.get_support(indices=True)  # 所选择的特征编号"
   ]
  },
  {
   "cell_type": "code",
   "execution_count": 129,
   "metadata": {},
   "outputs": [
    {
     "output_type": "execute_result",
     "data": {
      "text/plain": "array([False, False,  True,  True])"
     },
     "metadata": {},
     "execution_count": 129
    }
   ],
   "source": [
    "sfm.get_support()"
   ]
  },
  {
   "cell_type": "code",
   "execution_count": 130,
   "metadata": {},
   "outputs": [
    {
     "output_type": "execute_result",
     "data": {
      "text/plain": "array(['petal length (cm)', 'petal width (cm)'], dtype='<U17')"
     },
     "metadata": {},
     "execution_count": 130
    }
   ],
   "source": [
    "important_names = np.array(iris.feature_names)[sfm.get_support()]\n",
    "important_names  # 最重要的2个特征"
   ]
  },
  {
   "cell_type": "code",
   "execution_count": 131,
   "metadata": {},
   "outputs": [
    {
     "output_type": "execute_result",
     "data": {
      "text/plain": "0.9"
     },
     "metadata": {},
     "execution_count": 131
    }
   ],
   "source": [
    "# 使用最重要的特征 训练随机森林\n",
    "clf_important = RandomForestClassifier(n_estimators=10000, random_state=0, n_jobs=-1)\n",
    "clf_important.fit(X_important_train, y_train)\n",
    "# 使用2个特征 的模型准确率\n",
    "y_pred = clf_important.predict(X_important_test)\n",
    "metrics.accuracy_score(y_test, y_pred)"
   ]
  },
  {
   "cell_type": "markdown",
   "metadata": {},
   "source": [
    "**在随机森林中处理不平衡类别**"
   ]
  },
  {
   "cell_type": "code",
   "execution_count": 132,
   "metadata": {},
   "outputs": [],
   "source": [
    "# 通过移除前 40 个观测，生成高度不平衡的类别\n",
    "X = X[30:, ]\n",
    "y = y[30:]\n",
    "X_train, X_test, y_train, y_test = train_test_split(X, y, test_size=0.4, random_state=0)"
   ]
  },
  {
   "cell_type": "markdown",
   "metadata": {},
   "source": [
    "其中类自动加权，与它们在数据中出现的频率成反比  \n",
    "$$w_j = \\frac {n}{kn_j}$$\n",
    "$w_j$是$j$类的权重, $n$是总观测数, $n_j$是类$j$的观测数, $k$为类的总数"
   ]
  },
  {
   "cell_type": "code",
   "execution_count": 133,
   "metadata": {},
   "outputs": [
    {
     "output_type": "execute_result",
     "data": {
      "text/plain": "RandomForestClassifier(class_weight='balanced', n_jobs=-1, random_state=0)"
     },
     "metadata": {},
     "execution_count": 133
    }
   ],
   "source": [
    "clf = RandomForestClassifier(random_state=0, n_jobs=-1, class_weight='balanced')\n",
    "clf.fit(X_train, y_train)"
   ]
  },
  {
   "cell_type": "code",
   "execution_count": 134,
   "metadata": {},
   "outputs": [
    {
     "output_type": "execute_result",
     "data": {
      "text/plain": "0.9375"
     },
     "metadata": {},
     "execution_count": 134
    }
   ],
   "source": [
    "y_pred = clf.predict(X_test)\n",
    "metrics.accuracy_score(y_test, y_pred)"
   ]
  },
  {
   "cell_type": "code",
   "execution_count": null,
   "metadata": {},
   "outputs": [],
   "source": []
  }
 ],
 "metadata": {
  "kernelspec": {
   "display_name": "Python 3",
   "language": "python",
   "name": "python3"
  },
  "language_info": {
   "codemirror_mode": {
    "name": "ipython",
    "version": 3
   },
   "file_extension": ".py",
   "mimetype": "text/x-python",
   "name": "python",
   "nbconvert_exporter": "python",
   "pygments_lexer": "ipython3",
   "version": "3.7.2rc1"
  }
 },
 "nbformat": 4,
 "nbformat_minor": 2
}