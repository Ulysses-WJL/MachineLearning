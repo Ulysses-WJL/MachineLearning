{
 "cells": [
  {
   "cell_type": "code",
   "execution_count": 2,
   "metadata": {},
   "outputs": [],
   "source": [
    "import numpy as np\n",
    "import matplotlib.pyplot as plt\n",
    "np.random.seed(12345)\n",
    "plt.rc('figure', figsize=(10, 10))\n",
    "np.set_printoptions(precision=4, threshold=15,suppress=True)"
   ]
  },
  {
   "cell_type": "markdown",
   "metadata": {},
   "source": [
    "# 支持向量机 Support Vector Machine, SVM\n",
    "\n",
    "支持向量机是指的一种机器学习的算法.  \n",
    "\n",
    "SVM - Support Vector Machine ，俗称支持向量机，是一种 supervised learning （监督学习）算法，属于 classification （分类）的范畴.其中Machine指的是Classification Machine, 指分类器."
   ]
  },
  {
   "cell_type": "markdown",
   "metadata": {},
   "source": [
    "## 1. 间隔与支持向量\n",
    "给定训练样本集\n",
    "$$D = \\{(x_1, y_1), (x_1, y_1), \\cdots, (x_m, y_m)\\}, y_i \\in \\{-1, +1\\}\\$$\n",
    "分类学习最基本的想法就是基于训练样本集D在样本空间找到一个划分**超平面**, 将不同的类别分开.  \n",
    "<img src='../img/划分超平面.png'></img>\n",
    ">`超平面 hyperplane`: 如果数据都在一条轴上,那么**分隔超平面 separating hyperplane**就是轴上的一个点.如果数据点在二维平面上,此时的分隔超平面就是一条直线.如果所给的数据集是三维的，那么此时用来分隔数据的就是一个平面.更高维度的情况可以依次类推, N维空间的数据集需要一个N-1维的对象进行划分,该对象就被称为**超平面**.\n",
    "\n",
    "\n",
    "能将训练样本划分开的超平面可能有很多,如何进行选取呢?直观上会选取两类训练样本\"**正中间**\"的划分超平面, 因为该划分超平面对训练样本局部扰动的\"容忍\"性最好.  \n",
    "\n",
    "样本空间中, 划分超平面可以用线性方程进行描述:\n",
    "\n",
    "$$ w^Tx+b = 0 \\tag {1}$$\n",
    "其中$w = \\{w_1;w_2;\\cdots;w_d\\}$为**法向量**, 决定了超平面的方向, b为位移项,决定了超平面与原点之间的距离, 故而可以用(w, b)来描述这个超平面. 那么样本空间任意点x到超平面(w, b)的距离可写为:\n",
    "$$r = \\frac {|w^Tx+b|}{||w||} \\tag {2}$$\n",
    "比如点到直线的距离公式:\n",
    "$$d = \\frac {|Ax_0 + By_0 + C|}{\\sqrt {A^2+B^2}}$$\n",
    "> `范数 norm`:用来衡量向量的大小的函数.形式上, $L^p$范数定义如下:\n",
    "    $$||z||_p = \\left(\\sum_{i=1}^{n}|z_i|^p\\right)^{\\frac 1 p} \\tag {3}$$\n",
    "当p=2时.$L^2$范数(向量的2范数)成为**欧几里得范数(Euclidean norm)**,它表示从原点出发到向量z的欧几里得距离,经常忽略下标,直接写成||z||.平方$L^2$范数也经常被用来衡量向量大小, 可以通过简单的点积$z^T\\cdot z$求得.例如,向量z=\\[3, 4\\], 其长度为$\\sqrt {3^2+4^2}\n",
    "= 5$  \n",
    "$L^1$范数也叫**曼哈顿距离(Manhattan distance)** 向量z的L1范数为3+4=7\n",
    "\n",
    "假设超平面(w, b)能将训练样本正确分类, 即对$(x_i, y_i) \\in D$, 若$y_i= +1$,则有$w^Tx_i+b > 0$; 若$y_i= -1$,则有$w^Tx_i+b< 0$.令\n",
    "$$ \\begin{cases} w^Tx_i+b \\geq +1, & y_i = +1; \\\\ w^Tx_i+b \\leq -1, & y_i = -1. \\end{cases} \\tag {4}$$\n",
    "距离超平面最近的这几个训练样本点(虚线上的这几个点)使式(4)**等号**成立,它们被称为\"**支持向量**\"(support vector), 2个异类支持向量到超平面的**距离之和**为\n",
    "$$\\gamma = \\frac {2}{||w||} \\tag{5}$$\n",
    "它被称为**间隔**(margin).\n",
    "<img src=\"../img/支持向量与间隔.png\"></img>\n",
    "要找到具有\"**最大间隔**\"(maximum margin)的划分超平面,就是找到满足式(4)中约束的参数w和b, 使得$\\gamma$最大:\n",
    "$$\\begin{align} & \\mathop{max}_{w,b}\\gamma= \\frac {2}{||w||} \\\\ & s.t. y_i(w^Tx_i+b) \\geq 1,\\quad i = 1,2,\\dots, m.\\end{align} \\tag {6}$$\n",
    "其中**s.t.** 表示subject to 服从于，约束于的意思.显然只要最大化$||w||^-1$,可以将(6)改写为:\n",
    "$$\\begin{align} & \\mathop{min}_{w,b}\\gamma= \\frac {1}{2}||w||^2 \\\\ & s.t. y_i(w^Tx_i+b) \\geq 1,\\quad i = 1,2,\\dots, m.\\end{align} \\tag {7}$$\n",
    "即求使得w的平方L2范数最小的w和b, 这就是支持向量机(Support Vector Machine, SVM)的基本型"
   ]
  },
  {
   "cell_type": "markdown",
   "metadata": {},
   "source": [
    "## 2. 拉格朗日函数及其对偶性\n",
    "求解上述(7)式就可以得到最大间隔划分超平面所对应的模型:\n",
    "$$f(x) = w^Tx+b \\tag 8$$\n",
    "w和b是参数模型.(7)式本身是一个**凸二次规划(convex quadratic programing)** 问题, 能直接用现场的优化计算包求解,但有更高效的办法.\n",
    "\n",
    "### 2.1 拉格朗日乘子法\n",
    "参考 https://blog.csdn.net/ccnt_2012/article/details/81326626"
   ]
  },
  {
   "cell_type": "code",
   "execution_count": 3,
   "metadata": {},
   "outputs": [
    {
     "output_type": "execute_result",
     "data": {
      "text/plain": "[<matplotlib.lines.Line2D at 0x7f8793e83990>]"
     },
     "metadata": {},
     "execution_count": 3
    },
    {
     "output_type": "display_data",
     "data": {
      "text/plain": "<Figure size 720x720 with 1 Axes>",
      "image/svg+xml": "<?xml version=\"1.0\" encoding=\"utf-8\" standalone=\"no\"?>\n<!DOCTYPE svg PUBLIC \"-//W3C//DTD SVG 1.1//EN\"\n  \"http://www.w3.org/Graphics/SVG/1.1/DTD/svg11.dtd\">\n<!-- Created with matplotlib (https://matplotlib.org/) -->\n<svg height=\"288.513707pt\" version=\"1.1\" viewBox=\"0 0 572.4 288.513707\" width=\"572.4pt\" xmlns=\"http://www.w3.org/2000/svg\" xmlns:xlink=\"http://www.w3.org/1999/xlink\">\n <defs>\n  <style type=\"text/css\">\n*{stroke-linecap:butt;stroke-linejoin:round;}\n  </style>\n </defs>\n <g id=\"figure_1\">\n  <g id=\"patch_1\">\n   <path d=\"M 0 288.513707 \nL 572.4 288.513707 \nL 572.4 0 \nL 0 0 \nz\n\" style=\"fill:none;\"/>\n  </g>\n  <g id=\"axes_1\">\n   <g id=\"patch_2\">\n    <path d=\"M 7.2 264.635582 \nL 565.2 264.635582 \nL 565.2 10.999219 \nL 7.2 10.999219 \nz\n\" style=\"fill:#ffffff;\"/>\n   </g>\n   <g id=\"matplotlib.axis_1\">\n    <g id=\"xtick_1\">\n     <g id=\"line2d_1\">\n      <defs>\n       <path d=\"M 0 0 \nL 0 3.5 \n\" id=\"md9220bdabb\" style=\"stroke:#000000;stroke-width:0.8;\"/>\n      </defs>\n      <g>\n       <use style=\"stroke:#000000;stroke-width:0.8;\" x=\"32.563636\" xlink:href=\"#md9220bdabb\" y=\"264.635582\"/>\n      </g>\n     </g>\n     <g id=\"text_1\">\n      <!-- −3 -->\n      <defs>\n       <path d=\"M 10.59375 35.5 \nL 73.1875 35.5 \nL 73.1875 27.203125 \nL 10.59375 27.203125 \nz\n\" id=\"DejaVuSans-8722\"/>\n       <path d=\"M 40.578125 39.3125 \nQ 47.65625 37.796875 51.625 33 \nQ 55.609375 28.21875 55.609375 21.1875 \nQ 55.609375 10.40625 48.1875 4.484375 \nQ 40.765625 -1.421875 27.09375 -1.421875 \nQ 22.515625 -1.421875 17.65625 -0.515625 \nQ 12.796875 0.390625 7.625 2.203125 \nL 7.625 11.71875 \nQ 11.71875 9.328125 16.59375 8.109375 \nQ 21.484375 6.890625 26.8125 6.890625 \nQ 36.078125 6.890625 40.9375 10.546875 \nQ 45.796875 14.203125 45.796875 21.1875 \nQ 45.796875 27.640625 41.28125 31.265625 \nQ 36.765625 34.90625 28.71875 34.90625 \nL 20.21875 34.90625 \nL 20.21875 43.015625 \nL 29.109375 43.015625 \nQ 36.375 43.015625 40.234375 45.921875 \nQ 44.09375 48.828125 44.09375 54.296875 \nQ 44.09375 59.90625 40.109375 62.90625 \nQ 36.140625 65.921875 28.71875 65.921875 \nQ 24.65625 65.921875 20.015625 65.03125 \nQ 15.375 64.15625 9.8125 62.3125 \nL 9.8125 71.09375 \nQ 15.4375 72.65625 20.34375 73.4375 \nQ 25.25 74.21875 29.59375 74.21875 \nQ 40.828125 74.21875 47.359375 69.109375 \nQ 53.90625 64.015625 53.90625 55.328125 \nQ 53.90625 49.265625 50.4375 45.09375 \nQ 46.96875 40.921875 40.578125 39.3125 \nz\n\" id=\"DejaVuSans-51\"/>\n      </defs>\n      <g transform=\"translate(25.192543 279.23402)scale(0.1 -0.1)\">\n       <use xlink:href=\"#DejaVuSans-8722\"/>\n       <use x=\"83.789062\" xlink:href=\"#DejaVuSans-51\"/>\n      </g>\n     </g>\n    </g>\n    <g id=\"xtick_2\">\n     <g id=\"line2d_2\">\n      <g>\n       <use style=\"stroke:#000000;stroke-width:0.8;\" x=\"117.109091\" xlink:href=\"#md9220bdabb\" y=\"264.635582\"/>\n      </g>\n     </g>\n     <g id=\"text_2\">\n      <!-- −2 -->\n      <defs>\n       <path d=\"M 19.1875 8.296875 \nL 53.609375 8.296875 \nL 53.609375 0 \nL 7.328125 0 \nL 7.328125 8.296875 \nQ 12.9375 14.109375 22.625 23.890625 \nQ 32.328125 33.6875 34.8125 36.53125 \nQ 39.546875 41.84375 41.421875 45.53125 \nQ 43.3125 49.21875 43.3125 52.78125 \nQ 43.3125 58.59375 39.234375 62.25 \nQ 35.15625 65.921875 28.609375 65.921875 \nQ 23.96875 65.921875 18.8125 64.3125 \nQ 13.671875 62.703125 7.8125 59.421875 \nL 7.8125 69.390625 \nQ 13.765625 71.78125 18.9375 73 \nQ 24.125 74.21875 28.421875 74.21875 \nQ 39.75 74.21875 46.484375 68.546875 \nQ 53.21875 62.890625 53.21875 53.421875 \nQ 53.21875 48.921875 51.53125 44.890625 \nQ 49.859375 40.875 45.40625 35.40625 \nQ 44.1875 33.984375 37.640625 27.21875 \nQ 31.109375 20.453125 19.1875 8.296875 \nz\n\" id=\"DejaVuSans-50\"/>\n      </defs>\n      <g transform=\"translate(109.737997 279.23402)scale(0.1 -0.1)\">\n       <use xlink:href=\"#DejaVuSans-8722\"/>\n       <use x=\"83.789062\" xlink:href=\"#DejaVuSans-50\"/>\n      </g>\n     </g>\n    </g>\n    <g id=\"xtick_3\">\n     <g id=\"line2d_3\">\n      <g>\n       <use style=\"stroke:#000000;stroke-width:0.8;\" x=\"201.654545\" xlink:href=\"#md9220bdabb\" y=\"264.635582\"/>\n      </g>\n     </g>\n     <g id=\"text_3\">\n      <!-- −1 -->\n      <defs>\n       <path d=\"M 12.40625 8.296875 \nL 28.515625 8.296875 \nL 28.515625 63.921875 \nL 10.984375 60.40625 \nL 10.984375 69.390625 \nL 28.421875 72.90625 \nL 38.28125 72.90625 \nL 38.28125 8.296875 \nL 54.390625 8.296875 \nL 54.390625 0 \nL 12.40625 0 \nz\n\" id=\"DejaVuSans-49\"/>\n      </defs>\n      <g transform=\"translate(194.283452 279.23402)scale(0.1 -0.1)\">\n       <use xlink:href=\"#DejaVuSans-8722\"/>\n       <use x=\"83.789062\" xlink:href=\"#DejaVuSans-49\"/>\n      </g>\n     </g>\n    </g>\n    <g id=\"xtick_4\">\n     <g id=\"line2d_4\">\n      <g>\n       <use style=\"stroke:#000000;stroke-width:0.8;\" x=\"286.2\" xlink:href=\"#md9220bdabb\" y=\"264.635582\"/>\n      </g>\n     </g>\n     <g id=\"text_4\">\n      <!-- 0 -->\n      <defs>\n       <path d=\"M 31.78125 66.40625 \nQ 24.171875 66.40625 20.328125 58.90625 \nQ 16.5 51.421875 16.5 36.375 \nQ 16.5 21.390625 20.328125 13.890625 \nQ 24.171875 6.390625 31.78125 6.390625 \nQ 39.453125 6.390625 43.28125 13.890625 \nQ 47.125 21.390625 47.125 36.375 \nQ 47.125 51.421875 43.28125 58.90625 \nQ 39.453125 66.40625 31.78125 66.40625 \nz\nM 31.78125 74.21875 \nQ 44.046875 74.21875 50.515625 64.515625 \nQ 56.984375 54.828125 56.984375 36.375 \nQ 56.984375 17.96875 50.515625 8.265625 \nQ 44.046875 -1.421875 31.78125 -1.421875 \nQ 19.53125 -1.421875 13.0625 8.265625 \nQ 6.59375 17.96875 6.59375 36.375 \nQ 6.59375 54.828125 13.0625 64.515625 \nQ 19.53125 74.21875 31.78125 74.21875 \nz\n\" id=\"DejaVuSans-48\"/>\n      </defs>\n      <g transform=\"translate(283.01875 279.23402)scale(0.1 -0.1)\">\n       <use xlink:href=\"#DejaVuSans-48\"/>\n      </g>\n     </g>\n    </g>\n    <g id=\"xtick_5\">\n     <g id=\"line2d_5\">\n      <g>\n       <use style=\"stroke:#000000;stroke-width:0.8;\" x=\"370.745455\" xlink:href=\"#md9220bdabb\" y=\"264.635582\"/>\n      </g>\n     </g>\n     <g id=\"text_5\">\n      <!-- 1 -->\n      <g transform=\"translate(367.564205 279.23402)scale(0.1 -0.1)\">\n       <use xlink:href=\"#DejaVuSans-49\"/>\n      </g>\n     </g>\n    </g>\n    <g id=\"xtick_6\">\n     <g id=\"line2d_6\">\n      <g>\n       <use style=\"stroke:#000000;stroke-width:0.8;\" x=\"455.290909\" xlink:href=\"#md9220bdabb\" y=\"264.635582\"/>\n      </g>\n     </g>\n     <g id=\"text_6\">\n      <!-- 2 -->\n      <g transform=\"translate(452.109659 279.23402)scale(0.1 -0.1)\">\n       <use xlink:href=\"#DejaVuSans-50\"/>\n      </g>\n     </g>\n    </g>\n    <g id=\"xtick_7\">\n     <g id=\"line2d_7\">\n      <g>\n       <use style=\"stroke:#000000;stroke-width:0.8;\" x=\"539.836364\" xlink:href=\"#md9220bdabb\" y=\"264.635582\"/>\n      </g>\n     </g>\n     <g id=\"text_7\">\n      <!-- 3 -->\n      <g transform=\"translate(536.655114 279.23402)scale(0.1 -0.1)\">\n       <use xlink:href=\"#DejaVuSans-51\"/>\n      </g>\n     </g>\n    </g>\n   </g>\n   <g id=\"matplotlib.axis_2\">\n    <g id=\"ytick_1\">\n     <g id=\"line2d_8\">\n      <defs>\n       <path d=\"M 0 0 \nL -3.5 0 \n\" id=\"m82fce3d47c\" style=\"stroke:#000000;stroke-width:0.8;\"/>\n      </defs>\n      <g>\n       <use style=\"stroke:#000000;stroke-width:0.8;\" x=\"286.2\" xlink:href=\"#m82fce3d47c\" y=\"264.635582\"/>\n      </g>\n     </g>\n     <g id=\"text_8\">\n      <!-- 0.0 -->\n      <defs>\n       <path d=\"M 10.6875 12.40625 \nL 21 12.40625 \nL 21 0 \nL 10.6875 0 \nz\n\" id=\"DejaVuSans-46\"/>\n      </defs>\n      <g transform=\"translate(263.296875 268.434801)scale(0.1 -0.1)\">\n       <use xlink:href=\"#DejaVuSans-48\"/>\n       <use x=\"63.623047\" xlink:href=\"#DejaVuSans-46\"/>\n       <use x=\"95.410156\" xlink:href=\"#DejaVuSans-48\"/>\n      </g>\n     </g>\n    </g>\n    <g id=\"ytick_2\">\n     <g id=\"line2d_9\">\n      <g>\n       <use style=\"stroke:#000000;stroke-width:0.8;\" x=\"286.2\" xlink:href=\"#m82fce3d47c\" y=\"222.362855\"/>\n      </g>\n     </g>\n     <g id=\"text_9\">\n      <!-- 0.5 -->\n      <defs>\n       <path d=\"M 10.796875 72.90625 \nL 49.515625 72.90625 \nL 49.515625 64.59375 \nL 19.828125 64.59375 \nL 19.828125 46.734375 \nQ 21.96875 47.46875 24.109375 47.828125 \nQ 26.265625 48.1875 28.421875 48.1875 \nQ 40.625 48.1875 47.75 41.5 \nQ 54.890625 34.8125 54.890625 23.390625 \nQ 54.890625 11.625 47.5625 5.09375 \nQ 40.234375 -1.421875 26.90625 -1.421875 \nQ 22.3125 -1.421875 17.546875 -0.640625 \nQ 12.796875 0.140625 7.71875 1.703125 \nL 7.71875 11.625 \nQ 12.109375 9.234375 16.796875 8.0625 \nQ 21.484375 6.890625 26.703125 6.890625 \nQ 35.15625 6.890625 40.078125 11.328125 \nQ 45.015625 15.765625 45.015625 23.390625 \nQ 45.015625 31 40.078125 35.4375 \nQ 35.15625 39.890625 26.703125 39.890625 \nQ 22.75 39.890625 18.8125 39.015625 \nQ 14.890625 38.140625 10.796875 36.28125 \nz\n\" id=\"DejaVuSans-53\"/>\n      </defs>\n      <g transform=\"translate(263.296875 226.162074)scale(0.1 -0.1)\">\n       <use xlink:href=\"#DejaVuSans-48\"/>\n       <use x=\"63.623047\" xlink:href=\"#DejaVuSans-46\"/>\n       <use x=\"95.410156\" xlink:href=\"#DejaVuSans-53\"/>\n      </g>\n     </g>\n    </g>\n    <g id=\"ytick_3\">\n     <g id=\"line2d_10\">\n      <g>\n       <use style=\"stroke:#000000;stroke-width:0.8;\" x=\"286.2\" xlink:href=\"#m82fce3d47c\" y=\"180.090128\"/>\n      </g>\n     </g>\n     <g id=\"text_10\">\n      <!-- 1.0 -->\n      <g transform=\"translate(263.296875 183.889347)scale(0.1 -0.1)\">\n       <use xlink:href=\"#DejaVuSans-49\"/>\n       <use x=\"63.623047\" xlink:href=\"#DejaVuSans-46\"/>\n       <use x=\"95.410156\" xlink:href=\"#DejaVuSans-48\"/>\n      </g>\n     </g>\n    </g>\n    <g id=\"ytick_4\">\n     <g id=\"line2d_11\">\n      <g>\n       <use style=\"stroke:#000000;stroke-width:0.8;\" x=\"286.2\" xlink:href=\"#m82fce3d47c\" y=\"137.817401\"/>\n      </g>\n     </g>\n     <g id=\"text_11\">\n      <!-- 1.5 -->\n      <g transform=\"translate(263.296875 141.616619)scale(0.1 -0.1)\">\n       <use xlink:href=\"#DejaVuSans-49\"/>\n       <use x=\"63.623047\" xlink:href=\"#DejaVuSans-46\"/>\n       <use x=\"95.410156\" xlink:href=\"#DejaVuSans-53\"/>\n      </g>\n     </g>\n    </g>\n    <g id=\"ytick_5\">\n     <g id=\"line2d_12\">\n      <g>\n       <use style=\"stroke:#000000;stroke-width:0.8;\" x=\"286.2\" xlink:href=\"#m82fce3d47c\" y=\"95.544673\"/>\n      </g>\n     </g>\n     <g id=\"text_12\">\n      <!-- 2.0 -->\n      <g transform=\"translate(263.296875 99.343892)scale(0.1 -0.1)\">\n       <use xlink:href=\"#DejaVuSans-50\"/>\n       <use x=\"63.623047\" xlink:href=\"#DejaVuSans-46\"/>\n       <use x=\"95.410156\" xlink:href=\"#DejaVuSans-48\"/>\n      </g>\n     </g>\n    </g>\n    <g id=\"ytick_6\">\n     <g id=\"line2d_13\">\n      <g>\n       <use style=\"stroke:#000000;stroke-width:0.8;\" x=\"286.2\" xlink:href=\"#m82fce3d47c\" y=\"53.271946\"/>\n      </g>\n     </g>\n     <g id=\"text_13\">\n      <!-- 2.5 -->\n      <g transform=\"translate(263.296875 57.071165)scale(0.1 -0.1)\">\n       <use xlink:href=\"#DejaVuSans-50\"/>\n       <use x=\"63.623047\" xlink:href=\"#DejaVuSans-46\"/>\n       <use x=\"95.410156\" xlink:href=\"#DejaVuSans-53\"/>\n      </g>\n     </g>\n    </g>\n    <g id=\"ytick_7\">\n     <g id=\"line2d_14\">\n      <g>\n       <use style=\"stroke:#000000;stroke-width:0.8;\" x=\"286.2\" xlink:href=\"#m82fce3d47c\" y=\"10.999219\"/>\n      </g>\n     </g>\n     <g id=\"text_14\">\n      <!-- 3.0 -->\n      <g transform=\"translate(263.296875 14.798437)scale(0.1 -0.1)\">\n       <use xlink:href=\"#DejaVuSans-51\"/>\n       <use x=\"63.623047\" xlink:href=\"#DejaVuSans-46\"/>\n       <use x=\"95.410156\" xlink:href=\"#DejaVuSans-48\"/>\n      </g>\n     </g>\n    </g>\n   </g>\n   <g id=\"line2d_15\">\n    <path clip-path=\"url(#p01676306ca)\" d=\"M 32.563636 255.241643 \nL 48.478075 253.941776 \nL 62.403209 252.569589 \nL 74.339037 251.171743 \nL 84.285561 249.812585 \nL 94.232086 248.236728 \nL 102.189305 246.787784 \nL 110.146524 245.137963 \nL 118.103743 243.248344 \nL 124.071658 241.644845 \nL 130.039572 239.854013 \nL 136.007487 237.845489 \nL 141.975401 235.582507 \nL 147.943316 233.020195 \nL 151.921925 231.118934 \nL 155.900535 229.040867 \nL 159.879144 226.76337 \nL 163.857754 224.260084 \nL 167.836364 221.500146 \nL 171.814973 218.447234 \nL 175.793583 215.058364 \nL 179.772193 211.282372 \nL 183.750802 207.057968 \nL 187.729412 202.311237 \nL 191.708021 196.952379 \nL 195.686631 190.871434 \nL 197.675936 187.518942 \nL 199.665241 183.932595 \nL 201.654545 180.090128 \nL 203.64385 175.966558 \nL 205.633155 171.533782 \nL 207.62246 166.760096 \nL 209.611765 161.609624 \nL 211.60107 156.041643 \nL 213.590374 150.009778 \nL 215.579679 143.461032 \nL 217.568984 136.334614 \nL 219.558289 128.56053 \nL 221.547594 120.057852 \nL 223.536898 110.732607 \nL 225.526203 100.475166 \nL 227.515508 89.15701 \nL 229.504813 76.626685 \nL 231.494118 62.704703 \nL 233.483422 47.177089 \nL 235.472727 29.787098 \nL 237.462032 10.224542 \nL 238.471816 -1 \nM 333.928184 -1 \nL 334.937968 10.224542 \nL 336.927273 29.787098 \nL 338.916578 47.177089 \nL 340.905882 62.704703 \nL 342.895187 76.626685 \nL 344.884492 89.15701 \nL 346.873797 100.475166 \nL 348.863102 110.732607 \nL 350.852406 120.057852 \nL 352.841711 128.56053 \nL 354.831016 136.334614 \nL 356.820321 143.461032 \nL 358.809626 150.009778 \nL 360.79893 156.041643 \nL 362.788235 161.609624 \nL 364.77754 166.760096 \nL 366.766845 171.533782 \nL 368.75615 175.966558 \nL 370.745455 180.090128 \nL 372.734759 183.932595 \nL 374.724064 187.518942 \nL 378.702674 194.009971 \nL 382.681283 199.714665 \nL 386.659893 204.755089 \nL 390.638503 209.230511 \nL 394.617112 213.222325 \nL 398.595722 216.797779 \nL 402.574332 220.012826 \nL 406.552941 222.914326 \nL 410.531551 225.541764 \nL 414.51016 227.928599 \nL 418.48877 230.103336 \nL 422.46738 232.09038 \nL 428.435294 234.764151 \nL 434.403209 237.121465 \nL 440.371123 239.210362 \nL 446.339037 241.070098 \nL 452.306952 242.733008 \nL 460.264171 244.689757 \nL 468.22139 246.395536 \nL 476.17861 247.891499 \nL 486.125134 249.516132 \nL 496.071658 250.915295 \nL 508.007487 252.352188 \nL 519.943316 253.574633 \nL 533.868449 254.783469 \nL 539.836364 255.241643 \nL 539.836364 255.241643 \n\" style=\"fill:none;stroke:#1f77b4;stroke-linecap:square;stroke-width:1.5;\"/>\n   </g>\n   <g id=\"line2d_16\">\n    <path clip-path=\"url(#p01676306ca)\" d=\"M 396.109091 264.635582 \nL 396.006306 259.88339 \nL 395.698145 255.140087 \nL 395.185184 250.414543 \nL 394.468381 245.715597 \nL 393.549079 241.052039 \nL 392.428996 236.43259 \nL 391.110226 231.865891 \nL 389.595238 227.360483 \nL 387.886864 222.924792 \nL 385.988299 218.567115 \nL 383.903095 214.295603 \nL 381.635151 210.118244 \nL 379.18871 206.042852 \nL 376.568347 202.077049 \nL 373.778964 198.228253 \nL 370.825776 194.503662 \nL 367.714309 190.910243 \nL 364.450381 187.454716 \nL 361.040096 184.143544 \nL 357.489835 180.982921 \nL 353.806236 177.978759 \nL 349.99619 175.136675 \nL 346.066822 172.461986 \nL 342.025482 169.959694 \nL 337.879728 167.634479 \nL 333.637315 165.490691 \nL 329.306178 163.53234 \nL 324.894416 161.763087 \nL 320.410283 160.186242 \nL 315.862164 158.804754 \nL 311.258566 157.621207 \nL 306.6081 156.637815 \nL 301.919464 155.856417 \nL 297.201426 155.278475 \nL 292.462813 154.90507 \nL 287.712485 154.736899 \nL 282.959328 154.774277 \nL 278.212233 155.017136 \nL 273.480078 155.465019 \nL 268.771713 156.117091 \nL 264.095946 156.97213 \nL 259.46152 158.028538 \nL 254.877106 159.284339 \nL 250.351276 160.737184 \nL 245.892496 162.384356 \nL 241.509105 164.222773 \nL 237.209303 166.248999 \nL 233.00113 168.459242 \nL 228.892457 170.849369 \nL 224.890971 173.414909 \nL 221.004154 176.151065 \nL 217.239276 179.052717 \nL 213.603379 182.114441 \nL 210.103263 185.330507 \nL 206.745476 188.694903 \nL 203.536296 192.201334 \nL 200.481727 195.843243 \nL 197.587481 199.613818 \nL 194.858973 203.506007 \nL 192.301304 207.51253 \nL 189.919259 211.625893 \nL 187.717293 215.838403 \nL 185.699525 220.142181 \nL 183.869728 224.529177 \nL 182.231325 228.991187 \nL 180.787381 233.519864 \nL 179.540595 238.106739 \nL 178.4933 242.743232 \nL 177.647455 247.420671 \nL 177.004641 252.130309 \nL 176.566062 256.863335 \nL 176.332536 261.610899 \nL 176.290909 264.635582 \nL 176.290909 264.635582 \n\" style=\"fill:none;stroke:#ff7f0e;stroke-linecap:square;stroke-width:1.5;\"/>\n   </g>\n   <g id=\"line2d_17\">\n    <path clip-path=\"url(#p01676306ca)\" d=\"M 413.018182 264.635582 \nL 412.899584 259.152284 \nL 412.544014 253.679241 \nL 411.952135 248.22669 \nL 411.125056 242.80483 \nL 410.064322 237.423801 \nL 408.771918 232.093668 \nL 407.250261 226.8244 \nL 405.502197 221.625852 \nL 403.530996 216.507747 \nL 401.340345 211.479659 \nL 398.93434 206.550991 \nL 396.317482 201.730961 \nL 393.494666 197.028586 \nL 390.47117 192.45266 \nL 387.25265 188.011741 \nL 383.845126 183.714136 \nL 380.254972 179.567883 \nL 376.488901 175.580736 \nL 372.553957 171.760154 \nL 368.457502 168.113281 \nL 364.207195 164.646939 \nL 359.810988 161.367612 \nL 355.277102 158.281432 \nL 350.614017 155.394173 \nL 345.830455 152.711233 \nL 340.935364 150.237631 \nL 335.937897 147.977995 \nL 330.847404 145.936549 \nL 325.673403 144.117112 \nL 320.425574 142.523088 \nL 315.11373 141.157457 \nL 309.747808 140.022774 \nL 304.337843 139.121161 \nL 298.893954 138.454305 \nL 293.426322 138.023452 \nL 287.945175 137.829409 \nL 282.460764 137.872538 \nL 276.983346 138.152759 \nL 271.523167 138.669548 \nL 266.090438 139.421938 \nL 260.695322 140.408522 \nL 255.347908 141.627454 \nL 250.058199 143.076455 \nL 244.836088 144.752815 \nL 239.691342 146.653398 \nL 234.633583 148.774649 \nL 229.672272 151.112601 \nL 224.816688 153.662882 \nL 220.075912 156.420721 \nL 215.458812 159.38096 \nL 210.974023 162.538062 \nL 206.629933 165.886123 \nL 202.434668 169.41888 \nL 198.396073 173.129727 \nL 194.521703 177.011721 \nL 190.818803 181.057604 \nL 187.2943 185.259806 \nL 183.954786 189.61047 \nL 180.806507 194.101457 \nL 177.855351 198.724368 \nL 175.106837 203.470556 \nL 172.566108 208.331144 \nL 170.237913 213.297042 \nL 168.126609 218.358961 \nL 166.236144 223.507434 \nL 164.570054 228.732831 \nL 163.131456 234.025378 \nL 161.923038 239.375178 \nL 160.947063 244.772223 \nL 160.205355 250.20642 \nL 159.699302 255.667605 \nL 159.42985 261.145563 \nL 159.381818 264.635582 \nL 159.381818 264.635582 \n\" style=\"fill:none;stroke:#2ca02c;stroke-linecap:square;stroke-width:1.5;\"/>\n   </g>\n   <g id=\"patch_3\">\n    <path d=\"M 286.2 264.635582 \nL 286.2 10.999219 \n\" style=\"fill:none;stroke:#000000;stroke-linecap:square;stroke-linejoin:miter;stroke-width:0.8;\"/>\n   </g>\n   <g id=\"patch_4\">\n    <path d=\"M 565.2 264.635582 \nL 565.2 10.999219 \n\" style=\"fill:none;\"/>\n   </g>\n   <g id=\"patch_5\">\n    <path d=\"M 7.2 264.635582 \nL 565.2 264.635582 \n\" style=\"fill:none;stroke:#000000;stroke-linecap:square;stroke-linejoin:miter;stroke-width:0.8;\"/>\n   </g>\n   <g id=\"patch_6\">\n    <path d=\"M 7.2 10.999219 \nL 565.2 10.999219 \n\" style=\"fill:none;\"/>\n   </g>\n  </g>\n </g>\n <defs>\n  <clipPath id=\"p01676306ca\">\n   <rect height=\"253.636364\" width=\"558\" x=\"7.2\" y=\"10.999219\"/>\n  </clipPath>\n </defs>\n</svg>\n",
      "image/png": "[encoded data removed]"
     },
     "metadata": {
      "needs_background": "light"
     }
    }
   ],
   "source": [
    "fig = plt.figure()\n",
    "x = np.linspace(-3, 3, 256)\n",
    "y = 1 / x**2\n",
    "plt.ylim((0, 3))\n",
    "ax = plt.gca()\n",
    "ax.spines['right'].set_color('none')\n",
    "ax.spines['top'].set_color('none')\n",
    "ax.xaxis.set_ticks_position('bottom')\n",
    "ax.spines['bottom'].set_position(('data', 0))\n",
    "ax.yaxis.set_ticks_position('left')\n",
    "ax.spines['left'].set_position(('data', 0))\n",
    "ax.set_aspect(1)\n",
    "plt.plot(x, y)\n",
    "theta = np.linspace(0, np.pi,800)\n",
    "x,y = np.cos(theta)*1.3, np.sin(theta)*1.3\n",
    "plt.plot(x, y)\n",
    "x,y = np.cos(theta)*1.5, np.sin(theta)*1.5\n",
    "plt.plot(x, y)"
   ]
  },
  {
   "cell_type": "markdown",
   "metadata": {},
   "source": [
    "例如 上图的方程$f(x, y)=x^2y$, 想要得到其上的点与原点的最短距离, 一种方法是,以原点为圆形向外画圆,第一次与曲线相交的点就是距离原点最近的点.可以得到一个规划问题:$$\\begin{align} & \\mathop{min}_{x,y} f(x,y)= x^2 + y^2 \\\\ & s.t. g(x,y)=x^2y -3=0,\\end{align} $$\n",
    "分析得知:\n",
    "- 在极值点, 圆与曲线相切\n",
    "- 梯度与等高线的切线垂直\n",
    "\n",
    "综合可知，在相切点，圆的梯度向量和曲线的**梯度向量平行**, 可以表示为:\n",
    "$$\\nabla f = \\lambda \\nabla g \\tag 9$$\n",
    "故而上述问题的可表示为:$$\\begin{cases}\n",
    "\\begin{pmatrix} 2x \\\\2y \\end{pmatrix} = \\lambda \\begin{pmatrix} 2xy \\\\x^2 \\end{pmatrix}\\\\\n",
    "x^2y=3\\end{cases}$$\n",
    "这就是拉格朗日乘子法"
   ]
  },
  {
   "cell_type": "markdown",
   "metadata": {},
   "source": [
    "####  定义\n",
    "拉格朗日乘子法(Lagrange multipliers)是一种寻找多元函数在一组约束下的极值的方法.通过引入**拉格朗日乘子**(如上述的$\\lambda$),可将有d个变量与k个约束条件的最优化问题转为具有d+k个变量的无约束优化问题求解.假定x为d维向量,要寻找x的某个取值$x^*$,使目标函数f(x)最小且同时满足g(x) = 0的约束,从几何角度看,该问题的目标是在由方程\n",
    "g(x)=0确定的d-1维曲面上寻找能使目标函数f(x)最小化的点,得出以下结论:\n",
    "- 对于约束曲面上的任意点x, 该点的梯度$\\nabla g(x)$正交(内积为0)于约束曲面;\n",
    "- 对于最优点$x^*$, 目标函数在该点的梯度$\\nabla f(x^*)$正交于约束曲面.\n",
    "\n",
    "在最优点$x^*$, 梯度$\\nabla g(x^*)$与$\\nabla f(x^*)$的方向必定相同或相反, 即:\n",
    "$$\\nabla f(x^*) + \\lambda \\nabla g(x^*) = 0 \\tag {10}$$\n",
    "\n",
    "定义**拉格朗日函数**, $\\lambda$称为拉格朗日乘子:\n",
    "$$L(x,\\lambda)= f(x) + \\lambda g(x) \\tag {11}$$\n",
    "#### 无约束优化问题\n",
    "考虑无约束优化问题：$$\\mathop{min}_xf(x)$$根据 Fermat 定理，直接找到使目标函数得 0 的点即可 即 $\\nabla_xf(x)=0$ ，如果没有解析解的话，可以使用梯度下降或牛顿方法等迭代的手段来使 x 沿负梯度方向逐步逼近极小值点\n",
    "#### 等式约束优化\n",
    "要求函数f 在g 约束下的极值这种问题可以表示为:\n",
    "$$\\begin{align} & \\mathop {min}_x f(x) \\\\ & s.t. g_i(x)=0, \\quad i=1,2,\\dots,m\\end{align} \\tag {12}$$\n",
    "可以列出方程组求解\n",
    "$$\\begin{cases} \\nabla_x L(x, \\lambda) = 0\\\\ \\nabla_{\\lambda} L(x, \\lambda) = 0 \\end{cases} \\tag {13}$$\n",
    "<img src='../img/等式约束和不等式约束.png'></img>\n",
    "#### 不等式约束\n",
    "当约束条件为$g(x)\\leq0$,此时最优点$x^*$或在g(x)<0的区域中,或在边间g(x)=0上.\n",
    "- 对于g(x)<0的情形,约束$g(x)  \\leq 0$不起作用,可以直接通过条件$\\nabla f(x) = 0$来获得最优点;这等价于将$\\lambda$置零后对$\\nabla_x L(x, \\lambda)$置零得到最优点, 即 $\\nabla_x L(x, 0) = \\nabla f(x) = 0$.\n",
    "- 对于g(x)=0的情形,类似等式约束的分析,此时$\\nabla f(x^*)$与$\\nabla g(x^*)$的方向必相反(相同的话最优点不可能在g(x)=0形成曲面内部), 即$\\lambda > 0$\n",
    "\n",
    "综合起来，必须满足$\\lambda g(x)=0$, 这时候转化为：\n",
    "$$\\begin{cases}g(x) \\leq 0; \\\\ \\lambda \\geq 0;\\\\ u_jg_j(x)=0\\end{cases} \\tag{14}$$\n",
    "(14)式被称为**KKT条件**(Karush-Kuhn-Tucker).  \n",
    "将其推广到具有m个等式约束和n个不等式约束的情形:\n",
    "$$\n",
    "\\begin{align} &\\mathop {min}_x f(x)\\\\\n",
    "&s.t. &h_i(x)=0, \\quad i=1,2,\\dots,m\\\\\n",
    "&& g_j(x) \\leq 0,\\quad j=1,2,\\dots,n\\end{align} \\tag {15}\n",
    "$$\n",
    "\n",
    "定义**广义拉格朗日函数**:\n",
    "$$L(x, \\lambda, \\mu) = f(x) + \\sum_{i=1}^{m}\\lambda_ih_i(x) + \\sum_{j=1}^{n}\\mu_jg_j(x) \\tag {16}$$\n",
    "它的KKT条件($j=1,2,\\dots,n$)为:\n",
    "$$\\begin{cases}g_j(x) \\leq 0; \\\\ u_j \\geq 0; \\\\ u_jg_j(x)=0.\\end{cases} \\tag {17}$$"
   ]
  },
  {
   "cell_type": "markdown",
   "metadata": {},
   "source": [
    "### 2.2 对偶问题\n",
    "一个优化问题可以从两个角度进行考虑,\"主问题\"(primal problem)和\"对偶问题\"(dual problem).对主问题(15),其拉格朗日\"**对偶函数**\"(dual function)$\\Gamma:\\mathbb{R}^{m} \\times \\mathbb{R}^{n}$定义为:\n",
    "$$\n",
    "\\begin{align}d^*=\\Gamma(\\lambda, \\mu) &= \\mathop{inf}_{x \\in \\mathbb{D}}L(x, \\lambda, \\mu) \\\\\n",
    "& = \\mathop{inf}_{x \\in \\mathbb{D}} \\left(f(x) + \\sum_{i=1}^{m}\\lambda_ih_i(x) + \\sum_{j=1}^{n}\\mu_jg_j(x) \\right).\n",
    "\\end{align} \\tag {18}\n",
    "$$\n",
    "> 将拉格朗日函数$L(x, \\lambda, \\mu)对x求导并令导数为0, 来获得对偶函数的表达形式$\n",
    "\n",
    "若令$\\hat{x} \\in \\mathbb{D}$为满足式(15)的**可行域**中的点, 则对任意的$\\mu \\geq$(任意分量都为非负)和$\\lambda$有\n",
    "$$\n",
    "\\sum_{i=1}^{m}\\lambda_ih_i(x) + \\sum_{j=1}^{n}\\mu_jg_j(x) \\leq 0 \\tag{19}\n",
    "$$\n",
    "进而有 \n",
    "$$\n",
    "d^*=\\Gamma(\\lambda, \\mu) = \\mathop{inf}_{x \\in \\mathbb{D}}L(x, \\lambda, \\mu) \\leq\n",
    "L(\\hat{x}, \\lambda, \\mu) \\leq f(\\hat{x}) \\tag {20}\n",
    "$$\n",
    "若主问题(15)取到的最优值为$p^*$,则对任意$\\mu \\geq 0$和$\\lambda$都有:\n",
    "$$\n",
    "d^*=\\Gamma(\\lambda, \\mu) \\leq p^* \\tag{21}\n",
    "$$\n",
    "对偶函数给出了主问题最优值的下界(不能比$\\Gamma(\\lambda, \\mu)$小),**基于对偶函数能获得的最好下界**这个问题,提出优化问题:\n",
    "$$\n",
    "d^*=\\mathop{max}_{\\lambda, \\mu}\\Gamma(\\lambda, \\mu)=\\mathop{max}_{\\lambda, \\mu}\\mathop{min}_xL(x, \\lambda, \\mu)\n",
    "\\quad s.t. u_j \\geq 0\\quad  j=\\{1,2,\\dots,n\\} \\tag{22}\n",
    "$$\n",
    "式(22)就是式(15)的**对偶问题**, $\\lambda$和$\\mu$称为\"对偶变量\"(dual variable).无论主问题(15)的凸性如何, 对偶问题(22)始终是**凸优化问题**.  \n",
    "\n",
    "$d^* \\leq p^*$这称为\"弱对偶\"(**weak duality**), 若$d^* = p^*$, 则称为\"强对偶\"(**strong duality**)\n",
    "它的kkt为:\n",
    "$$\\begin{cases}\\nabla_xL(x,\\lambda, \\mu)=0 \\\\g_j(x) \\leq 0; \\\\ u_j \\geq 0; \\\\ u_jg_j(x)=0.\\end{cases} \\tag {23}$$\n",
    "当满足KKT条件时，原始问题的最优化可以等价转化为对偶问题的最优化，而一般对偶问题要比原问题更好解决.  \n",
    "\n",
    "对于一般的优化问题, 强对偶性通常不成立. 但是, 当主问题为凸优化问题, 即(15)式的f(x)和$g_j(x)$均为凸函数, $h_i(x)$为仿射函数, 且其可行域中至少有一点使不等式约数严格成立, 则此时强对偶性成立.  \n",
    "强对偶性成立时, 拉格朗日函数分别对原变量(x)和对偶变量($\\lambda, \\mu$)求导, 再令导数等于零, 即可得到原变量与对偶变量的数值关系,由此解决对偶问题和主问题. \n",
    "> 仿射函数: 即由由1阶多项式构成的函数，一般形式为f(x) = Ax + b这里，A是一个m×k矩阵，x 是一个k向量，b是一个m向量，实际上反映了一种从k维到m维的空间映射关系\n",
    "\n",
    "> 函数的凸性 :称函数f(x)(a<x<b)为下凸(或上凸)函数.若对任意的$x_1,x_2 \\in (a, b)$:\n",
    "$$f(\\frac {x_1+x_2}{2}) \\leq (或 \\geq) \\frac {f(x_1) + f(x_2)}{2}$$二阶导数是正数  \n",
    "\n",
    ">凸集:  \n",
    "若可行域X是一个**凸集**：即对于任给的$x,y \\in X$总有实数$\\lambda \\in \\mathbb{R}$$$\\alpha x+(1−\\alpha)y \\in X,对于任意的\\alpha \\in(0,1) \\tag{24}$$效果上，如果任何两点$x,y \\in X$用直线相连，x,y之间线上的每个点都在X中，那么X是凸的。如果存在点不在X中，那么该集合是非凸的.\n",
    "\n",
    ">凸函数:\n",
    "若目标函数是一个凸函数：即$$f(\\alpha x+(1−\\alpha)y))\\leq\\alpha f(x)+(1−\\alpha)f(y) \\tag{25}$$\n",
    "如果$x \\ne y$,满足$$f(\\alpha x+(1−\\alpha)y)) < \\alpha f(x)+(1−\\alpha)f(y)$$ 那么称f(x)是**严格凸**的<br></br>\n",
    "我们称这样的优化问题为凸优化问题。更加直观的去刻画该定义, 如果一个函数是一个凸函数，那么该函数两点的连线必然在该函数图形的上方."
   ]
  },
  {
   "cell_type": "markdown",
   "metadata": {},
   "source": [
    "回到式(7)给出的问题,引入拉格朗日乘子$\\alpha$后的拉格朗日函数:\n",
    "$$L(w, b, \\alpha) = \\frac 1 2 ||w||^2 + \\sum_{i=1}^{m}\\alpha_i(1-y_i(w^Tx_i+b)) \\tag {26}$$\n",
    "它的KKT条件为:\n",
    "$$\\begin{cases}\\alpha_i \\geq 0 \\\\y_i(w^Tx_i+b) -1 \\geq 0 \\\\ \\alpha_i(y_i(w^Tx_i+b) -1)=0 \\end{cases} \\tag{27}$$\n",
    "令L对(w, b)求偏导并令其为零:\n",
    "$$\n",
    "\\nabla_{w,b} L(w, b, \\alpha) = \\begin{pmatrix} \\frac {\\partial L}{\\partial w} \\\\ \n",
    "\\frac {\\partial L}{\\partial b}\n",
    "\\end{pmatrix} = \\begin{pmatrix}w-\\alpha_i\\sum_{i=1}^{m} y_ix_i \\\\ \\sum_{i=1}^{m}\\alpha_iy_i\\end{pmatrix}= \\begin{pmatrix} 0 \\\\ 0\\end{pmatrix} \\tag {28}\n",
    "$$\n",
    "把式(28)带入式(26)中:\n",
    "$$\n",
    "\\begin{align}L(w, b, \\alpha) &=\n",
    "\\frac 1 2 \\sum_{i=1}^{m}\\sum_{j=1}^{m}\\alpha_i\\alpha_jy_iy_j(x_i\\cdot x_j) +\n",
    "\\sum_{i=1}^{m}\\alpha_i - \n",
    "\\sum_{i=1}^{m}\\alpha_iy_i\\left(\\left(\\sum_{j=1}^{m}\\alpha_jy_jx_j\\right) \\cdot x_i + b\\right) \\\\\n",
    "&= -\\frac {1} {2} \\sum_{i=1}^{m}\\sum_{j=1}^{m}\\alpha_i\\alpha_jy_iy_j(x_i\\cdot x_j) + \\sum_{i=1}^{m}\\alpha_i \n",
    "\\end{align} \\tag{29}\n",
    "$$\n",
    "这是后就获得对偶问题:\n",
    "$$\n",
    "\\begin{align} & \\mathop{max}_\\alpha \\mathop{min}_{w,b}L(w, b,\\alpha) = \n",
    "\\sum_{i=1}^{m}\\alpha_i - \\frac {1} {2} \\sum_{i=1}^{m}\\sum_{j=1}^{m}\\alpha_i\\alpha_jy_iy_j(x_i\\cdot x_j)\\\\\n",
    "& s.t.\\sum_{i=1}^{m}\\alpha_iy_i = 0 \\\\ &\\quad a_i \\geq 0,\\quad i=1,2,\\cdots, m\n",
    "\\end{align} \\tag{30}\n",
    "$$\n",
    "解出$\\alpha$后, 求出w和b即可得到模型:\n",
    "$$\\begin{align}f(x) &= w^Tx+b \\\\ &= \\sum_{i=1}^{m}\\alpha_iy_ix_i^Tx +b \\end{align} \\tag {31}$$\n",
    "同时式(27)可以改写为:\n",
    "$$\\begin{cases}\\alpha_i \\geq 0 \\\\y_if(x_i)-1 \\geq 0 \\\\ \\alpha_i(y_if(x_i) -1)=0 \\end{cases} \\tag{32}$$\n",
    "于是, 任意的样本训练集中的$(x_i, y_i)$,总有$\\alpha_i=0$或$y_if(x_i)-1=0$.\n",
    "- 若$\\alpha_i=0$, 则此样本$(x_i, y_i)$不会出现在式(31)的计算中;\n",
    "- 若$\\alpha_i > 0$, 则$y_if(x_i)=1$, 则样本$(x_i, y_i)$就处于在最大间隔边界上, 是一个支持向量.\n",
    "\n",
    "这显示出支持向量机的一个重要性质:训练完成后, 大部分的训练样本都不需要保留, 最终模型只与支持向量有关"
   ]
  },
  {
   "cell_type": "markdown",
   "metadata": {},
   "source": [
    "## SMO(Sequential Minimal Optimization)序列最小优化算法\n",
    "- 思想: 是将大优化问题分解为多个小优化问题来求解. 先固定$\\alpha_i$之外的所有参数,然后求$\\alpha_i$上的极值\n",
    "- 原理：每次循环选择一对个$\\alpha_i和\\alpha_j$进行优化处理，一旦找出一对合适的$\\alpha$，那么就增大一个同时减少一个。\n",
    "  * 这里指的合适必须要符合一定的条件:\n",
    "    + 这两个$\\alpha$必须要在间隔边界之外\n",
    "    + 这两个$\\alpha$还没有进行过区间化处理或者不在边界上。\n",
    "  * 之所以要同时改变2个$\\alpha$；原因是我们有一个约束条件： $\\sum_{i=1}^{m} a_iy_i=0$；如果只是修改一个$\\alpha$，很可能导致约束条件失效。"
   ]
  },
  {
   "cell_type": "code",
   "execution_count": null,
   "metadata": {},
   "outputs": [],
   "source": []
  }
 ],
 "metadata": {
  "kernelspec": {
   "display_name": "Python 3",
   "language": "python",
   "name": "python3"
  },
  "language_info": {
   "codemirror_mode": {
    "name": "ipython",
    "version": 3
   },
   "file_extension": ".py",
   "mimetype": "text/x-python",
   "name": "python",
   "nbconvert_exporter": "python",
   "pygments_lexer": "ipython3",
   "version": "3.8.0"
  }
 },
 "nbformat": 4,
 "nbformat_minor": 2
}