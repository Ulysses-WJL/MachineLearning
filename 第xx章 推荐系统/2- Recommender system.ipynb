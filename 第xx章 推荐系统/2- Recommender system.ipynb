{
 "cells": [
  {
   "cell_type": "markdown",
   "metadata": {},
   "source": [
    "# 2-推荐系统"
   ]
  },
  {
   "cell_type": "markdown",
   "metadata": {},
   "source": [
    "## 主流推荐算法\n",
    "\n",
    "![](./主流推荐算法.png)"
   ]
  },
  {
   "cell_type": "markdown",
   "metadata": {},
   "source": [
    "### 基于知识推荐\n",
    "\n",
    "基于知识的推荐（Knowledge-based Recommendation）在某种程度是可以看成是一种推理（Inference）技术，它不是建立在用户需要和偏好基础上推荐的。基于知识的方法因它们所用的功能知识不同而有明显区别。效用知识（Functional Knowledge）是一种关于一个项目如何满足某一特定用户的知识，因此能解释需要和推荐的关系，所以用户资料可以是任何能支持推理的知识结构，它可以是用户已经规范化的查询，也可以是一个更详细的用户需要的表示。\n",
    "\n",
    "<img src=\"./基于知识推荐.jpg\">\n"
   ]
  },
  {
   "cell_type": "markdown",
   "metadata": {},
   "source": [
    "### 基于内容推荐\n",
    "\n",
    "在一个基于内容的推荐系统算法中，我们假设对于我们希望推荐的东西有一些数据，这些数据是有关这些东西的特征。\n",
    "\n",
    "在我们的例子中，我们可以假设每部电影都有两个特征，如$x_1​$代表电影的浪漫程度，$x_2​$ 代表电影的动作程度。\n",
    "\n",
    "![](./基于内容推荐.png)\n",
    "\n",
    "则每部电影都有一个特征向量，如$x^{(1)}$是第一部电影的特征向量为\\[0.9 0\\]。\n",
    "\n",
    "下面我们要基于这些特征来构建一个推荐系统算法。\n",
    "假设我们采用线性回归模型，我们可以针对每一个用户都训练一个线性回归模型，如${{\\theta }^{(1)}}$是第一个用户的模型的参数。\n",
    "于是，我们有：\n",
    "\n",
    "$\\theta^{(j)}$用户 $j$ 的参数向量($\\theta^{(j)} \\in \\mathbb R^{n+1}$)\n",
    "\n",
    "$x^{(i)}$电影 $i$ 的特征向量($x^{(i)}_0, x^{(i)}_1, x^{(i)}_2, ... x^{(i)}_n$)\n",
    "\n",
    "对于用户 $j$ 和电影 $i$，我们预测评分为：$(\\theta^{(j)})^T x^{(i)}$\n",
    "\n",
    "代价函数\n",
    "\n",
    "针对用户 $j$，该线性回归模型的代价为预测误差的平方和，加上正则化项：\n",
    "$$\n",
    "\\min_{\\theta (j)}\\frac{1}{2}\\sum_{i:r(i,j)=1}\\left((\\theta^{(j)})^Tx^{(i)}-y^{(i,j)}\\right)^2+\\frac{\\lambda}{2}\\sum_{k=1}^n\\left(\\theta_{k}^{(j)}\\right)^2\n",
    "$$\n",
    "\n",
    "\n",
    "其中 $i:r(i,j)$表示我们只计算那些用户 $j$ 评过分的电影。在一般的线性回归模型中，误差项和正则项应该都是乘以$1/2m$，在这里我们将$m$去掉。并且我们不对方差项$\\theta_0$进行正则化处理。\n",
    "\n",
    "上面的代价函数只是针对一个用户的，为了学习所有用户，我们将所有用户的代价函数求和：\n",
    "$$\n",
    "\\min_{\\theta^{(1)},...,\\theta^{(n_u)}} \\frac{1}{2}\\sum_{j=1}^{n_u}\\sum_{i:r(i,j)=1}\\left((\\theta^{(j)})^Tx^{(i)}-y^{(i,j)}\\right)^2+\\frac{\\lambda}{2}\\sum_{j=1}^{n_u}\\sum_{k=1}^{n}(\\theta_k^{(j)})^2\n",
    "$$\n",
    "如果我们要用梯度下降法来求解最优解，我们计算代价函数的偏导数后得到梯度下降的更新公式为：\n",
    "\n",
    "$$\n",
    "\\theta_k^{(j)}:=\\theta_k^{(j)}-\\alpha\\sum_{i:r(i,j)=1}((\\theta^{(j)})^Tx^{(i)}-y^{(i,j)})x_{k}^{(i)} \\quad (\\text{for} \\, k = 0)\n",
    "$$\n",
    "\n",
    "$$\n",
    "\\theta_k^{(j)}:=\\theta_k^{(j)}-\\alpha\\left(\\sum_{i:r(i,j)=1}((\\theta^{(j)})^Tx^{(i)}-y^{(i,j)})x_{k}^{(i)}+\\lambda\\theta_k^{(j)}\\right) \\quad (\\text{for} \\, k\\neq 0)\n",
    "$$"
   ]
  },
  {
   "cell_type": "markdown",
   "metadata": {},
   "source": [
    "### 协调过滤\n",
    "\n",
    "在之前的基于内容的推荐系统中，对于每一部电影，我们都掌握了可用的特征，使用这些特征训练出了每一个用户的参数。相反地，如果我们拥有用户的参数，我们可以学习得出电影的特征。\n",
    "\n",
    "$$\n",
    "\\mathop{min}\\limits_{x^{(1)},...,x^{(n_m)}}\\frac{1}{2}\\sum_{i=1}^{n_m}\\sum_{j{r(i,j)=1}}((\\theta^{(j)})^Tx^{(i)}-y^{(i,j)})^2+\\frac{\\lambda}{2}\\sum_{i=1}^{n_m}\\sum_{k=1}^{n}(x_k^{(i)})^2\n",
    "$$\n",
    "但是如果我们既没有用户的参数，也没有电影的特征，这两种方法都不可行了。协同过滤算法可以同时学习这两者。\n",
    "\n",
    "我们的优化目标便改为同时针对$x$和$\\theta$进行。\n",
    "$$\n",
    "J(x^{(1)},...x^{(n_m)},\\theta^{(1)},...,\\theta^{(n_u)})=\\frac{1}{2}\\sum_{(i:j):r(i,j)=1}((\\theta^{(j)})^Tx^{(i)}-y^{(i,j)})^2+\\frac{\\lambda}{2}\\sum_{i=1}^{n_m}\\sum_{k=1}^{n}(x_k^{(j)})^2+\\frac{\\lambda}{2}\\sum_{j=1}^{n_u}\\sum_{k=1}^{n}(\\theta_k^{(j)})^2\n",
    "$$\n",
    "\n",
    "\n",
    "对代价函数求偏导数的结果如下：\n",
    "\n",
    "$$\n",
    "x_k^{(i)}:=x_k^{(i)}-\\alpha\\left(\\sum_{j:r(i,j)=1}((\\theta^{(j)})^Tx^{(i)}-y^{(i,j)})\\theta_k^{j}+\\lambda x_k^{(i)}\\right)\n",
    "$$\n",
    "\n",
    "$$\n",
    "\\theta_k^{(i)}:=\\theta_k^{(i)}-\\alpha\\left(\\sum_{i:r(i,j)=1}((\\theta^{(j)})^Tx^{(i)}-y^{(i,j)})x_k^{(i)}+\\lambda \\theta_k^{(j)}\\right)\n",
    "$$\n",
    "\n",
    "\n",
    "\n",
    "注：在协同过滤从算法中，我们通常不使用方差项，如果需要的话，算法会自动学得。\n",
    "协同过滤算法使用步骤如下：\n",
    "\n",
    "1. 初始 $x^{(1)},x^{(1)},...x^{(nm)},\\ \\theta^{(1)},\\theta^{(2)},...,\\theta^{(n_u)}$为一些随机小值(不需要$x_{0}和\\theta_{0}$)\n",
    "\n",
    "2. 使用梯度下降算法最小化代价函数\n",
    "\n",
    "3. 在训练完算法后，我们预测$(\\theta^{(j)})^Tx^{(i)}$为用户 $j$ 给电影 $i$ 的评分\n",
    "\n",
    "通过这个学习过程获得的特征矩阵包含了有关电影的重要数据，这些数据不总是人能读懂的，但是我们可以用这些数据作为给用户推荐电影的依据。\n",
    "\n",
    "例如，如果一位用户正在观看电影 $x^{(i)}$，我们可以寻找另一部电影$x^{(j)}$，依据两部电影的特征向量之间的距离$\\left\\| {{x}^{(i)}}-{{x}^{(j)}} \\right\\|$的大小。"
   ]
  },
  {
   "cell_type": "markdown",
   "metadata": {},
   "source": [
    "#### 低秩矩阵分解 Low Rank Matrix Factorization\n",
    "\n",
    "举例子：\n",
    "\n",
    "1. 当给出一件产品时，你能否找到与之相关的其它产品。\n",
    "\n",
    "2. 一位用户最近看上一件产品，有没有其它相关的产品，你可以推荐给他。\n",
    "\n",
    "我将要做的是：实现一种选择的方法，写出协同过滤算法的预测情况。\n",
    "\n",
    "我们有关于五部电影的数据集，我将要做的是，将这些用户的电影评分，进行分组并存到一个矩阵中。\n",
    "\n",
    "我们有五部电影，以及四位用户，那么 这个矩阵 $Y$ 就是一个5行4列的矩阵，它将这些电影的用户评分数据都存在矩阵里：\n",
    "\n",
    "| **Movie**            | **Alice (1)** | **Bob (2)** | **Carol (3)** | **Dave (4)** |\n",
    "| -------------------- | ------------- | ----------- | ------------- | ------------ |\n",
    "| Love at last         | 5             | 5           | 0             | 0            |\n",
    "| Romance forever      | 5             | ?           | ?             | 0            |\n",
    "| Cute puppies of love | ?             | 4           | 0             | ?            |\n",
    "| Nonstop car chases   | 0             | 0           | 5             | 4            |\n",
    "| Swords vs. karate    | 0             | 0           | 5             | ?            |\n",
    "\n",
    "![](./Y.png)\n",
    "\n",
    "推出评分：\n",
    "\n",
    "![](./低秩矩阵.png)\n",
    "\n",
    "定义矩阵\n",
    "$$\n",
    "X = \\begin{bmatrix} (x^{(1)})^T \\\\ (x^{(2)})^T \\\\ \\vdots \\\\  (x^{(n_m)})^T  \\end{bmatrix} = \n",
    "\\begin{bmatrix} x^{(1)}_1  &  x^{(1)}_2   & x^{(1)}_3  & \\cdots & x^{(1)}_n    \\\\ \n",
    "x^{(2)}_1  &  x^{(2)}_2   & x^{(2)}_3  & \\cdots  & x^{(2)}_n \\\\  \n",
    "\\vdots  & \\vdots & \\vdots  & & \\vdots\\\\\n",
    "x^{(n_m)}_1  &  x^{(n_m)}_2   & x^{(n_m)}_3  & \\cdots  & x^{(n_m)}_n   \\end{bmatrix}\n",
    "$$\n",
    "\n",
    "$$\n",
    "\\Theta = \\begin{bmatrix} (\\theta^{(1)})^T \\\\ (\\theta^{(2)})^T \\\\ \\vdots \\\\ (\\theta^{(n_u)})^T  \\end{bmatrix} = \n",
    "\\begin{bmatrix} \\theta^{(1)}_1 & \\theta^{(1)}_2 & \\theta^{(1)}_3 & \\cdots & \\theta^{(1)}_n \\\\\n",
    "\\theta^{(2)}_1 & \\theta^{(2)}_2 & \\theta^{(2)}_3 & \\cdots & \\theta^{(2)}_n \\\\\n",
    "\\vdots  & \\vdots & \\vdots  & & \\vdots\\\\\n",
    "\\theta^{(n_u)}_1 & \\theta^{(n_u)}_2 & \\theta^{(n_u)}_3 & \\cdots & \\theta^{(n_u)}_n\n",
    "\\end{bmatrix}\n",
    "$$\n",
    "为了得到上述所需的评分， 只需要$X\\Theta^T$, 这个算法也叫作**低秩矩阵分解**(Low rank matrix factorization)\n",
    "\n",
    "找到相关影片：\n",
    "\n",
    "![](./similar_movies.png)"
   ]
  },
  {
   "cell_type": "code",
   "execution_count": 1,
   "metadata": {},
   "outputs": [],
   "source": [
    "import matplotlib.pyplot as plt\n",
    "import seaborn as sns\n",
    "sns.set(context=\"notebook\", style=\"white\", palette=sns.color_palette(\"RdBu\"))\n",
    "import numpy as np\n",
    "import pandas as pd\n",
    "import scipy.io as sio"
   ]
  },
  {
   "cell_type": "markdown",
   "metadata": {},
   "source": [
    "# load data and setting up\n",
    "\n",
    "Notes:\n",
    " \n",
    "X - num_movies (1682) x num_features (10) matrix of movie features \n",
    "\n",
    "Theta - num_users (943) x num_features (10) matrix of user features \n",
    "\n",
    "Y - num_movies x num_users matrix of user ratings of movies \n",
    "\n",
    "R - num_movies x num_users matrix, where R(i, j) = 1 if the i-th movie was rated by the j-th user"
   ]
  },
  {
   "cell_type": "raw",
   "metadata": {},
   "source": [
    "% Notes: X - num_movies (1682)  x num_features (10) matrix of movie features  \n",
    "%        Theta - num_users (943)  x num_features (10) matrix of user features  \n",
    "%        Y - num_movies x num_users matrix of user ratings of movies  \n",
    "%        R - num_movies x num_users matrix, where R(i, j) = 1 if the  \n",
    "%            i-th movie was rated by the j-th user  "
   ]
  },
  {
   "cell_type": "code",
   "execution_count": 2,
   "metadata": {},
   "outputs": [
    {
     "data": {
      "text/plain": [
       "((1682, 943), (1682, 943))"
      ]
     },
     "execution_count": 2,
     "metadata": {},
     "output_type": "execute_result"
    }
   ],
   "source": [
    "movies_mat = sio.loadmat('./data/ex8_movies.mat')\n",
    "Y, R = movies_mat.get('Y'), movies_mat.get('R')\n",
    "\n",
    "Y.shape, R.shape   # (n_movies, n_users)"
   ]
  },
  {
   "cell_type": "code",
   "execution_count": 3,
   "metadata": {},
   "outputs": [],
   "source": [
    "m, u = Y.shape\n",
    "# m: how many movies\n",
    "# u: how many users\n",
    "\n",
    "n = 10  # how many features for a movie"
   ]
  },
  {
   "cell_type": "code",
   "execution_count": 4,
   "metadata": {},
   "outputs": [
    {
     "data": {
      "text/plain": [
       "((943, 10), (1682, 10))"
      ]
     },
     "execution_count": 4,
     "metadata": {},
     "output_type": "execute_result"
    }
   ],
   "source": [
    "# 参数获取  用户的喜好  电影的特征\n",
    "param_mat = sio.loadmat('./data/ex8_movieParams.mat')\n",
    "theta, X = param_mat.get('Theta'), param_mat.get('X')\n",
    "\n",
    "theta.shape, X.shape"
   ]
  },
  {
   "cell_type": "code",
   "execution_count": 14,
   "metadata": {},
   "outputs": [
    {
     "data": {
      "text/plain": [
       "array([[ 0.28544362, -1.68426509,  0.26293877, -0.28731731,  0.58572506,\n",
       "         0.98018795, -0.06337453,  0.76723235, -1.10460164, -0.25186708],\n",
       "       [ 0.50501321, -0.45464846,  0.31746244, -0.11508694,  0.56770367,\n",
       "         0.81890506,  0.46164876,  1.09306336, -1.20029436, -0.39161676]])"
      ]
     },
     "execution_count": 14,
     "metadata": {},
     "output_type": "execute_result"
    }
   ],
   "source": [
    "theta[:2]"
   ]
  },
  {
   "cell_type": "code",
   "execution_count": 20,
   "metadata": {},
   "outputs": [
    {
     "data": {
      "text/plain": [
       "array([[ 1.0486855 , -0.40023196,  1.19411945,  0.37112768,  0.40760718,\n",
       "         0.97440691, -0.05841025,  0.861721  , -0.69728994,  0.28874563],\n",
       "       [ 0.78085123, -0.38562591,  0.52119779,  0.22735522,  0.57010888,\n",
       "         0.64126447, -0.55000555,  0.70402073, -0.48583521, -0.56462407]])"
      ]
     },
     "execution_count": 20,
     "metadata": {},
     "output_type": "execute_result"
    }
   ],
   "source": [
    "X[:2]"
   ]
  },
  {
   "cell_type": "markdown",
   "metadata": {},
   "source": [
    "# cost\n",
    "$$\n",
    "J(x^{(1)}, \\cdots, x^{(n_m)}, \\theta^{(1)}, \\cdots, \\theta^{(n_u)}) = \n",
    "\\frac 1 2 \\sum_{(i, j):r(r, j)=1}((\\theta^{(j)})^T x^{(i)} - y^{(i, j)})^2\n",
    "$$"
   ]
  },
  {
   "cell_type": "code",
   "execution_count": 6,
   "metadata": {},
   "outputs": [],
   "source": [
    "def serialize(X, theta):\n",
    "    \"\"\"serialize 2 matrix\n",
    "    \"\"\"\n",
    "    # X (movie, feature), (1682, 10): movie features\n",
    "    # theta (user, feature), (943, 10): user preference\n",
    "    return np.concatenate((X.ravel(), theta.ravel()))\n",
    "\n",
    "\n",
    "def deserialize(param, n_movie, n_user, n_features):\n",
    "    \"\"\"into ndarray of X(1682, 10), theta(943, 10)\"\"\"\n",
    "    return param[:n_movie * n_features].reshape(n_movie, n_features), \\\n",
    "           param[n_movie * n_features:].reshape(n_user, n_features)\n",
    "\n",
    "\n",
    "# recommendation fn\n",
    "def cost(param, Y, R, n_features):\n",
    "    \"\"\"\n",
    "    计算最终的cost\n",
    "    compute cost for every r(i, j)=1\n",
    "    Args:\n",
    "        param: serialized X, theta\n",
    "        Y (movie, user), (1682, 943): (movie, user) rating\n",
    "        R (movie, user), (1682, 943): (movie, user) has rating\n",
    "    \"\"\"\n",
    "    # theta (user, feature), (943, 10): user preference\n",
    "    # X (movie, feature), (1682, 10): movie features\n",
    "    n_movie, n_user = Y.shape\n",
    "    X, theta = deserialize(param, n_movie, n_user, n_features)\n",
    "    \n",
    "    # 所有得到评分的电影的 预测评分-实际评分\n",
    "    inner = np.multiply(X @ theta.T - Y, R)\n",
    "\n",
    "    return np.power(inner, 2).sum() / 2\n",
    "\n",
    "\n",
    "def gradient(param, Y, R, n_features):\n",
    "    # cost函数的梯度\n",
    "    # theta (user, feature), (943, 10): user preference\n",
    "    # X (movie, feature), (1682, 10): movie features\n",
    "    n_movies, n_user = Y.shape\n",
    "    X, theta = deserialize(param, n_movies, n_user, n_features)\n",
    "\n",
    "    # 所有得到评分的电影的 预测评分-实际评分\n",
    "    inner = np.multiply(X @ theta.T - Y, R)  # (1682, 943)\n",
    "\n",
    "    # X_grad (1682, 10)\n",
    "    X_grad = inner @ theta\n",
    "\n",
    "    # theta_grad (943, 10)\n",
    "    theta_grad = inner.T @ X\n",
    "\n",
    "    # roll them together and return\n",
    "    return serialize(X_grad, theta_grad)\n",
    "\n",
    "\n",
    "def regularized_cost(param, Y, R, n_features, l=1):\n",
    "    # l: 正则化系数lambda\n",
    "    reg_term = np.power(param, 2).sum() * (l / 2)\n",
    "\n",
    "    return cost(param, Y, R, n_features) + reg_term\n",
    "\n",
    "\n",
    "def regularized_gradient(param, Y, R, n_features, l=1):\n",
    "    grad = gradient(param, Y, R, n_features)\n",
    "    reg_term = l * param\n",
    "\n",
    "    return grad + reg_term\n"
   ]
  },
  {
   "cell_type": "code",
   "execution_count": 7,
   "metadata": {},
   "outputs": [
    {
     "data": {
      "text/plain": [
       "22.224603725685675"
      ]
     },
     "execution_count": 7,
     "metadata": {},
     "output_type": "execute_result"
    }
   ],
   "source": [
    "# use subset of data to calculate the cost as in pdf...\n",
    "# 使用 较少的数据来进行计算\n",
    "users = 4\n",
    "movies = 5\n",
    "features = 3\n",
    "\n",
    "X_sub = X[:movies, :features]\n",
    "theta_sub = theta[:users, :features]\n",
    "Y_sub = Y[:movies, :users]\n",
    "R_sub = R[:movies, :users]\n",
    "\n",
    "param_sub = serialize(X_sub, theta_sub)\n",
    "cost(param_sub, Y_sub, R_sub, features)"
   ]
  },
  {
   "cell_type": "code",
   "execution_count": 8,
   "metadata": {},
   "outputs": [
    {
     "data": {
      "text/plain": [
       "27918.64012454421"
      ]
     },
     "execution_count": 8,
     "metadata": {},
     "output_type": "execute_result"
    }
   ],
   "source": [
    "param = serialize(X, theta)  # total real params\n",
    "\n",
    "cost(serialize(X, theta), Y, R, 10)  # this is real total cost"
   ]
  },
  {
   "cell_type": "markdown",
   "metadata": {
    "collapsed": true
   },
   "source": [
    "# gradient\n",
    "$$\n",
    "\\frac {\\partial J}{\\partial {x_k^{(i)}}} = \\sum_{j:r(i, j)=1}((\\theta^{(j)})^Tx^{(i)} - y^{(i, j)})\\theta_k^{(j)} \\\\\n",
    "\\frac {\\partial J}{\\partial {\\theta_k^{(j)}}} = \\sum_{j:r(i, j)=1}((\\theta^{(j)})^Tx^{(i)} - y^{(i, j)})x_k^{(i)}\n",
    "\n",
    "$$"
   ]
  },
  {
   "cell_type": "code",
   "execution_count": 9,
   "metadata": {},
   "outputs": [],
   "source": [
    "n_movie, n_user = Y.shape\n",
    "\n",
    "X_grad, theta_grad = deserialize(gradient(param, Y, R, 10),\n",
    "                                      n_movie, n_user, 10)"
   ]
  },
  {
   "cell_type": "markdown",
   "metadata": {},
   "source": [
    "\n",
    "$$X_{grad}(i, :) = (X(i, :) * Theta^T_{temp} - Y_{temp}) * Theta_{temp}$$"
   ]
  },
  {
   "cell_type": "code",
   "execution_count": 10,
   "metadata": {},
   "outputs": [],
   "source": [
    "assert X_grad.shape == X.shape\n",
    "assert theta_grad.shape == theta.shape"
   ]
  },
  {
   "cell_type": "markdown",
   "metadata": {},
   "source": [
    "# regularized cost"
   ]
  },
  {
   "cell_type": "code",
   "execution_count": 11,
   "metadata": {},
   "outputs": [
    {
     "data": {
      "text/plain": [
       "31.34405624427422"
      ]
     },
     "execution_count": 11,
     "metadata": {},
     "output_type": "execute_result"
    }
   ],
   "source": [
    "# in the ex8_confi.m, lambda = 1.5, and it's using sub data set\n",
    "regularized_cost(param_sub, Y_sub, R_sub, features, l=1.5)"
   ]
  },
  {
   "cell_type": "code",
   "execution_count": 12,
   "metadata": {},
   "outputs": [
    {
     "data": {
      "text/plain": [
       "32520.682450229557"
      ]
     },
     "execution_count": 12,
     "metadata": {},
     "output_type": "execute_result"
    }
   ],
   "source": [
    "regularized_cost(param, Y, R, 10, l=1)  # total regularized cost"
   ]
  },
  {
   "cell_type": "markdown",
   "metadata": {},
   "source": [
    "# regularized gradient"
   ]
  },
  {
   "cell_type": "markdown",
   "metadata": {},
   "source": [
    "$$\n",
    "\\frac {\\partial J}{\\partial {x_k^{(i)}}} = \\sum_{j:r(i, j)=1}((\\theta^{(j)})^Tx^{(i)} - y^{(i, j)})\\theta_k^{(j)} + \\lambda x_k^{(i)} \\\\\n",
    "\\frac {\\partial J}{\\partial {\\theta_k^{(j)}}} = \\sum_{j:r(i, j)=1}((\\theta^{(j)})^Tx^{(i)} - y^{(i, j)})x_k^{(i)} + \\lambda \\theta_k^{(j)} \n",
    "\n",
    "$$"
   ]
  },
  {
   "cell_type": "code",
   "execution_count": 13,
   "metadata": {},
   "outputs": [],
   "source": [
    "n_movie, n_user = Y.shape\n",
    "\n",
    "X_grad, theta_grad = deserialize(regularized_gradient(param, Y, R, 10),\n",
    "                                                                n_movie, n_user, 10)\n",
    "\n",
    "assert X_grad.shape == X.shape\n",
    "assert theta_grad.shape == theta.shape"
   ]
  },
  {
   "cell_type": "markdown",
   "metadata": {},
   "source": [
    "# parse `movie_id.txt`"
   ]
  },
  {
   "cell_type": "code",
   "execution_count": 22,
   "metadata": {},
   "outputs": [
    {
     "data": {
      "text/plain": [
       "array(['Toy Story (1995)', 'GoldenEye (1995)', 'Four Rooms (1995)', ...,\n",
       "       'Sliding Doors (1998)', 'You So Crazy (1994)',\n",
       "       'Scream of Stone (Schrei aus Stein) (1991)'], dtype='<U81')"
      ]
     },
     "execution_count": 22,
     "metadata": {},
     "output_type": "execute_result"
    }
   ],
   "source": [
    "movie_list = []\n",
    "\n",
    "with open('./data/movie_ids.txt', encoding='latin-1') as f:\n",
    "    for line in f:\n",
    "        tokens = line.strip().split(' ')\n",
    "        movie_list.append(' '.join(tokens[1:]))\n",
    "\n",
    "movie_list = np.array(movie_list)\n",
    "movie_list"
   ]
  },
  {
   "cell_type": "markdown",
   "metadata": {},
   "source": [
    "# reproduce my ratings\n",
    "\n",
    "生成个人评分"
   ]
  },
  {
   "cell_type": "code",
   "execution_count": 23,
   "metadata": {},
   "outputs": [],
   "source": [
    "ratings = np.zeros(1682)\n",
    "\n",
    "ratings[0] = 4\n",
    "ratings[6] = 3\n",
    "ratings[11] = 5\n",
    "ratings[53] = 4\n",
    "ratings[63] = 5\n",
    "ratings[65] = 3\n",
    "ratings[68] = 5\n",
    "ratings[97] = 2\n",
    "ratings[182] = 4\n",
    "ratings[225] = 5\n",
    "ratings[354] = 5"
   ]
  },
  {
   "cell_type": "markdown",
   "metadata": {},
   "source": [
    "# prepare data"
   ]
  },
  {
   "cell_type": "code",
   "execution_count": 24,
   "metadata": {},
   "outputs": [
    {
     "data": {
      "text/plain": [
       "(1682, 944)"
      ]
     },
     "execution_count": 24,
     "metadata": {},
     "output_type": "execute_result"
    }
   ],
   "source": [
    "Y, R = movies_mat.get('Y'), movies_mat.get('R')\n",
    "\n",
    "# 新的评分矩阵(n_movies, n_new_users)\n",
    "Y = np.insert(Y, 0, ratings, axis=1)  # now I become user 0\n",
    "Y.shape"
   ]
  },
  {
   "cell_type": "code",
   "execution_count": 31,
   "metadata": {},
   "outputs": [
    {
     "data": {
      "text/plain": [
       "(1682, 944)"
      ]
     },
     "execution_count": 31,
     "metadata": {},
     "output_type": "execute_result"
    }
   ],
   "source": [
    "# 更新R(i, j)\n",
    "R = np.insert(R, 0, ratings != 0, axis=1)\n",
    "R.shape"
   ]
  },
  {
   "cell_type": "code",
   "execution_count": 32,
   "metadata": {},
   "outputs": [],
   "source": [
    "# 假设电影特征50个 \n",
    "n_features = 50\n",
    "n_movie, n_user = Y.shape\n",
    "l = 10"
   ]
  },
  {
   "cell_type": "code",
   "execution_count": 33,
   "metadata": {},
   "outputs": [
    {
     "data": {
      "text/plain": [
       "((1682, 50), (944, 50))"
      ]
     },
     "execution_count": 33,
     "metadata": {},
     "output_type": "execute_result"
    }
   ],
   "source": [
    "X = np.random.standard_normal((n_movie, n_features))\n",
    "theta = np.random.standard_normal((n_user, n_features))\n",
    "\n",
    "X.shape, theta.shape"
   ]
  },
  {
   "cell_type": "code",
   "execution_count": 34,
   "metadata": {},
   "outputs": [],
   "source": [
    "param = serialize(X, theta)"
   ]
  },
  {
   "cell_type": "markdown",
   "metadata": {},
   "source": [
    "normalized ratings\n",
    "\n",
    "对结果$Y$矩阵进行均值归一化处理，将每一个用户对某一部电影的评分减去所有用户对该电影评分的平均值(新矩阵Y中每一行的均值都为0)"
   ]
  },
  {
   "cell_type": "code",
   "execution_count": 82,
   "metadata": {},
   "outputs": [
    {
     "data": {
      "text/plain": [
       "array([ 2.00875098e-16,  1.37366578e-16, -1.55125442e-16, ...,\n",
       "       -4.08992299e-17, -3.02639417e-17, -3.36010792e-17])"
      ]
     },
     "execution_count": 82,
     "metadata": {},
     "output_type": "execute_result"
    }
   ],
   "source": [
    "# 均值归一化的 Y\n",
    "Y_norm = Y - Y.mean(axis=1)[:, np.newaxis]\n",
    "Y_norm.mean(axis=1)"
   ]
  },
  {
   "cell_type": "markdown",
   "metadata": {},
   "source": [
    "# training"
   ]
  },
  {
   "cell_type": "code",
   "execution_count": 79,
   "metadata": {},
   "outputs": [],
   "source": [
    "import scipy.optimize as opt"
   ]
  },
  {
   "cell_type": "code",
   "execution_count": 83,
   "metadata": {},
   "outputs": [],
   "source": [
    "res = opt.minimize(fun=regularized_cost,\n",
    "                   x0=param,\n",
    "                   args=(Y_norm, R, n_features, l),\n",
    "                   method='TNC',\n",
    "                   jac=regularized_gradient)\n",
    "#这里很慢"
   ]
  },
  {
   "cell_type": "code",
   "execution_count": 84,
   "metadata": {},
   "outputs": [
    {
     "data": {
      "text/plain": [
       "     fun: 63571.23700679088\n",
       "     jac: array([6.17977962e-06, 5.92303659e-06, 3.23239212e-06, ...,\n",
       "       4.27764606e-08, 1.62711187e-06, 1.23681476e-06])\n",
       " message: 'Converged (|f_n-f_(n-1)| ~= 0)'\n",
       "    nfev: 2515\n",
       "     nit: 83\n",
       "  status: 1\n",
       " success: True\n",
       "       x: array([ 0.16399667, -0.38208505,  0.04902922, ..., -0.45053505,\n",
       "        0.46402138,  0.46301432])"
      ]
     },
     "execution_count": 84,
     "metadata": {},
     "output_type": "execute_result"
    }
   ],
   "source": [
    "res"
   ]
  },
  {
   "cell_type": "code",
   "execution_count": 85,
   "metadata": {},
   "outputs": [
    {
     "data": {
      "text/plain": [
       "((1682, 50), (944, 50))"
      ]
     },
     "execution_count": 85,
     "metadata": {},
     "output_type": "execute_result"
    }
   ],
   "source": [
    "X_trained, theta_trained = deserialize(res.x, n_movie, n_user, n_features)\n",
    "X_trained.shape, theta_trained.shape"
   ]
  },
  {
   "cell_type": "code",
   "execution_count": 86,
   "metadata": {},
   "outputs": [],
   "source": [
    "prediction = X_trained @ theta_trained.T"
   ]
  },
  {
   "cell_type": "code",
   "execution_count": 89,
   "metadata": {},
   "outputs": [],
   "source": [
    "my_preds = prediction[:, 0] + Y.mean(axis=1)"
   ]
  },
  {
   "cell_type": "code",
   "execution_count": 90,
   "metadata": {},
   "outputs": [
    {
     "data": {
      "text/plain": [
       "(1682,)"
      ]
     },
     "execution_count": 90,
     "metadata": {},
     "output_type": "execute_result"
    }
   ],
   "source": [
    "idx = np.argsort(my_preds)[::-1]  # Descending order\n",
    "idx.shape"
   ]
  },
  {
   "cell_type": "code",
   "execution_count": 91,
   "metadata": {},
   "outputs": [
    {
     "data": {
      "text/plain": [
       "array([4.44234434, 4.17834012, 4.04470411, 4.04314502, 4.01796448,\n",
       "       4.00462143, 3.92903682, 3.89953287, 3.87701144, 3.8342994 ])"
      ]
     },
     "execution_count": 91,
     "metadata": {},
     "output_type": "execute_result"
    }
   ],
   "source": [
    "# top ten idx\n",
    "my_preds[idx][:10]"
   ]
  },
  {
   "cell_type": "code",
   "execution_count": 92,
   "metadata": {},
   "outputs": [
    {
     "name": "stdout",
     "output_type": "stream",
     "text": [
      "Star Wars (1977)\n",
      "Titanic (1997)\n",
      "Shawshank Redemption, The (1994)\n",
      "Raiders of the Lost Ark (1981)\n",
      "Return of the Jedi (1983)\n",
      "Forrest Gump (1994)\n",
      "Godfather, The (1972)\n",
      "Empire Strikes Back, The (1980)\n",
      "Braveheart (1995)\n",
      "Schindler's List (1993)\n"
     ]
    }
   ],
   "source": [
    "for m in movie_list[idx][:10]:\n",
    "    print(m)"
   ]
  }
 ],
 "metadata": {
  "anaconda-cloud": {},
  "kernelspec": {
   "display_name": "Python 3",
   "language": "python",
   "name": "python3"
  },
  "language_info": {
   "codemirror_mode": {
    "name": "ipython",
    "version": 3
   },
   "file_extension": ".py",
   "mimetype": "text/x-python",
   "name": "python",
   "nbconvert_exporter": "python",
   "pygments_lexer": "ipython3",
   "version": "3.7.6"
  }
 },
 "nbformat": 4,
 "nbformat_minor": 1
}