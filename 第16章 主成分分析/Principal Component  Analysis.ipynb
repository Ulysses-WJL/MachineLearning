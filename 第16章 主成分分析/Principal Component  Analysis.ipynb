{
 "cells": [
  {
   "cell_type": "markdown",
   "metadata": {},
   "source": [
    "# 主成分分析PCA\n",
    "---\n",
    "主成分分析是一种常用的无监督学习方法, 这一方法利用正交变换把由**线性相关**变量表示的观测数据转换为少数几个由**线性无关**变量表示的数据, 线性无关的变量称为**主成分**.主成分的个数通常小于原始变量的个数, 所以主成分分析属于**降维**方法\n",
    "> 所谓线性相关的$x_1$和$x_2$就是说知道$x_1$的值的情况下，$x_2$的预测不是完全随机的\n",
    "\n",
    "## 总体主成分分析\n",
    "### 基本想法\n",
    "数据的变量之间可能存在相关性, 以致增加分析的难度.于是, 考虑由少数不相关的变量(新变量), 用来表示数据, 并且要求能保留数据中的大部分信息.\n",
    "1. 对数据进行规范化: 不同变量可能有不同的量纲，直接求主成分有时会产生不合理的结果。常对各个随机变量实施规范化，使其均值为0，方差为1。\n",
    "1. 正交变换: 将原来线性相关变量表示的数据,通过正交变换成若干个线性无关的新变量表示的数据. 新变量是可能的正交变换中变量的**方差的和**(信息保存)最大的\n",
    "\n",
    "### 定义\n",
    "假设m维变量$\\boldsymbol x = (x_1, x_2, \\cdots, x_m)^T$, 其均值向量\n",
    "$$\\boldsymbol\\mu = E(\\boldsymbol x) = (\\mu_1, \\mu_2, \\cdots, \\mu_m)$$\n",
    "协方差矩阵\n",
    "$$\\Sigma = cov(\\boldsymbol x, \\boldsymbol x) = E[(\\boldsymbol x - \\boldsymbol \\mu)(\\boldsymbol x - \\boldsymbol \\mu)^T]$$\n",
    "将$\\boldsymbol x$线性变换到$\\boldsymbol y = (y_1, y_2, \\cdots, y_m)^T$\n",
    "$$y_i = \\alpha_i^T \\boldsymbol x = \\alpha_{1i} x_1 + \\alpha_{2i} x_2 + \\cdots + \\alpha_{mi} x_m $$\n",
    "其中$\\alpha_i^T = (\\alpha_{1i}, \\alpha_{2i}, \\cdots, \\alpha_{mi}) \\quad i=1, 2, \\cdots, m$\n",
    "\n",
    "由随机变量的性质可知,\n",
    "$$E(y_i) = \\alpha_i^T\\boldsymbol x,  \\\\ \n",
    "var(y_i) = \\alpha_i^T\\Sigma\\alpha_i, \\\\\n",
    "cov(y_i, y_j) = \\alpha_i^T\\Sigma\\alpha_j, \\\\\n",
    "$$\n",
    "总体主成分定义: 给定一个 $y_i$的线性变换, 如果他们满足条件\n",
    "1. 系数向量$\\alpha_i^T$是单位向量, 即$\\alpha_i^T \\alpha_i = 1$(正交变换), \n",
    "1. 变量$y_i$与变量$y_j$互不相关, 即$cov(y_i, y_j) = 0$,\n",
    "1. 变量$y_1$是$\\boldsymbol x$的所有线性变换中方差最大的(第一主成分), $y_2$是与$y_1$不相关的x的所有线性变换中方差最大的(第二主成分), ..."
   ]
  },
  {
   "cell_type": "markdown",
   "metadata": {},
   "source": [
    "### 主要性质\n",
    "1. $x$的第k主成分的方差是$$var(y_k) = \\alpha_k^T\\Sigma\\alpha_k = \\lambda_k$$,即协方差矩阵$\\Sigma$的第k个特征值\n",
    "1. y = A^Tx , A为正交矩阵($A^T = A^{-1}$)\n",
    "$$\n",
    "A = \\begin{bmatrix}\\alpha_{11}& \\alpha_{12}& \\cdots& \\alpha_{1m} \\\\\n",
    "\\alpha_{21}& \\alpha_{22}& \\cdots& \\alpha_{2m} \\\\\n",
    "\\vdots& \\vdots&  & \\vdots \\\\\n",
    "\\alpha_{m1}& \\alpha_{m2}& \\cdots& \\alpha_{mm}\n",
    "\\end{bmatrix}\n",
    "$$\n",
    "1. 总体主成分y的协方差矩阵为对角矩阵\n",
    "$$\n",
    "\\mathrm{cov}(\\boldsymbol{y})=\\Lambda=\\mathrm{diag}(\\lambda_1,\\lambda_2,\\cdots,\\lambda_m)\n",
    "$$\n",
    "1. 总体主成分y的方差之和等于随机变量x的方差之和\n",
    "$$\n",
    "\\sum\\limits_{i=1}^m\\lambda_i=\\sum\\limits_{i=1}^m\\sigma_{ii}\n",
    "$$\n",
    " $\\sigma_{ii}$是随机变量$x_i$的方差, 即协方差矩阵$\\Sigma$的对角元素\n",
    "$$\n",
    "\\sum\\limits_{i=1}^m \\mathrm{var}(x_i)=\\mathrm{tr}(\\mit{\\Sigma}^\\mathrm{T}\\mathrm)=tr\\mathrm(A\\Lambda A^\\mathrm{T}\\mathrm)=\\mathrm{tr}\\mathrm(\\Lambda\\mathrm)=\\sum\\limits_{i=1}^m\\lambda_i=\\sum\\limits_{i=1}^m \\mathrm{var}\\mathrm(y_i\\mathrm)\n",
    "$$\n",
    "1. 因子负荷量(factor loading),\n",
    "$$\n",
    "\\rho(y_k, x_i)=\\frac {\\sqrt{\\lambda_k}\\alpha_{ik}}{\\sqrt{\\sigma_{ii}}}\n",
    "$$,\n",
    "表示第k个主成分和变量$x_i$的相关系数.\n",
    "当$\\rho(y_k, x_i)>0$时代表$y_k与x_i正相关, x_i越大, y_i就越大$, 小于零代表负相关, 等于零表示不相关\n",
    "\n",
    "第k个主成分$y_k$与m个变量的因子负荷量满足\n",
    "$$\n",
    "\\sum_{i=1}^m \\sigma_{ii}\\rho^2(y_k, x_i) = \\lambda_k \n",
    "$$\n",
    "m个主成分与第i个变量的$x_i$的因子负荷量满足\n",
    "$$\n",
    "\\sum_{k=1}^m \\rho^2(y_k, x_i) = 1\n",
    "$$"
   ]
  },
  {
   "cell_type": "markdown",
   "metadata": {},
   "source": [
    "### 主成分的个数\n",
    "主成分分析的主要目的是降维, 所以一般选择$k(k << m)$个主成分(线性无关变量)来代替m个原有变量(线性相关变量)使得问题简化, 并能保留原有变量的大部分信息(方差).\n",
    "将x从m维变换到q维的正交线性变化\n",
    " $$y = B^Tx$$\n",
    "当B为x的前q个主成分时, 能最大限度地保留原有变量方差的信息.\n",
    "\n",
    "**方差贡献率**: 第k主成分的方差贡献率定义为$y_k$的方差与所有方差之和的比\n",
    "$$\\eta_k = \\frac {\\lambda_k}{\\sum_{i=1}^m \\lambda_i}$$\n",
    "**累计方差贡献率**:\n",
    "$$\\sum_{i=1}^k\\eta_i = \\frac {\\sum_{i=1}^k\\lambda_i}{\\sum_{i=1}^m \\lambda_i}$$\n",
    "通常取k使得累计方差贡献率达到规定的百分比以上.\n",
    "\n",
    "k个主成分$y_1, y_2, \\cdots, y_k$对原有变量$x_i$的贡献率($x_i$保留信息的比例)\n",
    "$$\\nu_i = \\rho^2(x_i, (y_1, y_2, \\cdots, y_k)) = \\sum_{j=1}^k \\rho^2(x_i, y_j) = \\sum_{j=1}^k \\frac {\\lambda_j\\alpha_{ij}^2}{\\sigma_{ii}}$$"
   ]
  },
  {
   "cell_type": "markdown",
   "metadata": {},
   "source": [
    "### 规范化变量的总体主成分\n",
    "这部分内容描述了规范化随机变量的总体主成分的性质，概括下就是：特征值，特征值的和，特征变量，特征变量按行求和; 特征变量按列求和。\n",
    "1. 对随机变量进行规范化, 使其均值为0, 方差为1 $$x_i^* = \\frac {x_i - E(x_i)}{\\sqrt{var(x_i)}}$$\n",
    "1. $\\Lambda^*=\\mathrm{diag}(\\lambda_1^*, \\lambda_2^*, \\cdots, \\lambda_m^*)$\n",
    "1. $\\sum\\limits_{k=1}^m \\lambda_k^*=m$\n",
    "1. $\\rho(y_k^*, x_i^*)=\\sqrt{\\lambda_k^*}e_{ik}^*, k,i=1,2,\\cdots,m$\n",
    "1. $\\sum\\limits_{i=1}^m\\rho^2(y_k^*,x_i^*)=\\sum\\limits_{i=1}^m\\lambda_k^*e_{ik}^{*2}=\\lambda_k^*,k=1,2,\\cdots,m$\n",
    "1. $\\sum\\limits_{k=1}^m\\rho^2(y_k^*,x_i^*)=\\sum\\limits_{k=1}^m\\lambda_k^*e_{ik}^{*2}=1,i=1,2,\\cdots,m$"
   ]
  },
  {
   "attachments": {},
   "cell_type": "markdown",
   "metadata": {},
   "source": [
    "## 样本主成分分析\n",
    "在观测数据上进行主成分分析就是样本主成分分析.\n",
    "- 样本矩阵\n",
    "$$X = \\begin{bmatrix} \\boldsymbol x_1 & \\boldsymbol x_2&  \\cdots& \\boldsymbol x_n\\end{bmatrix}$$\n",
    "其中$\\boldsymbol x_j = (x_{1j}, x_{2j}, \\cdots, x_{mj})^T$表示第$j$个观测样本.\n",
    "\n",
    "- 样本均值向量\n",
    "$$\\bar x = \\frac 1 n \\sum_{j=1}^n \\boldsymbol x_j$$\n",
    "- 样本协方差矩阵\n",
    "$$\n",
    "S = [s_{ij}]_{m \\times m} \\\\ \n",
    "s_{ij} = \\frac 1 {n-1}\\sum_{k=1}^n(x_{ik} - \\bar x_i)(x_{jk} - \\bar x_j)\n",
    "$$\n",
    "其中$\\bar x_i = \\frac 1 n \\sum_{k=1}^n x_{ik}$\n",
    "为第i个变量的样本均值.\n",
    "- 样本相关矩阵$R$为\n",
    "$$R = [r_{ij}]_{m\\times m}, \\quad r_{ij} = \\frac {s_{ij}} {\\sqrt{s_{ii}s_{jj}}}, \\quad i,j= 1, 2, \\cdots, m$$\n",
    "- 线性变换后的m维向量$\\boldsymbol y$ \n",
    "$$ y_i = \\alpha_i^T\\boldsymbol x$$\n",
    "$y_i$的样本均值为\n",
    "$$\\bar y_i = \\frac 1 n \\sum_{j=1}\\alpha_i^T\\boldsymbol x_j = \\alpha_i^T \\bar x$$\n",
    "- $y_i$的样本方差\n",
    "$$var(y_i) = \\frac 1{n-1}\\sum_{j=1}^n(\\alpha_i^Tx_j - \\alpha_i^T\\bar x)^2 = \\alpha_i^TS\\alpha_i$$\n",
    "\n",
    "- 任意两个线性变换$y_i$和$y_k$的样本协方差\n",
    "$$cov(y_i, y_k)=\\alpha_i^TS\\alpha_k$$\n",
    "- 规范化后的样本矩阵仍记作X,这是样本协方差矩阵S就是样本相关矩阵R\n",
    "$$R = \\frac 1 {n-1} XX^T$$"
   ]
  },
  {
   "cell_type": "markdown",
   "metadata": {},
   "source": [
    "### 相关矩阵的特征值分解算法\n",
    "1. 对样本数据进行规范化处理, 样本矩阵仍记为X\n",
    "$$x_{ij}^* = \\frac {x_{ij} - \\bar x_i}{\\sqrt{s_{ii}}} \\\\\n",
    "\\bar x_i = \\frac 1 n \\sum_{j=1}^nx_{ij} \\\\\n",
    "s_{ii} = \\frac 1 {n-1} \\sum_{j=1}^n(x_{ij} - \\bar x_i)^2\n",
    "$$\n",
    "1. 计算样本相关矩阵R\n",
    "$$R= [r_{ij}]_{m\\times m} \\frac 1 {n-1} XX^T \\\\ r_{ij} = \\frac 1 {n-1} \\sum_{l=1}^nx_{il}x_{lj}$$\n",
    "1. 求样本相关矩阵R的k个特征值和对应的k个单位特征向量. 特征方程\n",
    "$$|R - \\lambda I| = 0$$求解得到m个特征值\n",
    "$$\\lambda_1 \\geq \\lambda_2 \\geq \\cdots \\geq \\lambda_m$$\n",
    "求累计方差贡献率$\\sum_{i=1}^k\\eta_i$达到预定值的主成分个数k.\n",
    "再求前k个特征值对应的单位特征向量\n",
    "$$\\alpha_i = (\\alpha_1i, \\alpha_2i, \\cdots, \\alpha_mi)^T$$\n",
    "1. 求k个样本主成分  \n",
    "以k个单位特征向量为系数进行线性变换$$y_i = \\alpha_i^Tx$$\n",
    "1. 计算k个主成分$y_j$与原变量$x_i$的相关系数$\\rho(x_i, y_j)$(因子负荷量),\n",
    "$$\\rho(y_k, x_i)=\\sqrt{\\lambda_k}e_{ik}, k,i=1,2,\\cdots,m$$\n",
    "以及k个主成分对原变量$x_i$的贡献率$\\nu_i$\n",
    "$$\n",
    "\\nu_i=\\rho^2(x_i,(y_1, y_2, \\cdots,y_k))=\\sum_{j=1}^k\\rho^2(x_i,y_j)=\\sum_{j=1}^k\\lambda_ja_{ij}^2\\\\\n",
    "i=1,2,\\cdots,m\n",
    "$$\n",
    "1. 计算n个样本的主成分值  \n",
    "将规范化样本数据带入k个主成分值, 得到n个样本的主成分值\n",
    "$$\n",
    "y_{ij}=(a_{1i},a_{2i},\\cdots,a_{mi})(x_{1j},x_{2j},\\cdots,x_{mj})^\\mathrm{T}=\\sum\\limits_{l=1}^m a_{li}x_{lj}\\\\\n",
    "i=1,2,\\cdots,m, j=1,2,\\cdots,n\n",
    "$$"
   ]
  },
  {
   "cell_type": "code",
   "execution_count": 3,
   "metadata": {},
   "outputs": [],
   "source": [
    "import numpy as np\n",
    "import matplotlib.pyplot as plt\n",
    "\n",
    "np.set_printoptions(suppress=True, precision=4)\n",
    "%matplotlib inline"
   ]
  },
  {
   "cell_type": "markdown",
   "metadata": {},
   "source": [
    "**例16.1**"
   ]
  },
  {
   "cell_type": "code",
   "execution_count": 4,
   "metadata": {},
   "outputs": [],
   "source": [
    "# 规范后相关矩阵\n",
    "R = np.array([[1, 0.44, 0.229, 0.33], [0.44, 1 , 0.35, 0.32],\n",
    "              [0.29, 0.35, 1, 0.6], [0.33, 0.32, 0.6, 1]])"
   ]
  },
  {
   "cell_type": "code",
   "execution_count": 7,
   "metadata": {},
   "outputs": [],
   "source": [
    "lambda_, Q = np.linalg.eig(R)"
   ]
  },
  {
   "cell_type": "code",
   "execution_count": 8,
   "metadata": {},
   "outputs": [
    {
     "output_type": "execute_result",
     "data": {
      "text/plain": "array([2.1551, 0.8877, 0.5704, 0.3867])"
     },
     "metadata": {},
     "execution_count": 8
    }
   ],
   "source": [
    "# 特征值\n",
    "lambda_"
   ]
  },
  {
   "cell_type": "code",
   "execution_count": 9,
   "metadata": {},
   "outputs": [
    {
     "output_type": "execute_result",
     "data": {
      "text/plain": "array([[ 0.4421,  0.6038,  0.6596, -0.2751],\n       [ 0.4793,  0.4402, -0.7228,  0.219 ],\n       [ 0.5352, -0.481 , -0.1044, -0.6521],\n       [ 0.537 , -0.4586,  0.1776,  0.6717]])"
     },
     "metadata": {},
     "execution_count": 9
    }
   ],
   "source": [
    "# 特征向量矩阵\n",
    "Q"
   ]
  },
  {
   "cell_type": "code",
   "execution_count": 10,
   "metadata": {},
   "outputs": [
    {
     "output_type": "execute_result",
     "data": {
      "text/plain": "4.0"
     },
     "metadata": {},
     "execution_count": 10
    }
   ],
   "source": [
    "# 特征值的和等于维度m\n",
    "np.sum(lambda_)"
   ]
  },
  {
   "cell_type": "code",
   "execution_count": 11,
   "metadata": {},
   "outputs": [
    {
     "output_type": "execute_result",
     "data": {
      "text/plain": "array([0.649 , 0.7037, 0.7856, 0.7884])"
     },
     "metadata": {},
     "execution_count": 11
    }
   ],
   "source": [
    "np.sqrt(lambda_[0]) * Q[:, 0]"
   ]
  },
  {
   "cell_type": "code",
   "execution_count": 12,
   "metadata": {},
   "outputs": [
    {
     "output_type": "execute_result",
     "data": {
      "text/plain": "array([[ 0.649 ,  0.5689],\n       [ 0.7037,  0.4147],\n       [ 0.7856, -0.4532],\n       [ 0.7884, -0.4321]])"
     },
     "metadata": {},
     "execution_count": 12
    }
   ],
   "source": [
    "# 取75%累计方差贡献率 等到k =2 \n",
    "# y1 = Q[:, 0]x, y2 = Q[:, 1]x\n",
    "\n",
    "# 因子负荷量 k个主成分和变量 x_i 的相关系数. \n",
    "# rho = \\sqrt(\\lambda_k)\\alpha_ik\n",
    "rho = np.sqrt(lambda_[:2]) * Q[:, :2]\n",
    "rho"
   ]
  },
  {
   "cell_type": "code",
   "execution_count": 13,
   "metadata": {},
   "outputs": [
    {
     "output_type": "execute_result",
     "data": {
      "text/plain": "array([0.7448, 0.6671, 0.8226, 0.8083])"
     },
     "metadata": {},
     "execution_count": 13
    }
   ],
   "source": [
    "# y1, y2对x_i的贡献率 vu = rho^2\n",
    "vu = np.sum(rho ** 2, axis=1)\n",
    "vu"
   ]
  },
  {
   "cell_type": "code",
   "execution_count": 14,
   "metadata": {},
   "outputs": [
    {
     "output_type": "execute_result",
     "data": {
      "text/plain": "<matplotlib.legend.Legend at 0x7f463a746f90>"
     },
     "metadata": {},
     "execution_count": 14
    },
    {
     "output_type": "display_data",
     "data": {
      "text/plain": "<Figure size 432x288 with 1 Axes>",
      "image/svg+xml": "<?xml version=\"1.0\" encoding=\"utf-8\" standalone=\"no\"?>\n<!DOCTYPE svg PUBLIC \"-//W3C//DTD SVG 1.1//EN\"\n  \"http://www.w3.org/Graphics/SVG/1.1/DTD/svg11.dtd\">\n<!-- Created with matplotlib (https://matplotlib.org/) -->\n<svg height=\"248.518125pt\" version=\"1.1\" viewBox=\"0 0 380.482813 248.518125\" width=\"380.482813pt\" xmlns=\"http://www.w3.org/2000/svg\" xmlns:xlink=\"http://www.w3.org/1999/xlink\">\n <defs>\n  <style type=\"text/css\">\n*{stroke-linecap:butt;stroke-linejoin:round;}\n  </style>\n </defs>\n <g id=\"figure_1\">\n  <g id=\"patch_1\">\n   <path d=\"M -0 248.518125 \nL 380.482813 248.518125 \nL 380.482813 0 \nL -0 0 \nz\n\" style=\"fill:none;\"/>\n  </g>\n  <g id=\"axes_1\">\n   <g id=\"patch_2\">\n    <path d=\"M 38.482813 224.64 \nL 373.282813 224.64 \nL 373.282813 7.2 \nL 38.482813 7.2 \nz\n\" style=\"fill:#ffffff;\"/>\n   </g>\n   <g id=\"PathCollection_1\">\n    <defs>\n     <path d=\"M 0 3 \nC 0.795609 3 1.55874 2.683901 2.12132 2.12132 \nC 2.683901 1.55874 3 0.795609 3 0 \nC 3 -0.795609 2.683901 -1.55874 2.12132 -2.12132 \nC 1.55874 -2.683901 0.795609 -3 0 -3 \nC -0.795609 -3 -1.55874 -2.683901 -2.12132 -2.12132 \nC -2.683901 -1.55874 -3 -0.795609 -3 0 \nC -3 0.795609 -2.683901 1.55874 -2.12132 2.12132 \nC -1.55874 2.683901 -0.795609 3 0 3 \nz\n\" id=\"mdd3a39dae2\" style=\"stroke:#1f77b4;\"/>\n    </defs>\n    <g clip-path=\"url(#pc534ed01f2)\">\n     <use style=\"fill:#1f77b4;stroke:#1f77b4;\" x=\"53.700994\" xlink:href=\"#mdd3a39dae2\" y=\"17.083636\"/>\n    </g>\n   </g>\n   <g id=\"PathCollection_2\">\n    <defs>\n     <path d=\"M 0 3 \nC 0.795609 3 1.55874 2.683901 2.12132 2.12132 \nC 2.683901 1.55874 3 0.795609 3 0 \nC 3 -0.795609 2.683901 -1.55874 2.12132 -2.12132 \nC 1.55874 -2.683901 0.795609 -3 0 -3 \nC -0.795609 -3 -1.55874 -2.683901 -2.12132 -2.12132 \nC -2.683901 -1.55874 -3 -0.795609 -3 0 \nC -3 0.795609 -2.683901 1.55874 -2.12132 2.12132 \nC -1.55874 2.683901 -0.795609 3 0 3 \nz\n\" id=\"m6c484217c8\" style=\"stroke:#ff7f0e;\"/>\n    </defs>\n    <g clip-path=\"url(#pc534ed01f2)\">\n     <use style=\"fill:#ff7f0e;stroke:#ff7f0e;\" x=\"173.025199\" xlink:href=\"#m6c484217c8\" y=\"46.897642\"/>\n    </g>\n   </g>\n   <g id=\"PathCollection_3\">\n    <defs>\n     <path d=\"M 0 3 \nC 0.795609 3 1.55874 2.683901 2.12132 2.12132 \nC 2.683901 1.55874 3 0.795609 3 0 \nC 3 -0.795609 2.683901 -1.55874 2.12132 -2.12132 \nC 1.55874 -2.683901 0.795609 -3 0 -3 \nC -0.795609 -3 -1.55874 -2.683901 -2.12132 -2.12132 \nC -2.683901 -1.55874 -3 -0.795609 -3 0 \nC -3 0.795609 -2.683901 1.55874 -2.12132 2.12132 \nC -1.55874 2.683901 -0.795609 3 0 3 \nz\n\" id=\"mf887417f9e\" style=\"stroke:#2ca02c;\"/>\n    </defs>\n    <g clip-path=\"url(#pc534ed01f2)\">\n     <use style=\"fill:#2ca02c;stroke:#2ca02c;\" x=\"352.030872\" xlink:href=\"#mf887417f9e\" y=\"214.756364\"/>\n    </g>\n   </g>\n   <g id=\"PathCollection_4\">\n    <defs>\n     <path d=\"M 0 3 \nC 0.795609 3 1.55874 2.683901 2.12132 2.12132 \nC 2.683901 1.55874 3 0.795609 3 0 \nC 3 -0.795609 2.683901 -1.55874 2.12132 -2.12132 \nC 1.55874 -2.683901 0.795609 -3 0 -3 \nC -0.795609 -3 -1.55874 -2.683901 -2.12132 -2.12132 \nC -2.683901 -1.55874 -3 -0.795609 -3 0 \nC -3 0.795609 -2.683901 1.55874 -2.12132 2.12132 \nC -1.55874 2.683901 -0.795609 3 0 3 \nz\n\" id=\"m9a73de81f0\" style=\"stroke:#d62728;\"/>\n    </defs>\n    <g clip-path=\"url(#pc534ed01f2)\">\n     <use style=\"fill:#d62728;stroke:#d62728;\" x=\"358.064631\" xlink:href=\"#m9a73de81f0\" y=\"210.666481\"/>\n    </g>\n   </g>\n   <g id=\"matplotlib.axis_1\">\n    <g id=\"xtick_1\">\n     <g id=\"line2d_1\">\n      <defs>\n       <path d=\"M 0 0 \nL 0 3.5 \n\" id=\"m4bb2b40fbc\" style=\"stroke:#000000;stroke-width:0.8;\"/>\n      </defs>\n      <g>\n       <use style=\"stroke:#000000;stroke-width:0.8;\" x=\"77.713433\" xlink:href=\"#m4bb2b40fbc\" y=\"224.64\"/>\n      </g>\n     </g>\n     <g id=\"text_1\">\n      <!-- 0.66 -->\n      <defs>\n       <path d=\"M 31.78125 66.40625 \nQ 24.171875 66.40625 20.328125 58.90625 \nQ 16.5 51.421875 16.5 36.375 \nQ 16.5 21.390625 20.328125 13.890625 \nQ 24.171875 6.390625 31.78125 6.390625 \nQ 39.453125 6.390625 43.28125 13.890625 \nQ 47.125 21.390625 47.125 36.375 \nQ 47.125 51.421875 43.28125 58.90625 \nQ 39.453125 66.40625 31.78125 66.40625 \nz\nM 31.78125 74.21875 \nQ 44.046875 74.21875 50.515625 64.515625 \nQ 56.984375 54.828125 56.984375 36.375 \nQ 56.984375 17.96875 50.515625 8.265625 \nQ 44.046875 -1.421875 31.78125 -1.421875 \nQ 19.53125 -1.421875 13.0625 8.265625 \nQ 6.59375 17.96875 6.59375 36.375 \nQ 6.59375 54.828125 13.0625 64.515625 \nQ 19.53125 74.21875 31.78125 74.21875 \nz\n\" id=\"DejaVuSans-48\"/>\n       <path d=\"M 10.6875 12.40625 \nL 21 12.40625 \nL 21 0 \nL 10.6875 0 \nz\n\" id=\"DejaVuSans-46\"/>\n       <path d=\"M 33.015625 40.375 \nQ 26.375 40.375 22.484375 35.828125 \nQ 18.609375 31.296875 18.609375 23.390625 \nQ 18.609375 15.53125 22.484375 10.953125 \nQ 26.375 6.390625 33.015625 6.390625 \nQ 39.65625 6.390625 43.53125 10.953125 \nQ 47.40625 15.53125 47.40625 23.390625 \nQ 47.40625 31.296875 43.53125 35.828125 \nQ 39.65625 40.375 33.015625 40.375 \nz\nM 52.59375 71.296875 \nL 52.59375 62.3125 \nQ 48.875 64.0625 45.09375 64.984375 \nQ 41.3125 65.921875 37.59375 65.921875 \nQ 27.828125 65.921875 22.671875 59.328125 \nQ 17.53125 52.734375 16.796875 39.40625 \nQ 19.671875 43.65625 24.015625 45.921875 \nQ 28.375 48.1875 33.59375 48.1875 \nQ 44.578125 48.1875 50.953125 41.515625 \nQ 57.328125 34.859375 57.328125 23.390625 \nQ 57.328125 12.15625 50.6875 5.359375 \nQ 44.046875 -1.421875 33.015625 -1.421875 \nQ 20.359375 -1.421875 13.671875 8.265625 \nQ 6.984375 17.96875 6.984375 36.375 \nQ 6.984375 53.65625 15.1875 63.9375 \nQ 23.390625 74.21875 37.203125 74.21875 \nQ 40.921875 74.21875 44.703125 73.484375 \nQ 48.484375 72.75 52.59375 71.296875 \nz\n\" id=\"DejaVuSans-54\"/>\n      </defs>\n      <g transform=\"translate(66.580621 239.238437)scale(0.1 -0.1)\">\n       <use xlink:href=\"#DejaVuSans-48\"/>\n       <use x=\"63.623047\" xlink:href=\"#DejaVuSans-46\"/>\n       <use x=\"95.410156\" xlink:href=\"#DejaVuSans-54\"/>\n       <use x=\"159.033203\" xlink:href=\"#DejaVuSans-54\"/>\n      </g>\n     </g>\n    </g>\n    <g id=\"xtick_2\">\n     <g id=\"line2d_2\">\n      <g>\n       <use style=\"stroke:#000000;stroke-width:0.8;\" x=\"121.380076\" xlink:href=\"#m4bb2b40fbc\" y=\"224.64\"/>\n      </g>\n     </g>\n     <g id=\"text_2\">\n      <!-- 0.68 -->\n      <defs>\n       <path d=\"M 31.78125 34.625 \nQ 24.75 34.625 20.71875 30.859375 \nQ 16.703125 27.09375 16.703125 20.515625 \nQ 16.703125 13.921875 20.71875 10.15625 \nQ 24.75 6.390625 31.78125 6.390625 \nQ 38.8125 6.390625 42.859375 10.171875 \nQ 46.921875 13.96875 46.921875 20.515625 \nQ 46.921875 27.09375 42.890625 30.859375 \nQ 38.875 34.625 31.78125 34.625 \nz\nM 21.921875 38.8125 \nQ 15.578125 40.375 12.03125 44.71875 \nQ 8.5 49.078125 8.5 55.328125 \nQ 8.5 64.0625 14.71875 69.140625 \nQ 20.953125 74.21875 31.78125 74.21875 \nQ 42.671875 74.21875 48.875 69.140625 \nQ 55.078125 64.0625 55.078125 55.328125 \nQ 55.078125 49.078125 51.53125 44.71875 \nQ 48 40.375 41.703125 38.8125 \nQ 48.828125 37.15625 52.796875 32.3125 \nQ 56.78125 27.484375 56.78125 20.515625 \nQ 56.78125 9.90625 50.3125 4.234375 \nQ 43.84375 -1.421875 31.78125 -1.421875 \nQ 19.734375 -1.421875 13.25 4.234375 \nQ 6.78125 9.90625 6.78125 20.515625 \nQ 6.78125 27.484375 10.78125 32.3125 \nQ 14.796875 37.15625 21.921875 38.8125 \nz\nM 18.3125 54.390625 \nQ 18.3125 48.734375 21.84375 45.5625 \nQ 25.390625 42.390625 31.78125 42.390625 \nQ 38.140625 42.390625 41.71875 45.5625 \nQ 45.3125 48.734375 45.3125 54.390625 \nQ 45.3125 60.0625 41.71875 63.234375 \nQ 38.140625 66.40625 31.78125 66.40625 \nQ 25.390625 66.40625 21.84375 63.234375 \nQ 18.3125 60.0625 18.3125 54.390625 \nz\n\" id=\"DejaVuSans-56\"/>\n      </defs>\n      <g transform=\"translate(110.247264 239.238437)scale(0.1 -0.1)\">\n       <use xlink:href=\"#DejaVuSans-48\"/>\n       <use x=\"63.623047\" xlink:href=\"#DejaVuSans-46\"/>\n       <use x=\"95.410156\" xlink:href=\"#DejaVuSans-54\"/>\n       <use x=\"159.033203\" xlink:href=\"#DejaVuSans-56\"/>\n      </g>\n     </g>\n    </g>\n    <g id=\"xtick_3\">\n     <g id=\"line2d_3\">\n      <g>\n       <use style=\"stroke:#000000;stroke-width:0.8;\" x=\"165.046719\" xlink:href=\"#m4bb2b40fbc\" y=\"224.64\"/>\n      </g>\n     </g>\n     <g id=\"text_3\">\n      <!-- 0.70 -->\n      <defs>\n       <path d=\"M 8.203125 72.90625 \nL 55.078125 72.90625 \nL 55.078125 68.703125 \nL 28.609375 0 \nL 18.3125 0 \nL 43.21875 64.59375 \nL 8.203125 64.59375 \nz\n\" id=\"DejaVuSans-55\"/>\n      </defs>\n      <g transform=\"translate(153.913907 239.238437)scale(0.1 -0.1)\">\n       <use xlink:href=\"#DejaVuSans-48\"/>\n       <use x=\"63.623047\" xlink:href=\"#DejaVuSans-46\"/>\n       <use x=\"95.410156\" xlink:href=\"#DejaVuSans-55\"/>\n       <use x=\"159.033203\" xlink:href=\"#DejaVuSans-48\"/>\n      </g>\n     </g>\n    </g>\n    <g id=\"xtick_4\">\n     <g id=\"line2d_4\">\n      <g>\n       <use style=\"stroke:#000000;stroke-width:0.8;\" x=\"208.713362\" xlink:href=\"#m4bb2b40fbc\" y=\"224.64\"/>\n      </g>\n     </g>\n     <g id=\"text_4\">\n      <!-- 0.72 -->\n      <defs>\n       <path d=\"M 19.1875 8.296875 \nL 53.609375 8.296875 \nL 53.609375 0 \nL 7.328125 0 \nL 7.328125 8.296875 \nQ 12.9375 14.109375 22.625 23.890625 \nQ 32.328125 33.6875 34.8125 36.53125 \nQ 39.546875 41.84375 41.421875 45.53125 \nQ 43.3125 49.21875 43.3125 52.78125 \nQ 43.3125 58.59375 39.234375 62.25 \nQ 35.15625 65.921875 28.609375 65.921875 \nQ 23.96875 65.921875 18.8125 64.3125 \nQ 13.671875 62.703125 7.8125 59.421875 \nL 7.8125 69.390625 \nQ 13.765625 71.78125 18.9375 73 \nQ 24.125 74.21875 28.421875 74.21875 \nQ 39.75 74.21875 46.484375 68.546875 \nQ 53.21875 62.890625 53.21875 53.421875 \nQ 53.21875 48.921875 51.53125 44.890625 \nQ 49.859375 40.875 45.40625 35.40625 \nQ 44.1875 33.984375 37.640625 27.21875 \nQ 31.109375 20.453125 19.1875 8.296875 \nz\n\" id=\"DejaVuSans-50\"/>\n      </defs>\n      <g transform=\"translate(197.58055 239.238437)scale(0.1 -0.1)\">\n       <use xlink:href=\"#DejaVuSans-48\"/>\n       <use x=\"63.623047\" xlink:href=\"#DejaVuSans-46\"/>\n       <use x=\"95.410156\" xlink:href=\"#DejaVuSans-55\"/>\n       <use x=\"159.033203\" xlink:href=\"#DejaVuSans-50\"/>\n      </g>\n     </g>\n    </g>\n    <g id=\"xtick_5\">\n     <g id=\"line2d_5\">\n      <g>\n       <use style=\"stroke:#000000;stroke-width:0.8;\" x=\"252.380005\" xlink:href=\"#m4bb2b40fbc\" y=\"224.64\"/>\n      </g>\n     </g>\n     <g id=\"text_5\">\n      <!-- 0.74 -->\n      <defs>\n       <path d=\"M 37.796875 64.3125 \nL 12.890625 25.390625 \nL 37.796875 25.390625 \nz\nM 35.203125 72.90625 \nL 47.609375 72.90625 \nL 47.609375 25.390625 \nL 58.015625 25.390625 \nL 58.015625 17.1875 \nL 47.609375 17.1875 \nL 47.609375 0 \nL 37.796875 0 \nL 37.796875 17.1875 \nL 4.890625 17.1875 \nL 4.890625 26.703125 \nz\n\" id=\"DejaVuSans-52\"/>\n      </defs>\n      <g transform=\"translate(241.247193 239.238437)scale(0.1 -0.1)\">\n       <use xlink:href=\"#DejaVuSans-48\"/>\n       <use x=\"63.623047\" xlink:href=\"#DejaVuSans-46\"/>\n       <use x=\"95.410156\" xlink:href=\"#DejaVuSans-55\"/>\n       <use x=\"159.033203\" xlink:href=\"#DejaVuSans-52\"/>\n      </g>\n     </g>\n    </g>\n    <g id=\"xtick_6\">\n     <g id=\"line2d_6\">\n      <g>\n       <use style=\"stroke:#000000;stroke-width:0.8;\" x=\"296.046648\" xlink:href=\"#m4bb2b40fbc\" y=\"224.64\"/>\n      </g>\n     </g>\n     <g id=\"text_6\">\n      <!-- 0.76 -->\n      <g transform=\"translate(284.913836 239.238437)scale(0.1 -0.1)\">\n       <use xlink:href=\"#DejaVuSans-48\"/>\n       <use x=\"63.623047\" xlink:href=\"#DejaVuSans-46\"/>\n       <use x=\"95.410156\" xlink:href=\"#DejaVuSans-55\"/>\n       <use x=\"159.033203\" xlink:href=\"#DejaVuSans-54\"/>\n      </g>\n     </g>\n    </g>\n    <g id=\"xtick_7\">\n     <g id=\"line2d_7\">\n      <g>\n       <use style=\"stroke:#000000;stroke-width:0.8;\" x=\"339.713291\" xlink:href=\"#m4bb2b40fbc\" y=\"224.64\"/>\n      </g>\n     </g>\n     <g id=\"text_7\">\n      <!-- 0.78 -->\n      <g transform=\"translate(328.580479 239.238437)scale(0.1 -0.1)\">\n       <use xlink:href=\"#DejaVuSans-48\"/>\n       <use x=\"63.623047\" xlink:href=\"#DejaVuSans-46\"/>\n       <use x=\"95.410156\" xlink:href=\"#DejaVuSans-55\"/>\n       <use x=\"159.033203\" xlink:href=\"#DejaVuSans-56\"/>\n      </g>\n     </g>\n    </g>\n   </g>\n   <g id=\"matplotlib.axis_2\">\n    <g id=\"ytick_1\">\n     <g id=\"line2d_8\">\n      <defs>\n       <path d=\"M 0 0 \nL -3.5 0 \n\" id=\"m7c69e0b298\" style=\"stroke:#000000;stroke-width:0.8;\"/>\n      </defs>\n      <g>\n       <use style=\"stroke:#000000;stroke-width:0.8;\" x=\"38.482813\" xlink:href=\"#m7c69e0b298\" y=\"204.46594\"/>\n      </g>\n     </g>\n     <g id=\"text_8\">\n      <!-- −0.4 -->\n      <defs>\n       <path d=\"M 10.59375 35.5 \nL 73.1875 35.5 \nL 73.1875 27.203125 \nL 10.59375 27.203125 \nz\n\" id=\"DejaVuSans-8722\"/>\n      </defs>\n      <g transform=\"translate(7.2 208.265159)scale(0.1 -0.1)\">\n       <use xlink:href=\"#DejaVuSans-8722\"/>\n       <use x=\"83.789062\" xlink:href=\"#DejaVuSans-48\"/>\n       <use x=\"147.412109\" xlink:href=\"#DejaVuSans-46\"/>\n       <use x=\"179.199219\" xlink:href=\"#DejaVuSans-52\"/>\n      </g>\n     </g>\n    </g>\n    <g id=\"ytick_2\">\n     <g id=\"line2d_9\">\n      <g>\n       <use style=\"stroke:#000000;stroke-width:0.8;\" x=\"38.482813\" xlink:href=\"#m7c69e0b298\" y=\"165.78592\"/>\n      </g>\n     </g>\n     <g id=\"text_9\">\n      <!-- −0.2 -->\n      <g transform=\"translate(7.2 169.585139)scale(0.1 -0.1)\">\n       <use xlink:href=\"#DejaVuSans-8722\"/>\n       <use x=\"83.789062\" xlink:href=\"#DejaVuSans-48\"/>\n       <use x=\"147.412109\" xlink:href=\"#DejaVuSans-46\"/>\n       <use x=\"179.199219\" xlink:href=\"#DejaVuSans-50\"/>\n      </g>\n     </g>\n    </g>\n    <g id=\"ytick_3\">\n     <g id=\"line2d_10\">\n      <g>\n       <use style=\"stroke:#000000;stroke-width:0.8;\" x=\"38.482813\" xlink:href=\"#m7c69e0b298\" y=\"127.1059\"/>\n      </g>\n     </g>\n     <g id=\"text_10\">\n      <!-- 0.0 -->\n      <g transform=\"translate(15.579688 130.905119)scale(0.1 -0.1)\">\n       <use xlink:href=\"#DejaVuSans-48\"/>\n       <use x=\"63.623047\" xlink:href=\"#DejaVuSans-46\"/>\n       <use x=\"95.410156\" xlink:href=\"#DejaVuSans-48\"/>\n      </g>\n     </g>\n    </g>\n    <g id=\"ytick_4\">\n     <g id=\"line2d_11\">\n      <g>\n       <use style=\"stroke:#000000;stroke-width:0.8;\" x=\"38.482813\" xlink:href=\"#m7c69e0b298\" y=\"88.425881\"/>\n      </g>\n     </g>\n     <g id=\"text_11\">\n      <!-- 0.2 -->\n      <g transform=\"translate(15.579688 92.225099)scale(0.1 -0.1)\">\n       <use xlink:href=\"#DejaVuSans-48\"/>\n       <use x=\"63.623047\" xlink:href=\"#DejaVuSans-46\"/>\n       <use x=\"95.410156\" xlink:href=\"#DejaVuSans-50\"/>\n      </g>\n     </g>\n    </g>\n    <g id=\"ytick_5\">\n     <g id=\"line2d_12\">\n      <g>\n       <use style=\"stroke:#000000;stroke-width:0.8;\" x=\"38.482813\" xlink:href=\"#m7c69e0b298\" y=\"49.745861\"/>\n      </g>\n     </g>\n     <g id=\"text_12\">\n      <!-- 0.4 -->\n      <g transform=\"translate(15.579688 53.54508)scale(0.1 -0.1)\">\n       <use xlink:href=\"#DejaVuSans-48\"/>\n       <use x=\"63.623047\" xlink:href=\"#DejaVuSans-46\"/>\n       <use x=\"95.410156\" xlink:href=\"#DejaVuSans-52\"/>\n      </g>\n     </g>\n    </g>\n    <g id=\"ytick_6\">\n     <g id=\"line2d_13\">\n      <g>\n       <use style=\"stroke:#000000;stroke-width:0.8;\" x=\"38.482813\" xlink:href=\"#m7c69e0b298\" y=\"11.065841\"/>\n      </g>\n     </g>\n     <g id=\"text_13\">\n      <!-- 0.6 -->\n      <g transform=\"translate(15.579688 14.86506)scale(0.1 -0.1)\">\n       <use xlink:href=\"#DejaVuSans-48\"/>\n       <use x=\"63.623047\" xlink:href=\"#DejaVuSans-46\"/>\n       <use x=\"95.410156\" xlink:href=\"#DejaVuSans-54\"/>\n      </g>\n     </g>\n    </g>\n   </g>\n   <g id=\"patch_3\">\n    <path d=\"M 38.482813 224.64 \nL 38.482813 7.2 \n\" style=\"fill:none;stroke:#000000;stroke-linecap:square;stroke-linejoin:miter;stroke-width:0.8;\"/>\n   </g>\n   <g id=\"patch_4\">\n    <path d=\"M 373.282813 224.64 \nL 373.282813 7.2 \n\" style=\"fill:none;stroke:#000000;stroke-linecap:square;stroke-linejoin:miter;stroke-width:0.8;\"/>\n   </g>\n   <g id=\"patch_5\">\n    <path d=\"M 38.482812 224.64 \nL 373.282813 224.64 \n\" style=\"fill:none;stroke:#000000;stroke-linecap:square;stroke-linejoin:miter;stroke-width:0.8;\"/>\n   </g>\n   <g id=\"patch_6\">\n    <path d=\"M 38.482812 7.2 \nL 373.282813 7.2 \n\" style=\"fill:none;stroke:#000000;stroke-linecap:square;stroke-linejoin:miter;stroke-width:0.8;\"/>\n   </g>\n   <g id=\"legend_1\">\n    <g id=\"patch_7\">\n     <path d=\"M 322.001563 73.9125 \nL 366.282813 73.9125 \nQ 368.282813 73.9125 368.282813 71.9125 \nL 368.282813 14.2 \nQ 368.282813 12.2 366.282813 12.2 \nL 322.001563 12.2 \nQ 320.001563 12.2 320.001563 14.2 \nL 320.001563 71.9125 \nQ 320.001563 73.9125 322.001563 73.9125 \nz\n\" style=\"fill:#ffffff;opacity:0.8;stroke:#cccccc;stroke-linejoin:miter;\"/>\n    </g>\n    <g id=\"PathCollection_5\">\n     <g>\n      <use style=\"fill:#1f77b4;stroke:#1f77b4;\" x=\"334.001563\" xlink:href=\"#mdd3a39dae2\" y=\"21.173437\"/>\n     </g>\n    </g>\n    <g id=\"text_14\">\n     <!-- x1 -->\n     <defs>\n      <path d=\"M 54.890625 54.6875 \nL 35.109375 28.078125 \nL 55.90625 0 \nL 45.3125 0 \nL 29.390625 21.484375 \nL 13.484375 0 \nL 2.875 0 \nL 24.125 28.609375 \nL 4.6875 54.6875 \nL 15.28125 54.6875 \nL 29.78125 35.203125 \nL 44.28125 54.6875 \nz\n\" id=\"DejaVuSans-120\"/>\n      <path d=\"M 12.40625 8.296875 \nL 28.515625 8.296875 \nL 28.515625 63.921875 \nL 10.984375 60.40625 \nL 10.984375 69.390625 \nL 28.421875 72.90625 \nL 38.28125 72.90625 \nL 38.28125 8.296875 \nL 54.390625 8.296875 \nL 54.390625 0 \nL 12.40625 0 \nz\n\" id=\"DejaVuSans-49\"/>\n     </defs>\n     <g transform=\"translate(352.001563 23.798437)scale(0.1 -0.1)\">\n      <use xlink:href=\"#DejaVuSans-120\"/>\n      <use x=\"59.179688\" xlink:href=\"#DejaVuSans-49\"/>\n     </g>\n    </g>\n    <g id=\"PathCollection_6\">\n     <g>\n      <use style=\"fill:#ff7f0e;stroke:#ff7f0e;\" x=\"334.001563\" xlink:href=\"#m6c484217c8\" y=\"35.851562\"/>\n     </g>\n    </g>\n    <g id=\"text_15\">\n     <!-- x2 -->\n     <g transform=\"translate(352.001563 38.476562)scale(0.1 -0.1)\">\n      <use xlink:href=\"#DejaVuSans-120\"/>\n      <use x=\"59.179688\" xlink:href=\"#DejaVuSans-50\"/>\n     </g>\n    </g>\n    <g id=\"PathCollection_7\">\n     <g>\n      <use style=\"fill:#2ca02c;stroke:#2ca02c;\" x=\"334.001563\" xlink:href=\"#mf887417f9e\" y=\"50.529687\"/>\n     </g>\n    </g>\n    <g id=\"text_16\">\n     <!-- x3 -->\n     <defs>\n      <path d=\"M 40.578125 39.3125 \nQ 47.65625 37.796875 51.625 33 \nQ 55.609375 28.21875 55.609375 21.1875 \nQ 55.609375 10.40625 48.1875 4.484375 \nQ 40.765625 -1.421875 27.09375 -1.421875 \nQ 22.515625 -1.421875 17.65625 -0.515625 \nQ 12.796875 0.390625 7.625 2.203125 \nL 7.625 11.71875 \nQ 11.71875 9.328125 16.59375 8.109375 \nQ 21.484375 6.890625 26.8125 6.890625 \nQ 36.078125 6.890625 40.9375 10.546875 \nQ 45.796875 14.203125 45.796875 21.1875 \nQ 45.796875 27.640625 41.28125 31.265625 \nQ 36.765625 34.90625 28.71875 34.90625 \nL 20.21875 34.90625 \nL 20.21875 43.015625 \nL 29.109375 43.015625 \nQ 36.375 43.015625 40.234375 45.921875 \nQ 44.09375 48.828125 44.09375 54.296875 \nQ 44.09375 59.90625 40.109375 62.90625 \nQ 36.140625 65.921875 28.71875 65.921875 \nQ 24.65625 65.921875 20.015625 65.03125 \nQ 15.375 64.15625 9.8125 62.3125 \nL 9.8125 71.09375 \nQ 15.4375 72.65625 20.34375 73.4375 \nQ 25.25 74.21875 29.59375 74.21875 \nQ 40.828125 74.21875 47.359375 69.109375 \nQ 53.90625 64.015625 53.90625 55.328125 \nQ 53.90625 49.265625 50.4375 45.09375 \nQ 46.96875 40.921875 40.578125 39.3125 \nz\n\" id=\"DejaVuSans-51\"/>\n     </defs>\n     <g transform=\"translate(352.001563 53.154687)scale(0.1 -0.1)\">\n      <use xlink:href=\"#DejaVuSans-120\"/>\n      <use x=\"59.179688\" xlink:href=\"#DejaVuSans-51\"/>\n     </g>\n    </g>\n    <g id=\"PathCollection_8\">\n     <g>\n      <use style=\"fill:#d62728;stroke:#d62728;\" x=\"334.001563\" xlink:href=\"#m9a73de81f0\" y=\"65.207812\"/>\n     </g>\n    </g>\n    <g id=\"text_17\">\n     <!-- x4 -->\n     <g transform=\"translate(352.001563 67.832812)scale(0.1 -0.1)\">\n      <use xlink:href=\"#DejaVuSans-120\"/>\n      <use x=\"59.179688\" xlink:href=\"#DejaVuSans-52\"/>\n     </g>\n    </g>\n   </g>\n  </g>\n </g>\n <defs>\n  <clipPath id=\"pc534ed01f2\">\n   <rect height=\"217.44\" width=\"334.8\" x=\"38.482813\" y=\"7.2\"/>\n  </clipPath>\n </defs>\n</svg>\n",
      "image/png": "[encoded data removed]"
     },
     "metadata": {
      "needs_background": "light"
     }
    }
   ],
   "source": [
    "# 因子负荷量分布图\n",
    "for i in range(4):\n",
    "    plt.scatter(rho[i, 0], rho[i, 1], label=f'x{i+1}')\n",
    "plt.legend()"
   ]
  },
  {
   "cell_type": "markdown",
   "metadata": {},
   "source": [
    "$y_1$是原始特征的线性组合，并且，各个原始特征的权重(系数)基本相同，说明大家同样重要。$y_1$和总成绩有关系。\n",
    "$y_2$的贡献可能更多的体现在文理科的差异上，他们的作用相反。\n",
    "\n",
    "| 类型 | 主成分 | 特征值 | $x_1$ | $x_2$ | $x_3$ | $x_4$ | 方差贡献率 | 备注|\n",
    "| --- | --- | --- | --- | --- | --- | --- | --- |---|\n",
    "| 特征向量 |$y_1$| 2.17 | 0.460 | 0.476 | 0.523 | 0.537 | 0.543 ||\n",
    "| 特征向量 |$y_2$| 0.87 | 0.574 | 0.486 | -0.476 | -0.456 | 0.218 |累计0.761|\n",
    "| 因子负荷量|$y_1$|2.17|0.678|0.701|0.770|0.791|$\\sqrt{\\lambda_1}e_{i1}$|平方和=2.169|\n",
    "| 因子负荷量|$y_2$|0.87|0.536|0.697|0.790|0.806|$\\sqrt{\\lambda_2}e_{i2}$|平方和=0.870|"
   ]
  },
  {
   "cell_type": "markdown",
   "metadata": {},
   "source": [
    "### 数据矩阵的奇异值分解算法\n",
    "\n",
    "关键词：**数据矩阵**，**截断奇异值分解**  \n",
    "算法16.1 主成分分析法  \n",
    "输入：$m\\times n$样本矩阵$X$，每一行元素均值为0。`这里每一行是一个特征`  \n",
    "输出：$k\\times n$样本主成分矩阵$Y$  \n",
    "参数：主成分个数$k$  \n",
    "1. 构造新的$n\\times m$矩阵\n",
    "$$\n",
    "X^\\prime=\\frac{1}{\\sqrt{n-1}}X^\\mathrm{T}\n",
    "$$\n",
    "$X^\\prime$每一列均值为0，其实就是转置了。\n",
    "2. 对矩阵$X^\\prime$进行截断奇异值分解\n",
    "$$\n",
    "X^\\prime=U\\mit{\\Sigma}V^\\mathrm{T}\n",
    "$$\n",
    "矩阵$V$的前$k$列构成$k$个样本主成分\n",
    "3. 求$k\\times n$样本主成分矩阵\n",
    "$$\n",
    "Y=V^\\mathrm{T}X\n",
    "$$"
   ]
  },
  {
   "cell_type": "markdown",
   "metadata": {},
   "source": [
    "---\n",
    "## 项目案例: 对半导体数据进行降维处理\n",
    "\n",
    "### 项目概述\n",
    "```\n",
    "半导体是在一些极为先进的工厂中制造出来的。设备的生命早期有限，并且花费极其巨大。\n",
    "虽然通过早期测试和频繁测试来发现有瑕疵的产品，但仍有一些存在瑕疵的产品通过测试。\n",
    "如果我们通过机器学习技术用于发现瑕疵产品，那么它就会为制造商节省大量的资金。\n",
    "\n",
    "具体来讲，它拥有590个特征。我们看看能否对这些特征进行降维处理。\n",
    "\n",
    "对于数据的缺失值的问题，我们有一些处理方法(参考第5章)\n",
    "目前该章节处理的方案是：将缺失值NaN(Not a Number缩写)，全部用平均值来替代(如果用0来处理的策略就太差劲了)。\n",
    "```"
   ]
  },
  {
   "cell_type": "code",
   "execution_count": 15,
   "metadata": {},
   "outputs": [],
   "source": [
    "def data_preparing():\n",
    "    data = np.loadtxt('/mnt/data1/workspace/AI/data/机器学习/13.PCA/secom.data')\n",
    "    _, n_features = data.shape\n",
    "    # 每个特征的NaN值用均值替代\n",
    "    for i in range(n_features):\n",
    "        nan_indices = np.isnan(data[:, i])\n",
    "        mean_data = np.mean(data[~nan_indices, i])\n",
    "        data[nan_indices, i] = mean_data\n",
    "        \n",
    "#         # 标准化\n",
    "#         std = data[:, i].std()\n",
    "#         if std == 0:\n",
    "#             data[:, i] = 0\n",
    "#         else:\n",
    "#             data[:, i] = (data[:, i] - mean_data) / std\n",
    "    return data\n",
    "\n",
    "def stand_(data):\n",
    "    _, n_features = data.shape\n",
    "    data_std = data.copy()\n",
    "    for i in range(n_features):\n",
    "        # 标准化\n",
    "        mean_data = data_std[:, i].mean()\n",
    "        std = data[:, i].std()\n",
    "        if std == 0:\n",
    "            data_std[:, i] = 0\n",
    "        else:\n",
    "            data_std[:, i] = (data_std[:, i] - mean_data) / std\n",
    "    return data_std"
   ]
  },
  {
   "cell_type": "code",
   "execution_count": 16,
   "metadata": {},
   "outputs": [],
   "source": [
    "data = data_preparing()\n",
    "data_std = stand_(data)"
   ]
  },
  {
   "cell_type": "code",
   "execution_count": 17,
   "metadata": {},
   "outputs": [
    {
     "output_type": "execute_result",
     "data": {
      "text/plain": "PCA(n_components=6)"
     },
     "metadata": {},
     "execution_count": 17
    }
   ],
   "source": [
    "from sklearn.decomposition import PCA\n",
    "pca = PCA(6)\n",
    "pca.fit(data_std)"
   ]
  },
  {
   "cell_type": "code",
   "execution_count": 18,
   "metadata": {},
   "outputs": [
    {
     "output_type": "execute_result",
     "data": {
      "text/plain": "array([0.5925, 0.2412, 0.0915, 0.023 , 0.0146, 0.0052])"
     },
     "metadata": {},
     "execution_count": 18
    }
   ],
   "source": [
    "pca.explained_variance_ratio_"
   ]
  },
  {
   "cell_type": "code",
   "execution_count": 43,
   "metadata": {},
   "outputs": [],
   "source": [
    "x1 = pca.transform(data)"
   ]
  },
  {
   "cell_type": "code",
   "execution_count": 19,
   "metadata": {},
   "outputs": [],
   "source": [
    "class PCA1:\n",
    "    # 使用特征值分解的方法\n",
    "    def __init__(self, n_components):\n",
    "        self.n_components = n_components\n",
    "    \n",
    "    def fit(self, X):\n",
    "        # 使用特征值分解的方法\n",
    "        # X array-like shape(n_samples, n_features)\n",
    "        # 相关矩阵\n",
    "        n_samples, n_features = X.shape\n",
    "        # 规范化时 除以n, 这里也除以n\n",
    "        R = np.dot(X.T, X) / n_features  # n_features * n_features\n",
    "\n",
    "        # 求相关矩阵R的k个特征值和k个单位特征向量\n",
    "        eigenvalues_, eigenvectors_ = np.linalg.eig(R)\n",
    "        \n",
    "        self.eigenvalues_ = np.real(eigenvalues_)\n",
    "        self.eigenvectors_ = np.real(eigenvectors_)\n",
    "        \n",
    "        # 第k主成分的方差\n",
    "        self.explained_variance_ = self.eigenvalues_\n",
    "        # 方差贡献率\n",
    "        self.explained_variance_ratio_ = self.eigenvalues_ / np.sum(self.eigenvalues_)\n",
    "        \n",
    "    def fit_transform(self, X):\n",
    "        # X array-like shape(n_samples, n_features)\n",
    "        self.fit(X)\n",
    "        return self.transform(X)\n",
    "    \n",
    "    def transform(self, X):\n",
    "        # k*n_features  n_features*n_samples \n",
    "        return np.dot(self.eigenvectors_[:, :self.n_components].T, X.T)"
   ]
  },
  {
   "cell_type": "code",
   "execution_count": 20,
   "metadata": {},
   "outputs": [
    {
     "output_type": "execute_result",
     "data": {
      "text/plain": "array([[ 1.6883,  2.2321, -0.4147, ...,  1.1219,  1.1428, -2.0069],\n       [-2.8817, -0.7943, -1.1289, ...,  1.4987,  3.1285,  2.8508],\n       [-3.7875, -2.8072, -1.2519, ...,  1.2691,  3.4476,  2.332 ],\n       [-2.6559, -2.0989, -0.4541, ...,  1.1545,  3.2299,  3.905 ],\n       [ 0.651 ,  0.6133, -0.3436, ...,  0.4895, -0.4285, -0.8127],\n       [-1.1792, -1.5667,  2.2607, ..., -2.162 ,  3.0725,  3.8516]])"
     },
     "metadata": {},
     "execution_count": 20
    }
   ],
   "source": [
    "pca1 = PCA1(n_components=6)\n",
    "pca1.fit_transform(data_std)"
   ]
  },
  {
   "cell_type": "code",
   "execution_count": 21,
   "metadata": {},
   "outputs": [
    {
     "output_type": "execute_result",
     "data": {
      "text/plain": "0.925416407778522"
     },
     "metadata": {},
     "execution_count": 21
    }
   ],
   "source": [
    "pca1.explained_variance_ratio_[:150].sum()"
   ]
  },
  {
   "cell_type": "code",
   "execution_count": 22,
   "metadata": {},
   "outputs": [
    {
     "output_type": "execute_result",
     "data": {
      "text/plain": "array([[ 0.0059,  0.0242,  0.0089,  0.0088, -0.0148, -0.0135],\n       [ 0.    , -0.0127,  0.0034,  0.0081,  0.0123,  0.0046],\n       [ 0.0039, -0.0093,  0.008 ,  0.0135, -0.0011, -0.0003],\n       ...,\n       [ 0.0004, -0.0215, -0.0023,  0.0114,  0.0013,  0.04  ],\n       [ 0.0001, -0.0178, -0.0025,  0.011 ,  0.0031,  0.036 ],\n       [-0.015 , -0.0177,  0.0093,  0.0034, -0.008 ,  0.0223]])"
     },
     "metadata": {},
     "execution_count": 22
    }
   ],
   "source": [
    "pca1.eigenvectors_[:, :6]"
   ]
  },
  {
   "cell_type": "code",
   "execution_count": 23,
   "metadata": {},
   "outputs": [],
   "source": [
    "class PCA2:\n",
    "    # 奇异值分解\n",
    "    def __init__(self, n_components):\n",
    "        self.n_components = n_components\n",
    "    def fit(self, X):\n",
    "        n_samples, n_features = X.shape\n",
    "        X_ = X / np.sqrt(n_samples)\n",
    "        U, Sigma, Vt = np.linalg.svd(X_)\n",
    "        \n",
    "        self.eigenvalues_ = Sigma ** 2\n",
    "        self.eigenvectors_ = Vt\n",
    "        # 第k主成分的方差\n",
    "        self.explained_variance_ = self.eigenvalues_\n",
    "        # 方差贡献率\n",
    "        self.explained_variance_ratio_ = self.eigenvalues_ / np.sum(self.eigenvalues_)\n",
    "    \n",
    "    def fit_transform(self, X):\n",
    "        # X array-like shape(n_samples, n_features)\n",
    "        self.fit(X)\n",
    "        return self.transform(X)\n",
    "    \n",
    "    def transform(self, X):\n",
    "        # k*n_features  n_features*n_samples \n",
    "        return np.dot(self.eigenvectors_[:, :self.n_components], X.T)"
   ]
  },
  {
   "cell_type": "code",
   "execution_count": 24,
   "metadata": {},
   "outputs": [],
   "source": [
    "pca2 = PCA2(6)\n",
    "pca2.fit(data_std) "
   ]
  },
  {
   "cell_type": "code",
   "execution_count": 25,
   "metadata": {},
   "outputs": [
    {
     "output_type": "execute_result",
     "data": {
      "text/plain": "array([0.0556, 0.0362, 0.0282, 0.0253, 0.022 , 0.0208])"
     },
     "metadata": {},
     "execution_count": 25
    }
   ],
   "source": [
    "pca2.explained_variance_ratio_[:6]"
   ]
  },
  {
   "cell_type": "code",
   "execution_count": 26,
   "metadata": {},
   "outputs": [
    {
     "output_type": "execute_result",
     "data": {
      "text/plain": "array([[-0.0059, -0.    , -0.0039,  0.0024,  0.0008, -0.    ],\n       [ 0.0242, -0.0127, -0.0093,  0.033 ,  0.0086,  0.    ],\n       [ 0.0089,  0.0034,  0.008 ,  0.0254,  0.0213, -0.    ],\n       ...,\n       [ 0.    , -0.    ,  0.    , -0.    ,  0.    , -0.    ],\n       [ 0.    , -0.    ,  0.    , -0.    , -0.    ,  0.    ],\n       [ 0.    ,  0.    ,  0.    ,  0.    ,  0.    ,  0.1255]])"
     },
     "metadata": {},
     "execution_count": 26
    }
   ],
   "source": [
    "pca2.eigenvectors_[:, :6]"
   ]
  },
  {
   "cell_type": "code",
   "execution_count": null,
   "metadata": {},
   "outputs": [],
   "source": [
    "x2 = pca2.transform(data)"
   ]
  },
  {
   "cell_type": "markdown",
   "metadata": {},
   "source": [
    "## 中心矩阵\n",
    "$$H = E_N - \\frac 1 N  1_N 1_N^T$$\n",
    "$$H^n = H$$\n",
    "$HX$ 就是X 减去均值后的结果, 中性化\n",
    "\n",
    "协方差矩阵 \n",
    "$$S = \\frac 1 N X^THX$$"
   ]
  },
  {
   "cell_type": "code",
   "execution_count": 35,
   "metadata": {},
   "outputs": [
    {
     "output_type": "execute_result",
     "data": {
      "text/plain": "(1567, 590)"
     },
     "metadata": {},
     "execution_count": 35
    }
   ],
   "source": [
    "n, p = data.shape\n",
    "n, p"
   ]
  },
  {
   "cell_type": "code",
   "execution_count": 36,
   "metadata": {},
   "outputs": [],
   "source": [
    "# 中心矩阵 H \n",
    "E = np.eye(n)\n",
    "one = np.ones((n, 1))\n",
    "\n",
    "H = E - 1/ n * one @ one.T"
   ]
  },
  {
   "cell_type": "code",
   "execution_count": 37,
   "metadata": {},
   "outputs": [
    {
     "output_type": "execute_result",
     "data": {
      "text/plain": "(1567, 1567)"
     },
     "metadata": {},
     "execution_count": 37
    }
   ],
   "source": [
    "H.shape"
   ]
  },
  {
   "cell_type": "code",
   "execution_count": 39,
   "metadata": {},
   "outputs": [
    {
     "output_type": "execute_result",
     "data": {
      "text/plain": "(590, 590)"
     },
     "metadata": {},
     "execution_count": 39
    }
   ],
   "source": [
    "S = 1 / n * data.T @ H @ data\n",
    "S.shape"
   ]
  },
  {
   "cell_type": "code",
   "execution_count": 40,
   "metadata": {},
   "outputs": [],
   "source": [
    "# 最S特征值分解\n",
    "\n",
    "eigenvalues_, eigenvectors_ = np.linalg.eig(S)"
   ]
  },
  {
   "cell_type": "code",
   "execution_count": 45,
   "metadata": {},
   "outputs": [
    {
     "output_type": "execute_result",
     "data": {
      "text/plain": "array([0.5925, 0.2412, 0.0915, 0.023 , 0.0146, 0.0052])"
     },
     "metadata": {},
     "execution_count": 45
    }
   ],
   "source": [
    "# 方差贡献率\n",
    "rato = eigenvalues_[:6] / np.sum(eigenvalues_)\n",
    "rato"
   ]
  },
  {
   "cell_type": "code",
   "execution_count": 48,
   "metadata": {},
   "outputs": [
    {
     "output_type": "execute_result",
     "data": {
      "text/plain": "array([0.5925, 0.8338, 0.9253, 0.9483, 0.9629, 0.9681, 0.9713, 0.9744,\n       0.9771, 0.9794, 0.9816, 0.9836, 0.9853, 0.9866, 0.9878, 0.9889,\n       0.99  , 0.991 , 0.9919, 0.9927])"
     },
     "metadata": {},
     "execution_count": 48
    }
   ],
   "source": [
    "# 累计方差贡献 率\n",
    "(np.cumsum(eigenvalues_)/ np.sum(eigenvalues_))[:20]"
   ]
  },
  {
   "cell_type": "code",
   "execution_count": 51,
   "metadata": {},
   "outputs": [
    {
     "output_type": "execute_result",
     "data": {
      "text/plain": "1.0"
     },
     "metadata": {},
     "execution_count": 51
    }
   ],
   "source": [
    "np.linalg.norm(eigenvectors_[:, 0])"
   ]
  },
  {
   "cell_type": "code",
   "execution_count": 58,
   "metadata": {},
   "outputs": [
    {
     "output_type": "execute_result",
     "data": {
      "text/plain": "(590, 590)"
     },
     "metadata": {},
     "execution_count": 58
    }
   ],
   "source": [
    "eigenvectors_.shape"
   ]
  },
  {
   "cell_type": "code",
   "execution_count": 67,
   "metadata": {},
   "outputs": [],
   "source": [
    "def scale(p):\n",
    "    return (p - np.mean(p)) / np.std(p)"
   ]
  },
  {
   "cell_type": "code",
   "execution_count": 59,
   "metadata": {},
   "outputs": [
    {
     "output_type": "execute_result",
     "data": {
      "text/plain": "array([ -336.0525, -3653.2514, -2365.207 , ..., -1698.7315, -1248.9085,\n       -1957.0754])"
     },
     "metadata": {},
     "execution_count": 59
    }
   ],
   "source": [
    "# 第一主成分轴数据\n",
    "data @ eigenvectors_[:, 0]"
   ]
  },
  {
   "cell_type": "code",
   "execution_count": 69,
   "metadata": {},
   "outputs": [
    {
     "output_type": "execute_result",
     "data": {
      "text/plain": "array([ 0.0406,  0.0567,  0.0619, -0.0065,  0.0594,  0.0561,  0.058 ,\n        0.0561,  0.0561,  0.0561])"
     },
     "metadata": {},
     "execution_count": 69
    }
   ],
   "source": [
    "scale(eigenvectors_[:, 0])[:10]"
   ]
  },
  {
   "cell_type": "code",
   "execution_count": 73,
   "metadata": {},
   "outputs": [
    {
     "output_type": "execute_result",
     "data": {
      "text/plain": "-1.4051260155412137e-16"
     },
     "metadata": {},
     "execution_count": 73
    }
   ],
   "source": [
    "np.dot(eigenvectors_[:, 0], eigenvectors_[:, 2])"
   ]
  },
  {
   "cell_type": "code",
   "execution_count": null,
   "metadata": {},
   "outputs": [],
   "source": []
  },
  {
   "cell_type": "code",
   "execution_count": 61,
   "metadata": {},
   "outputs": [],
   "source": [
    "# 对 HX 做奇异值分解\n",
    "\n",
    "u, sigma, vt = np.linalg.svd(H @ data)"
   ]
  },
  {
   "cell_type": "code",
   "execution_count": 62,
   "metadata": {},
   "outputs": [
    {
     "output_type": "execute_result",
     "data": {
      "text/plain": "array([0.5925, 0.2412, 0.0915, 0.023 , 0.0146, 0.0052, 0.0032, 0.0031,\n       0.0026, 0.0023, 0.0022, 0.0021, 0.0017, 0.0013, 0.0012, 0.0011,\n       0.0011, 0.0009, 0.0009, 0.0009])"
     },
     "metadata": {},
     "execution_count": 62
    }
   ],
   "source": [
    "# 方差贡献率\n",
    "(sigma ** 2 / np.sum(sigma ** 2))[:20]"
   ]
  },
  {
   "cell_type": "code",
   "execution_count": null,
   "metadata": {},
   "outputs": [],
   "source": []
  },
  {
   "cell_type": "code",
   "execution_count": 64,
   "metadata": {},
   "outputs": [
    {
     "output_type": "execute_result",
     "data": {
      "text/plain": "(590, 590)"
     },
     "metadata": {},
     "execution_count": 64
    }
   ],
   "source": [
    "vt.shape"
   ]
  },
  {
   "cell_type": "code",
   "execution_count": 71,
   "metadata": {},
   "outputs": [
    {
     "output_type": "execute_result",
     "data": {
      "text/plain": "array([ 0.0406,  0.0567,  0.0619, -0.0065,  0.0594,  0.0561,  0.058 ,\n        0.0561,  0.0561,  0.0561])"
     },
     "metadata": {},
     "execution_count": 71
    }
   ],
   "source": [
    "# 主成分: v的前k列, vt的前k行  \n",
    "scale(vt[0, :])[:10]"
   ]
  },
  {
   "cell_type": "code",
   "execution_count": null,
   "metadata": {},
   "outputs": [],
   "source": []
  }
 ],
 "metadata": {
  "kernelspec": {
   "display_name": "Python 3.7.6 64-bit ('base': conda)",
   "language": "python",
   "name": "python_defaultSpec_1597131936121"
  },
  "language_info": {
   "codemirror_mode": {
    "name": "ipython",
    "version": 3
   },
   "file_extension": ".py",
   "mimetype": "text/x-python",
   "name": "python",
   "nbconvert_exporter": "python",
   "pygments_lexer": "ipython3",
   "version": "3.7.4-final"
  }
 },
 "nbformat": 4,
 "nbformat_minor": 2
}