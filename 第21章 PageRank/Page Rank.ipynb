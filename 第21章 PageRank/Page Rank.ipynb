{
 "metadata": {
  "language_info": {
   "codemirror_mode": {
    "name": "ipython",
    "version": 3
   },
   "file_extension": ".py",
   "mimetype": "text/x-python",
   "name": "python",
   "nbconvert_exporter": "python",
   "pygments_lexer": "ipython3",
   "version": 3
  },
  "orig_nbformat": 2,
  "kernelspec": {
   "name": "python_defaultSpec_1596968884898",
   "display_name": "Python 3.7.6 64-bit ('base': conda)"
  }
 },
 "nbformat": 4,
 "nbformat_minor": 2,
 "cells": [
  {
   "cell_type": "code",
   "execution_count": 1,
   "metadata": {},
   "outputs": [],
   "source": [
    "import numpy as np\n"
   ]
  },
  {
   "cell_type": "code",
   "execution_count": 2,
   "metadata": {},
   "outputs": [
    {
     "output_type": "execute_result",
     "data": {
      "text/plain": "array([[0.        , 0.5       , 1.        , 0.        ],\n       [0.33333333, 0.        , 0.        , 0.5       ],\n       [0.33333333, 0.        , 0.        , 0.5       ],\n       [0.33333333, 0.5       , 0.        , 0.        ]])"
     },
     "metadata": {},
     "execution_count": 2
    }
   ],
   "source": [
    "# 概率转移矩阵 \n",
    "# j列和为1, 表示转移到各个行i的概率(出度的倒数)\n",
    "# 随机矩阵 每行或每列的值的和为1\n",
    "M = np.array([\n",
    "    [0, 0.5, 1, 0],\n",
    "    [1/3, 0, 0, 1/2],\n",
    "    [1/3, 0, 0, 1/2],\n",
    "    [1/3, 1/2, 0, 0]])\n",
    "M"
   ]
  },
  {
   "cell_type": "code",
   "execution_count": 35,
   "metadata": {},
   "outputs": [],
   "source": [
    "lambda_, u = np.linalg.eig(M)\n"
   ]
  },
  {
   "cell_type": "code",
   "execution_count": 36,
   "metadata": {},
   "outputs": [
    {
     "output_type": "execute_result",
     "data": {
      "text/plain": "array([-0.5,  1. ,  0. , -0.5])"
     },
     "metadata": {},
     "execution_count": 36
    }
   ],
   "source": [
    "lambda_"
   ]
  },
  {
   "cell_type": "code",
   "execution_count": 37,
   "metadata": {},
   "outputs": [
    {
     "output_type": "execute_result",
     "data": {
      "text/plain": "array([[-0.8660254 ,  0.65465367,  0.70710678,  0.8660254 ],\n       [ 0.28867513,  0.43643578, -0.47140452, -0.28867513],\n       [ 0.28867513,  0.43643578,  0.23570226, -0.28867513],\n       [ 0.28867513,  0.43643578, -0.47140452, -0.28867513]])"
     },
     "metadata": {},
     "execution_count": 37
    }
   ],
   "source": [
    "u  # 一列为一个特征向量"
   ]
  },
  {
   "cell_type": "code",
   "execution_count": 46,
   "metadata": {},
   "outputs": [
    {
     "output_type": "execute_result",
     "data": {
      "text/plain": "array([[0.        , 0.65465367, 0.        , 0.        ],\n       [0.        , 0.43643578, 0.        , 0.        ],\n       [0.        , 0.43643578, 0.        , 0.        ],\n       [0.        , 0.43643578, 0.        , 0.        ]])"
     },
     "metadata": {},
     "execution_count": 46
    }
   ],
   "source": [
    "u0 = np.zeros_like(u)\n",
    "u0[:, 1] = u[:, 1]\n",
    "u0"
   ]
  },
  {
   "cell_type": "code",
   "execution_count": 56,
   "metadata": {},
   "outputs": [
    {
     "output_type": "execute_result",
     "data": {
      "text/plain": "array([-6.00479950e+15,  5.09175077e-01, -1.41421356e+00, -6.00479950e+15])"
     },
     "metadata": {},
     "execution_count": 56
    }
   ],
   "source": [
    "np.linalg.inv(u)[:, 1]"
   ]
  },
  {
   "cell_type": "code",
   "execution_count": 55,
   "metadata": {},
   "outputs": [
    {
     "output_type": "execute_result",
     "data": {
      "text/plain": "array([0.33333333, 0.22222222, 0.22222222, 0.22222222])"
     },
     "metadata": {},
     "execution_count": 55
    }
   ],
   "source": [
    " u0 @ np.linalg.inv(u)[:, 1]"
   ]
  },
  {
   "cell_type": "code",
   "execution_count": null,
   "metadata": {},
   "outputs": [],
   "source": []
  },
  {
   "cell_type": "code",
   "execution_count": 3,
   "metadata": {},
   "outputs": [
    {
     "output_type": "execute_result",
     "data": {
      "text/plain": "array([[0.25],\n       [0.25],\n       [0.25],\n       [0.25]])"
     },
     "metadata": {},
     "execution_count": 3
    }
   ],
   "source": [
    "R0 = np.ones(4).reshape(4, 1) / 4\n",
    "R0"
   ]
  },
  {
   "cell_type": "code",
   "execution_count": 15,
   "metadata": {},
   "outputs": [
    {
     "output_type": "execute_result",
     "data": {
      "text/plain": "array([[0.3359375 ],\n       [0.22135417],\n       [0.22135417],\n       [0.22135417]])"
     },
     "metadata": {},
     "execution_count": 15
    }
   ],
   "source": [
    "def transform(init, trans, max_iter):\n",
    "    max_iter\n",
    "    temp = init\n",
    "    for _ in range(max_iter):\n",
    "        res = trans @ temp\n",
    "        temp = res\n",
    "    return res\n",
    "transform(R0, M, 5)"
   ]
  },
  {
   "cell_type": "code",
   "execution_count": 16,
   "metadata": {},
   "outputs": [
    {
     "output_type": "execute_result",
     "data": {
      "text/plain": "array([[0.33325195],\n       [0.22224935],\n       [0.22224935],\n       [0.22224935]])"
     },
     "metadata": {},
     "execution_count": 16
    }
   ],
   "source": [
    "transform(R0, M, 10)"
   ]
  },
  {
   "cell_type": "code",
   "execution_count": 17,
   "metadata": {},
   "outputs": [
    {
     "output_type": "execute_result",
     "data": {
      "text/plain": "array([[0.07291667],\n       [0.10763889],\n       [0.10763889],\n       [0.10763889]])"
     },
     "metadata": {},
     "execution_count": 17
    }
   ],
   "source": [
    "# 不是随机矩阵, 有列为0\n",
    "M2 = np.array([\n",
    "    [0, 0.5, 0, 0],\n",
    "    [1/3, 0, 0, 1/2],\n",
    "    [1/3, 0, 0, 1/2],\n",
    "    [1/3, 1/2, 0, 0]])\n",
    "transform(R0, M2, 3)"
   ]
  },
  {
   "cell_type": "code",
   "execution_count": 18,
   "metadata": {},
   "outputs": [
    {
     "output_type": "execute_result",
     "data": {
      "text/plain": "array([[0.0390625 ],\n       [0.05700231],\n       [0.05700231],\n       [0.05700231]])"
     },
     "metadata": {},
     "execution_count": 18
    }
   ],
   "source": [
    "transform(R0, M2, 5)"
   ]
  },
  {
   "cell_type": "code",
   "execution_count": 21,
   "metadata": {},
   "outputs": [
    {
     "output_type": "execute_result",
     "data": {
      "text/plain": "array([[0.00165099],\n       [0.00240619],\n       [0.00240619],\n       [0.00240619]])"
     },
     "metadata": {},
     "execution_count": 21
    }
   ],
   "source": [
    "transform(R0, M2, 15)  # 各个节点的概率为0"
   ]
  },
  {
   "cell_type": "markdown",
   "metadata": {},
   "source": [
    "# PageRank的一般定义\n",
    "\n",
    "$$\n",
    "R = dMR + \\frac {1-d}{n}\\bf1\n",
    "$$\n",
    "其中 $d (0 \\leq d \\leq 1)$是系数, 称为`阻尼因子`(damping factor), $R$是n为向量, $\\bf1$是所有分量为1的n维向量"
   ]
  },
  {
   "cell_type": "code",
   "execution_count": 22,
   "metadata": {},
   "outputs": [
    {
     "output_type": "execute_result",
     "data": {
      "text/plain": "array([[1.],\n       [1.],\n       [1.],\n       [1.]])"
     },
     "metadata": {},
     "execution_count": 22
    }
   ],
   "source": [
    "one = np.ones_like(R0)\n",
    "one"
   ]
  },
  {
   "cell_type": "code",
   "execution_count": 30,
   "metadata": {},
   "outputs": [],
   "source": [
    "def transform2(init, trans, d, max_iter):\n",
    "    one = np.ones_like(init) / len(init)\n",
    "    temp = init\n",
    "    for _ in range(max_iter):\n",
    "        temp = d * trans @ temp + (1 - d) * one\n",
    "    return temp\n"
   ]
  },
  {
   "cell_type": "code",
   "execution_count": 31,
   "metadata": {},
   "outputs": [
    {
     "output_type": "execute_result",
     "data": {
      "text/plain": "array([[0.32142857],\n       [0.22619048],\n       [0.22619048],\n       [0.22619048]])"
     },
     "metadata": {},
     "execution_count": 31
    }
   ],
   "source": [
    "transform2(R0, M, 0.8, 20)"
   ]
  },
  {
   "cell_type": "code",
   "execution_count": 32,
   "metadata": {},
   "outputs": [
    {
     "output_type": "execute_result",
     "data": {
      "text/plain": "array([[0.10135339],\n       [0.12838135],\n       [0.12838135],\n       [0.12838135]])"
     },
     "metadata": {},
     "execution_count": 32
    }
   ],
   "source": [
    "transform2(R0, M2, 0.8, 20)"
   ]
  },
  {
   "cell_type": "code",
   "execution_count": 33,
   "metadata": {},
   "outputs": [
    {
     "output_type": "execute_result",
     "data": {
      "text/plain": "array([[0.10135339],\n       [0.12838135],\n       [0.64188392],\n       [0.12838135]])"
     },
     "metadata": {},
     "execution_count": 33
    }
   ],
   "source": [
    "M3 = np.array([\n",
    "    [0, 0.5, 0, 0],\n",
    "    [1/3, 0, 0, 1/2],\n",
    "    [1/3, 0, 1, 1/2],\n",
    "    [1/3, 1/2, 0, 0]])\n",
    "transform2(R0, M3, 0.8, 20)"
   ]
  },
  {
   "cell_type": "code",
   "execution_count": 107,
   "metadata": {},
   "outputs": [],
   "source": [
    "def transform_power(x0, trans, d, max_iter, tol):\n",
    "    E = np.ones_like(trans)\n",
    "    x_last = x0\n",
    "    for i in range(max_iter):\n",
    "        A = d * trans + (1-d) / len(x0) * E\n",
    "        y = A @ x_last\n",
    "        # 绝对值最大的\n",
    "        x = y / np.linalg.norm(y, ord=np.inf)\n",
    "        if np.linalg.norm(x - x_last) < tol:\n",
    "            print(i)\n",
    "            break\n",
    "        x_last = x\n",
    "    \n",
    "    x = x / np.sum(x)\n",
    "    return x"
   ]
  },
  {
   "cell_type": "code",
   "execution_count": 108,
   "metadata": {
    "tags": []
   },
   "outputs": [
    {
     "output_type": "stream",
     "name": "stdout",
     "text": "14\n"
    },
    {
     "output_type": "execute_result",
     "data": {
      "text/plain": "array([[0.3878706 ],\n       [0.21474832],\n       [0.39738108]])"
     },
     "metadata": {},
     "execution_count": 108
    }
   ],
   "source": [
    "M = np.array([\n",
    "    [0, 0, 1],\n",
    "    [1/2, 0, 0],\n",
    "    [1/2, 1, 0]\n",
    "])\n",
    "x0 = np.ones((3, 1))\n",
    "pagerank = transform_power(x0, M, 0.85, 22, 0.001)\n",
    "pagerank"
   ]
  },
  {
   "cell_type": "code",
   "execution_count": 94,
   "metadata": {},
   "outputs": [],
   "source": [
    "# 代数方法矩阵求逆\n",
    "def transform_algebra(trans, d):\n",
    "    n = len(trans)\n",
    "    I = np.eye(n)\n",
    "    one = np.ones((n, 1))\n",
    "    R = np.linalg.inv(I - d*trans) @((1-d) / n * one)\n",
    "    return R"
   ]
  },
  {
   "cell_type": "code",
   "execution_count": 95,
   "metadata": {},
   "outputs": [
    {
     "output_type": "execute_result",
     "data": {
      "text/plain": "array([[0.38778971],\n       [0.21481063],\n       [0.39739966]])"
     },
     "metadata": {},
     "execution_count": 95
    }
   ],
   "source": [
    "pagerank = transform_algebra(M, 0.85)\n",
    "pagerank"
   ]
  },
  {
   "cell_type": "markdown",
   "metadata": {},
   "source": [
    "可供参考\n",
    "\n",
    "https://blog.csdn.net/weixin_43378396/article/details/90322422\n",
    "\n",
    "https://blog.csdn.net/hguisu/article/details/7996185"
   ]
  }
 ]
}