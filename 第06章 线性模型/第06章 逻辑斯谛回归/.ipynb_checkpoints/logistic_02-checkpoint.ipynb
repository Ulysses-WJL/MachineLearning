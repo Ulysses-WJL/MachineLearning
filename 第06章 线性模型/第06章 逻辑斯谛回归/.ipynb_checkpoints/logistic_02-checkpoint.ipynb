{
 "cells": [
  {
   "cell_type": "code",
   "execution_count": 1,
   "metadata": {},
   "outputs": [],
   "source": [
    "import numpy as np\n",
    "import pandas as pd\n",
    "import matplotlib.pyplot as plt\n",
    "np.random.seed(12345)\n",
    "plt.rc('figure', figsize=(12, 10))\n",
    "PREVIOUS_MAX_ROWS = pd.options.display.max_rows\n",
    "pd.options.display.max_rows = 20\n",
    "np.set_printoptions(precision=4, threshold=15,suppress=True)"
   ]
  },
  {
   "cell_type": "markdown",
   "metadata": {},
   "source": [
    "## 项目案例2: 从疝气病症预测病马的死亡率\n",
    "### 项目概述\n",
    "\n",
    "使用 Logistic 回归来预测患有疝病的马的存活问题。疝病是描述马胃肠痛的术语。然而，这种病不一定源自马的胃肠问题，其他问题也可能引发马疝病。这个数据集中包含了医院检测马疝病的一些指标，有的指标比较主观，有的指标难以测量，例如马的疼痛级别。\n",
    "```\n",
    "收集数据: 给定数据文件\n",
    "准备数据: 用 Python 解析文本文件并填充缺失值\n",
    "分析数据: 可视化并观察数据\n",
    "训练算法: 使用优化算法，找到最佳的系数\n",
    "测试算法: 为了量化回归的效果，需要观察错误率。根据错误率决定是否回退到训练阶段，\n",
    "         通过改变迭代的次数和步长的参数来得到更好的回归系数\n",
    "使用算法: 实现一个简单的命令行程序来收集马的症状并输出预测结果\n",
    "```"
   ]
  },
  {
   "cell_type": "markdown",
   "metadata": {},
   "source": [
    "### 准备数据:处理数据中的缺失值\n",
    "\n",
    "当数据出现缺失时, 一些可选的做法：\n",
    "* 使用可用特征的均值来填补缺失值；\n",
    "* 使用特殊值来填补缺失值，如 -1；\n",
    "* 忽略有缺失值的样本；\n",
    "* 使用有相似样本的均值添补缺失值；\n",
    "* 使用另外的机器学习算法预测缺失值。\n",
    "\n",
    "对于本例中的缺失数据的处理:\n",
    "- 所有的缺失值都必须使用实数值进行替换, 因为我们使用的 NumPy 数据类型不允许包含缺失值。我们这里选择实数 0 来替换所有缺失值，恰好能适用于 Logistic 回归。这样做的直觉在于，我们需要的是一个在更新时不会影响系数的值。回归系数的更新公式如下:\n",
    "    weights = weights + alpha * error * dataMatrix[dataIndex[randIndex]],   \n",
    "    \n",
    "    如果 dataMatrix 的某个特征对应值为 0，那么该特征的系数将不做更新，即:  \n",
    "    \n",
    "    weights = weights  \n",
    "    \n",
    "    另外，由于 Sigmoid(0) = 0.5 ，即它对结果的预测不具有任何倾向性，因此我们上述做法也不会对误差造成任何影响。基于上述原因，将缺失值用 0 代替既可以保留现有数据，也不需要对优化算法进行修改。此外，该数据集中的特征取值一般不为 0，因此在某种意义上说它也满足 “特殊值” 这个要求\n",
    "\n",
    "- 如果在测试数据集中发现了一条数据的类别标签已经缺失，那么我们的简单做法是将该条数据丢弃。这是因为类别标签与特征不同，很难确定采用某个合适的值来替换。采用 Logistic 回归进行分类时这种做法是合理的，而如果采用类似`kNN`(测量不同特征之间的距离来进行分类)的方法，则保留该条数据显得更加合理。"
   ]
  },
  {
   "cell_type": "markdown",
   "metadata": {},
   "source": [
    "### 分析数据:可视化并观察数据"
   ]
  },
  {
   "cell_type": "code",
   "execution_count": 2,
   "metadata": {},
   "outputs": [
    {
     "data": {
      "text/plain": [
       "((299, 21), (299,))"
      ]
     },
     "execution_count": 2,
     "metadata": {},
     "output_type": "execute_result"
    }
   ],
   "source": [
    "def load_data(file_name):\n",
    "    data_all = np.loadtxt(file_name, delimiter='\\t')\n",
    "    features, labels = data_all[:, :-1], data_all[:,-1]\n",
    "    return features, labels\n",
    "features, labels = load_data('HorseColicTraining.txt')\n",
    "features.shape, labels.shape"
   ]
  },
  {
   "cell_type": "code",
   "execution_count": 3,
   "metadata": {},
   "outputs": [
    {
     "data": {
      "image/png": "[encoded data removed]",
      "text/plain": [
       "<Figure size 432x288 with 1 Axes>"
      ]
     },
     "metadata": {
      "needs_background": "light"
     },
     "output_type": "display_data"
    }
   ],
   "source": [
    "def plt_data(features, labels):\n",
    "    fig = plt.figure()\n",
    "    ax = fig.add_subplot(111)\n",
    "    x = features[:, 2]\n",
    "    y = features[:, 4]\n",
    "    ax.scatter(x[np.where(labels==1)], y[np.where(labels==1)], c='r', s=20)\n",
    "    ax.scatter(x[np.where(labels==0)], y[np.where(labels==0)], c='b', s=30)\n",
    "    ax.set_xlabel('feature 2')\n",
    "    ax.set_ylabel('feature 1')  \n",
    "plt_data(features, labels)"
   ]
  },
  {
   "cell_type": "markdown",
   "metadata": {},
   "source": [
    "### 训练算法: 梯度下降算法, 找到最佳系数"
   ]
  },
  {
   "cell_type": "code",
   "execution_count": 4,
   "metadata": {},
   "outputs": [],
   "source": [
    "def sigmoid_single(inx):\n",
    "    # sigmod阶跃函数, inx输入为单个数字\n",
    "    if inx >= 0:  # 防止 inx为负数时出现极大数字\n",
    "        return 1 / (1 + np.exp(-inx))\n",
    "    else:\n",
    "        return np.exp(inx) / (1 + np.exp(inx))"
   ]
  },
  {
   "cell_type": "code",
   "execution_count": 5,
   "metadata": {},
   "outputs": [],
   "source": [
    "def classify(input_feat, weights):\n",
    "    # h = sigmoid(np.dot(input_feat, weights))  # (m,)\n",
    "#     h_list = []\n",
    "#     for z in np.nditer(np.dot(input_feat, weights)):\n",
    "#         h_list.append(sigmoid_single(z))\n",
    "    h_list = list(map(sigmoid_single, np.dot(input_feat, weights)))\n",
    "    h = np.array(h_list)\n",
    "    result = np.where(h>0.5, 1, 0)\n",
    "    return result"
   ]
  },
  {
   "cell_type": "code",
   "execution_count": 6,
   "metadata": {},
   "outputs": [],
   "source": [
    "def stoc_grad_descent(data_mat, class_labels, iter_num=150):\n",
    "    \"\"\"\n",
    "    再改进:\n",
    "    1. alpha 在每次迭代的时候都会调整\n",
    "    2. 随机选取样本拉来更新回归系数 减少周期性的波动\n",
    "    只返回最终结果\n",
    "    \"\"\"\n",
    "    m, n = data_mat.shape\n",
    "    weights = np.ones(n)\n",
    "    for j in range(iter_num):  # 在整个数据集上运行x次\n",
    "        data_index = list(range(m))  # 0, 1, ...m-1 整个训练样本序号集合\n",
    "        for i in range(m):\n",
    "            # i和j的不断增大，导致alpha的值不断减少，但是不为0\n",
    "            alpha = 4/(1+j+i) + 0.001\n",
    "            # 随机从训练样本中抽取数据 进行Cost梯度下降,\n",
    "            # 之后将这个数据从序号集合中删除\n",
    "            rand_index = int(np.random.uniform(0, len(data_index)))\n",
    "            # 一个样本的预测值\n",
    "            h = sigmoid_single(np.sum(data_mat[data_index[rand_index]]*weights))\n",
    "            error =  h - class_labels[data_index[rand_index]]\n",
    "            weights -= alpha * error * data_mat[data_index[rand_index]]\n",
    "            del(data_index[rand_index])\n",
    "    return weights"
   ]
  },
  {
   "cell_type": "code",
   "execution_count": 7,
   "metadata": {},
   "outputs": [],
   "source": [
    "def plt_weights_all(weights):\n",
    "    feature_num, iter_num = weights.shape\n",
    "    x = np.arange(iter_num)\n",
    "    f, axes = plt.subplots(feature_num // 4 +1, 4, sharex=True)  #  x行 4列\n",
    "    for i in range(feature_num):\n",
    "        y = weights[i]\n",
    "        a_x, a_y = divmod(i, 4)\n",
    "        axes[a_x, a_y].plot(x, y)\n",
    "        axes[a_x, a_y].set_ylabel(f'weight[{i}]')\n",
    "    plt.xlabel('iteration')"
   ]
  },
  {
   "cell_type": "code",
   "execution_count": 8,
   "metadata": {},
   "outputs": [
    {
     "name": "stdout",
     "output_type": "stream",
     "text": [
      "错误率:31.34%\n",
      "CPU times: user 1.95 s, sys: 8.23 ms, total: 1.96 s\n",
      "Wall time: 1.96 s\n"
     ]
    }
   ],
   "source": [
    "def test_coilr():\n",
    "    train_features, train_labels = load_data('HorseColicTraining.txt')\n",
    "    test_features, test_labels = load_data('HorseColicTest.txt')\n",
    "    weights = stoc_grad_descent(train_features, train_labels)\n",
    "    result = classify(test_features, weights)  # m*n (n,)\n",
    "    test_labels = test_labels.astype(int)  # (m,) \n",
    "    errors = test_labels ^ result  # 异或, 判断错误的为1\n",
    "    print(f\"错误率:{errors.sum()/errors.shape[0]:.2%}\")\n",
    "%time test_coilr()"
   ]
  },
  {
   "cell_type": "markdown",
   "metadata": {},
   "source": [
    "## numpy矩阵计算 vs 普通数据相乘"
   ]
  },
  {
   "cell_type": "code",
   "execution_count": 9,
   "metadata": {},
   "outputs": [
    {
     "name": "stdout",
     "output_type": "stream",
     "text": [
      "CPU times: user 14.5 ms, sys: 3.64 ms, total: 18.1 ms\n",
      "Wall time: 16.6 ms\n"
     ]
    }
   ],
   "source": [
    "a1 = np.arange(299*21).reshape(299, 21)\n",
    "a2 = np.arange(299).reshape(299, 1)\n",
    "w = np.arange(21).reshape(21, 1)\n",
    "def func0():\n",
    "    for _ in range(500):\n",
    "        np.dot(a1, w)\n",
    "        np.dot(a1.T, a2)  # \n",
    "%time func0()"
   ]
  },
  {
   "cell_type": "code",
   "execution_count": 10,
   "metadata": {},
   "outputs": [
    {
     "name": "stdout",
     "output_type": "stream",
     "text": [
      "CPU times: user 1.63 s, sys: 2.49 ms, total: 1.63 s\n",
      "Wall time: 1.63 s\n"
     ]
    }
   ],
   "source": [
    "w = np.arange(21)\n",
    "def func1():\n",
    "    for _ in range(200): \n",
    "        for j in range(299): \n",
    "            np.sum(a1[j]*w)\n",
    "            np.sum(a2[j] * a1[j])\n",
    "%time func1()"
   ]
  },
  {
   "cell_type": "markdown",
   "metadata": {},
   "source": [
    "## 学习率 learning rate\n",
    "### 学习率大小\n",
    "\n",
    "\n",
    "||学习率 大|学习率小|  \n",
    "|:----:|:----:|:----:|\n",
    "|学习速度|快|慢|\n",
    "|使用时间点|\t刚开始训练时|\t一定轮数过后|\n",
    "|副作用|1.易损失值爆炸；2.易振荡。|1.易过拟合；2.收敛速度慢。|\n",
    "\n",
    "### 学习率的设置\n",
    "在训练过程中,一般根据训练轮数设置动态变化的学习率\n",
    "- 刚开始训练时：学习率以 0.01 ~ 0.001 为宜。\n",
    "- 一定轮数过后：逐渐减缓。\n",
    "- 接近训练结束：学习速率的衰减应该在100倍以上。"
   ]
  },
  {
   "cell_type": "code",
   "execution_count": 11,
   "metadata": {},
   "outputs": [
    {
     "data": {
      "text/plain": [
       "[<matplotlib.lines.Line2D at 0x7f3b43f99520>]"
      ]
     },
     "execution_count": 11,
     "metadata": {},
     "output_type": "execute_result"
    },
    {
     "data": {
      "image/png": "[encoded data removed]",
      "text/plain": [
       "<Figure size 432x288 with 1 Axes>"
      ]
     },
     "metadata": {
      "needs_background": "light"
     },
     "output_type": "display_data"
    }
   ],
   "source": [
    "alpha_list = []\n",
    "for j in range(10):\n",
    "    for i in range(29999):  # 迭代次数 << 训练样本数量 \n",
    "        alpha = 4/(i+j+1)+0.001\n",
    "        alpha_list.append(alpha)\n",
    "y = np.array(alpha_list)\n",
    "x = np.arange(y.shape[0])\n",
    "fig = plt.figure()\n",
    "plt.plot(x, y)"
   ]
  },
  {
   "cell_type": "code",
   "execution_count": 12,
   "metadata": {},
   "outputs": [],
   "source": [
    "pd.options.display.max_rows = PREVIOUS_MAX_ROWS"
   ]
  }
 ],
 "metadata": {
  "kernelspec": {
   "display_name": "Python 3",
   "language": "python",
   "name": "python3"
  },
  "language_info": {
   "codemirror_mode": {
    "name": "ipython",
    "version": 3
   },
   "file_extension": ".py",
   "mimetype": "text/x-python",
   "name": "python",
   "nbconvert_exporter": "python",
   "pygments_lexer": "ipython3",
   "version": "3.8.0"
  }
 },
 "nbformat": 4,
 "nbformat_minor": 2
}
