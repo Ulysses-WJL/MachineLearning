{
 "cells": [
  {
   "cell_type": "code",
   "execution_count": 46,
   "metadata": {},
   "outputs": [],
   "source": [
    "import numpy as np\n",
    "import pandas as pd\n",
    "import matplotlib.pyplot as plt\n",
    "%matplotlib inline\n",
    "# np.set_printoptions(precision=4, threshold=15,suppress=True)\n",
    "pd.options.display.max_rows = 20"
   ]
  },
  {
   "cell_type": "markdown",
   "metadata": {},
   "source": [
    "**多项式朴素贝叶斯分类器**  \n",
    "多项式分布(Multinomial Distribution)是二项式分布的推广。二项式做n次伯努利实验，规定了每次试验的结果只有两个，如果现在还是做n次试验，只不过每次试验的结果可以有多m个，且m个结果发生的概率互斥且和为1，则发生其中一个结果X次的概率就是多项式分布。  \n",
    "\n",
    "多项式朴素贝叶斯的工作方式类似于高斯朴素贝叶斯，但假设这些特征是多项式分布的。 在实践中，这意味着当我们具有离散数据（例如，电影评级范围为 1 到 5）时，通常使用该分类器。\n",
    "\n",
    "分布参数由每类 y 的 $\\theta_y = (\\theta_{y_1},\\ldots,\\theta_{y_n})$ 向量决定， 式中 n 是特征的数量(对于文本分类，是词汇量的大小) $\\theta_{y_i}$ 是样本中属于类 y 中特征 i 概率 $P(x_i \\mid y)$ 。\n",
    "\n",
    "参数 $\\theta_y$ 使用平滑过的最大似然估计法来估计，即相对频率计数:\n",
    "\n",
    "$$\\hat{\\theta}{y_i} = \\frac{ N{y_i} + \\alpha}{N_y + \\alpha n}$$\n",
    "\n",
    "式中$N_{y_i} = \\sum_{x \\in T} x_i$是 训练集T中特征i在类y中出现的次数，$N_{y} = \\sum_{i=1}^{|T|} N_{y_i}$ 是类 y 中出现所有特征的计数总和。\n",
    "\n",
    "先验平滑因子 $\\alpha \\ge 0$ 为在学习样本中没有出现的特征而设计，以防在将来的计算中出现0概率输出。 把 $\\alpha = 1$ 被称为拉普拉斯平滑(Lapalce smoothing)，而 $\\alpha < 1$ 被称为Lidstone平滑方法(Lidstone smoothing)"
   ]
  },
  {
   "cell_type": "markdown",
   "metadata": {},
   "source": [
    "# 朴素贝叶斯的文本分类\n",
    "---\n",
    "使用朴素贝叶斯进行文本分类；我们将有一组带有相应类别的文本文档，我们将训练一个朴素贝叶斯算法，来学习预测新的没见过的实例的类别。这项简单的任务有许多实际应用；可能是最知名和广泛使用的**垃圾邮件过滤**。在本节中，我们将尝试使用可以从 scikit-learn 中检索的数据集，对新闻组消息进行分类。该数据集包括来自 20 个不同主题的大约 19,000 条新闻组信息，从政治和宗教到体育和科学。"
   ]
  },
  {
   "cell_type": "code",
   "execution_count": 2,
   "metadata": {},
   "outputs": [],
   "source": [
    "from sklearn.naive_bayes import MultinomialNB\n",
    "from sklearn.datasets import fetch_20newsgroups\n",
    "from sklearn.model_selection import train_test_split\n",
    "from sklearn.feature_extraction.text import CountVectorizer, HashingVectorizer, TfidfTransformer # 文本特征提取\n",
    "from sklearn.pipeline import Pipeline"
   ]
  },
  {
   "cell_type": "markdown",
   "metadata": {},
   "source": [
    "fetch_20newsgroups(data_home=None, subset=’train’, categories=None, shuffle=True, random_state=42, remove=(), download_if_missing=True)\n",
    "\n",
    "- data_home指的是数据集的地址，如果默认的话，所有的数据都会在'~/scikit_learn_data'文件夹下.   \n",
    "    cd \\site-packages\\sklearn\\datasets打开twenty_newsgroups.py文件 修改`archive_path`\n",
    "- subset就是train,test,all三种可选，分别对应训练集、测试集和所有样本。 \n",
    "- categories:是指类别，如果指定类别，就会只提取出目标类，如果是默认，则是提取所有类别出来。 \n",
    "- shuffle:是否打乱样本顺序，如果是相互独立的话。 \n",
    "- random_state:打乱顺序的随机种子 \n",
    "- remove:是一个元组，用来去除一些停用词的，例如标题引用之类的。 \n",
    "- download_if_missing: 如果数据缺失，是否去下载。"
   ]
  },
  {
   "cell_type": "code",
   "execution_count": 3,
   "metadata": {
    "scrolled": true
   },
   "outputs": [],
   "source": [
    "news = fetch_20newsgroups(subset='all')  #  [‘train’ or ‘test’, ‘all’, optional]"
   ]
  },
  {
   "cell_type": "markdown",
   "metadata": {},
   "source": [
    "返回的数据bunch  \n",
    "* bunch.data: list, length [n_samples]\n",
    "* bunch.target: array, shape [n_samples]\n",
    "* bunch.filenames: list, length [n_samples]\n",
    "* bunch.DESCR: a description of the dataset.\n",
    "* bunch.target_names: a list of categories of"
   ]
  },
  {
   "cell_type": "code",
   "execution_count": 4,
   "metadata": {},
   "outputs": [
    {
     "data": {
      "text/plain": [
       "(list, numpy.ndarray, list)"
      ]
     },
     "execution_count": 4,
     "metadata": {},
     "output_type": "execute_result"
    }
   ],
   "source": [
    "type(news.data), type(news.target), type(news.target_names)"
   ]
  },
  {
   "cell_type": "code",
   "execution_count": 5,
   "metadata": {},
   "outputs": [
    {
     "data": {
      "text/plain": [
       "['alt.atheism',\n",
       " 'comp.graphics',\n",
       " 'comp.os.ms-windows.misc',\n",
       " 'comp.sys.ibm.pc.hardware',\n",
       " 'comp.sys.mac.hardware',\n",
       " 'comp.windows.x',\n",
       " 'misc.forsale',\n",
       " 'rec.autos',\n",
       " 'rec.motorcycles',\n",
       " 'rec.sport.baseball',\n",
       " 'rec.sport.hockey',\n",
       " 'sci.crypt',\n",
       " 'sci.electronics',\n",
       " 'sci.med',\n",
       " 'sci.space',\n",
       " 'soc.religion.christian',\n",
       " 'talk.politics.guns',\n",
       " 'talk.politics.mideast',\n",
       " 'talk.politics.misc',\n",
       " 'talk.religion.misc']"
      ]
     },
     "execution_count": 5,
     "metadata": {},
     "output_type": "execute_result"
    }
   ],
   "source": [
    "news.target_names  # 新闻的类别名称"
   ]
  },
  {
   "cell_type": "code",
   "execution_count": 6,
   "metadata": {},
   "outputs": [
    {
     "data": {
      "text/plain": [
       "(\"From: Mamatha Devineni Ratnam <mr47+@andrew.cmu.edu>\\nSubject: Pens fans reactions\\nOrganization: Post Office, Carnegie Mellon, Pittsburgh, PA\\nLines: 12\\nNNTP-Posting-Host: po4.andrew.cmu.edu\\n\\n\\n\\nI am sure some bashers of Pens fans are pretty confused about the lack\\nof any kind of posts about the recent Pens massacre of the Devils. Actually,\\nI am  bit puzzled too and a bit relieved. However, I am going to put an end\\nto non-PIttsburghers' relief with a bit of praise for the Pens. Man, they\\nare killing those Devils worse than I thought. Jagr just showed you why\\nhe is much better than his regular season stats. He is also a lot\\nfo fun to watch in the playoffs. Bowman should let JAgr have a lot of\\nfun in the next couple of games since the Pens are going to beat the pulp out of Jersey anyway. I was very disappointed not to see the Islanders lose the final\\nregular season game.          PENS RULE!!!\\n\\n\",\n",
       " 'rec.sport.hockey')"
      ]
     },
     "execution_count": 6,
     "metadata": {},
     "output_type": "execute_result"
    }
   ],
   "source": [
    "news.data[0], news.target_names[news.target[0]]  # 查看第一个实例"
   ]
  },
  {
   "cell_type": "markdown",
   "metadata": {},
   "source": [
    "## 预处理数据\n",
    "---\n",
    "我们的机器学习算法只能用于数字数据，因此我们的下一步是将基于文本的数据集转换为数字数据集。目前我们只有一个特征，即消息的文本内容；我们需要一些函数，将文本转换为一组有意义的数字特征。直观地，我们可以尝试查看每个文本类别中使用的单词（或更确切地说，标记，包括数字或标点符号），并尝试表示每个类别中每个单词的频率分布。\n",
    "\n",
    "scikit-learn提供了从文本内容中提取数字特征的最常见方法，即：\n",
    "\n",
    "*   **令牌化（tokenizing）** 对每个可能的词令牌分成字符串并赋予整数形的id，例如通过使用空格和标点符号作为令牌分隔符。\n",
    "*   **统计（counting）** 每个词令牌在文档中的出现次数。\n",
    "*   **标准化（normalizing）** 在大多数的文档 / 样本中，可以减少重要的次令牌的出现次数的权重。。\n",
    "\n",
    "在该方案中，特征和样本定义如下：\n",
    "\n",
    "*   每个**单独的令牌发生频率**（标准化或不标准化）被视为一个**特征**。\n",
    "*   给定**文档**中所有的令牌频率向量被看做一个多元sample**样本**。\n",
    "\n",
    "因此，文本的集合可被表示为矩阵形式，每行对应一条文本，每列对应每个文本中出现的词令牌(如单个词)。\n",
    "\n",
    "我们称**向量化**是将文本文档集合转换为数字集合特征向量的普通方法。 这种特殊思想（令牌化，计数和归一化）被称为 **Bag of Words** 词袋 或 “Bag of n-grams” 模型。 文档由单词出现来描述，同时完全忽略文档中单词的**相对位置信息**。词袋模型是典型的 high-dimensional sparse datasets（**高维稀疏数据集**） 。 我们可以通过只在内存中保存特征向量中非 0 的部分以节省大量内存。\n",
    "\n",
    "scipy.sparse 矩阵正是能完成上述操作的数据结构，同时 scikit-learn 有对这样的数据结构的内置支持。\n",
    "\n",
    "\n",
    "`sklearn.feature_extraction.text`模块具有一些有用的工具，可以从文本文档构建数字特征向量:\n",
    "`CountVectorizer`，`HashingVectorizer`和`TfidfVectorizer`。它们之间的区别在于它们为获得数字特征而执行的计算。\n",
    "- `CountVectorizer`基本上从文本语料库中创建单词词典。然后，将每个实例转换为数字特征的向量，其中每个元素将是特定单词在文档中出现的次数的计数。\n",
    "\n",
    "- `HashingVectorizer`，则是在内存中限制并维护字典，实现了 将标记映射到特征索引的散列函数，然后计算`CountVectorizer`中的计数。\n",
    "\n",
    "- `TfidfVectorizer`的工作方式与`CountVectorizer`类似，但更高级的计算称为**词语频率逆文档频率（TF-IDF）**。这是用于测量在文档或语料库中单词的重要性的统计量。直观地说，它在当前文档中查找中更频繁的单词，与它们在整个文档集中的频率的比值。您可以将此视为一种方法，标准化结果并避免单词过于频繁而无法用于表征实例。"
   ]
  },
  {
   "cell_type": "code",
   "execution_count": 7,
   "metadata": {},
   "outputs": [
    {
     "data": {
      "text/plain": [
       "CountVectorizer()"
      ]
     },
     "execution_count": 7,
     "metadata": {},
     "output_type": "execute_result"
    }
   ],
   "source": [
    "# 对简约的文本语料库进行 tokenize（分词）和统计单词出现频数\n",
    "vectorizer = CountVectorizer()\n",
    "vectorizer"
   ]
  },
  {
   "cell_type": "code",
   "execution_count": 8,
   "metadata": {},
   "outputs": [],
   "source": [
    "corpus = [\n",
    "     'This is the first document.',\n",
    "     'This is the second second document.',\n",
    "     'And the third one.',\n",
    "     'Is this the first document?',\n",
    "]"
   ]
  },
  {
   "cell_type": "code",
   "execution_count": 9,
   "metadata": {},
   "outputs": [
    {
     "data": {
      "text/plain": [
       "<4x9 sparse matrix of type '<class 'numpy.int64'>'\n",
       "\twith 19 stored elements in Compressed Sparse Row format>"
      ]
     },
     "execution_count": 9,
     "metadata": {},
     "output_type": "execute_result"
    }
   ],
   "source": [
    "X = vectorizer.fit_transform(corpus)\n",
    "X"
   ]
  },
  {
   "cell_type": "markdown",
   "metadata": {},
   "source": [
    "默认配置通过提取至少 2 个字母的单词来对 string 进行分词。做这一步的函数可以显式地被调用:"
   ]
  },
  {
   "cell_type": "code",
   "execution_count": 10,
   "metadata": {},
   "outputs": [
    {
     "data": {
      "text/plain": [
       "functools.partial(<function _analyze at 0x7fd5b2eb4200>, ngrams=<bound method _VectorizerMixin._word_ngrams of CountVectorizer()>, tokenizer=<built-in method findall of re.Pattern object at 0x7fd5b0bd2030>, preprocessor=functools.partial(<function _preprocess at 0x7fd5b2e5e200>, accent_function=None, lower=True), decoder=<bound method _VectorizerMixin.decode of CountVectorizer()>, stop_words=None)"
      ]
     },
     "execution_count": 10,
     "metadata": {},
     "output_type": "execute_result"
    }
   ],
   "source": [
    "analyze = vectorizer.build_analyzer()\n",
    "analyze"
   ]
  },
  {
   "cell_type": "code",
   "execution_count": 11,
   "metadata": {},
   "outputs": [
    {
     "data": {
      "text/plain": [
       "['this', 'is', 'text', 'document', 'to', 'analyze']"
      ]
     },
     "execution_count": 11,
     "metadata": {},
     "output_type": "execute_result"
    }
   ],
   "source": [
    "analyze(\"This is a text document to analyze.\")"
   ]
  },
  {
   "cell_type": "markdown",
   "metadata": {},
   "source": [
    "analyzer 在拟合过程中找到的每个 term（项）都会被分配一个唯一的整数索引，对应于 resulting matrix（结果矩阵）中的一列。此列的一些说明可以被检索如下:"
   ]
  },
  {
   "cell_type": "code",
   "execution_count": 12,
   "metadata": {},
   "outputs": [
    {
     "data": {
      "text/plain": [
       "['and', 'document', 'first', 'is', 'one', 'second', 'the', 'third', 'this']"
      ]
     },
     "execution_count": 12,
     "metadata": {},
     "output_type": "execute_result"
    }
   ],
   "source": [
    "vectorizer.get_feature_names()"
   ]
  },
  {
   "cell_type": "code",
   "execution_count": 13,
   "metadata": {},
   "outputs": [
    {
     "name": "stdout",
     "output_type": "stream",
     "text": [
      "[[0 1 1 1 0 0 1 0 1]\n",
      " [0 1 0 1 0 2 1 0 1]\n",
      " [1 0 0 0 1 0 1 1 0]\n",
      " [0 1 1 1 0 0 1 0 1]]\n"
     ]
    }
   ],
   "source": [
    "print(X.toarray())  # 每行为一个向量, 每一列代表这个feature是否出现和次数"
   ]
  },
  {
   "cell_type": "markdown",
   "metadata": {},
   "source": [
    "从 feature 名称到 column index（列索引） 的逆映射存储在 vocabulary_ 属性中:"
   ]
  },
  {
   "cell_type": "code",
   "execution_count": 14,
   "metadata": {},
   "outputs": [
    {
     "data": {
      "text/plain": [
       "{'this': 8,\n",
       " 'is': 3,\n",
       " 'the': 6,\n",
       " 'first': 2,\n",
       " 'document': 1,\n",
       " 'second': 5,\n",
       " 'and': 0,\n",
       " 'third': 7,\n",
       " 'one': 4}"
      ]
     },
     "execution_count": 14,
     "metadata": {},
     "output_type": "execute_result"
    }
   ],
   "source": [
    "vectorizer.vocabulary_"
   ]
  },
  {
   "cell_type": "markdown",
   "metadata": {},
   "source": [
    "因此，在未来对 transform 方法的调用中，在 training corpus （训练语料库）中没有看到的单词将被完全忽略:"
   ]
  },
  {
   "cell_type": "code",
   "execution_count": 15,
   "metadata": {},
   "outputs": [
    {
     "data": {
      "text/plain": [
       "array([[0, 0, 0, 0, 0, 0, 0, 0, 0]])"
      ]
     },
     "execution_count": 15,
     "metadata": {},
     "output_type": "execute_result"
    }
   ],
   "source": [
    "vectorizer.transform([\"what does't kill you makes you stronger\"]).toarray()"
   ]
  },
  {
   "cell_type": "markdown",
   "metadata": {},
   "source": [
    "请注意，在前面的 corpus（语料库）中，第一个和最后一个文档具有完全相同的词，因为被编码成相同的向量。 特别是我们丢失了最后一个文件是一个疑问的形式的信息。为了防止词组顺序颠倒，除了提取一元模型 1-grams（个别词）之外，我们还可以提取 2-grams 的单词:"
   ]
  },
  {
   "cell_type": "code",
   "execution_count": 23,
   "metadata": {},
   "outputs": [],
   "source": [
    "bigram_vectorizer = CountVectorizer(ngram_range=(1, 2), token_pattern=r'\\b\\w+\\b', min_df=1)  # \\b 匹配空字符串但只在单词开始或结尾的位置"
   ]
  },
  {
   "cell_type": "code",
   "execution_count": 26,
   "metadata": {},
   "outputs": [
    {
     "data": {
      "text/plain": [
       "['bi', 'grams', 'are', 'cool', 'bi grams', 'grams are', 'are cool']"
      ]
     },
     "execution_count": 26,
     "metadata": {},
     "output_type": "execute_result"
    }
   ],
   "source": [
    "analyze = bigram_vectorizer.build_analyzer()\n",
    "analyze('Bi-grams are cool!')  # 除了一元模型, 还有2个词连着取的"
   ]
  },
  {
   "cell_type": "markdown",
   "metadata": {},
   "source": [
    "由 vectorizer（向量化器）提取的 vocabulary（词汇）因此会变得更大，同时可以在定位模式时消除歧义:\n",
    "\n"
   ]
  },
  {
   "cell_type": "code",
   "execution_count": 27,
   "metadata": {},
   "outputs": [
    {
     "data": {
      "text/plain": [
       "array([[0, 0, 1, 1, 1, 1, 1, 0, 0, 0, 0, 0, 1, 1, 0, 0, 0, 0, 1, 1, 0],\n",
       "       [0, 0, 1, 0, 0, 1, 1, 0, 0, 2, 1, 1, 1, 0, 1, 0, 0, 0, 1, 1, 0],\n",
       "       [1, 1, 0, 0, 0, 0, 0, 0, 1, 0, 0, 0, 1, 0, 0, 1, 1, 1, 0, 0, 0],\n",
       "       [0, 0, 1, 1, 1, 1, 0, 1, 0, 0, 0, 0, 1, 1, 0, 0, 0, 0, 1, 0, 1]])"
      ]
     },
     "execution_count": 27,
     "metadata": {},
     "output_type": "execute_result"
    }
   ],
   "source": [
    "X_2 = bigram_vectorizer.fit_transform(corpus).toarray()\n",
    "X_2"
   ]
  },
  {
   "cell_type": "code",
   "execution_count": 28,
   "metadata": {},
   "outputs": [
    {
     "data": {
      "text/plain": [
       "['and',\n",
       " 'and the',\n",
       " 'document',\n",
       " 'first',\n",
       " 'first document',\n",
       " 'is',\n",
       " 'is the',\n",
       " 'is this',\n",
       " 'one',\n",
       " 'second',\n",
       " 'second document',\n",
       " 'second second',\n",
       " 'the',\n",
       " 'the first',\n",
       " 'the second',\n",
       " 'the third',\n",
       " 'third',\n",
       " 'third one',\n",
       " 'this',\n",
       " 'this is',\n",
       " 'this the']"
      ]
     },
     "execution_count": 28,
     "metadata": {},
     "output_type": "execute_result"
    }
   ],
   "source": [
    "bigram_vectorizer.get_feature_names()"
   ]
  },
  {
   "cell_type": "code",
   "execution_count": 29,
   "metadata": {},
   "outputs": [
    {
     "data": {
      "text/plain": [
       "{'this': 18,\n",
       " 'is': 5,\n",
       " 'the': 12,\n",
       " 'first': 3,\n",
       " 'document': 2,\n",
       " 'this is': 19,\n",
       " 'is the': 6,\n",
       " 'the first': 13,\n",
       " 'first document': 4,\n",
       " 'second': 9,\n",
       " 'the second': 14,\n",
       " 'second second': 11,\n",
       " 'second document': 10,\n",
       " 'and': 0,\n",
       " 'third': 16,\n",
       " 'one': 8,\n",
       " 'and the': 1,\n",
       " 'the third': 15,\n",
       " 'third one': 17,\n",
       " 'is this': 7,\n",
       " 'this the': 20}"
      ]
     },
     "execution_count": 29,
     "metadata": {},
     "output_type": "execute_result"
    }
   ],
   "source": [
    "bigram_vectorizer.vocabulary_"
   ]
  },
  {
   "cell_type": "code",
   "execution_count": 30,
   "metadata": {},
   "outputs": [
    {
     "data": {
      "text/plain": [
       "7"
      ]
     },
     "execution_count": 30,
     "metadata": {},
     "output_type": "execute_result"
    }
   ],
   "source": [
    "feature_index = bigram_vectorizer.vocabulary_.get('is this')\n",
    "feature_index"
   ]
  },
  {
   "cell_type": "code",
   "execution_count": 21,
   "metadata": {},
   "outputs": [
    {
     "data": {
      "text/plain": [
       "array([0, 0, 0, 1])"
      ]
     },
     "execution_count": 21,
     "metadata": {},
     "output_type": "execute_result"
    }
   ],
   "source": [
    "X_2[:, feature_index]  # 只在最后一行出现"
   ]
  },
  {
   "cell_type": "markdown",
   "metadata": {},
   "source": [
    "### 从出现次数到出现频率\n",
    "出现次数的统计是非常好的开始，但是有个问题：长的文本相对于短的文本有更高的单词平均出现次数，尽管他们可能在描述同一个主题。\n",
    "\n",
    "为了避免这些潜在的差异，只需将各文档中每个单词的出现次数除以该文档中所有单词的总数：这些新的特征称之为词频 tf (Term Frequencies)。\n",
    "\n",
    "另一个在词频的基础上改良是，降低在该训练文集中的很多文档中均出现的单词的权重，从而突出那些仅在该训练文集中在一小部分文档中出现的单词的信息量。\n",
    "\n",
    "这种方法称为 tf–idf ，全称为 “Term Frequency times Inverse Document Frequency” 。\n",
    "\n",
    "tf 和 tf–idf 都可以按照下面的方式计算:"
   ]
  },
  {
   "cell_type": "code",
   "execution_count": 31,
   "metadata": {},
   "outputs": [
    {
     "data": {
      "text/plain": [
       "(4, 9)"
      ]
     },
     "execution_count": 31,
     "metadata": {},
     "output_type": "execute_result"
    }
   ],
   "source": [
    "X.shape"
   ]
  },
  {
   "cell_type": "code",
   "execution_count": 38,
   "metadata": {},
   "outputs": [
    {
     "data": {
      "text/plain": [
       "<4x9 sparse matrix of type '<class 'numpy.float64'>'\n",
       "\twith 19 stored elements in Compressed Sparse Row format>"
      ]
     },
     "execution_count": 38,
     "metadata": {},
     "output_type": "execute_result"
    }
   ],
   "source": [
    "from sklearn.feature_extraction.text import TfidfTransformer, TfidfVectorizer\n",
    "X_tfidf  = TfidfTransformer().fit_transform(X)  # 通过tf-idf转换器(transformer), 将向量化（vectorizer）矩阵转为tfidf矩阵\n",
    "X_tfidf"
   ]
  },
  {
   "cell_type": "code",
   "execution_count": 36,
   "metadata": {},
   "outputs": [
    {
     "data": {
      "text/plain": [
       "array([[0.        , 0.43877674, 0.54197657, 0.43877674, 0.        ,\n",
       "        0.        , 0.35872874, 0.        , 0.43877674],\n",
       "       [0.        , 0.27230147, 0.        , 0.27230147, 0.        ,\n",
       "        0.85322574, 0.22262429, 0.        , 0.27230147],\n",
       "       [0.55280532, 0.        , 0.        , 0.        , 0.55280532,\n",
       "        0.        , 0.28847675, 0.55280532, 0.        ],\n",
       "       [0.        , 0.43877674, 0.54197657, 0.43877674, 0.        ,\n",
       "        0.        , 0.35872874, 0.        , 0.43877674]])"
      ]
     },
     "execution_count": 36,
     "metadata": {},
     "output_type": "execute_result"
    }
   ],
   "source": [
    "X_tfidf.toarray()"
   ]
  },
  {
   "cell_type": "markdown",
   "metadata": {},
   "source": [
    "## 训练分类器\n",
    "###  构建Pipeline (管道)\n",
    "为了使得 向量化（vectorizer） => 转换器（transformer） => 分类器（classifier） 过程更加简单,scikit-learn 提供了一个 Pipeline 类，操作起来像一个复合分类器.\n",
    "> Pipeline: 链式评估器<br></br>\n",
    "> Pipeline 可以把多个评估器链接成一个。这个是很有用的，因为处理数据的步骤一般都是固定的，例如特征选择、标准化和分类。Pipeline 在这里有多种用途:\n",
    "> * **便捷性和封装性** 你只要对数据调用 fit和 predict 一次来适配所有的一系列评估器。\n",
    "> * **联合的参数选择** 你可以一次grid search管道中所有评估器的参数。\n",
    "> * **安全性** 训练转换器和预测器使用的是相同样本，管道有助于防止来自测试数据的统计数据泄露到交叉验证的训练模型中。<br></br>\n",
    "> 管道中的所有评估器，除了最后一个评估器，管道的所有评估器必须是转换器。 (例如，必须有 `transform` 方法). 最后一个评估器的类型不限（转换器、分类器等等）\n",
    "\n",
    "Pipeline 使用一系列 (key, value) 键值对来构建,其中 key 是你给这个步骤起的名字， value 是一个评估器对象:"
   ]
  },
  {
   "cell_type": "code",
   "execution_count": null,
   "metadata": {},
   "outputs": [],
   "source": [
    "HashingVectorizer?"
   ]
  },
  {
   "cell_type": "code",
   "execution_count": 39,
   "metadata": {},
   "outputs": [],
   "source": [
    "count_clf = Pipeline([('count', CountVectorizer()), ('clf', MultinomialNB())])\n",
    "hash_clf = Pipeline([('hash', HashingVectorizer(binary=True)), ('clf', MultinomialNB())])\n",
    "tfidf_clf = Pipeline([('tfidf', TfidfVectorizer()), ('clf', MultinomialNB())])\n",
    "#  TfidfVectorizer ，它将 CountVectorizer 和 TfidfTransformer 的所有选项组合在一个单例模型中:\n",
    "count_tfidf_clf = Pipeline([('count', CountVectorizer()), ('transformer', TfidfTransformer()), ('clf', MultinomialNB())]) "
   ]
  },
  {
   "cell_type": "code",
   "execution_count": 40,
   "metadata": {},
   "outputs": [
    {
     "data": {
      "text/plain": [
       "0.9257136792953412"
      ]
     },
     "execution_count": 40,
     "metadata": {},
     "output_type": "execute_result"
    }
   ],
   "source": [
    "count_clf.fit(news.data,  news.target)\n",
    "count_clf.score(news.data, news.target)"
   ]
  },
  {
   "cell_type": "code",
   "execution_count": 41,
   "metadata": {},
   "outputs": [
    {
     "data": {
      "text/plain": [
       "0.84728854929428"
      ]
     },
     "execution_count": 41,
     "metadata": {},
     "output_type": "execute_result"
    }
   ],
   "source": [
    "hash_clf.fit(news.data,  news.target)\n",
    "hash_clf.score(news.data, news.target)"
   ]
  },
  {
   "cell_type": "code",
   "execution_count": 42,
   "metadata": {},
   "outputs": [
    {
     "data": {
      "text/plain": [
       "0.9261912342141568"
      ]
     },
     "execution_count": 42,
     "metadata": {},
     "output_type": "execute_result"
    }
   ],
   "source": [
    "tfidf_clf.fit(news.data,  news.target)\n",
    "tfidf_clf.score(news.data, news.target)"
   ]
  },
  {
   "cell_type": "code",
   "execution_count": 43,
   "metadata": {},
   "outputs": [
    {
     "data": {
      "text/plain": [
       "0.9261912342141568"
      ]
     },
     "execution_count": 43,
     "metadata": {},
     "output_type": "execute_result"
    }
   ],
   "source": [
    "count_tfidf_clf.fit(news.data, news.target)\n",
    "count_tfidf_clf.score(news.data, news.target)"
   ]
  },
  {
   "cell_type": "markdown",
   "metadata": {},
   "source": [
    "## k-fold cross validation(k折交叉验证)\n",
    "将数据集分为k个大小相同, 互不相交的子集, 每次使用k-1个子集训练模型, 用剩下的子集测试模型. 对k个不同的选择进行测试, 选取最佳模型.\n",
    "使用交叉验证最简单的方法是在估计器和数据集上调用` cross_val_score `辅助函数。"
   ]
  },
  {
   "cell_type": "code",
   "execution_count": 47,
   "metadata": {},
   "outputs": [],
   "source": [
    "from sklearn.model_selection import cross_val_score\n",
    "def evaluate_cross_validation(clf, X, y, k=5):\n",
    "    scores = cross_val_score(clf, X, y, cv=k)\n",
    "    print(scores)\n",
    "    print(f'mean socre: {np.mean(scores):.3f}')\n"
   ]
  },
  {
   "cell_type": "code",
   "execution_count": 48,
   "metadata": {},
   "outputs": [
    {
     "name": "stdout",
     "output_type": "stream",
     "text": [
      "[0.85225464 0.86229769 0.85858318 0.85672592 0.84505174]\n",
      "mean socre: 0.855\n"
     ]
    }
   ],
   "source": [
    "evaluate_cross_validation(count_clf, news.data, news.target, k=5)"
   ]
  },
  {
   "cell_type": "code",
   "execution_count": 49,
   "metadata": {},
   "outputs": [
    {
     "name": "stdout",
     "output_type": "stream",
     "text": [
      "[0.76843501 0.7888034  0.78641549 0.77421067 0.76810825]\n",
      "mean socre: 0.777\n"
     ]
    }
   ],
   "source": [
    "evaluate_cross_validation(hash_clf, news.data, news.target, k=5)"
   ]
  },
  {
   "cell_type": "code",
   "execution_count": 50,
   "metadata": {},
   "outputs": [
    {
     "name": "stdout",
     "output_type": "stream",
     "text": [
      "[0.85517241 0.86415495 0.85805253 0.85327673 0.84823561]\n",
      "mean socre: 0.856\n"
     ]
    }
   ],
   "source": [
    "evaluate_cross_validation(tfidf_clf, news.data, news.target, k=5)"
   ]
  },
  {
   "cell_type": "markdown",
   "metadata": {},
   "source": [
    "`CountVectorizer`和`TfidfVectorizer`具有相似的表现，并且比`HashingVectorizer`好得多。  \n",
    "继续使用`TfidfVectorizer`, 可以尝试通过尝试将文本文档 解析为具有不同**正则表达式**的标记来改进结果.\n",
    "\n",
    "默认正则表达式选择2个或更多字母数字字符的标记（标点符号被完全忽略，始终视为标记分隔符）:`r\"\\b\\w\\w+\\b\"`,也许还考虑斜线和点可以改善分词, 如:`wi-Fi`, `site.com`"
   ]
  },
  {
   "cell_type": "code",
   "execution_count": 51,
   "metadata": {},
   "outputs": [],
   "source": [
    "clf_regex = Pipeline([\n",
    "    ('tfidf', TfidfVectorizer(token_pattern=r'\\b[a-z0-9_\\-\\.]+[a-z][a-z0-9_\\-\\.]+\\b')),\n",
    "    ('clf', MultinomialNB())])"
   ]
  },
  {
   "cell_type": "code",
   "execution_count": 52,
   "metadata": {},
   "outputs": [
    {
     "name": "stdout",
     "output_type": "stream",
     "text": [
      "[0.86737401 0.8718493  0.87105333 0.86229769 0.86256301]\n",
      "mean socre: 0.867\n"
     ]
    }
   ],
   "source": [
    "evaluate_cross_validation(clf_regex, news.data, news.target, k=5)"
   ]
  },
  {
   "cell_type": "markdown",
   "metadata": {},
   "source": [
    "使用**stop words**\n",
    "内置的英文停止词列表: sklearn\\feature_extraction\\stop_words.py "
   ]
  },
  {
   "cell_type": "code",
   "execution_count": 53,
   "metadata": {},
   "outputs": [],
   "source": [
    "# english\n",
    "clf_stop_words = Pipeline([\n",
    "    ('tfidf', TfidfVectorizer(token_pattern=r'\\b[a-z0-9_\\-\\.]+[a-z][a-z0-9_\\-\\.]+\\b', stop_words='english')),\n",
    "    ('clf', MultinomialNB())])"
   ]
  },
  {
   "cell_type": "code",
   "execution_count": 54,
   "metadata": {},
   "outputs": [
    {
     "name": "stdout",
     "output_type": "stream",
     "text": [
      "[0.88753316 0.89599363 0.8896259  0.88272751 0.88431945]\n",
      "mean socre: 0.888\n"
     ]
    }
   ],
   "source": [
    "evaluate_cross_validation(clf_stop_words, news.data, news.target, k=5)"
   ]
  },
  {
   "cell_type": "code",
   "execution_count": 55,
   "metadata": {},
   "outputs": [],
   "source": [
    "clf_alpha = Pipeline([\n",
    "    ('tfidf', TfidfVectorizer(token_pattern=r'\\b[a-z0-9_\\-\\.]+[a-z][a-z0-9_\\-\\.]+\\b', stop_words='english')),\n",
    "    ('clf', MultinomialNB(alpha=0.01))])  # 调整 alpha  1.0 ->0.01"
   ]
  },
  {
   "cell_type": "code",
   "execution_count": 56,
   "metadata": {},
   "outputs": [
    {
     "name": "stdout",
     "output_type": "stream",
     "text": [
      "[0.92519894 0.92624038 0.9265057  0.91642345 0.92119926]\n",
      "mean socre: 0.923\n"
     ]
    }
   ],
   "source": [
    "evaluate_cross_validation(clf_alpha, news.data, news.target, k=5)"
   ]
  },
  {
   "cell_type": "markdown",
   "metadata": {},
   "source": [
    "## 评估表现"
   ]
  },
  {
   "cell_type": "code",
   "execution_count": 57,
   "metadata": {},
   "outputs": [],
   "source": [
    "from sklearn import metrics\n",
    "def train_and_evaluate(clf, X_train, X_test, y_train, y_test):\n",
    "    clf.fit(X_train, y_train)\n",
    "    y_pred = clf.predict(X_test)\n",
    "    print(f'训练集score: {clf.score(X_train, y_train)}')\n",
    "    print(f'测试集score: {clf.score(X_test, y_test)}')\n",
    "    # 查看主要的分类报告（包含每个类的精确率和召回率）\n",
    "    print(metrics.classification_report(y_test, y_pred))\n",
    "    # 混淆矩阵\n",
    "    print(metrics.confusion_matrix(y_test, y_pred))"
   ]
  },
  {
   "cell_type": "code",
   "execution_count": 58,
   "metadata": {
    "scrolled": true
   },
   "outputs": [
    {
     "name": "stdout",
     "output_type": "stream",
     "text": [
      "训练集score: 0.9968824621915627\n",
      "测试集score: 0.9360742705570292\n",
      "              precision    recall  f1-score   support\n",
      "\n",
      "           0       0.92      0.95      0.93       150\n",
      "           1       0.82      0.87      0.85       167\n",
      "           2       0.91      0.89      0.90       183\n",
      "           3       0.87      0.84      0.85       209\n",
      "           4       0.92      0.94      0.93       191\n",
      "           5       0.92      0.94      0.93       200\n",
      "           6       0.88      0.85      0.86       168\n",
      "           7       0.94      0.97      0.95       210\n",
      "           8       0.98      0.98      0.98       209\n",
      "           9       0.98      0.98      0.98       207\n",
      "          10       0.99      1.00      0.99       201\n",
      "          11       0.98      0.98      0.98       193\n",
      "          12       0.95      0.91      0.93       197\n",
      "          13       0.98      0.97      0.98       219\n",
      "          14       0.96      0.98      0.97       199\n",
      "          15       0.93      0.94      0.94       222\n",
      "          16       0.92      0.99      0.95       181\n",
      "          17       0.98      0.98      0.98       195\n",
      "          18       0.96      0.93      0.95       146\n",
      "          19       0.92      0.76      0.83       123\n",
      "\n",
      "    accuracy                           0.94      3770\n",
      "   macro avg       0.93      0.93      0.93      3770\n",
      "weighted avg       0.94      0.94      0.94      3770\n",
      "\n",
      "[[142   0   0   0   0   0   0   0   0   0   0   0   0   0   0   1   0   0\n",
      "    0   7]\n",
      " [  0 145   6   3   1   8   2   0   0   0   0   0   0   1   1   0   0   0\n",
      "    0   0]\n",
      " [  0   6 162   8   1   3   0   0   0   0   0   1   0   0   1   0   1   0\n",
      "    0   0]\n",
      " [  0   6   5 175   7   3  10   0   0   0   0   1   2   0   0   0   0   0\n",
      "    0   0]\n",
      " [  0   2   1   3 179   2   2   0   0   0   0   0   2   0   0   0   0   0\n",
      "    0   0]\n",
      " [  0   6   1   1   0 187   1   1   0   1   0   0   0   0   2   0   0   0\n",
      "    0   0]\n",
      " [  0   2   2   5   3   0 143   6   1   0   1   0   4   0   0   0   0   1\n",
      "    0   0]\n",
      " [  0   1   1   2   1   0   0 203   1   0   0   0   0   0   0   0   1   0\n",
      "    0   0]\n",
      " [  0   0   0   0   0   0   1   2 205   0   0   0   0   0   0   0   1   0\n",
      "    0   0]\n",
      " [  0   0   0   0   0   0   1   1   2 202   1   0   0   0   0   0   0   0\n",
      "    0   0]\n",
      " [  0   0   0   0   0   0   0   0   0   0 200   0   0   0   0   0   0   0\n",
      "    1   0]\n",
      " [  0   2   0   0   0   0   0   0   0   0   0 189   0   0   0   0   2   0\n",
      "    0   0]\n",
      " [  0   2   0   3   3   1   2   2   0   1   1   0 180   0   2   0   0   0\n",
      "    0   0]\n",
      " [  0   1   0   0   0   0   0   1   0   0   0   1   2 213   1   0   0   0\n",
      "    0   0]\n",
      " [  0   1   0   0   0   0   1   0   0   0   0   0   0   2 195   0   0   0\n",
      "    0   0]\n",
      " [  2   1   1   2   0   0   0   1   1   1   0   0   0   1   1 209   0   1\n",
      "    0   1]\n",
      " [  0   0   0   0   0   0   0   0   0   0   0   0   0   0   0   0 179   0\n",
      "    2   0]\n",
      " [  0   1   0   0   0   0   0   0   0   0   0   0   0   0   0   2   0 192\n",
      "    0   0]\n",
      " [  0   0   0   0   0   0   0   0   0   1   0   0   0   0   0   1   7   1\n",
      "  136   0]\n",
      " [ 11   0   0   0   0   0   0   0   0   0   0   0   0   0   1  12   3   1\n",
      "    2  93]]\n"
     ]
    }
   ],
   "source": [
    "X_train, X_test, y_train, y_test = train_test_split(news.data, news.target, test_size=0.2)\n",
    "train_and_evaluate(clf_alpha, X_train, X_test, y_train, y_test)"
   ]
  },
  {
   "cell_type": "code",
   "execution_count": 59,
   "metadata": {},
   "outputs": [
    {
     "data": {
      "text/plain": [
       "158644"
      ]
     },
     "execution_count": 59,
     "metadata": {},
     "output_type": "execute_result"
    }
   ],
   "source": [
    "# 查看向量化器，我们可以看到哪些标记已用于创建我们的字典\n",
    "len(clf_alpha.named_steps['tfidf'].get_feature_names())"
   ]
  },
  {
   "cell_type": "code",
   "execution_count": 60,
   "metadata": {},
   "outputs": [
    {
     "data": {
      "text/plain": [
       "['-salle',\n",
       " '...and',\n",
       " '0-.66d8wt',\n",
       " '0-04g55',\n",
       " '0-100mph',\n",
       " '0-3mb',\n",
       " '0-40mb',\n",
       " '0-40volts',\n",
       " '0-5mb',\n",
       " '0-60mph',\n",
       " '0-8.3mb',\n",
       " '0-a00138',\n",
       " '0-byte',\n",
       " '0-cvjt',\n",
       " '0-defects',\n",
       " '0-e8',\n",
       " '0-ewf',\n",
       " '0-for-4',\n",
       " '0-hc',\n",
       " '0-ii',\n",
       " '0-imp',\n",
       " '0-m_wohsq',\n",
       " '0-mr',\n",
       " '0-sf',\n",
       " '0-uw',\n",
       " '0-uw0',\n",
       " '0-uww',\n",
       " '0-vv',\n",
       " '0.00...nice',\n",
       " '0.02cents',\n",
       " '0.0cb',\n",
       " '0.1-ports',\n",
       " '0.15mb',\n",
       " '0.2d-_',\n",
       " '0.3mv',\n",
       " '0.5.tar.z',\n",
       " '0.5db',\n",
       " '0.5mb',\n",
       " '0.6-micron',\n",
       " '0.65mb',\n",
       " '0.7ec',\n",
       " '0.7vp-p',\n",
       " '0.8ekm',\n",
       " '0.97pl4',\n",
       " '0.ba',\n",
       " '0.c4',\n",
       " '0.jy',\n",
       " '0.pmgnd',\n",
       " '0.s_',\n",
       " '0.tt',\n",
       " '0.txa_',\n",
       " '0.txc',\n",
       " '00-index.txt',\n",
       " '00.wba',\n",
       " '000-foot',\n",
       " '000-kg',\n",
       " '000-man',\n",
       " '000-maxwell',\n",
       " '000-pixel',\n",
       " '000-plus',\n",
       " '000-seat',\n",
       " '000-strong',\n",
       " '000000.active.spx',\n",
       " '000000e5',\n",
       " '00000ee5',\n",
       " '000010af',\n",
       " '000062david42',\n",
       " '000100255pixel',\n",
       " '0005111312na1em',\n",
       " '0005111312na3em',\n",
       " '00072a27',\n",
       " '000773b9',\n",
       " '00077bbe',\n",
       " '000ds',\n",
       " '000hz',\n",
       " '000iu',\n",
       " '000mg',\n",
       " '000mi',\n",
       " '000puq9',\n",
       " '000rpm',\n",
       " '000th',\n",
       " '000ug',\n",
       " '000usd',\n",
       " '0010580b.0b6r49',\n",
       " '0010580b.vma7o9',\n",
       " '0010580b.vmcbrt',\n",
       " '001200201pixel',\n",
       " '002251w.5.734117130',\n",
       " '00297b4',\n",
       " '007bww3',\n",
       " '007gjf3',\n",
       " '00969fba.e640ff10',\n",
       " '0096b0f0.c5de05a0',\n",
       " '0096b11b.08a283a0',\n",
       " '0096b130.473b17c0',\n",
       " '0096b294.aad9c1e0',\n",
       " '0096b9bf.eb6a4220',\n",
       " '00acearl',\n",
       " '00am',\n",
       " '00bjgood',\n",
       " '00cgbabbitt',\n",
       " '00cjmelching',\n",
       " '00cmmiller',\n",
       " '00dd',\n",
       " '00ecgillespi',\n",
       " '00ecgillespie',\n",
       " '00index',\n",
       " '00kz',\n",
       " '00lz8bct',\n",
       " '00mbstultz',\n",
       " '00p_15s-r',\n",
       " '00pm',\n",
       " '00pm-9',\n",
       " '00pmlemen',\n",
       " '01.xve',\n",
       " '01050810.vuumdq',\n",
       " '0123456789abcdef',\n",
       " '0129dspnl',\n",
       " '014t4',\n",
       " '018hclt5i',\n",
       " '01_introduction.ma',\n",
       " '01apr93.17160985.0059',\n",
       " '01au85cm',\n",
       " '01ay',\n",
       " '01c-j',\n",
       " '01f6',\n",
       " '01h0',\n",
       " '01ij9i',\n",
       " '01kp2h9',\n",
       " '01ll',\n",
       " '01ne',\n",
       " '01ob',\n",
       " '01readme',\n",
       " '01vl2',\n",
       " '01ya',\n",
       " '02-0zl',\n",
       " '02-jul-92',\n",
       " '02-q9ign',\n",
       " '021lh2u',\n",
       " '026bf',\n",
       " '02_math_model.ma',\n",
       " '02_math_models.ma',\n",
       " '02at',\n",
       " '02bp1m51',\n",
       " '02bsrg446',\n",
       " '02bz',\n",
       " '02e0',\n",
       " '02f8',\n",
       " '02g6968',\n",
       " '02g6980',\n",
       " '02ixl',\n",
       " '02njp',\n",
       " '02qbab',\n",
       " '02qvq',\n",
       " '02r4e',\n",
       " '02t1p',\n",
       " '02tl',\n",
       " '02tm_',\n",
       " '02tmn',\n",
       " '02tu0',\n",
       " '02va7pu',\n",
       " '02vx',\n",
       " '02vy',\n",
       " '02vyn',\n",
       " '02vz089',\n",
       " '02xs5',\n",
       " '02z5s2v7rj9kb',\n",
       " '031l86',\n",
       " '038o8v',\n",
       " '03_1_transient_response.ma',\n",
       " '03_2_transient_response.ma',\n",
       " '03_3_transient_response.ma',\n",
       " '03aa',\n",
       " '03ab',\n",
       " '03cw',\n",
       " '03e8',\n",
       " '03f8',\n",
       " '03hz',\n",
       " '03hz.b',\n",
       " '03hz.cj1',\n",
       " '03hz.fg',\n",
       " '03i3',\n",
       " '03idwswm',\n",
       " '03is',\n",
       " '03yd1u46',\n",
       " '03yqu',\n",
       " '040cache',\n",
       " '040ifpr5f',\n",
       " '0430-1500ut',\n",
       " '044tcya',\n",
       " '045q2',\n",
       " '046p4',\n",
       " '046sau',\n",
       " '046um',\n",
       " '04_steady_state_response.ma',\n",
       " '04acz9',\n",
       " '04ax',\n",
       " '04he',\n",
       " '04hj',\n",
       " '04hm34u',\n",
       " '04kazy_a',\n",
       " '04lhiq',\n",
       " '04py',\n",
       " '04qu0s_pb',\n",
       " '04qu145',\n",
       " '04trtcp',\n",
       " '04w0',\n",
       " '04x1',\n",
       " '055555556q-34u',\n",
       " '055555556ql34u-34u--jjjjjjj',\n",
       " '058soh9ra',\n",
       " '05_root_locus.ma',\n",
       " '05a1h',\n",
       " '05apr93.02451203.0049',\n",
       " '05apr93.02678944.0049',\n",
       " '05apr93.13661642.0023',\n",
       " '05bc5cvfq',\n",
       " '05fh',\n",
       " '05gd87g',\n",
       " '05i420',\n",
       " '05jl1i',\n",
       " '05ll',\n",
       " '05lma',\n",
       " '05lxm34',\n",
       " '05lxn',\n",
       " '05o5jc',\n",
       " '05pm',\n",
       " '05rov',\n",
       " '05s.5',\n",
       " '05t1',\n",
       " '05xk87',\n",
       " '068hstg',\n",
       " '06_freq_response.ma',\n",
       " '06a7_e9',\n",
       " '06af',\n",
       " '06b4',\n",
       " '06dz.b',\n",
       " '06eh.c4',\n",
       " '06hwke',\n",
       " '06ku',\n",
       " '06lm',\n",
       " '06mz',\n",
       " '06n.edo6',\n",
       " '06paul',\n",
       " '06pmi',\n",
       " '06qe92j',\n",
       " '06tz',\n",
       " '06umv',\n",
       " '06yy',\n",
       " '06zkc4',\n",
       " '07.sl',\n",
       " '07.v0',\n",
       " '07220yfz',\n",
       " '0755a3zhy',\n",
       " '0776ov_h',\n",
       " '07_state_space.ma',\n",
       " '07aq',\n",
       " '07d7.4e',\n",
       " '07fi',\n",
       " '07iz',\n",
       " '07k8',\n",
       " '07l99',\n",
       " '07lhs',\n",
       " '07mb',\n",
       " '07sc',\n",
       " '07u..x6',\n",
       " '07x2oa',\n",
       " '08.qwc',\n",
       " '084g085',\n",
       " '0867qmb0_miqk',\n",
       " '08f8',\n",
       " '08h-i8pmc9',\n",
       " '08k5cb',\n",
       " '08ksvr',\n",
       " '08pqgw',\n",
       " '08std',\n",
       " '08ujebw',\n",
       " '08v1',\n",
       " '08ws',\n",
       " '08xt',\n",
       " '08z2',\n",
       " '09_d2p',\n",
       " '09aa',\n",
       " '09aax',\n",
       " '09bbea0c',\n",
       " '09bc',\n",
       " '09fz',\n",
       " '09h3o',\n",
       " '09k_',\n",
       " '09oxdk',\n",
       " '09qe',\n",
       " '09tcb0',\n",
       " '09w0f',\n",
       " '09zxh',\n",
       " '0_1r_q',\n",
       " '0_8ge',\n",
       " '0_b_',\n",
       " '0_bw',\n",
       " '0_e8',\n",
       " '0_e8.ou',\n",
       " '0_h1',\n",
       " '0_mfw',\n",
       " '0_olon5q',\n",
       " '0_s63',\n",
       " '0_yba',\n",
       " '0_ynu5',\n",
       " '0_z2',\n",
       " '0a1',\n",
       " '0a2r',\n",
       " '0a3',\n",
       " '0a34',\n",
       " '0a4pirs-f0um15',\n",
       " '0a99',\n",
       " '0ab15j2qf3f',\n",
       " '0ae6c',\n",
       " '0aek',\n",
       " '0ag',\n",
       " '0am',\n",
       " '0amo',\n",
       " '0as',\n",
       " '0aujqb',\n",
       " '0aw',\n",
       " '0ax',\n",
       " '0ay',\n",
       " '0ayf',\n",
       " '0azojt',\n",
       " '0b-a',\n",
       " '0b-x2',\n",
       " '0b0n',\n",
       " '0b1fatransfer',\n",
       " '0b2',\n",
       " '0b3',\n",
       " '0b4-hb',\n",
       " '0b4dam',\n",
       " '0b6',\n",
       " '0b6er',\n",
       " '0b7l',\n",
       " '0b7qpd8',\n",
       " '0b800h',\n",
       " '0b9',\n",
       " '0b9w',\n",
       " '0bc4',\n",
       " '0bh',\n",
       " '0bi',\n",
       " '0bj',\n",
       " '0bkdtdt4a',\n",
       " '0bla',\n",
       " '0bm2',\n",
       " '0bn',\n",
       " '0bnw',\n",
       " '0bp0x5',\n",
       " '0bqr',\n",
       " '0bry',\n",
       " '0bs',\n",
       " '0bsjom',\n",
       " '0bus',\n",
       " '0buu7u',\n",
       " '0bv',\n",
       " '0bvm005',\n",
       " '0bw',\n",
       " '0bz',\n",
       " '0bz_9',\n",
       " '0c1',\n",
       " '0c2rs4px2',\n",
       " '0c4',\n",
       " '0c4v',\n",
       " '0c5',\n",
       " '0c5r',\n",
       " '0c8fr',\n",
       " '0c8h',\n",
       " '0c8xmb',\n",
       " '0c_',\n",
       " '0c_l',\n",
       " '0c_n',\n",
       " '0c_x',\n",
       " '0cc9',\n",
       " '0cdwkv_',\n",
       " '0cg',\n",
       " '0cgf',\n",
       " '0cgy2',\n",
       " '0chr4y',\n",
       " '0ci3',\n",
       " '0ckgh',\n",
       " '0csttf',\n",
       " '0ct1t',\n",
       " '0cwm',\n",
       " '0cy3',\n",
       " '0cz',\n",
       " '0d-1ivkr',\n",
       " '0d-jm',\n",
       " '0d.8',\n",
       " '0d.x',\n",
       " '0d0',\n",
       " '0d1',\n",
       " '0d2',\n",
       " '0d36b',\n",
       " '0d3x',\n",
       " '0d4',\n",
       " '0d6',\n",
       " '0d63wi',\n",
       " '0d7',\n",
       " '0d84.sz',\n",
       " '0da0',\n",
       " '0db',\n",
       " '0dbeav',\n",
       " '0dc',\n",
       " '0ded',\n",
       " '0df',\n",
       " '0dfsx',\n",
       " '0dfvij',\n",
       " '0dfyl',\n",
       " '0dg',\n",
       " '0dga7',\n",
       " '0dgq',\n",
       " '0dgw83',\n",
       " '0dh',\n",
       " '0di',\n",
       " '0dj',\n",
       " '0dki',\n",
       " '0dl',\n",
       " '0dlp',\n",
       " '0dlzl',\n",
       " '0dnynno-7',\n",
       " '0do0s',\n",
       " '0dod',\n",
       " '0dod0d',\n",
       " '0doh7',\n",
       " '0dp',\n",
       " '0dq3',\n",
       " '0dqdk9',\n",
       " '0dt',\n",
       " '0dte94ta5',\n",
       " '0dtp6',\n",
       " '0du',\n",
       " '0dum',\n",
       " '0dv',\n",
       " '0dv.r',\n",
       " '0dy.tm',\n",
       " '0e0',\n",
       " '0e1',\n",
       " '0e17',\n",
       " '0e1jc',\n",
       " '0e1k5',\n",
       " '0e1m6',\n",
       " '0e2',\n",
       " '0e3gf',\n",
       " '0e4',\n",
       " '0e545',\n",
       " '0e75',\n",
       " '0e75x',\n",
       " '0e9',\n",
       " '0ea',\n",
       " '0eav8o1zu',\n",
       " '0echy',\n",
       " '0eg6g',\n",
       " '0eh',\n",
       " '0ej',\n",
       " '0ek',\n",
       " '0ek-c8v',\n",
       " '0ek-c8v-c8v-c8v-c9n',\n",
       " '0ek-c9n',\n",
       " '0ek-c9nv1',\n",
       " '0ekr',\n",
       " '0el',\n",
       " '0el05',\n",
       " '0el86',\n",
       " '0elu-34ilim',\n",
       " '0elx',\n",
       " '0ely',\n",
       " '0em',\n",
       " '0ema86',\n",
       " '0emilh',\n",
       " '0emim2frm34u',\n",
       " '0emu',\n",
       " '0emu-34',\n",
       " '0emu-34u',\n",
       " '0emu-34u-0q',\n",
       " '0en36',\n",
       " '0ep',\n",
       " '0epqc',\n",
       " '0er',\n",
       " '0erdivbud',\n",
       " '0erv',\n",
       " '0eu',\n",
       " '0ex',\n",
       " '0ex6',\n",
       " '0ey7n',\n",
       " '0ez',\n",
       " '0f-u3',\n",
       " '0f.1p',\n",
       " '0f0',\n",
       " '0f0064',\n",
       " '0f1',\n",
       " '0f18fa5b225d03d3a401973b4318dd0e',\n",
       " '0f1u',\n",
       " '0f2',\n",
       " '0f3',\n",
       " '0f3.reqp',\n",
       " '0f4',\n",
       " '0f4a86',\n",
       " '0f4a87',\n",
       " '0f7',\n",
       " '0f8',\n",
       " '0fe',\n",
       " '0ferjbhj',\n",
       " '0ffnm',\n",
       " '0ffrljfrj',\n",
       " '0fgj5',\n",
       " '0fh',\n",
       " '0fhj',\n",
       " '0fhmt',\n",
       " '0fk',\n",
       " '0fl_',\n",
       " '0fm',\n",
       " '0fn',\n",
       " '0fo0',\n",
       " '0forqfa00iuzmatnmz',\n",
       " '0fovj7i00wb4miumht',\n",
       " '0fpizbg00wc70qokyw',\n",
       " '0fpzy',\n",
       " '0fq',\n",
       " '0fq0vic00wb8rq019d',\n",
       " '0fq1vru00wbna3l3pi',\n",
       " '0frolv200awvi3iv4s',\n",
       " '0fs',\n",
       " '0fu',\n",
       " '0fv8',\n",
       " '0fw',\n",
       " '0fx',\n",
       " '0fz1mtpe',\n",
       " '0g12o',\n",
       " '0g19',\n",
       " '0g1bo2',\n",
       " '0g1c.ttw-bl3',\n",
       " '0g4',\n",
       " '0g4u-2fu-2eu',\n",
       " '0g8',\n",
       " '0g894',\n",
       " '0g9',\n",
       " '0g9p',\n",
       " '0ga',\n",
       " '0ga4',\n",
       " '0ga85',\n",
       " '0ga86',\n",
       " '0ge',\n",
       " '0ge30g',\n",
       " '0gf11',\n",
       " '0gg',\n",
       " '0ggol',\n",
       " '0ggu',\n",
       " '0ggv',\n",
       " '0gi',\n",
       " '0gij',\n",
       " '0gkt',\n",
       " '0gm7',\n",
       " '0gn',\n",
       " '0gqdk',\n",
       " '0gu',\n",
       " '0gx',\n",
       " '0gyts',\n",
       " '0h-0',\n",
       " '0h-p',\n",
       " '0h2',\n",
       " '0h23tc',\n",
       " '0h4g',\n",
       " '0h4ou',\n",
       " '0h5',\n",
       " '0h5107',\n",
       " '0h5p',\n",
       " '0h5pa7',\n",
       " '0h6',\n",
       " '0h64e',\n",
       " '0h659p',\n",
       " '0h6asvg',\n",
       " '0h6o481w8h1t2',\n",
       " '0h7wa4',\n",
       " '0h8',\n",
       " '0h8wn5',\n",
       " '0h9_',\n",
       " '0ha',\n",
       " '0ha9',\n",
       " '0hb',\n",
       " '0hd',\n",
       " '0hdf',\n",
       " '0hdvkb1c',\n",
       " '0hfx',\n",
       " '0hg8erx',\n",
       " '0hgw',\n",
       " '0hh9',\n",
       " '0hjt',\n",
       " '0hm',\n",
       " '0holjx3ul2u',\n",
       " '0hpg5x-t',\n",
       " '0hq',\n",
       " '0hq4',\n",
       " '0ht',\n",
       " '0hyx',\n",
       " '0hz',\n",
       " '0i-5u',\n",
       " '0i0_',\n",
       " '0i0t',\n",
       " '0i1dg',\n",
       " '0i2',\n",
       " '0i24vrh3r',\n",
       " '0i3rq',\n",
       " '0i5',\n",
       " '0i7cx',\n",
       " '0i91n',\n",
       " '0ieo2el',\n",
       " '0ih',\n",
       " '0iia',\n",
       " '0iiwv',\n",
       " '0ij',\n",
       " '0im',\n",
       " '0in',\n",
       " '0ipj',\n",
       " '0ipw',\n",
       " '0ipz',\n",
       " '0ir2',\n",
       " '0ir6d5bm.8',\n",
       " '0is0',\n",
       " '0iv',\n",
       " '0ivbtm9',\n",
       " '0ivbud',\n",
       " '0ivbud9',\n",
       " '0ivbudk',\n",
       " '0ivbvl',\n",
       " '0ivf1dk',\n",
       " '0ivf2l',\n",
       " '0ivmhm',\n",
       " '0ivmhm9',\n",
       " '0ivmiu',\n",
       " '0ivmk',\n",
       " '0iwx.c',\n",
       " '0iwx.c0rvl',\n",
       " '0iy4bn',\n",
       " '0iz',\n",
       " '0j.v',\n",
       " '0j00j8',\n",
       " '0j5-57',\n",
       " '0j7',\n",
       " '0j8',\n",
       " '0j8y',\n",
       " '0j981xk5oeopb',\n",
       " '0j_0-3',\n",
       " '0ja',\n",
       " '0ja3d',\n",
       " '0jb6pwzasj',\n",
       " '0jc',\n",
       " '0jd',\n",
       " '0je4',\n",
       " '0jf',\n",
       " '0jfa',\n",
       " '0jh',\n",
       " '0jkh',\n",
       " '0jm.1',\n",
       " '0jm8',\n",
       " '0jn2',\n",
       " '0jn_9h',\n",
       " '0jp',\n",
       " '0jq',\n",
       " '0jr',\n",
       " '0jt1',\n",
       " '0jt6-d',\n",
       " '0jtivt',\n",
       " '0jx',\n",
       " '0jx5gvp',\n",
       " '0jy',\n",
       " '0jz',\n",
       " '0k-2u',\n",
       " '0k1z',\n",
       " '0k5',\n",
       " '0k6',\n",
       " '0k83a',\n",
       " '0k8fck',\n",
       " '0k9jsu',\n",
       " '0kazqih',\n",
       " '0kbfkp',\n",
       " '0kc',\n",
       " '0kd',\n",
       " '0kh',\n",
       " '0khp',\n",
       " '0ki',\n",
       " '0kj',\n",
       " '0kk',\n",
       " '0km',\n",
       " '0kma1rw34km0_g',\n",
       " '0kp',\n",
       " '0kqi',\n",
       " '0kr',\n",
       " '0ks',\n",
       " '0ksx',\n",
       " '0kt',\n",
       " '0ku',\n",
       " '0kwbw',\n",
       " '0kx',\n",
       " '0l0',\n",
       " '0l2',\n",
       " '0l38',\n",
       " '0l5fb76lp',\n",
       " '0l5h06j',\n",
       " '0l5h06l',\n",
       " '0l7',\n",
       " '0l80',\n",
       " '0l8tan',\n",
       " '0l_',\n",
       " '0lgq',\n",
       " '0lhf',\n",
       " '0li',\n",
       " '0lip',\n",
       " '0lk',\n",
       " '0ll',\n",
       " '0lm',\n",
       " '0lnbq',\n",
       " '0lowt',\n",
       " '0loz',\n",
       " '0lp',\n",
       " '0lq',\n",
       " '0lqwk',\n",
       " '0lsbd',\n",
       " '0lt',\n",
       " '0lu',\n",
       " '0lv',\n",
       " '0lv1a4e3',\n",
       " '0lw6',\n",
       " '0lxt4d',\n",
       " '0lzi3-z-5pzk8',\n",
       " '0m0x',\n",
       " '0m1',\n",
       " '0m14',\n",
       " '0m1qz',\n",
       " '0m2',\n",
       " '0m2d',\n",
       " '0m5',\n",
       " '0m6',\n",
       " '0m6bq',\n",
       " '0m75',\n",
       " '0m75de06b4q',\n",
       " '0m75u',\n",
       " '0m75u9',\n",
       " '0m8',\n",
       " '0m8b',\n",
       " '0m8bnh',\n",
       " '0m8w',\n",
       " '0m9',\n",
       " '0ma',\n",
       " '0max',\n",
       " '0mbz',\n",
       " '0mc',\n",
       " '0megyt',\n",
       " '0mez-k9k',\n",
       " '0mh',\n",
       " '0mi',\n",
       " '0mis',\n",
       " '0mjx9',\n",
       " '0mk',\n",
       " '0mk.sl',\n",
       " '0mk80',\n",
       " '0mkg',\n",
       " '0mm2',\n",
       " '0moa',\n",
       " '0mph',\n",
       " '0mpp',\n",
       " '0mq',\n",
       " '0mq69',\n",
       " '0msd',\n",
       " '0msf',\n",
       " '0mv_7',\n",
       " '0mvbdi',\n",
       " '0mvbf',\n",
       " '0mvbgt',\n",
       " '0mvbtmvo2',\n",
       " '0mvmk',\n",
       " '0mww',\n",
       " '0mxb',\n",
       " '0n1',\n",
       " '0n2kmpz',\n",
       " '0n3',\n",
       " '0n8',\n",
       " '0na',\n",
       " '0nb',\n",
       " '0nd',\n",
       " '0nd1',\n",
       " '0nds8',\n",
       " '0ne1',\n",
       " '0nfdh',\n",
       " '0ng',\n",
       " '0nh',\n",
       " '0niy',\n",
       " '0np34',\n",
       " '0nplbc',\n",
       " '0nq',\n",
       " '0nqb',\n",
       " '0nr',\n",
       " '0nt',\n",
       " '0ntmrn',\n",
       " '0ntv.273g',\n",
       " '0nu',\n",
       " '0ny9',\n",
       " '0o-y',\n",
       " '0o2',\n",
       " '0o2d',\n",
       " '0o3',\n",
       " '0o_2',\n",
       " '0oa',\n",
       " '0oao',\n",
       " '0ob',\n",
       " '0oc',\n",
       " '0od',\n",
       " '0ods2b8',\n",
       " '0odw',\n",
       " '0ogl',\n",
       " '0oi',\n",
       " '0ol',\n",
       " '0omdcua8a4',\n",
       " '0opco-dw',\n",
       " '0oqis',\n",
       " '0os8is7u',\n",
       " '0otx',\n",
       " '0ovl9',\n",
       " '0ox',\n",
       " '0oy',\n",
       " '0p0',\n",
       " '0p01',\n",
       " '0p02',\n",
       " '0p2',\n",
       " '0p38',\n",
       " '0p3w',\n",
       " '0p5f',\n",
       " '0p6',\n",
       " '0p6a3b1w165w',\n",
       " '0p7',\n",
       " '0p8jiac',\n",
       " '0p9c',\n",
       " '0p_7924x',\n",
       " '0pa',\n",
       " '0pao',\n",
       " '0pd',\n",
       " '0pe0',\n",
       " '0pf',\n",
       " '0ph1w',\n",
       " '0pj',\n",
       " '0pl',\n",
       " '0pl4',\n",
       " '0pm',\n",
       " '0pn',\n",
       " '0pob0dl',\n",
       " '0pqme',\n",
       " '0pqu',\n",
       " '0pr',\n",
       " '0pr0you',\n",
       " '0prq',\n",
       " '0prum0q',\n",
       " '0ptm',\n",
       " '0pto',\n",
       " '0pvx',\n",
       " '0pxptb',\n",
       " '0pxve0b',\n",
       " '0pz-fbdkx',\n",
       " '0pzwx',\n",
       " '0q-sb',\n",
       " '0q.-xny5gx',\n",
       " '0q.x1',\n",
       " '0q1t',\n",
       " '0q2',\n",
       " '0q76t',\n",
       " '0q99',\n",
       " '0qas',\n",
       " '0qax',\n",
       " '0qb',\n",
       " '0qdp8',\n",
       " '0qe',\n",
       " '0qgftzdz',\n",
       " '0qhh',\n",
       " '0qi',\n",
       " '0qj-1xu',\n",
       " '0ql',\n",
       " '0qljfw',\n",
       " '0qm0n0',\n",
       " '0qnoxs',\n",
       " '0qq',\n",
       " '0qqiyay6s',\n",
       " '0qu',\n",
       " '0qu-3',\n",
       " '0qur',\n",
       " '0qv',\n",
       " '0qvn',\n",
       " '0qvq',\n",
       " '0qvqma',\n",
       " '0qvqn',\n",
       " '0qvqn1',\n",
       " '0qw',\n",
       " '0qwa',\n",
       " '0qwomk4',\n",
       " '0qxp',\n",
       " '0r1l40',\n",
       " '0r2',\n",
       " '0r445',\n",
       " '0r8',\n",
       " '0r_',\n",
       " '0ra',\n",
       " '0ra6abh107h',\n",
       " '0ras',\n",
       " '0razbbh107h',\n",
       " '0rb',\n",
       " '0rc',\n",
       " '0rchzv',\n",
       " '0rdf',\n",
       " '0rf',\n",
       " '0rfumrd',\n",
       " '0rh',\n",
       " '0rhj',\n",
       " '0rht',\n",
       " '0rk',\n",
       " '0rl',\n",
       " '0rljas',\n",
       " '0rn',\n",
       " '0rr',\n",
       " '0rs',\n",
       " '0rtr-58',\n",
       " '0ru',\n",
       " '0rv',\n",
       " '0rv8',\n",
       " '0rwt',\n",
       " '0rxtd',\n",
       " '0ry48x',\n",
       " '0rz',\n",
       " '0s-0',\n",
       " '0s.1',\n",
       " '0s03',\n",
       " '0s1',\n",
       " '0s2',\n",
       " '0s4',\n",
       " '0s4yz',\n",
       " '0s792j8jdn',\n",
       " '0s7l',\n",
       " '0s8',\n",
       " '0s9',\n",
       " '0s_p',\n",
       " '0sa',\n",
       " '0sbi',\n",
       " '0sc3',\n",
       " '0scr',\n",
       " '0sf',\n",
       " '0sf2.p',\n",
       " '0sfra',\n",
       " '0sj',\n",
       " '0sk',\n",
       " '0sl',\n",
       " '0sla0t',\n",
       " '0slrmc',\n",
       " '0smpax',\n",
       " '0sn',\n",
       " '0snl',\n",
       " '0spqw',\n",
       " '0sq',\n",
       " '0sqrc',\n",
       " '0ss',\n",
       " '0sw',\n",
       " '0sx',\n",
       " '0sy3-3',\n",
       " '0t-50t',\n",
       " '0t-7evxp8',\n",
       " '0t-l',\n",
       " '0t-w',\n",
       " '0t-wb',\n",
       " '0t-wi_6ukx',\n",
       " '0t-wj',\n",
       " '0t-wm',\n",
       " '0t-wmxg',\n",
       " '0t-wmz',\n",
       " '0t.u',\n",
       " '0t0',\n",
       " '0t0g',\n",
       " '0t0tb',\n",
       " '0t0tl_b',\n",
       " '0t2o',\n",
       " '0t7',\n",
       " '0t7-u',\n",
       " '0t7s',\n",
       " '0t9t',\n",
       " '0t_',\n",
       " '0ta',\n",
       " '0ta4',\n",
       " '0ta6',\n",
       " '0ta85',\n",
       " '0ta87p',\n",
       " '0tb',\n",
       " '0tbu',\n",
       " '0tbxn',\n",
       " '0tbxom',\n",
       " '0tbxom4',\n",
       " '0tbxom4u-3l',\n",
       " '0tc90z',\n",
       " '0tcf',\n",
       " '0tdb5m',\n",
       " '0te',\n",
       " '0te30g',\n",
       " '0te30t',\n",
       " '0tf',\n",
       " ...]"
      ]
     },
     "execution_count": 60,
     "metadata": {},
     "output_type": "execute_result"
    }
   ],
   "source": [
    "clf_alpha.named_steps['tfidf'].get_feature_names()"
   ]
  }
 ],
 "metadata": {
  "kernelspec": {
   "display_name": "tf-gpu",
   "language": "python",
   "name": "base"
  },
  "language_info": {
   "codemirror_mode": {
    "name": "ipython",
    "version": 3
   },
   "file_extension": ".py",
   "mimetype": "text/x-python",
   "name": "python",
   "nbconvert_exporter": "python",
   "pygments_lexer": "ipython3",
   "version": "3.7.6"
  }
 },
 "nbformat": 4,
 "nbformat_minor": 2
}
