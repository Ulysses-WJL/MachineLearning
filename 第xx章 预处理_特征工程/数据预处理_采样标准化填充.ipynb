{
 "metadata": {
  "language_info": {
   "codemirror_mode": {
    "name": "ipython",
    "version": 3
   },
   "file_extension": ".py",
   "mimetype": "text/x-python",
   "name": "python",
   "nbconvert_exporter": "python",
   "pygments_lexer": "ipython3",
   "version": 3
  },
  "orig_nbformat": 2,
  "kernelspec": {
   "name": "python_defaultSpec_1597223261784",
   "display_name": "Python 3.7.6 64-bit ('base': conda)"
  }
 },
 "nbformat": 4,
 "nbformat_minor": 2,
 "cells": [
  {
   "cell_type": "markdown",
   "metadata": {},
   "source": [
    "# 数据预处理\n",
    "\n",
    "## 使用下采样处理不平衡类\n",
    "\n",
    "在下采样中，我们从多数类（即具有更多观测值的类）中不放回随机抽样，来创建与少数类相等的新观测子集。"
   ]
  },
  {
   "cell_type": "code",
   "execution_count": 8,
   "metadata": {},
   "outputs": [],
   "source": [
    "import numpy as np\n",
    "import pandas as pd\n",
    "\n",
    "from sklearn.datasets import load_iris\n",
    "iris = load_iris()"
   ]
  },
  {
   "cell_type": "code",
   "execution_count": 10,
   "metadata": {},
   "outputs": [
    {
     "output_type": "execute_result",
     "data": {
      "text/plain": "2    50\n1    50\n0    50\ndtype: int64"
     },
     "metadata": {},
     "execution_count": 10
    }
   ],
   "source": [
    "X, y = iris.data, iris.target\n",
    "pd.Series(iris.target).value_counts()"
   ]
  },
  {
   "cell_type": "code",
   "execution_count": 11,
   "metadata": {},
   "outputs": [
    {
     "output_type": "execute_result",
     "data": {
      "text/plain": "array([0, 0, 0, 0, 0, 0, 0, 0, 0, 0, 1, 1, 1, 1, 1, 1, 1, 1, 1, 1, 1, 1,\n       1, 1, 1, 1, 1, 1, 1, 1, 1, 1, 1, 1, 1, 1, 1, 1, 1, 1, 1, 1, 1, 1,\n       1, 1, 1, 1, 1, 1, 1, 1, 1, 1, 1, 1, 1, 1, 1, 1, 1, 1, 1, 1, 1, 1,\n       1, 1, 1, 1, 1, 1, 1, 1, 1, 1, 1, 1, 1, 1, 1, 1, 1, 1, 1, 1, 1, 1,\n       1, 1, 1, 1, 1, 1, 1, 1, 1, 1, 1, 1, 1, 1, 1, 1, 1, 1, 1, 1, 1, 1])"
     },
     "metadata": {},
     "execution_count": 11
    }
   ],
   "source": [
    "\n",
    "# 移除前 40 个观测\n",
    "X = X[40:,:]\n",
    "y = y[40:]\n",
    "y = np.where(y == 0, 0, 1)\n",
    "# 查看不平衡的目标向量\n",
    "y"
   ]
  },
  {
   "cell_type": "code",
   "execution_count": 12,
   "metadata": {},
   "outputs": [],
   "source": [
    "# 每个类别的观测的下标\n",
    "i_class0 = np.where(y == 0)[0]\n",
    "i_class1 = np.where(y == 1)[0]"
   ]
  },
  {
   "cell_type": "code",
   "execution_count": 15,
   "metadata": {},
   "outputs": [],
   "source": [
    "# 随机从类1不放回采样 类0数量个的样本\n",
    "i_class1_downsampled = np.random.choice(i_class1, size=len(i_class0), replace=False)  # 不要重复的->不放回"
   ]
  },
  {
   "cell_type": "code",
   "execution_count": 16,
   "metadata": {},
   "outputs": [
    {
     "output_type": "execute_result",
     "data": {
      "text/plain": "array([0, 0, 0, 0, 0, 0, 0, 0, 0, 0, 1, 1, 1, 1, 1, 1, 1, 1, 1, 1])"
     },
     "metadata": {},
     "execution_count": 16
    }
   ],
   "source": [
    "np.hstack([y[i_class0], y[i_class1_downsampled]])"
   ]
  },
  {
   "cell_type": "markdown",
   "metadata": {},
   "source": [
    "## 使用上采样处理不平衡类别\n",
    "\n",
    "从少数类中带放回随机选择观测。 最终结果是来自少数类和多数类的观测数量相同"
   ]
  },
  {
   "cell_type": "code",
   "execution_count": 17,
   "metadata": {},
   "outputs": [
    {
     "output_type": "execute_result",
     "data": {
      "text/plain": "array([6, 3, 3, 6, 4, 1, 0, 7, 0, 4, 3, 7, 4, 2, 7, 8, 2, 8, 0, 0, 6, 7,\n       5, 9, 2, 8, 8, 8, 8, 2, 2, 9, 4, 0, 8, 3, 0, 9, 5, 4, 6, 2, 9, 6,\n       5, 6, 0, 2, 1, 7, 4, 6, 5, 8, 8, 4, 1, 1, 6, 9, 6, 4, 3, 8, 0, 6,\n       9, 8, 6, 7, 7, 8, 1, 4, 9, 5, 5, 3, 0, 0, 6, 4, 4, 9, 5, 8, 1, 1,\n       2, 0, 6, 4, 4, 9, 8, 1, 6, 7, 5, 3])"
     },
     "metadata": {},
     "execution_count": 17
    }
   ],
   "source": [
    "i_class0_upsample = np.random.choice(i_class0, size=len(i_class1), replace=True)\n",
    "i_class0_upsample"
   ]
  },
  {
   "cell_type": "code",
   "execution_count": 18,
   "metadata": {},
   "outputs": [
    {
     "output_type": "execute_result",
     "data": {
      "text/plain": "array([0, 0, 0, 0, 0, 0, 0, 0, 0, 0, 0, 0, 0, 0, 0, 0, 0, 0, 0, 0, 0, 0,\n       0, 0, 0, 0, 0, 0, 0, 0, 0, 0, 0, 0, 0, 0, 0, 0, 0, 0, 0, 0, 0, 0,\n       0, 0, 0, 0, 0, 0, 0, 0, 0, 0, 0, 0, 0, 0, 0, 0, 0, 0, 0, 0, 0, 0,\n       0, 0, 0, 0, 0, 0, 0, 0, 0, 0, 0, 0, 0, 0, 0, 0, 0, 0, 0, 0, 0, 0,\n       0, 0, 0, 0, 0, 0, 0, 0, 0, 0, 0, 0, 1, 1, 1, 1, 1, 1, 1, 1, 1, 1,\n       1, 1, 1, 1, 1, 1, 1, 1, 1, 1, 1, 1, 1, 1, 1, 1, 1, 1, 1, 1, 1, 1,\n       1, 1, 1, 1, 1, 1, 1, 1, 1, 1, 1, 1, 1, 1, 1, 1, 1, 1, 1, 1, 1, 1,\n       1, 1, 1, 1, 1, 1, 1, 1, 1, 1, 1, 1, 1, 1, 1, 1, 1, 1, 1, 1, 1, 1,\n       1, 1, 1, 1, 1, 1, 1, 1, 1, 1, 1, 1, 1, 1, 1, 1, 1, 1, 1, 1, 1, 1,\n       1, 1])"
     },
     "metadata": {},
     "execution_count": 18
    }
   ],
   "source": [
    "np.hstack([y[i_class0_upsample], y[i_class1]])"
   ]
  },
  {
   "cell_type": "markdown",
   "metadata": {},
   "source": [
    "## 处理离群点"
   ]
  },
  {
   "cell_type": "code",
   "execution_count": 19,
   "metadata": {},
   "outputs": [
    {
     "output_type": "execute_result",
     "data": {
      "text/plain": "     Price  Bathrooms  Square_Feet\n0   534433        2.0         1500\n1   392333        3.5         2500\n2   293222        2.0         1500\n3  4322032      116.0        48000",
      "text/html": "<div>\n<style scoped>\n    .dataframe tbody tr th:only-of-type {\n        vertical-align: middle;\n    }\n\n    .dataframe tbody tr th {\n        vertical-align: top;\n    }\n\n    .dataframe thead th {\n        text-align: right;\n    }\n</style>\n<table border=\"1\" class=\"dataframe\">\n  <thead>\n    <tr style=\"text-align: right;\">\n      <th></th>\n      <th>Price</th>\n      <th>Bathrooms</th>\n      <th>Square_Feet</th>\n    </tr>\n  </thead>\n  <tbody>\n    <tr>\n      <th>0</th>\n      <td>534433</td>\n      <td>2.0</td>\n      <td>1500</td>\n    </tr>\n    <tr>\n      <th>1</th>\n      <td>392333</td>\n      <td>3.5</td>\n      <td>2500</td>\n    </tr>\n    <tr>\n      <th>2</th>\n      <td>293222</td>\n      <td>2.0</td>\n      <td>1500</td>\n    </tr>\n    <tr>\n      <th>3</th>\n      <td>4322032</td>\n      <td>116.0</td>\n      <td>48000</td>\n    </tr>\n  </tbody>\n</table>\n</div>"
     },
     "metadata": {},
     "execution_count": 19
    }
   ],
   "source": [
    "# 加载库\n",
    "import pandas as pd\n",
    "\n",
    "# 创建 DataFrame\n",
    "houses = pd.DataFrame()\n",
    "houses['Price'] = [534433, 392333, 293222, 4322032]\n",
    "houses['Bathrooms'] = [2, 3.5, 2, 116]\n",
    "houses['Square_Feet'] = [1500, 2500, 1500, 48000]\n",
    "\n",
    "houses"
   ]
  },
  {
   "cell_type": "code",
   "execution_count": 20,
   "metadata": {},
   "outputs": [
    {
     "output_type": "execute_result",
     "data": {
      "text/plain": "    Price  Bathrooms  Square_Feet\n0  534433        2.0         1500\n1  392333        3.5         2500\n2  293222        2.0         1500",
      "text/html": "<div>\n<style scoped>\n    .dataframe tbody tr th:only-of-type {\n        vertical-align: middle;\n    }\n\n    .dataframe tbody tr th {\n        vertical-align: top;\n    }\n\n    .dataframe thead th {\n        text-align: right;\n    }\n</style>\n<table border=\"1\" class=\"dataframe\">\n  <thead>\n    <tr style=\"text-align: right;\">\n      <th></th>\n      <th>Price</th>\n      <th>Bathrooms</th>\n      <th>Square_Feet</th>\n    </tr>\n  </thead>\n  <tbody>\n    <tr>\n      <th>0</th>\n      <td>534433</td>\n      <td>2.0</td>\n      <td>1500</td>\n    </tr>\n    <tr>\n      <th>1</th>\n      <td>392333</td>\n      <td>3.5</td>\n      <td>2500</td>\n    </tr>\n    <tr>\n      <th>2</th>\n      <td>293222</td>\n      <td>2.0</td>\n      <td>1500</td>\n    </tr>\n  </tbody>\n</table>\n</div>"
     },
     "metadata": {},
     "execution_count": 20
    }
   ],
   "source": [
    "# 1  丢弃\n",
    "houses[houses['Bathrooms']<20]"
   ]
  },
  {
   "cell_type": "code",
   "execution_count": 21,
   "metadata": {},
   "outputs": [
    {
     "output_type": "execute_result",
     "data": {
      "text/plain": "     Price  Bathrooms  Square_Feet  outlier\n0   534433        2.0         1500        0\n1   392333        3.5         2500        0\n2   293222        2.0         1500        0\n3  4322032      116.0        48000        1",
      "text/html": "<div>\n<style scoped>\n    .dataframe tbody tr th:only-of-type {\n        vertical-align: middle;\n    }\n\n    .dataframe tbody tr th {\n        vertical-align: top;\n    }\n\n    .dataframe thead th {\n        text-align: right;\n    }\n</style>\n<table border=\"1\" class=\"dataframe\">\n  <thead>\n    <tr style=\"text-align: right;\">\n      <th></th>\n      <th>Price</th>\n      <th>Bathrooms</th>\n      <th>Square_Feet</th>\n      <th>outlier</th>\n    </tr>\n  </thead>\n  <tbody>\n    <tr>\n      <th>0</th>\n      <td>534433</td>\n      <td>2.0</td>\n      <td>1500</td>\n      <td>0</td>\n    </tr>\n    <tr>\n      <th>1</th>\n      <td>392333</td>\n      <td>3.5</td>\n      <td>2500</td>\n      <td>0</td>\n    </tr>\n    <tr>\n      <th>2</th>\n      <td>293222</td>\n      <td>2.0</td>\n      <td>1500</td>\n      <td>0</td>\n    </tr>\n    <tr>\n      <th>3</th>\n      <td>4322032</td>\n      <td>116.0</td>\n      <td>48000</td>\n      <td>1</td>\n    </tr>\n  </tbody>\n</table>\n</div>"
     },
     "metadata": {},
     "execution_count": 21
    }
   ],
   "source": [
    "# 选择 2：标记\n",
    "houses['outlier'] = np.where(houses['Bathrooms'] < 20, 0, 1)\n",
    "houses"
   ]
  },
  {
   "cell_type": "code",
   "execution_count": 25,
   "metadata": {},
   "outputs": [
    {
     "output_type": "execute_result",
     "data": {
      "text/plain": "     Price  Bathrooms  Square_Feet  outlier  log_of_Square_Feet\n0   534433        2.0         1500        0            7.313220\n1   392333        3.5         2500        0            7.824046\n2   293222        2.0         1500        0            7.313220\n3  4322032      116.0        48000        1           10.778956",
      "text/html": "<div>\n<style scoped>\n    .dataframe tbody tr th:only-of-type {\n        vertical-align: middle;\n    }\n\n    .dataframe tbody tr th {\n        vertical-align: top;\n    }\n\n    .dataframe thead th {\n        text-align: right;\n    }\n</style>\n<table border=\"1\" class=\"dataframe\">\n  <thead>\n    <tr style=\"text-align: right;\">\n      <th></th>\n      <th>Price</th>\n      <th>Bathrooms</th>\n      <th>Square_Feet</th>\n      <th>outlier</th>\n      <th>log_of_Square_Feet</th>\n    </tr>\n  </thead>\n  <tbody>\n    <tr>\n      <th>0</th>\n      <td>534433</td>\n      <td>2.0</td>\n      <td>1500</td>\n      <td>0</td>\n      <td>7.313220</td>\n    </tr>\n    <tr>\n      <th>1</th>\n      <td>392333</td>\n      <td>3.5</td>\n      <td>2500</td>\n      <td>0</td>\n      <td>7.824046</td>\n    </tr>\n    <tr>\n      <th>2</th>\n      <td>293222</td>\n      <td>2.0</td>\n      <td>1500</td>\n      <td>0</td>\n      <td>7.313220</td>\n    </tr>\n    <tr>\n      <th>3</th>\n      <td>4322032</td>\n      <td>116.0</td>\n      <td>48000</td>\n      <td>1</td>\n      <td>10.778956</td>\n    </tr>\n  </tbody>\n</table>\n</div>"
     },
     "metadata": {},
     "execution_count": 25
    }
   ],
   "source": [
    "# 选择 3：重缩放\n",
    "houses['log_of_Square_Feet'] = np.log(houses['Square_Feet'])\n",
    "houses"
   ]
  },
  {
   "cell_type": "markdown",
   "metadata": {},
   "source": [
    "## 使用均值填充缺失值\n",
    "\n",
    "均值插补用该特征/变量的平均值替换缺失值。 平均插补是最“朴素”的插补方法之一，因为不像 k 最近邻居插补这样的更复杂的方法，它不会使用观测的信息来估计它的值。"
   ]
  },
  {
   "cell_type": "code",
   "execution_count": 30,
   "metadata": {},
   "outputs": [
    {
     "output_type": "execute_result",
     "data": {
      "text/plain": "       x0      x1\n0  0.3051     NaN\n1  0.4949  0.2654\n2  0.6974  0.2615\n3  0.3769  0.5846\n4  0.2231  0.4615\n5  0.3410  0.8308\n6  0.4436  0.4962\n7  0.5897  0.3269\n8  0.6308  0.5346\n9  0.5000  0.6731",
      "text/html": "<div>\n<style scoped>\n    .dataframe tbody tr th:only-of-type {\n        vertical-align: middle;\n    }\n\n    .dataframe tbody tr th {\n        vertical-align: top;\n    }\n\n    .dataframe thead th {\n        text-align: right;\n    }\n</style>\n<table border=\"1\" class=\"dataframe\">\n  <thead>\n    <tr style=\"text-align: right;\">\n      <th></th>\n      <th>x0</th>\n      <th>x1</th>\n    </tr>\n  </thead>\n  <tbody>\n    <tr>\n      <th>0</th>\n      <td>0.3051</td>\n      <td>NaN</td>\n    </tr>\n    <tr>\n      <th>1</th>\n      <td>0.4949</td>\n      <td>0.2654</td>\n    </tr>\n    <tr>\n      <th>2</th>\n      <td>0.6974</td>\n      <td>0.2615</td>\n    </tr>\n    <tr>\n      <th>3</th>\n      <td>0.3769</td>\n      <td>0.5846</td>\n    </tr>\n    <tr>\n      <th>4</th>\n      <td>0.2231</td>\n      <td>0.4615</td>\n    </tr>\n    <tr>\n      <th>5</th>\n      <td>0.3410</td>\n      <td>0.8308</td>\n    </tr>\n    <tr>\n      <th>6</th>\n      <td>0.4436</td>\n      <td>0.4962</td>\n    </tr>\n    <tr>\n      <th>7</th>\n      <td>0.5897</td>\n      <td>0.3269</td>\n    </tr>\n    <tr>\n      <th>8</th>\n      <td>0.6308</td>\n      <td>0.5346</td>\n    </tr>\n    <tr>\n      <th>9</th>\n      <td>0.5000</td>\n      <td>0.6731</td>\n    </tr>\n  </tbody>\n</table>\n</div>"
     },
     "metadata": {},
     "execution_count": 30
    }
   ],
   "source": [
    "import pandas as pd\n",
    "import numpy as np\n",
    "from sklearn.impute import SimpleImputer\n",
    "\n",
    "# 创建空数据集\n",
    "df = pd.DataFrame()\n",
    "\n",
    "# 创建两个变量，叫做 x0 和 x1\n",
    "# 使 x1 的第一个值为缺失值\n",
    "df['x0'] = [0.3051,0.4949,0.6974,0.3769,0.2231,0.341,0.4436,0.5897,0.6308,0.5]\n",
    "df['x1'] = [np.nan,0.2654,0.2615,0.5846,0.4615,0.8308,0.4962,0.3269,0.5346,0.6731]\n",
    "\n",
    "# 观察数据集\n",
    "df"
   ]
  },
  {
   "cell_type": "code",
   "execution_count": 32,
   "metadata": {},
   "outputs": [
    {
     "output_type": "execute_result",
     "data": {
      "text/plain": "array([[0.3051    , 0.49273333],\n       [0.4949    , 0.2654    ],\n       [0.6974    , 0.2615    ],\n       [0.3769    , 0.5846    ],\n       [0.2231    , 0.4615    ],\n       [0.341     , 0.8308    ],\n       [0.4436    , 0.4962    ],\n       [0.5897    , 0.3269    ],\n       [0.6308    , 0.5346    ],\n       [0.5       , 0.6731    ]])"
     },
     "metadata": {},
     "execution_count": 32
    }
   ],
   "source": [
    "imp_mean = SimpleImputer(missing_values=np.nan, strategy='mean')\n",
    "imp_mean.fit(df)\n",
    "imp_mean.transform(df)"
   ]
  },
  {
   "cell_type": "markdown",
   "metadata": {},
   "source": [
    "## 填充缺失的类标签"
   ]
  },
  {
   "cell_type": "code",
   "execution_count": 33,
   "metadata": {},
   "outputs": [
    {
     "output_type": "execute_result",
     "data": {
      "text/plain": "array([[ 0.  ,  2.1 ,  1.45],\n       [ 1.  ,  1.18,  1.33],\n       [ 0.  ,  1.22,  1.27],\n       [ 0.  , -0.21, -1.19],\n       [ 0.  ,  0.87,  1.31],\n       [ 0.  , -0.67, -0.22]])"
     },
     "metadata": {},
     "execution_count": 33
    }
   ],
   "source": [
    "X = np.array([[0, 2.10, 1.45], \n",
    "              [1, 1.18, 1.33], \n",
    "              [0, 1.22, 1.27],\n",
    "              [0, -0.21, -1.19],\n",
    "              [np.nan, 0.87, 1.31],\n",
    "              [np.nan, -0.67, -0.22]])\n",
    "# 使用最频繁的类别填充缺失值\n",
    "most_imputer = SimpleImputer(strategy='most_frequent')\n",
    "most_imputer.fit_transform(X)"
   ]
  },
  {
   "cell_type": "code",
   "execution_count": null,
   "metadata": {},
   "outputs": [],
   "source": []
  },
  {
   "cell_type": "markdown",
   "metadata": {},
   "source": [
    "## 使用 KNN 填充缺失类别"
   ]
  },
  {
   "cell_type": "code",
   "execution_count": 38,
   "metadata": {},
   "outputs": [
    {
     "output_type": "execute_result",
     "data": {
      "text/plain": "array([[ 0.  ,  0.87,  1.31],\n       [ 1.  , -0.67, -0.22],\n       [ 0.  ,  2.1 ,  1.45],\n       [ 1.  ,  1.18,  1.33],\n       [ 0.  ,  1.22,  1.27],\n       [ 1.  , -0.21, -1.19]])"
     },
     "metadata": {},
     "execution_count": 38
    }
   ],
   "source": [
    "# 加载库\n",
    "import numpy as np\n",
    "from sklearn.neighbors import KNeighborsClassifier\n",
    "\n",
    "# 创建带有类别特征的特征矩阵\n",
    "X = np.array([[0, 2.10, 1.45], \n",
    "              [1, 1.18, 1.33], \n",
    "              [0, 1.22, 1.27],\n",
    "              [1, -0.21, -1.19]])\n",
    "\n",
    "# 创建类别特征有缺失的特征矩阵\n",
    "X_with_nan = np.array([[np.nan, 0.87, 1.31], \n",
    "                       [np.nan, -0.67, -0.22]])\n",
    "\n",
    "# 训练 KNN 学习器\n",
    "clf = KNeighborsClassifier(3, weights='distance')\n",
    "trained_model = clf.fit(X[:,1:], X[:,0])\n",
    "\n",
    "# 预测缺失值的类别\n",
    "imputed_values = trained_model.predict(X_with_nan[:,1:])\n",
    "\n",
    "# 将预测分类的列和它们的其它特征连接\n",
    "X_with_imputed = np.hstack((imputed_values.reshape(-1,1), X_with_nan[:,1:]))\n",
    "\n",
    "# 连接两个特征矩阵\n",
    "np.vstack((X_with_imputed, X))"
   ]
  },
  {
   "cell_type": "markdown",
   "metadata": {},
   "source": [
    "## KNN 使用最相邻的数据填充"
   ]
  },
  {
   "cell_type": "code",
   "execution_count": 36,
   "metadata": {},
   "outputs": [
    {
     "output_type": "execute_result",
     "data": {
      "text/plain": "[[1, 2, nan], [3, 4, 3], [nan, 6, 5], [8, 8, 7]]"
     },
     "metadata": {},
     "execution_count": 36
    }
   ],
   "source": [
    "from sklearn.impute import KNNImputer\n",
    "nan = np.nan\n",
    "\n",
    "X = [[1, 2, nan], [3, 4, 3], [nan, 6, 5], [8, 8, 7]]\n",
    "X"
   ]
  },
  {
   "cell_type": "code",
   "execution_count": 37,
   "metadata": {},
   "outputs": [
    {
     "output_type": "execute_result",
     "data": {
      "text/plain": "array([[1. , 2. , 4. ],\n       [3. , 4. , 3. ],\n       [5.5, 6. , 5. ],\n       [8. , 8. , 7. ]])"
     },
     "metadata": {},
     "execution_count": 37
    }
   ],
   "source": [
    "imputer = KNNImputer(n_neighbors=2, weights='uniform')\n",
    "imputer.fit_transform(X)"
   ]
  },
  {
   "cell_type": "markdown",
   "metadata": {},
   "source": [
    "## 标准化"
   ]
  },
  {
   "cell_type": "code",
   "execution_count": 41,
   "metadata": {},
   "outputs": [
    {
     "output_type": "execute_result",
     "data": {
      "text/plain": "array([[0.70710678, 0.70710678],\n       [0.30782029, 0.95144452],\n       [0.07405353, 0.99725427],\n       [0.04733062, 0.99887928],\n       [0.95709822, 0.28976368]])"
     },
     "metadata": {},
     "execution_count": 41
    }
   ],
   "source": [
    "# normalizer 重缩放各个观侧，使其具有单位范数  x/ ||x||\n",
    "from sklearn.preprocessing import Normalizer\n",
    "import numpy as np\n",
    "X = np.array([[0.5, 0.5], \n",
    "              [1.1, 3.4], \n",
    "              [1.5, 20.2], \n",
    "              [1.63, 34.4], \n",
    "              [10.9, 3.3]])\n",
    "normalizer = Normalizer(norm='l2')\n",
    "normalizer.transform(X)"
   ]
  },
  {
   "cell_type": "code",
   "execution_count": 43,
   "metadata": {},
   "outputs": [
    {
     "output_type": "execute_result",
     "data": {
      "text/plain": "array([[0.        ],\n       [0.28571429],\n       [0.35714286],\n       [0.42857143],\n       [1.        ]])"
     },
     "metadata": {},
     "execution_count": 43
    }
   ],
   "source": [
    "# minmax scalar  (x -min) / (max -min)\n",
    "from sklearn.preprocessing import MinMaxScaler\n",
    "# 创建特征\n",
    "x = np.array([[-500.5], \n",
    "              [-100.1], \n",
    "              [0], \n",
    "              [100.1], \n",
    "              [900.9]])\n",
    "minmax_scale = MinMaxScaler(feature_range=(0,1))\n",
    "x_scaled = minmax_scale.fit_transform(x)\n",
    "x_scaled"
   ]
  },
  {
   "cell_type": "code",
   "execution_count": 44,
   "metadata": {},
   "outputs": [
    {
     "output_type": "execute_result",
     "data": {
      "text/plain": "array([[-1.26687088],\n       [-0.39316683],\n       [-0.17474081],\n       [ 0.0436852 ],\n       [ 1.79109332]])"
     },
     "metadata": {},
     "execution_count": 44
    }
   ],
   "source": [
    "# StandardScaler  0均值 1方差 (x - u)/ sigma\n",
    "from sklearn.preprocessing import StandardScaler\n",
    "# 创建特征\n",
    "x = np.array([[-500.5], \n",
    "              [-100.1], \n",
    "              [0], \n",
    "              [100.1], \n",
    "              [900.9]])\n",
    "scalar = StandardScaler()\n",
    "x_standardized = scalar.fit_transform(x)\n",
    "x_standardized"
   ]
  },
  {
   "cell_type": "code",
   "execution_count": null,
   "metadata": {},
   "outputs": [],
   "source": []
  }
 ]
}