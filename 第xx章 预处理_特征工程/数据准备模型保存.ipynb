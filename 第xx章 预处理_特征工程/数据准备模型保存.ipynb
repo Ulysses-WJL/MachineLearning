{
 "metadata": {
  "language_info": {
   "codemirror_mode": {
    "name": "ipython",
    "version": 3
   },
   "file_extension": ".py",
   "mimetype": "text/x-python",
   "name": "python",
   "nbconvert_exporter": "python",
   "pygments_lexer": "ipython3",
   "version": 3
  },
  "orig_nbformat": 2,
  "kernelspec": {
   "name": "python_defaultSpec_1597216998222",
   "display_name": "Python 3.7.6 64-bit ('base': conda)"
  }
 },
 "nbformat": 4,
 "nbformat_minor": 2,
 "cells": [
  {
   "cell_type": "markdown",
   "metadata": {},
   "source": [
    "# 数据准备"
   ]
  },
  {
   "cell_type": "code",
   "execution_count": 3,
   "metadata": {},
   "outputs": [
    {
     "output_type": "execute_result",
     "data": {
      "text/plain": "<3x4 sparse matrix of type '<class 'numpy.float64'>'\n\twith 6 stored elements in Compressed Sparse Row format>"
     },
     "metadata": {},
     "execution_count": 3
    }
   ],
   "source": [
    "# 从字典加载特征\n",
    "from sklearn.feature_extraction import DictVectorizer\n",
    "\n",
    "staff = [{'name': 'Steve Miller', 'age': 33.},\n",
    "         {'name': 'Lyndon Jones', 'age': 12.},\n",
    "         {'name': 'Baxter Morth', 'age': 18.}]\n",
    "\n",
    "vec = DictVectorizer()\n",
    "vec.fit_transform(staff)  # 稀疏矩阵"
   ]
  },
  {
   "cell_type": "code",
   "execution_count": 4,
   "metadata": {},
   "outputs": [
    {
     "output_type": "execute_result",
     "data": {
      "text/plain": "array([[33.,  0.,  0.,  1.],\n       [12.,  0.,  1.,  0.],\n       [18.,  1.,  0.,  0.]])"
     },
     "metadata": {},
     "execution_count": 4
    }
   ],
   "source": [
    "vec.fit_transform(staff).toarray()"
   ]
  },
  {
   "cell_type": "code",
   "execution_count": 2,
   "metadata": {},
   "outputs": [
    {
     "output_type": "execute_result",
     "data": {
      "text/plain": "['age', 'name=Baxter Morth', 'name=Lyndon Jones', 'name=Steve Miller']"
     },
     "metadata": {},
     "execution_count": 2
    }
   ],
   "source": [
    "# 特征名字\n",
    "vec.feature_names_"
   ]
  },
  {
   "cell_type": "markdown",
   "metadata": {},
   "source": [
    "# 保存机器学习模型\n",
    "\n",
    "在 scikit 中，有两种方式来保存模型以便将来使用：pickle 字符串和作为文件的 pickled 模型。"
   ]
  },
  {
   "cell_type": "code",
   "execution_count": 8,
   "metadata": {},
   "outputs": [
    {
     "output_type": "execute_result",
     "data": {
      "text/plain": "b'\\x80\\x03csklearn.linear_model._logistic\\nLogisticRegression\\nq\\x00)\\x81q\\x01}q\\x02(X\\x07\\x00\\x00\\x00penaltyq\\x03X\\x02\\x00\\x00\\x00l2q\\x04X\\x04\\x00\\x00\\x00dualq\\x05\\x89X\\x03\\x00\\x00\\x00tolq\\x06G?\\x1a6\\xe2\\xeb\\x1cC-X\\x01\\x00\\x00\\x00Cq\\x07G?\\xf0\\x00\\x00\\x00\\x00\\x00\\x00X\\r\\x00\\x00\\x00fit_interceptq\\x08\\x88X\\x11\\x00\\x00\\x00intercept_scalingq\\tK\\x01X\\x0c\\x00\\x00\\x00class_weightq\\nNX\\x0c\\x00\\x00\\x00random_stateq\\x0bK\\x00X\\x06\\x00\\x00\\x00solverq\\x0cX\\x05\\x00\\x00\\x00lbfgsq\\rX\\x08\\x00\\x00\\x00max_iterq\\x0eKdX\\x0b\\x00\\x00\\x00multi_classq\\x0fX\\x04\\x00\\x00\\x00autoq\\x10X\\x07\\x00\\x00\\x00verboseq\\x11K\\x00X\\n\\x00\\x00\\x00warm_startq\\x12\\x89X\\x06\\x00\\x00\\x00n_jobsq\\x13NX\\x08\\x00\\x00\\x00l1_ratioq\\x14NX\\x0e\\x00\\x00\\x00n_features_in_q\\x15K\\x04X\\x08\\x00\\x00\\x00classes_q\\x16cnumpy.core.multiarray\\n_reconstruct\\nq\\x17cnumpy\\nndarray\\nq\\x18K\\x00\\x85q\\x19C\\x01bq\\x1a\\x87q\\x1bRq\\x1c(K\\x01K\\x03\\x85q\\x1dcnumpy\\ndtype\\nq\\x1eX\\x02\\x00\\x00\\x00i8q\\x1fK\\x00K\\x01\\x87q Rq!(K\\x03X\\x01\\x00\\x00\\x00<q\"NNNJ\\xff\\xff\\xff\\xffJ\\xff\\xff\\xff\\xffK\\x00tq#b\\x89C\\x18\\x00\\x00\\x00\\x00\\x00\\x00\\x00\\x00\\x01\\x00\\x00\\x00\\x00\\x00\\x00\\x00\\x02\\x00\\x00\\x00\\x00\\x00\\x00\\x00q$tq%bX\\x05\\x00\\x00\\x00coef_q&h\\x17h\\x18K\\x00\\x85q\\'h\\x1a\\x87q(Rq)(K\\x01K\\x03K\\x04\\x86q*h\\x1eX\\x02\\x00\\x00\\x00f8q+K\\x00K\\x01\\x87q,Rq-(K\\x03h\"NNNJ\\xff\\xff\\xff\\xffJ\\xff\\xff\\xff\\xffK\\x00tq.b\\x89C`\\x9e\\xcbX\\x87\\xa5\\xc2\\xda\\xbf\\x1f^\\x8d\\x9b\\x9f\\xec\\xee?\\x96\\x9dV0\\xed+\\x04\\xc0W\\x0b\\xa8`\"X\\xf1\\xbf\\xfb\\xfe\\x06p\\'\\xfe\\xe0?\\xd8}\\xe3\\xce\\x1d \\xd4\\xbf\\xa7#\\xbe\\\\\\x03\\x80\\xc9\\xbf6\\xce\\xf0\\x1f\\xe0_\\xee\\xbf~\\xc1\\xd4b\\xa5\\xe6\\xbc\\xbfx\\x9f\\x1b\\xb4\\x90\\xdc\\xe4\\xbf\\n\\x80\"f\\xed\\xc3\\x05@49P8\\tD\\x00@q/tq0bX\\n\\x00\\x00\\x00intercept_q1h\\x17h\\x18K\\x00\\x85q2h\\x1a\\x87q3Rq4(K\\x01K\\x03\\x85q5h-\\x89C\\x18\\x8f\\xbd\\x88\\xdd\\xa6\\xad#@\\xf40\\xc7\\xc0\\\\\\xb7\\x01@\\x1c\\x8a\\xba\\r~\\x1b(\\xc0q6tq7bX\\x07\\x00\\x00\\x00n_iter_q8h\\x17h\\x18K\\x00\\x85q9h\\x1a\\x87q:Rq;(K\\x01K\\x01\\x85q<h\\x1eX\\x02\\x00\\x00\\x00i4q=K\\x00K\\x01\\x87q>Rq?(K\\x03h\"NNNJ\\xff\\xff\\xff\\xffJ\\xff\\xff\\xff\\xffK\\x00tq@b\\x89C\\x04d\\x00\\x00\\x00qAtqBbX\\x10\\x00\\x00\\x00_sklearn_versionqCX\\x06\\x00\\x00\\x000.23.1qDub.'"
     },
     "metadata": {},
     "execution_count": 8
    }
   ],
   "source": [
    "from sklearn.linear_model import LogisticRegression\n",
    "from sklearn import datasets\n",
    "import pickle\n",
    "import joblib\n",
    "\n",
    "# 加载鸢尾花数据\n",
    "iris = datasets.load_iris()\n",
    "\n",
    "# 创建特征矩阵 X，和向量 y\n",
    "X, y = iris.data, iris.target\n",
    "\n",
    "clf = LogisticRegression(random_state=0)\n",
    "clf.fit(X, y)\n",
    "# 将已训练的模型保存为 pickle 字符串\n",
    "saved_model = pickle.dumps(clf)\n",
    "saved_model"
   ]
  },
  {
   "cell_type": "code",
   "execution_count": 10,
   "metadata": {},
   "outputs": [
    {
     "output_type": "execute_result",
     "data": {
      "text/plain": "array([0, 0, 0, 0, 0, 0, 0, 0, 0, 0, 0, 0, 0, 0, 0, 0, 0, 0, 0, 0, 0, 0,\n       0, 0, 0, 0, 0, 0, 0, 0, 0, 0, 0, 0, 0, 0, 0, 0, 0, 0, 0, 0, 0, 0,\n       0, 0, 0, 0, 0, 0, 1, 1, 1, 1, 1, 1, 1, 1, 1, 1, 1, 1, 1, 1, 1, 1,\n       1, 1, 1, 1, 2, 1, 1, 1, 1, 1, 1, 2, 1, 1, 1, 1, 1, 2, 1, 1, 1, 1,\n       1, 1, 1, 1, 1, 1, 1, 1, 1, 1, 1, 1, 2, 2, 2, 2, 2, 2, 1, 2, 2, 2,\n       2, 2, 2, 2, 2, 2, 2, 2, 2, 2, 2, 2, 2, 2, 2, 2, 2, 2, 2, 2, 2, 2,\n       2, 2, 2, 2, 2, 2, 2, 2, 2, 2, 2, 2, 2, 2, 2, 2, 2, 2])"
     },
     "metadata": {},
     "execution_count": 10
    }
   ],
   "source": [
    "\n",
    "clf_from_pickle = pickle.loads(saved_model)\n",
    "clf_from_pickle.predict(X)"
   ]
  },
  {
   "cell_type": "code",
   "execution_count": 11,
   "metadata": {},
   "outputs": [
    {
     "output_type": "execute_result",
     "data": {
      "text/plain": "['logistic.pkl']"
     },
     "metadata": {},
     "execution_count": 11
    }
   ],
   "source": [
    "# 将模型作为 pickle 保存到文件\n",
    "joblib.dump(clf, 'logistic.pkl')"
   ]
  },
  {
   "cell_type": "code",
   "execution_count": 12,
   "metadata": {},
   "outputs": [
    {
     "output_type": "execute_result",
     "data": {
      "text/plain": "array([0, 0, 0, 0, 0, 0, 0, 0, 0, 0, 0, 0, 0, 0, 0, 0, 0, 0, 0, 0, 0, 0,\n       0, 0, 0, 0, 0, 0, 0, 0, 0, 0, 0, 0, 0, 0, 0, 0, 0, 0, 0, 0, 0, 0,\n       0, 0, 0, 0, 0, 0, 1, 1, 1, 1, 1, 1, 1, 1, 1, 1, 1, 1, 1, 1, 1, 1,\n       1, 1, 1, 1, 2, 1, 1, 1, 1, 1, 1, 2, 1, 1, 1, 1, 1, 2, 1, 1, 1, 1,\n       1, 1, 1, 1, 1, 1, 1, 1, 1, 1, 1, 1, 2, 2, 2, 2, 2, 2, 1, 2, 2, 2,\n       2, 2, 2, 2, 2, 2, 2, 2, 2, 2, 2, 2, 2, 2, 2, 2, 2, 2, 2, 2, 2, 2,\n       2, 2, 2, 2, 2, 2, 2, 2, 2, 2, 2, 2, 2, 2, 2, 2, 2, 2])"
     },
     "metadata": {},
     "execution_count": 12
    }
   ],
   "source": [
    "clf_from_joblib = joblib.load('logistic.pkl')\n",
    "clf_from_joblib.predict(X)"
   ]
  },
  {
   "cell_type": "code",
   "execution_count": null,
   "metadata": {},
   "outputs": [],
   "source": []
  }
 ]
}