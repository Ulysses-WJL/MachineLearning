{
 "metadata": {
  "language_info": {
   "codemirror_mode": {
    "name": "ipython",
    "version": 3
   },
   "file_extension": ".py",
   "mimetype": "text/x-python",
   "name": "python",
   "nbconvert_exporter": "python",
   "pygments_lexer": "ipython3",
   "version": "3.7.6-final"
  },
  "orig_nbformat": 2,
  "kernelspec": {
   "name": "python_defaultSpec_1597381316339",
   "display_name": "Python 3.7.6 64-bit ('base': conda)"
  }
 },
 "nbformat": 4,
 "nbformat_minor": 2,
 "cells": [
  {
   "cell_type": "code",
   "execution_count": 16,
   "metadata": {},
   "outputs": [],
   "source": [
    "import pandas as pd\n",
    "import numpy as np"
   ]
  },
  {
   "cell_type": "markdown",
   "metadata": {},
   "source": [
    "## 把日期和时间拆成多个特征"
   ]
  },
  {
   "cell_type": "code",
   "execution_count": 2,
   "metadata": {},
   "outputs": [
    {
     "output_type": "execute_result",
     "data": {
      "text/plain": "          date\n0   2001-01-07\n1   2001-01-14\n2   2001-01-21\n3   2001-01-28\n4   2001-02-04\n..         ...\n145 2003-10-19\n146 2003-10-26\n147 2003-11-02\n148 2003-11-09\n149 2003-11-16\n\n[150 rows x 1 columns]",
      "text/html": "<div>\n<style scoped>\n    .dataframe tbody tr th:only-of-type {\n        vertical-align: middle;\n    }\n\n    .dataframe tbody tr th {\n        vertical-align: top;\n    }\n\n    .dataframe thead th {\n        text-align: right;\n    }\n</style>\n<table border=\"1\" class=\"dataframe\">\n  <thead>\n    <tr style=\"text-align: right;\">\n      <th></th>\n      <th>date</th>\n    </tr>\n  </thead>\n  <tbody>\n    <tr>\n      <th>0</th>\n      <td>2001-01-07</td>\n    </tr>\n    <tr>\n      <th>1</th>\n      <td>2001-01-14</td>\n    </tr>\n    <tr>\n      <th>2</th>\n      <td>2001-01-21</td>\n    </tr>\n    <tr>\n      <th>3</th>\n      <td>2001-01-28</td>\n    </tr>\n    <tr>\n      <th>4</th>\n      <td>2001-02-04</td>\n    </tr>\n    <tr>\n      <th>...</th>\n      <td>...</td>\n    </tr>\n    <tr>\n      <th>145</th>\n      <td>2003-10-19</td>\n    </tr>\n    <tr>\n      <th>146</th>\n      <td>2003-10-26</td>\n    </tr>\n    <tr>\n      <th>147</th>\n      <td>2003-11-02</td>\n    </tr>\n    <tr>\n      <th>148</th>\n      <td>2003-11-09</td>\n    </tr>\n    <tr>\n      <th>149</th>\n      <td>2003-11-16</td>\n    </tr>\n  </tbody>\n</table>\n<p>150 rows × 1 columns</p>\n</div>"
     },
     "metadata": {},
     "execution_count": 2
    }
   ],
   "source": [
    "df = pd.DataFrame()\n",
    "df['date'] = pd.date_range('1/1/2001', periods=150, freq='w')  # 每个一星期\n",
    "df"
   ]
  },
  {
   "cell_type": "code",
   "execution_count": 5,
   "metadata": {
    "tags": []
   },
   "outputs": [
    {
     "output_type": "execute_result",
     "data": {
      "text/plain": "<pandas.core.indexes.accessors.DatetimeProperties object at 0x7fb2d194ae10>"
     },
     "metadata": {},
     "execution_count": 5
    }
   ],
   "source": [
    "df['date'].dt"
   ]
  },
  {
   "cell_type": "code",
   "execution_count": 9,
   "metadata": {},
   "outputs": [],
   "source": [
    "# 提取年 月 日等\n",
    "df['year'] = df['date'].dt.year\n",
    "df['month'] = df['date'].dt.month\n",
    "df['day'] = df.date.dt.day\n",
    "df['weekday'] = df.date.dt.weekday\n",
    "df['hour'] = df.date.dt.hour"
   ]
  },
  {
   "cell_type": "code",
   "execution_count": 11,
   "metadata": {},
   "outputs": [
    {
     "output_type": "execute_result",
     "data": {
      "text/plain": "        date  year  month  day  weekday  hour\n0 2001-01-07  2001      1    7        6     0\n1 2001-01-14  2001      1   14        6     0\n2 2001-01-21  2001      1   21        6     0",
      "text/html": "<div>\n<style scoped>\n    .dataframe tbody tr th:only-of-type {\n        vertical-align: middle;\n    }\n\n    .dataframe tbody tr th {\n        vertical-align: top;\n    }\n\n    .dataframe thead th {\n        text-align: right;\n    }\n</style>\n<table border=\"1\" class=\"dataframe\">\n  <thead>\n    <tr style=\"text-align: right;\">\n      <th></th>\n      <th>date</th>\n      <th>year</th>\n      <th>month</th>\n      <th>day</th>\n      <th>weekday</th>\n      <th>hour</th>\n    </tr>\n  </thead>\n  <tbody>\n    <tr>\n      <th>0</th>\n      <td>2001-01-07</td>\n      <td>2001</td>\n      <td>1</td>\n      <td>7</td>\n      <td>6</td>\n      <td>0</td>\n    </tr>\n    <tr>\n      <th>1</th>\n      <td>2001-01-14</td>\n      <td>2001</td>\n      <td>1</td>\n      <td>14</td>\n      <td>6</td>\n      <td>0</td>\n    </tr>\n    <tr>\n      <th>2</th>\n      <td>2001-01-21</td>\n      <td>2001</td>\n      <td>1</td>\n      <td>21</td>\n      <td>6</td>\n      <td>0</td>\n    </tr>\n  </tbody>\n</table>\n</div>"
     },
     "metadata": {},
     "execution_count": 11
    }
   ],
   "source": [
    "df.head(3)"
   ]
  },
  {
   "cell_type": "markdown",
   "metadata": {},
   "source": [
    "## 计算日期时间之间的差"
   ]
  },
  {
   "cell_type": "code",
   "execution_count": 12,
   "metadata": {},
   "outputs": [
    {
     "output_type": "execute_result",
     "data": {
      "text/plain": "0   0 days\n1   2 days\ndtype: timedelta64[ns]"
     },
     "metadata": {},
     "execution_count": 12
    }
   ],
   "source": [
    "df = pd.DataFrame()\n",
    "df['Arrived'] = [pd.Timestamp('01-01-2017'), pd.Timestamp('01-04-2017')]\n",
    "df['Left'] = [pd.Timestamp('01-01-2017'), pd.Timestamp('01-06-2017')]\n",
    "# 计算特征之间的间隔\n",
    "df['Left'] - df['Arrived']"
   ]
  },
  {
   "cell_type": "code",
   "execution_count": 14,
   "metadata": {},
   "outputs": [
    {
     "output_type": "execute_result",
     "data": {
      "text/plain": "0    0\n1    2\ndtype: int64"
     },
     "metadata": {},
     "execution_count": 14
    }
   ],
   "source": [
    "pd.Series(delta.days for delta in (df['Left'] - df['Arrived']))"
   ]
  },
  {
   "cell_type": "markdown",
   "metadata": {},
   "source": [
    "## 将字符串转换为日期\n",
    "\n",
    "\n",
    "```\n",
    "代码\t描述\t示例\n",
    "%Y\t整年\t2001\n",
    "%m\t零填充的月份\t04\n",
    "%d\t零填充的日期\t09\n",
    "%I\t零填充的小时（12 小时）\t02\n",
    "%p\tAM 或 PM\tAM\n",
    "%M\t零填充的分钟\t05\n",
    "%S\t零填充的秒钟\n",
    "```\n",
    "\n",
    "如果errors=\"coerce\"那么任何问题都不会产生错误（默认行为），而是将导致错误的值设置为NaT（即缺失值）。"
   ]
  },
  {
   "cell_type": "code",
   "execution_count": 17,
   "metadata": {},
   "outputs": [
    {
     "output_type": "execute_result",
     "data": {
      "text/plain": "[Timestamp('2005-04-03 23:35:00'),\n Timestamp('2010-05-23 00:01:00'),\n Timestamp('2009-09-04 21:09:00')]"
     },
     "metadata": {},
     "execution_count": 17
    }
   ],
   "source": [
    "date_strings = np.array(\n",
    "    ['03-04-2005 11:35 PM',\n",
    "     '23-05-2010 12:01 AM',\n",
    "     '04-09-2009 09:09 PM']\n",
    ")\n",
    "[pd.to_datetime(date, format=\"%d-%m-%Y %I:%M %p\") for date in date_strings]"
   ]
  },
  {
   "cell_type": "markdown",
   "metadata": {},
   "source": [
    "## 转换 pandas 列的时区"
   ]
  },
  {
   "cell_type": "code",
   "execution_count": 18,
   "metadata": {},
   "outputs": [
    {
     "output_type": "execute_result",
     "data": {
      "text/plain": "['Africa/Abidjan',\n 'Africa/Accra',\n 'Africa/Addis_Ababa',\n 'Africa/Algiers',\n 'Africa/Asmara',\n 'Africa/Asmera',\n 'Africa/Bamako',\n 'Africa/Bangui',\n 'Africa/Banjul',\n 'Africa/Bissau']"
     },
     "metadata": {},
     "execution_count": 18
    }
   ],
   "source": [
    "from pytz import all_timezones\n",
    "\n",
    "all_timezones[:10]"
   ]
  },
  {
   "cell_type": "code",
   "execution_count": 23,
   "metadata": {},
   "outputs": [
    {
     "output_type": "execute_result",
     "data": {
      "text/plain": "['US/Indiana-Starke',\n 'US/Michigan',\n 'US/Mountain',\n 'US/Pacific',\n 'US/Samoa',\n 'UTC',\n 'Universal',\n 'W-SU',\n 'WET',\n 'Zulu']"
     },
     "metadata": {},
     "execution_count": 23
    }
   ],
   "source": [
    "all_timezones[-10:]"
   ]
  },
  {
   "cell_type": "code",
   "execution_count": 19,
   "metadata": {},
   "outputs": [
    {
     "output_type": "execute_result",
     "data": {
      "text/plain": "0   2020-02-29\n1   2020-03-31\n2   2020-04-30\n3   2020-05-31\n4   2020-06-30\n5   2020-07-31\n6   2020-08-31\n7   2020-09-30\n8   2020-10-31\n9   2020-11-30\ndtype: datetime64[ns]"
     },
     "metadata": {},
     "execution_count": 19
    }
   ],
   "source": [
    "dates = pd.Series(pd.date_range('2020/2/2', periods=10, freq='M'))\n",
    "dates"
   ]
  },
  {
   "cell_type": "code",
   "execution_count": 21,
   "metadata": {},
   "outputs": [
    {
     "output_type": "execute_result",
     "data": {
      "text/plain": "0   2020-02-29 00:00:00+00:00\n1   2020-03-31 00:00:00+00:00\n2   2020-04-30 00:00:00+00:00\n3   2020-05-31 00:00:00+00:00\n4   2020-06-30 00:00:00+00:00\n5   2020-07-31 00:00:00+00:00\n6   2020-08-31 00:00:00+00:00\n7   2020-09-30 00:00:00+00:00\n8   2020-10-31 00:00:00+00:00\n9   2020-11-30 00:00:00+00:00\ndtype: datetime64[ns, Africa/Abidjan]"
     },
     "metadata": {},
     "execution_count": 21
    }
   ],
   "source": [
    "# 设置时区\n",
    "dates_with_Abidjan_time_zone = dates.dt.tz_localize('Africa/Abidjan')\n",
    "dates_with_Abidjan_time_zone"
   ]
  },
  {
   "cell_type": "code",
   "execution_count": 24,
   "metadata": {},
   "outputs": [
    {
     "output_type": "execute_result",
     "data": {
      "text/plain": "0   2020-02-28 16:00:00-08:00\n1   2020-03-30 17:00:00-07:00\n2   2020-04-29 17:00:00-07:00\n3   2020-05-30 17:00:00-07:00\n4   2020-06-29 17:00:00-07:00\n5   2020-07-30 17:00:00-07:00\n6   2020-08-30 17:00:00-07:00\n7   2020-09-29 17:00:00-07:00\n8   2020-10-30 17:00:00-07:00\n9   2020-11-29 16:00:00-08:00\ndtype: datetime64[ns, US/Pacific]"
     },
     "metadata": {},
     "execution_count": 24
    }
   ],
   "source": [
    "# 转换时区\n",
    "dates_with_Pacific_tz = dates_with_Abidjan_time_zone.dt.tz_convert('US/Pacific')\n",
    "dates_with_Pacific_tz"
   ]
  },
  {
   "cell_type": "markdown",
   "metadata": {},
   "source": [
    "## 编码星期"
   ]
  },
  {
   "cell_type": "code",
   "execution_count": 25,
   "metadata": {},
   "outputs": [
    {
     "output_type": "execute_result",
     "data": {
      "text/plain": "0   2002-02-28\n1   2002-03-31\n2   2002-04-30\ndtype: datetime64[ns]"
     },
     "metadata": {},
     "execution_count": 25
    }
   ],
   "source": [
    "# 创建数据集\n",
    "dates = pd.Series(pd.date_range('2/2/2002', periods=3, freq='M'))\n",
    "dates"
   ]
  },
  {
   "cell_type": "code",
   "execution_count": 32,
   "metadata": {},
   "outputs": [
    {
     "output_type": "execute_result",
     "data": {
      "text/plain": "0    3\n1    6\n2    1\ndtype: int64"
     },
     "metadata": {},
     "execution_count": 32
    }
   ],
   "source": [
    "dates.dt.dayofweek  # 一周里的第几天，Monday=0, Sunday=6"
   ]
  },
  {
   "cell_type": "code",
   "execution_count": 33,
   "metadata": {},
   "outputs": [
    {
     "output_type": "execute_result",
     "data": {
      "text/plain": "0    28\n1    31\n2    30\ndtype: int64"
     },
     "metadata": {},
     "execution_count": 33
    }
   ],
   "source": [
    "dates.dt.days_in_month"
   ]
  },
  {
   "cell_type": "code",
   "execution_count": null,
   "metadata": {},
   "outputs": [],
   "source": [
    "dates.dt.w"
   ]
  },
  {
   "cell_type": "markdown",
   "metadata": {},
   "source": [
    "## 处理时间序列中的缺失值"
   ]
  },
  {
   "cell_type": "code",
   "execution_count": 35,
   "metadata": {},
   "outputs": [
    {
     "output_type": "execute_result",
     "data": {
      "text/plain": "Empty DataFrame\nColumns: []\nIndex: [2010-01-31 00:00:00, 2010-02-28 00:00:00, 2010-03-31 00:00:00, 2010-04-30 00:00:00, 2010-05-31 00:00:00]",
      "text/html": "<div>\n<style scoped>\n    .dataframe tbody tr th:only-of-type {\n        vertical-align: middle;\n    }\n\n    .dataframe tbody tr th {\n        vertical-align: top;\n    }\n\n    .dataframe thead th {\n        text-align: right;\n    }\n</style>\n<table border=\"1\" class=\"dataframe\">\n  <thead>\n    <tr style=\"text-align: right;\">\n      <th></th>\n    </tr>\n  </thead>\n  <tbody>\n    <tr>\n      <th>2010-01-31</th>\n    </tr>\n    <tr>\n      <th>2010-02-28</th>\n    </tr>\n    <tr>\n      <th>2010-03-31</th>\n    </tr>\n    <tr>\n      <th>2010-04-30</th>\n    </tr>\n    <tr>\n      <th>2010-05-31</th>\n    </tr>\n  </tbody>\n</table>\n</div>"
     },
     "metadata": {},
     "execution_count": 35
    }
   ],
   "source": [
    "# 创建日期\n",
    "time_index = pd.date_range('01/01/2010', periods=5, freq='M')\n",
    "df = pd.DataFrame(index=time_index)\n",
    "df"
   ]
  },
  {
   "cell_type": "code",
   "execution_count": 36,
   "metadata": {},
   "outputs": [
    {
     "output_type": "execute_result",
     "data": {
      "text/plain": "            Sales\n2010-01-31    1.0\n2010-02-28    2.0\n2010-03-31    NaN\n2010-04-30    NaN\n2010-05-31    5.0",
      "text/html": "<div>\n<style scoped>\n    .dataframe tbody tr th:only-of-type {\n        vertical-align: middle;\n    }\n\n    .dataframe tbody tr th {\n        vertical-align: top;\n    }\n\n    .dataframe thead th {\n        text-align: right;\n    }\n</style>\n<table border=\"1\" class=\"dataframe\">\n  <thead>\n    <tr style=\"text-align: right;\">\n      <th></th>\n      <th>Sales</th>\n    </tr>\n  </thead>\n  <tbody>\n    <tr>\n      <th>2010-01-31</th>\n      <td>1.0</td>\n    </tr>\n    <tr>\n      <th>2010-02-28</th>\n      <td>2.0</td>\n    </tr>\n    <tr>\n      <th>2010-03-31</th>\n      <td>NaN</td>\n    </tr>\n    <tr>\n      <th>2010-04-30</th>\n      <td>NaN</td>\n    </tr>\n    <tr>\n      <th>2010-05-31</th>\n      <td>5.0</td>\n    </tr>\n  </tbody>\n</table>\n</div>"
     },
     "metadata": {},
     "execution_count": 36
    }
   ],
   "source": [
    "df['Sales'] = [1., 2., np.nan, np.nan, 5.]\n",
    "df"
   ]
  },
  {
   "cell_type": "code",
   "execution_count": 42,
   "metadata": {},
   "outputs": [
    {
     "output_type": "stream",
     "text": "\u001b[0;31mSignature:\u001b[0m\n\u001b[0mdf\u001b[0m\u001b[0;34m.\u001b[0m\u001b[0minterpolate\u001b[0m\u001b[0;34m(\u001b[0m\u001b[0;34m\u001b[0m\n\u001b[0;34m\u001b[0m    \u001b[0mmethod\u001b[0m\u001b[0;34m=\u001b[0m\u001b[0;34m'linear'\u001b[0m\u001b[0;34m,\u001b[0m\u001b[0;34m\u001b[0m\n\u001b[0;34m\u001b[0m    \u001b[0maxis\u001b[0m\u001b[0;34m=\u001b[0m\u001b[0;36m0\u001b[0m\u001b[0;34m,\u001b[0m\u001b[0;34m\u001b[0m\n\u001b[0;34m\u001b[0m    \u001b[0mlimit\u001b[0m\u001b[0;34m=\u001b[0m\u001b[0;32mNone\u001b[0m\u001b[0;34m,\u001b[0m\u001b[0;34m\u001b[0m\n\u001b[0;34m\u001b[0m    \u001b[0minplace\u001b[0m\u001b[0;34m=\u001b[0m\u001b[0;32mFalse\u001b[0m\u001b[0;34m,\u001b[0m\u001b[0;34m\u001b[0m\n\u001b[0;34m\u001b[0m    \u001b[0mlimit_direction\u001b[0m\u001b[0;34m=\u001b[0m\u001b[0;34m'forward'\u001b[0m\u001b[0;34m,\u001b[0m\u001b[0;34m\u001b[0m\n\u001b[0;34m\u001b[0m    \u001b[0mlimit_area\u001b[0m\u001b[0;34m=\u001b[0m\u001b[0;32mNone\u001b[0m\u001b[0;34m,\u001b[0m\u001b[0;34m\u001b[0m\n\u001b[0;34m\u001b[0m    \u001b[0mdowncast\u001b[0m\u001b[0;34m=\u001b[0m\u001b[0;32mNone\u001b[0m\u001b[0;34m,\u001b[0m\u001b[0;34m\u001b[0m\n\u001b[0;34m\u001b[0m    \u001b[0;34m**\u001b[0m\u001b[0mkwargs\u001b[0m\u001b[0;34m,\u001b[0m\u001b[0;34m\u001b[0m\n\u001b[0;34m\u001b[0m\u001b[0;34m)\u001b[0m\u001b[0;34m\u001b[0m\u001b[0;34m\u001b[0m\u001b[0m\n\u001b[0;31mDocstring:\u001b[0m\nInterpolate values according to different methods.\n\nPlease note that only ``method='linear'`` is supported for\nDataFrame/Series with a MultiIndex.\n\nParameters\n----------\nmethod : str, default 'linear'\n    Interpolation technique to use. One of:\n\n    * 'linear': Ignore the index and treat the values as equally\n      spaced. This is the only method supported on MultiIndexes.\n    * 'time': Works on daily and higher resolution data to interpolate\n      given length of interval.\n    * 'index', 'values': use the actual numerical values of the index.\n    * 'pad': Fill in NaNs using existing values.\n    * 'nearest', 'zero', 'slinear', 'quadratic', 'cubic', 'spline',\n      'barycentric', 'polynomial': Passed to\n      `scipy.interpolate.interp1d`. These methods use the numerical\n      values of the index.  Both 'polynomial' and 'spline' require that\n      you also specify an `order` (int), e.g.\n      ``df.interpolate(method='polynomial', order=5)``.\n    * 'krogh', 'piecewise_polynomial', 'spline', 'pchip', 'akima':\n      Wrappers around the SciPy interpolation methods of similar\n      names. See `Notes`.\n    * 'from_derivatives': Refers to\n      `scipy.interpolate.BPoly.from_derivatives` which\n      replaces 'piecewise_polynomial' interpolation method in\n      scipy 0.18.\naxis : {0 or 'index', 1 or 'columns', None}, default None\n    Axis to interpolate along.\nlimit : int, optional\n    Maximum number of consecutive NaNs to fill. Must be greater than\n    0.\ninplace : bool, default False\n    Update the data in place if possible.\nlimit_direction : {'forward', 'backward', 'both'}, default 'forward'\n    If limit is specified, consecutive NaNs will be filled in this\n    direction.\nlimit_area : {`None`, 'inside', 'outside'}, default None\n    If limit is specified, consecutive NaNs will be filled with this\n    restriction.\n\n    * ``None``: No fill restriction.\n    * 'inside': Only fill NaNs surrounded by valid values\n      (interpolate).\n    * 'outside': Only fill NaNs outside valid values (extrapolate).\n\n    .. versionadded:: 0.23.0\n\ndowncast : optional, 'infer' or None, defaults to None\n    Downcast dtypes if possible.\n**kwargs\n    Keyword arguments to pass on to the interpolating function.\n\nReturns\n-------\nSeries or DataFrame\n    Returns the same object type as the caller, interpolated at\n    some or all ``NaN`` values.\n\nSee Also\n--------\nfillna : Fill missing values using different methods.\nscipy.interpolate.Akima1DInterpolator : Piecewise cubic polynomials\n    (Akima interpolator).\nscipy.interpolate.BPoly.from_derivatives : Piecewise polynomial in the\n    Bernstein basis.\nscipy.interpolate.interp1d : Interpolate a 1-D function.\nscipy.interpolate.KroghInterpolator : Interpolate polynomial (Krogh\n    interpolator).\nscipy.interpolate.PchipInterpolator : PCHIP 1-d monotonic cubic\n    interpolation.\nscipy.interpolate.CubicSpline : Cubic spline data interpolator.\n\nNotes\n-----\nThe 'krogh', 'piecewise_polynomial', 'spline', 'pchip' and 'akima'\nmethods are wrappers around the respective SciPy implementations of\nsimilar names. These use the actual numerical values of the index.\nFor more information on their behavior, see the\n`SciPy documentation\n<http://docs.scipy.org/doc/scipy/reference/interpolate.html#univariate-interpolation>`__\nand `SciPy tutorial\n<http://docs.scipy.org/doc/scipy/reference/tutorial/interpolate.html>`__.\n\nExamples\n--------\nFilling in ``NaN`` in a :class:`~pandas.Series` via linear\ninterpolation.\n\n>>> s = pd.Series([0, 1, np.nan, 3])\n>>> s\n0    0.0\n1    1.0\n2    NaN\n3    3.0\ndtype: float64\n>>> s.interpolate()\n0    0.0\n1    1.0\n2    2.0\n3    3.0\ndtype: float64\n\nFilling in ``NaN`` in a Series by padding, but filling at most two\nconsecutive ``NaN`` at a time.\n\n>>> s = pd.Series([np.nan, \"single_one\", np.nan,\n...                \"fill_two_more\", np.nan, np.nan, np.nan,\n...                4.71, np.nan])\n>>> s\n0              NaN\n1       single_one\n2              NaN\n3    fill_two_more\n4              NaN\n5              NaN\n6              NaN\n7             4.71\n8              NaN\ndtype: object\n>>> s.interpolate(method='pad', limit=2)\n0              NaN\n1       single_one\n2       single_one\n3    fill_two_more\n4    fill_two_more\n5    fill_two_more\n6              NaN\n7             4.71\n8             4.71\ndtype: object\n\nFilling in ``NaN`` in a Series via polynomial interpolation or splines:\nBoth 'polynomial' and 'spline' methods require that you also specify\nan ``order`` (int).\n\n>>> s = pd.Series([0, 2, np.nan, 8])\n>>> s.interpolate(method='polynomial', order=2)\n0    0.000000\n1    2.000000\n2    4.666667\n3    8.000000\ndtype: float64\n\nFill the DataFrame forward (that is, going down) along each column\nusing linear interpolation.\n\nNote how the last entry in column 'a' is interpolated differently,\nbecause there is no entry after it to use for interpolation.\nNote how the first entry in column 'b' remains ``NaN``, because there\nis no entry before it to use for interpolation.\n\n>>> df = pd.DataFrame([(0.0, np.nan, -1.0, 1.0),\n...                    (np.nan, 2.0, np.nan, np.nan),\n...                    (2.0, 3.0, np.nan, 9.0),\n...                    (np.nan, 4.0, -4.0, 16.0)],\n...                   columns=list('abcd'))\n>>> df\n     a    b    c     d\n0  0.0  NaN -1.0   1.0\n1  NaN  2.0  NaN   NaN\n2  2.0  3.0  NaN   9.0\n3  NaN  4.0 -4.0  16.0\n>>> df.interpolate(method='linear', limit_direction='forward', axis=0)\n     a    b    c     d\n0  0.0  NaN -1.0   1.0\n1  1.0  2.0 -2.0   5.0\n2  2.0  3.0 -3.0   9.0\n3  2.0  4.0 -4.0  16.0\n\nUsing polynomial interpolation.\n\n>>> df['d'].interpolate(method='polynomial', order=2)\n0     1.0\n1     4.0\n2     9.0\n3    16.0\nName: d, dtype: float64\n\u001b[0;31mFile:\u001b[0m      ~/.local/lib/python3.7/site-packages/pandas/core/generic.py\n\u001b[0;31mType:\u001b[0m      method\n"
    }
   ],
   "source": [
    "df.interpolate?"
   ]
  },
  {
   "cell_type": "code",
   "execution_count": 37,
   "metadata": {},
   "outputs": [
    {
     "output_type": "execute_result",
     "data": {
      "text/plain": "            Sales\n2010-01-31    1.0\n2010-02-28    2.0\n2010-03-31    3.0\n2010-04-30    4.0\n2010-05-31    5.0",
      "text/html": "<div>\n<style scoped>\n    .dataframe tbody tr th:only-of-type {\n        vertical-align: middle;\n    }\n\n    .dataframe tbody tr th {\n        vertical-align: top;\n    }\n\n    .dataframe thead th {\n        text-align: right;\n    }\n</style>\n<table border=\"1\" class=\"dataframe\">\n  <thead>\n    <tr style=\"text-align: right;\">\n      <th></th>\n      <th>Sales</th>\n    </tr>\n  </thead>\n  <tbody>\n    <tr>\n      <th>2010-01-31</th>\n      <td>1.0</td>\n    </tr>\n    <tr>\n      <th>2010-02-28</th>\n      <td>2.0</td>\n    </tr>\n    <tr>\n      <th>2010-03-31</th>\n      <td>3.0</td>\n    </tr>\n    <tr>\n      <th>2010-04-30</th>\n      <td>4.0</td>\n    </tr>\n    <tr>\n      <th>2010-05-31</th>\n      <td>5.0</td>\n    </tr>\n  </tbody>\n</table>\n</div>"
     },
     "metadata": {},
     "execution_count": 37
    }
   ],
   "source": [
    "# 对缺失值执行插值\n",
    "df.interpolate()"
   ]
  },
  {
   "cell_type": "code",
   "execution_count": 39,
   "metadata": {},
   "outputs": [
    {
     "output_type": "execute_result",
     "data": {
      "text/plain": "            Sales\n2010-01-31    1.0\n2010-02-28    2.0\n2010-03-31    2.0\n2010-04-30    2.0\n2010-05-31    5.0",
      "text/html": "<div>\n<style scoped>\n    .dataframe tbody tr th:only-of-type {\n        vertical-align: middle;\n    }\n\n    .dataframe tbody tr th {\n        vertical-align: top;\n    }\n\n    .dataframe thead th {\n        text-align: right;\n    }\n</style>\n<table border=\"1\" class=\"dataframe\">\n  <thead>\n    <tr style=\"text-align: right;\">\n      <th></th>\n      <th>Sales</th>\n    </tr>\n  </thead>\n  <tbody>\n    <tr>\n      <th>2010-01-31</th>\n      <td>1.0</td>\n    </tr>\n    <tr>\n      <th>2010-02-28</th>\n      <td>2.0</td>\n    </tr>\n    <tr>\n      <th>2010-03-31</th>\n      <td>2.0</td>\n    </tr>\n    <tr>\n      <th>2010-04-30</th>\n      <td>2.0</td>\n    </tr>\n    <tr>\n      <th>2010-05-31</th>\n      <td>5.0</td>\n    </tr>\n  </tbody>\n</table>\n</div>"
     },
     "metadata": {},
     "execution_count": 39
    }
   ],
   "source": [
    "# 前向填充\n",
    "df.ffill()  # fillna` with ``method='ffill'``."
   ]
  },
  {
   "cell_type": "code",
   "execution_count": 41,
   "metadata": {},
   "outputs": [
    {
     "output_type": "execute_result",
     "data": {
      "text/plain": "            Sales\n2010-01-31    1.0\n2010-02-28    2.0\n2010-03-31    5.0\n2010-04-30    5.0\n2010-05-31    5.0",
      "text/html": "<div>\n<style scoped>\n    .dataframe tbody tr th:only-of-type {\n        vertical-align: middle;\n    }\n\n    .dataframe tbody tr th {\n        vertical-align: top;\n    }\n\n    .dataframe thead th {\n        text-align: right;\n    }\n</style>\n<table border=\"1\" class=\"dataframe\">\n  <thead>\n    <tr style=\"text-align: right;\">\n      <th></th>\n      <th>Sales</th>\n    </tr>\n  </thead>\n  <tbody>\n    <tr>\n      <th>2010-01-31</th>\n      <td>1.0</td>\n    </tr>\n    <tr>\n      <th>2010-02-28</th>\n      <td>2.0</td>\n    </tr>\n    <tr>\n      <th>2010-03-31</th>\n      <td>5.0</td>\n    </tr>\n    <tr>\n      <th>2010-04-30</th>\n      <td>5.0</td>\n    </tr>\n    <tr>\n      <th>2010-05-31</th>\n      <td>5.0</td>\n    </tr>\n  </tbody>\n</table>\n</div>"
     },
     "metadata": {},
     "execution_count": 41
    }
   ],
   "source": [
    "# 后填充\n",
    "df.bfill()"
   ]
  },
  {
   "cell_type": "code",
   "execution_count": 43,
   "metadata": {},
   "outputs": [
    {
     "output_type": "execute_result",
     "data": {
      "text/plain": "            Sales\n2010-01-31    1.0\n2010-02-28    2.0\n2010-03-31    3.0\n2010-04-30    NaN\n2010-05-31    5.0",
      "text/html": "<div>\n<style scoped>\n    .dataframe tbody tr th:only-of-type {\n        vertical-align: middle;\n    }\n\n    .dataframe tbody tr th {\n        vertical-align: top;\n    }\n\n    .dataframe thead th {\n        text-align: right;\n    }\n</style>\n<table border=\"1\" class=\"dataframe\">\n  <thead>\n    <tr style=\"text-align: right;\">\n      <th></th>\n      <th>Sales</th>\n    </tr>\n  </thead>\n  <tbody>\n    <tr>\n      <th>2010-01-31</th>\n      <td>1.0</td>\n    </tr>\n    <tr>\n      <th>2010-02-28</th>\n      <td>2.0</td>\n    </tr>\n    <tr>\n      <th>2010-03-31</th>\n      <td>3.0</td>\n    </tr>\n    <tr>\n      <th>2010-04-30</th>\n      <td>NaN</td>\n    </tr>\n    <tr>\n      <th>2010-05-31</th>\n      <td>5.0</td>\n    </tr>\n  </tbody>\n</table>\n</div>"
     },
     "metadata": {},
     "execution_count": 43
    }
   ],
   "source": [
    "df.interpolate(limit=1, limit_direction='forward')"
   ]
  },
  {
   "cell_type": "code",
   "execution_count": 45,
   "metadata": {},
   "outputs": [
    {
     "output_type": "execute_result",
     "data": {
      "text/plain": "            Sales\n2010-01-31    1.0\n2010-02-28    2.0\n2010-03-31    NaN\n2010-04-30    4.0\n2010-05-31    5.0",
      "text/html": "<div>\n<style scoped>\n    .dataframe tbody tr th:only-of-type {\n        vertical-align: middle;\n    }\n\n    .dataframe tbody tr th {\n        vertical-align: top;\n    }\n\n    .dataframe thead th {\n        text-align: right;\n    }\n</style>\n<table border=\"1\" class=\"dataframe\">\n  <thead>\n    <tr style=\"text-align: right;\">\n      <th></th>\n      <th>Sales</th>\n    </tr>\n  </thead>\n  <tbody>\n    <tr>\n      <th>2010-01-31</th>\n      <td>1.0</td>\n    </tr>\n    <tr>\n      <th>2010-02-28</th>\n      <td>2.0</td>\n    </tr>\n    <tr>\n      <th>2010-03-31</th>\n      <td>NaN</td>\n    </tr>\n    <tr>\n      <th>2010-04-30</th>\n      <td>4.0</td>\n    </tr>\n    <tr>\n      <th>2010-05-31</th>\n      <td>5.0</td>\n    </tr>\n  </tbody>\n</table>\n</div>"
     },
     "metadata": {},
     "execution_count": 45
    }
   ],
   "source": [
    "df.interpolate(limit=1, limit_direction='backward')"
   ]
  },
  {
   "cell_type": "markdown",
   "metadata": {},
   "source": [
    "## 平移时间特征"
   ]
  },
  {
   "cell_type": "code",
   "execution_count": 46,
   "metadata": {},
   "outputs": [
    {
     "output_type": "execute_result",
     "data": {
      "text/plain": "       dates  stock_price\n0 2001-01-01          1.1\n1 2001-01-02          2.2\n2 2001-01-03          3.3\n3 2001-01-04          4.4\n4 2001-01-05          5.5",
      "text/html": "<div>\n<style scoped>\n    .dataframe tbody tr th:only-of-type {\n        vertical-align: middle;\n    }\n\n    .dataframe tbody tr th {\n        vertical-align: top;\n    }\n\n    .dataframe thead th {\n        text-align: right;\n    }\n</style>\n<table border=\"1\" class=\"dataframe\">\n  <thead>\n    <tr style=\"text-align: right;\">\n      <th></th>\n      <th>dates</th>\n      <th>stock_price</th>\n    </tr>\n  </thead>\n  <tbody>\n    <tr>\n      <th>0</th>\n      <td>2001-01-01</td>\n      <td>1.1</td>\n    </tr>\n    <tr>\n      <th>1</th>\n      <td>2001-01-02</td>\n      <td>2.2</td>\n    </tr>\n    <tr>\n      <th>2</th>\n      <td>2001-01-03</td>\n      <td>3.3</td>\n    </tr>\n    <tr>\n      <th>3</th>\n      <td>2001-01-04</td>\n      <td>4.4</td>\n    </tr>\n    <tr>\n      <th>4</th>\n      <td>2001-01-05</td>\n      <td>5.5</td>\n    </tr>\n  </tbody>\n</table>\n</div>"
     },
     "metadata": {},
     "execution_count": 46
    }
   ],
   "source": [
    "df = pd.DataFrame()\n",
    "\n",
    "# 创建数据\n",
    "df['dates'] = pd.date_range('1/1/2001', periods=5, freq='D')\n",
    "df['stock_price'] = [1.1,2.2,3.3,4.4,5.5]\n",
    "df"
   ]
  },
  {
   "cell_type": "code",
   "execution_count": 48,
   "metadata": {},
   "outputs": [
    {
     "output_type": "execute_result",
     "data": {
      "text/plain": "       dates  stock_price  previous_day_stock_price\n0 2001-01-01          1.1                       NaN\n1 2001-01-02          2.2                       1.1\n2 2001-01-03          3.3                       2.2\n3 2001-01-04          4.4                       3.3\n4 2001-01-05          5.5                       4.4",
      "text/html": "<div>\n<style scoped>\n    .dataframe tbody tr th:only-of-type {\n        vertical-align: middle;\n    }\n\n    .dataframe tbody tr th {\n        vertical-align: top;\n    }\n\n    .dataframe thead th {\n        text-align: right;\n    }\n</style>\n<table border=\"1\" class=\"dataframe\">\n  <thead>\n    <tr style=\"text-align: right;\">\n      <th></th>\n      <th>dates</th>\n      <th>stock_price</th>\n      <th>previous_day_stock_price</th>\n    </tr>\n  </thead>\n  <tbody>\n    <tr>\n      <th>0</th>\n      <td>2001-01-01</td>\n      <td>1.1</td>\n      <td>NaN</td>\n    </tr>\n    <tr>\n      <th>1</th>\n      <td>2001-01-02</td>\n      <td>2.2</td>\n      <td>1.1</td>\n    </tr>\n    <tr>\n      <th>2</th>\n      <td>2001-01-03</td>\n      <td>3.3</td>\n      <td>2.2</td>\n    </tr>\n    <tr>\n      <th>3</th>\n      <td>2001-01-04</td>\n      <td>4.4</td>\n      <td>3.3</td>\n    </tr>\n    <tr>\n      <th>4</th>\n      <td>2001-01-05</td>\n      <td>5.5</td>\n      <td>4.4</td>\n    </tr>\n  </tbody>\n</table>\n</div>"
     },
     "metadata": {},
     "execution_count": 48
    }
   ],
   "source": [
    "df['previous_day_stock_price'] = df['stock_price'].shift(1)\n",
    "df"
   ]
  },
  {
   "cell_type": "code",
   "execution_count": 50,
   "metadata": {},
   "outputs": [
    {
     "output_type": "execute_result",
     "data": {
      "text/plain": "0    NaN\n1    1.1\n2    1.1\n3    1.1\n4    1.1\nName: stock_price, dtype: float64"
     },
     "metadata": {},
     "execution_count": 50
    }
   ],
   "source": [
    "df['stock_price'].diff()"
   ]
  },
  {
   "cell_type": "markdown",
   "metadata": {},
   "source": [
    "## 滑动时间窗口"
   ]
  },
  {
   "cell_type": "code",
   "execution_count": 52,
   "metadata": {},
   "outputs": [
    {
     "output_type": "execute_result",
     "data": {
      "text/plain": "            stock_price\n2020-01-31            1\n2020-02-29            2\n2020-03-31            3\n2020-04-30            4\n2020-05-31            5",
      "text/html": "<div>\n<style scoped>\n    .dataframe tbody tr th:only-of-type {\n        vertical-align: middle;\n    }\n\n    .dataframe tbody tr th {\n        vertical-align: top;\n    }\n\n    .dataframe thead th {\n        text-align: right;\n    }\n</style>\n<table border=\"1\" class=\"dataframe\">\n  <thead>\n    <tr style=\"text-align: right;\">\n      <th></th>\n      <th>stock_price</th>\n    </tr>\n  </thead>\n  <tbody>\n    <tr>\n      <th>2020-01-31</th>\n      <td>1</td>\n    </tr>\n    <tr>\n      <th>2020-02-29</th>\n      <td>2</td>\n    </tr>\n    <tr>\n      <th>2020-03-31</th>\n      <td>3</td>\n    </tr>\n    <tr>\n      <th>2020-04-30</th>\n      <td>4</td>\n    </tr>\n    <tr>\n      <th>2020-05-31</th>\n      <td>5</td>\n    </tr>\n  </tbody>\n</table>\n</div>"
     },
     "metadata": {},
     "execution_count": 52
    }
   ],
   "source": [
    "time_index = pd.date_range('01/01/2020', periods=5, freq='M')\n",
    "\n",
    "df = pd.DataFrame(index=time_index)\n",
    "df['stock_price'] = [1, 2, 3, 4, 5]\n",
    "df"
   ]
  },
  {
   "cell_type": "code",
   "execution_count": 53,
   "metadata": {},
   "outputs": [
    {
     "output_type": "execute_result",
     "data": {
      "text/plain": "            stock_price\n2020-01-31          NaN\n2020-02-29          1.5\n2020-03-31          2.5\n2020-04-30          3.5\n2020-05-31          4.5",
      "text/html": "<div>\n<style scoped>\n    .dataframe tbody tr th:only-of-type {\n        vertical-align: middle;\n    }\n\n    .dataframe tbody tr th {\n        vertical-align: top;\n    }\n\n    .dataframe thead th {\n        text-align: right;\n    }\n</style>\n<table border=\"1\" class=\"dataframe\">\n  <thead>\n    <tr style=\"text-align: right;\">\n      <th></th>\n      <th>stock_price</th>\n    </tr>\n  </thead>\n  <tbody>\n    <tr>\n      <th>2020-01-31</th>\n      <td>NaN</td>\n    </tr>\n    <tr>\n      <th>2020-02-29</th>\n      <td>1.5</td>\n    </tr>\n    <tr>\n      <th>2020-03-31</th>\n      <td>2.5</td>\n    </tr>\n    <tr>\n      <th>2020-04-30</th>\n      <td>3.5</td>\n    </tr>\n    <tr>\n      <th>2020-05-31</th>\n      <td>4.5</td>\n    </tr>\n  </tbody>\n</table>\n</div>"
     },
     "metadata": {},
     "execution_count": 53
    }
   ],
   "source": [
    "# 计算滑动均值\n",
    "df.rolling(window=2).mean()"
   ]
  },
  {
   "cell_type": "code",
   "execution_count": 54,
   "metadata": {},
   "outputs": [
    {
     "output_type": "execute_result",
     "data": {
      "text/plain": "            stock_price\n2020-01-31          NaN\n2020-02-29          2.0\n2020-03-31          3.0\n2020-04-30          4.0\n2020-05-31          5.0",
      "text/html": "<div>\n<style scoped>\n    .dataframe tbody tr th:only-of-type {\n        vertical-align: middle;\n    }\n\n    .dataframe tbody tr th {\n        vertical-align: top;\n    }\n\n    .dataframe thead th {\n        text-align: right;\n    }\n</style>\n<table border=\"1\" class=\"dataframe\">\n  <thead>\n    <tr style=\"text-align: right;\">\n      <th></th>\n      <th>stock_price</th>\n    </tr>\n  </thead>\n  <tbody>\n    <tr>\n      <th>2020-01-31</th>\n      <td>NaN</td>\n    </tr>\n    <tr>\n      <th>2020-02-29</th>\n      <td>2.0</td>\n    </tr>\n    <tr>\n      <th>2020-03-31</th>\n      <td>3.0</td>\n    </tr>\n    <tr>\n      <th>2020-04-30</th>\n      <td>4.0</td>\n    </tr>\n    <tr>\n      <th>2020-05-31</th>\n      <td>5.0</td>\n    </tr>\n  </tbody>\n</table>\n</div>"
     },
     "metadata": {},
     "execution_count": 54
    }
   ],
   "source": [
    "df.rolling(window=2).max()"
   ]
  },
  {
   "cell_type": "markdown",
   "metadata": {},
   "source": [
    "## 选择日期时间范围"
   ]
  },
  {
   "cell_type": "code",
   "execution_count": 56,
   "metadata": {},
   "outputs": [
    {
     "output_type": "execute_result",
     "data": {
      "text/plain": "                     date\n0     2001-01-01 00:00:00\n1     2001-01-01 01:00:00\n2     2001-01-01 02:00:00\n3     2001-01-01 03:00:00\n4     2001-01-01 04:00:00\n...                   ...\n99995 2012-05-29 11:00:00\n99996 2012-05-29 12:00:00\n99997 2012-05-29 13:00:00\n99998 2012-05-29 14:00:00\n99999 2012-05-29 15:00:00\n\n[100000 rows x 1 columns]",
      "text/html": "<div>\n<style scoped>\n    .dataframe tbody tr th:only-of-type {\n        vertical-align: middle;\n    }\n\n    .dataframe tbody tr th {\n        vertical-align: top;\n    }\n\n    .dataframe thead th {\n        text-align: right;\n    }\n</style>\n<table border=\"1\" class=\"dataframe\">\n  <thead>\n    <tr style=\"text-align: right;\">\n      <th></th>\n      <th>date</th>\n    </tr>\n  </thead>\n  <tbody>\n    <tr>\n      <th>0</th>\n      <td>2001-01-01 00:00:00</td>\n    </tr>\n    <tr>\n      <th>1</th>\n      <td>2001-01-01 01:00:00</td>\n    </tr>\n    <tr>\n      <th>2</th>\n      <td>2001-01-01 02:00:00</td>\n    </tr>\n    <tr>\n      <th>3</th>\n      <td>2001-01-01 03:00:00</td>\n    </tr>\n    <tr>\n      <th>4</th>\n      <td>2001-01-01 04:00:00</td>\n    </tr>\n    <tr>\n      <th>...</th>\n      <td>...</td>\n    </tr>\n    <tr>\n      <th>99995</th>\n      <td>2012-05-29 11:00:00</td>\n    </tr>\n    <tr>\n      <th>99996</th>\n      <td>2012-05-29 12:00:00</td>\n    </tr>\n    <tr>\n      <th>99997</th>\n      <td>2012-05-29 13:00:00</td>\n    </tr>\n    <tr>\n      <th>99998</th>\n      <td>2012-05-29 14:00:00</td>\n    </tr>\n    <tr>\n      <th>99999</th>\n      <td>2012-05-29 15:00:00</td>\n    </tr>\n  </tbody>\n</table>\n<p>100000 rows × 1 columns</p>\n</div>"
     },
     "metadata": {},
     "execution_count": 56
    }
   ],
   "source": [
    "df = pd.DataFrame()\n",
    "\n",
    "df['date'] = pd.date_range('01/01/2001', periods=100000, freq='H')\n",
    "df"
   ]
  },
  {
   "cell_type": "code",
   "execution_count": 57,
   "metadata": {},
   "outputs": [
    {
     "output_type": "execute_result",
     "data": {
      "text/plain": "                  date\n2  2001-01-01 02:00:00\n3  2001-01-01 03:00:00\n4  2001-01-01 04:00:00\n5  2001-01-01 05:00:00\n6  2001-01-01 06:00:00\n..                 ...\n93 2001-01-04 21:00:00\n94 2001-01-04 22:00:00\n95 2001-01-04 23:00:00\n96 2001-01-05 00:00:00\n97 2001-01-05 01:00:00\n\n[96 rows x 1 columns]",
      "text/html": "<div>\n<style scoped>\n    .dataframe tbody tr th:only-of-type {\n        vertical-align: middle;\n    }\n\n    .dataframe tbody tr th {\n        vertical-align: top;\n    }\n\n    .dataframe thead th {\n        text-align: right;\n    }\n</style>\n<table border=\"1\" class=\"dataframe\">\n  <thead>\n    <tr style=\"text-align: right;\">\n      <th></th>\n      <th>date</th>\n    </tr>\n  </thead>\n  <tbody>\n    <tr>\n      <th>2</th>\n      <td>2001-01-01 02:00:00</td>\n    </tr>\n    <tr>\n      <th>3</th>\n      <td>2001-01-01 03:00:00</td>\n    </tr>\n    <tr>\n      <th>4</th>\n      <td>2001-01-01 04:00:00</td>\n    </tr>\n    <tr>\n      <th>5</th>\n      <td>2001-01-01 05:00:00</td>\n    </tr>\n    <tr>\n      <th>6</th>\n      <td>2001-01-01 06:00:00</td>\n    </tr>\n    <tr>\n      <th>...</th>\n      <td>...</td>\n    </tr>\n    <tr>\n      <th>93</th>\n      <td>2001-01-04 21:00:00</td>\n    </tr>\n    <tr>\n      <th>94</th>\n      <td>2001-01-04 22:00:00</td>\n    </tr>\n    <tr>\n      <th>95</th>\n      <td>2001-01-04 23:00:00</td>\n    </tr>\n    <tr>\n      <th>96</th>\n      <td>2001-01-05 00:00:00</td>\n    </tr>\n    <tr>\n      <th>97</th>\n      <td>2001-01-05 01:00:00</td>\n    </tr>\n  </tbody>\n</table>\n<p>96 rows × 1 columns</p>\n</div>"
     },
     "metadata": {},
     "execution_count": 57
    }
   ],
   "source": [
    "# 选择两个日期时间之间的观测\n",
    "df[(df['date']>'2001-01-01 01:00:00') & (df['date']<'2001-01-05 02:00:00')]"
   ]
  },
  {
   "cell_type": "code",
   "execution_count": 58,
   "metadata": {},
   "outputs": [
    {
     "output_type": "execute_result",
     "data": {
      "text/plain": "                                   date\ndate                                   \n2001-01-01 00:00:00 2001-01-01 00:00:00\n2001-01-01 01:00:00 2001-01-01 01:00:00\n2001-01-01 02:00:00 2001-01-01 02:00:00\n2001-01-01 03:00:00 2001-01-01 03:00:00\n2001-01-01 04:00:00 2001-01-01 04:00:00\n...                                 ...\n2012-05-29 11:00:00 2012-05-29 11:00:00\n2012-05-29 12:00:00 2012-05-29 12:00:00\n2012-05-29 13:00:00 2012-05-29 13:00:00\n2012-05-29 14:00:00 2012-05-29 14:00:00\n2012-05-29 15:00:00 2012-05-29 15:00:00\n\n[100000 rows x 1 columns]",
      "text/html": "<div>\n<style scoped>\n    .dataframe tbody tr th:only-of-type {\n        vertical-align: middle;\n    }\n\n    .dataframe tbody tr th {\n        vertical-align: top;\n    }\n\n    .dataframe thead th {\n        text-align: right;\n    }\n</style>\n<table border=\"1\" class=\"dataframe\">\n  <thead>\n    <tr style=\"text-align: right;\">\n      <th></th>\n      <th>date</th>\n    </tr>\n    <tr>\n      <th>date</th>\n      <th></th>\n    </tr>\n  </thead>\n  <tbody>\n    <tr>\n      <th>2001-01-01 00:00:00</th>\n      <td>2001-01-01 00:00:00</td>\n    </tr>\n    <tr>\n      <th>2001-01-01 01:00:00</th>\n      <td>2001-01-01 01:00:00</td>\n    </tr>\n    <tr>\n      <th>2001-01-01 02:00:00</th>\n      <td>2001-01-01 02:00:00</td>\n    </tr>\n    <tr>\n      <th>2001-01-01 03:00:00</th>\n      <td>2001-01-01 03:00:00</td>\n    </tr>\n    <tr>\n      <th>2001-01-01 04:00:00</th>\n      <td>2001-01-01 04:00:00</td>\n    </tr>\n    <tr>\n      <th>...</th>\n      <td>...</td>\n    </tr>\n    <tr>\n      <th>2012-05-29 11:00:00</th>\n      <td>2012-05-29 11:00:00</td>\n    </tr>\n    <tr>\n      <th>2012-05-29 12:00:00</th>\n      <td>2012-05-29 12:00:00</td>\n    </tr>\n    <tr>\n      <th>2012-05-29 13:00:00</th>\n      <td>2012-05-29 13:00:00</td>\n    </tr>\n    <tr>\n      <th>2012-05-29 14:00:00</th>\n      <td>2012-05-29 14:00:00</td>\n    </tr>\n    <tr>\n      <th>2012-05-29 15:00:00</th>\n      <td>2012-05-29 15:00:00</td>\n    </tr>\n  </tbody>\n</table>\n<p>100000 rows × 1 columns</p>\n</div>"
     },
     "metadata": {},
     "execution_count": 58
    }
   ],
   "source": [
    "# 根据时间索引\n",
    "\n",
    "df = df.set_index(df['date'])\n",
    "df"
   ]
  },
  {
   "cell_type": "code",
   "execution_count": 59,
   "metadata": {},
   "outputs": [
    {
     "output_type": "execute_result",
     "data": {
      "text/plain": "                                   date\ndate                                   \n2001-01-01 01:00:00 2001-01-01 01:00:00\n2001-01-01 02:00:00 2001-01-01 02:00:00\n2001-01-01 03:00:00 2001-01-01 03:00:00\n2001-01-01 04:00:00 2001-01-01 04:00:00\n2001-01-01 05:00:00 2001-01-01 05:00:00",
      "text/html": "<div>\n<style scoped>\n    .dataframe tbody tr th:only-of-type {\n        vertical-align: middle;\n    }\n\n    .dataframe tbody tr th {\n        vertical-align: top;\n    }\n\n    .dataframe thead th {\n        text-align: right;\n    }\n</style>\n<table border=\"1\" class=\"dataframe\">\n  <thead>\n    <tr style=\"text-align: right;\">\n      <th></th>\n      <th>date</th>\n    </tr>\n    <tr>\n      <th>date</th>\n      <th></th>\n    </tr>\n  </thead>\n  <tbody>\n    <tr>\n      <th>2001-01-01 01:00:00</th>\n      <td>2001-01-01 01:00:00</td>\n    </tr>\n    <tr>\n      <th>2001-01-01 02:00:00</th>\n      <td>2001-01-01 02:00:00</td>\n    </tr>\n    <tr>\n      <th>2001-01-01 03:00:00</th>\n      <td>2001-01-01 03:00:00</td>\n    </tr>\n    <tr>\n      <th>2001-01-01 04:00:00</th>\n      <td>2001-01-01 04:00:00</td>\n    </tr>\n    <tr>\n      <th>2001-01-01 05:00:00</th>\n      <td>2001-01-01 05:00:00</td>\n    </tr>\n  </tbody>\n</table>\n</div>"
     },
     "metadata": {},
     "execution_count": 59
    }
   ],
   "source": [
    "df.loc['2001-01-01 01:00:00':'2001-01-01 05:00:00']"
   ]
  },
  {
   "cell_type": "code",
   "execution_count": null,
   "metadata": {},
   "outputs": [],
   "source": []
  }
 ]
}